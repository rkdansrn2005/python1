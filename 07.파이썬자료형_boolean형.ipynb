{
 "cells": [
  {
   "cell_type": "markdown",
   "metadata": {},
   "source": [
    "### 불(bool,boolean)자료형\n",
    "\n",
    "불 자료형이란 참과 거짓을 나타내는 자료형이다.\n",
    "불형은 2가지 값인 True, False값만 가질 수 있다.\n",
    "주의할 점은 True와 False는 파이썬의 예약어로서 첫글자는 반드시 대문자로 해야 한다."
   ]
  },
  {
   "cell_type": "code",
   "execution_count": 4,
   "metadata": {},
   "outputs": [
    {
     "name": "stdout",
     "output_type": "stream",
     "text": [
      "['__abs__', '__add__', '__and__', '__bool__', '__ceil__', '__class__', '__delattr__', '__dir__', '__divmod__', '__doc__', '__eq__', '__float__', '__floor__', '__floordiv__', '__format__', '__ge__', '__getattribute__', '__getnewargs__', '__gt__', '__hash__', '__index__', '__init__', '__init_subclass__', '__int__', '__invert__', '__le__', '__lshift__', '__lt__', '__mod__', '__mul__', '__ne__', '__neg__', '__new__', '__or__', '__pos__', '__pow__', '__radd__', '__rand__', '__rdivmod__', '__reduce__', '__reduce_ex__', '__repr__', '__rfloordiv__', '__rlshift__', '__rmod__', '__rmul__', '__ror__', '__round__', '__rpow__', '__rrshift__', '__rshift__', '__rsub__', '__rtruediv__', '__rxor__', '__setattr__', '__sizeof__', '__str__', '__sub__', '__subclasshook__', '__truediv__', '__trunc__', '__xor__', 'bit_length', 'conjugate', 'denominator', 'from_bytes', 'imag', 'numerator', 'real', 'to_bytes']\n"
     ]
    },
    {
     "data": {
      "text/plain": [
       "False"
      ]
     },
     "execution_count": 4,
     "metadata": {},
     "output_type": "execute_result"
    }
   ],
   "source": [
    "a = True # 반드시 앞글자가 대문자, \n",
    "print(dir(a))\n",
    "b = False\n",
    "\n",
    "1== 1 #True\n",
    "2<1   # False"
   ]
  },
  {
   "cell_type": "code",
   "execution_count": 13,
   "metadata": {
    "scrolled": true
   },
   "outputs": [
    {
     "name": "stdout",
     "output_type": "stream",
     "text": [
      "True\n",
      "False\n",
      "True\n",
      "\n",
      "True\n",
      "True\n",
      "True\n",
      "True\n",
      "False\n",
      "\n",
      "True\n",
      "False\n",
      "\n",
      "False\n",
      "<class 'NoneType'>\n"
     ]
    }
   ],
   "source": [
    "# 각 자료형의 True와 False\n",
    "# bool() 함수를 사용하여 각 자려형의 참과 거짓으로 형변환 할 수 있다.\n",
    "\n",
    "# 1. 문자열 : 값이 있으면 True, 값이 없으면 False\n",
    "print(bool('python')) # True\n",
    "print(bool(''))\n",
    "print(bool('0'))\n",
    "print()\n",
    "# 2. 리스트 or tuple : 값이 있으면 True, 값이 없으면 False\n",
    "print(bool([1,2,3]))\n",
    "print(bool((1,2,3)))\n",
    "print(bool({1,2,3}))\n",
    "print(bool({1:'d'}))\n",
    "print(bool([]))\n",
    "print()\n",
    "# 3. 숫자 : 0이면 false , 0이 아닌 모든 수는 True\n",
    "print(bool(1))\n",
    "print(bool(0))\n",
    "print()\n",
    "# 4. None : 값이 없는 상태이기 때문에 False\n",
    "print(bool())\n",
    "print(type(None))"
   ]
  }
 ],
 "metadata": {
  "kernelspec": {
   "display_name": "Python 3",
   "language": "python",
   "name": "python3"
  },
  "language_info": {
   "codemirror_mode": {
    "name": "ipython",
    "version": 3
   },
   "file_extension": ".py",
   "mimetype": "text/x-python",
   "name": "python",
   "nbconvert_exporter": "python",
   "pygments_lexer": "ipython3",
   "version": "3.7.6"
  }
 },
 "nbformat": 4,
 "nbformat_minor": 4
}
