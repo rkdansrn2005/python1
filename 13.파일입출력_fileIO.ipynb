{
 "cells": [
  {
   "cell_type": "markdown",
   "metadata": {},
   "source": [
    "### File의 Input / Output\n",
    "\n",
    "프로그램에서 중요한 처리중 하나인 파일에 대한 입출력이다. 파일에서 문자열을 읽고 쓰는 방법과\n",
    "파이썬 객체를 파일에 읽고 쓰기 위해서는 내장된 함수를 이용해서 처리한다.\n",
    "\n",
    "1. 파일을 생성하기 위해서는 open()이라는 내장함수를 이용한다.\n",
    "2. 기본문법\n",
    ">변수(파일객체) = open(파일이름, 열기모드, 인코딩)\n",
    "\n",
    "##### 1. 열기모드\n",
    "\n",
    "모드   설명<br>\n",
    "------ ----------------------------------------------------------<br>\n",
    "* r    읽기모드, 파일을 읽기만 허용\n",
    "* w    쓰기모드, 파일을 쓰기만 허용\n",
    "* a    추가모드, 파일의 맨 마지막에 새로운 내용을 추가\n",
    "* t    텍스트모드, 테그트파일로 처리(기본값)\n",
    "* b    이진모드, 이진(바이너리)파일로 처리\n",
    "\n",
    "* r+   읽기/쓰기 모드\n",
    "* w+   읽기/쓰기 모드 (기존파일 삭제)\n",
    "* a+   파일 끝에 추가(읽기도 가능)\n",
    "\n",
    "* rb+  이진파일로 읽고 쓰기\n",
    "* wb+  이진파일로 읽고 쓰기(기존파일 삭제)\n",
    "* ab+  이진파일 끝에 추가(읽기도 가능)\n",
    "\n",
    "예) rb ->  읽기 전용모드이면서 이진모드로 일기\n",
    "    w or wt -> 텍스트로 쓰기모드\n",
    "    \n",
    "(주의)\n",
    "파일을 쓰기모드로 열게 되면 기존파일의 전체내용이 삭제가 되고 없을 경우에 새로운 파일이 생성된다.\n",
    "\n",
    "<img src=\"./images/13.파일입출력_fileIO_01.png\" width=\"600\" height=\"400\">\n",
    "\n",
    "##### 2. 파일닫기\n",
    "\n",
    "1. 파일열기를 했다면 작업이 끝난 후에 close()함수를 호출하여 작업 프로세스에 할당된 자원을 해제하여야 한다.\n",
    "2. close()를 마지막에 호출하지 않으면 오픈된 파일객체가 다른 값으로 치환되거나 프로그램이 종료가 될 떄 자동으로 close()가 호출된다.\n",
    "3. 하지만, 명시적으로 close()를 호출하는 것이 좋다.\n",
    "\n",
    "##### 3. 파일접근방법\n",
    "\n",
    "1. 순차접근(기본값) : 파일을 맨 처음부터 맨 끝까지 순차적으로 읽는 방법\n",
    "2. 임의접근 : 파일내에 임의의 위치에서 파일의 내용을 읽거나 쓰는 방법\n",
    "   <임의접근을 하기 위해서는 file객체관련 포인터(pointer)관련 메서드\n",
    "   1) seek(n) : 파일의 가장 첫번째 위치에소 n번째 바이트로 포인터를 이동\n",
    "   2) tell()  : 파일내에 현재 포인터의 위치를 리턴\n",
    "\n",
    "##### 4. 파일객체관련 메서드\n",
    "\n",
    "* open() : 파일열기\n",
    "* close(): 파일닫기\n",
    "* read([size]) : 지정된 바이트크기(size)수 만큼 파일에서 읽기, size를 지정하지 않으면 전체파일을 잃어 온다.\n",
    "* readline() : 한 라인씩 읽기\n",
    "* readlines(): 전체라인을 readline()를 이용하여 읽어온 후에 리스트자료형으로 리턴\n",
    "* write(string) : 문자열(string)을 파일에 쓰기\n",
    "* writeline(list) : 문자열리스트를 파일에 쓰기, 주의할 점은 줄바꾸기가 자동으로 되지 않기 때문에 줄바꾸기 문자인 \"\\n\"을 라인 맨 끝에 추가해야 한다.\n",
    "* seek(offset[,whense]) : whens의 기본값은 0(0=시작기준, 1=현재위치, 2=파일의 끝), offset만큼 떨어진 위치에서 파일의 포인터를 이동한다.\n",
    "* tell() : 파일의 현재위치(포이터)를 리턴\n",
    "* flush() : 버퍼에 내용이 채워지지 않았어도 내부 버퍼전체내용을 파일에 전달\n",
    "* fileno() : 파일객체의 파일기술자(File Descriptor, 정수값)을 리턴"
   ]
  },
  {
   "cell_type": "markdown",
   "metadata": {},
   "source": [
    "##### 1. 파일읽기, 쓰기 기본문법"
   ]
  },
  {
   "cell_type": "code",
   "execution_count": 8,
   "metadata": {},
   "outputs": [],
   "source": [
    "# 파일열기\n",
    "# 변수명 = open(파일명, 열기모드, 인코딩)\n",
    "%pwd\n",
    "f = open('../data/newfile.txt', 'w')\n",
    "f.close()"
   ]
  },
  {
   "cell_type": "code",
   "execution_count": 10,
   "metadata": {},
   "outputs": [],
   "source": [
    "# 파일을 쓰기모드로 열고 텍스트를 쓰기(write()메서드사용)\n",
    "%pwd\n",
    "f = open('../data/newfile.txt', 'w', encoding=\"utf-8\")\n",
    "for i in range(1, 11):\n",
    "    data = 'UTF-8 %2d번째 라인 입니다....\\n' % i\n",
    "    f.write(data)\n",
    "f.close()"
   ]
  },
  {
   "cell_type": "markdown",
   "metadata": {},
   "source": [
    "##### 2. 파일읽기"
   ]
  },
  {
   "cell_type": "code",
   "execution_count": 11,
   "metadata": {},
   "outputs": [
    {
     "name": "stdout",
     "output_type": "stream",
     "text": [
      "UTF-8  1번째 라인 입니다....\n",
      "\n",
      "<class '_io.TextIOWrapper'>\n",
      "<class 'str'>\n"
     ]
    }
   ],
   "source": [
    "# 1. 외부에서 저장된 파일읽기(1) : readline()\n",
    "# f.readline?\n",
    "f = open('../data/newfile.txt', 'r', encoding=\"utf-8\")\n",
    "line = f.readline()\n",
    "f.close()\n",
    "print(line)\n",
    "print(type(f))\n",
    "print(type(line))"
   ]
  },
  {
   "cell_type": "code",
   "execution_count": 12,
   "metadata": {},
   "outputs": [
    {
     "name": "stdout",
     "output_type": "stream",
     "text": [
      "UTF-8  1번째 라인 입니다....\n",
      "\n",
      "UTF-8  2번째 라인 입니다....\n",
      "\n",
      "UTF-8  3번째 라인 입니다....\n",
      "\n",
      "UTF-8  4번째 라인 입니다....\n",
      "\n",
      "UTF-8  5번째 라인 입니다....\n",
      "\n",
      "UTF-8  6번째 라인 입니다....\n",
      "\n",
      "UTF-8  7번째 라인 입니다....\n",
      "\n",
      "UTF-8  8번째 라인 입니다....\n",
      "\n",
      "UTF-8  9번째 라인 입니다....\n",
      "\n",
      "UTF-8 10번째 라인 입니다....\n",
      "\n"
     ]
    }
   ],
   "source": [
    "# 2. 외부에서 저장된 파일읽기(2) : readline() & while\n",
    "f = open('../data/newfile.txt', 'r', encoding=\"utf-8\")\n",
    "while True:\n",
    "    line = f.readline()\n",
    "    if not line: break\n",
    "    print(line)\n",
    "f.close()"
   ]
  },
  {
   "cell_type": "code",
   "execution_count": 36,
   "metadata": {},
   "outputs": [
    {
     "name": "stdout",
     "output_type": "stream",
     "text": [
      "<class 'list'>\n",
      "UTF-8  1번째 라인 입니다....\n",
      "\n",
      "UTF-8  2번째 라인 입니다....\n",
      "\n",
      "UTF-8  3번째 라인 입니다....\n",
      "\n",
      "UTF-8  4번째 라인 입니다....\n",
      "\n",
      "UTF-8  5번째 라인 입니다....\n",
      "\n",
      "UTF-8  6번째 라인 입니다....\n",
      "\n",
      "UTF-8  7번째 라인 입니다....\n",
      "\n",
      "UTF-8  8번째 라인 입니다....\n",
      "\n",
      "UTF-8  9번째 라인 입니다....\n",
      "\n",
      "UTF-8 10번째 라인 입니다....\n",
      "\n"
     ]
    }
   ],
   "source": [
    "# 3. 외부에서 저장된 파일읽기(3) : readlines()\n",
    "# f.readlines?\n",
    "f = open('../data/newfile.txt', 'r', encoding=\"utf-8\")\n",
    "lines = f.readlines()\n",
    "f.close()\n",
    "# print(lines)\n",
    "print(type(lines))\n",
    "\n",
    "for line in lines:\n",
    "    print(line)"
   ]
  },
  {
   "cell_type": "code",
   "execution_count": 14,
   "metadata": {},
   "outputs": [
    {
     "name": "stdout",
     "output_type": "stream",
     "text": [
      "UTF-8  1번째 라인 입니다....\n",
      "UTF-8  2번째 라인 입니다....\n",
      "UTF-8  3번째 라인 입니다....\n",
      "UTF-8  4번째 라인 입니다....\n",
      "UTF-8  5번째 라인 입니다....\n",
      "UTF-8  6번째 라인 입니다....\n",
      "UTF-8  7번째 라인 입니다....\n",
      "UTF-8  8번째 라인 입니다....\n",
      "UTF-8  9번째 라인 입니다....\n",
      "UTF-8 10번째 라인 입니다....\n",
      "\n",
      "<class 'str'>\n"
     ]
    }
   ],
   "source": [
    "# 4. 외부에서 저장된 파일읽기(4) : read()\n",
    "# read()함수는 파일 내용전체를 문자열로 리턴하는 함수\n",
    "f = open('../data/newfile.txt', 'r', encoding=\"utf-8\")\n",
    "data = f.read()\n",
    "f.close()\n",
    "print(data)\n",
    "print(type(data))"
   ]
  },
  {
   "cell_type": "markdown",
   "metadata": {},
   "source": [
    "##### 3. 파일쓰기"
   ]
  },
  {
   "cell_type": "code",
   "execution_count": 40,
   "metadata": {},
   "outputs": [
    {
     "name": "stdout",
     "output_type": "stream",
     "text": [
      "UTF-8  1번째 라인 입니다....\n",
      "UTF-8  2번째 라인 입니다....\n",
      "UTF-8  3번째 라인 입니다....\n",
      "UTF-8  4번째 라인 입니다....\n",
      "UTF-8  5번째 라인 입니다....\n",
      "UTF-8  6번째 라인 입니다....\n",
      "UTF-8  7번째 라인 입니다....\n",
      "UTF-8  8번째 라인 입니다....\n",
      "UTF-8  9번째 라인 입니다....\n",
      "UTF-8 10번째 라인 입니다....\n",
      "11 번째 라인입니다 \n",
      "12 번째 라인입니다 \n",
      "13 번째 라인입니다 \n",
      "14 번째 라인입니다 \n",
      "15 번째 라인입니다 \n",
      "16 번째 라인입니다 \n",
      "17 번째 라인입니다 \n",
      "18 번째 라인입니다 \n",
      "19 번째 라인입니다 \n",
      "20 번째 라인입니다 \n",
      "11 번째 라인입니다 \n",
      "12 번째 라인입니다 \n",
      "13 번째 라인입니다 \n",
      "14 번째 라인입니다 \n",
      "15 번째 라인입니다 \n",
      "16 번째 라인입니다 \n",
      "17 번째 라인입니다 \n",
      "18 번째 라인입니다 \n",
      "19 번째 라인입니다 \n",
      "20 번째 라인입니다 \n",
      "11 번째 라인입니다 \n",
      "12 번째 라인입니다 \n",
      "13 번째 라인입니다 \n",
      "14 번째 라인입니다 \n",
      "15 번째 라인입니다 \n",
      "16 번째 라인입니다 \n",
      "17 번째 라인입니다 \n",
      "18 번째 라인입니다 \n",
      "19 번째 라인입니다 \n",
      "20 번째 라인입니다 \n",
      "11 번째 라인입니다 \n",
      "12 번째 라인입니다 \n",
      "13 번째 라인입니다 \n",
      "14 번째 라인입니다 \n",
      "15 번째 라인입니다 \n",
      "16 번째 라인입니다 \n",
      "17 번째 라인입니다 \n",
      "18 번째 라인입니다 \n",
      "19 번째 라인입니다 \n",
      "20 번째 라인입니다 \n",
      "\n"
     ]
    }
   ],
   "source": [
    "# 1. 추가모드(a) : 기존 파일에 새로운 내용을 추가, 파일이 없다면 생성한 후에 추가\n",
    "f = open('../data/newfile.txt', 'a', encoding=\"utf-8\")\n",
    "for i in range(11, 21):\n",
    "    data = \"%2d 번째 라인입니다 \\n\" % i\n",
    "    f.write(data)\n",
    "f.close()"
   ]
  },
  {
   "cell_type": "code",
   "execution_count": 17,
   "metadata": {},
   "outputs": [],
   "source": [
    "# 2. with문 사용 : 오픈된 파일을 자동으로 close하기\n",
    "# with문은 v2.5부터 지원하는 함수\n",
    "# 파일을 오픈하면 항상 close해주는 것이 좋다. 하지만 매번 열고 닫는 것을 자동으로\n",
    "# 처리할 수 있는데 파이썬의 with문이 이런 역할을 해 준다.\n",
    "\n",
    "filename = '../data/newfile1.txt'\n",
    "with open(filename, 'w', encoding=\"utf-8\") as f:\n",
    "    f.write('안녕? 파이썬아?')"
   ]
  },
  {
   "cell_type": "markdown",
   "metadata": {},
   "source": [
    "##### 4. 파일객체 관련 함수"
   ]
  },
  {
   "cell_type": "code",
   "execution_count": 16,
   "metadata": {},
   "outputs": [
    {
     "name": "stdout",
     "output_type": "stream",
     "text": [
      "UTF-8  1번째 라인 입니다....\n",
      "UTF-8  2번째 라인 입니다....\n",
      "UTF-8  3번째 라인 입니다....\n",
      "UTF-8  4번째 라인 입니다....\n",
      "UTF-8  5번째 라인 입니다....\n",
      "UTF-8  6번째 라인 입니다....\n",
      "UTF-8  7번째 라인 입니다....\n",
      "UTF-8  8번째 라인 입니다....\n",
      "UTF-8  9번째 라인 입니다....\n",
      "UTF-8 10번째 라인 입니다....\n",
      "\n",
      "----------------------------------------------------------------------\n",
      "22\n",
      "370\n",
      "  1번째 라인 입니다....\n",
      "\n",
      "37\n"
     ]
    }
   ],
   "source": [
    "# seek(), tell() : 임의접근 함수\n",
    "# f.seek(n) or f.seek(n, 0) : 파일의 맨 처음위치에서 n번째로 이동후에 파일 읽기\n",
    "# f.seek(n, 1) : 현재위치\n",
    "# f.seek(n, 2) : 파일의 맨 끝\n",
    "# f.tell()\n",
    "f = open('../data/newfile.txt', 'r', encoding=\"utf-8\")\n",
    "for line in f:\n",
    "    print(line, end='')\n",
    "print()    \n",
    "print('-'*70)   \n",
    "\n",
    "print(len(line))\n",
    "print(f.tell()) # 파일의 현재위치를 리턴\n",
    "\n",
    "f.seek(5, 0)\n",
    "line = f.readline()\n",
    "print(line)\n",
    "print(f.tell())"
   ]
  },
  {
   "cell_type": "markdown",
   "metadata": {},
   "source": [
    "##### 5. 파일 저장하기"
   ]
  },
  {
   "cell_type": "code",
   "execution_count": 15,
   "metadata": {},
   "outputs": [
    {
     "name": "stdout",
     "output_type": "stream",
     "text": [
      "<class '_io.TextIOWrapper'>\n",
      "<class 'list'>\n",
      "['UTF-8  1번째 라인 입니다....\\n', 'UTF-8  2번째 라인 입니다....\\n', 'UTF-8  3번째 라인 입니다....\\n', 'UTF-8  4번째 라인 입니다....\\n', 'UTF-8  5번째 라인 입니다....\\n', 'UTF-8  6번째 라인 입니다....\\n', 'UTF-8  7번째 라인 입니다....\\n', 'UTF-8  8번째 라인 입니다....\\n', 'UTF-8  9번째 라인 입니다....\\n', 'UTF-8 10번째 라인 입니다....\\n']\n"
     ]
    }
   ],
   "source": [
    "# 1. 파일의 내용을 list로 저장하는 방법\n",
    "f = open('../data/newfile.txt', 'r', encoding=\"utf-8\")\n",
    "print(type(f))\n",
    "\n",
    "# 자료변환 함수 : list, tuple, int()\n",
    "f_list = list(f)\n",
    "print(type(f_list))\n",
    "print(f_list)\n",
    "f.close()"
   ]
  },
  {
   "cell_type": "code",
   "execution_count": 21,
   "metadata": {},
   "outputs": [
    {
     "name": "stdout",
     "output_type": "stream",
     "text": [
      "10\n",
      "csv 파일 추가 완료!!!\n"
     ]
    }
   ],
   "source": [
    "# 2. csv 파일로 저장하는 방법\n",
    "\n",
    "# 실행할 때마다 텍스트파일에 내용을 추가\n",
    "nums=[0,1,2,3,4,5,6,7,8,9]\n",
    "count= len(nums)\n",
    "print(count)\n",
    "\n",
    "output_file ='../data/result.csv'\n",
    "f = open(output_file, 'a', encoding='utf-8')\n",
    "for i in range(count):\n",
    "    if i < (count-1):\n",
    "        f.write(str(nums[i])+',')\n",
    "    else:\n",
    "        f.write(str(nums[i])+'\\n')\n",
    "f.close()\n",
    "print('csv 파일 추가 완료!!!')"
   ]
  },
  {
   "cell_type": "markdown",
   "metadata": {},
   "source": [
    "##### 6. 파이썬 객체를 파일에 저장하기, 불러오기\n",
    "\n",
    "###### 1) pickle 모듈 \n",
    "\n",
    "* 일반 텍스트를 저장할 경우에는 파일을 이용해서 저장한다.\n",
    "* 하지만, list, 클래스(class)같은 텍스트가 아닌 자료형은 일반적인 파일 입출력방법으로는 데이터를 저장하거나불러올 수 없다.\n",
    "* 파이썬에서는 이와 같은 텍스트 이외의 자료형을 파일로 저장하기 위하여 <code>pickle</code>이라는 모듈을 사용한다.\n",
    "* pickle을 활용하여 데이터 입력 및 로드하기 위해서는 <code>import pickle</code>로 모듈을 import를 해야 한다.\n",
    "* pickle을 이용하면 원하는 데이터를 자료형의 변경없이 파일로 저장하여 그대로 로드할 수가 있다.\n",
    "* pickle로 데이터를 저장히거나 불러올 때는 파일을 <code>바이트형식</code>으로 읽거나 서야한다. 즉 <code>rb, wb</code>모드로 파일을 오픈해야 한다.\n",
    "* <code>wb</code>로 데이터를 저장할 경우에는 관례적으로 확장자를 <code>bin</code>으로 사용한다.\n",
    "* 모든 파이썬의 데이터 객체를 저장하거나 불러올 수 있다.\n",
    "\n",
    "###### 2) pickle 모듈 사용하기\n",
    "\n",
    "1. 쓰기 : pickle.dump(data, file)\n",
    "2. 읽기 : pickle.load(file) or load() 함수로 파일을 불러오는데 파일의 내용을 읽어 오려면 pickle.dump()함수를 사용해서 생성된 파일이어야만 한다."
   ]
  },
  {
   "cell_type": "code",
   "execution_count": 27,
   "metadata": {},
   "outputs": [
    {
     "name": "stdout",
     "output_type": "stream",
     "text": [
      "<class 'bytes'>\n",
      "b'\\x01\\x02\\x03\\x04\\x05\\x06\\x07\\x08\\t\\n'\n",
      "1,2,3,4,5,6,7,8,9,10,"
     ]
    },
    {
     "ename": "TypeError",
     "evalue": "'str' object cannot be interpreted as an integer",
     "output_type": "error",
     "traceback": [
      "\u001b[1;31m---------------------------------------------------------------------------\u001b[0m",
      "\u001b[1;31mTypeError\u001b[0m                                 Traceback (most recent call last)",
      "\u001b[1;32m<ipython-input-27-58fbd1242487>\u001b[0m in \u001b[0;36m<module>\u001b[1;34m\u001b[0m\n\u001b[0;32m     15\u001b[0m \u001b[0mdata\u001b[0m \u001b[1;33m=\u001b[0m\u001b[1;33m[\u001b[0m\u001b[1;36m1\u001b[0m\u001b[1;33m,\u001b[0m\u001b[1;36m2\u001b[0m\u001b[1;33m,\u001b[0m\u001b[1;36m3\u001b[0m\u001b[1;33m,\u001b[0m\u001b[1;36m4\u001b[0m\u001b[1;33m,\u001b[0m\u001b[1;36m5\u001b[0m\u001b[1;33m,\u001b[0m\u001b[1;36m5\u001b[0m\u001b[1;33m,\u001b[0m\u001b[1;36m6\u001b[0m\u001b[1;33m,\u001b[0m\u001b[1;36m7\u001b[0m\u001b[1;33m,\u001b[0m\u001b[1;36m8\u001b[0m\u001b[1;33m,\u001b[0m\u001b[1;36m9\u001b[0m\u001b[1;33m,\u001b[0m\u001b[1;36m10\u001b[0m\u001b[1;33m,\u001b[0m\u001b[1;34m'strint'\u001b[0m\u001b[1;33m,\u001b[0m\u001b[1;34m'문자열'\u001b[0m\u001b[1;33m]\u001b[0m\u001b[1;33m\u001b[0m\u001b[1;33m\u001b[0m\u001b[0m\n\u001b[0;32m     16\u001b[0m \u001b[1;32mwith\u001b[0m \u001b[0mopen\u001b[0m\u001b[1;33m(\u001b[0m\u001b[1;34m'../data/test.bin'\u001b[0m\u001b[1;33m,\u001b[0m\u001b[1;34m'rb'\u001b[0m\u001b[1;33m)\u001b[0m \u001b[1;32mas\u001b[0m \u001b[0mf\u001b[0m\u001b[1;33m:\u001b[0m\u001b[1;33m\u001b[0m\u001b[1;33m\u001b[0m\u001b[0m\n\u001b[1;32m---> 17\u001b[1;33m     \u001b[0mf\u001b[0m\u001b[1;33m.\u001b[0m\u001b[0mwrite\u001b[0m\u001b[1;33m(\u001b[0m\u001b[0mbytes\u001b[0m\u001b[1;33m(\u001b[0m\u001b[0mdata\u001b[0m\u001b[1;33m)\u001b[0m\u001b[1;33m)\u001b[0m\u001b[1;33m\u001b[0m\u001b[1;33m\u001b[0m\u001b[0m\n\u001b[0m",
      "\u001b[1;31mTypeError\u001b[0m: 'str' object cannot be interpreted as an integer"
     ]
    }
   ],
   "source": [
    "# 1. pickle사용없이 바이너리로 파일 쓰기\n",
    "data = [1,2,3,4,5,6,7,8,9,10]\n",
    "\n",
    "with open('../data/test.bin','wb') as f:\n",
    "    f.write(bytes(data)) # bytes라는 함수는 특정 자료형을 이진 데이터로 변환해주는 함수\n",
    "    \n",
    "# 2) 바이너리 파일 읽기\n",
    "with open('../data/test.bin','rb') as f:\n",
    "    contents = f.read() # 파일 전체 일기\n",
    "    print(type(contents))\n",
    "    print(contents)\n",
    "    for content in contents:\n",
    "        print(content, end =',')\n",
    "# 3) 객체를 파일로 저장\n",
    "# data =[1,2,3,4,5,5,6,7,8,9,10,'strint','문자열']\n",
    "# with open('../data/test.bin','rb') as f:\n",
    "#     f.write(bytes(data))"
   ]
  },
  {
   "cell_type": "code",
   "execution_count": 42,
   "metadata": {},
   "outputs": [
    {
     "name": "stdout",
     "output_type": "stream",
     "text": [
      "<class 'str'>\n",
      "hello,python\n",
      "<class 'int'>\n",
      "12345\n",
      "<class 'float'>\n",
      "3.141592\n",
      "<class 'list'>\n",
      "[1, 2, 3, ['x', 'y', 'z'], [4, 5, 6]]\n",
      "<class 'dict'>\n",
      "{'name': '소향', 'age': 41, 'addr': 'seoul'}\n",
      "hello,python\n",
      "12345\n",
      "3.141592\n",
      "[1, 2, 3, ['x', 'y', 'z'], [4, 5, 6]]\n",
      "{'name': '소향', 'age': 41, 'addr': 'seoul'}\n"
     ]
    }
   ],
   "source": [
    "# 2. pickle을 사용해서 파일 객체를 저장하기\n",
    "\n",
    "# 1) pickle 모듈을 import\n",
    "import pickle\n",
    "\n",
    "# pickle?\n",
    "\n",
    "# 2) 객체를 파일로 저장하기\n",
    "with open('../data/pickle.bin','wb') as f:\n",
    "    pickle.dump(\"hello,python\",f) #string 객체를 파일에 저장(dump)\n",
    "    pickle.dump(12345,f)# int(정수)객체를 덤프\n",
    "    pickle.dump(3.141592,f) #float(실수) 객체 덤프\n",
    "    pickle.dump([1,2,3,['x','y','z'],[4,5,6]], f) # list 객체 덤프\n",
    "    pickle.dump({'name':'소향','age':41,'addr':'seoul'},f) # 딕셔너리객체 덤프\n",
    "\n",
    "# 3) 파일로 저장된 객체를 읽기 ## 피클의 덤프가 끝날때까지 루핑을 돌려준다.\n",
    "with open('../data/pickle.bin','rb') as f:\n",
    "    data = pickle.load(f)\n",
    "    print(type(data))\n",
    "    print(data)\n",
    "    data = pickle.load(f)\n",
    "    print(type(data))\n",
    "    print(data)\n",
    "    data = pickle.load(f)\n",
    "    print(type(data))\n",
    "    print(data)\n",
    "    data = pickle.load(f)\n",
    "    print(type(data))\n",
    "    print(data)\n",
    "    data = pickle.load(f)\n",
    "    print(type(data))\n",
    "    print(data)\n",
    "#     data = pickle.load(f)\n",
    "#     print(type(data))\n",
    "#     print(data) 더이상의 데이터가 없어 에러 발생\n",
    "\n",
    "# 4) 파일로 저장된 객체를 읽기(exception 처리)\n",
    "with open('../data/pickle.bin','rb') as f:\n",
    "    while True:\n",
    "        try:\n",
    "            data = pickle.load(f)\n",
    "            print(data)\n",
    "        except EOFError:\n",
    "            break"
   ]
  },
  {
   "cell_type": "code",
   "execution_count": 49,
   "metadata": {},
   "outputs": [
    {
     "name": "stdout",
     "output_type": "stream",
     "text": [
      "소향,41,송도,{'kor': 95, 'eng': 92, 'mat': 88, 'sci': 96},7\n"
     ]
    }
   ],
   "source": [
    "# 3. pickle을 이용해서 파일 객체를 저장(2)\n",
    "import pickle as p\n",
    "\n",
    "name = '소향'\n",
    "age = 41\n",
    "addr = '송도'\n",
    "scores={'kor':95,'eng':92,'mat':88,'sci':96}\n",
    "\n",
    "def add(a,b):\n",
    "    return a+b\n",
    "\n",
    "with open('../data/sohyang.bin','wb') as f:\n",
    "    p.dump(name ,f)\n",
    "    p.dump(age,f)\n",
    "    p.dump(addr ,f)\n",
    "    p.dump(scores,f)\n",
    "    p.dump(add(3,4),f)\n",
    "\n",
    "with open('../data/sohyang.bin','rb') as f:\n",
    "    name = p.load(f)\n",
    "    age = p.load(f)\n",
    "    addr = p.load(f)\n",
    "    scores = p.load(f)\n",
    "    add = p.load(f)\n",
    "    print(name, end=',')\n",
    "    print(age, end=',')\n",
    "    print(addr, end=',')\n",
    "    print(scores, end=',')\n",
    "    print(add)\n",
    "    "
   ]
  },
  {
   "cell_type": "code",
   "execution_count": 50,
   "metadata": {},
   "outputs": [
    {
     "name": "stdout",
     "output_type": "stream",
     "text": [
      "{'name': '소향', 'age': 41, 'addr': '송도', 'scores': {'kor': 95, 'eng': 92, 'mat': 88, 'sci': 96}}\n"
     ]
    }
   ],
   "source": [
    "# gzip모듈을 이용하여 데이터를 압축하고 해제하기\n",
    "import pickle as p\n",
    "import gzip\n",
    "\n",
    "data ={\n",
    "    'name' : '소향',\n",
    "    'age' : 41,\n",
    "    'addr' : '송도',\n",
    "    'scores':{'kor':95,'eng':92,'mat':88,'sci':96},\n",
    "}\n",
    "\n",
    "# 쓰기와 압축\n",
    "with gzip.open('../data/sohyang_zip.bin','wb') as f:\n",
    "    p.dump(data,f)\n",
    "    \n",
    "\n",
    "# 읽기와 압축해제\n",
    "with gzip.open('../data/sohyang_zip.bin','rb') as f:\n",
    "    data = p.load(f)\n",
    "    print(data)"
   ]
  },
  {
   "cell_type": "code",
   "execution_count": null,
   "metadata": {},
   "outputs": [],
   "source": []
  },
  {
   "cell_type": "code",
   "execution_count": null,
   "metadata": {},
   "outputs": [],
   "source": []
  }
 ],
 "metadata": {
  "kernelspec": {
   "display_name": "Python 3",
   "language": "python",
   "name": "python3"
  },
  "language_info": {
   "codemirror_mode": {
    "name": "ipython",
    "version": 3
   },
   "file_extension": ".py",
   "mimetype": "text/x-python",
   "name": "python",
   "nbconvert_exporter": "python",
   "pygments_lexer": "ipython3",
   "version": "3.7.6"
  }
 },
 "nbformat": 4,
 "nbformat_minor": 4
}
