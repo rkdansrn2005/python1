{
 "cells": [
  {
   "cell_type": "markdown",
   "metadata": {},
   "source": [
    "### Numpy(Numerical Python)\n",
    "\n",
    ">* 벡터 및 행렬연산에 특화된 라이브러리\n",
    "* array단위로 데이터를 관리한다. 즉, array 단위로 연산을 수행한다.\n",
    "* 2차원 자료구조는 행렬과(Matrix)와 유사하다.\n",
    "* pandas와 함께 데이터 분석에 많이 사용된다.\n",
    "* 수치해석용 Python의 라이브러리\n",
    "\n",
    "#### 참고사이트\n",
    "1. home: http://www.numpy.org\n",
    "2. documentation : http://docs.scipy.org/doc\n",
    "3. tutorial : \n",
    "  - http://www.scipy-lectures.org/intro/numpy/index.html\n",
    "  - http://docs.scipy.org/doc/numpy/user/quickstart.html\n"
   ]
  },
  {
   "cell_type": "code",
   "execution_count": null,
   "metadata": {
    "scrolled": true
   },
   "outputs": [],
   "source": [
    "# Numpy를 사용하기 위해서는 Numpy모듈을 import 해야 한다.\n",
    "import numpy as np\n",
    "np.__version__\n",
    "print(dir(np))\n"
   ]
  },
  {
   "cell_type": "markdown",
   "metadata": {},
   "source": [
    "#### 1. 1차원 array 정의 및 사용하기 "
   ]
  },
  {
   "cell_type": "code",
   "execution_count": null,
   "metadata": {},
   "outputs": [],
   "source": [
    "# 1. np.array() : 데이터를 numpy배열로 리턴\n",
    "?np.array\n",
    "data = [1,2,3,4,5]\n",
    "print(type(data))\n",
    "\n",
    "# np.array() : 데이터를 numpy배열 즉, ndarray로 변환해주는 함수\n",
    "arr = np.array(data)\n",
    "print(arr)\n",
    "print(data)\n",
    "print(type(arr))\n",
    "\n",
    "# 강제 형변환(upcasting)\n",
    "arr1 = np.array([1,2,3,4.1]) # 가장 크기가 큰 데이터 타입으로 강제 형변환된다.\n",
    "print(arr1)"
   ]
  },
  {
   "cell_type": "code",
   "execution_count": null,
   "metadata": {},
   "outputs": [],
   "source": [
    "# 2 . np.shape : numpy 배열의 크기를 리턴\n",
    "# ?np.shape\n",
    "a =4 \n",
    "print(type(a))\n",
    "\n",
    "b = 4,\n",
    "print(type(b))\n",
    "\n",
    "c = (4,)\n",
    "print(type(c))\n",
    "\n",
    "print(arr1.shape)\n",
    "print(np.shape(arr1)) # 두가지중 어떤 방법도 상관이 없다.\n",
    "help(arr1.shape)\n"
   ]
  },
  {
   "cell_type": "code",
   "execution_count": null,
   "metadata": {},
   "outputs": [],
   "source": []
  },
  {
   "cell_type": "markdown",
   "metadata": {},
   "source": [
    "#### 2. 2차원 array (행렬, Matrix)"
   ]
  },
  {
   "cell_type": "code",
   "execution_count": null,
   "metadata": {},
   "outputs": [],
   "source": [
    "# 1. np.array()\n",
    "# 2차원 리스트 \n",
    "data = [[1,2,3],[4,5,6.0]]\n",
    "print(type(data))\n",
    "\n",
    "# 2차원 리스트를 2차원 ndarray로 변환\n",
    "arr = np.array(data)\n",
    "print(type(arr))\n",
    "print(arr.shape)\n",
    "print(arr)\n",
    "# numpy의 datatype보기\n",
    "arr.dtype\n",
    "\n",
    "# 3 차원 배열\n",
    "arr1 = np.array([[1,2,3],[4,5,6],[7,8,9]])\n",
    "print(arr1.shape)\n",
    "print(arr1)"
   ]
  },
  {
   "cell_type": "code",
   "execution_count": null,
   "metadata": {},
   "outputs": [],
   "source": []
  },
  {
   "cell_type": "markdown",
   "metadata": {},
   "source": [
    "#### 3. numpy 연산 \n",
    "\n",
    "##### 1. numpy shape\n",
    "\n",
    "* numpy에서 해당 array크기를 확인할 수 있는 함수이다. 이 함수는 정수를 리턴한다.\n",
    "* shape(크기)를 확인 함으로서 numpy배열에 몇개의 데이터가 있는지, 몇 차원의 데이터인지를 확인한다.\n",
    "* 1차원 배열일 경우 `(5,)`형태로 2차원 배열일 경우는 `(3,4)`의 형태로 리턴한다.\n",
    "\n",
    "##### 2. numpy datatype\n",
    "\n",
    "* int(8,16,32,64) : 부호가 잇는 정수\n",
    "* uint(8,16,32,64) : 부호가 없는 정수\n",
    "* float(16,32,64,128) : 실수\n",
    "* complex(64,128,256) : 복소수\n",
    "* bool : boolean\n",
    "* string : 문자열\n",
    "* object : 파이썬 오브젝트 (객체)\n",
    "* unicode : 유니코드\n"
   ]
  },
  {
   "cell_type": "code",
   "execution_count": null,
   "metadata": {},
   "outputs": [],
   "source": [
    "# 1. Numpy 배열연산 \n",
    "# numpy의 배열은 리스트와 비슷하지만 다음과 같은 점에서 다르다. \n",
    "# 1) 모든 원소가 같은 자료형이여야 한다.\n",
    "# 2) 원소의 갯수는 바꿀 수가 없다.\n",
    "arr1 = np.array([[1,2,3],[4,5,6]])  \n",
    "arr2 = np.array([[7,8,9],[10,11,12]])\n",
    "\n",
    "print('numpy 덧셈',arr1 + arr2)\n",
    "print('numpy 뺄셈',arr1 - arr2)\n",
    "print('numpy 곱셉',arr1 * arr2)\n",
    "print('numpy 나눗셈',arr1 / arr2)\n",
    "print('numpy 요소전체 2배',arr1 *2)\n",
    "print('numpy 요소전체 제곱근',arr1 **2)\n"
   ]
  },
  {
   "cell_type": "code",
   "execution_count": null,
   "metadata": {},
   "outputs": [],
   "source": [
    "# 2. array broadcast\n",
    "# numpy 배열에서는 기본적으로 동일크기를 가져야 연산이 가능하지만 배열의 크기가 틀릴 경우에\n",
    "# 이런 점을 보완하기 위해 numpy에서는 broadcast라는 기능을 지원해준다.\n",
    "# 즉, broadcast는 서로 크기가 다른 numpy배열을 연산이 가능하도록 해주는 기능이다.\n",
    "\n",
    "arr1 = np.array([[1,2,3],[4,5,6]])  \n",
    "arr2 = np.array([10,11,12]) #  arr1과 연산을 할 경우 [[10,11,12],[10,11,12]]로 확장된다.\n",
    "print('numpy 덧셈',arr1 + arr2)\n",
    "print('numpy 뺄셈',arr1 - arr2)\n",
    "print('numpy 곱셉',arr1 * arr2)\n",
    "print('numpy 나눗셈',arr1 / arr2)"
   ]
  },
  {
   "cell_type": "code",
   "execution_count": null,
   "metadata": {},
   "outputs": [],
   "source": []
  },
  {
   "cell_type": "markdown",
   "metadata": {},
   "source": [
    "#### 4. Numpy Array의 인덱싱과 슬라이싱\n",
    "\n",
    "* numpy에서 사용되는 인덱싱은 python에서의 인덱싱과 기본적으로 동일하다.\n",
    "* numpy의 인덱싱은 0부터 시작한다."
   ]
  },
  {
   "cell_type": "code",
   "execution_count": null,
   "metadata": {},
   "outputs": [],
   "source": [
    "# np.arrage([start,], stop[, step])\n",
    "# ?np.arange\n",
    "arr1 = np.arange(10,20,2,dtype='float64')\n",
    "print(arr1)\n",
    "print(type(arr1))\n",
    "print(arr1.dtype)\n",
    "print()\n",
    "\n",
    "# 1차원 array의 인덱싱과 슬라이싱\n",
    "arr1 = np.arange(10)\n",
    "print(arr1)\n",
    "print(arr1[9])\n",
    "print(arr1[0:3])\n",
    "print(arr1[:3])\n",
    "print(arr1[3:])"
   ]
  },
  {
   "cell_type": "code",
   "execution_count": null,
   "metadata": {},
   "outputs": [],
   "source": [
    "# 2차원 array의 인덱싱과 슬라이싱\n",
    "\n",
    "print(arr2)\n",
    "print()\n",
    "\n",
    "# 2차원 [행,요소 위치]\n",
    "print(arr2[1,0])\n",
    "print(arr2[1,1])\n",
    "print(arr2[1,2])\n",
    "print()\n",
    "\n",
    "# 요소를 꺼내기\n",
    "# 다차원 배열의 원소중 복수개를 접근하려면 sliceing과 컴마(,)를 함께 사용하면 된다.\n",
    "# a[0,:] -> 첫번째행의 전체\n",
    "# a[: ,1 ] 전체의 2번째열을 가져옴\n",
    "# a[1,1:] 2번째 행의 두번째부터 끝까지\n",
    "# a[2:,2:]\n",
    "\n",
    "\n",
    "print(arr2[:])# 전체요소 꺼내기\n",
    "print(arr2[2:]) # 3번째 행(2차원)의 모든 요소 꺼내기\n",
    "print(arr2[2,]) # 3번째 행(1차원)\n",
    "arr2 = np.array([[1,2,3],[4,5,6],[7,8,9]])\n",
    "# 9를 꺼내기 : 2행의 3번째 요소\n",
    "print(arr2[1,2])\n",
    "# 모든 열의 3번째 요소 [3,6,9]\n",
    "print(arr2[:,2])\n",
    "# [[1,2],[4,5]] 꺼내오기\n",
    "print(arr2[:2,:2])\n",
    "# [[5,6],[8,9]]\n",
    "print(arr2[1:,1:])"
   ]
  },
  {
   "cell_type": "markdown",
   "metadata": {},
   "source": [
    "#### 5. Numpy 함수"
   ]
  },
  {
   "cell_type": "markdown",
   "metadata": {},
   "source": [
    "#### 6. 데이터 분석실습 - 영화 평점데이터"
   ]
  },
  {
   "cell_type": "markdown",
   "metadata": {},
   "source": [
    "#### 연습문제"
   ]
  },
  {
   "cell_type": "code",
   "execution_count": null,
   "metadata": {},
   "outputs": [],
   "source": [
    "m = np.array([[ 0,  1,  2,  3,  4],\n",
    "              [ 5,  6,  7,  8,  9],\n",
    "              [10, 11, 12, 13, 14]])\n",
    "\n",
    "# 이 행렬에서 값 7을 인덱싱한다.\n",
    "print(m[1,2])\n",
    "# 이 행렬에서 값 14 을 인덱싱한다.\n",
    "print(m[2,4])\n",
    "# 이 행렬에서 배열 [6, 7] 을 슬라이싱한다.\n",
    "print(m[1,1:3])\n",
    "# 이 행렬에서 배열 [7, 12] 을 슬라이싱한다.\n",
    "print(m[1:,2])\n",
    "# 이 행렬에서 배열 [[3, 4], [8, 9]] 을 슬라이싱한다.\n",
    "print(m[:2,3:])"
   ]
  },
  {
   "cell_type": "code",
   "execution_count": null,
   "metadata": {
    "scrolled": true
   },
   "outputs": [],
   "source": [
    "# 배열인덱싱\n",
    "# numpy배열 객체의 강력한 기능은 팬시 인덱싱(Fancy Indexing)이라고 부르는 배열인덱싱이다. 인덱싱이란 이름이\n",
    "# 붙었지만 사실은 데이터베이스의 질의(QUery)기능을 수행하다.\n",
    "# 배열의 인덱싱은 두가지가 있다. 하나는 정수배열방식과 다른 하나는 블리안배열방식이다.\n",
    "# 블리안 인덱싱 방식은 배열의 원소가 True or False 두 값으로만 구성되며 인덱스 배열의 크기가 원래 ndarray\n",
    "# 객체의 크기와 동일 해야 한다.\n",
    "import numpy as np\n",
    "a = np.array([0,1,2,3,4,5,6,7,8,9])\n",
    "idx = np.array([True, False, True, False, True, False, True, False, True, False])\n",
    "print(a)\n",
    "print(idx)\n",
    "print(a[idx])\n",
    "\n",
    "# 짝수만 나오게 할 경우\n",
    "print(a[a % 2 == 0])"
   ]
  },
  {
   "cell_type": "code",
   "execution_count": null,
   "metadata": {},
   "outputs": [],
   "source": [
    "# 2차원 블리안 인덱싱\n",
    "a = np.array([[1,2,3,4],[5,6,7,8],[9,10,11,12]])\n",
    "print(a)\n",
    "\n",
    "a[:,[True, False, False, True]]"
   ]
  },
  {
   "cell_type": "code",
   "execution_count": null,
   "metadata": {},
   "outputs": [],
   "source": [
    "lst = [\n",
    "    [1,2,3],\n",
    "    [4,5,6],\n",
    "    [7,8,9]\n",
    "]\n",
    "a = np.array(lst)\n",
    "print(a)\n",
    "\n",
    "bool_idx_array = np.array([\n",
    "    [False, True, False],\n",
    "    [True, False, True],\n",
    "    [False, True, False]\n",
    "])\n",
    "print(a[bool_idx_array])\n",
    "print(a[a%2 == 0])"
   ]
  },
  {
   "cell_type": "code",
   "execution_count": null,
   "metadata": {},
   "outputs": [],
   "source": [
    "# 1. zeros() : array가 생성될되 모든 요소의 값을 0으로 초기화하는 함수\n",
    "# ?np.zeros\n",
    "z1 = np.zeros(10)\n",
    "print(z1)\n",
    "\n",
    "z2 = np.zeros((10, 5))\n",
    "print(z2)"
   ]
  },
  {
   "cell_type": "code",
   "execution_count": null,
   "metadata": {},
   "outputs": [],
   "source": [
    "# 2. ones() : array가 생성될되 모든 요소의 값을 1로 초기화하는 함수\n",
    "# ?np.ones\n",
    "o1 = np.ones(10)\n",
    "print(o1)\n",
    "\n",
    "o2 = np.ones((10,5))\n",
    "print(o2)"
   ]
  },
  {
   "cell_type": "code",
   "execution_count": null,
   "metadata": {},
   "outputs": [],
   "source": [
    "# 3. arange()\n",
    "print(np.arange(10, 20, 2, dtype='float32'))"
   ]
  },
  {
   "cell_type": "code",
   "execution_count": null,
   "metadata": {
    "scrolled": false
   },
   "outputs": [],
   "source": [
    "# 4. random()\n",
    "# 1) seed() : seed설정하기\n",
    "# 특정한 시작 숫자를 정의하지 않으면 실행될 때마다 무작위수가 발생이 된다. 하진 특정의\n",
    "# 시작 숫자 정해 주면 랜덤 알고리즘은 마치 난수처럼 보이는 수열을 생성한다. \n",
    "# 이 시작되는 숫자를 \"Seed\"라고 한다. 이를 위해 파이썬에서 random모듈을 seed(인수)함수를 \n",
    "# 제공하는 데 보통 인수는 0 또는 0보다 큰 임의의 수로 설정한다.\n",
    "# ?np.random.seed\n",
    "\n",
    "np.random.seed(0)\n",
    "result = np.random.rand(10)\n",
    "print(result)\n",
    "\n",
    "# 2) 난수를 발생 3가지 메서드\n",
    "# 2-1) rand  : 0~1사이의 균일 분포를 가진 난수 발생\n",
    "print(np.random.rand(10))\n",
    "print(np.random.rand(3,5))\n",
    "print()\n",
    "\n",
    "# 3-3) randint : 균일 분포의 정수 난수\n",
    "# numpy.random.randint(low, high=None, size=None)\n",
    "# high를 입력하지 않으면 0과 low사이의 숫자를 high를 입력하면 low와 high의 숮자를 생성\n",
    "# size는 난수의 숫자이다.\n",
    "print(np.random.randint(10))\n",
    "print(np.random.randint(10, size=10))\n",
    "print(np.random.randint(10, 20, size=10))\n",
    "print(np.random.randint(10, 20, size=(3,5)))\n",
    "print()"
   ]
  },
  {
   "cell_type": "code",
   "execution_count": null,
   "metadata": {},
   "outputs": [],
   "source": [
    "# 5. abs()\n",
    "arr1 = np.random.randn(5,3)\n",
    "print(arr1)\n",
    "print(np.abs(arr1))"
   ]
  },
  {
   "cell_type": "code",
   "execution_count": null,
   "metadata": {},
   "outputs": [],
   "source": [
    "# 6. square() : 각 요소에 제곱근을 계산\n",
    "print(np.square(arr1))"
   ]
  },
  {
   "cell_type": "code",
   "execution_count": null,
   "metadata": {},
   "outputs": [],
   "source": [
    "# 7. exp() : 각 요소의 무리수를 e지수로 연산\n",
    "print(np.exp(arr1))"
   ]
  },
  {
   "cell_type": "code",
   "execution_count": null,
   "metadata": {
    "scrolled": true
   },
   "outputs": [],
   "source": [
    "# 8. log(), log10(), log2()\n",
    "# 자연로그, 상용로그, 밑2인 로그\n",
    "print(np.log(arr1))\n",
    "print(np.log10(arr1))\n",
    "print(np.log2(arr1))"
   ]
  },
  {
   "cell_type": "code",
   "execution_count": null,
   "metadata": {},
   "outputs": [],
   "source": [
    "# 9. sign() # 각 요소의 값이 음수일 때 -1, 0일 때는 0 양수일 때는 1로 리턴\n",
    "print(np.sign(arr1))"
   ]
  },
  {
   "cell_type": "code",
   "execution_count": null,
   "metadata": {},
   "outputs": [],
   "source": [
    "# 10. ceil()\n",
    "print(np.ceil(arr1))"
   ]
  },
  {
   "cell_type": "code",
   "execution_count": null,
   "metadata": {
    "scrolled": true
   },
   "outputs": [],
   "source": [
    "# 11. floor()\n",
    "print(np.floor(arr1))"
   ]
  },
  {
   "cell_type": "code",
   "execution_count": null,
   "metadata": {},
   "outputs": [],
   "source": [
    "# 12. isnan() : NaN일 경우는 True, 아닐 경우 False로 리턴\n",
    "print(np.isnan(arr1))\n",
    "print(np.isnan(np.log(arr1)))"
   ]
  },
  {
   "cell_type": "code",
   "execution_count": null,
   "metadata": {},
   "outputs": [],
   "source": [
    "# 13. cos(), sin(), tan(), cosh(), sinh(), tanh()\n",
    "print(dir(np))"
   ]
  },
  {
   "cell_type": "code",
   "execution_count": null,
   "metadata": {},
   "outputs": [],
   "source": [
    "arr1 = np.random.randn(5,3)\n",
    "arr2 = np.random.rand(5,3)\n",
    "print(arr1)\n",
    "print(arr2)"
   ]
  },
  {
   "cell_type": "code",
   "execution_count": null,
   "metadata": {
    "scrolled": false
   },
   "outputs": [],
   "source": [
    "# 1. 사칙연산함수(add, subtract, multiply, divide)\n",
    "print(np.add(arr1, arr2))\n",
    "print(np.subtract(arr1, arr2))\n",
    "print(np.multiply(arr1, arr2))\n",
    "print(np.divide(arr1, arr2))"
   ]
  },
  {
   "cell_type": "code",
   "execution_count": null,
   "metadata": {},
   "outputs": [],
   "source": [
    "# 2. 최대값, 최소값(maximum, minimum)\n",
    "print(np.maximum(arr1, arr2))\n",
    "print(np.minimum(arr1, arr2))"
   ]
  },
  {
   "cell_type": "code",
   "execution_count": null,
   "metadata": {},
   "outputs": [],
   "source": [
    "# 1. sum() : 합계\n",
    "#?np.sum\n",
    "print(np.sum(arr1)) # 요소의 전체합\n",
    "print(np.sum(arr1, axis=0)) # 열의 합\n",
    "print(np.sum(arr1, axis=1)) # 행의 합\n",
    "print(np.sum(arr1[:,2])) # 2열의 전체합"
   ]
  },
  {
   "cell_type": "code",
   "execution_count": null,
   "metadata": {},
   "outputs": [],
   "source": [
    "# 2. mean() : 평균\n",
    "# np.mean?\n",
    "print(np.mean(arr1)) # 요소 전체 평균\n",
    "print(np.mean(arr1, axis=0)) # 열의 평균\n",
    "print(np.mean(arr1, axis=1)) # 행의 평균\n",
    "print(np.mean(arr1[:,2])) # 2열의 평균 \n"
   ]
  },
  {
   "cell_type": "code",
   "execution_count": null,
   "metadata": {},
   "outputs": [],
   "source": [
    "# 3. std()표준편차, var()분산, min()최소값, max()최대값\n",
    "print(np.std(arr1)) # 요소 전체 표준편차\n",
    "print(np.std(arr1, axis=0)) # 열의 표준편차\n",
    "print(np.std(arr1, axis=1)) # 행의 표준편차\n",
    "print()\n",
    "\n",
    "print(np.var(arr1)) # 요소 전체 분산\n",
    "print(np.var(arr1, axis=0)) # 열의 분산\n",
    "print(np.var(arr1, axis=1)) # 행의 분산\n",
    "print()\n",
    "\n",
    "print(np.min(arr1)) # 요소 전체 최소값\n",
    "print(np.min(arr1, axis=0)) # 열의 최소값\n",
    "print(np.min(arr1, axis=1)) # 행의 최소값\n",
    "print()\n",
    "\n",
    "print(np.max(arr1)) # 요소 전체 최대값\n",
    "print(np.max(arr1, axis=0)) # 열의 최대값\n",
    "print(np.max(arr1, axis=1)) # 행의 최대값\n",
    "print()"
   ]
  },
  {
   "cell_type": "code",
   "execution_count": null,
   "metadata": {},
   "outputs": [],
   "source": [
    "# 4. 위치함수 : argmin()최소값위치, argmax()최대값위치(index)\n",
    "print(np.argmin(arr1))\n",
    "print(np.argmax(arr1))"
   ]
  },
  {
   "cell_type": "code",
   "execution_count": null,
   "metadata": {},
   "outputs": [],
   "source": [
    "# 5. 누적함수 : 각 요소의 누적합cumsum(), 누적곱cumprod()\n",
    "print(np.cumsum(arr1))\n",
    "print(np.cumprod(arr1))"
   ]
  },
  {
   "cell_type": "code",
   "execution_count": null,
   "metadata": {},
   "outputs": [],
   "source": [
    "# 1. sort() : 정렬함수\n",
    "# ?np.sort\n",
    "arr = np.array([5,4,6,2,3,1])\n",
    "print(arr)\n",
    "print(np.sort(arr))\n",
    "print()\n",
    "\n",
    "print(np.sort(arr1))  # 행별정렬\n",
    "print()\n",
    "\n",
    "print(np.sort(arr1)[0]) # 특정행만 정렬\n",
    "print(np.sort(arr1)[-2])\n",
    "print(np.sort(arr1)[:1])\n",
    "print(np.sort(arr1)[:-1])\n",
    "print()\n",
    " \n",
    "print(np.sort(arr1, axis=0)) # 행정렬\n",
    "print(np.sort(arr1, axis=1)) # 열정렬"
   ]
  },
  {
   "cell_type": "code",
   "execution_count": null,
   "metadata": {},
   "outputs": [],
   "source": [
    "# 2. unique() : 중복제거함수\n",
    "# 1) 1차원 중복제거\n",
    "#?np.unique\n",
    "names = np.array(['홍길동', '손흥민', '소향', '홍길동', '손흥민'])\n",
    "print(np.unique(names))\n",
    "\n",
    "# 2) 2차원 중복제거\n",
    "values = np.array([[1,2],[1,2],[2,3]])\n",
    "print(np.unique(values))\n",
    "\n",
    "# 차원에 대한 요소 갯수가 틀릴 경우 주의\n",
    "values = np.array([[1,2],[1,2],[2,3,2]])\n",
    "print(np.unique(values))"
   ]
  },
  {
   "cell_type": "code",
   "execution_count": null,
   "metadata": {},
   "outputs": [],
   "source": []
  },
  {
   "cell_type": "markdown",
   "metadata": {},
   "source": [
    "##### 5. 파일 입출력\n",
    "* savetxt()\n",
    "* loadtxt()"
   ]
  },
  {
   "cell_type": "code",
   "execution_count": null,
   "metadata": {},
   "outputs": [],
   "source": [
    "?np.savetxt"
   ]
  },
  {
   "cell_type": "code",
   "execution_count": null,
   "metadata": {},
   "outputs": [],
   "source": [
    "import numpy as np\n",
    "import random"
   ]
  },
  {
   "cell_type": "code",
   "execution_count": null,
   "metadata": {},
   "outputs": [],
   "source": [
    "# 1. savetxt(filename, data, format, delimiter)\n",
    "numbers = np.zeros((10,4))\n",
    "for i in range(10):\n",
    "    for j in range(4):\n",
    "        numbers[i][j] = random.randint(1000,40000)\n",
    "numbers\n",
    "# 파일저장\n",
    "np.savetxt('../data/save.csv',numbers, fmt='%d',delimiter =',')"
   ]
  },
  {
   "cell_type": "code",
   "execution_count": null,
   "metadata": {},
   "outputs": [],
   "source": [
    "# 2. loadtxt()\n",
    "# ?np.loadtxt\n",
    "f = np.loadtxt('../data/save.csv',delimiter =',')\n",
    "print(f)"
   ]
  },
  {
   "cell_type": "code",
   "execution_count": null,
   "metadata": {},
   "outputs": [],
   "source": []
  },
  {
   "cell_type": "code",
   "execution_count": null,
   "metadata": {},
   "outputs": [],
   "source": []
  },
  {
   "cell_type": "code",
   "execution_count": null,
   "metadata": {},
   "outputs": [],
   "source": []
  },
  {
   "cell_type": "markdown",
   "metadata": {},
   "source": [
    "#### 6. 데이터분석실습 - 영화평점데이터\n",
    "\n",
    "* https://grouplens.org/datasets/movielens\n",
    " - older datasets중에서 ml-1m.zip을 다운로드\n",
    " - 압축해제를 'd:\\yourname\\data\\movielens 해제\n",
    " - 3845라인 : And God Created Woman(...)에서 깨진 문자를 삭제\n",
    " - np.loadtxt()"
   ]
  },
  {
   "cell_type": "code",
   "execution_count": null,
   "metadata": {},
   "outputs": [],
   "source": [
    "#  :: 는 델리미터 "
   ]
  },
  {
   "cell_type": "code",
   "execution_count": null,
   "metadata": {},
   "outputs": [],
   "source": [
    "# 1. 영화 평점 데이터 업로드 : ratings\n",
    "data = np.loadtxt('../data/movielens/ratings.dat',delimiter='::',dtype=np.int64)"
   ]
  },
  {
   "cell_type": "code",
   "execution_count": null,
   "metadata": {
    "scrolled": true
   },
   "outputs": [],
   "source": [
    "print(data.shape)\n",
    "# 첫 5행만 출력\n",
    "# a = np.array(data)\n",
    "print(data[0:5,:])\n",
    "# 1백만~ `1백만 10건\n",
    "print(data[1000000:1000010,:])\n",
    "print(data[1000000:1000010,:3])"
   ]
  },
  {
   "cell_type": "code",
   "execution_count": null,
   "metadata": {},
   "outputs": [],
   "source": [
    "# 전체 평점의 평균은 ?\n",
    "mean_rating_total = data[:,2].mean()\n",
    "print(data[:,2].mean())\n",
    "print(np.mean(data[:,2]))\n",
    "\n",
    "print('영화 전체평균의 평균 = ',mean_rating_total)\n"
   ]
  },
  {
   "cell_type": "code",
   "execution_count": null,
   "metadata": {},
   "outputs": [],
   "source": [
    "# 사용자 id만 추출(중복제거)-사용자건수는?\n",
    "user_ids = np.unique(data[:,0])\n",
    "print('사용자의 건수 = ', user_ids)"
   ]
  },
  {
   "cell_type": "code",
   "execution_count": null,
   "metadata": {},
   "outputs": [],
   "source": [
    "# user id가 1000인 사용자만 추출\n",
    "data_for_user = data[data[:,0]==1000]\n",
    "# print('1000번인 사용자 =',data_for_user)\n",
    "print('1000번인 사용자의 전체 평점 평균 = ',data_for_user[:,2].mean())"
   ]
  },
  {
   "cell_type": "code",
   "execution_count": null,
   "metadata": {},
   "outputs": [],
   "source": [
    "# 사용자별 평점의 평균 구하기\n",
    "mean_values=[]\n",
    "for user_id in user_ids:\n",
    "    data_for_user = data[data[:,0]==user_id]\n",
    "    print(data_for_user)\n",
    "    value = data_for_user[:,2].mean()\n",
    "    mean_values.append(value)\n",
    "   \n",
    "#     # 1. 사용자별 data\n",
    "#     data_for_user =???\n",
    "#     # 2. data_for_user의 평균\n",
    "#     value\n",
    "\n",
    "#     # 3. 평균을 리스트에 추가\n",
    "#     mean_values.append([user_id,value])\n",
    "\n",
    "# # 4, 다섯행만 출력\n",
    "print(mean_values[:5])"
   ]
  },
  {
   "cell_type": "code",
   "execution_count": null,
   "metadata": {},
   "outputs": [],
   "source": [
    "mean_values=[]\n",
    "for user_id in user_ids:\n",
    "    aid=[]\n",
    "    data_for_user = data[data[:,0]==user_id]\n",
    "    aid.append(user_id)\n",
    "    value = data_for_user[:,2].mean()\n",
    "    aid.append(value)\n",
    "    \n",
    "    mean_values.append(aid)\n",
    "\n",
    "print(mean_values[:5])"
   ]
  },
  {
   "cell_type": "code",
   "execution_count": null,
   "metadata": {},
   "outputs": [],
   "source": [
    "# 5. 결과가 list 자료형을 넘파이 array로 변환\n",
    "mean_array = np.array(mean_values,dtype=np.float32)\n",
    "print(\"결과 자료 건수 = \", mean_array.shape)\n",
    "mean_array[:5]"
   ]
  },
  {
   "cell_type": "code",
   "execution_count": null,
   "metadata": {},
   "outputs": [],
   "source": [
    "# 5. savetxt() : 파일 저장 \n",
    "np.savetxt('../data/movielens/user_ratings_mean.csv',mean_array,fmt='%.1f',delimiter=',')"
   ]
  },
  {
   "cell_type": "markdown",
   "metadata": {},
   "source": [
    "#### 연습문제\n",
    "* mobies.data\n",
    "- - 3845라인 : And God Created Woman(...)에서 깨진 문자를 삭제\n",
    "- movies_utf8.dat로 저장\n",
    "- notepad로 오픈해서 movies_utf8.dat파일을 ansi->usf-8로 변경해서 저장\n"
   ]
  },
  {
   "cell_type": "code",
   "execution_count": 2,
   "metadata": {},
   "outputs": [],
   "source": [
    "import numpy as np\n",
    "data_user = np.loadtxt('../data/movielens/ratings.dat',delimiter='::',dtype=np.int64)\n",
    "data_movie = np.loadtxt('../data/movielens/movies_utf8.dat',delimiter='::'\n",
    "                        , encoding=\"utf-8\",\n",
    "                       dtype=np.str)"
   ]
  },
  {
   "cell_type": "code",
   "execution_count": 3,
   "metadata": {
    "scrolled": true
   },
   "outputs": [
    {
     "name": "stdout",
     "output_type": "stream",
     "text": [
      "(3883, 3)\n",
      "[['1' 'Toy Story (1995)']\n",
      " ['2' 'Jumanji (1995)']\n",
      " ['3' 'Grumpier Old Men (1995)']\n",
      " ...\n",
      " ['3950' 'Tigerland (2000)']\n",
      " ['3951' 'Two Family House (2000)']\n",
      " ['3952' 'Contender, The (2000)']]\n",
      "[\"One Flew Over the Cuckoo's Nest (1975)\"]\n"
     ]
    }
   ],
   "source": [
    "print(data_movie.shape)\n",
    "\n",
    "# 영화id와 제목만 출력\n",
    "print(data_movie[:,0:2])\n",
    "data_movie[:,0]\n",
    "# 영화 Id가 1193인 것만 추출\n",
    "print(data_movie[data_movie[:,0] == str(1193),1])\n"
   ]
  },
  {
   "cell_type": "code",
   "execution_count": null,
   "metadata": {},
   "outputs": [],
   "source": [
    "# 영화별 평점의 평균 구하기\n",
    "\n",
    "movie_ids = np.unique(data_user[:,1]) # data_user에서 영화ID 중복 제거\n",
    "\n",
    "mean_values=[] # 영화id, 영화제목, 평점평균\n",
    "for movie_id in movie_ids:\n",
    "    \n",
    "    ade=[]\n",
    "    # 1. user에서 movie_id와 같은 자료 추출\n",
    "    data_for_movie = data_user[data_user[:,1] == movie_id,:]\n",
    "    ade.append(data_for_movie)\n",
    "    # 2. 영화별 평균\n",
    "    value = data_user[data_user[:,0]==movie_id,2].mean()\n",
    "    ade.append(value)\n",
    "    # 3. 편균을 저장\n",
    "    mean_values.append(ade)\n",
    "    \n",
    "print(mean_values[:5])"
   ]
  },
  {
   "cell_type": "code",
   "execution_count": null,
   "metadata": {},
   "outputs": [],
   "source": [
    "# 영화별 평점의 평균 구하기\n",
    "\n",
    "movie_ids = np.unique(data_user[:,1]) # data_user에서 영화ID 중복 제거\n",
    "\n",
    "mean_values=[] # 영화id, 영화제목, 평점평균\n",
    "for movie_id in movie_ids:\n",
    "    \n",
    "    # 1. user에서 movie_id와 같은 자료 추출\n",
    "    data_for_movie = data_user[data_user[:,1] == movie_id,:]\n",
    "    print(data_for_movie)\n",
    "    # 2. 영화별 평균\n",
    "    value = data_for_movie[:,2].mean()\n",
    "    \n",
    "    # 3. 영화 이름\n",
    "    movie_name = data_movie[data_movie[:,0] == str(movie_id), 1]\n",
    "    # 3. 편균을 저장\n",
    "    mean_values.append([movie_id,movie_name[0].replace(',',' '), value])\n",
    "\n",
    "\n"
   ]
  },
  {
   "cell_type": "code",
   "execution_count": null,
   "metadata": {},
   "outputs": [],
   "source": [
    "# savetxt() : movie_ratings_mean.csv로 저장\n",
    "mean_array = np.array(mean_values, dtype=np.str)\n",
    "np.savetxt('../data/movielens/movie_ratings_mean.csv',mean_array,\n",
    "          fmt='%s',\n",
    "          delimiter=',')"
   ]
  },
  {
   "cell_type": "code",
   "execution_count": null,
   "metadata": {},
   "outputs": [],
   "source": [
    "users의 나이는 3번째 줄  첫번째줄이 아이디\n",
    "rating의  첫번째 줄이 아이디 3번째 줄이 평점\n"
   ]
  },
  {
   "cell_type": "code",
   "execution_count": 2,
   "metadata": {},
   "outputs": [],
   "source": [
    "# 2. 연령별 영화평점 평균 구하기\n",
    "import numpy as np\n",
    "data_rating = np.loadtxt('../data/movielens/ratings.dat',delimiter='::',dtype = np.int64)\n",
    "data_user = np.loadtxt('../data/movielens/users.dat',delimiter='::',dtype = np.str)"
   ]
  },
  {
   "cell_type": "code",
   "execution_count": 3,
   "metadata": {},
   "outputs": [
    {
     "name": "stdout",
     "output_type": "stream",
     "text": [
      "[   1    2    3 ... 6038 6039 6040]\n",
      "['1' '18' '25' '35' '45' '50' '56']\n"
     ]
    }
   ],
   "source": [
    "data_ratings = np.unique(data_rating[:,0])\n",
    "print(data_ratings)\n",
    "data_userrs= np.unique(data_user[:,2])\n",
    "print(data_userrs)"
   ]
  },
  {
   "cell_type": "code",
   "execution_count": 4,
   "metadata": {},
   "outputs": [
    {
     "name": "stdout",
     "output_type": "stream",
     "text": [
      "<class 'list'>\n"
     ]
    }
   ],
   "source": [
    "movie_age =[]\n",
    "for data_rating1 in data_ratings:    \n",
    "    movie_age_data= data_rating[data_rating[:,0] == data_rating1,2]\n",
    "#     print(movie_age_data)\n",
    "    value = movie_age_data.mean()\n",
    "    movie_age1 = data_user[data_user[:,0]==str(data_rating1),2]\n",
    "    movie_age.append([movie_age1[0],value])\n",
    "\n",
    "print(type(movie_age))\n",
    "\n",
    "    "
   ]
  },
  {
   "cell_type": "code",
   "execution_count": 12,
   "metadata": {},
   "outputs": [
    {
     "data": {
      "text/plain": [
       "[['1', 3.621054991269092],\n",
       " ['18', 3.6206713499568237],\n",
       " ['25', 3.6676804775309266],\n",
       " ['35', 3.74337189302922],\n",
       " ['45', 3.770965227387364],\n",
       " ['50', 3.795451796094096],\n",
       " ['56', 3.834175722104779]]"
      ]
     },
     "execution_count": 12,
     "metadata": {},
     "output_type": "execute_result"
    }
   ],
   "source": [
    "movie_age = np.array(movie_age,np.float64)\n",
    "result =[]\n",
    "for data_userr in data_userrs:\n",
    "    movie_age_data = movie_age[movie_age[:,0] == int(data_userr),1]\n",
    "    value = movie_age_data.mean()\n",
    "    result.append([data_userr,value])\n",
    "result\n"
   ]
  },
  {
   "cell_type": "code",
   "execution_count": 13,
   "metadata": {},
   "outputs": [],
   "source": [
    "mean_array = np.array(result, dtype=np.str)\n",
    "np.savetxt('../data/movielens/user_ratings_mean.csv',mean_array,\n",
    "          fmt='%s',\n",
    "          delimiter=',')"
   ]
  },
  {
   "cell_type": "code",
   "execution_count": null,
   "metadata": {},
   "outputs": [],
   "source": [
    "# 3. 직업별 영화평점 구하기\n",
    "\n"
   ]
  },
  {
   "cell_type": "code",
   "execution_count": null,
   "metadata": {},
   "outputs": [],
   "source": [
    "# 4. 장르별 영화 평점 평균 구하기"
   ]
  },
  {
   "cell_type": "code",
   "execution_count": null,
   "metadata": {},
   "outputs": [],
   "source": []
  },
  {
   "cell_type": "code",
   "execution_count": null,
   "metadata": {},
   "outputs": [],
   "source": []
  }
 ],
 "metadata": {
  "kernelspec": {
   "display_name": "Python 3",
   "language": "python",
   "name": "python3"
  },
  "language_info": {
   "codemirror_mode": {
    "name": "ipython",
    "version": 3
   },
   "file_extension": ".py",
   "mimetype": "text/x-python",
   "name": "python",
   "nbconvert_exporter": "python",
   "pygments_lexer": "ipython3",
   "version": "3.7.6"
  }
 },
 "nbformat": 4,
 "nbformat_minor": 4
}
