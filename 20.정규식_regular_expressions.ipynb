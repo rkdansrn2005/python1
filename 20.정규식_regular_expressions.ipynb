{
 "cells": [
  {
   "cell_type": "markdown",
   "metadata": {},
   "source": [
    "### 정규표현식(Regular Expression)?\n",
    "\n",
    "정규식은 정규 표현식의 약칭이다. 정규식은 문자열을 처리할 때 사용하는 데 파이썬 만의 고유문법이 아니라 문자열을 처리하는 모든 곳에서 사용한다.\n",
    "\n",
    "정규식이 필요한 이유는 특별히 프로그램작성없이 특정 패턴을 정의해서 그 패턴과 일치하는 문자열을 추출하는 데 있다. 예를 들어 주민번호의 뒤 7자리를 블라인딩처리하기 위해서 별표로 변경할 경우에는 뒤 7자리를 추출해서 별표분자로 변환하는 경우, 또한 비밀번호검증, 이메일에 대한 검증등 프로그램 작성없이 바로 정규식으로 처리 할 수가 잇다.\n",
    "\n",
    "파이썬에서는 이런 정규식을 처리하기 위해서 내장모듈을 불러와서 사용해야 하는데 파이썬에서 지원하는 정규식 모듈은 `re`이다."
   ]
  },
  {
   "cell_type": "code",
   "execution_count": 2,
   "metadata": {},
   "outputs": [
    {
     "name": "stdout",
     "output_type": "stream",
     "text": [
      "['A', 'ASCII', 'DEBUG', 'DOTALL', 'I', 'IGNORECASE', 'L', 'LOCALE', 'M', 'MULTILINE', 'Match', 'Pattern', 'RegexFlag', 'S', 'Scanner', 'T', 'TEMPLATE', 'U', 'UNICODE', 'VERBOSE', 'X', '_MAXCACHE', '__all__', '__builtins__', '__cached__', '__doc__', '__file__', '__loader__', '__name__', '__package__', '__spec__', '__version__', '_cache', '_compile', '_compile_repl', '_expand', '_locale', '_pickle', '_special_chars_map', '_subx', 'compile', 'copyreg', 'enum', 'error', 'escape', 'findall', 'finditer', 'fullmatch', 'functools', 'match', 'purge', 'search', 'split', 'sre_compile', 'sre_parse', 'sub', 'subn', 'template']\n"
     ]
    }
   ],
   "source": [
    "import re\n",
    "print(dir(re))"
   ]
  },
  {
   "cell_type": "code",
   "execution_count": 3,
   "metadata": {},
   "outputs": [
    {
     "name": "stdout",
     "output_type": "stream",
     "text": [
      "<class 'list'>\n",
      "[]\n",
      "['o', 'o', 'o']\n",
      "['short']\n"
     ]
    }
   ],
   "source": [
    "# 1. findall(패턴,string)\n",
    "str = 'Life is too short!'\n",
    "# re.findall?\n",
    "a = re.findall('a',str)\n",
    "print(type(a))\n",
    "print(a)\n",
    "\n",
    "b = re.findall('o',str)\n",
    "print(b)\n",
    "\n",
    "c = re.findall('short',str)\n",
    "print(c)\n"
   ]
  },
  {
   "cell_type": "code",
   "execution_count": 37,
   "metadata": {},
   "outputs": [
    {
     "name": "stdout",
     "output_type": "stream",
     "text": [
      "['y', 'i', 'd', 'u', 'm', 'b', 'e', 'r', 'i', 's']\n",
      "['y', 'i', 'd', 'u', 'm', 'b', 'e', 'r', 'i', 's']\n",
      "['y', 'i', 'd', 'u', 'm', 'b', 'e', 'r', 'i', 's']\n",
      "['y', 'id', 'umber', 'is']\n",
      "['M', 'N', 'K', 'I', 'M']\n",
      "['M', 'N', 'KIM']\n",
      "['0', '9', '0', '2']\n",
      "['0902']\n"
     ]
    }
   ],
   "source": [
    "# 2. 특정 문자열에서 소문자를 모두 찾기\n",
    "str = \"My id Number is KIM0902_$\"\n",
    "result = []\n",
    "for s in str:   \n",
    "    if (s >= 'a' and s <='z'):\n",
    "        result.append(s)\n",
    "print(result)\n",
    "\n",
    "\n",
    "# [] : 소문자를 한개의 문자 단위로 검색            \n",
    "a = re.findall('[abcdefghizklmnopqrstuvwxyz]',str)\n",
    "print(a)\n",
    "a = re.findall('[a-z]',str) # from a to z\n",
    "print(a)\n",
    "\n",
    "# []+ : 소문자를 한개의 단어 단위를 기준으로 검색\n",
    "a = re.findall('[a-z]+',str)\n",
    "print(a)\n",
    "\n",
    "# [] : 대문자를 한개의 문자단위를 기준으로 검색\n",
    "a = re.findall('[A-Z]',str)\n",
    "print(a)\n",
    "# []+ \n",
    "a = re.findall('[A-Z]+',str)\n",
    "print(a)\n",
    "\n",
    "# [] : 숫자를 한개의 문자 단위로 검색\n",
    "a = re.findall('[0-9]',str)\n",
    "print(a)\n",
    "\n",
    "# []+ : 숫자를 한개의 단어 단위를 기준으로 검색\n",
    "a = re.findall('[0-9]+',str)\n",
    "print(a)"
   ]
  },
  {
   "cell_type": "code",
   "execution_count": 47,
   "metadata": {},
   "outputs": [
    {
     "name": "stdout",
     "output_type": "stream",
     "text": [
      "['M', 'y', 'i', 'd', 'N', 'u', 'm', 'b', 'e', 'r', 'i', 's', 'K', 'I', 'M', '0', '9', '0', '2']\n",
      "['My', 'id', 'Number', 'is', 'KIM0902']\n",
      "[' ', ' ', ' ', ' ', '_', '$']\n",
      "[' ', ' ', ' ', ' ', '_$']\n",
      "['M', 'y', 'i', 'd', 'N', 'u', 'm', 'b', 'e', 'r', 'i', 's', 'K', 'I', 'M', '0', '9', '0', '2', '_']\n",
      "['My', 'id', 'Number', 'is', 'KIM0902_']\n",
      "[' ', ' ', ' ', ' ', '$']\n",
      "[' ', ' ', ' ', ' ', '$']\n"
     ]
    }
   ],
   "source": [
    "# 2. 특정 문자열에서 소문자를 모두 찾기\n",
    "str = \"My id Number is KIM0902_$\"\n",
    "\n",
    "# [] : 숫자, 소문자 대문자를 한개의 문자단위로 검색\n",
    "a = re.findall('[0-9a-zA-Z]',str)\n",
    "print(a)\n",
    "# []+ : 숫자, 소문자 대문자를 한개의 단어 단위를 기준으로 검색\n",
    "a = re.findall('[0-9a-zA-Z]+',str)\n",
    "print(a)\n",
    "\n",
    "# [] : 특수문자를 추출 : ^(not)을 앞에다 넣음 [^asdf}\n",
    "a = re.findall('[^0-9a-zA-Z]',str)\n",
    "print(a)\n",
    "\n",
    "a = re.findall('[^0-9a-zA-Z]+',str)\n",
    "print(a)\n",
    "\n",
    "# 영문자, 숫자, _만을 추출 : \\w 의 의미는 whitespace 문자의미의 패턴문자\n",
    "a = re.findall('[\\w]',str)\n",
    "print(a)\n",
    "# 영문자, 숫자, _ 아닌 문자만을 추출 : \\w 의 의미는 whitespace 문자의미의 패턴문자\n",
    "a = re.findall('[\\w]+',str)\n",
    "print(a)\n",
    "# 영문자, 숫자, _제외한 모든 문자만 추출 : \\W or ^\\w\n",
    "a = re.findall('[\\W]+',str)\n",
    "print(a)\n",
    "a = re.findall('[^\\w]+',str)\n",
    "print(a)\n",
    "a = re.findall('[\\w]+',str)\n",
    "print(a)"
   ]
  },
  {
   "cell_type": "code",
   "execution_count": null,
   "metadata": {},
   "outputs": [],
   "source": []
  },
  {
   "cell_type": "code",
   "execution_count": 103,
   "metadata": {},
   "outputs": [
    {
     "name": "stdout",
     "output_type": "stream",
     "text": [
      "['hong', '910915-*******', 'park', '951118-*******', 'kang', '931020-*******']\n"
     ]
    },
    {
     "data": {
      "text/plain": [
       "'hong 910915-******* park 951118-******* kang 931020-*******'"
      ]
     },
     "execution_count": 103,
     "metadata": {},
     "output_type": "execute_result"
    }
   ],
   "source": [
    "# 실습(1)\n",
    "# 주민번호 뒷자르 7자리를 *로 블라인딩처리. 단, 정규식을 사용하지말것\n",
    "data ='''\n",
    "     hong 910915-1234567\n",
    "     park 951118-1234567\n",
    "     kang 931020-1234567\n",
    "'''\n",
    "data = data.split()\n",
    "data\n",
    "a = 0\n",
    "for i in range(len(data)):\n",
    "   \n",
    "    if i%2==1:\n",
    "        data[i]= data[i][:7]+\"*******\"\n",
    "    else: pass\n",
    "print(data)\n",
    "\" \".join(data)"
   ]
  },
  {
   "cell_type": "code",
   "execution_count": 99,
   "metadata": {},
   "outputs": [
    {
     "name": "stdout",
     "output_type": "stream",
     "text": [
      "\n",
      "     hong 910915-*******\n",
      "     park 951118-*******\n",
      "\n"
     ]
    }
   ],
   "source": [
    "# 실습(2)\n",
    "# 주민번호 뒷자르 7자리를 *로 블라인딩처리. 단, 정규식을 사용할 것\n",
    "import re\n",
    "data ='''\n",
    "     hong 910915-1234567\n",
    "     park 951118-1234567\n",
    "'''\n",
    "\n",
    "a = re.findall('1234567' , data)\n",
    "print(re.sub('\\d{7}', '*******', data))\n"
   ]
  },
  {
   "cell_type": "code",
   "execution_count": 79,
   "metadata": {},
   "outputs": [
    {
     "name": "stdout",
     "output_type": "stream",
     "text": [
      "['hong', '910915-******']\n",
      "['park', '951118-******']\n"
     ]
    }
   ],
   "source": [
    "data = [['hong', '910915-1234567'],['park','951118-1234567']]\n",
    "\n",
    "for i in data:\n",
    "    i[1]= i[1][:7]+'*******'\n",
    "    print(i)\n"
   ]
  },
  {
   "cell_type": "code",
   "execution_count": 108,
   "metadata": {},
   "outputs": [
    {
     "name": "stdout",
     "output_type": "stream",
     "text": [
      "\n",
      "\n",
      "\n",
      "\n",
      "\n",
      "\n",
      "hong\n",
      "910915-1234567\n",
      "\n",
      "\n",
      "\n",
      "\n",
      "\n",
      "park\n",
      "951118-1234567\n",
      "\n",
      "\n",
      "     hong 910915-1234567\n",
      "     park 951118-1234567\n",
      "\n"
     ]
    }
   ],
   "source": [
    "data ='''\n",
    "     hong 910915-1234567\n",
    "     park 951118-1234567\n",
    "'''\n",
    "result=[]\n",
    "for line in data.split('\\n'):\n",
    "    word_result = []\n",
    "    for word in line.split(' '):\n",
    "    \n",
    "        print(word)\n",
    "        if(word)== 14 and word[:6].isdigit() and word[7:].isdigit():\n",
    "            word = word[:6]+'*******'\n",
    "        word_result.append(word)\n",
    "    result.append(' '.join(word_result))\n",
    "print('\\n'.join(result))"
   ]
  },
  {
   "cell_type": "code",
   "execution_count": 112,
   "metadata": {},
   "outputs": [
    {
     "name": "stdout",
     "output_type": "stream",
     "text": [
      "<class 're.Pattern'>\n",
      "re.compile('(\\\\d{6})[-](\\\\d{7})')\n",
      "\n",
      "     hong 910915\n",
      "     park 951118\n",
      "\n",
      "\n",
      "     hong 1234567\n",
      "     park 1234567\n",
      "\n",
      "\n",
      "     hong 910915-*******\n",
      "     park 951118-*******\n",
      "\n"
     ]
    }
   ],
   "source": [
    "import re\n",
    "data ='''\n",
    "     hong 910915-1234567\n",
    "     park 951118-1234567\n",
    "'''\n",
    "a= re.compile('(\\d{6})[-](\\d{7})') # 정규식 패턴개체\n",
    "print(type(a))\n",
    "print(a)\n",
    "print(a.sub('\\g<1>',data))\n",
    "print(a.sub('\\g<2>',data))\n",
    "print(a.sub('\\g<1>-*******',data))"
   ]
  },
  {
   "cell_type": "markdown",
   "metadata": {},
   "source": [
    "### 정규표현식\n",
    "\n",
    "#### 1. 메타문자(정규식의 기초\n",
    "> `공란, dot(.)   ^   $   *   +   ?   {  }  \\  |  ()`\n",
    "\n",
    "#### 2. 메타문자의 의미\n",
    "\n",
    "1. [] : [a-z]와 같이 문자 클래스로 만들어진 정규식, [와 ]사이의 문자들과 일치한다는 의미\n",
    "\n",
    "* `\\d`: 숫자와 매치여부, [0-9]와 동일한 의미\n",
    "* `\\D`: 숫자가 아닌것과 매치 여부 결정[^0-9]와 동일한 의미\n",
    "* `\\s`: whitespace문자와 매치여부 [공란\\t\\n\\r\\f\\v]와 동일\n",
    "* `\\S`: whitespace문자와 아닌 것과매치여부 [^공란\\t\\n\\r\\f\\v]와 동일\n",
    "* `\\w`: 문자, 숫자와 매치  [0-9a-zA-Z]와 의미가 동일\n",
    "* `\\W`: 문자, 숫자가 아닌 것과 매치 여부 [^0-9a-zA-Z]와 의미가 동일\n",
    "\n",
    "2. `dot(.)` : 줄바꿈 문자(\\n)를 제외한 모든 한개의 문자와 매치여부\n",
    "\n",
    "    예) a.b: a와 b사이의 모든 문자가 들어오는 문자열과 매치 여부\n",
    "    -> axb (o), a\\nb (x), a*b (o), a1b (o)\n",
    "    \n",
    "3. `반복(*)` : 별표(* ) 바로 앞에 있는 문자가 무한대로 반복되는 문자열과 매치 여부\n",
    "    \n",
    "    예)`ca*t` : cat (o), caaaaat(o), ct(o), cbt(x)  \n",
    "\n",
    "4. `반복(+)` : 반복(*)와 동일한 반복매치인데 다른점은 반복(*)는 반복횟수가 한번도 안나와도 되지만 반복 +는 최소한 1번은 나와야 한다.\n",
    "               \n",
    "    예)`ca+t` : cat (o), caaaaat(o), ct(x), cbt(x)  \n",
    "\n",
    "5. `반복({m,n}, ?)' : 반복 횟수를 제한하고 싶을 경우에 사용 '{}'메타문자를 이용한 반복횟수를 고정할 수 있다. `(m,n)`메타문자인 경우는 반복횟수가 m부터 n까지 문자열과 매치여부 m,n은 생략할 수 있다.\n",
    "\n",
    "    예) `{3,}`: 반복회수가 3번 이상인 문자열과 매치여부 `{,3}` 반복횟수가 3 이하를 의미 m이 생략이 되면 0이고 n이 생략이 되면 무한을 의미한다. `{1,}`는 반복(+)와 동일, `{0,}'은 반복(*)와 동일한 의미를 갖는다.\n",
    "    \n",
    "    * `{m}` : ca{2}t : a가 2번 나와야 한다. cat(x), caat(o)\n",
    "    * `{m,n}` : ca{2,5}t : a가 2 ~ 5번 반복하는 문자열과 매치 : cat(x), caat(o),caaaaat(o)\n",
    "    * '?' : 반복은 아니지만 없어도 매치가 되고, 있어도 매치가 된다. ab?c : abc(o) ac(o)\n",
    "\n",
    "6. `그룹(소괄호)` : 문자열을 한개의 그룹으로 묶는 메타문자\n",
    "\n",
    "\n",
    "#### 3. 정규식 관련함수\n",
    "\n",
    "1. findall(): 정규식과 매치되는 모든 문자열을 리스트로 리턴\n",
    "2. match(): 문자열의 처음부터 정규식패턴과 매치여부를 확인 후 객체를 리턴\n",
    "3. search(): 문자열 전체를 검색한 후에 정규식패턴과 매치여부를 확인후 객체를 리턴\n",
    "4. finditer(): 정규식 패턴과 매치되는 모든 문자열을 iterable 객체로 리턴"
   ]
  },
  {
   "cell_type": "code",
   "execution_count": 121,
   "metadata": {},
   "outputs": [
    {
     "name": "stdout",
     "output_type": "stream",
     "text": [
      "<class 're.Pattern'>\n",
      "['__class__', '__copy__', '__deepcopy__', '__delattr__', '__dir__', '__doc__', '__eq__', '__format__', '__ge__', '__getattribute__', '__gt__', '__hash__', '__init__', '__init_subclass__', '__le__', '__lt__', '__ne__', '__new__', '__reduce__', '__reduce_ex__', '__repr__', '__setattr__', '__sizeof__', '__str__', '__subclasshook__', 'findall', 'finditer', 'flags', 'fullmatch', 'groupindex', 'groups', 'match', 'pattern', 'scanner', 'search', 'split', 'sub', 'subn']\n",
      "<class 'NoneType'>\n",
      "None\n",
      "<class 'NoneType'>\n",
      "None\n",
      "<class 're.Match'>\n",
      "<re.Match object; span=(0, 6), match='python'>\n"
     ]
    }
   ],
   "source": [
    "import re\n",
    "\n",
    "# 1. match()\n",
    "p = re.compile('[a-z]+')\n",
    "print(type(p))\n",
    "print(dir(p))\n",
    "\n",
    "m=p.match('Python') #NoneType\n",
    "print(type(m))\n",
    "print(m)\n",
    "\n",
    "m=p.match('3 Python') #NoneType\n",
    "print(type(m))\n",
    "print(m)\n",
    "\n",
    "m=p.match('python') #re.Match 띄어쓰기 기준으로 풀로 다 맞아야 매치된다\n",
    "print(type(m))\n",
    "print(m)"
   ]
  },
  {
   "cell_type": "code",
   "execution_count": 124,
   "metadata": {},
   "outputs": [
    {
     "name": "stdout",
     "output_type": "stream",
     "text": [
      "<class 're.Match'>\n",
      "<re.Match object; span=(1, 6), match='ython'>\n",
      "<class 're.Match'>\n",
      "<re.Match object; span=(3, 8), match='ython'>\n",
      "<class 're.Match'>\n",
      "<re.Match object; span=(0, 6), match='python'>\n"
     ]
    }
   ],
   "source": [
    "# 2. search()\n",
    "m=p.search('Python') # 풀로 다 맞을 필요는 없이 일부분만 맞아도 된다.\n",
    "print(type(m))\n",
    "print(m)\n",
    "\n",
    "m=p.search('3 Python') \n",
    "print(type(m))\n",
    "print(m)\n",
    "\n",
    "m=p.search('python') \n",
    "print(type(m))\n",
    "print(m)"
   ]
  },
  {
   "cell_type": "code",
   "execution_count": 133,
   "metadata": {},
   "outputs": [
    {
     "name": "stdout",
     "output_type": "stream",
     "text": [
      "['ife', 'is', 'too', 'short']\n",
      "['i', 'f', 'e', 'i', 's', 't', 'o', 'o', 's', 'h', 'o', 'r', 't']\n",
      "['L']\n",
      "['L', 'SH']\n",
      "[('910915', '1234567'), ('931020', '1024314')]\n",
      "['910915', '123456', '793102', '102431']\n"
     ]
    }
   ],
   "source": [
    "# 3. findall()\n",
    "p = re.compile('[a-z]+')\n",
    "result = p.findall('Life is too short')\n",
    "print(result)\n",
    "\n",
    "p = re.compile('[a-z]')\n",
    "result = p.findall('Life is too short')\n",
    "print(result)\n",
    "\n",
    "p = re.compile('[A-Z]')\n",
    "result = p.findall('Life is too short')\n",
    "print(result)\n",
    "\n",
    "p = re.compile('[A-Z]+')\n",
    "result = p.findall('Life is too SHort')\n",
    "print(result)\n",
    "\n",
    "p = re.compile('(\\d{6})[-](\\d{7})')\n",
    "result = p.findall('910915-1234567931020-1024314') #리스트 자료형이고 요소는 튜플\n",
    "print(result)\n",
    "\n",
    "p = re.compile('\\d{6}')\n",
    "result = p.findall('910915-1234567931020-1024314') #처음부터 순서대로 6자리 숫자를 찾음\n",
    "print(result)"
   ]
  },
  {
   "cell_type": "code",
   "execution_count": 29,
   "metadata": {},
   "outputs": [
    {
     "name": "stdout",
     "output_type": "stream",
     "text": [
      "<callable_iterator object at 0x000001B147EA9108>\n",
      "<class 'callable_iterator'>\n",
      "<re.Match object; span=(1, 2), match='i'>\n",
      "<re.Match object; span=(2, 3), match='f'>\n",
      "<re.Match object; span=(3, 4), match='e'>\n",
      "<re.Match object; span=(5, 6), match='i'>\n",
      "<re.Match object; span=(6, 7), match='s'>\n",
      "<re.Match object; span=(8, 9), match='t'>\n",
      "<re.Match object; span=(9, 10), match='o'>\n",
      "<re.Match object; span=(10, 11), match='o'>\n",
      "<re.Match object; span=(12, 13), match='s'>\n",
      "<re.Match object; span=(13, 14), match='h'>\n",
      "<re.Match object; span=(14, 15), match='o'>\n",
      "<re.Match object; span=(15, 16), match='r'>\n",
      "<re.Match object; span=(16, 17), match='t'>\n"
     ]
    }
   ],
   "source": [
    "# 4. finditer() : re.match 객체로 리턴된다.\n",
    "p = re.compile('[a-z]+')\n",
    "result = p.finditer('Life is too short')\n",
    "print(result)\n",
    "print(type(result))\n",
    "for i in result:\n",
    "    print(i)\n",
    "#     print(type(i))"
   ]
  },
  {
   "cell_type": "markdown",
   "metadata": {},
   "source": [
    "### 정규식 컴파일 옵션\n",
    "\n",
    "1. DOTALL(or S) : dot(.)이 줄바꿈 문자를 포함한 모든 문자와 매치할 수 있도록 한다.\n",
    "2. IGNORECASE(or I) : 대소문자와 관계없이 매치할 수 있도록 한다.\n",
    "3. MULTILINE(or M) : 여러줄과 매치할 수 있도록 한다. (시작(^), 끝($) 메타문자와 관련있는 옵션)\n",
    "4. VERBOSE(or X) : verbose모드 사용여부(정규식을 보기 편하게 또는 주석처리를 사욜할 수 있도록 하는 옵션)"
   ]
  },
  {
   "cell_type": "code",
   "execution_count": 142,
   "metadata": {},
   "outputs": [
    {
     "name": "stdout",
     "output_type": "stream",
     "text": [
      "<re.Match object; span=(0, 3), match='aab'>\n",
      "None\n",
      "<re.Match object; span=(0, 3), match='a\\nb'>\n"
     ]
    }
   ],
   "source": [
    "# 1. DOTALL, S : re.DOTALL or re.S\n",
    "import re\n",
    "p = re.compile('a.b', re.DOTALL)# re.S\n",
    "m = p.match('aab')\n",
    "print(m)\n",
    "\n",
    "m = p.match('a\\nb',re.S)\n",
    "print(m)\n",
    "\n",
    "m = p.match('a\\nb')\n",
    "print(m)"
   ]
  },
  {
   "cell_type": "code",
   "execution_count": 145,
   "metadata": {},
   "outputs": [
    {
     "name": "stdout",
     "output_type": "stream",
     "text": [
      "<re.Match object; span=(0, 1), match='p'>\n",
      "<re.Match object; span=(0, 1), match='P'>\n",
      "<re.Match object; span=(0, 1), match='P'>\n"
     ]
    }
   ],
   "source": [
    "# 2. re.IGNORECASE = re.I\n",
    "\n",
    "p = re.compile('[a-z]', re.I)# re.IGNORECASE\n",
    "m = p.match('python')\n",
    "print(m)\n",
    "\n",
    "m = p.match('Python')\n",
    "print(m)\n",
    "\n",
    "m = p.match('PYTHON')\n",
    "print(m)"
   ]
  },
  {
   "cell_type": "code",
   "execution_count": 148,
   "metadata": {},
   "outputs": [
    {
     "name": "stdout",
     "output_type": "stream",
     "text": [
      "['python one']\n",
      "['python one', 'python two', 'python three']\n"
     ]
    }
   ],
   "source": [
    "# 3. MULTILINE = M\n",
    "#'^python\\s\\w+' :\n",
    "# 1) ^python : python으로 시작해야 하고\n",
    "# 2) \\s : 뒤에 whitespace 문자가 와야 하고\n",
    "# 3) \\w : 뒤에 문자와 숫자가 와야하고 \n",
    "# 4) + : 단어단위이어야 한다.\n",
    "\n",
    "p = re.compile('^python\\s\\w+')\n",
    "data = '''python one\n",
    "Life is too short\n",
    "python two\n",
    "you need python\n",
    "python three\n",
    "'''\n",
    "\n",
    "result = p.findall(data)\n",
    "print(result) # 하나 밖에 나오지 않는다 why 옵션을 멀티라인(여러개 구하기)으로 주지 않았기 때문이다.\n",
    "\n",
    "p = re.compile('^python\\s\\w+', re.M)\n",
    "result = p.findall(data)\n",
    "print(result)"
   ]
  },
  {
   "cell_type": "code",
   "execution_count": 156,
   "metadata": {},
   "outputs": [
    {
     "name": "stdout",
     "output_type": "stream",
     "text": [
      "re.compile('&[#](o[0-7]+|[0-9]+|x[0-9a-fA-F]+);')\n",
      "re.compile('\\n&[#]                     # 숫자로자로 시작해야 된다.\\n(\\n      o[0-7]+            # 8진수\\n      | [0-9]+           # 10진수\\n      | x[0-9a-fA-Z]+    # 16진수\\n)\\n;                        # 마지막이 세미콜른(;)으로 끝나야 한다.\\, re.VERBOSE)\n",
      "[]\n"
     ]
    }
   ],
   "source": [
    "# 4. VERBOSE = X\n",
    "# 지금껏 실습한 정규식은 매우 간단한 정규식이다. 하지만 정규식 전문가들이 만든 정규식을 보면\n",
    "# 거의 암호수준이다. 그래서 이 정규식을 이해하려면 하나하나씩 분석을 해야 하는데 복잡한 정규식의 경우\n",
    "# 분석하는데 한계가 있어 복잡한 정규식을 주석 또는 라인 단위로 구분해야 하는데 이를 구분할수 있도록 \n",
    "# 지원해주는 옵선이 VERBOSE옵션이다.\n",
    "r = re.compile(r'&[#](o[0-7]+|[0-9]+|x[0-9a-fA-F]+);')\n",
    "ref = re.compile(r'''\n",
    "&[#]                     # 숫자로자로 시작해야 된다.\n",
    "(\n",
    "      o[0-7]+            # 8진수\n",
    "      | [0-9]+           # 10진수\n",
    "      | x[0-9a-fA-Z]+    # 16진수\n",
    ")\n",
    ";                        # 마지막이 세미콜른(;)으로 끝나야 한다.\n",
    "''', re.VERBOSE)\n",
    "print(r)\n",
    "print(ref)\n",
    "\n",
    "m = r.findall('1;')\n",
    "print(m)"
   ]
  },
  {
   "cell_type": "code",
   "execution_count": null,
   "metadata": {},
   "outputs": [],
   "source": []
  },
  {
   "cell_type": "markdown",
   "metadata": {},
   "source": [
    "### 정규식을 사용할 때 백슬레쉬() 문제\n",
    "\n",
    "정규식을 표현할 때 백슬래쉬를 사용하게 되면 혼란을 주게 된다.`\\section`이 정규식은 \\s 문자가 whitespace로 인식하게 된다. 즉, `[공란\\t\\n\\r\\f\\v]ection`와 동일한 의미가 된다. 이런 경우에는 `\\\\section` 처럼 2개의 `\\\\`로 정의해서 문자열로 인식하게 해야 한다."
   ]
  },
  {
   "cell_type": "markdown",
   "metadata": {},
   "source": [
    "#### 심화정규식 실습"
   ]
  },
  {
   "cell_type": "code",
   "execution_count": 160,
   "metadata": {},
   "outputs": [
    {
     "name": "stdout",
     "output_type": "stream",
     "text": [
      "<re.Match object; span=(0, 4), match='Crow'>\n",
      "<re.Match object; span=(0, 5), match='Servo'>\n"
     ]
    }
   ],
   "source": [
    "# 1. or(|)는 A|B 즉 , A이거나 B를 의미\n",
    "p = re.compile(\"Crow|Servo\")\n",
    "m = p.match(\"CrowHello\")\n",
    "print(m)\n",
    "\n",
    "m = p.match(\"Servoooooooo\")\n",
    "print(m)"
   ]
  },
  {
   "cell_type": "code",
   "execution_count": 165,
   "metadata": {},
   "outputs": [
    {
     "name": "stdout",
     "output_type": "stream",
     "text": [
      "<re.Match object; span=(0, 4), match='Life'>\n",
      "None\n",
      "None\n",
      "<re.Match object; span=(0, 7), match='My Life'>\n"
     ]
    }
   ],
   "source": [
    "# 2. ^ : 문자열의 맨 처음부터 시작해서 일치여부\n",
    "print(re.search('^Life','Life is too short'))\n",
    "print(re.search('^Life','MyLife is too short')) # My가 처음이 아니기 때문이 불일 치\n",
    "print(re.search('^Life','My Life is too short')) # 불일ㅇ치\n",
    "print(re.search('^My Life','My Life is too short'))"
   ]
  },
  {
   "cell_type": "code",
   "execution_count": 166,
   "metadata": {},
   "outputs": [
    {
     "name": "stdout",
     "output_type": "stream",
     "text": [
      "<re.Match object; span=(12, 17), match='short'>\n",
      "None\n",
      "None\n"
     ]
    }
   ],
   "source": [
    "# 3. $ : 맨 뒤의 문자가 일치여부 $는 맨뒤를 의미한다.\n",
    "print(re.search('short$','Life is too short'))\n",
    "print(re.search('short$','MyLife is too short....')) # 불일치\n",
    "print(re.search('short$','My Life is too short   ......')) # 불일치"
   ]
  },
  {
   "cell_type": "code",
   "execution_count": null,
   "metadata": {},
   "outputs": [],
   "source": [
    "### 연습문제"
   ]
  },
  {
   "cell_type": "code",
   "execution_count": 23,
   "metadata": {},
   "outputs": [
    {
     "name": "stdout",
     "output_type": "stream",
     "text": [
      "<re.Match object; span=(0, 11), match='12abc123A21'> 사용가능\n",
      "불가능\n",
      "불가능\n",
      "불가능\n",
      "<re.Match object; span=(0, 6), match='123ABc'> 사용가능\n"
     ]
    }
   ],
   "source": [
    "# 1. 비밀번호정합성\n",
    "# 1. 비밀번호의 길이 : 6~12\n",
    "# 2. 숫자와 영문자로 구성\n",
    "# 3. 소문자와 대문자로 구성\n",
    "# 4. 특수문자사용불가\n",
    "import re\n",
    "def pwd_check(pwd):\n",
    "    r = re.compile('^(?=\\w{6,12}$)(?=.*\\d)(?=.*[A-Z]).*')\n",
    "    m = r.match(pwd)\n",
    "    if m is None:\n",
    "        print('불가능')\n",
    "    else:\n",
    "        print(m, '사용가능')\n",
    "pwd_check('12abc123A21')\n",
    "pwd_check('12abc')\n",
    "pwd_check('123abc')\n",
    "pwd_check('12abc%')\n",
    "pwd_check('123ABc') # ok\n"
   ]
  },
  {
   "cell_type": "code",
   "execution_count": 3,
   "metadata": {},
   "outputs": [
    {
     "name": "stdout",
     "output_type": "stream",
     "text": [
      "사용불가\n",
      "사용불가\n",
      "사용불가\n",
      "<re.Match object; span=(0, 13), match='kim@gmail.co.'> 사용가능\n"
     ]
    },
    {
     "ename": "AttributeError",
     "evalue": "'re.Match' object has no attribute 'value'",
     "output_type": "error",
     "traceback": [
      "\u001b[1;31m---------------------------------------------------------------------------\u001b[0m",
      "\u001b[1;31mAttributeError\u001b[0m                            Traceback (most recent call last)",
      "\u001b[1;32m<ipython-input-3-c6facec8d51b>\u001b[0m in \u001b[0;36m<module>\u001b[1;34m\u001b[0m\n\u001b[0;32m     14\u001b[0m \u001b[0memail_check\u001b[0m\u001b[1;33m(\u001b[0m\u001b[1;34m'kim_gmail.kr'\u001b[0m\u001b[1;33m)\u001b[0m\u001b[1;33m\u001b[0m\u001b[1;33m\u001b[0m\u001b[0m\n\u001b[0;32m     15\u001b[0m \u001b[0memail_check\u001b[0m\u001b[1;33m(\u001b[0m\u001b[1;34m'kim'\u001b[0m\u001b[1;33m)\u001b[0m\u001b[1;33m\u001b[0m\u001b[1;33m\u001b[0m\u001b[0m\n\u001b[1;32m---> 16\u001b[1;33m \u001b[0memail_check\u001b[0m\u001b[1;33m(\u001b[0m\u001b[1;34m'kim@gmail.co.'\u001b[0m\u001b[1;33m)\u001b[0m\u001b[1;33m.\u001b[0m\u001b[0mvalue\u001b[0m \u001b[1;31m# ok\u001b[0m\u001b[1;33m\u001b[0m\u001b[1;33m\u001b[0m\u001b[0m\n\u001b[0m",
      "\u001b[1;31mAttributeError\u001b[0m: 're.Match' object has no attribute 'value'"
     ]
    }
   ],
   "source": [
    "import re\n",
    "# 2. 이메일에 대한 정합성\n",
    "def email_check(email):\n",
    "    r = re.compile('(\\w{3,40})[@](\\w{2,})[.](com|net|dot|co.{,3})')\n",
    "  \n",
    "    m = r.match(email)\n",
    "    if m is None:\n",
    "        print(\"사용불가\")\n",
    "    else:\n",
    "        print(m, '사용가능')\n",
    "        return m\n",
    "    \n",
    "email_check('kim@gmail')\n",
    "email_check('kim_gmail.kr')\n",
    "email_check('kim')\n",
    "email_check('kim@gmail.co.').value # ok"
   ]
  },
  {
   "cell_type": "code",
   "execution_count": 29,
   "metadata": {},
   "outputs": [
    {
     "name": "stdout",
     "output_type": "stream",
     "text": [
      "사용불가능\n",
      "사용불가능\n",
      "사용불가능\n",
      "사용불가능\n",
      "사용가능\n"
     ]
    }
   ],
   "source": [
    "import re\n",
    "def pwd_check(pwd):\n",
    "\n",
    "    r = re.compile('[a-z]')\n",
    "    m = r.search(pwd)    \n",
    "#     print(m)\n",
    "    if m is None:\n",
    "        print('사용 불가능')\n",
    "    else:     \n",
    "#         print(m)\n",
    "        a = re.compile('\\d')\n",
    "        b = a.match(pwd)\n",
    "        if b is None:\n",
    "            print('사용불가능')\n",
    "        else:\n",
    "#              print('가능')\n",
    "            a = re.compile('[A-Z]')\n",
    "            b = a.search(pwd)\n",
    "            if b is None:\n",
    "                print('사용불가능')\n",
    "            else:\n",
    "#                 print('가능')\n",
    "                a = re.compile('^\\w{6,12}$')\n",
    "                b = a.match(pwd)\n",
    "                if b is None:\n",
    "                    print('사용불가능')\n",
    "                else:\n",
    "                    print('사용가능')\n",
    "#                     a = re.compile('\\W')\n",
    "#                     b = a.match(pwd)\n",
    "#                     if a is None:\n",
    "#                         print('사용가능')\n",
    "#                     else:\n",
    "#                         print('사용 불가능')\n",
    "                        \n",
    "                \n",
    "pwd_check('12aA')\n",
    "pwd_check('12abc')\n",
    "pwd_check('123abc')\n",
    "pwd_check('12abc%A231')\n",
    "pwd_check('123ABc12311') # ok"
   ]
  },
  {
   "cell_type": "code",
   "execution_count": null,
   "metadata": {},
   "outputs": [],
   "source": []
  }
 ],
 "metadata": {
  "kernelspec": {
   "display_name": "Python 3",
   "language": "python",
   "name": "python3"
  },
  "language_info": {
   "codemirror_mode": {
    "name": "ipython",
    "version": 3
   },
   "file_extension": ".py",
   "mimetype": "text/x-python",
   "name": "python",
   "nbconvert_exporter": "python",
   "pygments_lexer": "ipython3",
   "version": "3.7.7"
  }
 },
 "nbformat": 4,
 "nbformat_minor": 4
}
