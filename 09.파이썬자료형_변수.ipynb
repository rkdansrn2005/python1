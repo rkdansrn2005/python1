{
 "cells": [
  {
   "cell_type": "markdown",
   "metadata": {},
   "source": [
    "### 변수\n",
    "\n",
    "변수란 ? 자료형의 값을 저장하는 메모리 공간을 말한다. 변수를 만드는 방법은 <code>변수명 = 값</code>\n",
    "즉, <code>대입연산자, assignment, =</code>을 사용한다. C나 Java처럼 변수의 자료형을 함께 사용할 필요는 없다.\n",
    "파이썬에서는 변수에 저장된 값을 가지고 스스로 판단해서 자료형을 알아낸다.\n",
    "\n",
    "파이썬에서 사용하는 <code>변수는 객체(Object)</code>를 가리키는 것이다. 즉 파이썬의 모든 자료형은 모두 객체이다. 파이썬에서 숫자 3은 일반적으로 상수값이지만 파이썬에서 <code>3은 정수형 객체</code>이다.  예를 들어서 print(type(3))의 결과는 <clas 'int'>이다. 즉 3은 int 클래스의 객체임을 알 수 있다."
   ]
  },
  {
   "cell_type": "markdown",
   "metadata": {},
   "source": [
    "#### 1. 변수를 만드는 법"
   ]
  },
  {
   "cell_type": "code",
   "execution_count": 7,
   "metadata": {},
   "outputs": [
    {
     "name": "stdout",
     "output_type": "stream",
     "text": [
      "<class 'int'>\n",
      "<class 'str'>\n",
      "<class 'builtin_function_or_method'>\n",
      "print함수로 재정의 된 함수\n"
     ]
    }
   ],
   "source": [
    "# 1. 일반적인방법\n",
    "a = 100\n",
    "print(type(a))\n",
    "b =\"문자열\"\n",
    "print(type(b))\n",
    "c = print\n",
    "print(type(c))\n",
    "\n",
    "c(\"print함수로 재정의 된 함수\") # c라는 변수는 print 함수로 저장되어 있다.\n",
    "print(c)"
   ]
  },
  {
   "cell_type": "code",
   "execution_count": 12,
   "metadata": {},
   "outputs": [
    {
     "name": "stdout",
     "output_type": "stream",
     "text": [
      "첫 번째 문자열 두 번째 문자열\n",
      "x y z\n",
      "<class 'str'>\n",
      "x y z\n",
      "x z z\n"
     ]
    }
   ],
   "source": [
    "# 2. 튜플로 변수를 반드는 법\n",
    "# 튜플로 변수의 값을 대입 단, 조건은 변수의 갯수와 값의 갯수가 동일해야 한다.\n",
    "# 틀릴 경우에는 valueError발생\n",
    "a,b=('첫 번째 문자열','두 번째 문자열')\n",
    "print(a,b)\n",
    "\n",
    "(x,y,z) =('x','y','z')\n",
    "print(x,y,z)\n",
    "print(type(x))\n",
    "\n",
    "a, b, c =('x','y','z')\n",
    "print(a,b,c)\n",
    "\n",
    "a, b, b =('x','y','z') # 순서대로 변수가 정의된다.\n",
    "print(a,b,c)"
   ]
  },
  {
   "cell_type": "code",
   "execution_count": 14,
   "metadata": {},
   "outputs": [
    {
     "name": "stdout",
     "output_type": "stream",
     "text": [
      "첫번째 문자\n",
      "x y z\n"
     ]
    }
   ],
   "source": [
    "# 3. 리스트로 변수를 만드는 법\n",
    "a, b=['첫번째 문자', '두번째 문자']\n",
    "print(a)\n",
    "\n",
    "[x,y,z] =('x','y','z')\n",
    "print(x,y,z)\n",
    "print(type(y), type(z))"
   ]
  },
  {
   "cell_type": "code",
   "execution_count": 1,
   "metadata": {},
   "outputs": [
    {
     "name": "stdout",
     "output_type": "stream",
     "text": [
      "100 100 50\n"
     ]
    }
   ],
   "source": [
    "# 4. 한번에 여러개의 변수에 동일값을 대입하는 법\n",
    "\n",
    "a = b = c = 100\n",
    "print(a,b,c)"
   ]
  },
  {
   "cell_type": "code",
   "execution_count": 16,
   "metadata": {},
   "outputs": [
    {
     "name": "stdout",
     "output_type": "stream",
     "text": [
      "10 5\n"
     ]
    }
   ],
   "source": [
    "# 5. 두개의 변수값을 swapping 하는 법\n",
    "a, b = 5,10\n",
    "\n",
    "a,b=b,a\n",
    "print(a,b)"
   ]
  },
  {
   "cell_type": "code",
   "execution_count": 20,
   "metadata": {},
   "outputs": [
    {
     "name": "stdout",
     "output_type": "stream",
     "text": [
      "[1, 2, 3] [1, 2, 3]\n",
      "['x', 2, 3] ['x', 2, 3]\n",
      "2580932965896\n",
      "2580932965896\n"
     ]
    }
   ],
   "source": [
    "# 6. 리스트를 변수에 넣고 복사할 경우\n",
    "# 6-1) 얕은 복사 : 변수의 주소만 복사하는 경우\n",
    "l1= [1,2,3]\n",
    "l2= l1\n",
    "print(l1,l2)\n",
    "l1[0]='x'\n",
    "print(l1,l2)\n",
    "print(id(l1))\n",
    "print(id(l2))"
   ]
  },
  {
   "cell_type": "code",
   "execution_count": 23,
   "metadata": {},
   "outputs": [
    {
     "name": "stdout",
     "output_type": "stream",
     "text": [
      "[1, 2, 3] [1, 2, 3]\n",
      "['x', 2, 3] [1, 2, 3]\n",
      "2580933926600\n",
      "2580933926664\n"
     ]
    }
   ],
   "source": [
    "# 6-2) 깊은 복사\n",
    "# a. 슬리이싱을 이용한 깊은 복사\n",
    "l1 =[1,2,3]\n",
    "l2 = l1[:]\n",
    "print(l1,l2)\n",
    "l1[0] = 'x'\n",
    "print(l1,l2)\n",
    "print(id(l1))\n",
    "print(id(l2))"
   ]
  },
  {
   "cell_type": "code",
   "execution_count": 26,
   "metadata": {},
   "outputs": [
    {
     "name": "stdout",
     "output_type": "stream",
     "text": [
      "[1, 2, 3] [1, 2, 3]\n",
      "[1, 2, 3] ['x', 2, 3]\n",
      "2580934276168\n",
      "2580934276232\n"
     ]
    }
   ],
   "source": [
    "# b. copy모듈을 이용한 깊은 복사 : 하나를 바꿔도 연결된 것이 변하지 않음 \n",
    "from copy import copy\n",
    "l1 =[1,2,3]\n",
    "l2 = copy(l1) # l2 = l1[:] 와 동일\n",
    "print(l1,l2)\n",
    "\n",
    "l2[0] ='x'\n",
    "print(l1,l2)\n",
    "print(id(l1))\n",
    "print(id(l2))"
   ]
  },
  {
   "cell_type": "code",
   "execution_count": null,
   "metadata": {},
   "outputs": [],
   "source": []
  },
  {
   "cell_type": "code",
   "execution_count": null,
   "metadata": {},
   "outputs": [],
   "source": []
  },
  {
   "cell_type": "code",
   "execution_count": null,
   "metadata": {},
   "outputs": [],
   "source": []
  },
  {
   "cell_type": "code",
   "execution_count": null,
   "metadata": {},
   "outputs": [],
   "source": []
  }
 ],
 "metadata": {
  "kernelspec": {
   "display_name": "Python 3",
   "language": "python",
   "name": "python3"
  },
  "language_info": {
   "codemirror_mode": {
    "name": "ipython",
    "version": 3
   },
   "file_extension": ".py",
   "mimetype": "text/x-python",
   "name": "python",
   "nbconvert_exporter": "python",
   "pygments_lexer": "ipython3",
   "version": "3.7.6"
  }
 },
 "nbformat": 4,
 "nbformat_minor": 4
}
