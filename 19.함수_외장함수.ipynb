{
 "cells": [
  {
   "cell_type": "markdown",
   "metadata": {},
   "source": [
    "### 외장함수\n",
    "\n",
    "내장함수와는 달리 `import` 명령을 사용하여 외부에 있는 패키지 또는 모듈, 함수를 로딩한다음 사용할 수 있는 함수를 이야기한다."
   ]
  },
  {
   "cell_type": "code",
   "execution_count": 11,
   "metadata": {},
   "outputs": [
    {
     "name": "stdout",
     "output_type": "stream",
     "text": [
      "['__breakpointhook__', '__displayhook__', '__doc__', '__excepthook__', '__interactivehook__', '__loader__', '__name__', '__package__', '__spec__', '__stderr__', '__stdin__', '__stdout__', '_base_executable', '_clear_type_cache', '_current_frames', '_debugmallocstats', '_enablelegacywindowsfsencoding', '_framework', '_getframe', '_git', '_home', '_xoptions', 'api_version', 'argv', 'base_exec_prefix', 'base_prefix', 'breakpointhook', 'builtin_module_names', 'byteorder', 'call_tracing', 'callstats', 'copyright', 'displayhook', 'dllhandle', 'dont_write_bytecode', 'exc_info', 'excepthook', 'exec_prefix', 'executable', 'exit', 'flags', 'float_info', 'float_repr_style', 'get_asyncgen_hooks', 'get_coroutine_origin_tracking_depth', 'get_coroutine_wrapper', 'getallocatedblocks', 'getcheckinterval', 'getdefaultencoding', 'getfilesystemencodeerrors', 'getfilesystemencoding', 'getprofile', 'getrecursionlimit', 'getrefcount', 'getsizeof', 'getswitchinterval', 'gettrace', 'getwindowsversion', 'hash_info', 'hexversion', 'implementation', 'int_info', 'intern', 'is_finalizing', 'last_traceback', 'last_type', 'last_value', 'maxsize', 'maxunicode', 'meta_path', 'modules', 'path', 'path_hooks', 'path_importer_cache', 'platform', 'prefix', 'ps1', 'ps2', 'ps3', 'set_asyncgen_hooks', 'set_coroutine_origin_tracking_depth', 'set_coroutine_wrapper', 'setcheckinterval', 'setprofile', 'setrecursionlimit', 'setswitchinterval', 'settrace', 'stderr', 'stdin', 'stdout', 'thread_info', 'version', 'version_info', 'warnoptions', 'winver']\n",
      "['C:\\\\Anaconda3\\\\lib\\\\site-packages\\\\ipykernel_launcher.py', '-f', 'C:\\\\Users\\\\TJ\\\\AppData\\\\Roaming\\\\jupyter\\\\runtime\\\\kernel-2729f8cd-9b31-47f2-9bb4-9890e72685d5.json']\n"
     ]
    }
   ],
   "source": [
    "# 1. sys : 파이썬 인터프리터가 제공해주는 변수들과 함수들을 직접 제어할 수 있도록 지원 함수\n",
    "import sys\n",
    "# sys?\n",
    "print(dir(sys))\n",
    "\n",
    "# 1)path목록출력, 추가, 삭제하는 함수\n",
    "# sys.path는 list자료형으로 리턴하기 때문에 list에서 사용되는 함수 append,remove등을 \n",
    "# 사용해서 path의 추가, 삭제등의 작업을 할 수 있다.\n",
    "\n",
    "sys.path\n",
    "# sys.path.append(\"경로\")\n",
    "\n",
    "# 2) exit : 강제로 파이썬(스크립트)을 종료\n",
    "# sys.exit()\n",
    "\n",
    "# 3) argv : 명령형에서 인수를 전달할 때 사용\n",
    "print(sys.argv)"
   ]
  },
  {
   "cell_type": "code",
   "execution_count": null,
   "metadata": {},
   "outputs": [],
   "source": [
    "# 1. os\n",
    "# 이 모듈은 환경변수나 디렉토리, 파일등 os 자원들을 제어할 수 있도록 해주는 함수\n",
    "import os\n",
    "# os?"
   ]
  },
  {
   "cell_type": "code",
   "execution_count": 20,
   "metadata": {},
   "outputs": [
    {
     "data": {
      "text/plain": [
       "'DESKTOP-J2LIGQ3'"
      ]
     },
     "execution_count": 20,
     "metadata": {},
     "output_type": "execute_result"
    }
   ],
   "source": [
    "# 2-1) os.environ[]: 시스템의 환경 변수를 출력\n",
    "# os.environ\n",
    "# os.environ?\n",
    "os.environ['PATH']\n",
    "os.environ['COMPUTERNAME']"
   ]
  },
  {
   "cell_type": "code",
   "execution_count": 27,
   "metadata": {},
   "outputs": [
    {
     "data": {
      "text/plain": [
       "'D:\\\\kangmoonku\\\\html5\\\\python'"
      ]
     },
     "execution_count": 27,
     "metadata": {},
     "output_type": "execute_result"
    }
   ],
   "source": [
    "# 2-2) os.chdir():디렉토리 위치를 변경\n",
    "# 디렉토리구분자는 / or  \\도 상관 없다.\n",
    "# %pwd\n",
    "# os.chdir('c:\\windows')\n",
    "# %pwd\n",
    "os.chdir('D:\\kangmoonku\\html5\\python')\n",
    "%pwd"
   ]
  },
  {
   "cell_type": "code",
   "execution_count": 29,
   "metadata": {},
   "outputs": [
    {
     "data": {
      "text/plain": [
       "'D:\\\\kangmoonku\\\\html5\\\\python'"
      ]
     },
     "execution_count": 29,
     "metadata": {},
     "output_type": "execute_result"
    }
   ],
   "source": [
    "# 2-3) os.getcwd(): 현재디렉토리를 리턴\n",
    "os.getcwd()"
   ]
  },
  {
   "cell_type": "code",
   "execution_count": 39,
   "metadata": {},
   "outputs": [
    {
     "name": "stdout",
     "output_type": "stream",
     "text": [
      " D 드라이브의 볼륨에는 이름이 없습니다.\n",
      " 볼륨 일련 번호: 7C73-6CFD\n",
      "\n",
      " D:\\kangmoonku\\html5\\python 디렉터리\n",
      "\n",
      "2020-03-27  오전 10:00    <DIR>          .\n",
      "2020-03-27  오전 10:00    <DIR>          ..\n",
      "2020-03-27  오전 09:32    <DIR>          .ipynb_checkpoints\n",
      "2020-03-17  오후 12:56            12,530 00.파이썬설치 및 설정.ipynb\n",
      "2020-03-18  오후 06:20            34,851 01.파이썬자료형_기본형.ipynb\n",
      "2020-03-18  오후 03:49            19,454 02.파이썬 자료형_리스트.ipynb\n",
      "2020-03-18  오후 06:13             7,239 03.파이썬자료형_튜플.ipynb\n",
      "2020-03-19  오후 05:44            32,202 04.파이썬자료형_딕셔너리.ipynb\n",
      "2020-03-19  오후 05:48            10,365 06.파이썬자료형_집합형.ipynb\n",
      "2020-03-19  오후 01:15             3,563 07.파이썬자료형_boolean형.ipynb\n",
      "2020-03-19  오후 05:52             7,189 08.제어문_if.ipynb\n",
      "2020-03-19  오후 05:49             6,435 09.파이썬자료형_변수.ipynb\n",
      "2020-03-20  오후 12:17            19,197 10.반복문_for.ipynb\n",
      "2020-03-20  오후 02:53             9,362 11.반복문_while.ipynb\n",
      "2020-03-23  오후 03:00           668,908 12.함수_function.ipynb\n",
      "2020-03-24  오전 10:51            25,456 13.파일입출력_fileIO.ipynb\n",
      "2020-03-25  오후 05:21            66,228 14.클래스_class.ipynb\n",
      "2020-03-25  오후 04:45            31,943 15.모듈_module.ipynb\n",
      "2020-03-26  오후 06:15            12,825 16.패키지_Package.ipynb\n",
      "2020-03-26  오후 02:46            15,823 17.예외처리_exception.ipynb\n",
      "2020-03-26  오후 04:51            20,332 18.함수_내장함수.ipynb\n",
      "2020-03-27  오전 10:00            12,893 19.함수_외장함수.ipynb\n",
      "2020-03-17  오전 10:39    <DIR>          custom\n",
      "2020-01-08  오후 02:11               987 custom.css\n",
      "2020-03-24  오전 09:30    <DIR>          data\n",
      "2020-03-26  오전 11:00    <DIR>          images\n",
      "2020-03-26  오전 10:11    <DIR>          source\n",
      "2020-03-27  오전 10:00    <DIR>          testdir\n",
      "2020-03-26  오후 06:11            29,592 이것저것.ipynb\n",
      "              21개 파일           1,047,374 바이트\n",
      "               8개 디렉터리  537,746,079,744 바이트 남음\n",
      " D 드라이브의 볼륨에는 이름이 없습니다.\n",
      " 볼륨 일련 번호: 7C73-6CFD\n",
      "\n",
      " D:\\kangmoonku\\html5\\python 디렉터리\n",
      "\n",
      "2020-03-27  오전 10:00    <DIR>          .\n",
      "2020-03-27  오전 10:00    <DIR>          ..\n",
      "2020-03-27  오전 09:32    <DIR>          .ipynb_checkpoints\n",
      "2020-03-17  오후 12:56            12,530 00.파이썬설치 및 설정.ipynb\n",
      "2020-03-18  오후 06:20            34,851 01.파이썬자료형_기본형.ipynb\n",
      "2020-03-18  오후 03:49            19,454 02.파이썬 자료형_리스트.ipynb\n",
      "2020-03-18  오후 06:13             7,239 03.파이썬자료형_튜플.ipynb\n",
      "2020-03-19  오후 05:44            32,202 04.파이썬자료형_딕셔너리.ipynb\n",
      "2020-03-19  오후 05:48            10,365 06.파이썬자료형_집합형.ipynb\n",
      "2020-03-19  오후 01:15             3,563 07.파이썬자료형_boolean형.ipynb\n",
      "2020-03-19  오후 05:52             7,189 08.제어문_if.ipynb\n",
      "2020-03-19  오후 05:49             6,435 09.파이썬자료형_변수.ipynb\n",
      "2020-03-20  오후 12:17            19,197 10.반복문_for.ipynb\n",
      "2020-03-20  오후 02:53             9,362 11.반복문_while.ipynb\n",
      "2020-03-23  오후 03:00           668,908 12.함수_function.ipynb\n",
      "2020-03-24  오전 10:51            25,456 13.파일입출력_fileIO.ipynb\n",
      "2020-03-25  오후 05:21            66,228 14.클래스_class.ipynb\n",
      "2020-03-25  오후 04:45            31,943 15.모듈_module.ipynb\n",
      "2020-03-26  오후 06:15            12,825 16.패키지_Package.ipynb\n",
      "2020-03-26  오후 02:46            15,823 17.예외처리_exception.ipynb\n",
      "2020-03-26  오후 04:51            20,332 18.함수_내장함수.ipynb\n",
      "2020-03-27  오전 10:00            12,893 19.함수_외장함수.ipynb\n",
      "2020-03-17  오전 10:39    <DIR>          custom\n",
      "2020-01-08  오후 02:11               987 custom.css\n",
      "2020-03-24  오전 09:30    <DIR>          data\n",
      "2020-03-26  오전 11:00    <DIR>          images\n",
      "2020-03-26  오전 10:11    <DIR>          source\n",
      "2020-03-26  오후 06:11            29,592 이것저것.ipynb\n",
      "              21개 파일           1,047,374 바이트\n",
      "               7개 디렉터리  537,746,079,744 바이트 남음\n"
     ]
    }
   ],
   "source": [
    "# 2-4) os.system(명령어): 현재 os의 시스템명령어를 호출,\n",
    "# !dir # 윈도우 명령\n",
    "# !ls # 리눅스명령\n",
    "os.system('ls')\n",
    "os.system('mkdir testdir') # 디렉토리 생성 명령\n",
    "!dir\n",
    "os.system('rmdir testdir')\n",
    "!dir"
   ]
  },
  {
   "cell_type": "markdown",
   "metadata": {},
   "source": [
    "######  기타 유용한 os 함수들\n",
    "* os.mkdir(디렉토리명) : 디렉토리 생성\n",
    "* os.rmdir(디렉토리명) : 디렉토리 삭제\n",
    "* os.unlink(파일명)    : 파일 삭제\n",
    "* os.rename(src,destination) :파일 이름 변경"
   ]
  },
  {
   "cell_type": "code",
   "execution_count": 43,
   "metadata": {},
   "outputs": [
    {
     "name": "stderr",
     "output_type": "stream",
     "text": [
      "매개 변수 포맷이 틀립니다 - \"data')\".\n"
     ]
    }
   ],
   "source": [
    "# 3. shutil\n",
    "# 파일을 복사해주는 파이썬 모듈\n",
    "import shutil\n",
    "# ?shutil\n",
    "# shutil.copy(src, dst+이름변경)\n",
    "shutil.copy('../data/newfile.txt','../data/newfile_copy.txt')\n"
   ]
  },
  {
   "cell_type": "code",
   "execution_count": 53,
   "metadata": {},
   "outputs": [
    {
     "name": "stdout",
     "output_type": "stream",
     "text": [
      "00.파이썬설치 및 설정.ipynb\n",
      "01.파이썬자료형_기본형.ipynb\n",
      "02.파이썬 자료형_리스트.ipynb\n",
      "03.파이썬자료형_튜플.ipynb\n",
      "04.파이썬자료형_딕셔너리.ipynb\n",
      "06.파이썬자료형_집합형.ipynb\n",
      "07.파이썬자료형_boolean형.ipynb\n",
      "08.제어문_if.ipynb\n",
      "09.파이썬자료형_변수.ipynb\n",
      "10.반복문_for.ipynb\n",
      "11.반복문_while.ipynb\n",
      "12.함수_function.ipynb\n",
      "13.파일입출력_fileIO.ipynb\n",
      "14.클래스_class.ipynb\n",
      "15.모듈_module.ipynb\n",
      "16.패키지_Package.ipynb\n",
      "17.예외처리_exception.ipynb\n",
      "18.함수_내장함수.ipynb\n",
      "19.함수_외장함수.ipynb\n",
      "custom <DIR>\n",
      "custom.css\n",
      "data <DIR>\n",
      "images <DIR>\n",
      "source <DIR>\n",
      "이것저것.ipynb\n"
     ]
    }
   ],
   "source": [
    "# 4. glob\n",
    "# 디렉토리에 있는 파일 목록을 조회\n",
    "import glob\n",
    "# glob.glob? #Signature: glob.glob(pathname, *, recursive=False)\n",
    "glob.glob('../data/*.*')\n",
    "glob.glob('../data/n*.*')# n으로 시작되는 놈만 보겠다.\n",
    "glob.glob('*.*')\n",
    "glob.glob('*.css')\n",
    "\n",
    "#glob와 os.path 모듈을 사용하기\n",
    "files = glob.glob('*')\n",
    "files\n",
    "for file in files:\n",
    "    if os.path.isdir(file):\n",
    "        print('%s <DIR>' %file)\n",
    "    else:\n",
    "        print(file)\n",
    "\n"
   ]
  },
  {
   "cell_type": "code",
   "execution_count": 57,
   "metadata": {},
   "outputs": [
    {
     "data": {
      "text/plain": [
       "<tempfile._TemporaryFileWrapper at 0x2250ec750c8>"
      ]
     },
     "execution_count": 57,
     "metadata": {},
     "output_type": "execute_result"
    }
   ],
   "source": [
    "# 5. tempfile\n",
    "# 파일을 임수로 만들어서 사용할 때 유용한 함수 \n",
    "import tempfile\n",
    "# tempfile?\n",
    "filename=tempfile.mktemp()\n",
    "filename\n",
    "\n",
    "f = tempfile.TemporaryFile() # 임시적인 저장공간으로 사용될 파일 객체를 리턴\n",
    "f"
   ]
  },
  {
   "cell_type": "code",
   "execution_count": null,
   "metadata": {},
   "outputs": [],
   "source": [
    "# 6. time관련함수\n",
    "# 시간을 표현하는 모듈, 1970.1.1.0.0.0 초를 기준으로 경과한 시간을 초단위로 반환\n",
    "# 시간대 UTC(Universal Time Coordinated, 협정세계 시)를 사용\n",
    "import time\n",
    "# time.time?\n",
    "time.time() # 1970기준으로 해당 초 만큼 지나갔다."
   ]
  },
  {
   "cell_type": "code",
   "execution_count": 63,
   "metadata": {},
   "outputs": [
    {
     "data": {
      "text/plain": [
       "time.struct_time(tm_year=2020, tm_mon=3, tm_mday=27, tm_hour=10, tm_min=42, tm_sec=19, tm_wday=4, tm_yday=87, tm_isdst=0)"
      ]
     },
     "execution_count": 63,
     "metadata": {},
     "output_type": "execute_result"
    }
   ],
   "source": [
    "# 6-1) 날짜와 시간 형태로 변환하기\n",
    "# time.localtime()함수를 이용하면 time에서 리턴된 값을 날짜와 시간형태로 변환\n",
    "# time.localtime?\n",
    "# localtime이라는 것은 현재 지역의 시간대를 사용한다.\n",
    "# 우리나라에서 사용햇다면 'UTC + 09:00'를 더한 KST(korean standard Time, 한국 표준시)를 사용\n",
    "time.localtime(time.time())\n",
    "# tm_wday는 요일(월~일, 0~6)\n",
    "# tm_yday는 현재년도 1월1일에서 경과한 일수\n",
    "# tm_isdst는 서머타임의 여부"
   ]
  },
  {
   "cell_type": "code",
   "execution_count": 78,
   "metadata": {},
   "outputs": [
    {
     "name": "stdout",
     "output_type": "stream",
     "text": [
      "2020.03.27\n",
      "Fri Mar 27 10:55:55 2020\n",
      "Fri Mar 27 10:55:55 2020\n",
      "03/27/20\n",
      "10:55:55\n"
     ]
    }
   ],
   "source": [
    "# 6-2) 날짜와 시간포멧에 맞춰서 출력하기\n",
    "# time.localtime으로 만든 객체는 time.strftime함수를 사용해서 원하는 날짜/시간포멧으로 출력\n",
    "# time.strftime('포멧',시간객체)\n",
    "print(time.strftime('%Y.%m.%d',time.localtime(time.time())))\n",
    "print(time.strftime('%c', time.localtime(time.time())))\n",
    "print(time.asctime(time.localtime(time.time())))\n",
    "\n",
    "# 날짜 시간 포멧 : time.strftime('포멧문자',시간객체)\n",
    "'''\n",
    "포멧코드     설명                     예\n",
    "=====================================================================\n",
    "%a           요일줄임               Mon\n",
    "%A           요일                   Monday\n",
    "%b           월줄임                 jan\n",
    "%B           월                     january\n",
    "%c           날자와 시간            Fri Mar 27 10:46:36 2020\n",
    "%d           일(day)                00, 31\n",
    "%H           시간 - 24시간 형태     00, 23\n",
    "%I           시간 - 12시간 형태     00,12\n",
    "%j           1월1일 부터 경과일수   001, 366      \n",
    "%m           월                     1, 12\n",
    "%M           분                     01, 59\n",
    "%p           AM or PM               AM\n",
    "%S           초                      00,60\n",
    "%x           현재 설정된 로케일날짜 20/01/01\n",
    "%X           현재 설정된 로케일시간 17:20:21\n",
    "%Y           년도                   2020\n",
    "'''\n",
    "print(time.strftime('%x', time.localtime(time.time())))\n",
    "print(time.strftime('%X', time.localtime(time.time())))\n"
   ]
  },
  {
   "cell_type": "code",
   "execution_count": 82,
   "metadata": {},
   "outputs": [
    {
     "name": "stdout",
     "output_type": "stream",
     "text": [
      "2020-03-27 11:01:11.453277\n",
      "2020-03-27 11:01:11.453277\n",
      "2020-03-27 02:01:11.591734+00:00\n"
     ]
    }
   ],
   "source": [
    "# 6-3) datetime\n",
    "# datetime.datetime으로 현재 날짜와 시간을 구할 때 today()메서드(현재시간대기준,kst)\n",
    "import datetime\n",
    "print(datetime.datetime.today()) # kst\n",
    "print(datetime.datetime.now()) # kst\n",
    "\n",
    "# UTC기준으로 now()메서드에 pytz모듈로 시간대를 지정해 주기\n",
    "# !pip install pytz : 모듈을 설치하는 방법\n",
    "import pytz\n",
    "print(datetime.datetime.now(pytz.timezone('UTC')))"
   ]
  },
  {
   "cell_type": "code",
   "execution_count": 91,
   "metadata": {},
   "outputs": [
    {
     "data": {
      "text/plain": [
       "'Fri Oct 30 00:00:00 2020'"
      ]
     },
     "execution_count": 91,
     "metadata": {},
     "output_type": "execute_result"
    }
   ],
   "source": [
    "# 6-4) 특정 날짜와 시간으로 객체를 만들기\n",
    "# datetime.datetime에 연,월,일,시,분,초,ms를 넣어서 객체생성\n",
    "# datetime.datetime(year, month, day, hour=0, minute=0, second=0, microsecond=0 )\n",
    "\n",
    "# int로 생성\n",
    "d = datetime.datetime(2020,5,19)\n",
    "d\n",
    "\n",
    "# str으로 생성\n",
    "d = datetime.datetime.strptime('2020-10-30','%Y-%m-%d')\n",
    "d\n",
    "\n",
    "# 문자열 포멧으로 생성\n",
    "# d = d.strftime('%Y-%m-%d')\n",
    "# d\n",
    "d = d.strftime('%c')\n",
    "d"
   ]
  },
  {
   "cell_type": "code",
   "execution_count": 97,
   "metadata": {},
   "outputs": [
    {
     "data": {
      "text/plain": [
       "datetime.timedelta(days=366)"
      ]
     },
     "execution_count": 97,
     "metadata": {},
     "output_type": "execute_result"
    }
   ],
   "source": [
    "# 6-5) 날짜와 시간차이 계산하기\n",
    "# datetime.timedelta는 두 날짜와 시간 사이의 차이를 계산할 때 사용한다.\n",
    "d = datetime.datetime(2020,3,27)\n",
    "from datetime import timedelta\n",
    "d - timedelta(days=20)\n",
    "datetime.datetime(2020,3,27)-datetime.datetime(2019,3,27)"
   ]
  },
  {
   "cell_type": "code",
   "execution_count": 100,
   "metadata": {},
   "outputs": [
    {
     "name": "stdout",
     "output_type": "stream",
     "text": [
      "0\n",
      "1\n",
      "2\n",
      "3\n",
      "4\n",
      "5\n",
      "6\n",
      "7\n",
      "8\n",
      "9\n"
     ]
    }
   ],
   "source": [
    "# 6-5) time.sleep : 일정한 시간동안 정지\n",
    "for i in range(10):\n",
    "    print(i)\n",
    "    time.sleep(a) # 0.5초간 정지 "
   ]
  },
  {
   "cell_type": "code",
   "execution_count": null,
   "metadata": {},
   "outputs": [],
   "source": []
  },
  {
   "cell_type": "code",
   "execution_count": 107,
   "metadata": {},
   "outputs": [
    {
     "name": "stdout",
     "output_type": "stream",
     "text": [
      "     March 2020\n",
      "Mo Tu We Th Fr Sa Su\n",
      "                   1\n",
      " 2  3  4  5  6  7  8\n",
      " 9 10 11 12 13 14 15\n",
      "16 17 18 19 20 21 22\n",
      "23 24 25 26 27 28 29\n",
      "30 31\n",
      "None\n",
      "4\n",
      "(6, 31)\n"
     ]
    }
   ],
   "source": [
    "# 7. calendar\n",
    "# 파이썬에서 달력을 볼 수 있게 해주는 기능\n",
    "import calendar\n",
    "# print(calendar.calendar(2020)) # 1년치 달력\n",
    "# print(calendar.prcal(2020))\n",
    "print(calendar.prmonth(2020,3)) # 지정된 달의 달력\n",
    "print(calendar.weekday(2020,3,27)) # 현재요일을 숫자로 리턴 (월~일)(0~6)\n",
    "print(calendar.monthrange(2020,3)) # (6,31) 3월 1일은 토요일, 31은 날의 마지막날짜"
   ]
  },
  {
   "cell_type": "code",
   "execution_count": null,
   "metadata": {},
   "outputs": [],
   "source": []
  },
  {
   "cell_type": "code",
   "execution_count": 162,
   "metadata": {},
   "outputs": [
    {
     "name": "stdout",
     "output_type": "stream",
     "text": [
      "0.5698011251800288\n",
      "4.693858832185585\n",
      "2\n",
      "64\n",
      "l\n",
      "[2, 4, 6, 3, 8, 1, 7, 5]\n"
     ]
    }
   ],
   "source": [
    "# 8. random\n",
    "# 난수 발생해주는 것만 아니라 다양한 랜덤함수를 제공\n",
    "import random\n",
    "# help(random)\n",
    "\n",
    "print(random.random()) # 0~1 사이의 난수 1개를 리턴\n",
    "print(random.uniform(1,10)) # 1~10 사이의 실수(난수) 1개를 리턴 1.0<= x<=10.0\n",
    "print(random.randint(1,10)) # 1~ 10 사이의 정수 1개를 리턴 1.0<= x<=10.0\n",
    "print(random.randrange(0,100,2)) # 0 ~ 100 까지 2씩 증가한 숫자중에서 1개를 리턴\n",
    "print(random.choice(\"abcdefghijklmn\")) # iterable에서 한개의 요소만 꺼내온다.\n",
    "items= [1,2,3,4,5,6,7,8]\n",
    "random.shuffle(items) # 원소 순서를 랜덤에 변경\n",
    "print(items)"
   ]
  },
  {
   "cell_type": "code",
   "execution_count": 165,
   "metadata": {},
   "outputs": [
    {
     "data": {
      "text/plain": [
       "True"
      ]
     },
     "execution_count": 165,
     "metadata": {},
     "output_type": "execute_result"
    }
   ],
   "source": [
    "# 9. webbrowser\n",
    "# 기본 웹 브라우저를 자동으로 실행\n",
    "import webbrowser as wb\n",
    "wb.open('www.google.com')\n",
    "wb.open_new('www.daum.net')\n",
    "wb.open_new_tab('www.dacon.io')"
   ]
  },
  {
   "cell_type": "code",
   "execution_count": 172,
   "metadata": {},
   "outputs": [
    {
     "name": "stdout",
     "output_type": "stream",
     "text": [
      "이름 : 홍길동, 이름 : 25, 이름 : 프로그래머\n",
      "이름 : 홍길순, 이름 : 32, 이름 : 관리자\n",
      "이름 : 홍길자, 이름 : 21, 이름 : 디자이너\n"
     ]
    }
   ],
   "source": [
    "# 10. namedtuple\n",
    "# 파이썬에 자료형중 하나이다. 튜플이지만 속성으로 값에 접근할 수 있도록 해주는 자료형이다.\n",
    "# 특징\n",
    "# a. 튜플의 기본성질인 immutable 객체\n",
    "# b. 일반 class(객체)형태보다 적은 메모리 사용\n",
    "# c. 다양한 접근법을 지원(괄호,.....)\n",
    "# d. dictionary key와 같이 사용\n",
    "\n",
    "# 10-1) Normal한 방법 : tuple은 index로 접근\n",
    "a = (\"홍길동\",25,\"프로그래머\")\n",
    "b = (\"홍길순\",32,\"관리자\")\n",
    "c = (\"홍길자\",21,\"디자이너\")\n",
    "\n",
    "for person in [a,b,c]:\n",
    "    print(\"이름 : %s\" %person[0], end=', ' )\n",
    "    print(\"나이 : %d\" %person[1], end=', ' )\n",
    "    print(\"job : %s\" %person[2] )"
   ]
  },
  {
   "cell_type": "code",
   "execution_count": 173,
   "metadata": {},
   "outputs": [
    {
     "name": "stdout",
     "output_type": "stream",
     "text": [
      "이름 : 홍길동, 나이 : 25, job : 프로그래머\n",
      "이름 : 홍길순, 나이 : 32, job : 관리자\n",
      "이름 : 홍길자, 나이 : 21, job : 디자이너\n"
     ]
    }
   ],
   "source": [
    "# 10-2) 객체로 속성을 접근 방법\n",
    "class Person:\n",
    "    \n",
    "    def __init__(self,name,age,job):\n",
    "        self.name=name\n",
    "        self.age=age\n",
    "        self.job=job\n",
    "\n",
    "a = Person(name=\"홍길동\",age=25,job=\"프로그래머\")\n",
    "b = Person(name=\"홍길순\",age=32,job=\"관리자\")\n",
    "c = Person(name=\"홍길자\",age=21,job=\"디자이너\")\n",
    "\n",
    "for person in [a,b,c]:\n",
    "    print(\"이름 : %s\" %person.name, end=', ' )\n",
    "    print(\"나이 : %d\" %person.age, end=', ' )\n",
    "    print(\"job : %s\" %person.job )"
   ]
  },
  {
   "cell_type": "code",
   "execution_count": 181,
   "metadata": {},
   "outputs": [
    {
     "name": "stdout",
     "output_type": "stream",
     "text": [
      "<class '__main__.namedPerson'>\n",
      "이름 : 홍길동, 나이 : 25, job : 프로그래머\n",
      "이름 : 홍길순, 나이 : 32, job : 관리자\n",
      "이름 : 홍길자, 나이 : 21, job : 디자이너\n"
     ]
    }
   ],
   "source": [
    "# 10-3) namedtuple로 속성을 접근\n",
    "# 튜플이지만 인젝스가 아니라 속성으로 접근\n",
    "from collections import namedtuple\n",
    "# help(namedtuple)\n",
    "namedPerson = namedtuple('namedPerson',['name','age','job'])\n",
    "\n",
    "a = namedPerson(name=\"홍길동\",age=25,job=\"프로그래머\")\n",
    "b = namedPerson(name=\"홍길순\",age=32,job=\"관리자\")\n",
    "c = namedPerson(name=\"홍길자\",age=21,job=\"디자이너\")\n",
    "print(type(a))\n",
    "for p in [a,b,c]:\n",
    "    print(\"이름 : %s\" %p.name, end=', ' )\n",
    "    print(\"나이 : %d\" %p.age, end=', ' )\n",
    "    print(\"job : %s\" %p.job )"
   ]
  },
  {
   "cell_type": "code",
   "execution_count": null,
   "metadata": {},
   "outputs": [],
   "source": [
    "# 11. pickle\n",
    "# 13.파일입출력_fileIO 참조"
   ]
  },
  {
   "cell_type": "code",
   "execution_count": null,
   "metadata": {},
   "outputs": [],
   "source": []
  },
  {
   "cell_type": "code",
   "execution_count": null,
   "metadata": {},
   "outputs": [],
   "source": []
  },
  {
   "cell_type": "code",
   "execution_count": null,
   "metadata": {},
   "outputs": [],
   "source": []
  },
  {
   "cell_type": "code",
   "execution_count": null,
   "metadata": {},
   "outputs": [],
   "source": []
  },
  {
   "cell_type": "code",
   "execution_count": null,
   "metadata": {},
   "outputs": [],
   "source": []
  },
  {
   "cell_type": "code",
   "execution_count": null,
   "metadata": {},
   "outputs": [],
   "source": []
  },
  {
   "cell_type": "code",
   "execution_count": null,
   "metadata": {},
   "outputs": [],
   "source": []
  },
  {
   "cell_type": "code",
   "execution_count": null,
   "metadata": {},
   "outputs": [],
   "source": []
  },
  {
   "cell_type": "code",
   "execution_count": null,
   "metadata": {},
   "outputs": [],
   "source": []
  },
  {
   "cell_type": "code",
   "execution_count": null,
   "metadata": {},
   "outputs": [],
   "source": []
  },
  {
   "cell_type": "code",
   "execution_count": null,
   "metadata": {},
   "outputs": [],
   "source": []
  },
  {
   "cell_type": "code",
   "execution_count": null,
   "metadata": {},
   "outputs": [],
   "source": []
  }
 ],
 "metadata": {
  "kernelspec": {
   "display_name": "Python 3",
   "language": "python",
   "name": "python3"
  },
  "language_info": {
   "codemirror_mode": {
    "name": "ipython",
    "version": 3
   },
   "file_extension": ".py",
   "mimetype": "text/x-python",
   "name": "python",
   "nbconvert_exporter": "python",
   "pygments_lexer": "ipython3",
   "version": "3.7.6"
  }
 },
 "nbformat": 4,
 "nbformat_minor": 4
}
