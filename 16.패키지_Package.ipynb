{
 "cells": [
  {
   "cell_type": "markdown",
   "metadata": {},
   "source": [
    "### 패키지(Package)\n",
    "\n",
    "파이썬의 패키지는 디렉토리와 파이썬의 모듈(.py)로 구성된다.\n",
    "\n",
    "1. 물리적으로 여러개의 모듈파일(.py)들을 모아 놓은 디렉토리이다.\n",
    "2. 모듈을 확장자가 .py인 파일이고 패키지는 디렉토리 즉, 폴더이다.\n",
    "3. `__init__.py`파일은 해당 디렉토리가 패키지임을 알려준다. (파이썬 v3.3이후부터는 이 파일이 없어도 패키지로 인식이 가능하다.) 3.3이전버전에서는 디렉토리안에 \\__init__.py파일이 없을 경우에는 패키지로 인식이 되지 않는다. 하위버전과 호환성을 위해 \\__init__.py를 생성하는 것이 좋다.)\n",
    "4. 파이썬 모듈을 계층적(디렉토리 구조)로 관리하기 위해서는 `도트('.')`연산자를 사용한다. 예를 들어 모듈명이 `project.source.mod2.py`일 경우 패키지명은 `project.source`이고 모듈명은 `project.source.mod2`처럼 전체가 모듈명이 된다.\n",
    "5. 패키지를 사용하는 방법은\n",
    ">* `import 패키지.모듈`\n",
    ">* `패키지.모듈.변수`\n",
    ">* `패키지.모듈.함수()`\n",
    ">* `패키지.모듈.클래스()`\n",
    ">* `from 패키지.모듈 import 변수`\n",
    ">* `from 패키지.모듈 import 함수`\n",
    ">* `from 패키지.모듈 import 클래스`\n",
    ">* `from 패키지.모듈 import 변수 as 별칭, 함수 as 별칭, 클래스 as 별칭`\n",
    "\n",
    "6. `__name__`변수\n",
    " * 패키지의 모듈에서는 \\__name__변수에 `패키지.모듈` 형식으로 이름이 들어 간다. \n",
    "\n",
    "\n",
    "<img src=\"./images/16.패키지_Package_01.png\" width=500 height=400/>"
   ]
  },
  {
   "cell_type": "code",
   "execution_count": null,
   "metadata": {},
   "outputs": [],
   "source": [
    "# 1. source하위에 \\game, /game/sound, /game/graphic 디렉토리를 생성\n",
    "# 2. 3개의 디렉토리마다 __init__.py라는 dummy파일을 생성\n",
    "# 3. /game/sound/echo.py를 생성\n",
    "def echo_test():\n",
    "    print('echo')\n",
    "    \n",
    "# 4. /game/graphic/render.py를 생성\n",
    "def render_test():\n",
    "    print('render')"
   ]
  },
  {
   "cell_type": "code",
   "execution_count": 5,
   "metadata": {},
   "outputs": [],
   "source": [
    "# %pwd\n",
    "# !mkdir D:\\\\kangmoonku\\\\html5\\\\python\\\\source\\\\game\\\\grapic\n",
    "!mkdir D:\\\\kangmoonku\\\\html5\\\\python\\\\source\\\\game\\\\sound"
   ]
  },
  {
   "cell_type": "code",
   "execution_count": 6,
   "metadata": {},
   "outputs": [],
   "source": [
    "import sys\n",
    "sys.path.append('D:\\\\kangmoonku\\\\html5\\\\python\\\\source')"
   ]
  },
  {
   "cell_type": "code",
   "execution_count": 7,
   "metadata": {},
   "outputs": [
    {
     "data": {
      "text/plain": [
       "['D:\\\\kangmoonku\\\\html5\\\\python',\n",
       " 'C:\\\\Anaconda3\\\\python37.zip',\n",
       " 'C:\\\\Anaconda3\\\\DLLs',\n",
       " 'C:\\\\Anaconda3\\\\lib',\n",
       " 'C:\\\\Anaconda3',\n",
       " '',\n",
       " 'C:\\\\Anaconda3\\\\lib\\\\site-packages',\n",
       " 'C:\\\\Anaconda3\\\\lib\\\\site-packages\\\\win32',\n",
       " 'C:\\\\Anaconda3\\\\lib\\\\site-packages\\\\win32\\\\lib',\n",
       " 'C:\\\\Anaconda3\\\\lib\\\\site-packages\\\\Pythonwin',\n",
       " 'C:\\\\Anaconda3\\\\lib\\\\site-packages\\\\IPython\\\\extensions',\n",
       " 'C:\\\\Users\\\\TJ\\\\.ipython',\n",
       " 'D:\\\\kangmoonku\\\\html5\\\\python\\\\source']"
      ]
     },
     "execution_count": 7,
     "metadata": {},
     "output_type": "execute_result"
    }
   ],
   "source": [
    "sys.path"
   ]
  },
  {
   "cell_type": "code",
   "execution_count": 28,
   "metadata": {},
   "outputs": [
    {
     "ename": "NameError",
     "evalue": "name 'null' is not defined",
     "output_type": "error",
     "traceback": [
      "\u001b[1;31m---------------------------------------------------------------------------\u001b[0m",
      "\u001b[1;31mNameError\u001b[0m                                 Traceback (most recent call last)",
      "\u001b[1;32m<ipython-input-28-6294033baac8>\u001b[0m in \u001b[0;36m<module>\u001b[1;34m\u001b[0m\n\u001b[0;32m      1\u001b[0m \u001b[1;31m# 1.game.sound 패키지의 echo 모듈을 불러오기\u001b[0m\u001b[1;33m\u001b[0m\u001b[1;33m\u001b[0m\u001b[1;33m\u001b[0m\u001b[0m\n\u001b[1;32m----> 2\u001b[1;33m \u001b[1;32mimport\u001b[0m \u001b[0mgame\u001b[0m\u001b[1;33m.\u001b[0m\u001b[0msound\u001b[0m\u001b[1;33m.\u001b[0m\u001b[0mecho\u001b[0m\u001b[1;33m\u001b[0m\u001b[1;33m\u001b[0m\u001b[0m\n\u001b[0m\u001b[0;32m      3\u001b[0m \u001b[0mgame\u001b[0m\u001b[1;33m.\u001b[0m\u001b[0msound\u001b[0m\u001b[1;33m.\u001b[0m\u001b[0mecho\u001b[0m\u001b[1;33m.\u001b[0m\u001b[0mecho_test\u001b[0m\u001b[1;33m(\u001b[0m\u001b[1;33m)\u001b[0m\u001b[1;33m\u001b[0m\u001b[1;33m\u001b[0m\u001b[0m\n",
      "\u001b[1;32mD:\\kangmoonku\\html5\\python\\source\\game\\__init__.py\u001b[0m in \u001b[0;36m<module>\u001b[1;34m\u001b[0m\n\u001b[0;32m      3\u001b[0m   {\n\u001b[0;32m      4\u001b[0m    \u001b[1;34m\"cell_type\"\u001b[0m\u001b[1;33m:\u001b[0m \u001b[1;34m\"code\"\u001b[0m\u001b[1;33m,\u001b[0m\u001b[1;33m\u001b[0m\u001b[1;33m\u001b[0m\u001b[0m\n\u001b[1;32m----> 5\u001b[1;33m    \u001b[1;34m\"execution_count\"\u001b[0m\u001b[1;33m:\u001b[0m \u001b[0mnull\u001b[0m\u001b[1;33m,\u001b[0m\u001b[1;33m\u001b[0m\u001b[1;33m\u001b[0m\u001b[0m\n\u001b[0m\u001b[0;32m      6\u001b[0m    \u001b[1;34m\"metadata\"\u001b[0m\u001b[1;33m:\u001b[0m \u001b[1;33m{\u001b[0m\u001b[1;33m}\u001b[0m\u001b[1;33m,\u001b[0m\u001b[1;33m\u001b[0m\u001b[1;33m\u001b[0m\u001b[0m\n\u001b[0;32m      7\u001b[0m    \u001b[1;34m\"outputs\"\u001b[0m\u001b[1;33m:\u001b[0m \u001b[1;33m[\u001b[0m\u001b[1;33m]\u001b[0m\u001b[1;33m,\u001b[0m\u001b[1;33m\u001b[0m\u001b[1;33m\u001b[0m\u001b[0m\n",
      "\u001b[1;31mNameError\u001b[0m: name 'null' is not defined"
     ]
    }
   ],
   "source": [
    "# 1.game.sound 패키지의 echo 모듈을 불러오기 \n",
    "import game.sound.echo\n",
    "game.sound.echo.echo_test()"
   ]
  },
  {
   "cell_type": "code",
   "execution_count": null,
   "metadata": {},
   "outputs": [],
   "source": [
    "# 2. 모듈만 불러오기\n",
    "from game.sound import echo\n",
    "echo.echo_test()"
   ]
  },
  {
   "cell_type": "code",
   "execution_count": null,
   "metadata": {},
   "outputs": [],
   "source": [
    "# 3. 함수만 불러오기 \n",
    "from game.sound.echo import echo_test\n",
    "echo_test()"
   ]
  },
  {
   "cell_type": "code",
   "execution_count": null,
   "metadata": {},
   "outputs": [],
   "source": [
    "# 4. 모듈을 별칭으로 명명하기\n",
    "import game.sound.echo as e\n",
    "e.echo_test()"
   ]
  },
  {
   "cell_type": "code",
   "execution_count": null,
   "metadata": {},
   "outputs": [],
   "source": [
    "# 1. /source/calcpkg 폴더를 만들기\n",
    "# 2. operation.py를 생성\n",
    "def add(a,b):\n",
    "    return a+b\n",
    "\n",
    "def mul(a,b):\n",
    "    return a*b\n",
    "\n",
    "# 3. geometry.py를 생성\n",
    "def triangle_area(width, height):\n",
    "    return width*height/2\n",
    "\n",
    "def rectangle(width, height):\n",
    "    return width*height\n",
    "    "
   ]
  },
  {
   "cell_type": "code",
   "execution_count": 9,
   "metadata": {},
   "outputs": [],
   "source": [
    "# 패키지 사용하기 \n",
    "# import 패키지.모듈\n",
    "# 패키지.모듈.변수, 패키지.모듈.함수(), 패키지.모듈.클래스()\n",
    "import calcpkg.operation\n",
    "import calcpkg.geometry"
   ]
  },
  {
   "cell_type": "code",
   "execution_count": 15,
   "metadata": {},
   "outputs": [
    {
     "name": "stdout",
     "output_type": "stream",
     "text": [
      "30\n",
      "200\n",
      "600.0\n",
      "1200\n"
     ]
    }
   ],
   "source": [
    "print(calcpkg.operation.add(10,20))\n",
    "print(calcpkg.operation.mul(10,20))\n",
    "\n",
    "print(calcpkg.geometry.triangle_area(30,40))\n",
    "print(calcpkg.geometry.rectangle(30,40))"
   ]
  },
  {
   "cell_type": "code",
   "execution_count": 16,
   "metadata": {},
   "outputs": [
    {
     "name": "stdout",
     "output_type": "stream",
     "text": [
      "200\n",
      "10000\n"
     ]
    }
   ],
   "source": [
    "# from 패키지.모듈 import 변수, 함수...\n",
    "from calcpkg.operation import add, mul\n",
    "print(add(100,100))\n",
    "print(mul(100,100))"
   ]
  },
  {
   "cell_type": "markdown",
   "metadata": {},
   "source": [
    "#### 패키지에서 from import응용하기\n",
    "\n",
    "1. \\__init__.py파일에 아래내용 추가하기\n",
    "\n",
    ">from . import operation # 현재 패키지에서 operation 모듈을 가져오기<br>\n",
    ">from . import geometry # 현재 패키지에서 geometry 모듈을 가져오기\n",
    "\n",
    "파이썬에서 \\__init__.py파일은 폴더(디렉토리)가 패키지로 인식되도록 하는 역할도 하고 이름 그대로 패키지를 초기화 하는 역할도 한다.\n"
   ]
  },
  {
   "cell_type": "code",
   "execution_count": 19,
   "metadata": {},
   "outputs": [
    {
     "name": "stdout",
     "output_type": "stream",
     "text": [
      "Interactive namespace is empty.\n"
     ]
    }
   ],
   "source": [
    "%who"
   ]
  },
  {
   "cell_type": "code",
   "execution_count": 21,
   "metadata": {},
   "outputs": [
    {
     "name": "stdout",
     "output_type": "stream",
     "text": [
      "20\n",
      "121\n",
      "1250.0\n",
      "2500\n"
     ]
    }
   ],
   "source": [
    "import calcpkg\n",
    "print(calcpkg.operation.add(10,10))\n",
    "print(calcpkg.operation.mul(11,11))\n",
    "\n",
    "print(calcpkg.geometry.triangle_area(50,50))\n",
    "print(calcpkg.geometry.rectangle(50,50))"
   ]
  },
  {
   "cell_type": "code",
   "execution_count": 24,
   "metadata": {},
   "outputs": [
    {
     "ename": "NameError",
     "evalue": "name 'add' is not defined",
     "output_type": "error",
     "traceback": [
      "\u001b[1;31m---------------------------------------------------------------------------\u001b[0m",
      "\u001b[1;31mNameError\u001b[0m                                 Traceback (most recent call last)",
      "\u001b[1;32m<ipython-input-24-f85f20273b1f>\u001b[0m in \u001b[0;36m<module>\u001b[1;34m\u001b[0m\n\u001b[0;32m      1\u001b[0m \u001b[1;32mfrom\u001b[0m \u001b[0mcalcpkg\u001b[0m \u001b[1;32mimport\u001b[0m \u001b[1;33m*\u001b[0m \u001b[1;31m# calcpkg패키지의 모든 모듈, 변수, 한수, 클래스등을 가져옴\u001b[0m\u001b[1;33m\u001b[0m\u001b[1;33m\u001b[0m\u001b[0m\n\u001b[0;32m      2\u001b[0m \u001b[1;33m\u001b[0m\u001b[0m\n\u001b[1;32m----> 3\u001b[1;33m \u001b[0mprint\u001b[0m\u001b[1;33m(\u001b[0m\u001b[0madd\u001b[0m\u001b[1;33m(\u001b[0m\u001b[1;36m10\u001b[0m\u001b[1;33m,\u001b[0m\u001b[1;36m10\u001b[0m\u001b[1;33m)\u001b[0m\u001b[1;33m)\u001b[0m\u001b[1;33m\u001b[0m\u001b[1;33m\u001b[0m\u001b[0m\n\u001b[0m\u001b[0;32m      4\u001b[0m \u001b[0mprint\u001b[0m\u001b[1;33m(\u001b[0m\u001b[0mmul\u001b[0m\u001b[1;33m(\u001b[0m\u001b[1;36m10\u001b[0m\u001b[1;33m,\u001b[0m\u001b[1;36m10\u001b[0m\u001b[1;33m)\u001b[0m\u001b[1;33m)\u001b[0m\u001b[1;33m\u001b[0m\u001b[1;33m\u001b[0m\u001b[0m\n\u001b[0;32m      5\u001b[0m \u001b[1;33m\u001b[0m\u001b[0m\n",
      "\u001b[1;31mNameError\u001b[0m: name 'add' is not defined"
     ]
    }
   ],
   "source": [
    "from calcpkg import * # calcpkg패키지의 모든 모듈, 변수, 한수, 클래스등을 가져옴\n",
    "# 오류가 난다. 모둘은 가져왔지만 함수를 가져오지 않았기 때문이다.\n",
    "print(add(10,10))\n",
    "print(mul(10,10))\n",
    "\n",
    "print(triangle_area(10,10))\n"
   ]
  },
  {
   "cell_type": "code",
   "execution_count": 27,
   "metadata": {},
   "outputs": [
    {
     "data": {
      "text/plain": [
       "20"
      ]
     },
     "execution_count": 27,
     "metadata": {},
     "output_type": "execute_result"
    }
   ],
   "source": [
    "from .operation import add, mul\n",
    "add(10,10)"
   ]
  },
  {
   "cell_type": "code",
   "execution_count": null,
   "metadata": {},
   "outputs": [],
   "source": []
  }
 ],
 "metadata": {
  "kernelspec": {
   "display_name": "Python 3",
   "language": "python",
   "name": "python3"
  },
  "language_info": {
   "codemirror_mode": {
    "name": "ipython",
    "version": 3
   },
   "file_extension": ".py",
   "mimetype": "text/x-python",
   "name": "python",
   "nbconvert_exporter": "python",
   "pygments_lexer": "ipython3",
   "version": "3.7.6"
  }
 },
 "nbformat": 4,
 "nbformat_minor": 4
}
