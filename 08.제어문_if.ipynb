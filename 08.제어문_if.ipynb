{
 "cells": [
  {
   "cell_type": "markdown",
   "metadata": {},
   "source": [
    "### if문\n",
    "\n",
    "#### 1. 단순 if문\n",
    "<img src='./images/08.제어문_if_01_단순if문.png' width = 300 height =200 />\n",
    "\n",
    "#### 2. if~else문\n",
    "<img src='./images/08.제어문_if_02_단순if_else문.png' width = 300 height =200/>\n",
    "\n",
    "#### 3. if ~elif ~else문\n"
   ]
  },
  {
   "cell_type": "code",
   "execution_count": 1,
   "metadata": {},
   "outputs": [
    {
     "name": "stdout",
     "output_type": "stream",
     "text": [
      "x = 10\n",
      "x = 10\n",
      "x = 10\n",
      "x = 10\n",
      "x는 10 입니다!\n"
     ]
    }
   ],
   "source": [
    "# 1. 단순 if문\n",
    "# if x == 10:\n",
    "# print(\"x = \",x)\n",
    "# 들여쓰기 에러 IndentationError: expected an indented block\n",
    "x=10\n",
    "if x == 10:\n",
    "    print(\"x =\",x)\n",
    "    \n",
    "if x == 10: print('x =',x)\n",
    "\n",
    "if x == 10:\n",
    "  print('x =',x)\n",
    "\n",
    "if x == 10:\n",
    "    print(\"x =\",x)\n",
    "    print('x는 10 입니다!') # 들여쓰기는 같은 내용이라면 맞추어 주어야 한다."
   ]
  },
  {
   "cell_type": "code",
   "execution_count": 2,
   "metadata": {},
   "outputs": [
    {
     "name": "stdout",
     "output_type": "stream",
     "text": [
      "돈이 없습니다\n",
      "불합격입니다.\n"
     ]
    }
   ],
   "source": [
    "# 2. if~else\n",
    "money =0\n",
    "\n",
    "if money:\n",
    "    print(f'돈이 {money}만큼 있습니다.') \n",
    "else:\n",
    "    print('돈이 없습니다')\n",
    "    \n",
    "kor =59\n",
    "if kor>=60:\n",
    "    print(\"합격입니다.\")\n",
    "else:\n",
    "    print(\"불합격입니다.\")"
   ]
  },
  {
   "cell_type": "code",
   "execution_count": 3,
   "metadata": {},
   "outputs": [
    {
     "name": "stdout",
     "output_type": "stream",
     "text": [
      "d\n"
     ]
    }
   ],
   "source": [
    "# 3. if~elif~else\n",
    "\n",
    "score = 65\n",
    "if score>=90:\n",
    "    print(\"a\")\n",
    "elif score>=80:\n",
    "    print(\"b\")\n",
    "elif score>=70:\n",
    "    print(\"c\")\n",
    "elif score>=60:\n",
    "    print(\"d\")\n",
    "else:\n",
    "    print(\"f\")"
   ]
  },
  {
   "cell_type": "code",
   "execution_count": 4,
   "metadata": {},
   "outputs": [
    {
     "name": "stdout",
     "output_type": "stream",
     "text": [
      "taxi call\n"
     ]
    }
   ],
   "source": [
    "# 4. 중첩 if문\n",
    "pocket = ['paper','mobilephone']\n",
    "card = 1\n",
    "if 'money' in pocket:\n",
    "    print('Taxi Call')\n",
    "else:\n",
    "    if card :\n",
    "        print(\"taxi call\")\n",
    "    else:\n",
    "        print(\"도보\")"
   ]
  },
  {
   "cell_type": "code",
   "execution_count": 5,
   "metadata": {},
   "outputs": [],
   "source": [
    "# 5. if문(while)에서 실행문장이 하나도 없을 경우에는 pass라는 키워드를 사용\n",
    "if 1:\n",
    "    pass\n",
    "\n",
    "if 2: pass"
   ]
  },
  {
   "cell_type": "code",
   "execution_count": 6,
   "metadata": {},
   "outputs": [
    {
     "name": "stdout",
     "output_type": "stream",
     "text": [
      "1이 있습니다.\n",
      "True\n",
      "False\n",
      "True\n",
      "True\n",
      "가 있다.\n"
     ]
    }
   ],
   "source": [
    "# 6. 파이썬에서 if문이 다른 언어와 다른 점은 in, not in을 사용해서 list, tuple, string을\n",
    "# 비교할수 잇는 조건문을 사용할 수 있다는 것이다.\n",
    "# x in [list/tuple/string], x not in [list/tuple/string]\n",
    "if 1 in [1,2,3,4]:\n",
    "    print('1이 있습니다.')\n",
    "else:\n",
    "    print('1이 없습니다')\n",
    "    \n",
    "print(1 in [1,2,3]) # True\n",
    "print(1 not in [1,2,3]) # False\n",
    "print('a' in ('a','b','c')) # True \n",
    "print('a' in 'sdfa') # True\n",
    "\n",
    "books =['java','javascript','python']\n",
    "if'python' in books:\n",
    "    print(\"가 있다.\")"
   ]
  },
  {
   "cell_type": "markdown",
   "metadata": {},
   "source": [
    "#### 삼항연산자\n",
    "python>\"True 일 경우 수행문 \"if(조건문) else \"False일 경우 수행문\"\n",
    "\n",
    "java >> 조건 ? true : false"
   ]
  },
  {
   "cell_type": "code",
   "execution_count": 7,
   "metadata": {},
   "outputs": [
    {
     "name": "stdout",
     "output_type": "stream",
     "text": [
      "합격\n"
     ]
    }
   ],
   "source": [
    "### 일반적인 문법\n",
    "score = 60\n",
    "result = ''\n",
    "if score>=60:\n",
    "    result= '합격'\n",
    "else: result = '불합격입니다.'\n",
    "print(result)"
   ]
  },
  {
   "cell_type": "code",
   "execution_count": 8,
   "metadata": {},
   "outputs": [
    {
     "name": "stdout",
     "output_type": "stream",
     "text": [
      "불합격입니다.\n"
     ]
    }
   ],
   "source": [
    "score = 50\n",
    "result = '합격입니다.' if(score>=60) else \"불합격입니다.\" \n",
    "print(result)"
   ]
  },
  {
   "cell_type": "markdown",
   "metadata": {},
   "source": [
    "#### 관계연산자\n",
    "\n",
    "##### 1. 비교연산자\n",
    "|비교연산자|설명|\n",
    "|-------------|---------------|\n",
    "|x<y| x가 y보다 작다|\n",
    "|x>y| x가 y보다 크다|\n",
    "|x==y| x와 y가 같다|\n",
    "|x!=y| x와 y가 같지 않다|\n",
    "|x>=y| x가 y보다 크거나 같다|\n",
    "|x<=y| x가 y보다 작거나 같다|\n",
    "    \n",
    "##### 2. and, or, not\n",
    "|연산자|설명|\n",
    "|-------------|---------------|\n",
    "|x or y| x와 y 둘중에 하나만 참이면 True|\n",
    "|x and y| x와 y가 모두 참이어야 True|\n",
    "|not x| x가 거짓이면 True|\n",
    "\n",
    "##### 3. x in s, x not in s\n",
    "|in | not in |\n",
    "|-------------|---------------|\n",
    "| x in list | x not in list|\n",
    "| x in tuple | x not in tuple|\n",
    "|x in 문자열 | x not in 문자열|\n"
   ]
  },
  {
   "cell_type": "code",
   "execution_count": null,
   "metadata": {},
   "outputs": [],
   "source": [
    "# input() 함수를 숫자로 입력받아서 짝수인지 홀수인지를 출력하세요\n",
    "# 짝수일 경우에는 print(\"짝수입니다\")\n",
    "# 홀수일 경우에는 print(\"홀수입니다\")\n",
    "\n",
    "number = input('정수를 입력하세요 =>') # print(type(number)) // 타입이 string 이기 때문에 숫자려 변환 필요\n",
    "number = int(number)\n",
    "if number %2 == 0:\n",
    "    print(\"짝수입니다\")\n",
    "else: \n",
    "    print(\"홀수입니다.\")"
   ]
  }
 ],
 "metadata": {
  "kernelspec": {
   "display_name": "Python 3",
   "language": "python",
   "name": "python3"
  },
  "language_info": {
   "codemirror_mode": {
    "name": "ipython",
    "version": 3
   },
   "file_extension": ".py",
   "mimetype": "text/x-python",
   "name": "python",
   "nbconvert_exporter": "python",
   "pygments_lexer": "ipython3",
   "version": "3.7.6"
  }
 },
 "nbformat": 4,
 "nbformat_minor": 4
}
