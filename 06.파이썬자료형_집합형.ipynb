{
 "cells": [
  {
   "cell_type": "markdown",
   "metadata": {},
   "source": [
    "### 집합형(set)\n",
    "\n",
    "집합자료형(set)은 파이썬 v2.3부터 지원되기 시작한 자료형이다. 이 자료형은 집합과 관련된 작업들을 보다 쉽게 처리할 수 \n",
    "있도록 만들어진 자료형이다\n",
    "\n",
    "#### 집합 자료형의 특징\n",
    "1. 중복을 허용하지 않고 집합안에서 unique한 값을 가진다.\n",
    "2. 순서가 없다.\n",
    "3. set의 선언은 <code>중괄호{}</code>를 사용하는 것은 dictionary와 유사하지만 key는 없고 value만 존재한다.\n",
    "4. set(집합) 내부원소는 다양한 값을 함께 가질 수 있지만 mutable한 값을 가질 수 없다.\n",
    "\n",
    "리스트나 튜플은 순서가 있기 때문에 인덱싱을 통해서 자료의 값을 가지고 올 수 있지만 set 자료형은 순서가 없기 때문에\n",
    "인덱싱으로 자료형을 가져올 수 없다. 따라서 set 자료형의 저장된 값을 가져오기 위해서는 리스트나 튜플로 변환한 다음에 \n",
    "인덱싱을 통해서 자료를 가져올 수 있다.\n",
    "\n",
    "set자료형의 특징은 집합관련 연산이나 특히,중복을 제거하기 위한 필터역할로 종종 사용된다.\n",
    "set자료형은 <code>중괄호{}</code>로 선언할 수 없다. 선언하려면 중괄호 안에 값을 가진 객체로 선언하거나\n",
    "set()이라는 생성자로 선언한다.\n",
    "\n",
    "생성자 set()의 iterable한 객체를 전달하면 자동으로 set자료형으로 변환해 준다. \n",
    "\n",
    "\n"
   ]
  },
  {
   "cell_type": "code",
   "execution_count": null,
   "metadata": {},
   "outputs": [],
   "source": [
    "#### 1. set 자료형의 선언 방법"
   ]
  },
  {
   "cell_type": "code",
   "execution_count": 16,
   "metadata": {},
   "outputs": [
    {
     "name": "stdout",
     "output_type": "stream",
     "text": [
      "<class 'set'>\n",
      "<class 'set'>\n",
      "{1, 3, 4, 6, 7}\n",
      "<class 'set'>\n",
      "{1, 3, 5, 7, 8}\n"
     ]
    }
   ],
   "source": [
    "# set() 생성자로 선언하기\n",
    "s1 = set() # 또는 s ={1} 로 선언한다.\n",
    "print(type(s1))\n",
    "\n",
    "# 1. 선언(1) : 중괄호 내부에 값을 가진 객체로 선언하기\n",
    "s ={1,2,3,4}\n",
    "print(type(s))\n",
    "\n",
    "# 3. 선언(3) : iterable(반복자) 객체를 이용한 선언\n",
    "s2 =set([1,3,4,6,7])\n",
    "print(s2)\n",
    "print(type(s2))\n",
    "\n",
    "# 4. 중복된 값이 있을 경우 자동으로 중복된 값이 제거된다.\n",
    "# set()자료형은 순서가 없기 때문에 어떤 값이 먼저 나올지 모른다.\n",
    "s = {1,5,1,1,1,3,8,7}\n",
    "print(s)"
   ]
  },
  {
   "cell_type": "markdown",
   "metadata": {},
   "source": [
    "#### 2. 집합자료형 사용하기\n",
    "교집합/합집합/차집합을 구할경우에 많이 사용된다. set자료형의 요소에는 직접 접근할 수 없기 때문에 집합형을 \n",
    "리스트나 튜플로 변환해서 접근해야 한다."
   ]
  },
  {
   "cell_type": "code",
   "execution_count": 1,
   "metadata": {},
   "outputs": [
    {
     "name": "stdout",
     "output_type": "stream",
     "text": [
      "<class 'list'>\n",
      "{1, 3, 4, 6, 7}\n",
      "None\n",
      "1\n",
      "(1, 3, 4, 6, 7)\n",
      "3\n"
     ]
    }
   ],
   "source": [
    "s = set([1,3,4,6,7])\n",
    "i = list(s)\n",
    "print(type(i))\n",
    "print(s)\n",
    "print(i.sort())\n",
    "\n",
    "# s[0] set은 접근 할수 있는 방법이 없게 때문에 list로 변경필요\n",
    "print(i[0])\n",
    "\n",
    "t = tuple(s) # or tuple(l)\n",
    "print(t)\n",
    "print(t[1])"
   ]
  },
  {
   "cell_type": "code",
   "execution_count": 29,
   "metadata": {},
   "outputs": [
    {
     "name": "stdout",
     "output_type": "stream",
     "text": [
      "['__and__', '__class__', '__contains__', '__delattr__', '__dir__', '__doc__', '__eq__', '__format__', '__ge__', '__getattribute__', '__gt__', '__hash__', '__iand__', '__init__', '__init_subclass__', '__ior__', '__isub__', '__iter__', '__ixor__', '__le__', '__len__', '__lt__', '__ne__', '__new__', '__or__', '__rand__', '__reduce__', '__reduce_ex__', '__repr__', '__ror__', '__rsub__', '__rxor__', '__setattr__', '__sizeof__', '__str__', '__sub__', '__subclasshook__', '__xor__', 'add', 'clear', 'copy', 'difference', 'difference_update', 'discard', 'intersection', 'intersection_update', 'isdisjoint', 'issubset', 'issuperset', 'pop', 'remove', 'symmetric_difference', 'symmetric_difference_update', 'union', 'update']\n"
     ]
    }
   ],
   "source": [
    "s1 = set([1,2,3,4,5,6,7])\n",
    "s2 = set([5,6,7,8,9,10])\n",
    "print(dir(s1))"
   ]
  },
  {
   "cell_type": "code",
   "execution_count": 28,
   "metadata": {},
   "outputs": [
    {
     "name": "stdout",
     "output_type": "stream",
     "text": [
      "{5, 6, 7}\n",
      "{5, 6, 7}\n"
     ]
    }
   ],
   "source": [
    "# 1. 교집합 () (& or intersection())\n",
    "print(s1 & s2)\n",
    "print(s1.intersection(s2))"
   ]
  },
  {
   "cell_type": "code",
   "execution_count": 30,
   "metadata": {},
   "outputs": [
    {
     "name": "stdout",
     "output_type": "stream",
     "text": [
      "{1, 2, 3, 4, 5, 6, 7, 8, 9, 10}\n",
      "{1, 2, 3, 4, 5, 6, 7, 8, 9, 10}\n"
     ]
    }
   ],
   "source": [
    "# 2. 합집합 : | or union()\n",
    "print(s1|s2)\n",
    "print(s1.union(s2))\n",
    "\n"
   ]
  },
  {
   "cell_type": "code",
   "execution_count": 34,
   "metadata": {},
   "outputs": [
    {
     "name": "stdout",
     "output_type": "stream",
     "text": [
      "{1, 2, 3, 4}\n",
      "{1, 2, 3, 4}\n"
     ]
    }
   ],
   "source": [
    "# 3. 차집합 : - or difference()\n",
    "print(s1-s2)\n",
    "print(s1.difference(s2))\n"
   ]
  },
  {
   "cell_type": "markdown",
   "metadata": {},
   "source": [
    "#### 3. set 자료형 관련 함수\n",
    "\n",
    "* add()   : 한개의 값을 추가\n",
    "* update(): 여러개의 값을 추가\n",
    "* remove(): 특정 값을 삭제\n",
    "* copy()  : 자료를 복사"
   ]
  },
  {
   "cell_type": "code",
   "execution_count": 46,
   "metadata": {},
   "outputs": [
    {
     "name": "stdout",
     "output_type": "stream",
     "text": [
      "{1, 2, 3, 4, 'a', 'x'}\n"
     ]
    }
   ],
   "source": [
    "# 1. add()\n",
    "s = set([1,2,3])\n",
    "# help(s)\n",
    "s.add('x')\n",
    "s.add('a')\n",
    "s.add(4)\n",
    "print(s)"
   ]
  },
  {
   "cell_type": "code",
   "execution_count": 47,
   "metadata": {},
   "outputs": [
    {
     "name": "stdout",
     "output_type": "stream",
     "text": [
      "{1, 2, 3, 4, 5, 6, 7, 'a', 'x'}\n",
      "{1, 2, 3, 4, 5, 6, 7, 8, 'a', 'x'}\n",
      "{1, 2, 3, 4, 5, 6, 7, 8, 'l', 'n', 'm', 'a', 'x'}\n"
     ]
    }
   ],
   "source": [
    "# 2. update()\n",
    "s.update([5,6,7])\n",
    "print(s)\n",
    "s.update([6,7,8])\n",
    "print(s)\n",
    "s.update(('l','m','n'))\n",
    "print(s)"
   ]
  },
  {
   "cell_type": "code",
   "execution_count": 48,
   "metadata": {},
   "outputs": [
    {
     "name": "stdout",
     "output_type": "stream",
     "text": [
      "{1, 2, 4, 5, 6, 7, 8, 'l', 'n', 'm', 'a', 'x'}\n"
     ]
    }
   ],
   "source": [
    "# 3. remove()\n",
    "s.remove(3)\n",
    "print(s)\n",
    "\n",
    "# s.remove('z') // s 에서 없는 놈을 날리면 key error에 걸린다."
   ]
  },
  {
   "cell_type": "code",
   "execution_count": 51,
   "metadata": {},
   "outputs": [
    {
     "name": "stdout",
     "output_type": "stream",
     "text": [
      "{1, 3, 5}\n",
      "{1, 3, 5}\n",
      "{1, 3, 4, 5}\n",
      "{1, 3, 5}\n"
     ]
    }
   ],
   "source": [
    "# 4. copy() : set의 copy 함수는 얕은 복사이다. - 서로 관련 x\n",
    "s ={1,3,5}\n",
    "t= s.copy()\n",
    "print(s)\n",
    "print(t)\n",
    "s.add(4)\n",
    "print(s)\n",
    "print(t)\n"
   ]
  },
  {
   "cell_type": "code",
   "execution_count": 52,
   "metadata": {},
   "outputs": [
    {
     "name": "stdout",
     "output_type": "stream",
     "text": [
      "False\n",
      "True\n"
     ]
    }
   ],
   "source": [
    "# issubset() : 부분집합 여부 확인\n",
    "a = {1,2,3,4,5}\n",
    "b ={1,2,3,4}\n",
    "print(a.issubset(b))\n",
    "print(b.issubset(a))"
   ]
  },
  {
   "cell_type": "code",
   "execution_count": 4,
   "metadata": {},
   "outputs": [
    {
     "name": "stdout",
     "output_type": "stream",
     "text": [
      "True\n",
      "False\n"
     ]
    }
   ],
   "source": [
    "# issuperset() : issubset과 반대 superset인지 여부를 확인\n",
    "a = {1,2,3,4,5}\n",
    "b = {1,2,3}\n",
    "print(a.issuperset(b))\n",
    "print(b.issuperset(a))"
   ]
  },
  {
   "cell_type": "code",
   "execution_count": 57,
   "metadata": {},
   "outputs": [
    {
     "name": "stdout",
     "output_type": "stream",
     "text": [
      "True\n",
      "False\n"
     ]
    }
   ],
   "source": [
    "# isdisjoint() : 교집합이 없으면 True 있으면 False\n",
    "a = {1,2,3}\n",
    "b = {4,5,6}\n",
    "print(a.isdisjoint(b))\n",
    "\n",
    "c = {1,2,3}\n",
    "d = {3,4,5}\n",
    "print(c.isdisjoint(d))"
   ]
  },
  {
   "cell_type": "code",
   "execution_count": null,
   "metadata": {},
   "outputs": [],
   "source": []
  },
  {
   "cell_type": "code",
   "execution_count": null,
   "metadata": {},
   "outputs": [],
   "source": []
  },
  {
   "cell_type": "code",
   "execution_count": null,
   "metadata": {},
   "outputs": [],
   "source": []
  },
  {
   "cell_type": "code",
   "execution_count": null,
   "metadata": {},
   "outputs": [],
   "source": []
  },
  {
   "cell_type": "code",
   "execution_count": null,
   "metadata": {},
   "outputs": [],
   "source": []
  }
 ],
 "metadata": {
  "kernelspec": {
   "display_name": "Python 3",
   "language": "python",
   "name": "python3"
  },
  "language_info": {
   "codemirror_mode": {
    "name": "ipython",
    "version": 3
   },
   "file_extension": ".py",
   "mimetype": "text/x-python",
   "name": "python",
   "nbconvert_exporter": "python",
   "pygments_lexer": "ipython3",
   "version": "3.7.6"
  }
 },
 "nbformat": 4,
 "nbformat_minor": 4
}
