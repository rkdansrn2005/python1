{
 "cells": [
  {
   "cell_type": "code",
   "execution_count": 5,
   "metadata": {},
   "outputs": [],
   "source": [
    "import warnings\n",
    "warnings.filterwarnings('ignore')\n",
    "\n",
    "%matplotlib inline\n",
    "import matplotlib.pyplot as plt\n",
    "import numpy as np\n",
    "import pandas as pd\n",
    "plt.rcParams['font.family']='NanumGothicCoding'\n",
    "plt.rcParams['axes.unicode_minus']=False\n",
    "plt.rcParams['figure.dpi']=300"
   ]
  },
  {
   "cell_type": "code",
   "execution_count": 7,
   "metadata": {},
   "outputs": [],
   "source": [
    "from bs4 import BeautifulSoup as bs\n",
    "import urllib.request as req\n",
    "import datetime\n",
    "from urllib.request import urlopen\n",
    "\n",
    "date = str(datetime.datetime.now()-datetime.timedelta(0)).split(' ')[0]\n",
    "page = 3\n",
    "url = f\"https://finance.naver.com/news/news_read.nhn?article_id=0004451131&office_id=014&mode=mainnews&type=&date={date}&page={page}\"\n",
    "html= urlopen(url)\n",
    "soup = bs(html.read(),'html.parser')\n",
    "content = soup.find_all(id='content')"
   ]
  },
  {
   "cell_type": "code",
   "execution_count": 8,
   "metadata": {},
   "outputs": [],
   "source": [
    "contents = str(content).split('<br/>')"
   ]
  },
  {
   "cell_type": "code",
   "execution_count": 9,
   "metadata": {},
   "outputs": [],
   "source": [
    "def makecontents(contents):\n",
    "    for i in range(2):\n",
    "        for i in contents:\n",
    "            if '</span>' in i:\n",
    "                contents.remove(i)\n",
    "            elif 'strong>' in i:\n",
    "                contents.remove(i)\n",
    "            elif '/div>' in i:\n",
    "                contents.remove(i)\n",
    "                \n",
    "    while ' ' in contents:\n",
    "        contents.remove(' ')\n",
    "    while '' in contents:\n",
    "        contents.remove('')\n",
    "    return contents"
   ]
  },
  {
   "cell_type": "code",
   "execution_count": 11,
   "metadata": {},
   "outputs": [
    {
     "data": {
      "text/plain": [
       "'2020-07-17'"
      ]
     },
     "execution_count": 11,
     "metadata": {},
     "output_type": "execute_result"
    }
   ],
   "source": [
    "date"
   ]
  },
  {
   "cell_type": "code",
   "execution_count": 10,
   "metadata": {},
   "outputs": [
    {
     "data": {
      "text/plain": [
       "[\"이번주 국내 증시는 코로나19 재확산 우려에 따라 주가 회복세가 둔화될 전망이다. 이 과정에서 업종별로 수익률이 '부익부 빈익빈' 현상을 보일 것이란 분석이 나온다. 금융투자업계는 28일 이번주 예상 코스피지수를 2030~2130으로 제시했다.  \",\n",
       " '■코로나19 재확산 우려  ',\n",
       " '미국 내 코로나의 2차 확산과 세계 경제 성장률 회복에 대한 의구심은 코스피의 하락 요인으로 작용할 전망이다. 미국에서는 확진자 수가 하루에 4만명 가까이 나오면서 단계적으로 진행 중인 경제활동 재개 속도가 둔화될 가능성이 높다.  ',\n",
       " '한대훈 SK증권 연구원은 \"(코로나19로 인한)경제활동 봉쇄조치에 대한 우려의 목소리가 크다. 이를 반영해 국제통화기금(IMF)는 올해 세계경제 성장률을 -4.9%로 이전의 전망치보다 1.9%포인트 낮췄다\"며 \"미국과 중국 간에 심상치 않은 기류가 흐르고 있고, 미국은 유럽과 캐나다에도 관세 부과를 시사했다. 글로벌 교역 위축에 대한 우려는 코로나19 2차 확산과 맞물려 경기회복에 대한 기대를 낮출 수 있다\"고 지적했다.  ',\n",
       " '다만, 그동안 강세장을 이끌었던 연방준비제도(Fed·연준)를 비롯해 각국 중앙은행의 완화적 통화정책은 지속될 것으로 기대된다. 상반기에도 경제 및 기업실적 악화 등 여러 악재와 상관없이 유동성의 힘으로 증시는 회복세를 보였다.  ',\n",
       " '전문가들은 시중에 풀린 돈이 증시를 지탱하더라도 업종별로 엇갈리는 희비는 피할 수 없을 것으로 봤다. 박석현 KTB투자증권 연구원은 \"주도주와 소외주 간의 수익률 격차는 금융위기 이후 10년간 연도별로 4번째 높은 수준에 도달했다\"며 \"코로나19로 인한 성장률 진폭 확대는 업종별 수익률 격차 확대 요인으로, 정책 수혜 유무에 따른 업종별 수익률 격차 확대 양상이 2009년에 필적할 수 있다\"고 말했다.  ',\n",
       " '■5G, 플랫폼 확대 주목  ',\n",
       " 'SK증권은 SK텔레콤, 삼성SDI를 주간 추천종목으로 제시했다. 먼저 SK텔레콤에 대해서는 국내에서 가장 많은 5G 가입자를 보유하고 있어 하반기 본격적인 무선 부문에서 규모의 경제 효과가 기대된다고 했다. 삼성SDI의 경우 유럽 등 강력한 전기차 드라이브로 수혜가 기대된다.  ',\n",
       " \"하나금융투자는 삼성전자, 현대건설, 케이엠더블유를 유망종목으로 꼽았다. 현대건설은 올해 최대 재개발사업인 '한남3구역'을 수주한 점을, 케이엠더블유는 이달부터 일본 라쿠텐, 삼성전자로의 시스템장비 매출이 본격화되는 데다 중국 ZTE향 수출 수혜를 기대요인으로 들었다.  \",\n",
       " '유안타증권은 삼성전자와 네이버, LG생활건강을 꼽고, 네이버에 대해 \"플랫폼 확대에 따른 기업가치 증가가 전망된다\"고 설명했다.  ']"
      ]
     },
     "execution_count": 10,
     "metadata": {},
     "output_type": "execute_result"
    }
   ],
   "source": [
    "makecontents(contents)"
   ]
  },
  {
   "cell_type": "code",
   "execution_count": 6,
   "metadata": {},
   "outputs": [],
   "source": [
    "import pandas as pd\n",
    "import numpy as np\n",
    "df = pd.DataFrame(columns=['날짜','내용'])"
   ]
  },
  {
   "cell_type": "code",
   "execution_count": null,
   "metadata": {},
   "outputs": [],
   "source": [
    "for i in range(15):\n",
    "    try:\n",
    "        date = str(datetime.datetime.now()-datetime.timedelta(0)).split(' ')[0]\n",
    "        page = i\n",
    "        url = f\"https://finance.naver.com/news/news_read.nhn?article_id=0004451131&office_id=014&mode=mainnews&type=&date={date}&page={page}\"\n",
    "        html= urlopen(url)\n",
    "        soup = bs(html.read(),'html.parser')\n",
    "        content = soup.find_all(id='content')\n",
    "        contents = str(content).split('<br/>')\n",
    "        fusion_contents = makecontents(contents)\n",
    "        print(fusion_contents)\n",
    "#         df.loc[i]=[date,fusion_contents]\n",
    "#         print(1)\n",
    "    except:\n",
    "        break"
   ]
  },
  {
   "cell_type": "code",
   "execution_count": 15,
   "metadata": {},
   "outputs": [
    {
     "ename": "SyntaxError",
     "evalue": "invalid character in identifier (<ipython-input-15-29eb3bdd4ae0>, line 13)",
     "output_type": "error",
     "traceback": [
      "\u001b[1;36m  File \u001b[1;32m\"<ipython-input-15-29eb3bdd4ae0>\"\u001b[1;36m, line \u001b[1;32m13\u001b[0m\n\u001b[1;33m    cleanr = re.compile('<.*?>')\u001b[0m\n\u001b[1;37m    ^\u001b[0m\n\u001b[1;31mSyntaxError\u001b[0m\u001b[1;31m:\u001b[0m invalid character in identifier\n"
     ]
    }
   ],
   "source": [
    "# -*- coding: utf-8 -*-\n",
    "from bs4 import BeautifulSoup\n",
    "import urllib.request\n",
    "from urllib.parse import quote\n",
    "import json\n",
    "import re\n",
    "import requests\n",
    "#네이버 검색 Open API 사용 요청시 얻게되는 정보를 입력합니다\n",
    "naver_client_id = \"<naver client id>\"\n",
    "naver_client_secret = \"<naver secret>\"\n",
    "\n",
    "def cleanhtml(raw_html):\n",
    "    cleanr = re.compile('<.*?>')\n",
    "    cleantext = re.sub(cleanr, '', raw_html)\n",
    "    return cleantext\n",
    "\n",
    "def searchByTitle(title):\n",
    "    myurl = 'https://openapi.naver.com/v1/search/movie.json?display=100&query=' + quote(title)\n",
    "    request = urllib.request.Request(myurl)\n",
    "    request.add_header(\"X-Naver-Client-Id\",naver_client_id)\n",
    "    request.add_header(\"X-Naver-Client-Secret\",naver_client_secret)\n",
    "    response = urllib.request.urlopen(request)\n",
    "    rescode = response.getcode()\n",
    "    if(rescode==200):\n",
    "        response_body = response.read()\n",
    "        d = json.loads(response_body.decode('utf-8'))\n",
    "        if (len(d['items']) > 0):\n",
    "            return d['items']\n",
    "        else:\n",
    "            return None\n",
    "\n",
    "    else:\n",
    "        print(\"Error Code:\" + rescode)\n",
    "def findItemByInput(items):\n",
    "    for index, item in enumerate(items):\n",
    "        navertitle = cleanhtml(item['title'])\n",
    "        naversubtitle = cleanhtml(item['subtitle'])\n",
    "        naverpubdate = cleanhtml(item['pubDate'])\n",
    "        naveractor = cleanhtml(item['actor'])\n",
    "        naverlink = cleanhtml(item['link'])\n",
    "        naveruserScore = cleanhtml(item['userRating'])\n",
    " \n",
    "        navertitle1 = navertitle.replace(\" \",\"\")\n",
    "        navertitle1 = navertitle1.replace(\"-\", \",\")\n",
    "        navertitle1 = navertitle1.replace(\":\", \",\")\n",
    "\n",
    "        #기자 평론가 평점을 얻어 옵니다\n",
    "        spScore = getSpecialScore(naverlink)\n",
    "\n",
    "        #네이버가 다루는 영화 고유 ID를 얻어 옵니다다\n",
    "        naverid = re.split(\"code=\", naverlink)[1]\n",
    "\n",
    "        # 영화의 타이틀 이미지를 표시합니다\n",
    "        # if (item['image'] != None and \"http\" in item['image']):\n",
    "        #    response = requests.get(item['image'])\n",
    "        #    img = Image.open(BytesIO(response.content))\n",
    "        #    img.show()\n",
    "\n",
    "        print(index, navertitle, naversubtitle, naveruserScore, spScore)\n",
    "\n",
    "def getInfoFromNaver(searchTitle):\n",
    "    items = searchByTitle(searchTitle)\n",
    " \n",
    "    if (items != None):\n",
    "        findItemByInput(items)\n",
    "    else:\n",
    "        print(\"No result\")\n",
    "        \n",
    "def get_soup(url):\n",
    "    source_code = requests.get(url)\n",
    "    plain_text = source_code.text\n",
    "    soup = BeautifulSoup(plain_text, 'lxml')\n",
    "    return soup\n",
    "\n",
    "#기자 평론가 평점을 얻어 옵니다\n",
    "def getSpecialScore(URL):\n",
    "    soup = get_soup(URL)\n",
    "    scorearea = soup.find_all('div', \"spc_score_area\")\n",
    "    newsoup = BeautifulSoup(str(scorearea), 'lxml')\n",
    "    score = newsoup.find_all('em')\n",
    "    if (score and len(score) > 5):\n",
    "        scoreis = score[1].text + score[2].text + score[3].text + score[4].text\n",
    "        return float(scoreis)\n",
    "    else:\n",
    "        return 0.0"
   ]
  },
  {
   "cell_type": "code",
   "execution_count": 16,
   "metadata": {},
   "outputs": [
    {
     "ename": "HTTPError",
     "evalue": "HTTP Error 401: Unauthorized",
     "output_type": "error",
     "traceback": [
      "\u001b[1;31m---------------------------------------------------------------------------\u001b[0m",
      "\u001b[1;31mHTTPError\u001b[0m                                 Traceback (most recent call last)",
      "\u001b[1;32m<ipython-input-16-01caf6a59f06>\u001b[0m in \u001b[0;36m<module>\u001b[1;34m\u001b[0m\n\u001b[0;32m     10\u001b[0m \u001b[0mrequest\u001b[0m\u001b[1;33m.\u001b[0m\u001b[0madd_header\u001b[0m\u001b[1;33m(\u001b[0m\u001b[1;34m\"X-Naver-Client-Id\"\u001b[0m\u001b[1;33m,\u001b[0m\u001b[0mclient_id\u001b[0m\u001b[1;33m)\u001b[0m\u001b[1;33m\u001b[0m\u001b[1;33m\u001b[0m\u001b[0m\n\u001b[0;32m     11\u001b[0m \u001b[0mrequest\u001b[0m\u001b[1;33m.\u001b[0m\u001b[0madd_header\u001b[0m\u001b[1;33m(\u001b[0m\u001b[1;34m\"X-Naver-Client-Secret\"\u001b[0m\u001b[1;33m,\u001b[0m\u001b[0mclient_secret\u001b[0m\u001b[1;33m)\u001b[0m\u001b[1;33m\u001b[0m\u001b[1;33m\u001b[0m\u001b[0m\n\u001b[1;32m---> 12\u001b[1;33m \u001b[0mresponse\u001b[0m \u001b[1;33m=\u001b[0m \u001b[0murllib\u001b[0m\u001b[1;33m.\u001b[0m\u001b[0mrequest\u001b[0m\u001b[1;33m.\u001b[0m\u001b[0murlopen\u001b[0m\u001b[1;33m(\u001b[0m\u001b[0mrequest\u001b[0m\u001b[1;33m)\u001b[0m\u001b[1;33m\u001b[0m\u001b[1;33m\u001b[0m\u001b[0m\n\u001b[0m\u001b[0;32m     13\u001b[0m \u001b[0mrescode\u001b[0m \u001b[1;33m=\u001b[0m \u001b[0mresponse\u001b[0m\u001b[1;33m.\u001b[0m\u001b[0mgetcode\u001b[0m\u001b[1;33m(\u001b[0m\u001b[1;33m)\u001b[0m\u001b[1;33m\u001b[0m\u001b[1;33m\u001b[0m\u001b[0m\n\u001b[0;32m     14\u001b[0m \u001b[1;32mif\u001b[0m\u001b[1;33m(\u001b[0m\u001b[0mrescode\u001b[0m\u001b[1;33m==\u001b[0m\u001b[1;36m200\u001b[0m\u001b[1;33m)\u001b[0m\u001b[1;33m:\u001b[0m\u001b[1;33m\u001b[0m\u001b[1;33m\u001b[0m\u001b[0m\n",
      "\u001b[1;32m~\\anaconda3\\lib\\urllib\\request.py\u001b[0m in \u001b[0;36murlopen\u001b[1;34m(url, data, timeout, cafile, capath, cadefault, context)\u001b[0m\n\u001b[0;32m    220\u001b[0m     \u001b[1;32melse\u001b[0m\u001b[1;33m:\u001b[0m\u001b[1;33m\u001b[0m\u001b[1;33m\u001b[0m\u001b[0m\n\u001b[0;32m    221\u001b[0m         \u001b[0mopener\u001b[0m \u001b[1;33m=\u001b[0m \u001b[0m_opener\u001b[0m\u001b[1;33m\u001b[0m\u001b[1;33m\u001b[0m\u001b[0m\n\u001b[1;32m--> 222\u001b[1;33m     \u001b[1;32mreturn\u001b[0m \u001b[0mopener\u001b[0m\u001b[1;33m.\u001b[0m\u001b[0mopen\u001b[0m\u001b[1;33m(\u001b[0m\u001b[0murl\u001b[0m\u001b[1;33m,\u001b[0m \u001b[0mdata\u001b[0m\u001b[1;33m,\u001b[0m \u001b[0mtimeout\u001b[0m\u001b[1;33m)\u001b[0m\u001b[1;33m\u001b[0m\u001b[1;33m\u001b[0m\u001b[0m\n\u001b[0m\u001b[0;32m    223\u001b[0m \u001b[1;33m\u001b[0m\u001b[0m\n\u001b[0;32m    224\u001b[0m \u001b[1;32mdef\u001b[0m \u001b[0minstall_opener\u001b[0m\u001b[1;33m(\u001b[0m\u001b[0mopener\u001b[0m\u001b[1;33m)\u001b[0m\u001b[1;33m:\u001b[0m\u001b[1;33m\u001b[0m\u001b[1;33m\u001b[0m\u001b[0m\n",
      "\u001b[1;32m~\\anaconda3\\lib\\urllib\\request.py\u001b[0m in \u001b[0;36mopen\u001b[1;34m(self, fullurl, data, timeout)\u001b[0m\n\u001b[0;32m    529\u001b[0m         \u001b[1;32mfor\u001b[0m \u001b[0mprocessor\u001b[0m \u001b[1;32min\u001b[0m \u001b[0mself\u001b[0m\u001b[1;33m.\u001b[0m\u001b[0mprocess_response\u001b[0m\u001b[1;33m.\u001b[0m\u001b[0mget\u001b[0m\u001b[1;33m(\u001b[0m\u001b[0mprotocol\u001b[0m\u001b[1;33m,\u001b[0m \u001b[1;33m[\u001b[0m\u001b[1;33m]\u001b[0m\u001b[1;33m)\u001b[0m\u001b[1;33m:\u001b[0m\u001b[1;33m\u001b[0m\u001b[1;33m\u001b[0m\u001b[0m\n\u001b[0;32m    530\u001b[0m             \u001b[0mmeth\u001b[0m \u001b[1;33m=\u001b[0m \u001b[0mgetattr\u001b[0m\u001b[1;33m(\u001b[0m\u001b[0mprocessor\u001b[0m\u001b[1;33m,\u001b[0m \u001b[0mmeth_name\u001b[0m\u001b[1;33m)\u001b[0m\u001b[1;33m\u001b[0m\u001b[1;33m\u001b[0m\u001b[0m\n\u001b[1;32m--> 531\u001b[1;33m             \u001b[0mresponse\u001b[0m \u001b[1;33m=\u001b[0m \u001b[0mmeth\u001b[0m\u001b[1;33m(\u001b[0m\u001b[0mreq\u001b[0m\u001b[1;33m,\u001b[0m \u001b[0mresponse\u001b[0m\u001b[1;33m)\u001b[0m\u001b[1;33m\u001b[0m\u001b[1;33m\u001b[0m\u001b[0m\n\u001b[0m\u001b[0;32m    532\u001b[0m \u001b[1;33m\u001b[0m\u001b[0m\n\u001b[0;32m    533\u001b[0m         \u001b[1;32mreturn\u001b[0m \u001b[0mresponse\u001b[0m\u001b[1;33m\u001b[0m\u001b[1;33m\u001b[0m\u001b[0m\n",
      "\u001b[1;32m~\\anaconda3\\lib\\urllib\\request.py\u001b[0m in \u001b[0;36mhttp_response\u001b[1;34m(self, request, response)\u001b[0m\n\u001b[0;32m    639\u001b[0m         \u001b[1;32mif\u001b[0m \u001b[1;32mnot\u001b[0m \u001b[1;33m(\u001b[0m\u001b[1;36m200\u001b[0m \u001b[1;33m<=\u001b[0m \u001b[0mcode\u001b[0m \u001b[1;33m<\u001b[0m \u001b[1;36m300\u001b[0m\u001b[1;33m)\u001b[0m\u001b[1;33m:\u001b[0m\u001b[1;33m\u001b[0m\u001b[1;33m\u001b[0m\u001b[0m\n\u001b[0;32m    640\u001b[0m             response = self.parent.error(\n\u001b[1;32m--> 641\u001b[1;33m                 'http', request, response, code, msg, hdrs)\n\u001b[0m\u001b[0;32m    642\u001b[0m \u001b[1;33m\u001b[0m\u001b[0m\n\u001b[0;32m    643\u001b[0m         \u001b[1;32mreturn\u001b[0m \u001b[0mresponse\u001b[0m\u001b[1;33m\u001b[0m\u001b[1;33m\u001b[0m\u001b[0m\n",
      "\u001b[1;32m~\\anaconda3\\lib\\urllib\\request.py\u001b[0m in \u001b[0;36merror\u001b[1;34m(self, proto, *args)\u001b[0m\n\u001b[0;32m    567\u001b[0m         \u001b[1;32mif\u001b[0m \u001b[0mhttp_err\u001b[0m\u001b[1;33m:\u001b[0m\u001b[1;33m\u001b[0m\u001b[1;33m\u001b[0m\u001b[0m\n\u001b[0;32m    568\u001b[0m             \u001b[0margs\u001b[0m \u001b[1;33m=\u001b[0m \u001b[1;33m(\u001b[0m\u001b[0mdict\u001b[0m\u001b[1;33m,\u001b[0m \u001b[1;34m'default'\u001b[0m\u001b[1;33m,\u001b[0m \u001b[1;34m'http_error_default'\u001b[0m\u001b[1;33m)\u001b[0m \u001b[1;33m+\u001b[0m \u001b[0morig_args\u001b[0m\u001b[1;33m\u001b[0m\u001b[1;33m\u001b[0m\u001b[0m\n\u001b[1;32m--> 569\u001b[1;33m             \u001b[1;32mreturn\u001b[0m \u001b[0mself\u001b[0m\u001b[1;33m.\u001b[0m\u001b[0m_call_chain\u001b[0m\u001b[1;33m(\u001b[0m\u001b[1;33m*\u001b[0m\u001b[0margs\u001b[0m\u001b[1;33m)\u001b[0m\u001b[1;33m\u001b[0m\u001b[1;33m\u001b[0m\u001b[0m\n\u001b[0m\u001b[0;32m    570\u001b[0m \u001b[1;33m\u001b[0m\u001b[0m\n\u001b[0;32m    571\u001b[0m \u001b[1;31m# XXX probably also want an abstract factory that knows when it makes\u001b[0m\u001b[1;33m\u001b[0m\u001b[1;33m\u001b[0m\u001b[1;33m\u001b[0m\u001b[0m\n",
      "\u001b[1;32m~\\anaconda3\\lib\\urllib\\request.py\u001b[0m in \u001b[0;36m_call_chain\u001b[1;34m(self, chain, kind, meth_name, *args)\u001b[0m\n\u001b[0;32m    501\u001b[0m         \u001b[1;32mfor\u001b[0m \u001b[0mhandler\u001b[0m \u001b[1;32min\u001b[0m \u001b[0mhandlers\u001b[0m\u001b[1;33m:\u001b[0m\u001b[1;33m\u001b[0m\u001b[1;33m\u001b[0m\u001b[0m\n\u001b[0;32m    502\u001b[0m             \u001b[0mfunc\u001b[0m \u001b[1;33m=\u001b[0m \u001b[0mgetattr\u001b[0m\u001b[1;33m(\u001b[0m\u001b[0mhandler\u001b[0m\u001b[1;33m,\u001b[0m \u001b[0mmeth_name\u001b[0m\u001b[1;33m)\u001b[0m\u001b[1;33m\u001b[0m\u001b[1;33m\u001b[0m\u001b[0m\n\u001b[1;32m--> 503\u001b[1;33m             \u001b[0mresult\u001b[0m \u001b[1;33m=\u001b[0m \u001b[0mfunc\u001b[0m\u001b[1;33m(\u001b[0m\u001b[1;33m*\u001b[0m\u001b[0margs\u001b[0m\u001b[1;33m)\u001b[0m\u001b[1;33m\u001b[0m\u001b[1;33m\u001b[0m\u001b[0m\n\u001b[0m\u001b[0;32m    504\u001b[0m             \u001b[1;32mif\u001b[0m \u001b[0mresult\u001b[0m \u001b[1;32mis\u001b[0m \u001b[1;32mnot\u001b[0m \u001b[1;32mNone\u001b[0m\u001b[1;33m:\u001b[0m\u001b[1;33m\u001b[0m\u001b[1;33m\u001b[0m\u001b[0m\n\u001b[0;32m    505\u001b[0m                 \u001b[1;32mreturn\u001b[0m \u001b[0mresult\u001b[0m\u001b[1;33m\u001b[0m\u001b[1;33m\u001b[0m\u001b[0m\n",
      "\u001b[1;32m~\\anaconda3\\lib\\urllib\\request.py\u001b[0m in \u001b[0;36mhttp_error_default\u001b[1;34m(self, req, fp, code, msg, hdrs)\u001b[0m\n\u001b[0;32m    647\u001b[0m \u001b[1;32mclass\u001b[0m \u001b[0mHTTPDefaultErrorHandler\u001b[0m\u001b[1;33m(\u001b[0m\u001b[0mBaseHandler\u001b[0m\u001b[1;33m)\u001b[0m\u001b[1;33m:\u001b[0m\u001b[1;33m\u001b[0m\u001b[1;33m\u001b[0m\u001b[0m\n\u001b[0;32m    648\u001b[0m     \u001b[1;32mdef\u001b[0m \u001b[0mhttp_error_default\u001b[0m\u001b[1;33m(\u001b[0m\u001b[0mself\u001b[0m\u001b[1;33m,\u001b[0m \u001b[0mreq\u001b[0m\u001b[1;33m,\u001b[0m \u001b[0mfp\u001b[0m\u001b[1;33m,\u001b[0m \u001b[0mcode\u001b[0m\u001b[1;33m,\u001b[0m \u001b[0mmsg\u001b[0m\u001b[1;33m,\u001b[0m \u001b[0mhdrs\u001b[0m\u001b[1;33m)\u001b[0m\u001b[1;33m:\u001b[0m\u001b[1;33m\u001b[0m\u001b[1;33m\u001b[0m\u001b[0m\n\u001b[1;32m--> 649\u001b[1;33m         \u001b[1;32mraise\u001b[0m \u001b[0mHTTPError\u001b[0m\u001b[1;33m(\u001b[0m\u001b[0mreq\u001b[0m\u001b[1;33m.\u001b[0m\u001b[0mfull_url\u001b[0m\u001b[1;33m,\u001b[0m \u001b[0mcode\u001b[0m\u001b[1;33m,\u001b[0m \u001b[0mmsg\u001b[0m\u001b[1;33m,\u001b[0m \u001b[0mhdrs\u001b[0m\u001b[1;33m,\u001b[0m \u001b[0mfp\u001b[0m\u001b[1;33m)\u001b[0m\u001b[1;33m\u001b[0m\u001b[1;33m\u001b[0m\u001b[0m\n\u001b[0m\u001b[0;32m    650\u001b[0m \u001b[1;33m\u001b[0m\u001b[0m\n\u001b[0;32m    651\u001b[0m \u001b[1;32mclass\u001b[0m \u001b[0mHTTPRedirectHandler\u001b[0m\u001b[1;33m(\u001b[0m\u001b[0mBaseHandler\u001b[0m\u001b[1;33m)\u001b[0m\u001b[1;33m:\u001b[0m\u001b[1;33m\u001b[0m\u001b[1;33m\u001b[0m\u001b[0m\n",
      "\u001b[1;31mHTTPError\u001b[0m: HTTP Error 401: Unauthorized"
     ]
    }
   ],
   "source": [
    "import os\n",
    "import sys\n",
    "import urllib.request\n",
    "client_id = \"QBFZI7K3b1EpDswufRSO\"\n",
    "client_secret = \"QBFZI7K3b1EpDswufRSO\"\n",
    "encText = urllib.parse.quote(\"검색할 단어\")\n",
    "url = \"https://openapi.naver.com/v1/search/blog?query=\" + encText # json 결과\n",
    "# url = \"https://openapi.naver.com/v1/search/blog.xml?query=\" + encText # xml 결과\n",
    "request = urllib.request.Request(url)\n",
    "request.add_header(\"X-Naver-Client-Id\",client_id)\n",
    "request.add_header(\"X-Naver-Client-Secret\",client_secret)\n",
    "response = urllib.request.urlopen(request)\n",
    "rescode = response.getcode()\n",
    "if(rescode==200):\n",
    "    response_body = response.read()\n",
    "    print(response_body.decode('utf-8'))\n",
    "else:\n",
    "    print(\"Error Code:\" + rescode)"
   ]
  },
  {
   "cell_type": "code",
   "execution_count": null,
   "metadata": {},
   "outputs": [],
   "source": []
  },
  {
   "cell_type": "code",
   "execution_count": null,
   "metadata": {},
   "outputs": [],
   "source": []
  },
  {
   "cell_type": "code",
   "execution_count": null,
   "metadata": {},
   "outputs": [],
   "source": []
  }
 ],
 "metadata": {
  "kernelspec": {
   "display_name": "Python 3",
   "language": "python",
   "name": "python3"
  },
  "language_info": {
   "codemirror_mode": {
    "name": "ipython",
    "version": 3
   },
   "file_extension": ".py",
   "mimetype": "text/x-python",
   "name": "python",
   "nbconvert_exporter": "python",
   "pygments_lexer": "ipython3",
   "version": "3.7.7"
  }
 },
 "nbformat": 4,
 "nbformat_minor": 4
}
