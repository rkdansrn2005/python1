{
 "cells": [
  {
   "cell_type": "markdown",
   "metadata": {},
   "source": [
    "### 기술통계와 모델링\n",
    "\n",
    "##### 1. Data Mining\n",
    "\n",
    "* 대용량의 데이터로부터 유용한 정보를 캐내는(mining) 작업\n",
    "* 대용량 데이터에서 존재하는 데이터간의 관계, 패턴, 규칙등을 찾아내고 모델화해서 기업의 경쟁력을 확보를 위한 의사결정을 돕는 일련의 과정\n",
    "* 데이터 마이닝은 큰 데이터 집합에서 동작 가능한 정보를 찾는 프로세스로서 데이터마이닝에서는 수학적인 분석을 사용하여 데이터에 있는 패턴이나 추세등의 정보를 찾는다. 일반적으로는 관계가 너무 복잡하거나 데이터가 너무 많아서 전통적인 데이터 탐색 또는 분석하기 위한 패턴을 탖을 수가 없게 되었다.\n",
    "* 이러한 패턴과 추세를 수집하여 데이터마이닝 모델로 정의할 수가 있는데 마이닝 모델은 다음과 같은 특정 시나리오에 적용 할 수 있다.\n",
    " - 예측 : 서버부하 또는 서버가동중지 시간을 예측하는 추정\n",
    " - 위험 및 확률 : 타겟메일링을 위한 최적합 고객의 선택, 위험 시나리오를 위한 예상 손익에 대한 결정, 진단 및 기다 결과에 확률을 할당\n",
    " - 추천 : 함께 판매될 가능성이 높은 제품을 결정,추천제품 구성\n",
    " - 연계성 찾기 : 장바구니와 고객선택 분석, 적절한 다음 이벤트 예측\n",
    " - 그룹화 : 고객 또는 이벤트를 관련된 항목의 클러스터로 분리, 선호도 분석 및 예측\n",
    " \n",
    "* 참고사이트\n",
    "\n",
    "https://docs.microsoft.com/ko-kr/sql/analysis-services/data-mining/data-mining-concepts?view=sql-analysis-services-2017\n",
    "\n",
    "1 . CRISP-DM(Cross Industry Standard Procesing for Data MINning)\n",
    " \n",
    " - 데이터 마이닝을 위한 업계표준 프로세스 : 데이터마이닝작업을 위한 검증된 방법론 \n",
    "   \n",
    "   1) 비즈니스이해(Business Understanding)\n",
    "      각종 참고자료와 현업 책임자와 의사소통을 통해 해당 비즈니스를 이해하는 단계\n",
    "      반드시 그분야의 전문가화 함게하여 진행한다.\n",
    "   2) 데이터의 이해(Data Understanding)\n",
    "   \n",
    "      초기 데이터를 수집, 데이터에 대한 이해, 데이터의 품질검증, 자료 건수, 송성의 종류, 자료의 품질,\n",
    "      현업에서 보유 및 관리하고 있는 데이터를 이해하는 단계\n",
    "      \n",
    "      \n",
    "   3) 데이터 준비(data Preperation)\n",
    "   \n",
    "      모델링에 필요한데이터 변환, 정제등의 잡업 -> 데이터의 정제, 새로운 데이터 생성, 데이터 업데이트등 \n",
    "      자료를 분석가능한 상태로 만드는 단계\n",
    "   4) 모델링(Modeling)\n",
    "      데이터 분석을 위한 모델링 기법을 선택하고 모델을 생성하는 단계\n",
    "      \n",
    "   5) 평가(Evaluation)\n",
    "      분석 결과에 대한 분석 및 평가, 모델의 해석가능여부, 새로운 자료에도 잘 적용(예측)이 되는지 여부를 검       토하는 단계, 필요한 경우 모델을 재구축\n",
    "   6) 배포(Deployment)\n",
    "     \n",
    "      최종 보고서 작성 및 배포단계, 각 관리자에게 전달하며 필요한 조취를 취하는 등 검토가 완료된 모델을 \n",
    "      실제 현업에 적용하는 단계\n",
    "\n",
    "\n",
    " - 참고 : \n",
    "https://www.ibm.com/support/knowledgecenter/ko/SS3RA7_18.0.0/modeler_crispdm_ddita/clementine/crisp_help/crisp_overview.html\n",
    "\n",
    "2. 머신러닝(인공지능) / 데이터마이닝의 다양한 기법\n",
    " \n",
    "  1) 분류모형(Classification Models) \n",
    "  \n",
    "     특정 기준 :(정답,지도학습)에 의해 분석대상을 2개 또는 3개 이상의 집단으로 분류하는\n",
    "     예측모형(부토예측, 기상예측, 채권등급예측)\n",
    "       \n",
    "      **a. 지도학습 : 미리 다븡르 지정하는 학습(신규고객의 대춠시 연체여부에 따라서 대출제한등..)\n",
    "        b. 비지도학습 : 답이 없이 데이터를 분석해서 결과를 도출하는 것\n",
    "        c. 알고리즘\n",
    "           ... 다중판별분석(MDA, Mutiple Discriminant Analysis)\n",
    "           ... 로직스틱 회귀분석(LOGIT, Logistic Regression)\n",
    "           ... 인공신경망(ANN, Artificial Nural Networks) -> 더 발전된 것이 Deep Learnningㅇ\n",
    "           ... 사례기반추론(CBR, Case-Based Reasoning)\n",
    "           ... 의사결정나무(DT, Decision Treens) 과거데이터 예측에 유리\n",
    "           ... SVM(Support Vector Machines)\n",
    "     \n",
    "  * 2) 최적화기법(Optimization Methods)\n",
    "  \n",
    "     주어진 제약조건하에서 특정 목적함수를 최대 최소화 하는 변수들의 최적의 값을 도출하는 기법이다. 예를 \n",
    "     공장의 생산량 최대화의 문제, 비용을 최소화 하는 유통경로 등\n",
    "     \n",
    "     a. 알고리즘\n",
    "        ... 선형계획법(LP , Linear Programming)\n",
    "        ... 유전자 알고리즘(GA, Genetic Algorithms)\n",
    "        \n",
    "        \n",
    "  3) 가치평가기법(Valuation Methods)\n",
    "  \n",
    "     정성적 측정대상에 대한 가치를 비교, 평가하는 기법(차세기 전투기 선정, 신행정수도선정 등)\n",
    "     \n",
    "     a. 알고리즘\n",
    "       ... 분석적 계층 프로세스(AHP, Analytic Hieracht Process)\n",
    "       ... 분석적 네트워크 프로세스(ANP, Analytic Network Process)\n",
    "       ... 로포라 분석(DEA, Data Envelopment Analysis)\n",
    "       \n",
    "    \n",
    "  4) 군집화 기법(clustering Methods)\n",
    "  \n",
    "     사전에 정해진 기준이 없어 동질의 데이터들을 같은 그룹으로 묶어주는 기법(고객세분화등)\n",
    "     \n",
    "     a. 알고리즘\n",
    "        ... K-means 분류기법(k-means clustering) - ex 임의의 점을 찍어 같은 거리끼리 묶어서 분류 \n",
    "     \n",
    "  * 5) 전처리 기법(Preprocessing Methods) \n",
    "       \n",
    "       예측모형의 성과를 향상시키기 위해 입력데이터에 대한 사전처리를 수행하는 기법\n",
    "       \n",
    "       a. 알고리즘\n",
    "          ... 주성분분석(PCA, Principal Component Analysis)\n",
    "          ... 퍼지이론(Fuzzy Theory)\n",
    "          \n",
    "          \n",
    "##### 2. Data 전처리\n",
    "\n",
    "1. 결측값(Missing value)의 처리\n",
    "   \n",
    "   너무 많은 항목이 비어있거나 너무 많은 항목이 비어있는 레코드등의 자료를 삭제하거나\n",
    "   기타 나머지 항목에 대해서는 일정의 값으로 대체하는 처리를 하는 것.\n",
    "   \n",
    "   평균값(mean)/중간값(Median)/최빈치(Mode)\n",
    "   예1,2,3,4,5,6,6,6,7,8\n",
    "   평균값 1+2+3+4+5+6+6+6+7+8/11:\n",
    "   중앙값 : 5\n",
    "   최빈치 :6\n",
    "   \n",
    "2. 정성적인 자료의 정량화\n",
    "   \n",
    "   각 속성은 단일변수(Automic value)를 갖도록 수정하는 것을 말한다. 정성적인 변수의 경우 0과1의\n",
    "   Binary code로 변환해야 추후 해석이 가능하다.\n",
    "   예를 들어`주소의변환,`\n",
    "3. 이상치(Outlier)의 제거\n",
    "\n",
    "   상식적으로 말이 안되거나 잘못 입력한 것으로 추정되는 변수값을 조정해서 일괄적으로 \n",
    "   상위 10%와 하위 10%에 해당하는 값들을 단일값으로 부여하는 경우도 있다.\n",
    "   예를 들어 치중 80KG이상은 무조건 80KG로 ㄹ체중 400Kg이하는 무조건 40Kg으로 부여\n",
    "   \n",
    "   \n",
    "   \n",
    "4. 새로운 파생변수의 개발\n",
    "   \n",
    "   기존의  ㅐㅣol변수를 조합하여 새로운 변수를 개발하는 것을 말한다. 본래는 비율변수인 값만 의미가 \n",
    "   잇는 정보로 구간화하여 새로운 명목변수로 만드는 것 등 \n",
    "   \n",
    "5. 정규화(Normalization)\n",
    "   모든 입력변수와 값이 chlth 0에서 1사의 값을 갖도록 조정하거나 평균 0을 갖는 표전 정규분포를 \n",
    "   갖도록 조정하는 것\n",
    "   \n",
    "   정규화 공식(Min-Max Normalization) : (x-최소값)/(최대값-최소값)\n",
    "   \n",
    "   예를 들어 전체 고객중 체중이 가장 작은 사람이 40KG,가장 큰 사람이 120K라고하면 40Kg을 0,120Kg을 \n",
    "   1로 변환 후 80Kg은(80-40)/(12-40)=0.5로 변환 \n",
    "   \n",
    "6. 자료의 구분\n",
    "   \n",
    "   1) 과적합화(overffiting)가 발생 가능성\n",
    "   \n",
    "      다음날의 주가지수를 예측하는 모형이 A, 와 B가 있다면\n",
    "      A모델은 구축한 날까지의 주가(과거주가)는 99.99%를 맞추는 반면에 \n",
    "      그 다음날의 주가지수를 예측하면 70%정도 맞추었다.\n",
    "      B모델을 과거주가는 83%정도 예측하는데 미래주가는 80%정도 예측한다.\n",
    "      A, B 모델중 더 잘 구축된 모델은 ? -> 주가는 미래예측이기 때문에 B모델이 더 나은 \n",
    "      모델이다. \n",
    "      \n",
    "   2) 과적합화의 예방법 : 모델구축시에 Hold-out data의 개념을 도입\n",
    "   \n",
    "      Hold-out data(검증) : 모델이 일반성을 갖는지 확인하기 이해 남겨주는 unknown data\n",
    "      통계 모형을 구축할 때 전체데이터가 100이라면 학습용데이터와 검증용 데이터를 나누어서\n",
    "      학습용:검증용=8:2 또는 7:3의 비중으로 자료를 미리 나누어 두는 방법\n",
    "      \n",
    "   3) 0/1의 예측의 경우 0과 1의 비율이 각 데이터셋마다 1:1의 비중이 되도록 섞어야 한다.   \n",
    "   \n",
    "7. 모형에 들어갈 후보 입력값의 선정\n",
    "\n",
    "   1) 카이제곱검증(Chi-square test) : 성별(이산형), 구매여부(이산형)\n",
    "   2) 독립표본 t검증(t-test) - 이분류모형경우에 사용, 구매여부(이산형), 체중(연속성)\n",
    "   3) 분산분석(ANOVA) - 다분류모형의 경우에 사용, 고객등급(이산형), 체중(연속형)\n",
    "\n",
    "\n",
    "##### 3. 4가지 종류의 척도\n",
    "   명목척도, 서열척도 -> 이산형변수\n",
    "   등간척도, 비율척도 -> 연속형변수\n",
    "\n",
    "1) 명목척도(Nominal Scales) : 단순히 번호만 부여한 척도\n",
    "      (1) 정의 : 대상의 특성을 분류하거나 확인할 목적으로 사용하는 척도\n",
    "      (2) 예사 : 축구선수 등번호, 입시에 사용되는 출신학교 코드\n",
    "\n",
    "2) 서열척도(Ordinal Scales) : \n",
    "\n",
    "     (1) 정의 : 대상의 특성이 순서를 밝히기 위해 사용하는 척도(양적비교불가)\n",
    "     (2) 예시 : 수학시험석차, 선호도 우선순위\n",
    "\n",
    "3) 등간척도(Interval Scales)\n",
    "\n",
    "      (1) 정의 : 부여된 순위 사이의 간격이 동일한 척도\n",
    "      (2) 예시 : 온도\n",
    "\n",
    "4) 비율척도(Ration Scales)\n",
    "\n",
    "      (1) 정의 : 순위 사이의 간격이 동일하고 비율계산이 가능한 척도\n",
    "      (2) 예시 : 무게, 투표율\n",
    "\n",
    "\n",
    "##### 4. 통계학의 개요\n",
    "\n",
    "   1) 통계 및 통계분석\n",
    "   \n",
    "      (1) 통계학(Statistics)이란?\n",
    "          현황을 가능한 정확히 알아내고 미래에 대한 적절한 예측을 하기 위해\n",
    "          자료를 효율적으로 수집정리하고 분석하는 학문 분야\n",
    "          \n",
    "      (2) 통게분석의 목적\n",
    "          현황을 제대로 파악하기 위해\n",
    "          미래를 예측하기 위해\n",
    "          \n",
    "      (3) 통계학이 적용되는 대표적인 예들\n",
    "          공학자 : 현재 생산되는 제품의 품질이 어떤 상태에 있는가?\n",
    "          경영자 : 제품에 대한 소비자의 선호도가 어떻게 나타나고 있는가?\n",
    "          사회과학자 : 정치에 대한 국민들의 의견은 어떻게 나타나고 있는가?\n",
    "          \n",
    "   2) 모집단과 표본\n",
    "      국회의원들이 소유하고 있는 모든 주택의 평균가격은 얼마인가?\n",
    "      \n",
    "      (1) 모집단(population)\n",
    "          관심의 대상이 되는 집단 전체(예:국회의원소유주택수)\n",
    "          모수(parameter) : 모집단이 가지고 있는 특징을 나타내는 수치(예:평균가)\n",
    "          전수조사(census) : 모집단의 모든 개체를 전부 조사하는 방법, 모수의 값\n",
    "             을 가장 정확하게 알아내는 방법. 단점은 시간과 비용문제가 있다.\n",
    "      \n",
    "      (2) 표본(Sample)\n",
    "          모수의 값을 알아내기 위해 추출된 모집단의 일부분\n",
    "          일반적인 통계분석에서는 모집단의 일부만 조사하여 모집단의 모수를 추측\n",
    "          100% 정확하지는 않지만, 거의 근접한 값을 제공해 줄 수 있다.\n",
    "          대신 시간과 비용을 크게 절약할 수 있는 방법\n",
    "          \n",
    "          \n",
    "      (3) 표본추출\n",
    "          표본이 모집단을 대표할 수 있도록 추출하는 것이 중요\n",
    "          표본추출이 잘몯되어 발생한 사례\n",
    "             --> 1936년 미국대선 : 민주당 Franklin Roosevelt vs 공화당 Alf London\n",
    "                 전화조사 결과 공화당 승리예상. 실제로는 민주당 승리\n",
    "                 당시에는 전화보급율이 매우 낮았임\n",
    "          \n",
    "   3) 통계학의 2가지 분야\n",
    "   \n",
    "      (1) 기술통계학 : 수집된 자료들이 가지고 있는 정보를 쉽게 파악할 수 있도록\n",
    "          표현하는 방법에 대한 내용을 다루는 학문분야로 주어진 자료의 특성을 \n",
    "          그대로 기술하는 것(예: 매출액, 사원수, 연령별인두등.._\n",
    "          \n",
    "          예 : 다차원척도법, 컨조인트분석, 군집분석, 요인분석이 기술통계학에 해당\n",
    "               (다컷군요!!로 암기)\n",
    "          \n",
    "      (2) 추리통계학 : 수집된 자료들을 분석해 볼 때 알아내고자 했던 모집단의 모수\n",
    "          는 얼마로 추정되는지, 미래예측치는 얼마로 예상되는지 등의 결론을 도출\n",
    "          하는 학문 분야. 수집된 자료를 통하여 원래 알아보고자 했던 문제에 대한 \n",
    "          결혼을 도출, 통계학의 대부부 내용들이 여기에 해당한다.\n",
    "          \n",
    "          표본의 특성으로 부터 모집단의 특성을 추정하는 것\n",
    "          \n",
    "          예) 기술통계학 이외의 분석방법이 추리통계학 분햐\n",
    "          \n",
    "   4) 통계분석의 절차\n",
    "   \n",
    "      (1) 문제의 올바를 파악 : 대상이 되는 모집단에 대해 정확하게 설정하고\n",
    "          알아내려는 사항이 무엇인지 제대로 파악\n",
    "          \n",
    "      (2) 표본의 추출과 자료의 수집 : 비표본오차(nonsampling error)가 발생하지\n",
    "          않도록 설계\n",
    "          표본오차 : 모집단을 표본으포 추정하는데서 방생되는 오차(회피불가)\n",
    "          비표본오차 : 표본추출을 잘못한 경우 발생되는 오차(회피가능)\n",
    "          \n",
    "          자료수집 2가지 방법\n",
    "          ... 실험(experiment) : 자연과학분야\n",
    "          ... 설문(survey) : 사회과학분야\n",
    "      \n",
    "      (3) 수집된 자료의 적절한 정리(전처리) : 기술통계학\n",
    "      (4) 모집단에 대한 추론 : 추리통계학\n",
    "\n",
    "\n",
    "\n",
    "\n",
    "##### 5. 기술통계량\n",
    "   응답자의 평균소득은? 응답자나이 평균은?\n",
    "   특정상품 선호도에 대한 관측치들은 평균을 중심으로 얼마나 퍼져있는가?\n",
    "     --> 분산, 표준편차를 통해 확인\n",
    "     --> 정규분포도가 평균근처에 몰려 있을 경우 : 분산, 표준편차가 적음\n",
    "         정규분포도가 평균으로 부터 떨어져 넓게 있을 경우 : 분산, 표준편차가 큼\n",
    "   \n",
    "   왜도(Skewness) : 분포의 편중(치우침)을 나타내는 지표       \n",
    "   첨도(Kurtosis) : 분포의 뾰죽한 정도를 나태내는 지표\n",
    "  \n",
    "   1) 카이제곱검정(교차분석)\n",
    "   \n",
    "     ...https://m.blog.naver.com/leerider/100189714605\n",
    "     ... Pearson카이제곱검증이라고도 한다. 이 검증은 그룹간에 차이여부(=그룹끼리 독립여부)에 대해\n",
    "         카이제곱분포를 사용해 가설검증하는 방법이다.\n",
    "         그룹간 차이여부의 의미는 그룹간에 비율(proportion)차이가 있는지의 여부를 의미한다.\n",
    "         (참고)Pearsondms 19세기후반~20세기 초반의 인물인데 두 연속변수끼리 얼마나 관계가 있는지를 측정하는 \n",
    "         피어슨상관계수(Pearson correlation coefficient)를 개발한 Karl Pearson입니다.\n",
    "             \n",
    "      (1) 이산형 변수로 구성된 2개의 변수가 서로 독립여부를 확인하고자 할 때 사용\n",
    "      (2) 즉, 두 이산형 변수가 서로 상관관계가 유무를 통계적으로 검증할 때 기법\n",
    "      (3) 이산형(discrete)변수 : 비계량적인 변수로서, 관측대상을 범주로 나누어\n",
    "          분류한 후, 그에 따라 기호나 숫자를 부여한 변수, 여기서 평균의미가 없다.\n",
    "          예) 성별, 선호정당, 출신국가, 직업구분, 주택보유여부 등\n",
    "      (4) 연속형(continuous)변수 : 계량적인 변수로서 일반적인 수치적 방법에 의해\n",
    "          즉정 가능한 변수. 여기서는 평균이 의니가 있다.\n",
    "          예) 금액, 거리, 무게, 시간등\n",
    "      (5) 카이제곰검정의 해석\n",
    "          접근 유의확률(p-value라고 함)을 토대로 평가한다.\n",
    "          \"95% 신뢰수준하에서\"로 해석하고 싶으면 유의확률 < 0.05인지 확인\n",
    "          \"90% 신뢰수준하에서\"로 해석하고 싶으면 유의확률 < 0.1인지 확인\n",
    "          (즉, 유의확률은 작으면 작을 수록 좋다.)\n",
    "          \n",
    "   2) 가설 검증의 기초\n",
    "      (1) 과학분야에서의 증명 : 반증법에 의거해 증명\n",
    "          \"모든 사람은 정직하다\"라는 명제가 잇을 때 이 명제가 참인지 거짓인지를\n",
    "          확인하는 접근법에는 2가지가 존재\n",
    "          a. 모든 사람을 일일히 조사해서 정직한지 확인하는 방법\n",
    "          b. 정직하지 못한 사람(사례)을 하나 찾아내 명제가 거짓임을 입증하는 방법\n",
    "          \n",
    "          위 2가지 방법 중 어느 것이 효율적일까?(현실적으로 가능한 방법일까?)\n",
    "          1000명이 정작함을 확인했을 때, 1001명이 정직하다 확언할 수 있을까?\n",
    "       \n",
    "      (2) 귀무가설(HO)과 대립가설(Ha)\n",
    "          우리가 알고 싶은 명제(A와 B는 다르다, A와 B는 차이가 있다등)는 대립가설\n",
    "          로 두고, 그 반대인 귀무가설(주로 A와 B는 같다. A와 B는 차이가 없다)이\n",
    "          기각됨을 보임으로서 내가 입증해 보이고 싶은 명제를 증명\n",
    "          \n",
    "   3) 독립표본 t-검정\n",
    "   \n",
    "      서로 독림된 두 집단간의 평균차이가 통계적으로 유의미한지 비교하고자 할 때\n",
    "      사용 즉, 서로 독립된 두 집단에 대해 각 집단별 특정 연속형 변수 평균값이 서\n",
    "      로 차이가 있는지 없는지를 통계적으로 검정할 때 사용되는 기법\n",
    "          \n",
    "      예) 전체 응답자 중 남자와 여자 사이의 연령은 차이가 있는가?\n",
    "\n",
    "   4) 대응표본 t-검정(Paired-samples t-test)\n",
    "    \n",
    "      서로 동일한 모집단에서 추출된 두 표본에 대해 특정 연속형 변수 평균값이 서로\n",
    "      차이가 있는지, 없는지를 통계적으로 검정할 때 사용되는 기법\n",
    "      \n",
    "      예) 한회사에서 자사가 개발한 한 달간의 식이요법 프로그램이 효과여부 분석하\n",
    "      고자 사원을 A, B그룹을 나누어 검증하는 방법\n",
    "\n",
    "   5) 일원배치 분산분석(One-way ANOVA)\n",
    "      ... https://m.blog.naver.com/leerider/100202443131\n",
    "    \n",
    "      세개이상의 집단간의 평균차이가 통계적으로 유의미한지 비교하고자 할 때 사용\n",
    "      예) 학력수준에 따라 직무만족도의 수준은 차이가 있는가?\n",
    "      \n",
    "   6) 가설검정의 정리\n",
    "      분석대상이 되는 두 변수의 특징에 따라, 다음과 같이 다른 검정기법을 적용\n",
    "      \n",
    "      기법             대상변수A   대상변수B  적용예\n",
    "      ========================================================================\n",
    "      카이제곱검정     이산형      이산형     성별과 구매여부사이에 유의한 관계\n",
    "                                              가 있는가?\n",
    "      \n",
    "      독립표본 t검정   이산형      연속형     체중과 구매여부아시에 유의한 관계\n",
    "                       (2그룹)                가 있는가?(구매자와 비구매자의 평균\n",
    "                                              체중이 크게 다른가?)\n",
    "                                              \n",
    "      대응표본 t검정   이산형      연속형     보충수업후 성적향상이 있는가?\n",
    "                      (2그룹/Pair)\n",
    "\n",
    "\n",
    "      일원배치         이산형      연속형     체중과 고객등급 사이에 유의한 관계\n",
    "      분산분석        (3그룹이상)             가 있는가?(고객등급에 따라 평균체\n",
    "                                              중이 크게 다른가?"
   ]
  },
  {
   "cell_type": "markdown",
   "metadata": {},
   "source": [
    "### 실습\n",
    "#### 1.카이제곱검정"
   ]
  },
  {
   "cell_type": "code",
   "execution_count": 1,
   "metadata": {},
   "outputs": [],
   "source": [
    "import pandas as pd\n",
    "import numpy as np\n",
    "from scipy import stats # 과학기술 통계분석함수 모음\n",
    "#  !pip show scipy"
   ]
  },
  {
   "cell_type": "code",
   "execution_count": 2,
   "metadata": {},
   "outputs": [
    {
     "name": "stdout",
     "output_type": "stream",
     "text": [
      "<class 'scipy.stats.stats.Power_divergenceResult'>\n",
      "Power_divergenceResult(statistic=14.200000000000001, pvalue=0.014387678176921308)\n"
     ]
    }
   ],
   "source": [
    "data1 = [4,6,17,16,8,9]      # 관측치\n",
    "data2 = [10,10,10,10,10,10]  # 기대치\n",
    "data3 = [4,6,17,16,8,5]\n",
    "# data1과 data2사이에 유의한 관계가 있는가?\n",
    "\n",
    "\n",
    "# 귀무가설 : data1과 data2가 차이가 없다.\n",
    "# ... 귀무가설(H0) 또는 영가설은 통계학에서 처음부터 버릴 것을 예상하는 가설이다.\n",
    "# ... 차이가 없거나 의미있는 차이가 없는 경우의 가설이며 이것이 맞거나 맞지않다는\n",
    "#     통계학적 증거를 통해 증명하려는 가설이다.\n",
    "#     예를 들어 범죄사건에서 용의자가 있을 때 형사는 이 용의자가 범죄를 저질렀다는\n",
    "#     추정인 대립가설을 세우게 된다. 이때 귀모가설은 용의자가 무죄라는 가설이다.\n",
    "#     통계적인 방법으로 가설검정을 시도할 때 사용된다.\n",
    "\n",
    "# 대립가설 : data1과 data2가 차이가 있다.\n",
    "# ... 가설검정이론에서 대립가설(기호 H1) 또는 연구가설, 유지가설이라고도 한다.\n",
    "# ... 귀무가설에 대립하는 명제\n",
    "\n",
    "# 검정통계량과 p-value\n",
    "chis = stats.chisquare(data1, data2)\n",
    "print(type(chis))\n",
    "print(chis)\n",
    "\n",
    "# 결과분석 \n",
    "# pvalue가 0.05보다 작으므로 95% 신뢰하에서 유의미한 관계가 있다.\n",
    "# 귀무가설을 기각, 대립가설을 채택 즉, 두 데이터간의 상관관계는 \"차이가 있다.\"\"\n",
    "# staticstic = 검정통계량\n",
    "# pvalue = 피어슨값(상관계수) - > 중요한 값"
   ]
  },
  {
   "cell_type": "markdown",
   "metadata": {},
   "source": [
    "#### 2. 단일표본 t 검정"
   ]
  },
  {
   "cell_type": "code",
   "execution_count": 3,
   "metadata": {},
   "outputs": [],
   "source": [
    "# 전체학생들중 20명의 학생들을 선택하여 전체학생들의 평균키가 175cm인지 여부를 검정\n",
    "# 귀무가설 : 학생들의 평균키가 175이다.\n",
    "# 대립가설 : 학생들의 평균키가 175가 아니다."
   ]
  },
  {
   "cell_type": "code",
   "execution_count": 4,
   "metadata": {},
   "outputs": [
    {
     "ename": "NameError",
     "evalue": "name 'height' is not defined",
     "output_type": "error",
     "traceback": [
      "\u001b[1;31m---------------------------------------------------------------------------\u001b[0m",
      "\u001b[1;31mNameError\u001b[0m                                 Traceback (most recent call last)",
      "\u001b[1;32m<ipython-input-4-d8eedb6cd195>\u001b[0m in \u001b[0;36m<module>\u001b[1;34m\u001b[0m\n\u001b[0;32m      4\u001b[0m \u001b[1;31m# np.random.normal(0,5) : 평균이 0, 표준편차가 5인 난수를 발생\u001b[0m\u001b[1;33m\u001b[0m\u001b[1;33m\u001b[0m\u001b[1;33m\u001b[0m\u001b[0m\n\u001b[0;32m      5\u001b[0m \u001b[0mheights\u001b[0m \u001b[1;33m=\u001b[0m \u001b[1;33m[\u001b[0m\u001b[1;36m180\u001b[0m \u001b[1;33m+\u001b[0m\u001b[0mnp\u001b[0m\u001b[1;33m.\u001b[0m\u001b[0mrandom\u001b[0m\u001b[1;33m.\u001b[0m\u001b[0mnormal\u001b[0m\u001b[1;33m(\u001b[0m\u001b[1;36m0\u001b[0m\u001b[1;33m,\u001b[0m\u001b[1;36m5\u001b[0m\u001b[1;33m)\u001b[0m \u001b[1;32mfor\u001b[0m \u001b[0mi\u001b[0m \u001b[1;32min\u001b[0m \u001b[0mrange\u001b[0m\u001b[1;33m(\u001b[0m\u001b[1;36m20\u001b[0m\u001b[1;33m)\u001b[0m\u001b[1;33m]\u001b[0m\u001b[1;33m\u001b[0m\u001b[1;33m\u001b[0m\u001b[0m\n\u001b[1;32m----> 6\u001b[1;33m \u001b[0mprint\u001b[0m\u001b[1;33m(\u001b[0m\u001b[0mheight\u001b[0m\u001b[1;33m)\u001b[0m\u001b[1;33m\u001b[0m\u001b[1;33m\u001b[0m\u001b[0m\n\u001b[0m\u001b[0;32m      7\u001b[0m \u001b[1;33m\u001b[0m\u001b[0m\n\u001b[0;32m      8\u001b[0m \u001b[0mresult\u001b[0m \u001b[1;33m=\u001b[0m \u001b[0mstats\u001b[0m\u001b[1;33m.\u001b[0m\u001b[0mttest_1samp\u001b[0m\u001b[1;33m(\u001b[0m\u001b[0mheights\u001b[0m\u001b[1;33m,\u001b[0m\u001b[1;36m175\u001b[0m\u001b[1;33m)\u001b[0m \u001b[1;31m# 단일표본 t검정\u001b[0m\u001b[1;33m\u001b[0m\u001b[1;33m\u001b[0m\u001b[0m\n",
      "\u001b[1;31mNameError\u001b[0m: name 'height' is not defined"
     ]
    }
   ],
   "source": [
    "# 랜덤시드설정(동일한 난수가 생성) 즉, 랜덤값을 고정\n",
    "np.random.seed(1)\n",
    "\n",
    "# np.random.normal(0,5) : 평균이 0, 표준편차가 5인 난수를 발생\n",
    "heights = [180 +np.random.normal(0,5) for i in range(20)]\n",
    "print(height)\n",
    "\n",
    "result = stats.ttest_1samp(heights,175) # 단일표본 t검정\n",
    "print(result)\n",
    "print('검정통계량: %.3f, p-value : %.3f'% result)\n",
    "\n",
    "# 결과분석\n",
    "# pvalue가 0.01보다 작으므로 99%신뢰수준하에서 학생들의 평균키는 통계적으로 \n",
    "# 유의하게 차이가 난다고 할 수 있다.\n",
    "# 따라서 귀무가설을 기각하고 대립가설을 채택한다.\n",
    "# 즉, 학생들의 평균키는 175가 아니다."
   ]
  },
  {
   "cell_type": "markdown",
   "metadata": {},
   "source": [
    "#### 3. 독립표본 t검정"
   ]
  },
  {
   "cell_type": "code",
   "execution_count": 5,
   "metadata": {},
   "outputs": [
    {
     "name": "stdout",
     "output_type": "stream",
     "text": [
      "검정통계량: -2.329, p-value : 0.025\n",
      "검정통계량: -2.329, p-value : 0.026\n",
      "169.33317681769637\n",
      "174.54168687322976\n"
     ]
    }
   ],
   "source": [
    "# 그룹1과 그룹2 에서 각각 20명의 학생들을 선택하여 평균키가 같은 지 다른지를 검정\n",
    "# 귀무가설 : 학생들의 평균키가 같다.\n",
    "# 대립가설 : 학생들의 평균키는 다르다.\n",
    "np.random.seed(1)\n",
    "# 그룹1 : 평균키가 170 표준편차 5\n",
    "group1 =[170+np.random.normal(0,5) for i in range(20)]\n",
    "# 그룹2 : 평균키가 175 표준편차 10\n",
    "group2 = [175+np.random.normal(0,10) for i in range(20)]\n",
    "\n",
    "# 등분산을 가정할 경우(기본값)\n",
    "result1 = stats.ttest_ind(group1,group2) # 독립검정 t 검증\n",
    "print('검정통계량: %.3f, p-value : %.3f'% result1)\n",
    "\n",
    "\n",
    "# 등분산을 가정하지 않을 경우\n",
    "result2 = stats.ttest_ind(group1,group2,equal_var=False)\n",
    "\n",
    "print('검정통계량: %.3f, p-value : %.3f'% result2)\n",
    "\n",
    "# 결과 분석\n",
    "# p-value<0.05 : 95% 신뢰수준 하에서 유의\n",
    "# p-value<0.01 : 99% 신뢰수준 하에서 유의\n",
    "# p-value가 0.05보다 작으므로 95% 신뢰수준하에서유의하지만 99% 신뢰하에서는 무의하다.\n",
    "# 두 그룹 학새들의 평균키는 통계적으로 유의하게 차이가 난다.\n",
    "# 따라서 귀무가설을 기각ㄱ하고 대립가설을 채택한다.\n",
    "# 즉 group1과 gourp2의 학생들의 평균키가 같이 않다.\n",
    "print(np.mean(group1))\n",
    "print(np.mean(group2))"
   ]
  },
  {
   "cell_type": "markdown",
   "metadata": {},
   "source": [
    "#### 4. 대응표본 t검정\n",
    "> 독립표본 t검정은 두개의 검정대상이 별개의 그룹이었다면 대응표본 t검정은 동일그룹이다."
   ]
  },
  {
   "cell_type": "code",
   "execution_count": 6,
   "metadata": {},
   "outputs": [
    {
     "name": "stdout",
     "output_type": "stream",
     "text": [
      "검정통계량: 26.156, p-value : 0.000\n"
     ]
    }
   ],
   "source": [
    "# 다이어트약을 복용한 사람들 중에서 20을 채택하여 복용전후의 체중차이가 유의미한지 검정\n",
    "# 귀무가설 : 다이어트약을 복용한 전후에 체중의 차이가 없다.\n",
    "# 대립가설 : 다이어트약을 복용한 전후에 체중의 차이가 있다.\n",
    "\n",
    "np.random.seed(1)\n",
    "# 복용전 평균 60KG, 표준편차 5\n",
    "before = [60+np.random.normal(0,5) for _ in range(20)] \n",
    "# 복용후 평균 = 복용전체중X0.99, 표준편차 0.02\n",
    "after= [w+np.random.normal(0.99,0.02) for w in range(20)] \n",
    "# print(before)\n",
    "# print(after)\n",
    "\n",
    "# 대응표본 t검정\n",
    "result = stats.ttest_rel(before,after)\n",
    "print('검정통계량: %.3f, p-value : %.3f'% result)\n",
    "\n",
    "# 결과분석\n",
    "# p-value가 0.05보다 작으므로 95 % 신뢰수준하에서는 유의하다.\n",
    "# 다이어트약 복용전후의 체중은 통계적으로 유의하게 차이가 난다고 할 수 있다.\n",
    "# 다라서 귀무가살을 기각하고 대립가설을 채택한다.\n",
    "# 즉 , 다이어트 약 복용전후의 체중차이가 있다."
   ]
  },
  {
   "cell_type": "markdown",
   "metadata": {},
   "source": [
    "#### 5. 아노바분석(분산분석 Analysis of Variance) -3그룹 이상\n",
    "\n",
    "어떤 회사의 김부장은 4개의 각기 다른 신입사원 교육훈련 기법의 효과성을 평가하고자 한다.\n",
    "새로 입사한 32명의 신입사원에게 4가지 기법을 임의로 적용시켜 교육을 실시한 후에 한달간의 \n",
    "훈련기간이 끝난후에 표준시험결과 4개의 교육훈련기법간 차이가 있는지? 만약 있다면 어떻게 다른지를 3개 이상의 대응표본을 비교해야 하므로 `일원배치분산분석기법`을 사용해야 한다."
   ]
  },
  {
   "cell_type": "code",
   "execution_count": 7,
   "metadata": {},
   "outputs": [],
   "source": [
    "%matplotlib inline\n",
    "import matplotlib.pyplot as plt\n",
    "\n",
    "# 1. 한달간 교육결과 - 무의한 샘플데이터\n",
    "a = [66,74,82,75,73,97,87,78]\n",
    "b = [76,73,81,79,72,91,83,79]\n",
    "c = [69,72,81,78,72,91,89,71]\n",
    "d = [61,72,83,74,75,96,87,79]\n",
    "\n"
   ]
  },
  {
   "cell_type": "code",
   "execution_count": 8,
   "metadata": {},
   "outputs": [
    {
     "data": {
      "image/png": "[encoded data removed]",
      "text/plain": [
       "<Figure size 432x288 with 1 Axes>"
      ]
     },
     "metadata": {
      "needs_background": "light"
     },
     "output_type": "display_data"
    },
    {
     "name": "stdout",
     "output_type": "stream",
     "text": [
      "검정통계량: 0.040, p-value : 0.989\n"
     ]
    }
   ],
   "source": [
    "# 귀무가설 : 4개의 교육훈련 기법간의 차이가 없다.\n",
    "# 대립가설 : 4개의 교육훈련 기법간의 차이가 있다.\n",
    "plot_data =[a,b,c,d]\n",
    "ax = plt.boxplot(plot_data)\n",
    "plt.show()\n",
    "F_statistic , pValue = stats.f_oneway(a,b,c,d)\n",
    "print('검정통계량: %.3f, p-value : %.3f'% (F_statistic , pValue))\n"
   ]
  },
  {
   "cell_type": "code",
   "execution_count": 9,
   "metadata": {},
   "outputs": [],
   "source": [
    "\n",
    "# 2. 한달간 교육결과 - 유의한 샘플데이터\n",
    "a = [66,74,82,75,73,97,87,78]\n",
    "b = [72,51,39,62,74,64,78,63]\n",
    "c = [61,60,57,60,81,55,70,71]\n",
    "d = [63,61,76,84,58,65,69,80]"
   ]
  },
  {
   "cell_type": "code",
   "execution_count": 10,
   "metadata": {},
   "outputs": [
    {
     "data": {
      "image/png": "[encoded data removed]",
      "text/plain": [
       "<Figure size 432x288 with 1 Axes>"
      ]
     },
     "metadata": {
      "needs_background": "light"
     },
     "output_type": "display_data"
    }
   ],
   "source": [
    "plot_data =[a,b,c,d]\n",
    "ax = plt.boxplot(plot_data)\n",
    "plt.show()"
   ]
  },
  {
   "cell_type": "code",
   "execution_count": 11,
   "metadata": {},
   "outputs": [
    {
     "name": "stdout",
     "output_type": "stream",
     "text": [
      "검정통계량: 4.005, p-value : 0.017\n"
     ]
    }
   ],
   "source": [
    "# 일원배치 분산분석(아노바분석)\n",
    "# stats.f_oneway?\n",
    "F_statistic , pValue = stats.f_oneway(a,b,c,d)\n",
    "print('검정통계량: %.3f, p-value : %.3f'% (F_statistic , pValue))\n"
   ]
  },
  {
   "cell_type": "markdown",
   "metadata": {},
   "source": [
    "#### 머신러닝에 사용될 package\n",
    "\n",
    "##### 1. statsmodels \n",
    "\n",
    "statsmodels 패키지는 아래와 같은 기능을 제공하는 패키지이다.\n",
    "\n",
    ">* 검정 및 추정(test and estimation)\n",
    "* 회귀분석(regression analysis)\n",
    "* 시계열분석(time-series analysis)\n",
    "\n",
    "특히 회귀분석의 경우 R-style모형기술을 가능하게 하는 pasty패키지를 포함하고 있어 기존에\n",
    "R에서만 사용 가능했던 회귀분석과 시계열 분석방법론을 그대로 파이선에서 이용할 수 있게 되었다.\n",
    "\n",
    "statsmodels 패키지를 사용할 때는 아래와 같이 `api`서브 패키지를 import해서 사용한다.\n",
    ">import statsmodels.api as am\n",
    "\n",
    "###### statsmodels 에서 데이터셋\n",
    "statsmodels패키지의 개발 목표중 하나는 기존에 R을 사용하여 통계분석 및 시계열분석을 하던 사용자가\n",
    "파이썬에서도 동일한 분석을 할 수 있도록 하는 것이다. 따라서 R에서 제공하던 명령어 뿐만 아니라 \n",
    "데이터셋도 동일하게 제공하기 위해 `Rdatasets`이라는 프로젝트를 통해서 R 에서 사용하던 1000개 이상의 표준 데이터셋을 사용할 수 있도록 지원한다. 자세한 사항은 홈페이지 \n",
    "https://github.com/vincentarelbundock/Rdatasets 에서 확인할 수 있다.\n",
    "\n",
    "http://vincentarelbundock.github.io/Rdatasets/datasets.html 목록에 잇는 데이터를 가져오려면 우선 \n",
    "\"Package\"이름과 \"item\"을 알아낸 다음에 `get_rdataset()`함수를 이용하여 데이터셋을 로드할 수 있다.\n",
    "\n",
    "##### get_rdataset 함수\n",
    "statsmodels의 datasets 서브패키지에 있는 `get_rdataset()`함수를 사용하면 표준 데이터셋을 가져올 수 있다.\n",
    "이 함수의 사용법은 `get_rdataset(item,[package=\"datasets\"])`와 같이 사용하고 패키지 이름이 `datasets`\n",
    "일 경우 생략할 수 있다.\n",
    "이 함수를 사용하려면 인터넷에서 데이터를 다운로드받기 때문에 인터넷에 연결되어 있어야 한다.\n",
    "이렇게 받은 데이터는 아래와 같은 속성을 가지고 있다.\n",
    ">* package : 데이터를 제공하는 R패키지 이름\n",
    "* title : 데이터의 이름\n",
    "* data : 데이터를 담고 있는 데이터프레임\n",
    "\n",
    "`__doc__`은 데이터에 대한 설명 문자열로서 이 설명은 R패키지의 내용을 그대로 가져온 것이므로 \n",
    "예제코드가 R로 되어 있어서 파이썬에서는 사용할 수 없다.\n",
    "\n",
    "###### Available Datasets\n",
    "* http://www.statsmodels.org/devel/datasets/index.html#using-datasets-from-stata"
   ]
  },
  {
   "cell_type": "markdown",
   "metadata": {},
   "source": [
    "###### 데이터셋의 예"
   ]
  },
  {
   "cell_type": "code",
   "execution_count": 12,
   "metadata": {},
   "outputs": [
    {
     "data": {
      "text/plain": [
       "<class 'statsmodels.datasets.utils.Dataset'>"
      ]
     },
     "metadata": {},
     "output_type": "display_data"
    },
    {
     "data": {
      "text/plain": [
       "pandas.core.frame.DataFrame"
      ]
     },
     "metadata": {},
     "output_type": "display_data"
    },
    {
     "data": {
      "text/html": [
       "<div>\n",
       "<style scoped>\n",
       "    .dataframe tbody tr th:only-of-type {\n",
       "        vertical-align: middle;\n",
       "    }\n",
       "\n",
       "    .dataframe tbody tr th {\n",
       "        vertical-align: top;\n",
       "    }\n",
       "\n",
       "    .dataframe thead th {\n",
       "        text-align: right;\n",
       "    }\n",
       "</style>\n",
       "<table border=\"1\" class=\"dataframe\">\n",
       "  <thead>\n",
       "    <tr style=\"text-align: right;\">\n",
       "      <th></th>\n",
       "      <th>g</th>\n",
       "      <th>series</th>\n",
       "    </tr>\n",
       "  </thead>\n",
       "  <tbody>\n",
       "    <tr>\n",
       "      <th>76</th>\n",
       "      <td>83</td>\n",
       "      <td>8</td>\n",
       "    </tr>\n",
       "    <tr>\n",
       "      <th>77</th>\n",
       "      <td>81</td>\n",
       "      <td>8</td>\n",
       "    </tr>\n",
       "    <tr>\n",
       "      <th>78</th>\n",
       "      <td>78</td>\n",
       "      <td>8</td>\n",
       "    </tr>\n",
       "    <tr>\n",
       "      <th>79</th>\n",
       "      <td>78</td>\n",
       "      <td>8</td>\n",
       "    </tr>\n",
       "    <tr>\n",
       "      <th>80</th>\n",
       "      <td>78</td>\n",
       "      <td>8</td>\n",
       "    </tr>\n",
       "  </tbody>\n",
       "</table>\n",
       "</div>"
      ],
      "text/plain": [
       "     g  series\n",
       "76  83       8\n",
       "77  81       8\n",
       "78  78       8\n",
       "79  78       8\n",
       "80  78       8"
      ]
     },
     "execution_count": 12,
     "metadata": {},
     "output_type": "execute_result"
    }
   ],
   "source": [
    "# 1. 타이타닉 탑승객\n",
    "# !pip show statsmodels\n",
    "import statsmodels.api as sm\n",
    "data =sm.datasets.get_rdataset(\"gravity\",package=\"boot\")\n",
    "display(data)\n",
    "df= data.data\n",
    "display(type(df))\n",
    "df.tail()\n",
    "# print(data.__doc__)"
   ]
  },
  {
   "cell_type": "code",
   "execution_count": 13,
   "metadata": {},
   "outputs": [
    {
     "name": "stdout",
     "output_type": "stream",
     "text": [
      "+--------+-----------------+\n",
      "| precip | R Documentation |\n",
      "+--------+-----------------+\n",
      "\n",
      "Annual Precipitation in US Cities\n",
      "---------------------------------\n",
      "\n",
      "Description\n",
      "~~~~~~~~~~~\n",
      "\n",
      "The average amount of precipitation (rainfall) in inches for each of 70\n",
      "United States (and Puerto Rico) cities.\n",
      "\n",
      "Usage\n",
      "~~~~~\n",
      "\n",
      "::\n",
      "\n",
      "   precip\n",
      "\n",
      "Format\n",
      "~~~~~~\n",
      "\n",
      "A named vector of length 70.\n",
      "\n",
      "Note\n",
      "~~~~\n",
      "\n",
      "The dataset version up to Nov.16, 2016 had a typo in ``\"Cincinnati\"``'s\n",
      "name. The examples show how to recreate that version.\n",
      "\n",
      "Source\n",
      "~~~~~~\n",
      "\n",
      "Statistical Abstracts of the United States, 1975.\n",
      "\n",
      "References\n",
      "~~~~~~~~~~\n",
      "\n",
      "McNeil, D. R. (1977) *Interactive Data Analysis*. New York: Wiley.\n",
      "\n",
      "Examples\n",
      "~~~~~~~~\n",
      "\n",
      "::\n",
      "\n",
      "   require(graphics)\n",
      "   dotchart(precip[order(precip)], main = \"precip data\")\n",
      "   title(sub = \"Average annual precipitation (in.)\")\n",
      "\n",
      "   ## Old (\"wrong\") version of dataset (just name change):\n",
      "   precip.O <- local({\n",
      "      p <- precip; names(p)[names(p) == \"Cincinnati\"] <- \"Cincinati\" ; p })\n",
      "   stopifnot(all(precip == precip.O),\n",
      "         match(\"Cincinnati\", names(precip)) == 46,\n",
      "         identical(names(precip)[-46], names(precip.O)[-46]))\n",
      "\n"
     ]
    },
    {
     "data": {
      "text/html": [
       "<div>\n",
       "<style scoped>\n",
       "    .dataframe tbody tr th:only-of-type {\n",
       "        vertical-align: middle;\n",
       "    }\n",
       "\n",
       "    .dataframe tbody tr th {\n",
       "        vertical-align: top;\n",
       "    }\n",
       "\n",
       "    .dataframe thead th {\n",
       "        text-align: right;\n",
       "    }\n",
       "</style>\n",
       "<table border=\"1\" class=\"dataframe\">\n",
       "  <thead>\n",
       "    <tr style=\"text-align: right;\">\n",
       "      <th></th>\n",
       "      <th>dat</th>\n",
       "    </tr>\n",
       "  </thead>\n",
       "  <tbody>\n",
       "    <tr>\n",
       "      <th>0</th>\n",
       "      <td>67.0</td>\n",
       "    </tr>\n",
       "    <tr>\n",
       "      <th>1</th>\n",
       "      <td>54.7</td>\n",
       "    </tr>\n",
       "    <tr>\n",
       "      <th>2</th>\n",
       "      <td>7.0</td>\n",
       "    </tr>\n",
       "    <tr>\n",
       "      <th>3</th>\n",
       "      <td>48.5</td>\n",
       "    </tr>\n",
       "    <tr>\n",
       "      <th>4</th>\n",
       "      <td>14.0</td>\n",
       "    </tr>\n",
       "    <tr>\n",
       "      <th>...</th>\n",
       "      <td>...</td>\n",
       "    </tr>\n",
       "    <tr>\n",
       "      <th>65</th>\n",
       "      <td>17.4</td>\n",
       "    </tr>\n",
       "    <tr>\n",
       "      <th>66</th>\n",
       "      <td>40.8</td>\n",
       "    </tr>\n",
       "    <tr>\n",
       "      <th>67</th>\n",
       "      <td>29.1</td>\n",
       "    </tr>\n",
       "    <tr>\n",
       "      <th>68</th>\n",
       "      <td>14.6</td>\n",
       "    </tr>\n",
       "    <tr>\n",
       "      <th>69</th>\n",
       "      <td>59.2</td>\n",
       "    </tr>\n",
       "  </tbody>\n",
       "</table>\n",
       "<p>70 rows × 1 columns</p>\n",
       "</div>"
      ],
      "text/plain": [
       "     dat\n",
       "0   67.0\n",
       "1   54.7\n",
       "2    7.0\n",
       "3   48.5\n",
       "4   14.0\n",
       "..   ...\n",
       "65  17.4\n",
       "66  40.8\n",
       "67  29.1\n",
       "68  14.6\n",
       "69  59.2\n",
       "\n",
       "[70 rows x 1 columns]"
      ]
     },
     "metadata": {},
     "output_type": "display_data"
    }
   ],
   "source": [
    "# 2. 미국 강수량 : datasets 패키지의 precip데이터는 미국의 강수량 데이터이다.\n",
    "data =sm.datasets.get_rdataset(\"precip\")\n",
    "print(data.__doc__)\n",
    "df = data.data\n",
    "display(df)"
   ]
  },
  {
   "cell_type": "code",
   "execution_count": 14,
   "metadata": {},
   "outputs": [
    {
     "data": {
      "image/png": "[encoded data removed]",
      "text/plain": [
       "<Figure size 432x288 with 1 Axes>"
      ]
     },
     "metadata": {
      "needs_background": "light"
     },
     "output_type": "display_data"
    }
   ],
   "source": [
    "df.plot()\n",
    "plt.title(data.title)\n",
    "plt.show()"
   ]
  },
  {
   "cell_type": "code",
   "execution_count": null,
   "metadata": {},
   "outputs": [],
   "source": [
    "# 3. 황체형성 호로몬 수치 시계열\n",
    "# datasets패키지의 lh데이터는 황체형성호로몬(Luteinizing Hormone)의 수치를 나타내는 \n",
    "# 시계열 데이터이다.\n",
    "# 시계열분석이란? 어떤 특정한 대상의 시간적 변동을 계속 관측하여 얻어진 자료에 의거\n",
    "# 그 변동의 원인 해명 및 미래 예측을 하기 위해 행하는 분석법이다.\n",
    "data= sm.datasets.get_rdataset('lh')\n",
    "df = data.data\n",
    "display(df.head())"
   ]
  },
  {
   "cell_type": "code",
   "execution_count": null,
   "metadata": {
    "scrolled": true
   },
   "outputs": [],
   "source": [
    "df.plot(x=\"time\", y=\"value\")\n",
    "plt.title(data.title)\n",
    "plt.show()"
   ]
  },
  {
   "cell_type": "code",
   "execution_count": null,
   "metadata": {},
   "outputs": [],
   "source": [
    "# 4. 영국 호흡기 질환 사망자 수(영국)\n",
    "# MASS패키지의 death데이터는 1974~1979년 사이의 호흡ㄱ ㅣ질환 사망자 수를 나타내는 시계열 데이터이다.\n",
    "data = sm.datasets.get_rdataset(\"deaths\",\"MASS\")\n",
    "df = data.data\n",
    "df.head()"
   ]
  },
  {
   "cell_type": "code",
   "execution_count": null,
   "metadata": {},
   "outputs": [],
   "source": [
    "# 이 시계열데이터에서는 시간이 1년을 1.0으로 1개월을 1/12로 하는 값(year-fraction)으로 \n",
    "# 인코딩되어 있다. 이 값을 파이썬의 datetime포멧으로 바꾸기 위해 아래와 같은 함수를\n",
    "# 적용해야한다.\n",
    "def yearfraction2datetime(yearfraction,startyear=0):\n",
    "    import datetime\n",
    "    import dateutil\n",
    "    year = int(yearfraction)+startyear\n",
    "    month = int(round(12*(yearfraction-year)))\n",
    "    delta = dateutil.relativedelta.relativedelta(months=month)\n",
    "    date =datetime.datetime(year,1,1)+delta\n",
    "    return date\n",
    "display(df.tail())\n",
    "df[\"datetime\"]=df.time.map(yearfraction2datetime)\n",
    "df.tail()"
   ]
  },
  {
   "cell_type": "code",
   "execution_count": null,
   "metadata": {},
   "outputs": [],
   "source": [
    "df.plot(x=\"datetime\",y=\"value\")\n",
    "plt.title(data.title)\n",
    "plt.show()\n",
    "\n",
    "# 결과분석\n",
    "# 이데이터는 계절에 따른 패턴 즉, 계절성(seasonality)를 보이는 시계열데이터이다."
   ]
  },
  {
   "cell_type": "code",
   "execution_count": null,
   "metadata": {},
   "outputs": [],
   "source": [
    "# 5. 항공운송인원\n",
    "# datasets패키지의 AirPassengers데이터는 1949~1960년 사이의 국제 항공운송인원을 나타내는 시계열데이터\n",
    "data= sm.datasets. get_rdataset(\"AirPassengers\")\n",
    "df=data.data\n",
    "display(df.head())\n",
    "print(data.__doc__)"
   ]
  },
  {
   "cell_type": "code",
   "execution_count": null,
   "metadata": {},
   "outputs": [],
   "source": [
    "df[\"datetime\"]=df.time.map(yearfraction2datetime)\n",
    "df.head()"
   ]
  },
  {
   "cell_type": "code",
   "execution_count": null,
   "metadata": {},
   "outputs": [],
   "source": [
    "df.plot(x=\"datetime\",y=\"value\")\n",
    "plt.title(data.title)\n",
    "plt.show()\n",
    "# 결과분석\n",
    "# 계절성과 증가추세(trend)를 동시에 보이고 있다."
   ]
  },
  {
   "cell_type": "markdown",
   "metadata": {},
   "source": [
    "##### 2. scikit-learn\n",
    "\n",
    "scikit-learn 패키지는 머신러닝교육을 위한 파이썬 패키지로 아래와 같은 내용을 포함한다.\n",
    "\n",
    ">* 벤치마크용 데이터 셋 예제\n",
    "* 데이터전처리(preprocessing)\n",
    "* 지도학습(Supervised Learning)\n",
    "* 비지도학습(Unsupervisied Learning)\n",
    "* 모델의 평가 및 선택(Evaluation and Selection)\n",
    "\n",
    "`scikit-learn` 패키지의 장점은 다양한 머신러닝의 모형 즉,알고리즘을 하나의 패키지에서 모두 \n",
    "제공하고 있다는 점이다. 아래는 scikit-learn에서 제공하는 머신러닝 모형의 목록이다. 이 목록은\n",
    "대표적인 것만 나열한 것이고 지속적으로 모델들이 추가되고 있다.\n",
    "scikit-learn패키지의 import 이름은 `sklearn`이다.\n",
    "\n",
    "######  scikit-learn에서 제공하는 데이터셋\n",
    "`sklearn.datasets`서브패키지는 다양한 예제 데이터셋을 제공한다. 데이터를 불러오는 명령들은\n",
    "크래 아래와 같이 세가지 계열의 명령으로 나눌 수 있다.\n",
    "\n",
    ">* load 계열명령 : scikit-learn 설치 패키지에 같이 포함된 소량의 데이터\n",
    "* fetch계열명령 : 인터넷에서 다운로드할 수 잇는 대량의 데이터\n",
    "* make 계열명령 : 확률분포를 사용하여 생성되는 가상의 데이터\n",
    "\n",
    "###### 1) load계열명령\n",
    "\n",
    "load 계열의 데이터는 설치된 패키지에 처음부터 내장되어 있어서 별도로 다운로드 받지 않아도 바로 사용할 수\n",
    "있는 데이터를 제공한다.\n",
    "\n",
    "* load_boston : 회귀분석용 보스턴 집값 자료\n",
    "* load_diabetes : 회귀 분석용 당뇨병 자료\n",
    "* load_linnerud : 회귀분석용 linnerud자료 -> 휘트니스클럽에서 20대 중반의 3개 physillogical, 3개의 exercise variables\n",
    "* load_iris : 분류용 붓꽃(iris)자료\n",
    "* load_digits : 분류용 숫자(digit) 필기이미지자료\n",
    "* load_wine : 분류용 포도주 등급 자료\n",
    "* load_breast_cancer : 분류용 유방암 진단 자료\n",
    "\n",
    "###### 2) fetch계열명령\n",
    "\n",
    "fetch 계열의 명령들은 데이터의 크기가 커서 패키지에 처음부터 저장되어 있지 않고 인터넷에서 다운로드 받아 홈 디렉토리 아래의 scikit_learn_data 라는 서브 디렉토리에 저장한 후 추후 불러들이는 데이터들이다. 따라서 최초 사용시에 인터넷에 연결되어 있지 않으면 사용할 수 없다.\n",
    "\n",
    "* fetch_california_housing: : 회귀분석용 캘리포니아 집값 자료\n",
    "* fetch_covtype : 회귀분석용 토지 조사 자료\n",
    "* fetch_20newsgroups : 뉴스 그룹 텍스트 자료\n",
    "* fetch_olivetti_faces : 얼굴 이미지 자료\n",
    "* fetch_lfw_people : 유명인 얼굴 이미지 자료\n",
    "* fetch_lfw_pairs : 유명인 얼굴 이미지 자료\n",
    "* fetch_rcv1 : 로이터 뉴스 말뭉치\n",
    "* fetch_kddcup99 : Kddcup 99 Tcp dump 자료\n",
    "\n",
    "###### 3) make계열명령\n",
    "\n",
    "경우에 따라서는 모형을 시험하기 위해 원하는 특성을 가진 가상의 데이터가 필요할 수 있다. make 계열 명령은 이러한 가상 데이터를 생성하는 역할을 한다.\n",
    "\n",
    "* make_regression: 회귀 분석용 가상 데이터 생성\n",
    "* make_classification: 분류용 가상 데이터 생성\n",
    "* make_blobs: 클러스터링용 가상 데이터 생성\n",
    "\n",
    "이 이외에도 다양한 가상 데이터 생성명령이 있다.\n",
    "\n",
    "###### 4) 데이터형식\n",
    "\n",
    ">* data: (필수) 독립변수 nparray배열\n",
    "* target: (필수) 종속변수 nparay배열\n",
    "* feature_names : (옵션) 독립변수이름의 리스트\n",
    "* target_names : (옵션) 종속변수이름의 리스트\n",
    "* DESCRL : (옵션) 자료에 대한설명"
   ]
  },
  {
   "cell_type": "code",
   "execution_count": null,
   "metadata": {},
   "outputs": [],
   "source": [
    "# !pip show scikit-learn"
   ]
  },
  {
   "cell_type": "code",
   "execution_count": 15,
   "metadata": {},
   "outputs": [],
   "source": [
    "from sklearn.datasets import load_digits\n",
    "import seaborn as sns"
   ]
  },
  {
   "cell_type": "code",
   "execution_count": 16,
   "metadata": {},
   "outputs": [
    {
     "data": {
      "image/png": "[encoded data removed]",
      "text/plain": [
       "<Figure size 432x288 with 2 Axes>"
      ]
     },
     "metadata": {
      "needs_background": "light"
     },
     "output_type": "display_data"
    }
   ],
   "source": [
    "digits =load_digits()\n",
    "sns.heatmap(digits.images[0], annot=True,fmt=\"2.0f\",\n",
    "           cbar=True,xticklabels=False, yticklabels=False,cmap=\"YlGnBu\")\n",
    "plt.title(\"MNIST digit Image Sample\")\n",
    "plt.show()\n",
    "\n",
    "# MNIST이미지는 8x8 행렬에 명도를 나타내는 숫자로 저장된다.\n",
    "# 0 은 흰색을 의미, 15가 가장 진한색을 의미한다."
   ]
  },
  {
   "cell_type": "code",
   "execution_count": 17,
   "metadata": {},
   "outputs": [
    {
     "data": {
      "text/plain": [
       "array([ 0.,  0.,  5., 13.,  9.,  1.,  0.,  0.,  0.,  0., 13., 15., 10.,\n",
       "       15.,  5.,  0.,  0.,  3., 15.,  2.,  0., 11.,  8.,  0.,  0.,  4.,\n",
       "       12.,  0.,  0.,  8.,  8.,  0.,  0.,  5.,  8.,  0.,  0.,  9.,  8.,\n",
       "        0.,  0.,  4., 11.,  0.,  1., 12.,  7.,  0.,  0.,  2., 14.,  5.,\n",
       "       10., 12.,  0.,  0.,  0.,  0.,  6., 13., 10.,  0.,  0.,  0.])"
      ]
     },
     "execution_count": 17,
     "metadata": {},
     "output_type": "execute_result"
    }
   ],
   "source": [
    "# 이 이미지를 데이터를 64길이의 숫자벡터로 변화하여 예측모형에 입력된다.\n",
    "digits.images[0].flatten()"
   ]
  },
  {
   "cell_type": "code",
   "execution_count": 21,
   "metadata": {},
   "outputs": [],
   "source": [
    "import warnings\n",
    "warnings.filterwarnings('ignore')\n",
    "%matplotlib inline\n",
    "import matplotlib.pyplot as plt\n",
    "plt.rcParams['font.family']='NanumGothicCoding'\n",
    "plt.rcParams['axes.unicode_minus']=False"
   ]
  },
  {
   "cell_type": "code",
   "execution_count": 27,
   "metadata": {},
   "outputs": [
    {
     "data": {
      "image/png": "[encoded data removed]",
      "text/plain": [
       "<Figure size 576x144 with 8 Axes>"
      ]
     },
     "metadata": {},
     "output_type": "display_data"
    }
   ],
   "source": [
    "samples = [0,10,20,30,2,12,22,32]\n",
    "d = []\n",
    "for i in range(8):\n",
    "    d.append(digits.images[samples[i]])\n",
    "plt.figure(figsize=(8,2))\n",
    "for i in range(8):\n",
    "    plt.subplot(1,8,i+1)\n",
    "    plt.imshow(d[i],interpolation=\"nearest\",cmap=plt.cm.bone_r)\n",
    "    plt.grid(False)\n",
    "    plt.xticks([])\n",
    "    plt.yticks([])\n",
    "    plt.title('image {}'.format(i+1))\n",
    "plt.suptitle(\"숫자 0과 1의 이미지\")\n",
    "plt.tight_layout()\n",
    "plt.show()"
   ]
  },
  {
   "cell_type": "code",
   "execution_count": 34,
   "metadata": {},
   "outputs": [
    {
     "name": "stdout",
     "output_type": "stream",
     "text": [
      "['DESCR', 'data', 'images', 'target', 'target_names']\n"
     ]
    },
    {
     "data": {
      "image/png": "[encoded data removed]",
      "text/plain": [
       "<Figure size 432x288 with 8 Axes>"
      ]
     },
     "metadata": {},
     "output_type": "display_data"
    }
   ],
   "source": [
    "# 해당 이미즈를 64길이의 숫자 벡터데이터로 변환하여 예측모형에 입력자료로 전달\n",
    "print(dir(digits))\n",
    "digits.images[0].flatten()\n",
    "\n",
    "# 벡터화된 이미지 그리기\n",
    "v=[]\n",
    "for i in range(8):\n",
    "    v.append(d[i].reshape(64,1)) # reshape 리스트의 값 8x8을 64비트로 바꿔라\n",
    "for i in range(8):\n",
    "    plt.subplot(1,8,i+1)\n",
    "    plt.imshow(v[i], aspect = 0.4 ,interpolation=\"nearest\",cmap=plt.cm.bone_r) # aspect 그림에대한 투명도 \n",
    "    plt.grid(False); plt.xticks([]); plt.yticks([])\n",
    "    plt.title('vector {}'.format(i+1))\n",
    "plt.suptitle(\"백터화된 이미지\" , y=1.05)\n",
    "plt.tight_layout()\n",
    "plt.show()"
   ]
  },
  {
   "cell_type": "code",
   "execution_count": null,
   "metadata": {},
   "outputs": [],
   "source": []
  },
  {
   "cell_type": "markdown",
   "metadata": {},
   "source": [
    "##### 3. scipy\n",
    "\n",
    "###### 과학분석알고리즘 SciPy\n",
    "\n",
    "`SciPy`는 파이썬을 기반으로 하여 과학, 분석,그리고 엔지니어링을 위한 과학(계산)적 컴퓨팅영역의 여러 기본적인 작업을 위한 라이브러리(패키지모음)이다. `SciPy`는 기본적으로 Numpy, Pandas,Matplotlib,Sympy등과 함께 동작을 한다. SciPy는 수치적분루틴과 미분방적식 해석기, 방적식의 근을 구하는 알고리즘, 표준 연산/이산 확률분포와 다양한 통계관련 도구등을 제공한다. Numpy와 SciPy를 함께 사용하면 확장에드온을 포함한 `MATLAB(공학용S/W)`를 완전하게 대체한다.\n",
    "\n",
    "* homepage : http://www.scipy.org\n",
    "* 설치 : pip install scipy\n",
    "###### scipy 기능\n",
    ">* scipy.intergrate : ㅅ치적분루틴과 미분방정식 해석기\n",
    "* scipy.linalg: numpy.linalg에서 제공하는 것보다 더 확장된 선형대수루틴과 매트릭스 분해\n",
    "* scipy.optimize: 함수 최적화와 방정식의 근을 구하는 알고리즘\n",
    "* scipy.signal: 시그널 프로세싱 도구 \n",
    "* scipy.sparse : 희소행렬과 희소 선형 시스템에 대한 풀이법\n",
    "* scipy.special: 감마함수처럼 흔히 사용되는 수학함수를 구현한 Fortran(포트란) 라이브러리인 SPECFUN 확장\n",
    "* scipy.stats : 표준 연속/이산확률분포(집적도함수, 샘플러, 연속분포함수)와 다양한 통계테스트, 그리고 좀 더 기술적인 통계 도구\n",
    "* scipy.weave : 배열계산을 빠르게 하기 위한 인라인 C++코드를 사용하는 도구\n",
    "\n",
    "###### scipy를 사용한 기초적인 검증 \n",
    "\n",
    "Scipy파이썬 패키지는 아래와 같이 다양한 검증명령들을 제공한다.\n",
    "\n",
    ">* 이항검정Binimial Test)\n",
    "* 카이제곱검정(hi-Square Test)\n",
    "* 단일표본 z- 검정(One-sample z-Test)\n",
    "* 단일표본 t-검정(One-sample t-Test)\n",
    "* 독립표본 t-검정(independent-two-sample t-Test)\n",
    "* 대응표본 t-검정(Paired-Two-sample -tTest)\n",
    "* 분산검정(Chi squared variance test)\n",
    "* 등분산검정(Equal-variance test)\n",
    "* 정규성검정(Nomality test)"
   ]
  },
  {
   "cell_type": "code",
   "execution_count": null,
   "metadata": {},
   "outputs": [],
   "source": []
  },
  {
   "cell_type": "code",
   "execution_count": null,
   "metadata": {},
   "outputs": [],
   "source": []
  }
 ],
 "metadata": {
  "kernelspec": {
   "display_name": "Python 3",
   "language": "python",
   "name": "python3"
  },
  "language_info": {
   "codemirror_mode": {
    "name": "ipython",
    "version": 3
   },
   "file_extension": ".py",
   "mimetype": "text/x-python",
   "name": "python",
   "nbconvert_exporter": "python",
   "pygments_lexer": "ipython3",
   "version": "3.7.6"
  }
 },
 "nbformat": 4,
 "nbformat_minor": 4
}
