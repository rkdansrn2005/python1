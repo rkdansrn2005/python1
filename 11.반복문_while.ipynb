{
 "cells": [
  {
   "cell_type": "markdown",
   "metadata": {},
   "source": [
    "### 반복문 while\n",
    "\n",
    "while은 조건식으로만 동작하고 반복할 코드안에는 조건식에 영향을 주는 변화식을 정의한다.\n",
    "\n",
    ">while 조건문:<br>\n",
    "      실행문1<br>\n",
    "      실행문n\n",
    "      \n",
    "##### 1. while 반복문의 동작과정\n",
    "<img src =\"./images/11.반복문_while_01.png\" width = 300 height=300 />\n",
    "##### 2. while 반복문의 기본형태\n",
    "<img src =\"./images/11.반복문_while_02.png\" width = 300 height=300/>"
   ]
  },
  {
   "cell_type": "code",
   "execution_count": 2,
   "metadata": {},
   "outputs": [
    {
     "name": "stdout",
     "output_type": "stream",
     "text": [
      "5050\n",
      "5050\n"
     ]
    }
   ],
   "source": [
    "# for 1~100까지 \n",
    "sum =0\n",
    "for i in range(1,101,1):\n",
    "    sum +=i\n",
    "print(sum)\n",
    "\n",
    "# while 문 : 1~100\n",
    "sum =0\n",
    "i=0\n",
    "while i<101:\n",
    "    sum +=i\n",
    "    i+=1\n",
    "print(sum)"
   ]
  },
  {
   "cell_type": "code",
   "execution_count": 6,
   "metadata": {},
   "outputs": [
    {
     "name": "stdout",
     "output_type": "stream",
     "text": [
      "1\n",
      "3\n",
      "5\n",
      "7\n",
      "9\n",
      "\n",
      "1\n",
      "3\n",
      "5\n",
      "7\n",
      "9\n",
      "\n",
      "1\n"
     ]
    }
   ],
   "source": [
    "# break : 반복문 탈출\n",
    "# continue : 반복문 처음으로 돌아가기\n",
    "\n",
    "# 홀수인 경우만 출력\n",
    "i = 0;\n",
    "while (i<10):\n",
    "    i +=1\n",
    "    if(i%2 != 0):\n",
    "        print(i)\n",
    "    else:\n",
    "        pass\n",
    "print()\n",
    "\n",
    "# continue 문을 사용\n",
    "i = 0;\n",
    "while (i<10):\n",
    "    i +=1\n",
    "    if(i%2 == 0):\n",
    "        continue\n",
    "    print(i)\n",
    "print()\n",
    "# break문을 사용\n",
    "i = 0;\n",
    "while (i<10):\n",
    "    i +=1\n",
    "    if(i%2 == 0):\n",
    "        break\n",
    "    print(i)"
   ]
  },
  {
   "cell_type": "code",
   "execution_count": 8,
   "metadata": {},
   "outputs": [
    {
     "name": "stdout",
     "output_type": "stream",
     "text": [
      "커피캔을 제공합니다\n",
      "현재 커피캔의 재고는 9개 입니다\n",
      "커피캔을 제공합니다\n",
      "현재 커피캔의 재고는 8개 입니다\n",
      "커피캔을 제공합니다\n",
      "현재 커피캔의 재고는 7개 입니다\n",
      "커피캔을 제공합니다\n",
      "현재 커피캔의 재고는 6개 입니다\n",
      "커피캔을 제공합니다\n",
      "현재 커피캔의 재고는 5개 입니다\n",
      "커피캔을 제공합니다\n",
      "현재 커피캔의 재고는 4개 입니다\n",
      "커피캔을 제공합니다\n",
      "현재 커피캔의 재고는 3개 입니다\n",
      "커피캔을 제공합니다\n",
      "현재 커피캔의 재고는 2개 입니다\n",
      "커피캔을 제공합니다\n",
      "현재 커피캔의 재고는 1개 입니다\n",
      "커피캔을 제공합니다\n",
      "현재 커피캔의 재고는 0개 입니다\n",
      "커피캔은 품절입니다. 판매를 중지합니다.\n"
     ]
    }
   ],
   "source": [
    "# 자판기와 유사한 로직 구현\n",
    "coffee = 10\n",
    "coin = 500\n",
    "while coin == 500:\n",
    "    print(\"커피캔을 제공합니다\")\n",
    "    coffee -= 1\n",
    "    print('현재 커피캔의 재고는 %d개 입니다' % coffee)\n",
    "    if not coffee:\n",
    "        print(\"커피캔은 품절입니다. 판매를 중지합니다.\")\n",
    "        break"
   ]
  },
  {
   "cell_type": "markdown",
   "metadata": {},
   "source": [
    "### 연습문제"
   ]
  },
  {
   "cell_type": "code",
   "execution_count": 2,
   "metadata": {},
   "outputs": [
    {
     "name": "stdout",
     "output_type": "stream",
     "text": [
      "166833\n"
     ]
    }
   ],
   "source": [
    "# 1~1000까지 3의 배수의 합계 구하기\n",
    "\n",
    "i = 0\n",
    "sum = 0\n",
    "while i<=1000:\n",
    "    if i%3==0:\n",
    "        sum +=i\n",
    "    i+=1\n",
    "print(sum)"
   ]
  },
  {
   "cell_type": "code",
   "execution_count": 12,
   "metadata": {},
   "outputs": [
    {
     "name": "stdout",
     "output_type": "stream",
     "text": [
      "482\n"
     ]
    }
   ],
   "source": [
    "# 2. list 1에서 60점 이상의 총합을 구하시오\n",
    "l = [50,65, 55, 70, 40, 80, 59, 85, 90, 92]\n",
    "i = 0\n",
    "sum =0\n",
    "while i <len(l):\n",
    "    if l[i]>=60:\n",
    "        sum += l[i]\n",
    "    i+=1\n",
    "print(sum)\n"
   ]
  },
  {
   "cell_type": "code",
   "execution_count": 5,
   "metadata": {},
   "outputs": [
    {
     "name": "stdout",
     "output_type": "stream",
     "text": [
      "*\n",
      "**\n",
      "***\n",
      "****\n",
      "*****\n"
     ]
    }
   ],
   "source": [
    "# 3. 별표 출력하기\n",
    "# *\n",
    "# **\n",
    "# ***\n",
    "# ****\n",
    "# *****\n",
    "star = \"\"\n",
    "i = 0\n",
    "while i<5:\n",
    "    star+=\"*\"\n",
    "    i+=1\n",
    "    print(star)\n",
    "    \n"
   ]
  },
  {
   "cell_type": "code",
   "execution_count": 8,
   "metadata": {},
   "outputs": [
    {
     "name": "stdout",
     "output_type": "stream",
     "text": [
      "       *\n",
      "      ***\n",
      "     *****\n",
      "    *******\n",
      "     *\n",
      "    ***\n",
      "   *****\n",
      "  *******\n",
      " *********\n"
     ]
    }
   ],
   "source": [
    "# 4. 별표 출력하기\n",
    "#       *\n",
    "#      ***\n",
    "#     *****\n",
    "#    *******\n",
    "space = \"       \"\n",
    "star = \"*\"\n",
    "i = 0\n",
    "\n",
    "while i<4:\n",
    "    if i==0:\n",
    "        print(space+star)        \n",
    "    else:\n",
    "        space = space.replace(\" \",\"\",1)   \n",
    "        star+=\"**\"\n",
    "        print(space+star)\n",
    "    i+=1\n",
    "    \n",
    "a = 0\n",
    "while a<5:\n",
    "    print(' '*(5-a)+'*'+'**'*a)\n",
    "    a += 1"
   ]
  },
  {
   "cell_type": "markdown",
   "metadata": {},
   "source": [
    "##### 5. 별표출력하기\n",
    "<img src=\"./images/11.반복문_while_ex01_마름모별.PNG\"/>"
   ]
  },
  {
   "cell_type": "code",
   "execution_count": 10,
   "metadata": {},
   "outputs": [
    {
     "name": "stdout",
     "output_type": "stream",
     "text": [
      "★\n",
      "★★★\n"
     ]
    }
   ],
   "source": [
    "# 유니코드의 별문자 : ★\n",
    "print('\\u2605')\n",
    "print('\\u2605'*3)"
   ]
  },
  {
   "cell_type": "code",
   "execution_count": 5,
   "metadata": {},
   "outputs": [
    {
     "name": "stdout",
     "output_type": "stream",
     "text": [
      "              ★\n",
      "            ★★★\n",
      "          ★★★★★\n",
      "        ★★★★★★★\n",
      "      ★★★★★★★★★\n",
      "        ★★★★★★★\n",
      "          ★★★★★\n",
      "            ★★★\n",
      "              ★\n"
     ]
    }
   ],
   "source": [
    "space = \"              \"\n",
    "star = \"\\u2605\"\n",
    "i = 0\n",
    "while i<9:\n",
    "    if i==0:\n",
    "        print(space+star)        \n",
    "    elif i<5:\n",
    "        space = space.replace(\"  \",\"\",1)   \n",
    "        star+='\\u2605'*2\n",
    "        print(space+star)\n",
    "    elif i>=5:\n",
    "        space = space.replace(\"\",\"  \",1)   \n",
    "        star = star.replace('\\u2605',\"\",2)\n",
    "        print(space+star)\n",
    "    i+=1"
   ]
  },
  {
   "cell_type": "code",
   "execution_count": 20,
   "metadata": {},
   "outputs": [
    {
     "name": "stdout",
     "output_type": "stream",
     "text": [
      "          ★\n",
      "        ★★★\n",
      "      ★★★★★\n",
      "    ★★★★★★★\n",
      "  ★★★★★★★★★\n",
      "    ★★★★★★★\n",
      "      ★★★★★\n",
      "        ★★★\n",
      "          ★\n"
     ]
    }
   ],
   "source": [
    "a = 0\n",
    "while a<9:\n",
    "    if a<5:\n",
    "        print('  '*(5-a)+'\\u2605'+'\\u2605'*2*a)\n",
    "        a += 1\n",
    "    else:\n",
    "        print('  '*(a-3)+'\\u2605'+'\\u2605'*2*(8-a))\n",
    "        a +=1 "
   ]
  },
  {
   "cell_type": "code",
   "execution_count": null,
   "metadata": {},
   "outputs": [],
   "source": [
    "i = 1\n",
    "space = 9\n",
    "while i <=space:\n",
    "    print(' '*(space-i) + '\\u2605'*i)\n",
    "    i += 2   \n",
    "    i = space\n",
    "while i > 1:\n",
    "    i -= 2\n",
    "    print(' '*(space-i) + '\\u2605'*i)"
   ]
  }
 ],
 "metadata": {
  "kernelspec": {
   "display_name": "Python 3",
   "language": "python",
   "name": "python3"
  },
  "language_info": {
   "codemirror_mode": {
    "name": "ipython",
    "version": 3
   },
   "file_extension": ".py",
   "mimetype": "text/x-python",
   "name": "python",
   "nbconvert_exporter": "python",
   "pygments_lexer": "ipython3",
   "version": "3.7.6"
  }
 },
 "nbformat": 4,
 "nbformat_minor": 4
}
