{
 "cells": [
  {
   "cell_type": "markdown",
   "metadata": {},
   "source": [
    "### 변수명 명명규칙\n",
    "\n",
    "1. 첫글자는 영문대소문자와 언더바('_')로 시작해야 한다\n",
    "2. 나머지 글자는 영문자, 숫자, 언더바로 구성할 수 있다.\n",
    "3. 대소문자를 구분한다.\n",
    "4. 변수명의 길이제한은 없다.\n",
    "5. 예약어는 사용할 수 없다."
   ]
  },
  {
   "cell_type": "code",
   "execution_count": null,
   "metadata": {},
   "outputs": [],
   "source": [
    "# 파이썬에서 사용하는 keyword리스트\n",
    "import keyword\n",
    "\n",
    "# %who 현재 세션에서 사용중인 변수, 모듈등을 출력\n",
    "# (주의) 매직명령어 뒤에 주석을 추가하면 실행이 되지 않는다.\n",
    "# %who\n",
    "# keyword?\n",
    "print(keyword.kwlist)\n",
    "print(len(keyword.kwlist))\n",
    "# boolean 타입은 앞이 대문자로 주어야 한다."
   ]
  },
  {
   "cell_type": "markdown",
   "metadata": {},
   "source": [
    "### 리스트 자료형\n",
    "\n",
    "파이썬에서는 리스트 자료형을 만들 때 대괄고([])로 감싸주고 그 안에 요소들을 컴마(,)로 구분해준다.\n",
    "파이썬에서 리스트자료형은 string(문자열)만큼 자주 사용되는 자료형이다.\n",
    "\n",
    ">리스트형 = [요소1, 요소2, ......요소 n]\n",
    "\n",
    "##### 리스트란?\n",
    "1. 순서가 있는 수정가능한 객체의 집합이다.\n",
    "2. 수정, 삭제, 추가가 가능하다.\n",
    "3. list는 <code>대괄호 []</code>로 작성되고 내부원소는<code>컴마 ,</code>로 구분된다\n",
    "4. list의 인덱스는 0부터 시작한다.\n",
    "5. index의 범위를 벗어나면 에러가 발생된다\n",
    "6. list에는 list 뿐만 아니라 여러가지의 자료형도 함께 정의할 수 있다.\n",
    "7. list는 마지막 원소뒤에 컴마(,)가 있어도에러가 발생하지는 않는다. 보통은 생략하지만 편의를 위해 컴마를 찍기도 한다."
   ]
  },
  {
   "cell_type": "code",
   "execution_count": 84,
   "metadata": {},
   "outputs": [
    {
     "name": "stdout",
     "output_type": "stream",
     "text": [
      "[1, 2, 3]\n"
     ]
    }
   ],
   "source": [
    "a = [1,2,3,]\n",
    "print(a)"
   ]
  },
  {
   "cell_type": "code",
   "execution_count": null,
   "metadata": {},
   "outputs": [],
   "source": [
    "# 빈 리스트 객체를 정의\n",
    "a =[]\n",
    "print(a)\n",
    "\n",
    "# 변수의 자료형을 확인하는 방법\n",
    "# 1. 변수명? or ?변수명\n",
    "# 2. type() 함수 사용\n",
    "a?\n",
    "type(a)\n",
    "# help(a)"
   ]
  },
  {
   "cell_type": "code",
   "execution_count": null,
   "metadata": {},
   "outputs": [],
   "source": [
    "%who\n",
    "a= \"de\"\n",
    "# 현재 세션에서 사용되는 변수 또는 모듈등을 삭제하기\n",
    "# del 명령은 변수나 객체를 삭제하는 명령\n",
    "\n",
    "del a \n",
    "%who\n",
    "\n",
    "# 현제 세션에서 사용하고 있는 모든 변수나 모듈등을 한번에 삭제하는 방법\n",
    "# %reset [-f] 강제로 다날림\n",
    "a = 1\n",
    "b = \"a\"\n",
    "%Who\n",
    "\n",
    "%reset"
   ]
  },
  {
   "cell_type": "code",
   "execution_count": null,
   "metadata": {},
   "outputs": [],
   "source": [
    "print(type(print))\n",
    "a=1\n",
    "print(a)\n",
    "# print =a\n",
    "# print(type(print))"
   ]
  },
  {
   "cell_type": "code",
   "execution_count": 1,
   "metadata": {},
   "outputs": [
    {
     "name": "stdout",
     "output_type": "stream",
     "text": [
      "[1, 2, [3, 4], [1.0, 'String']]\n"
     ]
    }
   ],
   "source": [
    "a=[] # 빈 리스트객체 선언\n",
    "b = [1,2,3] # 3개의 요소를 갖는 리스트\n",
    "c = ['Life','is','too','short'] # 4개의 요소를 갖는 리스트 선언\n",
    "d = [1, 'a', '1.2'] # 파이썬에는 자료형 구분이 없이 리스트를 선언할 수 있다.\n",
    "e = [1,2,[3,4],[1.0,'String']] # list 안에 어떠한 자료형도 사용할 수 있다.\n",
    "print(e)"
   ]
  },
  {
   "cell_type": "markdown",
   "metadata": {},
   "source": [
    "#### 1. 리스트의 인덱싱과 슬라이싱"
   ]
  },
  {
   "cell_type": "code",
   "execution_count": 19,
   "metadata": {},
   "outputs": [
    {
     "name": "stdout",
     "output_type": "stream",
     "text": [
      "1 2 3 a\n",
      "<class 'int'> <class 'list'> <class 'str'> <class 'list'>\n",
      "3\n",
      "[4, 5]\n",
      "test dd\n",
      "z\n"
     ]
    }
   ],
   "source": [
    "# 1. 인덱싱\n",
    "# ... 파이썬에서 리스트 인덱싱은 음수(-) 값도 허용된다.\n",
    "a = [1,2,3,'a',[4,5]]\n",
    "# a?\n",
    "print(a[0],a[1],a[2],a[3])\n",
    "print(type(a[0]),type(a),type(a[3]),type(a[4]))\n",
    "\n",
    "print(a[0]+a[1])\n",
    "# print(a[0]+a[3]) # type error\n",
    "print(a[-1])\n",
    "print('test','dd', end=\"\\n\")\n",
    "\n",
    "a=[1,2,3,['a','b','c',['x','y','z']]]\n",
    "print(a[-1][0]) # 자바의 2차원 배열과 유사\n",
    "print(a[3][3][2]) # 자바에서 3차원배열과 유사\n",
    "\n"
   ]
  },
  {
   "cell_type": "code",
   "execution_count": 21,
   "metadata": {},
   "outputs": [
    {
     "name": "stdout",
     "output_type": "stream",
     "text": [
      "[1, 2]\n",
      "12345\n",
      "[1, 2] [3, 4, 5]\n"
     ]
    }
   ],
   "source": [
    "# 2. 슬라이싱\n",
    "# 문자열과 마찬가지로 리스트에서도 슬라이싱기법을 적용할 수 있다.\n",
    "# ... 파이썬에서는 리스트를 자르는 문법이 슬라이싱 문법을 제공한다.\n",
    "# ... 사용법은 리스트변수[시작인덱스 : 종료인덱스 : step]의 형태이다. 종료인덱스의 원소는 \n",
    "#     포함되지 않고 바로 앞의 원소까지만 포함된다.\n",
    "a= [1,2,3,4,5]\n",
    "print(a[0:2])\n",
    "b = '12345'\n",
    "print(b)\n",
    "\n",
    "b = a[:2]\n",
    "c = a[2:]\n",
    "print(b,c)"
   ]
  },
  {
   "cell_type": "code",
   "execution_count": 28,
   "metadata": {},
   "outputs": [
    {
     "name": "stdout",
     "output_type": "stream",
     "text": [
      "[1, 2, 3, ['a', 'b', 'c'], 4, 5]\n",
      "[3, ['a', 'b', 'c'], 4]\n",
      "['a', 'b']\n"
     ]
    },
    {
     "ename": "TypeError",
     "evalue": "can only concatenate list (not \"int\") to list",
     "output_type": "error",
     "traceback": [
      "\u001b[1;31m---------------------------------------------------------------------------\u001b[0m",
      "\u001b[1;31mTypeError\u001b[0m                                 Traceback (most recent call last)",
      "\u001b[1;32m<ipython-input-28-e657b9224655>\u001b[0m in \u001b[0;36m<module>\u001b[1;34m\u001b[0m\n\u001b[0;32m      4\u001b[0m \u001b[0mprint\u001b[0m\u001b[1;33m(\u001b[0m\u001b[0ma\u001b[0m\u001b[1;33m[\u001b[0m\u001b[1;36m2\u001b[0m\u001b[1;33m:\u001b[0m\u001b[1;36m5\u001b[0m\u001b[1;33m]\u001b[0m\u001b[1;33m)\u001b[0m\u001b[1;33m\u001b[0m\u001b[1;33m\u001b[0m\u001b[0m\n\u001b[0;32m      5\u001b[0m \u001b[0mprint\u001b[0m\u001b[1;33m(\u001b[0m\u001b[0ma\u001b[0m\u001b[1;33m[\u001b[0m\u001b[1;36m3\u001b[0m\u001b[1;33m]\u001b[0m\u001b[1;33m[\u001b[0m\u001b[1;33m:\u001b[0m\u001b[1;36m2\u001b[0m\u001b[1;33m]\u001b[0m\u001b[1;33m)\u001b[0m\u001b[1;33m\u001b[0m\u001b[1;33m\u001b[0m\u001b[0m\n\u001b[1;32m----> 6\u001b[1;33m \u001b[0mk\u001b[0m \u001b[1;33m=\u001b[0m \u001b[0ma\u001b[0m\u001b[1;33m[\u001b[0m\u001b[1;36m3\u001b[0m\u001b[1;33m]\u001b[0m\u001b[1;33m[\u001b[0m\u001b[1;33m:\u001b[0m\u001b[1;36m2\u001b[0m\u001b[1;33m]\u001b[0m\u001b[1;33m+\u001b[0m\u001b[0ma\u001b[0m\u001b[1;33m[\u001b[0m\u001b[1;36m2\u001b[0m\u001b[1;33m]\u001b[0m\u001b[1;33m\u001b[0m\u001b[1;33m\u001b[0m\u001b[0m\n\u001b[0m\u001b[0;32m      7\u001b[0m \u001b[0mprint\u001b[0m\u001b[1;33m(\u001b[0m\u001b[0mk\u001b[0m\u001b[1;33m)\u001b[0m\u001b[1;33m\u001b[0m\u001b[1;33m\u001b[0m\u001b[0m\n",
      "\u001b[1;31mTypeError\u001b[0m: can only concatenate list (not \"int\") to list"
     ]
    }
   ],
   "source": [
    "# 3. 중첩된 리스트에서 슬라이싱\n",
    "a =[1,2,3,['a','b','c'],4,5]\n",
    "print(a)\n",
    "print(a[2:5])\n",
    "print(a[3][:2])\n",
    "k = a[3][:2]+a[2]\n",
    "print(k)"
   ]
  },
  {
   "cell_type": "markdown",
   "metadata": {},
   "source": [
    "#### 2. 리스 연산자"
   ]
  },
  {
   "cell_type": "code",
   "execution_count": 31,
   "metadata": {},
   "outputs": [
    {
     "name": "stdout",
     "output_type": "stream",
     "text": [
      "[1, 2, 3, 'x', 'y', 'z']\n"
     ]
    }
   ],
   "source": [
    "# 1. 리스트 더하기 (+) : 2개의 리스트를 합치기\n",
    "a = [1,2,3]\n",
    "b = ['x','y','z']\n",
    "print(a+b)"
   ]
  },
  {
   "cell_type": "code",
   "execution_count": 32,
   "metadata": {},
   "outputs": [
    {
     "name": "stdout",
     "output_type": "stream",
     "text": [
      "[1, 2, 3, 1, 2, 3, 1, 2, 3]\n",
      "['x', 'y', 'z', 'x', 'y', 'z', 'x', 'y', 'z']\n",
      "[1, 2, 3, 'x', 'y', 'z', 1, 2, 3, 'x', 'y', 'z', 1, 2, 3, 'x', 'y', 'z']\n"
     ]
    }
   ],
   "source": [
    "# 2. 리스트반복하기(+) : \n",
    "print(a*3)\n",
    "print(b*3)\n",
    "print((a+b)*3)"
   ]
  },
  {
   "cell_type": "markdown",
   "metadata": {},
   "source": [
    "# 리스트 수정/삭제"
   ]
  },
  {
   "cell_type": "code",
   "execution_count": 38,
   "metadata": {},
   "outputs": [
    {
     "name": "stdout",
     "output_type": "stream",
     "text": [
      "[1, 2, 'x']\n"
     ]
    }
   ],
   "source": [
    "# 1. 리스트에서 하나의 값 수정하기\n",
    "a =[1,2,3]\n",
    "a[2] = 'x'\n",
    "print(a)"
   ]
  },
  {
   "cell_type": "code",
   "execution_count": 40,
   "metadata": {},
   "outputs": [
    {
     "name": "stdout",
     "output_type": "stream",
     "text": [
      "[1, 'a', 'b', 'c', 'b', 'c', 'x']\n",
      "[1, 'x', 'y', 'z', 'b', 'c', 'x']\n"
     ]
    }
   ],
   "source": [
    "# 2. 리스트에서 연속된 범위의 값을 수정하기\n",
    "a[1:2]\n",
    "a[1:2]= ['a','b','c']\n",
    "print(a)\n",
    "\n",
    "a[1:4] =['x','y','z']\n",
    "print(a)"
   ]
  },
  {
   "cell_type": "code",
   "execution_count": 41,
   "metadata": {},
   "outputs": [
    {
     "name": "stdout",
     "output_type": "stream",
     "text": [
      "[1, 'z', 'b', 'c', 'x']\n"
     ]
    }
   ],
   "source": [
    "# 3. 리스트요소를 삭제하기\n",
    "a[1:3]=[]\n",
    "print(a)"
   ]
  },
  {
   "cell_type": "code",
   "execution_count": 43,
   "metadata": {},
   "outputs": [
    {
     "name": "stdout",
     "output_type": "stream",
     "text": [
      "[1, 'b', 'c', 'x']\n"
     ]
    }
   ],
   "source": [
    "# 4. del 명령을 이용해서 리스트요소 삭제하기\n",
    "\n",
    "a[1]\n",
    "del a[1]\n",
    "print(a)"
   ]
  },
  {
   "cell_type": "markdown",
   "metadata": {},
   "source": [
    "#### 4. 리스트 변환함수\n",
    "\n",
    "* append()  : 리스트에 요소를 추가\n",
    "* sort()    : 리스트를 알파벳 숫서로 정렬\n",
    "* reverse() : 리스트를 현재 상태에서 뒤집기\n",
    "* index()   : 리스트요소의 현재위치\n",
    "* insert()  : 리스트에 요소를 삽입\n",
    "* remove()  : 리스트 요소를 삭제\n",
    "* count()   : 리스트 요소의 갯수를 리턴\n",
    "* extend()  : 리스트를 확장\n",
    "* copy()    :  리스트 값을 복사\n",
    "* clear     : 리스트 전체를 초기화(지우기)"
   ]
  },
  {
   "cell_type": "code",
   "execution_count": 1,
   "metadata": {},
   "outputs": [
    {
     "name": "stdout",
     "output_type": "stream",
     "text": [
      "[1, 2, 3, 4]\n",
      "[1, 2, 3, 4, [5, 6]]\n",
      "[1, 2, 3, 4, [5, 6], (7, 8)]\n",
      "[1, 2, 3, 4, [5, 6], (7, 8), {'name': '소향', 'age': 41}]\n"
     ]
    }
   ],
   "source": [
    "# 1. append() \n",
    "a =[1,2,3]\n",
    "a.append(4)\n",
    "print(a)\n",
    "\n",
    "a.append([5,6])\n",
    "print(a)\n",
    "\n",
    "a.append((7,8)) # tuple 자료형\n",
    "print(a) \n",
    "\n",
    "a.append({'name':'소향','age':41})  # Dictionary자료형 \n",
    "print(a)"
   ]
  },
  {
   "cell_type": "code",
   "execution_count": 3,
   "metadata": {},
   "outputs": [
    {
     "data": {
      "text/plain": [
       "'소향'"
      ]
     },
     "execution_count": 3,
     "metadata": {},
     "output_type": "execute_result"
    }
   ],
   "source": [
    "a[6]['name']"
   ]
  },
  {
   "cell_type": "code",
   "execution_count": 4,
   "metadata": {},
   "outputs": [
    {
     "name": "stdout",
     "output_type": "stream",
     "text": [
      "[1, 2, 3, 4]\n",
      "None\n"
     ]
    }
   ],
   "source": [
    "# 2. sort()\n",
    "a = [1,4,3,2]\n",
    "a.sort() # 알파벳 순서로 정렬\n",
    "print(a)\n",
    "\n",
    "b =a.sort() # b는 결과가 None, 그 이유는 sort()함수는 리턴값이 없고 정렬된 결과만 저장\n",
    "print(b)"
   ]
  },
  {
   "cell_type": "code",
   "execution_count": 58,
   "metadata": {},
   "outputs": [
    {
     "name": "stdout",
     "output_type": "stream",
     "text": [
      "['b', 'c', 'a']\n",
      "None ['a', 'c', 'b']\n"
     ]
    }
   ],
   "source": [
    "# 3. reverse()\n",
    "# reverse() 함수는 역순으로 뒤집어 주는데 이때 리스트요소를 순서대로 정렬해서 뒤집는 것이 아니라\n",
    "# 현재 리스트에서 거꾸로 뒤집는다.\n",
    "# a.reverse?\n",
    "a = ['a','c','b'] # 순서 그대로 \n",
    "a.reverse()\n",
    "print(a)\n",
    "b= a.reverse() # reverse도 sort와 마찬가지로 \n",
    "print(b,a) "
   ]
  },
  {
   "cell_type": "code",
   "execution_count": 59,
   "metadata": {},
   "outputs": [
    {
     "name": "stdout",
     "output_type": "stream",
     "text": [
      "2\n"
     ]
    }
   ],
   "source": [
    "# 4. index() : 지정된 값에 대응하는 요소의 위치를 리턴\n",
    "a = [1,2,'a',3,4,'a']\n",
    "print(a.index('a')) # 맨 처음"
   ]
  },
  {
   "cell_type": "code",
   "execution_count": 67,
   "metadata": {},
   "outputs": [
    {
     "name": "stdout",
     "output_type": "stream",
     "text": [
      "[1, 'A', 2, 'a', 3, 4, 'a']\n"
     ]
    }
   ],
   "source": [
    "#  5. insert()\n",
    "a= [1,2,'a',3,4,'a']\n",
    "a.insert(1,'A')\n",
    "print(a)"
   ]
  },
  {
   "cell_type": "code",
   "execution_count": 7,
   "metadata": {},
   "outputs": [
    {
     "name": "stdout",
     "output_type": "stream",
     "text": [
      "[1, 2, 1, 2, 3]\n",
      "[1, 2, 1, 2]\n"
     ]
    }
   ],
   "source": [
    "# 6. remove(): 입력매개변수의 값에 해당하는 리스트요소를 삭제\n",
    "# 만약에 리스트안에 중복된 값이 있을 경우 맨 앞의 요소만 삭제된다.\n",
    "# 삭제할 값이 없다면 ValueError가 발생한다.\n",
    "# 문법 : remove(삭제할 값)\n",
    "a=[1,2,3,1,2,3]\n",
    "a.remove(3)\n",
    "print(a)\n",
    "a.remove(3)\n",
    "print(a)\n",
    "# a.remove(4)/ not list error 걸림"
   ]
  },
  {
   "cell_type": "code",
   "execution_count": 8,
   "metadata": {},
   "outputs": [
    {
     "name": "stdout",
     "output_type": "stream",
     "text": [
      "[1, 3] 2\n"
     ]
    }
   ],
   "source": [
    "# 7. pop() : 매개변수의 위치에 해당하는 리스트요소를 꺼낸 후 삭제\n",
    "# 위치를 지정하지 않을 경ㅇ우 즉, 매개변수가 없을 경우는 맨 뒤의 요소를 꺼낸 후 삭제\n",
    "# 문법 : pop(꺼낼 요소의 위치)\n",
    "a =[1,2,3]\n",
    "b = a.pop(1)\n",
    "print(a,b)\n",
    "\n",
    "# c=a.pop() # 위치를 지정하지 않으면 맨 뒤의 요소를 꺼낸 후 삭제\n",
    "# print(c)\n",
    "\n",
    "# d =a.pop(3) # indexError 범위초과에러발생"
   ]
  },
  {
   "cell_type": "code",
   "execution_count": 74,
   "metadata": {},
   "outputs": [
    {
     "name": "stdout",
     "output_type": "stream",
     "text": [
      "1의 갯수 = 2\n",
      "2의 갯수 = 2\n",
      "3의 갯수 = 1\n"
     ]
    }
   ],
   "source": [
    "# 8. count()\n",
    "# 문법 : count(갯수를 확인할 값)\n",
    "# a.count?\n",
    "a = [1,2,3,1,2]\n",
    "print('1의 갯수 =', a.count(1))\n",
    "print('2의 갯수 =', a.count(2))\n",
    "print('3의 갯수 =', a.count(3))"
   ]
  },
  {
   "cell_type": "code",
   "execution_count": 82,
   "metadata": {},
   "outputs": [
    {
     "name": "stdout",
     "output_type": "stream",
     "text": [
      "[1, 2, 3, 4, 5]\n",
      "[1, 2, 3, 4, 5, 6, 7]\n",
      "[1, 2, 3, 4, 5, 6, 7, 'x', 'y', 'z']\n"
     ]
    }
   ],
   "source": [
    "# 9. extend() : 리스트 확장\n",
    "# 문법 : extend(리스트만)\n",
    "a= [1,2,3]\n",
    "a.extend([4,5])\n",
    "print(a)\n",
    "# a.extend(6) // 'int' object is not iterable 에러 발생 \n",
    "a.extend((6,7))\n",
    "print(a)\n",
    "\n",
    "b = ['x','y','z']\n",
    "a.extend(b)\n",
    "print(a)"
   ]
  },
  {
   "cell_type": "code",
   "execution_count": 83,
   "metadata": {},
   "outputs": [
    {
     "name": "stdout",
     "output_type": "stream",
     "text": [
      "[1, 2, 3, 4, 5, 6, 7, 'x', 'y', 'z']\n",
      "[]\n"
     ]
    }
   ],
   "source": [
    "# 10. clear()\n",
    "print(a)\n",
    "a.clear()\n",
    "print(a)"
   ]
  },
  {
   "cell_type": "code",
   "execution_count": null,
   "metadata": {},
   "outputs": [],
   "source": [
    "###### 리스트의 요소를 삭제하는 방법\n",
    "1. remove() 함수 : 입력매개변수는 요소의 값을 전달\n",
    "2. pop() 함수 :입력매개변수는 요소의 인덱스(위치)를 전달\n",
    "3. del 사용 : 입력 매개변수는 인덱스의(위치)를 전달\n",
    "    \n",
    "* 삭제되는 것은 동일하지만 삭제에 사용되는 입력값에 대해서는 큰 차이가 있다."
   ]
  },
  {
   "cell_type": "code",
   "execution_count": null,
   "metadata": {},
   "outputs": [],
   "source": []
  }
 ],
 "metadata": {
  "kernelspec": {
   "display_name": "Python 3",
   "language": "python",
   "name": "python3"
  },
  "language_info": {
   "codemirror_mode": {
    "name": "ipython",
    "version": 3
   },
   "file_extension": ".py",
   "mimetype": "text/x-python",
   "name": "python",
   "nbconvert_exporter": "python",
   "pygments_lexer": "ipython3",
   "version": "3.7.7"
  }
 },
 "nbformat": 4,
 "nbformat_minor": 4
}
