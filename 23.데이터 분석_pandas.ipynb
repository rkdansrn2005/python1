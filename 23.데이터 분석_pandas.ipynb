{
 "cells": [
  {
   "cell_type": "markdown",
   "metadata": {},
   "source": [
    "### Pandas(Python Data Analysis Library)\n",
    "\n",
    "pandas는 파이썬에서 사용하는 데이터 분석 라이브러리로 행과 열로 이루어진 데이터 객체를 다룰 수 있게 되며 보다 안정적으로 대용량의 데이터를 처리하는데 매우 유용한 도구이다.\n",
    "\n",
    "pandas에서는 기본적으로 정의되어 있는 1차원 배열인 `series`와 2차원 배열인 `DataFrame`을 사용한다.\n",
    "\n",
    "pandas의 자료 구조들은 빅데이터 분석에 있어 높은 수준의 성능을 보여준다,\n",
    "\n",
    "##### 참고site\n",
    "\n",
    "* pandas문서 : http://pandas.pydata.org/pandas-docs/stable/index.html\n",
    "* 자료구조 : http://pandas.pydata.org/pandas-docs/stable/dsintro.html"
   ]
  },
  {
   "cell_type": "code",
   "execution_count": 13,
   "metadata": {},
   "outputs": [],
   "source": [
    "#데이터 분석 주요 라이브러리\n",
    "%matplotlib inline\n",
    "import numpy as np\n",
    "import pandas as pd\n",
    "import matplotlib.pyplot as plt\n",
    "\n",
    "# 한글처리\n",
    "from matplotlib import rc, font_manager\n",
    "font_name = font_manager.FontProperties(\\\n",
    "                fname='c:/Windows/Fonts/malgun.ttf').get_name()\n",
    "#  fname='c:/Windows/Fonts/나눔고딕코딩.ttf').get_name()\n",
    "rc('font',family=font_name)\n",
    "rc('axes',unicode_minus=False) \n",
    "\n",
    "# minus 처리"
   ]
  },
  {
   "cell_type": "code",
   "execution_count": 10,
   "metadata": {},
   "outputs": [
    {
     "name": "stdout",
     "output_type": "stream",
     "text": [
      "\n",
      "INSTALLED VERSIONS\n",
      "------------------\n",
      "commit           : None\n",
      "python           : 3.7.6.final.0\n",
      "python-bits      : 64\n",
      "OS               : Windows\n",
      "OS-release       : 10\n",
      "machine          : AMD64\n",
      "processor        : Intel64 Family 6 Model 158 Stepping 9, GenuineIntel\n",
      "byteorder        : little\n",
      "LC_ALL           : None\n",
      "LANG             : None\n",
      "LOCALE           : None.None\n",
      "\n",
      "pandas           : 1.0.1\n",
      "numpy            : 1.18.1\n",
      "pytz             : 2019.3\n",
      "dateutil         : 2.8.1\n",
      "pip              : 20.0.2\n",
      "setuptools       : 45.2.0.post20200210\n",
      "Cython           : 0.29.15\n",
      "pytest           : 5.3.5\n",
      "hypothesis       : 5.5.4\n",
      "sphinx           : 2.4.0\n",
      "blosc            : None\n",
      "feather          : None\n",
      "xlsxwriter       : 1.2.7\n",
      "lxml.etree       : 4.5.0\n",
      "html5lib         : 1.0.1\n",
      "pymysql          : None\n",
      "psycopg2         : None\n",
      "jinja2           : 2.11.1\n",
      "IPython          : 7.12.0\n",
      "pandas_datareader: None\n",
      "bs4              : 4.8.2\n",
      "bottleneck       : 1.3.2\n",
      "fastparquet      : None\n",
      "gcsfs            : None\n",
      "lxml.etree       : 4.5.0\n",
      "matplotlib       : 3.1.3\n",
      "numexpr          : 2.7.1\n",
      "odfpy            : None\n",
      "openpyxl         : 3.0.3\n",
      "pandas_gbq       : None\n",
      "pyarrow          : None\n",
      "pytables         : None\n",
      "pytest           : 5.3.5\n",
      "pyxlsb           : None\n",
      "s3fs             : None\n",
      "scipy            : 1.4.1\n",
      "sqlalchemy       : 1.3.13\n",
      "tables           : 3.6.1\n",
      "tabulate         : None\n",
      "xarray           : None\n",
      "xlrd             : 1.2.0\n",
      "xlwt             : 1.3.0\n",
      "xlsxwriter       : 1.2.7\n",
      "numba            : 0.48.0\n"
     ]
    }
   ],
   "source": [
    "pd.show_versions()\n",
    "# full package version"
   ]
  },
  {
   "cell_type": "markdown",
   "metadata": {},
   "source": [
    "#### 1. Series"
   ]
  },
  {
   "cell_type": "code",
   "execution_count": 14,
   "metadata": {},
   "outputs": [
    {
     "name": "stdout",
     "output_type": "stream",
     "text": [
      "0    1.0\n",
      "1    2.0\n",
      "2    3.0\n",
      "3    5.0\n",
      "4    NaN\n",
      "5    6.0\n",
      "6    7.0\n",
      "7    8.0\n",
      "dtype: float64\n"
     ]
    },
    {
     "data": {
      "text/plain": [
       "<matplotlib.axes._subplots.AxesSubplot at 0x24712ff7ac8>"
      ]
     },
     "execution_count": 14,
     "metadata": {},
     "output_type": "execute_result"
    },
    {
     "data": {
      "image/png": "[encoded data removed]",
      "text/plain": [
       "<Figure size 432x288 with 1 Axes>"
      ]
     },
     "metadata": {
      "needs_background": "light"
     },
     "output_type": "display_data"
    }
   ],
   "source": [
    "# 1. Series 자료생성(1) - 기본\n",
    "# 인덱스와 값을 가지는 1차원 배열\n",
    "# 만드는 방법은 값들의 리스트를 전달해서 생성한다. 인덱스는 자동으로 \n",
    "# 기본정의 되는 정수인덱스를 사용한다. 단, 인덱스를 정의하지 않으면 \n",
    "# 0부터 순번으로 부여된다.\n",
    "\n",
    "ser1 = pd.Series([1,2,3,5,np.nan,6,7,8])\n",
    "print(ser1)\n",
    "ser1.plot()"
   ]
  },
  {
   "cell_type": "code",
   "execution_count": 20,
   "metadata": {},
   "outputs": [
    {
     "name": "stdout",
     "output_type": "stream",
     "text": [
      "0     3\n",
      "1     6\n",
      "2     9\n",
      "3    12\n",
      "dtype: int64\n",
      "6\n",
      "\n",
      "2016     3\n",
      "2017     6\n",
      "2018     9\n",
      "2019    12\n",
      "dtype: int64\n",
      "6\n"
     ]
    }
   ],
   "source": [
    "# 2. Series 자료생성(2) - 인덱스정의\n",
    "# 기본 숫자 인덱스 vs 문자 인덱스\n",
    "ser2 = pd.Series([3,6,9,12],index=None)\n",
    "print(ser2)\n",
    "print(ser2[1])\n",
    "print()\n",
    "ser3 = pd.Series([3,6,9,12],index=[2016,2017,2018,2019])\n",
    "print(ser3)\n",
    "print(ser3[2017])"
   ]
  },
  {
   "cell_type": "code",
   "execution_count": 27,
   "metadata": {},
   "outputs": [
    {
     "data": {
      "image/png": "[encoded data removed]",
      "text/plain": [
       "<Figure size 432x288 with 1 Axes>"
      ]
     },
     "metadata": {
      "needs_background": "light"
     },
     "output_type": "display_data"
    },
    {
     "data": {
      "image/png": "[encoded data removed]",
      "text/plain": [
       "<Figure size 432x288 with 1 Axes>"
      ]
     },
     "metadata": {
      "needs_background": "light"
     },
     "output_type": "display_data"
    }
   ],
   "source": [
    "# 시각화\n",
    "ser3.plot()\n",
    "plt.show() # 시각화에 용이 각각 보려면 하나당 해주어야 한다.\n",
    "ser3.plot(kind=\"bar\")\n",
    "plt.show()\n"
   ]
  },
  {
   "cell_type": "code",
   "execution_count": 30,
   "metadata": {},
   "outputs": [
    {
     "name": "stdout",
     "output_type": "stream",
     "text": [
      "홍길동    5000\n",
      "손흥민    9000\n",
      "홍길순    6500\n",
      "홍길자    7000\n",
      "dtype: int64\n"
     ]
    },
    {
     "data": {
      "text/plain": [
       "[]"
      ]
     },
     "execution_count": 30,
     "metadata": {},
     "output_type": "execute_result"
    },
    {
     "data": {
      "image/png": "[encoded data removed]",
      "text/plain": [
       "<Figure size 432x288 with 1 Axes>"
      ]
     },
     "metadata": {
      "needs_background": "light"
     },
     "output_type": "display_data"
    }
   ],
   "source": [
    "# 3. Series 자료 생성(3) - 키 (인덱스)와 값으로 정의\n",
    "# dictionary자료형으로 생성해야 한다.\n",
    "employee = {'홍길동':5000,\"손흥민\":9000,'홍길순':6500,'홍길자':7000}\n",
    "ser4 = pd.Series(employee)\n",
    "print(ser4)\n",
    "\n",
    "ser4.plot(kind='barh')\n",
    "plt.plot()"
   ]
  },
  {
   "cell_type": "code",
   "execution_count": null,
   "metadata": {},
   "outputs": [],
   "source": []
  },
  {
   "cell_type": "markdown",
   "metadata": {},
   "source": [
    "#### 2. DataFrame"
   ]
  },
  {
   "cell_type": "code",
   "execution_count": 35,
   "metadata": {},
   "outputs": [
    {
     "name": "stdout",
     "output_type": "stream",
     "text": [
      "   0  1  2\n",
      "0  1  2  3\n",
      "1  4  5  6\n",
      "2  7  8  9\n"
     ]
    },
    {
     "data": {
      "image/png": "[encoded data removed]",
      "text/plain": [
       "<Figure size 432x288 with 1 Axes>"
      ]
     },
     "metadata": {
      "needs_background": "light"
     },
     "output_type": "display_data"
    },
    {
     "ename": "AttributeError",
     "evalue": "'list' object has no attribute 'plot'",
     "output_type": "error",
     "traceback": [
      "\u001b[1;31m---------------------------------------------------------------------------\u001b[0m",
      "\u001b[1;31mAttributeError\u001b[0m                            Traceback (most recent call last)",
      "\u001b[1;32m<ipython-input-35-8bba73fdd83f>\u001b[0m in \u001b[0;36m<module>\u001b[1;34m\u001b[0m\n\u001b[0;32m      7\u001b[0m \u001b[1;33m\u001b[0m\u001b[0m\n\u001b[0;32m      8\u001b[0m \u001b[0ml\u001b[0m \u001b[1;33m=\u001b[0m \u001b[1;33m[\u001b[0m\u001b[1;33m[\u001b[0m\u001b[1;36m1\u001b[0m\u001b[1;33m,\u001b[0m\u001b[1;36m2\u001b[0m\u001b[1;33m,\u001b[0m\u001b[1;36m3\u001b[0m\u001b[1;33m]\u001b[0m\u001b[1;33m,\u001b[0m\u001b[1;33m[\u001b[0m\u001b[1;36m4\u001b[0m\u001b[1;33m,\u001b[0m\u001b[1;36m5\u001b[0m\u001b[1;33m,\u001b[0m\u001b[1;36m6\u001b[0m\u001b[1;33m]\u001b[0m\u001b[1;33m,\u001b[0m\u001b[1;33m[\u001b[0m\u001b[1;36m7\u001b[0m\u001b[1;33m,\u001b[0m\u001b[1;36m8\u001b[0m\u001b[1;33m,\u001b[0m\u001b[1;36m9\u001b[0m\u001b[1;33m]\u001b[0m\u001b[1;33m]\u001b[0m\u001b[1;33m\u001b[0m\u001b[1;33m\u001b[0m\u001b[0m\n\u001b[1;32m----> 9\u001b[1;33m \u001b[0ml\u001b[0m\u001b[1;33m.\u001b[0m\u001b[0mplot\u001b[0m\u001b[1;33m(\u001b[0m\u001b[1;33m)\u001b[0m\u001b[1;33m\u001b[0m\u001b[1;33m\u001b[0m\u001b[0m\n\u001b[0m",
      "\u001b[1;31mAttributeError\u001b[0m: 'list' object has no attribute 'plot'"
     ]
    }
   ],
   "source": [
    "# 1. DataFrame 생성(1) - 리스트자료형으로 DF를 생성\n",
    "# 테이블 형식의 2차원 배열(정확하게는 Matrix)\n",
    "df = pd.DataFrame([[1,2,3],[4,5,6],[7,8,9]])\n",
    "print(df)\n",
    "df.plot()\n",
    "plt.show()\n",
    "\n",
    "l = [[1,2,3],[4,5,6],[7,8,9]]\n",
    "# l.plot() : ㅣ은 리스트형이기 때문에 plot() 함수가 없기 때문에 에러 발생"
   ]
  },
  {
   "cell_type": "code",
   "execution_count": 38,
   "metadata": {},
   "outputs": [
    {
     "data": {
      "text/html": [
       "<div>\n",
       "<style scoped>\n",
       "    .dataframe tbody tr th:only-of-type {\n",
       "        vertical-align: middle;\n",
       "    }\n",
       "\n",
       "    .dataframe tbody tr th {\n",
       "        vertical-align: top;\n",
       "    }\n",
       "\n",
       "    .dataframe thead th {\n",
       "        text-align: right;\n",
       "    }\n",
       "</style>\n",
       "<table border=\"1\" class=\"dataframe\">\n",
       "  <thead>\n",
       "    <tr style=\"text-align: right;\">\n",
       "      <th></th>\n",
       "      <th>체중</th>\n",
       "      <th>신장</th>\n",
       "      <th>성별</th>\n",
       "    </tr>\n",
       "  </thead>\n",
       "  <tbody>\n",
       "    <tr>\n",
       "      <th>소향</th>\n",
       "      <td>80.0</td>\n",
       "      <td>168</td>\n",
       "      <td>F</td>\n",
       "    </tr>\n",
       "    <tr>\n",
       "      <th>손흥민</th>\n",
       "      <td>70.0</td>\n",
       "      <td>180</td>\n",
       "      <td>M</td>\n",
       "    </tr>\n",
       "    <tr>\n",
       "      <th>홍길동</th>\n",
       "      <td>65.5</td>\n",
       "      <td>178</td>\n",
       "      <td>M</td>\n",
       "    </tr>\n",
       "    <tr>\n",
       "      <th>홍길순</th>\n",
       "      <td>45.9</td>\n",
       "      <td>160</td>\n",
       "      <td>F</td>\n",
       "    </tr>\n",
       "    <tr>\n",
       "      <th>홍길자</th>\n",
       "      <td>70.4</td>\n",
       "      <td>158</td>\n",
       "      <td>F</td>\n",
       "    </tr>\n",
       "  </tbody>\n",
       "</table>\n",
       "</div>"
      ],
      "text/plain": [
       "       체중   신장 성별\n",
       "소향   80.0  168  F\n",
       "손흥민  70.0  180  M\n",
       "홍길동  65.5  178  M\n",
       "홍길순  45.9  160  F\n",
       "홍길자  70.4  158  F"
      ]
     },
     "execution_count": 38,
     "metadata": {},
     "output_type": "execute_result"
    }
   ],
   "source": [
    "# 2. DataFrame 생성(2) - 딕셔너리 자료형으로 DF를 생성\n",
    "tbl = pd.DataFrame({\n",
    "    '체중':[80,70,65.5,45.9,70.4],\n",
    "    '신장':[168,180,178,160,158],\n",
    "    '성별':['F','M','M','F','F'],\n",
    "}, index=['소향','손흥민','홍길동','홍길순','홍길자'])\n"
   ]
  },
  {
   "cell_type": "code",
   "execution_count": 46,
   "metadata": {},
   "outputs": [
    {
     "name": "stdout",
     "output_type": "stream",
     "text": [
      "소향     168\n",
      "손흥민    180\n",
      "홍길동    178\n",
      "홍길순    160\n",
      "홍길자    158\n",
      "Name: 신장, dtype: int64\n",
      "소향     168\n",
      "손흥민    180\n",
      "홍길동    178\n",
      "홍길순    160\n",
      "홍길자    158\n",
      "Name: 신장, dtype: int64\n",
      "       체중   신장 성별\n",
      "손흥민  70.0  180  M\n"
     ]
    }
   ],
   "source": [
    "# 손흥민의 신장?\n",
    "# 접근방법 df[열이름] or df.열이름\n",
    "print(tbl['신장'])\n",
    "print(tbl.신장)\n",
    "\n",
    "print(tbl[tbl.신장 == 180])"
   ]
  },
  {
   "cell_type": "code",
   "execution_count": 58,
   "metadata": {},
   "outputs": [
    {
     "name": "stdout",
     "output_type": "stream",
     "text": [
      "       체중   신장 성별\n",
      "손흥민  70.0  180  M\n",
      "홍길동  65.5  178  M\n",
      "       체중   신장 성별\n",
      "손흥민  70.0  180  M\n",
      "홍길동  65.5  178  M\n"
     ]
    },
    {
     "data": {
      "text/plain": [
       "<matplotlib.axes._subplots.AxesSubplot at 0x24716591f48>"
      ]
     },
     "execution_count": 58,
     "metadata": {},
     "output_type": "execute_result"
    },
    {
     "data": {
      "image/png": "[encoded data removed]",
      "text/plain": [
       "<Figure size 432x288 with 1 Axes>"
      ]
     },
     "metadata": {
      "needs_background": "light"
     },
     "output_type": "display_data"
    }
   ],
   "source": [
    "# 실습 \n",
    "# 1. 성별이 남자인 사람만 출력\n",
    "print(tbl[tbl['성별']=='M'])\n",
    "# 2. 신장이 170이상인 사람만 출력\n",
    "print(tbl[tbl['신장']>=170])\n",
    "# 3. tbl을 시각화(kind=\"scatter,bar,line ....\")\n",
    "tbl.plot(kind='bar')"
   ]
  },
  {
   "cell_type": "code",
   "execution_count": 70,
   "metadata": {},
   "outputs": [
    {
     "name": "stdout",
     "output_type": "stream",
     "text": [
      "DatetimeIndex(['2020-03-31', '2020-04-30', '2020-05-31', '2020-06-30',\n",
      "               '2020-07-31', '2020-08-31'],\n",
      "              dtype='datetime64[ns]', freq='M')\n",
      "<class 'pandas.core.indexes.datetimes.DatetimeIndex'>\n"
     ]
    },
    {
     "data": {
      "text/html": [
       "<div>\n",
       "<style scoped>\n",
       "    .dataframe tbody tr th:only-of-type {\n",
       "        vertical-align: middle;\n",
       "    }\n",
       "\n",
       "    .dataframe tbody tr th {\n",
       "        vertical-align: top;\n",
       "    }\n",
       "\n",
       "    .dataframe thead th {\n",
       "        text-align: right;\n",
       "    }\n",
       "</style>\n",
       "<table border=\"1\" class=\"dataframe\">\n",
       "  <thead>\n",
       "    <tr style=\"text-align: right;\">\n",
       "      <th></th>\n",
       "      <th>names</th>\n",
       "      <th>year</th>\n",
       "      <th>points</th>\n",
       "    </tr>\n",
       "  </thead>\n",
       "  <tbody>\n",
       "    <tr>\n",
       "      <th>2019-12-01</th>\n",
       "      <td>소향</td>\n",
       "      <td>2015</td>\n",
       "      <td>1.5</td>\n",
       "    </tr>\n",
       "    <tr>\n",
       "      <th>2019-12-02</th>\n",
       "      <td>손흥민</td>\n",
       "      <td>2016</td>\n",
       "      <td>1.7</td>\n",
       "    </tr>\n",
       "    <tr>\n",
       "      <th>2019-12-03</th>\n",
       "      <td>홍길동</td>\n",
       "      <td>2017</td>\n",
       "      <td>2.6</td>\n",
       "    </tr>\n",
       "    <tr>\n",
       "      <th>2019-12-04</th>\n",
       "      <td>홍길순</td>\n",
       "      <td>2018</td>\n",
       "      <td>3.6</td>\n",
       "    </tr>\n",
       "    <tr>\n",
       "      <th>2019-12-05</th>\n",
       "      <td>홍길자</td>\n",
       "      <td>2019</td>\n",
       "      <td>2.9</td>\n",
       "    </tr>\n",
       "  </tbody>\n",
       "</table>\n",
       "</div>"
      ],
      "text/plain": [
       "           names  year  points\n",
       "2019-12-01    소향  2015     1.5\n",
       "2019-12-02   손흥민  2016     1.7\n",
       "2019-12-03   홍길동  2017     2.6\n",
       "2019-12-04   홍길순  2018     3.6\n",
       "2019-12-05   홍길자  2019     2.9"
      ]
     },
     "execution_count": 70,
     "metadata": {},
     "output_type": "execute_result"
    }
   ],
   "source": [
    "# 3. DataFrame 생성(3) - Numpy배열로 Df를 생성\n",
    "# ?pd.date_range\n",
    "dates = pd.date_range('20200331',periods=6, freq='M')\n",
    "print(dates)\n",
    "print(type(dates))\n",
    "\n",
    "df = pd.DataFrame(np.random.randn(6,4),index=dates,columns=list('ABCD'))\n",
    "df\n",
    "\n",
    "data ={\n",
    "    'names':['소향','손흥민','홍길동','홍길순','홍길자'],\n",
    "    \"year\":[2015,2016,2017,2018,2019],\n",
    "    'points':[1.5, 1.7, 2.6, 3.6, 2.9]\n",
    "}\n",
    "df= pd.DataFrame(data, pd.date_range('20191201',periods=5))\n",
    "df"
   ]
  },
  {
   "cell_type": "code",
   "execution_count": 72,
   "metadata": {},
   "outputs": [
    {
     "name": "stdout",
     "output_type": "stream",
     "text": [
      "<bound method NDFrame.describe of            names  year  points\n",
      "2019-12-01    소향  2015     1.5\n",
      "2019-12-02   손흥민  2016     1.7\n",
      "2019-12-03   홍길동  2017     2.6\n",
      "2019-12-04   홍길순  2018     3.6\n",
      "2019-12-05   홍길자  2019     2.9>\n",
      "              year    points\n",
      "count     5.000000  5.000000\n",
      "mean   2017.000000  2.460000\n",
      "std       1.581139  0.867756\n",
      "min    2015.000000  1.500000\n",
      "25%    2016.000000  1.700000\n",
      "50%    2017.000000  2.600000\n",
      "75%    2018.000000  2.900000\n",
      "max    2019.000000  3.600000\n"
     ]
    }
   ],
   "source": [
    "# describe vs desribe()\n",
    "print(df.describe)# 데이터 프레임 df의 속성을 출력\n",
    "print(df.describe()) # 기초통계정보를 출력\n",
    "\n",
    "# describe() : 기초 통계정보를 출력\n",
    "#               year    points\n",
    "# count   자료 갯수\n",
    "# mean    평균\n",
    "# std     표준편차\n",
    "# min/max     최대값/최소값\n",
    "# 25% ~ 75%   4분위 수"
   ]
  },
  {
   "cell_type": "code",
   "execution_count": 73,
   "metadata": {},
   "outputs": [
    {
     "name": "stdout",
     "output_type": "stream",
     "text": [
      "[['소향' 2015 1.5]\n",
      " ['손흥민' 2016 1.7]\n",
      " ['홍길동' 2017 2.6]\n",
      " ['홍길순' 2018 3.6]\n",
      " ['홍길자' 2019 2.9]]\n",
      "<class 'numpy.ndarray'>\n"
     ]
    }
   ],
   "source": [
    "# df의 값만 출력 : data 타입은 ndarray로 출력\n",
    "print(df.values)\n",
    "print(type(df.values))"
   ]
  },
  {
   "cell_type": "code",
   "execution_count": 77,
   "metadata": {},
   "outputs": [
    {
     "name": "stdout",
     "output_type": "stream",
     "text": [
      "{'names': ['소향', '손흥민', '홍길동', '홍길순', '홍길자'], 'year': [2015, 2016, 2017, 2018, 2019], 'points': [1.5, 1.7, 2.6, 3.6, 2.9]}\n"
     ]
    },
    {
     "data": {
      "text/html": [
       "<div>\n",
       "<style scoped>\n",
       "    .dataframe tbody tr th:only-of-type {\n",
       "        vertical-align: middle;\n",
       "    }\n",
       "\n",
       "    .dataframe tbody tr th {\n",
       "        vertical-align: top;\n",
       "    }\n",
       "\n",
       "    .dataframe thead th {\n",
       "        text-align: right;\n",
       "    }\n",
       "</style>\n",
       "<table border=\"1\" class=\"dataframe\">\n",
       "  <thead>\n",
       "    <tr style=\"text-align: right;\">\n",
       "      <th></th>\n",
       "      <th>names</th>\n",
       "      <th>year</th>\n",
       "      <th>points</th>\n",
       "      <th>penalty</th>\n",
       "    </tr>\n",
       "  </thead>\n",
       "  <tbody>\n",
       "    <tr>\n",
       "      <th>JAN</th>\n",
       "      <td>소향</td>\n",
       "      <td>2015</td>\n",
       "      <td>1.5</td>\n",
       "      <td>NaN</td>\n",
       "    </tr>\n",
       "    <tr>\n",
       "      <th>FEB</th>\n",
       "      <td>손흥민</td>\n",
       "      <td>2016</td>\n",
       "      <td>1.7</td>\n",
       "      <td>NaN</td>\n",
       "    </tr>\n",
       "    <tr>\n",
       "      <th>MAR</th>\n",
       "      <td>홍길동</td>\n",
       "      <td>2017</td>\n",
       "      <td>2.6</td>\n",
       "      <td>NaN</td>\n",
       "    </tr>\n",
       "    <tr>\n",
       "      <th>APR</th>\n",
       "      <td>홍길순</td>\n",
       "      <td>2018</td>\n",
       "      <td>3.6</td>\n",
       "      <td>NaN</td>\n",
       "    </tr>\n",
       "    <tr>\n",
       "      <th>MAY</th>\n",
       "      <td>홍길자</td>\n",
       "      <td>2019</td>\n",
       "      <td>2.9</td>\n",
       "      <td>NaN</td>\n",
       "    </tr>\n",
       "  </tbody>\n",
       "</table>\n",
       "</div>"
      ],
      "text/plain": [
       "    names  year  points penalty\n",
       "JAN    소향  2015     1.5     NaN\n",
       "FEB   손흥민  2016     1.7     NaN\n",
       "MAR   홍길동  2017     2.6     NaN\n",
       "APR   홍길순  2018     3.6     NaN\n",
       "MAY   홍길자  2019     2.9     NaN"
      ]
     },
     "execution_count": 77,
     "metadata": {},
     "output_type": "execute_result"
    }
   ],
   "source": [
    "# 4. DataFrame 생성(4) - 직접 index와 column을 정의해서 DF을 생성\n",
    "# NaN : not a number\n",
    "print(data)\n",
    "df = pd.DataFrame(data,\n",
    "                 columns =['names','year','points','penalty'], #컬럼명정의 & 추가\n",
    "                 index=['JAN','FEB','MAR','APR','MAY'])\n",
    "df"
   ]
  },
  {
   "cell_type": "code",
   "execution_count": 83,
   "metadata": {},
   "outputs": [
    {
     "name": "stdout",
     "output_type": "stream",
     "text": [
      "Index(['JAN', 'FEB', 'MAR', 'APR', 'MAY'], dtype='object')\n",
      "<class 'pandas.core.indexes.base.Index'>\n",
      "Index(['names', 'year', 'points', 'penalty'], dtype='object')\n",
      "<class 'pandas.core.indexes.base.Index'>\n",
      "[['소향' 2015 1.5 nan]\n",
      " ['손흥민' 2016 1.7 nan]\n",
      " ['홍길동' 2017 2.6 nan]\n",
      " ['홍길순' 2018 3.6 nan]\n",
      " ['홍길자' 2019 2.9 nan]]\n",
      "<class 'numpy.ndarray'>\n",
      "JAN    2015\n",
      "FEB    2016\n",
      "MAR    2017\n",
      "APR    2018\n",
      "MAY    2019\n",
      "Name: year, dtype: int64\n",
      "JAN     소향\n",
      "FEB    손흥민\n",
      "MAR    홍길동\n",
      "APR    홍길순\n",
      "MAY    홍길자\n",
      "Name: names, dtype: object\n"
     ]
    }
   ],
   "source": [
    "# 인덱스, 컬럼, 값을 출력\n",
    "print(df.index)\n",
    "print(type(df.index))\n",
    "print(df.columns)\n",
    "print(type(df.columns))\n",
    "print(df.values)\n",
    "print(type(df.values))\n",
    "\n",
    "# 특정컬럼만 출력\n",
    "print(df.year)\n",
    "print(df['names'])"
   ]
  },
  {
   "cell_type": "code",
   "execution_count": 90,
   "metadata": {},
   "outputs": [
    {
     "data": {
      "text/html": [
       "<div>\n",
       "<style scoped>\n",
       "    .dataframe tbody tr th:only-of-type {\n",
       "        vertical-align: middle;\n",
       "    }\n",
       "\n",
       "    .dataframe tbody tr th {\n",
       "        vertical-align: top;\n",
       "    }\n",
       "\n",
       "    .dataframe thead th {\n",
       "        text-align: right;\n",
       "    }\n",
       "</style>\n",
       "<table border=\"1\" class=\"dataframe\">\n",
       "  <thead>\n",
       "    <tr style=\"text-align: right;\">\n",
       "      <th></th>\n",
       "      <th>names</th>\n",
       "      <th>year</th>\n",
       "    </tr>\n",
       "  </thead>\n",
       "  <tbody>\n",
       "    <tr>\n",
       "      <th>JAN</th>\n",
       "      <td>소향</td>\n",
       "      <td>2015</td>\n",
       "    </tr>\n",
       "    <tr>\n",
       "      <th>FEB</th>\n",
       "      <td>손흥민</td>\n",
       "      <td>2016</td>\n",
       "    </tr>\n",
       "    <tr>\n",
       "      <th>MAR</th>\n",
       "      <td>홍길동</td>\n",
       "      <td>2017</td>\n",
       "    </tr>\n",
       "    <tr>\n",
       "      <th>APR</th>\n",
       "      <td>홍길순</td>\n",
       "      <td>2018</td>\n",
       "    </tr>\n",
       "    <tr>\n",
       "      <th>MAY</th>\n",
       "      <td>홍길자</td>\n",
       "      <td>2019</td>\n",
       "    </tr>\n",
       "  </tbody>\n",
       "</table>\n",
       "</div>"
      ],
      "text/plain": [
       "    names  year\n",
       "JAN    소향  2015\n",
       "FEB   손흥민  2016\n",
       "MAR   홍길동  2017\n",
       "APR   홍길순  2018\n",
       "MAY   홍길자  2019"
      ]
     },
     "execution_count": 90,
     "metadata": {},
     "output_type": "execute_result"
    }
   ],
   "source": [
    "# 2개 이상의 값을 출력 즉, 년도와 이름만 출력\n",
    "# 대괄호[]를 2개 사용 즉, [[col1,...coln]]\n",
    "# 리스트 안에 리스트 형태로 정의\n",
    "\n",
    "df[['names','year']]\n"
   ]
  },
  {
   "cell_type": "code",
   "execution_count": 94,
   "metadata": {},
   "outputs": [
    {
     "data": {
      "text/html": [
       "<div>\n",
       "<style scoped>\n",
       "    .dataframe tbody tr th:only-of-type {\n",
       "        vertical-align: middle;\n",
       "    }\n",
       "\n",
       "    .dataframe tbody tr th {\n",
       "        vertical-align: top;\n",
       "    }\n",
       "\n",
       "    .dataframe thead th {\n",
       "        text-align: right;\n",
       "    }\n",
       "</style>\n",
       "<table border=\"1\" class=\"dataframe\">\n",
       "  <thead>\n",
       "    <tr style=\"text-align: right;\">\n",
       "      <th></th>\n",
       "      <th>names</th>\n",
       "      <th>year</th>\n",
       "      <th>points</th>\n",
       "      <th>penalty</th>\n",
       "    </tr>\n",
       "  </thead>\n",
       "  <tbody>\n",
       "    <tr>\n",
       "      <th>JAN</th>\n",
       "      <td>소향</td>\n",
       "      <td>2015</td>\n",
       "      <td>1.5</td>\n",
       "      <td>0.7</td>\n",
       "    </tr>\n",
       "    <tr>\n",
       "      <th>FEB</th>\n",
       "      <td>손흥민</td>\n",
       "      <td>2016</td>\n",
       "      <td>1.7</td>\n",
       "      <td>0.7</td>\n",
       "    </tr>\n",
       "    <tr>\n",
       "      <th>MAR</th>\n",
       "      <td>홍길동</td>\n",
       "      <td>2017</td>\n",
       "      <td>2.6</td>\n",
       "      <td>0.7</td>\n",
       "    </tr>\n",
       "    <tr>\n",
       "      <th>APR</th>\n",
       "      <td>홍길순</td>\n",
       "      <td>2018</td>\n",
       "      <td>3.6</td>\n",
       "      <td>0.7</td>\n",
       "    </tr>\n",
       "    <tr>\n",
       "      <th>MAY</th>\n",
       "      <td>홍길자</td>\n",
       "      <td>2019</td>\n",
       "      <td>2.9</td>\n",
       "      <td>0.7</td>\n",
       "    </tr>\n",
       "  </tbody>\n",
       "</table>\n",
       "</div>"
      ],
      "text/plain": [
       "    names  year  points  penalty\n",
       "JAN    소향  2015     1.5      0.7\n",
       "FEB   손흥민  2016     1.7      0.7\n",
       "MAR   홍길동  2017     2.6      0.7\n",
       "APR   홍길순  2018     3.6      0.7\n",
       "MAY   홍길자  2019     2.9      0.7"
      ]
     },
     "execution_count": 94,
     "metadata": {},
     "output_type": "execute_result"
    }
   ],
   "source": [
    "# 특정열의 값을 변경하기\n",
    "# NaN(결측치)인 값을 특정 값으로 변경\n",
    "# df['컬럼명'] = value or df.컬럼명 = value\n",
    "df.penalty=1.7\n",
    "df\n",
    "df.penalty = 0.7\n",
    "df"
   ]
  },
  {
   "cell_type": "code",
   "execution_count": 96,
   "metadata": {},
   "outputs": [
    {
     "data": {
      "text/html": [
       "<div>\n",
       "<style scoped>\n",
       "    .dataframe tbody tr th:only-of-type {\n",
       "        vertical-align: middle;\n",
       "    }\n",
       "\n",
       "    .dataframe tbody tr th {\n",
       "        vertical-align: top;\n",
       "    }\n",
       "\n",
       "    .dataframe thead th {\n",
       "        text-align: right;\n",
       "    }\n",
       "</style>\n",
       "<table border=\"1\" class=\"dataframe\">\n",
       "  <thead>\n",
       "    <tr style=\"text-align: right;\">\n",
       "      <th></th>\n",
       "      <th>names</th>\n",
       "      <th>year</th>\n",
       "      <th>points</th>\n",
       "      <th>penalty</th>\n",
       "      <th>addvalue1</th>\n",
       "    </tr>\n",
       "  </thead>\n",
       "  <tbody>\n",
       "    <tr>\n",
       "      <th>JAN</th>\n",
       "      <td>소향</td>\n",
       "      <td>2015</td>\n",
       "      <td>1.5</td>\n",
       "      <td>0.7</td>\n",
       "      <td>2.7</td>\n",
       "    </tr>\n",
       "    <tr>\n",
       "      <th>FEB</th>\n",
       "      <td>손흥민</td>\n",
       "      <td>2016</td>\n",
       "      <td>1.7</td>\n",
       "      <td>0.7</td>\n",
       "      <td>2.7</td>\n",
       "    </tr>\n",
       "    <tr>\n",
       "      <th>MAR</th>\n",
       "      <td>홍길동</td>\n",
       "      <td>2017</td>\n",
       "      <td>2.6</td>\n",
       "      <td>0.7</td>\n",
       "      <td>2.7</td>\n",
       "    </tr>\n",
       "    <tr>\n",
       "      <th>APR</th>\n",
       "      <td>홍길순</td>\n",
       "      <td>2018</td>\n",
       "      <td>3.6</td>\n",
       "      <td>0.7</td>\n",
       "      <td>2.7</td>\n",
       "    </tr>\n",
       "    <tr>\n",
       "      <th>MAY</th>\n",
       "      <td>홍길자</td>\n",
       "      <td>2019</td>\n",
       "      <td>2.9</td>\n",
       "      <td>0.7</td>\n",
       "      <td>2.7</td>\n",
       "    </tr>\n",
       "  </tbody>\n",
       "</table>\n",
       "</div>"
      ],
      "text/plain": [
       "    names  year  points  penalty  addvalue1\n",
       "JAN    소향  2015     1.5      0.7        2.7\n",
       "FEB   손흥민  2016     1.7      0.7        2.7\n",
       "MAR   홍길동  2017     2.6      0.7        2.7\n",
       "APR   홍길순  2018     3.6      0.7        2.7\n",
       "MAY   홍길자  2019     2.9      0.7        2.7"
      ]
     },
     "execution_count": 96,
     "metadata": {},
     "output_type": "execute_result"
    }
   ],
   "source": [
    "# 1. 컬럼추가(1) : 컬럼이 없을 경우에 자동으로 초가하기\n",
    "# df['컬럼명']의 형태로 추가해야 한다. df.컬럼명은 불가능하다\n",
    "df['addvalue1'] = 2.7\n",
    "df"
   ]
  },
  {
   "cell_type": "code",
   "execution_count": 98,
   "metadata": {},
   "outputs": [
    {
     "data": {
      "text/html": [
       "<div>\n",
       "<style scoped>\n",
       "    .dataframe tbody tr th:only-of-type {\n",
       "        vertical-align: middle;\n",
       "    }\n",
       "\n",
       "    .dataframe tbody tr th {\n",
       "        vertical-align: top;\n",
       "    }\n",
       "\n",
       "    .dataframe thead th {\n",
       "        text-align: right;\n",
       "    }\n",
       "</style>\n",
       "<table border=\"1\" class=\"dataframe\">\n",
       "  <thead>\n",
       "    <tr style=\"text-align: right;\">\n",
       "      <th></th>\n",
       "      <th>names</th>\n",
       "      <th>year</th>\n",
       "      <th>points</th>\n",
       "      <th>penalty</th>\n",
       "      <th>addvalue1</th>\n",
       "      <th>age</th>\n",
       "    </tr>\n",
       "  </thead>\n",
       "  <tbody>\n",
       "    <tr>\n",
       "      <th>JAN</th>\n",
       "      <td>소향</td>\n",
       "      <td>2015</td>\n",
       "      <td>1.5</td>\n",
       "      <td>0.7</td>\n",
       "      <td>2.7</td>\n",
       "      <td>10</td>\n",
       "    </tr>\n",
       "    <tr>\n",
       "      <th>FEB</th>\n",
       "      <td>손흥민</td>\n",
       "      <td>2016</td>\n",
       "      <td>1.7</td>\n",
       "      <td>0.7</td>\n",
       "      <td>2.7</td>\n",
       "      <td>11</td>\n",
       "    </tr>\n",
       "    <tr>\n",
       "      <th>MAR</th>\n",
       "      <td>홍길동</td>\n",
       "      <td>2017</td>\n",
       "      <td>2.6</td>\n",
       "      <td>0.7</td>\n",
       "      <td>2.7</td>\n",
       "      <td>12</td>\n",
       "    </tr>\n",
       "    <tr>\n",
       "      <th>APR</th>\n",
       "      <td>홍길순</td>\n",
       "      <td>2018</td>\n",
       "      <td>3.6</td>\n",
       "      <td>0.7</td>\n",
       "      <td>2.7</td>\n",
       "      <td>13</td>\n",
       "    </tr>\n",
       "    <tr>\n",
       "      <th>MAY</th>\n",
       "      <td>홍길자</td>\n",
       "      <td>2019</td>\n",
       "      <td>2.9</td>\n",
       "      <td>0.7</td>\n",
       "      <td>2.7</td>\n",
       "      <td>14</td>\n",
       "    </tr>\n",
       "  </tbody>\n",
       "</table>\n",
       "</div>"
      ],
      "text/plain": [
       "    names  year  points  penalty  addvalue1  age\n",
       "JAN    소향  2015     1.5      0.7        2.7   10\n",
       "FEB   손흥민  2016     1.7      0.7        2.7   11\n",
       "MAR   홍길동  2017     2.6      0.7        2.7   12\n",
       "APR   홍길순  2018     3.6      0.7        2.7   13\n",
       "MAY   홍길자  2019     2.9      0.7        2.7   14"
      ]
     },
     "execution_count": 98,
     "metadata": {},
     "output_type": "execute_result"
    }
   ],
   "source": [
    "# 2. 컬럼추가(2)\n",
    "df['age'] = np.arange(10,15)\n",
    "df"
   ]
  },
  {
   "cell_type": "code",
   "execution_count": 107,
   "metadata": {},
   "outputs": [
    {
     "data": {
      "text/html": [
       "<div>\n",
       "<style scoped>\n",
       "    .dataframe tbody tr th:only-of-type {\n",
       "        vertical-align: middle;\n",
       "    }\n",
       "\n",
       "    .dataframe tbody tr th {\n",
       "        vertical-align: top;\n",
       "    }\n",
       "\n",
       "    .dataframe thead th {\n",
       "        text-align: right;\n",
       "    }\n",
       "</style>\n",
       "<table border=\"1\" class=\"dataframe\">\n",
       "  <thead>\n",
       "    <tr style=\"text-align: right;\">\n",
       "      <th></th>\n",
       "      <th>names</th>\n",
       "      <th>year</th>\n",
       "      <th>points</th>\n",
       "      <th>addvalue1</th>\n",
       "    </tr>\n",
       "  </thead>\n",
       "  <tbody>\n",
       "    <tr>\n",
       "      <th>JAN</th>\n",
       "      <td>소향</td>\n",
       "      <td>2015</td>\n",
       "      <td>1.5</td>\n",
       "      <td>2.7</td>\n",
       "    </tr>\n",
       "    <tr>\n",
       "      <th>FEB</th>\n",
       "      <td>손흥민</td>\n",
       "      <td>2016</td>\n",
       "      <td>1.7</td>\n",
       "      <td>2.7</td>\n",
       "    </tr>\n",
       "    <tr>\n",
       "      <th>MAR</th>\n",
       "      <td>홍길동</td>\n",
       "      <td>2017</td>\n",
       "      <td>2.6</td>\n",
       "      <td>2.7</td>\n",
       "    </tr>\n",
       "    <tr>\n",
       "      <th>APR</th>\n",
       "      <td>홍길순</td>\n",
       "      <td>2018</td>\n",
       "      <td>3.6</td>\n",
       "      <td>2.7</td>\n",
       "    </tr>\n",
       "    <tr>\n",
       "      <th>MAY</th>\n",
       "      <td>홍길자</td>\n",
       "      <td>2019</td>\n",
       "      <td>2.9</td>\n",
       "      <td>2.7</td>\n",
       "    </tr>\n",
       "  </tbody>\n",
       "</table>\n",
       "</div>"
      ],
      "text/plain": [
       "    names  year  points  addvalue1\n",
       "JAN    소향  2015     1.5        2.7\n",
       "FEB   손흥민  2016     1.7        2.7\n",
       "MAR   홍길동  2017     2.6        2.7\n",
       "APR   홍길순  2018     3.6        2.7\n",
       "MAY   홍길자  2019     2.9        2.7"
      ]
     },
     "execution_count": 107,
     "metadata": {},
     "output_type": "execute_result"
    }
   ],
   "source": [
    "# 3. 컬럼 삭제하기 (1)\n",
    "# df.drop([col1...coln],axis) : axia=0(행),axis =1(열)\n",
    "# df = df.drop(['penalty'],1)\n",
    "df"
   ]
  },
  {
   "cell_type": "code",
   "execution_count": 108,
   "metadata": {},
   "outputs": [
    {
     "data": {
      "text/html": [
       "<div>\n",
       "<style scoped>\n",
       "    .dataframe tbody tr th:only-of-type {\n",
       "        vertical-align: middle;\n",
       "    }\n",
       "\n",
       "    .dataframe tbody tr th {\n",
       "        vertical-align: top;\n",
       "    }\n",
       "\n",
       "    .dataframe thead th {\n",
       "        text-align: right;\n",
       "    }\n",
       "</style>\n",
       "<table border=\"1\" class=\"dataframe\">\n",
       "  <thead>\n",
       "    <tr style=\"text-align: right;\">\n",
       "      <th></th>\n",
       "      <th>names</th>\n",
       "      <th>year</th>\n",
       "      <th>points</th>\n",
       "      <th>addvalue1</th>\n",
       "    </tr>\n",
       "  </thead>\n",
       "  <tbody>\n",
       "    <tr>\n",
       "      <th>JAN</th>\n",
       "      <td>소향</td>\n",
       "      <td>2015</td>\n",
       "      <td>1.5</td>\n",
       "      <td>2.7</td>\n",
       "    </tr>\n",
       "    <tr>\n",
       "      <th>FEB</th>\n",
       "      <td>손흥민</td>\n",
       "      <td>2016</td>\n",
       "      <td>1.7</td>\n",
       "      <td>2.7</td>\n",
       "    </tr>\n",
       "    <tr>\n",
       "      <th>MAR</th>\n",
       "      <td>홍길동</td>\n",
       "      <td>2017</td>\n",
       "      <td>2.6</td>\n",
       "      <td>2.7</td>\n",
       "    </tr>\n",
       "    <tr>\n",
       "      <th>APR</th>\n",
       "      <td>홍길순</td>\n",
       "      <td>2018</td>\n",
       "      <td>3.6</td>\n",
       "      <td>2.7</td>\n",
       "    </tr>\n",
       "    <tr>\n",
       "      <th>MAY</th>\n",
       "      <td>홍길자</td>\n",
       "      <td>2019</td>\n",
       "      <td>2.9</td>\n",
       "      <td>2.7</td>\n",
       "    </tr>\n",
       "  </tbody>\n",
       "</table>\n",
       "</div>"
      ],
      "text/plain": [
       "    names  year  points  addvalue1\n",
       "JAN    소향  2015     1.5        2.7\n",
       "FEB   손흥민  2016     1.7        2.7\n",
       "MAR   홍길동  2017     2.6        2.7\n",
       "APR   홍길순  2018     3.6        2.7\n",
       "MAY   홍길자  2019     2.9        2.7"
      ]
     },
     "execution_count": 108,
     "metadata": {},
     "output_type": "execute_result"
    }
   ],
   "source": [
    "# 4. 컬럼 삭제하기 (2) -del 명령어 사용하기\n",
    "# del df['age']\n",
    "df"
   ]
  },
  {
   "cell_type": "code",
   "execution_count": 112,
   "metadata": {},
   "outputs": [
    {
     "data": {
      "text/html": [
       "<div>\n",
       "<style scoped>\n",
       "    .dataframe tbody tr th:only-of-type {\n",
       "        vertical-align: middle;\n",
       "    }\n",
       "\n",
       "    .dataframe tbody tr th {\n",
       "        vertical-align: top;\n",
       "    }\n",
       "\n",
       "    .dataframe thead th {\n",
       "        text-align: right;\n",
       "    }\n",
       "</style>\n",
       "<table border=\"1\" class=\"dataframe\">\n",
       "  <thead>\n",
       "    <tr style=\"text-align: right;\">\n",
       "      <th></th>\n",
       "      <th>names</th>\n",
       "      <th>year</th>\n",
       "      <th>points</th>\n",
       "    </tr>\n",
       "  </thead>\n",
       "  <tbody>\n",
       "    <tr>\n",
       "      <th>MON</th>\n",
       "      <td>소향</td>\n",
       "      <td>2015</td>\n",
       "      <td>1.5</td>\n",
       "    </tr>\n",
       "    <tr>\n",
       "      <th>THU</th>\n",
       "      <td>손흥민</td>\n",
       "      <td>2016</td>\n",
       "      <td>1.7</td>\n",
       "    </tr>\n",
       "    <tr>\n",
       "      <th>WED</th>\n",
       "      <td>홍길동</td>\n",
       "      <td>2017</td>\n",
       "      <td>2.6</td>\n",
       "    </tr>\n",
       "    <tr>\n",
       "      <th>THR</th>\n",
       "      <td>홍길순</td>\n",
       "      <td>2018</td>\n",
       "      <td>3.6</td>\n",
       "    </tr>\n",
       "    <tr>\n",
       "      <th>FRI</th>\n",
       "      <td>홍길자</td>\n",
       "      <td>2019</td>\n",
       "      <td>2.9</td>\n",
       "    </tr>\n",
       "  </tbody>\n",
       "</table>\n",
       "</div>"
      ],
      "text/plain": [
       "    names  year  points\n",
       "MON    소향  2015     1.5\n",
       "THU   손흥민  2016     1.7\n",
       "WED   홍길동  2017     2.6\n",
       "THR   홍길순  2018     3.6\n",
       "FRI   홍길자  2019     2.9"
      ]
     },
     "execution_count": 112,
     "metadata": {},
     "output_type": "execute_result"
    }
   ],
   "source": [
    "# 인덱스 변경\n",
    "df =pd.DataFrame(data, index=['MON','THU','WED','THR','FRI'])\n",
    "df"
   ]
  },
  {
   "cell_type": "code",
   "execution_count": 117,
   "metadata": {},
   "outputs": [
    {
     "data": {
      "text/html": [
       "<div>\n",
       "<style scoped>\n",
       "    .dataframe tbody tr th:only-of-type {\n",
       "        vertical-align: middle;\n",
       "    }\n",
       "\n",
       "    .dataframe tbody tr th {\n",
       "        vertical-align: top;\n",
       "    }\n",
       "\n",
       "    .dataframe thead th {\n",
       "        text-align: right;\n",
       "    }\n",
       "</style>\n",
       "<table border=\"1\" class=\"dataframe\">\n",
       "  <thead>\n",
       "    <tr style=\"text-align: right;\">\n",
       "      <th></th>\n",
       "      <th>names</th>\n",
       "      <th>year</th>\n",
       "      <th>points</th>\n",
       "    </tr>\n",
       "  </thead>\n",
       "  <tbody>\n",
       "    <tr>\n",
       "      <th>MON</th>\n",
       "      <td>소향</td>\n",
       "      <td>2015</td>\n",
       "      <td>1.5</td>\n",
       "    </tr>\n",
       "    <tr>\n",
       "      <th>THU</th>\n",
       "      <td>손흥민</td>\n",
       "      <td>2016</td>\n",
       "      <td>1.7</td>\n",
       "    </tr>\n",
       "    <tr>\n",
       "      <th>WED</th>\n",
       "      <td>홍길동</td>\n",
       "      <td>2017</td>\n",
       "      <td>2.6</td>\n",
       "    </tr>\n",
       "  </tbody>\n",
       "</table>\n",
       "</div>"
      ],
      "text/plain": [
       "    names  year  points\n",
       "MON    소향  2015     1.5\n",
       "THU   손흥민  2016     1.7\n",
       "WED   홍길동  2017     2.6"
      ]
     },
     "execution_count": 117,
     "metadata": {},
     "output_type": "execute_result"
    }
   ],
   "source": [
    "# df에서 슬라이싱과 인덱싱\n",
    "# 인덱스 명으로도 접근할 수 있고, 숫자인덱스로 접근이 가능\n",
    "df[0:2]\n",
    "df['MON':'WED']"
   ]
  },
  {
   "cell_type": "markdown",
   "metadata": {},
   "source": [
    "#### 3. pandas 기본함수\n",
    "\n",
    "* csv파일을 load/save\n",
    " - df = pd.read_csv('../data/file.csv')\n",
    " - df.to_csv('../data/file.csv')\n",
    "* DataFrame의 데이터 확인\n",
    " - df.shape()\n",
    " - df.info()\n",
    " - df.columns()\n",
    " - df.dtypes\n",
    " - df.head(n) : 처음부터, n이 지정이 안되면 5건 지정되면 지정건수\n",
    " - df.tail(n) : 맨뒤에서부터, \n",
    "* null 갯수 확인\n",
    " - df.isnull().sum()\n",
    "* 특정 컬럼/행을 삭제 drop 할때는 결과를 업어쳐줄것\n",
    " - df = df.drop(['컬럼명'], axis =1 ) 컬럼 날림\n",
    " - df = df.drop(['행']) 행 날림\n",
    "* 특정 컬럼이름 변경\n",
    " - df = df.rename(columns={'A':'AA'})\n",
    "* 특정 컬럼의 값을 새로운 컬럼으로 만들기\n",
    " - df['A'] = df['B'].str[:5] : 왼쪽에서 5개 문자열을 A에서 B로 바꿔라\n",
    " - df['A'] = df['B'].str[:-5] : 오른쪽에서 5개 문자열을 A에서 B로 바꿔라\n",
    " \n",
    "* 컬럼순서를 변경\n",
    " - df = pd.DataFrame(df,columns=['C','B','A']) -> ABC를 CBA로 변경\n",
    "* df 합치기\n",
    " - df_result=pd.concat([df1,df2], ignore_index= True)\n",
    "* df중복 확인, 제거\n",
    " - df.duplicated(): 중복확인\n",
    " - df.drop_duplicates() : 중복 제거\n",
    "* df의 행,열의 위치\n",
    " - df.loc()\n",
    " - df.iloc()\n",
    " "
   ]
  },
  {
   "cell_type": "code",
   "execution_count": 123,
   "metadata": {},
   "outputs": [
    {
     "name": "stdout",
     "output_type": "stream",
     "text": [
      "    names  year  points\n",
      "MON    소향  2015     1.5\n",
      "THU   손흥민  2016     1.7\n",
      "    names  year  points\n",
      "THR   홍길순  2018     3.6\n",
      "FRI   홍길자  2019     2.9\n"
     ]
    }
   ],
   "source": [
    "# 1. head() 앞에서 5행, tail() 뒤에서 5행, 숫자지정되었다면 숫자만큼\n",
    "print(df.head(2))\n",
    "print(df.tail(2))"
   ]
  },
  {
   "cell_type": "code",
   "execution_count": 136,
   "metadata": {},
   "outputs": [
    {
     "data": {
      "text/html": [
       "<div>\n",
       "<style scoped>\n",
       "    .dataframe tbody tr th:only-of-type {\n",
       "        vertical-align: middle;\n",
       "    }\n",
       "\n",
       "    .dataframe tbody tr th {\n",
       "        vertical-align: top;\n",
       "    }\n",
       "\n",
       "    .dataframe thead th {\n",
       "        text-align: right;\n",
       "    }\n",
       "</style>\n",
       "<table border=\"1\" class=\"dataframe\">\n",
       "  <thead>\n",
       "    <tr style=\"text-align: right;\">\n",
       "      <th></th>\n",
       "      <th>year</th>\n",
       "      <th>names</th>\n",
       "    </tr>\n",
       "  </thead>\n",
       "  <tbody>\n",
       "    <tr>\n",
       "      <th>two</th>\n",
       "      <td>2016</td>\n",
       "      <td>손흥민</td>\n",
       "    </tr>\n",
       "    <tr>\n",
       "      <th>three</th>\n",
       "      <td>2017</td>\n",
       "      <td>홍길동</td>\n",
       "    </tr>\n",
       "  </tbody>\n",
       "</table>\n",
       "</div>"
      ],
      "text/plain": [
       "       year names\n",
       "two    2016   손흥민\n",
       "three  2017   홍길동"
      ]
     },
     "execution_count": 136,
     "metadata": {},
     "output_type": "execute_result"
    }
   ],
   "source": [
    "# 2. loc() :df에서 열이나 행을 선택하는 함수\n",
    "# 숫자 인덱스 사용은 불가, 행 or 열로 접근이 가능하다.\n",
    "# 한행만 선택했을 경우에는 text형태로, 2개 이상일 경우는 table형태로 출력\n",
    "df = pd.DataFrame(data,index=['one','two','three','four','five'])\n",
    "df\n",
    "df.loc['two'] # 인덱스가 two 인 행을 text형태로 출력\n",
    "df.loc['two':'four'] # two 부터 four 까지의 행을 텍스트 형태로 출력\n",
    "# df.loc[0] 숫자 인덱스 사용 불가능\n",
    "\n",
    "# 조금 더 복잡한 loc()\n",
    "# 전체 행중에 year와 names 만 선택 : [[컬럼1....컬럼 n]]\n",
    "df[['year','names']].loc['two':'three']\n",
    "df.loc['two':'three',['year','names']]\n"
   ]
  },
  {
   "cell_type": "code",
   "execution_count": 143,
   "metadata": {},
   "outputs": [
    {
     "data": {
      "text/plain": [
       "2.6"
      ]
     },
     "execution_count": 143,
     "metadata": {},
     "output_type": "execute_result"
    }
   ],
   "source": [
    "# 3. iloc() # 숫자 인덱스로 접근 가능\n",
    "df.iloc[3]\n",
    "\n",
    "# 행과 열 범위를 지정해서 출력\n",
    "df.iloc[1:4,0:2]\n",
    "\n",
    "# 콜론 없이 출력\n",
    "df.iloc[2,2] # x,y 위치"
   ]
  },
  {
   "cell_type": "code",
   "execution_count": 155,
   "metadata": {},
   "outputs": [
    {
     "data": {
      "text/html": [
       "<div>\n",
       "<style scoped>\n",
       "    .dataframe tbody tr th:only-of-type {\n",
       "        vertical-align: middle;\n",
       "    }\n",
       "\n",
       "    .dataframe tbody tr th {\n",
       "        vertical-align: top;\n",
       "    }\n",
       "\n",
       "    .dataframe thead th {\n",
       "        text-align: right;\n",
       "    }\n",
       "</style>\n",
       "<table border=\"1\" class=\"dataframe\">\n",
       "  <thead>\n",
       "    <tr style=\"text-align: right;\">\n",
       "      <th></th>\n",
       "      <th>names</th>\n",
       "      <th>year</th>\n",
       "      <th>points</th>\n",
       "    </tr>\n",
       "  </thead>\n",
       "  <tbody>\n",
       "    <tr>\n",
       "      <th>three</th>\n",
       "      <td>홍길동</td>\n",
       "      <td>2017</td>\n",
       "      <td>2.6</td>\n",
       "    </tr>\n",
       "    <tr>\n",
       "      <th>four</th>\n",
       "      <td>홍길순</td>\n",
       "      <td>2018</td>\n",
       "      <td>3.6</td>\n",
       "    </tr>\n",
       "    <tr>\n",
       "      <th>five</th>\n",
       "      <td>홍길자</td>\n",
       "      <td>2019</td>\n",
       "      <td>2.9</td>\n",
       "    </tr>\n",
       "  </tbody>\n",
       "</table>\n",
       "</div>"
      ],
      "text/plain": [
       "      names  year  points\n",
       "three   홍길동  2017     2.6\n",
       "four    홍길순  2018     3.6\n",
       "five    홍길자  2019     2.9"
      ]
     },
     "execution_count": 155,
     "metadata": {},
     "output_type": "execute_result"
    }
   ],
   "source": [
    "# 4. boolean 인덱스 : 조건이 일치하는 행만 출력하기\n",
    "# 2016년보다 큰 자료만 출력\n",
    "df[df['year']>2016]\n",
    "df[df.year>2016]\n",
    "df.loc[df.year>2016,:]"
   ]
  },
  {
   "cell_type": "code",
   "execution_count": 169,
   "metadata": {},
   "outputs": [],
   "source": [
    "# 행 삭제\n",
    "# index가 날짜형태로 된 자료를 삭제할 경우에는 날짜형태의 문자를\n",
    "# 날짜 자료형으로 변경후 삭제\n",
    "df = pd.DataFrame(np.random.rand(6,4))\n",
    "df\n",
    "df.columns=['A','B','C','D']\n",
    "df.index = pd.date_range('20200101',periods=6)"
   ]
  },
  {
   "cell_type": "code",
   "execution_count": 166,
   "metadata": {},
   "outputs": [
    {
     "data": {
      "text/html": [
       "<div>\n",
       "<style scoped>\n",
       "    .dataframe tbody tr th:only-of-type {\n",
       "        vertical-align: middle;\n",
       "    }\n",
       "\n",
       "    .dataframe tbody tr th {\n",
       "        vertical-align: top;\n",
       "    }\n",
       "\n",
       "    .dataframe thead th {\n",
       "        text-align: right;\n",
       "    }\n",
       "</style>\n",
       "<table border=\"1\" class=\"dataframe\">\n",
       "  <thead>\n",
       "    <tr style=\"text-align: right;\">\n",
       "      <th></th>\n",
       "      <th>A</th>\n",
       "      <th>B</th>\n",
       "      <th>C</th>\n",
       "    </tr>\n",
       "  </thead>\n",
       "  <tbody>\n",
       "    <tr>\n",
       "      <th>2020-01-01</th>\n",
       "      <td>0.596233</td>\n",
       "      <td>0.878538</td>\n",
       "      <td>0.766859</td>\n",
       "    </tr>\n",
       "    <tr>\n",
       "      <th>2020-01-02</th>\n",
       "      <td>0.672495</td>\n",
       "      <td>0.333887</td>\n",
       "      <td>0.612127</td>\n",
       "    </tr>\n",
       "    <tr>\n",
       "      <th>2020-01-03</th>\n",
       "      <td>0.599013</td>\n",
       "      <td>0.091011</td>\n",
       "      <td>0.323645</td>\n",
       "    </tr>\n",
       "    <tr>\n",
       "      <th>2020-01-04</th>\n",
       "      <td>0.764159</td>\n",
       "      <td>0.824575</td>\n",
       "      <td>0.848096</td>\n",
       "    </tr>\n",
       "    <tr>\n",
       "      <th>2020-01-05</th>\n",
       "      <td>0.890536</td>\n",
       "      <td>0.724121</td>\n",
       "      <td>0.835246</td>\n",
       "    </tr>\n",
       "    <tr>\n",
       "      <th>2020-01-06</th>\n",
       "      <td>0.081506</td>\n",
       "      <td>0.558167</td>\n",
       "      <td>0.729792</td>\n",
       "    </tr>\n",
       "  </tbody>\n",
       "</table>\n",
       "</div>"
      ],
      "text/plain": [
       "                   A         B         C\n",
       "2020-01-01  0.596233  0.878538  0.766859\n",
       "2020-01-02  0.672495  0.333887  0.612127\n",
       "2020-01-03  0.599013  0.091011  0.323645\n",
       "2020-01-04  0.764159  0.824575  0.848096\n",
       "2020-01-05  0.890536  0.724121  0.835246\n",
       "2020-01-06  0.081506  0.558167  0.729792"
      ]
     },
     "execution_count": 166,
     "metadata": {},
     "output_type": "execute_result"
    }
   ],
   "source": [
    "# 열삭제 \n",
    "del df['D']\n",
    "df"
   ]
  },
  {
   "cell_type": "code",
   "execution_count": 170,
   "metadata": {},
   "outputs": [
    {
     "ename": "ValueError",
     "evalue": "Need to specify at least one of 'labels', 'index' or 'columns'",
     "output_type": "error",
     "traceback": [
      "\u001b[1;31m---------------------------------------------------------------------------\u001b[0m",
      "\u001b[1;31mValueError\u001b[0m                                Traceback (most recent call last)",
      "\u001b[1;32m<ipython-input-170-579b78b56fc7>\u001b[0m in \u001b[0;36m<module>\u001b[1;34m\u001b[0m\n\u001b[0;32m      1\u001b[0m \u001b[1;31m# 여러 컬럼 삭제\u001b[0m\u001b[1;33m\u001b[0m\u001b[1;33m\u001b[0m\u001b[1;33m\u001b[0m\u001b[0m\n\u001b[1;32m----> 2\u001b[1;33m \u001b[0mdf\u001b[0m \u001b[1;33m=\u001b[0m \u001b[0mdf\u001b[0m\u001b[1;33m.\u001b[0m\u001b[0mdrop\u001b[0m\u001b[1;33m(\u001b[0m\u001b[1;33m)\u001b[0m\u001b[1;33m\u001b[0m\u001b[1;33m\u001b[0m\u001b[0m\n\u001b[0m\u001b[0;32m      3\u001b[0m \u001b[0mdf\u001b[0m \u001b[1;33m=\u001b[0m \u001b[0mdf\u001b[0m\u001b[1;33m.\u001b[0m\u001b[0mdrop\u001b[0m\u001b[1;33m(\u001b[0m\u001b[1;33m[\u001b[0m\u001b[1;34m'B'\u001b[0m\u001b[1;33m,\u001b[0m \u001b[1;34m'C'\u001b[0m\u001b[1;33m]\u001b[0m\u001b[1;33m,\u001b[0m \u001b[1;36m1\u001b[0m\u001b[1;33m)\u001b[0m\u001b[1;33m\u001b[0m\u001b[1;33m\u001b[0m\u001b[0m\n\u001b[0;32m      4\u001b[0m \u001b[0mdf\u001b[0m\u001b[1;33m\u001b[0m\u001b[1;33m\u001b[0m\u001b[0m\n",
      "\u001b[1;32mC:\\Anaconda3\\lib\\site-packages\\pandas\\core\\frame.py\u001b[0m in \u001b[0;36mdrop\u001b[1;34m(self, labels, axis, index, columns, level, inplace, errors)\u001b[0m\n\u001b[0;32m   3995\u001b[0m             \u001b[0mlevel\u001b[0m\u001b[1;33m=\u001b[0m\u001b[0mlevel\u001b[0m\u001b[1;33m,\u001b[0m\u001b[1;33m\u001b[0m\u001b[1;33m\u001b[0m\u001b[0m\n\u001b[0;32m   3996\u001b[0m             \u001b[0minplace\u001b[0m\u001b[1;33m=\u001b[0m\u001b[0minplace\u001b[0m\u001b[1;33m,\u001b[0m\u001b[1;33m\u001b[0m\u001b[1;33m\u001b[0m\u001b[0m\n\u001b[1;32m-> 3997\u001b[1;33m             \u001b[0merrors\u001b[0m\u001b[1;33m=\u001b[0m\u001b[0merrors\u001b[0m\u001b[1;33m,\u001b[0m\u001b[1;33m\u001b[0m\u001b[1;33m\u001b[0m\u001b[0m\n\u001b[0m\u001b[0;32m   3998\u001b[0m         )\n\u001b[0;32m   3999\u001b[0m \u001b[1;33m\u001b[0m\u001b[0m\n",
      "\u001b[1;32mC:\\Anaconda3\\lib\\site-packages\\pandas\\core\\generic.py\u001b[0m in \u001b[0;36mdrop\u001b[1;34m(self, labels, axis, index, columns, level, inplace, errors)\u001b[0m\n\u001b[0;32m   3927\u001b[0m         \u001b[1;32melse\u001b[0m\u001b[1;33m:\u001b[0m\u001b[1;33m\u001b[0m\u001b[1;33m\u001b[0m\u001b[0m\n\u001b[0;32m   3928\u001b[0m             raise ValueError(\n\u001b[1;32m-> 3929\u001b[1;33m                 \u001b[1;34m\"Need to specify at least one of 'labels', 'index' or 'columns'\"\u001b[0m\u001b[1;33m\u001b[0m\u001b[1;33m\u001b[0m\u001b[0m\n\u001b[0m\u001b[0;32m   3930\u001b[0m             )\n\u001b[0;32m   3931\u001b[0m \u001b[1;33m\u001b[0m\u001b[0m\n",
      "\u001b[1;31mValueError\u001b[0m: Need to specify at least one of 'labels', 'index' or 'columns'"
     ]
    }
   ],
   "source": [
    "# 여러 컬럼 삭제\n",
    "df = df.drop()\n",
    "df = df.drop(['B', 'C'], 1)\n",
    "df"
   ]
  },
  {
   "cell_type": "code",
   "execution_count": 163,
   "metadata": {},
   "outputs": [
    {
     "name": "stdout",
     "output_type": "stream",
     "text": [
      "<class 'pandas.core.indexes.datetimes.DatetimeIndex'>\n"
     ]
    },
    {
     "data": {
      "text/html": [
       "<div>\n",
       "<style scoped>\n",
       "    .dataframe tbody tr th:only-of-type {\n",
       "        vertical-align: middle;\n",
       "    }\n",
       "\n",
       "    .dataframe tbody tr th {\n",
       "        vertical-align: top;\n",
       "    }\n",
       "\n",
       "    .dataframe thead th {\n",
       "        text-align: right;\n",
       "    }\n",
       "</style>\n",
       "<table border=\"1\" class=\"dataframe\">\n",
       "  <thead>\n",
       "    <tr style=\"text-align: right;\">\n",
       "      <th></th>\n",
       "      <th>A</th>\n",
       "      <th>B</th>\n",
       "      <th>C</th>\n",
       "    </tr>\n",
       "  </thead>\n",
       "  <tbody>\n",
       "    <tr>\n",
       "      <th>2020-01-01</th>\n",
       "      <td>0.918895</td>\n",
       "      <td>0.489236</td>\n",
       "      <td>0.192820</td>\n",
       "    </tr>\n",
       "    <tr>\n",
       "      <th>2020-01-02</th>\n",
       "      <td>0.973245</td>\n",
       "      <td>0.512932</td>\n",
       "      <td>0.340871</td>\n",
       "    </tr>\n",
       "    <tr>\n",
       "      <th>2020-01-04</th>\n",
       "      <td>0.228171</td>\n",
       "      <td>0.578312</td>\n",
       "      <td>0.103896</td>\n",
       "    </tr>\n",
       "    <tr>\n",
       "      <th>2020-01-06</th>\n",
       "      <td>0.691436</td>\n",
       "      <td>0.590091</td>\n",
       "      <td>0.568034</td>\n",
       "    </tr>\n",
       "  </tbody>\n",
       "</table>\n",
       "</div>"
      ],
      "text/plain": [
       "                   A         B         C\n",
       "2020-01-01  0.918895  0.489236  0.192820\n",
       "2020-01-02  0.973245  0.512932  0.340871\n",
       "2020-01-04  0.228171  0.578312  0.103896\n",
       "2020-01-06  0.691436  0.590091  0.568034"
      ]
     },
     "execution_count": 163,
     "metadata": {},
     "output_type": "execute_result"
    }
   ],
   "source": [
    "print(type(df.index))\n",
    "# df = df.drop(['20200103','20200105']) 날짜와  문자열이 서로 맞지 않아 타입 에러 발생\n",
    "# df= df.drop([pd.to_datetime('20200103'),pd.to_datetime('20200105')])\n",
    "df"
   ]
  },
  {
   "cell_type": "markdown",
   "metadata": {},
   "source": [
    "#### 4. pandas의 데이터분석용 함수\n",
    "\n",
    "* sum() : 행 또는 열의 합\n",
    "* mean() : 행 또는 열의 평균\n",
    "* var() : 분산\n",
    "* T: pivot기능\n",
    "* groupby() \n",
    "* agg()"
   ]
  },
  {
   "cell_type": "code",
   "execution_count": 174,
   "metadata": {},
   "outputs": [
    {
     "data": {
      "text/html": [
       "<div>\n",
       "<style scoped>\n",
       "    .dataframe tbody tr th:only-of-type {\n",
       "        vertical-align: middle;\n",
       "    }\n",
       "\n",
       "    .dataframe tbody tr th {\n",
       "        vertical-align: top;\n",
       "    }\n",
       "\n",
       "    .dataframe thead th {\n",
       "        text-align: right;\n",
       "    }\n",
       "</style>\n",
       "<table border=\"1\" class=\"dataframe\">\n",
       "  <thead>\n",
       "    <tr style=\"text-align: right;\">\n",
       "      <th></th>\n",
       "      <th>weight</th>\n",
       "      <th>height</th>\n",
       "    </tr>\n",
       "  </thead>\n",
       "  <tbody>\n",
       "    <tr>\n",
       "      <th>0</th>\n",
       "      <td>80.0</td>\n",
       "      <td>170</td>\n",
       "    </tr>\n",
       "    <tr>\n",
       "      <th>1</th>\n",
       "      <td>70.4</td>\n",
       "      <td>180</td>\n",
       "    </tr>\n",
       "    <tr>\n",
       "      <th>2</th>\n",
       "      <td>65.5</td>\n",
       "      <td>155</td>\n",
       "    </tr>\n",
       "    <tr>\n",
       "      <th>3</th>\n",
       "      <td>45.9</td>\n",
       "      <td>143</td>\n",
       "    </tr>\n",
       "    <tr>\n",
       "      <th>4</th>\n",
       "      <td>51.5</td>\n",
       "      <td>154</td>\n",
       "    </tr>\n",
       "  </tbody>\n",
       "</table>\n",
       "</div>"
      ],
      "text/plain": [
       "   weight  height\n",
       "0    80.0     170\n",
       "1    70.4     180\n",
       "2    65.5     155\n",
       "3    45.9     143\n",
       "4    51.5     154"
      ]
     },
     "execution_count": 174,
     "metadata": {},
     "output_type": "execute_result"
    }
   ],
   "source": [
    "df = pd.DataFrame({\n",
    "    'weight':[80.0, 70.4, 65.5, 45.9,51.5],\n",
    "    'height':[170,180,155,143,154]\n",
    "})\n",
    "df"
   ]
  },
  {
   "cell_type": "code",
   "execution_count": 177,
   "metadata": {},
   "outputs": [
    {
     "name": "stdout",
     "output_type": "stream",
     "text": [
      "weight    313.3\n",
      "height    802.0\n",
      "dtype: float64\n",
      "weight    313.3\n",
      "height    802.0\n",
      "dtype: float64\n",
      "0    250.0\n",
      "1    250.4\n",
      "2    220.5\n",
      "3    188.9\n",
      "4    205.5\n",
      "dtype: float64\n"
     ]
    }
   ],
   "source": [
    "# 1. sum()\n",
    "# 세로(열)방향 : 기본값, axis =0\n",
    "# 가로(행)방향: axis=1\n",
    "print(df.sum())\n",
    "print(df.sum(axis=0)) # 열의 합\n",
    "print(df.sum(axis=1)) # 행의 합\n"
   ]
  },
  {
   "cell_type": "code",
   "execution_count": 180,
   "metadata": {},
   "outputs": [
    {
     "name": "stdout",
     "output_type": "stream",
     "text": [
      "weight     62.66\n",
      "height    160.40\n",
      "dtype: float64\n",
      "신장의 평균 = 160.4\n",
      "체중의 평균 = 62.660000000000004\n",
      "번호별 평균 = 0    125.00\n",
      "1    125.20\n",
      "2    110.25\n",
      "3     94.45\n",
      "4    102.75\n",
      "dtype: float64\n"
     ]
    }
   ],
   "source": [
    "# 2. mean()\n",
    "print(df.mean())\n",
    "print('신장의 평균 =',df.height.mean(axis=0))\n",
    "print('체중의 평균 =',df.weight.mean(axis=0))\n",
    "\n",
    "print('번호별 평균 =',df.mean(axis=1))"
   ]
  },
  {
   "cell_type": "code",
   "execution_count": 183,
   "metadata": {},
   "outputs": [
    {
     "name": "stdout",
     "output_type": "stream",
     "text": [
      "0    30.0\n",
      "dtype: float64\n",
      "0    30.0\n",
      "dtype: float64\n",
      "0    250.0\n",
      "dtype: float64\n",
      "0    200.0\n",
      "dtype: float64\n"
     ]
    }
   ],
   "source": [
    "# 3. var()\n",
    "a = [10,20,30,40,50]\n",
    "b = [10,30,30,30,50]\n",
    "\n",
    "df_a= pd.DataFrame(a)\n",
    "df_b= pd.DataFrame(b)\n",
    "\n",
    "# 두집단의 평균은\n",
    "print(df_a.mean())\n",
    "print(df_b.mean())\n",
    "\n",
    "# 두 집단의 분산은\n",
    "print(df_a.var())\n",
    "print(df_b.var())\n",
    "\n",
    "# 결과\n",
    "\n",
    "# 분산 값 a (250)> b(200)의 이미는 a가 b보다 자료가 더 넓게 분포되어 있다.\n",
    "# 즉 분산은 평균에서 자료가 얼마나 더 흩어져 있는지를 나타낸다."
   ]
  },
  {
   "cell_type": "code",
   "execution_count": 187,
   "metadata": {},
   "outputs": [
    {
     "name": "stdout",
     "output_type": "stream",
     "text": [
      "    0\n",
      "0  10\n",
      "1  20\n",
      "2  30\n",
      "3  40\n",
      "4  50\n",
      "    0   1   2   3   4\n",
      "0  10  20  30  40  50\n"
     ]
    }
   ],
   "source": [
    "# 4. pivot\n",
    "print(df_a)\n",
    "print(df_a.T)\n",
    "df_a.T?"
   ]
  },
  {
   "cell_type": "markdown",
   "metadata": {},
   "source": [
    "#### 5. Pandas를 이용한 data 분석(csv 파일)"
   ]
  },
  {
   "cell_type": "code",
   "execution_count": 2,
   "metadata": {},
   "outputs": [],
   "source": [
    "input_file = '../data/input.csv'\n",
    "output_file ='../data/output.csv'"
   ]
  },
  {
   "cell_type": "code",
   "execution_count": 6,
   "metadata": {},
   "outputs": [
    {
     "name": "stdout",
     "output_type": "stream",
     "text": [
      "['Supplier Name', 'Invoice Number', 'Part Number', 'Cost', 'Purchase Date']\n"
     ]
    }
   ],
   "source": [
    "# 1. csv파일 읽기(1) : 파이썬문법으로만 사용하기\n",
    "# newline='' : 개행문자('\\n')를 무시하고 읽기, \n",
    "# 이 옵션이 없으면 빈라인이 추가된다.\n",
    "with open(input_file,'r',newline='') as reader:\n",
    "    with open(output_file,'w', newline='') as writer:\n",
    "        header = reader.readline()\n",
    "#         print(header)\n",
    "        header = header.strip()\n",
    "        header_list = header.split(',')\n",
    "#         print(header_list)\n",
    "        # header_list의 각 사이에 쉼표를 삽입, 리스트를 문자열로 반환\n",
    "        # 개행문자를 끝에 추가\n",
    "        # header_list요소를 스트링으로 변환\n",
    "        # print(mp(str, header_list))\n",
    "        # header행을 문자열로 저장\n",
    "        # print(',',join(map(str,header_list))+'\\n')"
   ]
  },
  {
   "cell_type": "code",
   "execution_count": null,
   "metadata": {},
   "outputs": [],
   "source": []
  },
  {
   "cell_type": "code",
   "execution_count": null,
   "metadata": {},
   "outputs": [],
   "source": []
  },
  {
   "cell_type": "code",
   "execution_count": null,
   "metadata": {},
   "outputs": [],
   "source": []
  },
  {
   "cell_type": "code",
   "execution_count": null,
   "metadata": {},
   "outputs": [],
   "source": []
  },
  {
   "cell_type": "markdown",
   "metadata": {},
   "source": [
    "#### 연습문제\n",
    "#### 6. 항공운항데이터분석"
   ]
  },
  {
   "cell_type": "code",
   "execution_count": 7,
   "metadata": {},
   "outputs": [],
   "source": [
    "import pandas as pd\n",
    "import numpy as np\n",
    "import matplotlib.pyplot as plt\n",
    "df_2008 = pd.read_csv('../data/airline/2008.csv', delimiter=',',encoding='utf-8')"
   ]
  },
  {
   "cell_type": "code",
   "execution_count": 12,
   "metadata": {},
   "outputs": [],
   "source": [
    "df = pd.DataFrame()\n",
    "df = df.append(df_2008)"
   ]
  },
  {
   "cell_type": "code",
   "execution_count": 13,
   "metadata": {},
   "outputs": [
    {
     "data": {
      "text/plain": [
       "(7009728, 29)"
      ]
     },
     "metadata": {},
     "output_type": "display_data"
    },
    {
     "data": {
      "text/plain": [
       "Index(['Year', 'Month', 'DayofMonth', 'DayOfWeek', 'DepTime', 'CRSDepTime',\n",
       "       'ArrTime', 'CRSArrTime', 'UniqueCarrier', 'FlightNum', 'TailNum',\n",
       "       'ActualElapsedTime', 'CRSElapsedTime', 'AirTime', 'ArrDelay',\n",
       "       'DepDelay', 'Origin', 'Dest', 'Distance', 'TaxiIn', 'TaxiOut',\n",
       "       'Cancelled', 'CancellationCode', 'Diverted', 'CarrierDelay',\n",
       "       'WeatherDelay', 'NASDelay', 'SecurityDelay', 'LateAircraftDelay'],\n",
       "      dtype='object')"
      ]
     },
     "metadata": {},
     "output_type": "display_data"
    }
   ],
   "source": [
    "display(df.shape)\n",
    "display(df.columns)"
   ]
  },
  {
   "cell_type": "code",
   "execution_count": 14,
   "metadata": {},
   "outputs": [
    {
     "data": {
      "text/html": [
       "<div>\n",
       "<style scoped>\n",
       "    .dataframe tbody tr th:only-of-type {\n",
       "        vertical-align: middle;\n",
       "    }\n",
       "\n",
       "    .dataframe tbody tr th {\n",
       "        vertical-align: top;\n",
       "    }\n",
       "\n",
       "    .dataframe thead th {\n",
       "        text-align: right;\n",
       "    }\n",
       "</style>\n",
       "<table border=\"1\" class=\"dataframe\">\n",
       "  <thead>\n",
       "    <tr style=\"text-align: right;\">\n",
       "      <th></th>\n",
       "      <th>Year</th>\n",
       "      <th>Month</th>\n",
       "      <th>ArrDelay</th>\n",
       "      <th>DepDelay</th>\n",
       "    </tr>\n",
       "  </thead>\n",
       "  <tbody>\n",
       "    <tr>\n",
       "      <th>0</th>\n",
       "      <td>2008</td>\n",
       "      <td>1</td>\n",
       "      <td>-14.0</td>\n",
       "      <td>8.0</td>\n",
       "    </tr>\n",
       "    <tr>\n",
       "      <th>1</th>\n",
       "      <td>2008</td>\n",
       "      <td>1</td>\n",
       "      <td>2.0</td>\n",
       "      <td>19.0</td>\n",
       "    </tr>\n",
       "    <tr>\n",
       "      <th>2</th>\n",
       "      <td>2008</td>\n",
       "      <td>1</td>\n",
       "      <td>14.0</td>\n",
       "      <td>8.0</td>\n",
       "    </tr>\n",
       "    <tr>\n",
       "      <th>3</th>\n",
       "      <td>2008</td>\n",
       "      <td>1</td>\n",
       "      <td>-6.0</td>\n",
       "      <td>-4.0</td>\n",
       "    </tr>\n",
       "    <tr>\n",
       "      <th>4</th>\n",
       "      <td>2008</td>\n",
       "      <td>1</td>\n",
       "      <td>34.0</td>\n",
       "      <td>34.0</td>\n",
       "    </tr>\n",
       "  </tbody>\n",
       "</table>\n",
       "</div>"
      ],
      "text/plain": [
       "   Year  Month  ArrDelay  DepDelay\n",
       "0  2008      1     -14.0       8.0\n",
       "1  2008      1       2.0      19.0\n",
       "2  2008      1      14.0       8.0\n",
       "3  2008      1      -6.0      -4.0\n",
       "4  2008      1      34.0      34.0"
      ]
     },
     "execution_count": 14,
     "metadata": {},
     "output_type": "execute_result"
    }
   ],
   "source": [
    "df_work = pd.DataFrame(df, columns=[\"Year\",\"Month\",\"ArrDelay\",\"DepDelay\"])\n",
    "df_work.head()"
   ]
  },
  {
   "cell_type": "code",
   "execution_count": 18,
   "metadata": {},
   "outputs": [
    {
     "name": "stdout",
     "output_type": "stream",
     "text": [
      "0          False\n",
      "1          False\n",
      "2          False\n",
      "3          False\n",
      "4          False\n",
      "           ...  \n",
      "7009723    False\n",
      "7009724    False\n",
      "7009725    False\n",
      "7009726    False\n",
      "7009727    False\n",
      "Name: ArrDelay, Length: 7009728, dtype: bool\n"
     ]
    },
    {
     "data": {
      "text/html": [
       "<div>\n",
       "<style scoped>\n",
       "    .dataframe tbody tr th:only-of-type {\n",
       "        vertical-align: middle;\n",
       "    }\n",
       "\n",
       "    .dataframe tbody tr th {\n",
       "        vertical-align: top;\n",
       "    }\n",
       "\n",
       "    .dataframe thead th {\n",
       "        text-align: right;\n",
       "    }\n",
       "</style>\n",
       "<table border=\"1\" class=\"dataframe\">\n",
       "  <thead>\n",
       "    <tr style=\"text-align: right;\">\n",
       "      <th></th>\n",
       "      <th>Year</th>\n",
       "      <th>Month</th>\n",
       "      <th>ArrDelay</th>\n",
       "      <th>DepDelay</th>\n",
       "    </tr>\n",
       "  </thead>\n",
       "  <tbody>\n",
       "    <tr>\n",
       "      <th>178</th>\n",
       "      <td>2008</td>\n",
       "      <td>1</td>\n",
       "      <td>NaN</td>\n",
       "      <td>NaN</td>\n",
       "    </tr>\n",
       "    <tr>\n",
       "      <th>373</th>\n",
       "      <td>2008</td>\n",
       "      <td>1</td>\n",
       "      <td>NaN</td>\n",
       "      <td>NaN</td>\n",
       "    </tr>\n",
       "    <tr>\n",
       "      <th>399</th>\n",
       "      <td>2008</td>\n",
       "      <td>1</td>\n",
       "      <td>NaN</td>\n",
       "      <td>NaN</td>\n",
       "    </tr>\n",
       "    <tr>\n",
       "      <th>401</th>\n",
       "      <td>2008</td>\n",
       "      <td>1</td>\n",
       "      <td>NaN</td>\n",
       "      <td>NaN</td>\n",
       "    </tr>\n",
       "    <tr>\n",
       "      <th>415</th>\n",
       "      <td>2008</td>\n",
       "      <td>1</td>\n",
       "      <td>NaN</td>\n",
       "      <td>NaN</td>\n",
       "    </tr>\n",
       "  </tbody>\n",
       "</table>\n",
       "</div>"
      ],
      "text/plain": [
       "     Year  Month  ArrDelay  DepDelay\n",
       "178  2008      1       NaN       NaN\n",
       "373  2008      1       NaN       NaN\n",
       "399  2008      1       NaN       NaN\n",
       "401  2008      1       NaN       NaN\n",
       "415  2008      1       NaN       NaN"
      ]
     },
     "metadata": {},
     "output_type": "display_data"
    }
   ],
   "source": [
    "print(df_work.ArrDelay.isna())\n",
    "display(df_work[df_work.ArrDelay.isna()].head())\n"
   ]
  },
  {
   "cell_type": "code",
   "execution_count": 21,
   "metadata": {},
   "outputs": [
    {
     "data": {
      "text/plain": [
       "(6855029, 4)"
      ]
     },
     "execution_count": 21,
     "metadata": {},
     "output_type": "execute_result"
    }
   ],
   "source": [
    "# 결측값제거 : dropna() \n",
    "# 옵션 : how=[any[all]]\n",
    "# ... all: all은 전체 행이 nan일경우 날라감\n",
    "# ... any: 전체 행중 하나라도 nan가 있으면 날라간다.\n",
    "\n",
    "# df.dropna?\n",
    "df_work = df_work.dropna(how='any')\n",
    "df_work.shape"
   ]
  },
  {
   "cell_type": "code",
   "execution_count": 22,
   "metadata": {},
   "outputs": [
    {
     "data": {
      "text/html": [
       "<div>\n",
       "<style scoped>\n",
       "    .dataframe tbody tr th:only-of-type {\n",
       "        vertical-align: middle;\n",
       "    }\n",
       "\n",
       "    .dataframe tbody tr th {\n",
       "        vertical-align: top;\n",
       "    }\n",
       "\n",
       "    .dataframe thead th {\n",
       "        text-align: right;\n",
       "    }\n",
       "</style>\n",
       "<table border=\"1\" class=\"dataframe\">\n",
       "  <thead>\n",
       "    <tr style=\"text-align: right;\">\n",
       "      <th></th>\n",
       "      <th>city</th>\n",
       "      <th>fruits</th>\n",
       "      <th>price</th>\n",
       "      <th>quantity</th>\n",
       "    </tr>\n",
       "  </thead>\n",
       "  <tbody>\n",
       "    <tr>\n",
       "      <th>0</th>\n",
       "      <td>부산</td>\n",
       "      <td>apple</td>\n",
       "      <td>100</td>\n",
       "      <td>1</td>\n",
       "    </tr>\n",
       "    <tr>\n",
       "      <th>1</th>\n",
       "      <td>부산</td>\n",
       "      <td>orange</td>\n",
       "      <td>200</td>\n",
       "      <td>2</td>\n",
       "    </tr>\n",
       "    <tr>\n",
       "      <th>2</th>\n",
       "      <td>부산</td>\n",
       "      <td>banana</td>\n",
       "      <td>250</td>\n",
       "      <td>3</td>\n",
       "    </tr>\n",
       "    <tr>\n",
       "      <th>3</th>\n",
       "      <td>부산</td>\n",
       "      <td>banana</td>\n",
       "      <td>300</td>\n",
       "      <td>4</td>\n",
       "    </tr>\n",
       "    <tr>\n",
       "      <th>4</th>\n",
       "      <td>서울</td>\n",
       "      <td>apple</td>\n",
       "      <td>150</td>\n",
       "      <td>5</td>\n",
       "    </tr>\n",
       "    <tr>\n",
       "      <th>5</th>\n",
       "      <td>서울</td>\n",
       "      <td>apple</td>\n",
       "      <td>200</td>\n",
       "      <td>6</td>\n",
       "    </tr>\n",
       "    <tr>\n",
       "      <th>6</th>\n",
       "      <td>서울</td>\n",
       "      <td>banana</td>\n",
       "      <td>400</td>\n",
       "      <td>7</td>\n",
       "    </tr>\n",
       "  </tbody>\n",
       "</table>\n",
       "</div>"
      ],
      "text/plain": [
       "  city  fruits  price  quantity\n",
       "0   부산   apple    100         1\n",
       "1   부산  orange    200         2\n",
       "2   부산  banana    250         3\n",
       "3   부산  banana    300         4\n",
       "4   서울   apple    150         5\n",
       "5   서울   apple    200         6\n",
       "6   서울  banana    400         7"
      ]
     },
     "execution_count": 22,
     "metadata": {},
     "output_type": "execute_result"
    }
   ],
   "source": [
    "# groupby() 와 agg()\n",
    "\n",
    "df01 = pd.DataFrame({\n",
    "    'city': ['부산','부산','부산','부산','서울','서울','서울'],\n",
    "    'fruits':['apple','orange','banana','banana','apple','apple','banana'],\n",
    "    'price': [100,200,250,300,150,200,400],\n",
    "    'quantity' :[1,2,3,4,5,6,7]\n",
    "})\n",
    "df01"
   ]
  },
  {
   "cell_type": "code",
   "execution_count": 25,
   "metadata": {},
   "outputs": [
    {
     "data": {
      "text/html": [
       "<div>\n",
       "<style scoped>\n",
       "    .dataframe tbody tr th:only-of-type {\n",
       "        vertical-align: middle;\n",
       "    }\n",
       "\n",
       "    .dataframe tbody tr th {\n",
       "        vertical-align: top;\n",
       "    }\n",
       "\n",
       "    .dataframe thead th {\n",
       "        text-align: right;\n",
       "    }\n",
       "</style>\n",
       "<table border=\"1\" class=\"dataframe\">\n",
       "  <thead>\n",
       "    <tr style=\"text-align: right;\">\n",
       "      <th></th>\n",
       "      <th></th>\n",
       "      <th>price</th>\n",
       "      <th>quantity</th>\n",
       "    </tr>\n",
       "    <tr>\n",
       "      <th>city</th>\n",
       "      <th>fruits</th>\n",
       "      <th></th>\n",
       "      <th></th>\n",
       "    </tr>\n",
       "  </thead>\n",
       "  <tbody>\n",
       "    <tr>\n",
       "      <th rowspan=\"3\" valign=\"top\">부산</th>\n",
       "      <th>apple</th>\n",
       "      <td>100.0</td>\n",
       "      <td>1.0</td>\n",
       "    </tr>\n",
       "    <tr>\n",
       "      <th>banana</th>\n",
       "      <td>275.0</td>\n",
       "      <td>3.5</td>\n",
       "    </tr>\n",
       "    <tr>\n",
       "      <th>orange</th>\n",
       "      <td>200.0</td>\n",
       "      <td>2.0</td>\n",
       "    </tr>\n",
       "    <tr>\n",
       "      <th rowspan=\"2\" valign=\"top\">서울</th>\n",
       "      <th>apple</th>\n",
       "      <td>175.0</td>\n",
       "      <td>5.5</td>\n",
       "    </tr>\n",
       "    <tr>\n",
       "      <th>banana</th>\n",
       "      <td>400.0</td>\n",
       "      <td>7.0</td>\n",
       "    </tr>\n",
       "  </tbody>\n",
       "</table>\n",
       "</div>"
      ],
      "text/plain": [
       "             price  quantity\n",
       "city fruits                 \n",
       "부산   apple   100.0       1.0\n",
       "     banana  275.0       3.5\n",
       "     orange  200.0       2.0\n",
       "서울   apple   175.0       5.5\n",
       "     banana  400.0       7.0"
      ]
     },
     "metadata": {},
     "output_type": "display_data"
    },
    {
     "data": {
      "text/html": [
       "<div>\n",
       "<style scoped>\n",
       "    .dataframe tbody tr th:only-of-type {\n",
       "        vertical-align: middle;\n",
       "    }\n",
       "\n",
       "    .dataframe tbody tr th {\n",
       "        vertical-align: top;\n",
       "    }\n",
       "\n",
       "    .dataframe thead th {\n",
       "        text-align: right;\n",
       "    }\n",
       "</style>\n",
       "<table border=\"1\" class=\"dataframe\">\n",
       "  <thead>\n",
       "    <tr style=\"text-align: right;\">\n",
       "      <th></th>\n",
       "      <th>city</th>\n",
       "      <th>fruits</th>\n",
       "      <th>price</th>\n",
       "      <th>quantity</th>\n",
       "    </tr>\n",
       "  </thead>\n",
       "  <tbody>\n",
       "    <tr>\n",
       "      <th>0</th>\n",
       "      <td>부산</td>\n",
       "      <td>apple</td>\n",
       "      <td>100.0</td>\n",
       "      <td>1.0</td>\n",
       "    </tr>\n",
       "    <tr>\n",
       "      <th>1</th>\n",
       "      <td>부산</td>\n",
       "      <td>banana</td>\n",
       "      <td>275.0</td>\n",
       "      <td>3.5</td>\n",
       "    </tr>\n",
       "    <tr>\n",
       "      <th>2</th>\n",
       "      <td>부산</td>\n",
       "      <td>orange</td>\n",
       "      <td>200.0</td>\n",
       "      <td>2.0</td>\n",
       "    </tr>\n",
       "    <tr>\n",
       "      <th>3</th>\n",
       "      <td>서울</td>\n",
       "      <td>apple</td>\n",
       "      <td>175.0</td>\n",
       "      <td>5.5</td>\n",
       "    </tr>\n",
       "    <tr>\n",
       "      <th>4</th>\n",
       "      <td>서울</td>\n",
       "      <td>banana</td>\n",
       "      <td>400.0</td>\n",
       "      <td>7.0</td>\n",
       "    </tr>\n",
       "  </tbody>\n",
       "</table>\n",
       "</div>"
      ],
      "text/plain": [
       "  city  fruits  price  quantity\n",
       "0   부산   apple  100.0       1.0\n",
       "1   부산  banana  275.0       3.5\n",
       "2   부산  orange  200.0       2.0\n",
       "3   서울   apple  175.0       5.5\n",
       "4   서울  banana  400.0       7.0"
      ]
     },
     "metadata": {},
     "output_type": "display_data"
    },
    {
     "data": {
      "text/html": [
       "<div>\n",
       "<style scoped>\n",
       "    .dataframe tbody tr th:only-of-type {\n",
       "        vertical-align: middle;\n",
       "    }\n",
       "\n",
       "    .dataframe tbody tr th {\n",
       "        vertical-align: top;\n",
       "    }\n",
       "\n",
       "    .dataframe thead th {\n",
       "        text-align: right;\n",
       "    }\n",
       "</style>\n",
       "<table border=\"1\" class=\"dataframe\">\n",
       "  <thead>\n",
       "    <tr style=\"text-align: right;\">\n",
       "      <th></th>\n",
       "      <th>city</th>\n",
       "      <th>fruits</th>\n",
       "      <th>price</th>\n",
       "      <th>quantity</th>\n",
       "    </tr>\n",
       "  </thead>\n",
       "  <tbody>\n",
       "    <tr>\n",
       "      <th>4</th>\n",
       "      <td>서울</td>\n",
       "      <td>apple</td>\n",
       "      <td>150</td>\n",
       "      <td>5</td>\n",
       "    </tr>\n",
       "    <tr>\n",
       "      <th>5</th>\n",
       "      <td>서울</td>\n",
       "      <td>apple</td>\n",
       "      <td>200</td>\n",
       "      <td>6</td>\n",
       "    </tr>\n",
       "    <tr>\n",
       "      <th>6</th>\n",
       "      <td>서울</td>\n",
       "      <td>banana</td>\n",
       "      <td>400</td>\n",
       "      <td>7</td>\n",
       "    </tr>\n",
       "  </tbody>\n",
       "</table>\n",
       "</div>"
      ],
      "text/plain": [
       "  city  fruits  price  quantity\n",
       "4   서울   apple    150         5\n",
       "5   서울   apple    200         6\n",
       "6   서울  banana    400         7"
      ]
     },
     "metadata": {},
     "output_type": "display_data"
    },
    {
     "data": {
      "text/plain": [
       "price       250.0\n",
       "quantity      6.0\n",
       "dtype: float64"
      ]
     },
     "metadata": {},
     "output_type": "display_data"
    }
   ],
   "source": [
    "# 1. 도시별로 가격 평균 구하기\n",
    "# df01.groupby?\n",
    "display(df01.groupby(['city','fruits']).mean())\n",
    "display(df01.groupby(['city','fruits'],as_index=False).mean())\n",
    "\n",
    "# 2. 서울의 데이터를 확인 후 평균 구하기\n",
    "# . 그룹안에 데이터를 확인하는 함수\n",
    "# groupby().get_group() 사용 \n",
    "display(df01.groupby('city').get_group('서울'))\n",
    "display(df01.groupby(['city']).get_group('서울').mean())\n"
   ]
  },
  {
   "cell_type": "code",
   "execution_count": 28,
   "metadata": {},
   "outputs": [
    {
     "data": {
      "text/plain": [
       "3"
      ]
     },
     "metadata": {},
     "output_type": "display_data"
    },
    {
     "data": {
      "text/plain": [
       "city\n",
       "부산    4\n",
       "서울    3\n",
       "dtype: int64"
      ]
     },
     "metadata": {},
     "output_type": "display_data"
    }
   ],
   "source": [
    "# 3. 그룹별 건수 : size()\n",
    "display(df01.groupby('city').size()['서울'])\n",
    "display(df01.groupby('city').size())\n"
   ]
  },
  {
   "cell_type": "code",
   "execution_count": 31,
   "metadata": {},
   "outputs": [
    {
     "data": {
      "text/html": [
       "<div>\n",
       "<style scoped>\n",
       "    .dataframe tbody tr th:only-of-type {\n",
       "        vertical-align: middle;\n",
       "    }\n",
       "\n",
       "    .dataframe tbody tr th {\n",
       "        vertical-align: top;\n",
       "    }\n",
       "\n",
       "    .dataframe thead th {\n",
       "        text-align: right;\n",
       "    }\n",
       "</style>\n",
       "<table border=\"1\" class=\"dataframe\">\n",
       "  <thead>\n",
       "    <tr style=\"text-align: right;\">\n",
       "      <th></th>\n",
       "      <th>price</th>\n",
       "      <th>quantity</th>\n",
       "    </tr>\n",
       "    <tr>\n",
       "      <th>city</th>\n",
       "      <th></th>\n",
       "      <th></th>\n",
       "    </tr>\n",
       "  </thead>\n",
       "  <tbody>\n",
       "    <tr>\n",
       "      <th>부산</th>\n",
       "      <td>212.5</td>\n",
       "      <td>10</td>\n",
       "    </tr>\n",
       "    <tr>\n",
       "      <th>서울</th>\n",
       "      <td>250.0</td>\n",
       "      <td>18</td>\n",
       "    </tr>\n",
       "  </tbody>\n",
       "</table>\n",
       "</div>"
      ],
      "text/plain": [
       "      price  quantity\n",
       "city                 \n",
       "부산    212.5        10\n",
       "서울    250.0        18"
      ]
     },
     "metadata": {},
     "output_type": "display_data"
    },
    {
     "data": {
      "text/html": [
       "<div>\n",
       "<style scoped>\n",
       "    .dataframe tbody tr th:only-of-type {\n",
       "        vertical-align: middle;\n",
       "    }\n",
       "\n",
       "    .dataframe tbody tr th {\n",
       "        vertical-align: top;\n",
       "    }\n",
       "\n",
       "    .dataframe thead th {\n",
       "        text-align: right;\n",
       "    }\n",
       "</style>\n",
       "<table border=\"1\" class=\"dataframe\">\n",
       "  <thead>\n",
       "    <tr style=\"text-align: right;\">\n",
       "      <th></th>\n",
       "      <th>price</th>\n",
       "      <th>quantity</th>\n",
       "    </tr>\n",
       "    <tr>\n",
       "      <th>city</th>\n",
       "      <th></th>\n",
       "      <th></th>\n",
       "    </tr>\n",
       "  </thead>\n",
       "  <tbody>\n",
       "    <tr>\n",
       "      <th>부산</th>\n",
       "      <td>212.5</td>\n",
       "      <td>10</td>\n",
       "    </tr>\n",
       "    <tr>\n",
       "      <th>서울</th>\n",
       "      <td>250.0</td>\n",
       "      <td>18</td>\n",
       "    </tr>\n",
       "  </tbody>\n",
       "</table>\n",
       "</div>"
      ],
      "text/plain": [
       "      price  quantity\n",
       "city                 \n",
       "부산    212.5        10\n",
       "서울    250.0        18"
      ]
     },
     "execution_count": 31,
     "metadata": {},
     "output_type": "execute_result"
    }
   ],
   "source": [
    "# 4. 집계 함수: agg()\n",
    "\n",
    "display(df01.groupby('city').agg({'price':np.mean,'quantity':np.sum}))\n",
    "def my_mean(s):\n",
    "    return np.mean(s)\n",
    "df01.groupby('city').agg({'price':my_mean,'quantity':np.sum})"
   ]
  },
  {
   "cell_type": "code",
   "execution_count": 34,
   "metadata": {},
   "outputs": [
    {
     "data": {
      "text/plain": [
       "Year  Month\n",
       "2008  1        587130\n",
       "      2        546925\n",
       "      3        598343\n",
       "      4        586723\n",
       "      5        599210\n",
       "      6        595458\n",
       "      7        615423\n",
       "      8        600750\n",
       "      9        530276\n",
       "      10       552071\n",
       "      11       517973\n",
       "      12       524747\n",
       "dtype: int64"
      ]
     },
     "execution_count": 34,
     "metadata": {},
     "output_type": "execute_result"
    }
   ],
   "source": [
    "# 1. 년월별 항공 운항데이터의 건수 출력\n",
    "result = df_work.groupby(['Year','Month'], as_index=True).size()\n",
    "result"
   ]
  },
  {
   "cell_type": "code",
   "execution_count": 36,
   "metadata": {},
   "outputs": [
    {
     "data": {
      "image/png": "[encoded data removed]",
      "text/plain": [
       "<Figure size 432x288 with 1 Axes>"
      ]
     },
     "metadata": {
      "needs_background": "light"
     },
     "output_type": "display_data"
    }
   ],
   "source": [
    "result.plot()\n",
    "plt.show()"
   ]
  },
  {
   "cell_type": "code",
   "execution_count": null,
   "metadata": {},
   "outputs": [],
   "source": [
    "# 3. 결과를 csv로 저장\n",
    "# airline_depdelay.csv"
   ]
  },
  {
   "cell_type": "code",
   "execution_count": null,
   "metadata": {},
   "outputs": [],
   "source": [
    "result.to_csv('../data/airline/airline_depdelay.csv',sep=','\n",
    "             , index=True)"
   ]
  },
  {
   "cell_type": "code",
   "execution_count": 37,
   "metadata": {},
   "outputs": [
    {
     "data": {
      "text/html": [
       "<div>\n",
       "<style scoped>\n",
       "    .dataframe tbody tr th:only-of-type {\n",
       "        vertical-align: middle;\n",
       "    }\n",
       "\n",
       "    .dataframe tbody tr th {\n",
       "        vertical-align: top;\n",
       "    }\n",
       "\n",
       "    .dataframe thead tr th {\n",
       "        text-align: left;\n",
       "    }\n",
       "\n",
       "    .dataframe thead tr:last-of-type th {\n",
       "        text-align: right;\n",
       "    }\n",
       "</style>\n",
       "<table border=\"1\" class=\"dataframe\">\n",
       "  <thead>\n",
       "    <tr>\n",
       "      <th></th>\n",
       "      <th></th>\n",
       "      <th colspan=\"2\" halign=\"left\">DepDelay</th>\n",
       "      <th colspan=\"2\" halign=\"left\">ArrDelay</th>\n",
       "    </tr>\n",
       "    <tr>\n",
       "      <th></th>\n",
       "      <th></th>\n",
       "      <th>mean</th>\n",
       "      <th>size</th>\n",
       "      <th>mean</th>\n",
       "      <th>size</th>\n",
       "    </tr>\n",
       "    <tr>\n",
       "      <th>Year</th>\n",
       "      <th>Month</th>\n",
       "      <th></th>\n",
       "      <th></th>\n",
       "      <th></th>\n",
       "      <th></th>\n",
       "    </tr>\n",
       "  </thead>\n",
       "  <tbody>\n",
       "    <tr>\n",
       "      <th rowspan=\"12\" valign=\"top\">2008</th>\n",
       "      <th>1</th>\n",
       "      <td>11.437988</td>\n",
       "      <td>587130.0</td>\n",
       "      <td>10.188856</td>\n",
       "      <td>587130.0</td>\n",
       "    </tr>\n",
       "    <tr>\n",
       "      <th>2</th>\n",
       "      <td>13.638067</td>\n",
       "      <td>546925.0</td>\n",
       "      <td>13.077837</td>\n",
       "      <td>546925.0</td>\n",
       "    </tr>\n",
       "    <tr>\n",
       "      <th>3</th>\n",
       "      <td>12.445089</td>\n",
       "      <td>598343.0</td>\n",
       "      <td>11.192365</td>\n",
       "      <td>598343.0</td>\n",
       "    </tr>\n",
       "    <tr>\n",
       "      <th>4</th>\n",
       "      <td>8.167094</td>\n",
       "      <td>586723.0</td>\n",
       "      <td>6.807297</td>\n",
       "      <td>586723.0</td>\n",
       "    </tr>\n",
       "    <tr>\n",
       "      <th>5</th>\n",
       "      <td>7.621402</td>\n",
       "      <td>599210.0</td>\n",
       "      <td>5.978448</td>\n",
       "      <td>599210.0</td>\n",
       "    </tr>\n",
       "    <tr>\n",
       "      <th>6</th>\n",
       "      <td>13.567387</td>\n",
       "      <td>595458.0</td>\n",
       "      <td>13.266756</td>\n",
       "      <td>595458.0</td>\n",
       "    </tr>\n",
       "    <tr>\n",
       "      <th>7</th>\n",
       "      <td>11.781284</td>\n",
       "      <td>615423.0</td>\n",
       "      <td>9.975050</td>\n",
       "      <td>615423.0</td>\n",
       "    </tr>\n",
       "    <tr>\n",
       "      <th>8</th>\n",
       "      <td>9.572298</td>\n",
       "      <td>600750.0</td>\n",
       "      <td>6.910915</td>\n",
       "      <td>600750.0</td>\n",
       "    </tr>\n",
       "    <tr>\n",
       "      <th>9</th>\n",
       "      <td>3.949296</td>\n",
       "      <td>530276.0</td>\n",
       "      <td>0.697733</td>\n",
       "      <td>530276.0</td>\n",
       "    </tr>\n",
       "    <tr>\n",
       "      <th>10</th>\n",
       "      <td>3.778365</td>\n",
       "      <td>552071.0</td>\n",
       "      <td>0.415495</td>\n",
       "      <td>552071.0</td>\n",
       "    </tr>\n",
       "    <tr>\n",
       "      <th>11</th>\n",
       "      <td>5.387065</td>\n",
       "      <td>517973.0</td>\n",
       "      <td>2.015858</td>\n",
       "      <td>517973.0</td>\n",
       "    </tr>\n",
       "    <tr>\n",
       "      <th>12</th>\n",
       "      <td>17.147784</td>\n",
       "      <td>524747.0</td>\n",
       "      <td>16.680505</td>\n",
       "      <td>524747.0</td>\n",
       "    </tr>\n",
       "  </tbody>\n",
       "</table>\n",
       "</div>"
      ],
      "text/plain": [
       "             DepDelay             ArrDelay          \n",
       "                 mean      size       mean      size\n",
       "Year Month                                          \n",
       "2008 1      11.437988  587130.0  10.188856  587130.0\n",
       "     2      13.638067  546925.0  13.077837  546925.0\n",
       "     3      12.445089  598343.0  11.192365  598343.0\n",
       "     4       8.167094  586723.0   6.807297  586723.0\n",
       "     5       7.621402  599210.0   5.978448  599210.0\n",
       "     6      13.567387  595458.0  13.266756  595458.0\n",
       "     7      11.781284  615423.0   9.975050  615423.0\n",
       "     8       9.572298  600750.0   6.910915  600750.0\n",
       "     9       3.949296  530276.0   0.697733  530276.0\n",
       "     10      3.778365  552071.0   0.415495  552071.0\n",
       "     11      5.387065  517973.0   2.015858  517973.0\n",
       "     12     17.147784  524747.0  16.680505  524747.0"
      ]
     },
     "execution_count": 37,
     "metadata": {},
     "output_type": "execute_result"
    }
   ],
   "source": [
    "result1 = df_work.groupby(['Year','Month']).agg({'DepDelay':[np.mean,np.size], 'ArrDelay':[np.mean,np.size]})\n",
    "result1                                     "
   ]
  },
  {
   "cell_type": "code",
   "execution_count": 38,
   "metadata": {},
   "outputs": [
    {
     "data": {
      "text/plain": [
       "<matplotlib.axes._subplots.AxesSubplot at 0x213b9020288>"
      ]
     },
     "execution_count": 38,
     "metadata": {},
     "output_type": "execute_result"
    },
    {
     "data": {
      "image/png": "[encoded data removed]",
      "text/plain": [
       "<Figure size 432x288 with 1 Axes>"
      ]
     },
     "metadata": {
      "needs_background": "light"
     },
     "output_type": "display_data"
    }
   ],
   "source": [
    "result1.plot(kind='line')"
   ]
  },
  {
   "cell_type": "code",
   "execution_count": null,
   "metadata": {},
   "outputs": [],
   "source": [
    "df = pd.read_excel('../data/excel/학생시험성적.xlsx')\n"
   ]
  },
  {
   "cell_type": "markdown",
   "metadata": {},
   "source": [
    "##### 9. 엑셀파일 다루기\n",
    "\n",
    "##### 1. 엑셀파일 읽기/쓰기"
   ]
  },
  {
   "cell_type": "code",
   "execution_count": null,
   "metadata": {},
   "outputs": [],
   "source": [
    "## 엑셀파일은 시트 번호로 줄수도 있고 이름으로 줄 수 도 있다.\n",
    "## 엑셀 읽기\n",
    "df = pd.read_excel('../data/excel/학생시험성적.xlsx')\n",
    "display(df)\n",
    "df = pd.read_excel('../data/excel/학생시험성적.xlsx',sheet_name=1)\n",
    "display(df)\n",
    "df = pd.read_excel('../data/excel/학생시험성적.xlsx',sheet_name='2차시험')\n",
    "display(df)"
   ]
  },
  {
   "cell_type": "code",
   "execution_count": null,
   "metadata": {},
   "outputs": [],
   "source": [
    "df = pd.read_excel('../data/excel/학생시험성적.xlsx',sheet_name='2차시험',index_col=0)\n",
    "display(df) # 앞의 컬림이 없음\n",
    "df = pd.read_excel('../data/excel/학생시험성적.xlsx',sheet_name='2차시험',index_col='학생')\n",
    "display(df) # 앞의 컬림이 없음"
   ]
  },
  {
   "cell_type": "code",
   "execution_count": null,
   "metadata": {},
   "outputs": [],
   "source": [
    "excel_data1 = {\n",
    "    '학생':['A','B','C','D','E','F'],\n",
    "    '국어':[80,90,95,70,75,85],\n",
    "    '영어':[90,95,70,85,90,95],\n",
    "    '수학':[85,95,75,80,85,100]\n",
    "}\n",
    "\n",
    "df1= pd.DataFrame(excel_data1, columns=['학생','국어','영어','수학'])\n",
    "df1"
   ]
  },
  {
   "cell_type": "code",
   "execution_count": null,
   "metadata": {},
   "outputs": [],
   "source": [
    "# 1) 엑셀저장 - 기본\n",
    "excel_writer = pd.ExcelWriter('../data/excel/학생시험성적1.xlsx',engine='xlsxwriter')\n",
    "type(excel_writer)\n",
    "df1.to_excel(excel_writer,index=False)\n",
    "excel_writer.save()"
   ]
  },
  {
   "cell_type": "code",
   "execution_count": null,
   "metadata": {},
   "outputs": [],
   "source": [
    "# 2) 엑셀저장 - sheetname\n",
    "excel_writer2 = pd.ExcelWriter('../data/excel/학생시험성적2.xlsx',engine='xlsxwriter')\n",
    "df1.to_excel(excel_writer2,index=False, sheet_name='중간고사')\n",
    "excel_writer2.save()"
   ]
  },
  {
   "cell_type": "code",
   "execution_count": null,
   "metadata": {},
   "outputs": [],
   "source": [
    "excel_data2 = {\n",
    "    '학생':['A','B','C','D','E','F'],\n",
    "    '국어':[80,90,95,70,75,100],\n",
    "    '영어':[90,95,70,85,90,89],\n",
    "    '수학':[85,95,75,80,85,99]\n",
    "}\n",
    "df2= pd.DataFrame(excel_data2, columns=['학생','국어','영어','수학'])\n",
    "df2"
   ]
  },
  {
   "cell_type": "code",
   "execution_count": null,
   "metadata": {},
   "outputs": [],
   "source": [
    "excel_writer3 = pd.ExcelWriter('../data/excel/학생시험성적3.xlsx',engine='xlsxwriter')\n",
    "df1.to_excel(excel_writer3,index=False, sheet_name='중간고사')\n",
    "df2.to_excel(excel_writer3,index=False, sheet_name='기말고사')\n",
    "excel_writer3.save()"
   ]
  },
  {
   "cell_type": "code",
   "execution_count": null,
   "metadata": {},
   "outputs": [],
   "source": [
    "excel_data_files =['../data/excel/담당자별_판매량_Andy사원.xlsx',\n",
    "                  '../data/excel/담당자별_판매량_Becky사원.xlsx',\n",
    "                  '../data/excel/담당자별_판매량_Chris사원.xlsx'\n",
    "                  ]\n",
    "total_data = pd.DataFrame()\n"
   ]
  },
  {
   "cell_type": "code",
   "execution_count": null,
   "metadata": {},
   "outputs": [],
   "source": [
    "# 통합하기(1) -index\n",
    "for f in excel_data_files:\n",
    "    df = pd.read_excel(f)\n",
    "    total_data = total_data.append(df)\n",
    "    \n",
    "total_data"
   ]
  },
  {
   "cell_type": "code",
   "execution_count": null,
   "metadata": {},
   "outputs": [],
   "source": [
    "# 통합하기(2) - 인덱스\n",
    "total_data = pd.DataFrame()\n",
    "\n",
    "for f in excel_data_files:\n",
    "    df = pd.read_excel(f)\n",
    "    total_data = total_data.append(df, ignore_index=True)\n",
    "    \n",
    "total_data"
   ]
  },
  {
   "cell_type": "code",
   "execution_count": null,
   "metadata": {},
   "outputs": [],
   "source": [
    "# 통합하기(3) - glob 패키지 사용\n",
    "import glob \n",
    "glob.glob('../data/excel/담당자별_판매량_*사원.xlsx')\n",
    "\n",
    "total_data = pd.DataFrame()\n",
    "\n",
    "excel_data_files = glob.glob('../data/excel/담당자별_판매량_*사원.xlsx')\n",
    "print(type(excel_data_files))\n",
    "for f in excel_data_files:\n",
    "    df = pd.read_excel(f)\n",
    "    total_data = total_data.append(df, ignore_index=True)\n",
    "    \n",
    "total_data"
   ]
  },
  {
   "cell_type": "code",
   "execution_count": null,
   "metadata": {},
   "outputs": [],
   "source": []
  },
  {
   "cell_type": "code",
   "execution_count": null,
   "metadata": {},
   "outputs": [],
   "source": []
  },
  {
   "cell_type": "code",
   "execution_count": null,
   "metadata": {},
   "outputs": [],
   "source": []
  },
  {
   "cell_type": "code",
   "execution_count": null,
   "metadata": {},
   "outputs": [],
   "source": []
  },
  {
   "cell_type": "code",
   "execution_count": null,
   "metadata": {},
   "outputs": [],
   "source": []
  },
  {
   "cell_type": "code",
   "execution_count": null,
   "metadata": {},
   "outputs": [],
   "source": []
  },
  {
   "cell_type": "code",
   "execution_count": null,
   "metadata": {},
   "outputs": [],
   "source": []
  }
 ],
 "metadata": {
  "kernelspec": {
   "display_name": "Python 3",
   "language": "python",
   "name": "python3"
  },
  "language_info": {
   "codemirror_mode": {
    "name": "ipython",
    "version": 3
   },
   "file_extension": ".py",
   "mimetype": "text/x-python",
   "name": "python",
   "nbconvert_exporter": "python",
   "pygments_lexer": "ipython3",
   "version": "3.7.6"
  }
 },
 "nbformat": 4,
 "nbformat_minor": 4
}
