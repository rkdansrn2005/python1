{
 "cells": [
  {
   "cell_type": "markdown",
   "metadata": {},
   "source": [
    "### Numpy(Numerical Python)\n",
    "\n",
    ">* 벡터 및 행렬연산에 특화된 라이브러리\n",
    "* array단위로 데이터를 관리한다. 즉, array단위로 연산을 수행한다.\n",
    "* 2차원자료구조는 행렬(Matrix)와 유사하다.\n",
    "* Pandas와 함께 데이타분석에 많이 사용한다.\n",
    "* 수치해석용 Python 라이브러리\n",
    "\n",
    "#### 참고사이트\n",
    "1. home : http://www.numpy.org\n",
    "2. documentation : http://docs.scipy.org/doc\n",
    "3. tutrial :\n",
    " - http://www.scipy-lectures.org/intro/numpy/index.html\n",
    " - http://docs.scipy.org/doc/numpy/user/quickstart.html"
   ]
  },
  {
   "cell_type": "code",
   "execution_count": 2,
   "metadata": {},
   "outputs": [
    {
     "name": "stdout",
     "output_type": "stream",
     "text": [
      "['ALLOW_THREADS', 'AxisError', 'BUFSIZE', 'CLIP', 'ComplexWarning', 'DataSource', 'ERR_CALL', 'ERR_DEFAULT', 'ERR_IGNORE', 'ERR_LOG', 'ERR_PRINT', 'ERR_RAISE', 'ERR_WARN', 'FLOATING_POINT_SUPPORT', 'FPE_DIVIDEBYZERO', 'FPE_INVALID', 'FPE_OVERFLOW', 'FPE_UNDERFLOW', 'False_', 'Inf', 'Infinity', 'MAXDIMS', 'MAY_SHARE_BOUNDS', 'MAY_SHARE_EXACT', 'MachAr', 'ModuleDeprecationWarning', 'NAN', 'NINF', 'NZERO', 'NaN', 'PINF', 'PZERO', 'RAISE', 'RankWarning', 'SHIFT_DIVIDEBYZERO', 'SHIFT_INVALID', 'SHIFT_OVERFLOW', 'SHIFT_UNDERFLOW', 'ScalarType', 'Tester', 'TooHardError', 'True_', 'UFUNC_BUFSIZE_DEFAULT', 'UFUNC_PYVALS_NAME', 'VisibleDeprecationWarning', 'WRAP', '_NoValue', '_UFUNC_API', '__NUMPY_SETUP__', '__all__', '__builtins__', '__cached__', '__config__', '__dir__', '__doc__', '__file__', '__getattr__', '__git_revision__', '__loader__', '__mkl_version__', '__name__', '__package__', '__path__', '__spec__', '__version__', '_add_newdoc_ufunc', '_distributor_init', '_globals', '_mat', '_pytesttester', 'abs', 'absolute', 'absolute_import', 'add', 'add_docstring', 'add_newdoc', 'add_newdoc_ufunc', 'alen', 'all', 'allclose', 'alltrue', 'amax', 'amin', 'angle', 'any', 'append', 'apply_along_axis', 'apply_over_axes', 'arange', 'arccos', 'arccosh', 'arcsin', 'arcsinh', 'arctan', 'arctan2', 'arctanh', 'argmax', 'argmin', 'argpartition', 'argsort', 'argwhere', 'around', 'array', 'array2string', 'array_equal', 'array_equiv', 'array_repr', 'array_split', 'array_str', 'asanyarray', 'asarray', 'asarray_chkfinite', 'ascontiguousarray', 'asfarray', 'asfortranarray', 'asmatrix', 'asscalar', 'atleast_1d', 'atleast_2d', 'atleast_3d', 'average', 'bartlett', 'base_repr', 'binary_repr', 'bincount', 'bitwise_and', 'bitwise_not', 'bitwise_or', 'bitwise_xor', 'blackman', 'block', 'bmat', 'bool', 'bool8', 'bool_', 'broadcast', 'broadcast_arrays', 'broadcast_to', 'busday_count', 'busday_offset', 'busdaycalendar', 'byte', 'byte_bounds', 'bytes0', 'bytes_', 'c_', 'can_cast', 'cast', 'cbrt', 'cdouble', 'ceil', 'cfloat', 'char', 'character', 'chararray', 'choose', 'clip', 'clongdouble', 'clongfloat', 'column_stack', 'common_type', 'compare_chararrays', 'compat', 'complex', 'complex128', 'complex64', 'complex_', 'complexfloating', 'compress', 'concatenate', 'conj', 'conjugate', 'convolve', 'copy', 'copysign', 'copyto', 'core', 'corrcoef', 'correlate', 'cos', 'cosh', 'count_nonzero', 'cov', 'cross', 'csingle', 'ctypeslib', 'cumprod', 'cumproduct', 'cumsum', 'datetime64', 'datetime_as_string', 'datetime_data', 'deg2rad', 'degrees', 'delete', 'deprecate', 'deprecate_with_doc', 'diag', 'diag_indices', 'diag_indices_from', 'diagflat', 'diagonal', 'diff', 'digitize', 'disp', 'divide', 'division', 'divmod', 'dot', 'double', 'dsplit', 'dstack', 'dtype', 'e', 'ediff1d', 'einsum', 'einsum_path', 'emath', 'empty', 'empty_like', 'equal', 'errstate', 'euler_gamma', 'exp', 'exp2', 'expand_dims', 'expm1', 'extract', 'eye', 'fabs', 'fastCopyAndTranspose', 'fft', 'fill_diagonal', 'find_common_type', 'finfo', 'fix', 'flatiter', 'flatnonzero', 'flexible', 'flip', 'fliplr', 'flipud', 'float', 'float16', 'float32', 'float64', 'float_', 'float_power', 'floating', 'floor', 'floor_divide', 'fmax', 'fmin', 'fmod', 'format_float_positional', 'format_float_scientific', 'format_parser', 'frexp', 'frombuffer', 'fromfile', 'fromfunction', 'fromiter', 'frompyfunc', 'fromregex', 'fromstring', 'full', 'full_like', 'fv', 'gcd', 'generic', 'genfromtxt', 'geomspace', 'get_array_wrap', 'get_include', 'get_printoptions', 'getbufsize', 'geterr', 'geterrcall', 'geterrobj', 'gradient', 'greater', 'greater_equal', 'half', 'hamming', 'hanning', 'heaviside', 'histogram', 'histogram2d', 'histogram_bin_edges', 'histogramdd', 'hsplit', 'hstack', 'hypot', 'i0', 'identity', 'iinfo', 'imag', 'in1d', 'index_exp', 'indices', 'inexact', 'inf', 'info', 'infty', 'inner', 'insert', 'int', 'int0', 'int16', 'int32', 'int64', 'int8', 'int_', 'int_asbuffer', 'intc', 'integer', 'interp', 'intersect1d', 'intp', 'invert', 'ipmt', 'irr', 'is_busday', 'isclose', 'iscomplex', 'iscomplexobj', 'isfinite', 'isfortran', 'isin', 'isinf', 'isnan', 'isnat', 'isneginf', 'isposinf', 'isreal', 'isrealobj', 'isscalar', 'issctype', 'issubclass_', 'issubdtype', 'issubsctype', 'iterable', 'ix_', 'kaiser', 'kron', 'lcm', 'ldexp', 'left_shift', 'less', 'less_equal', 'lexsort', 'lib', 'linalg', 'linspace', 'little_endian', 'load', 'loads', 'loadtxt', 'log', 'log10', 'log1p', 'log2', 'logaddexp', 'logaddexp2', 'logical_and', 'logical_not', 'logical_or', 'logical_xor', 'logspace', 'long', 'longcomplex', 'longdouble', 'longfloat', 'longlong', 'lookfor', 'ma', 'mafromtxt', 'mask_indices', 'mat', 'math', 'matmul', 'matrix', 'matrixlib', 'max', 'maximum', 'maximum_sctype', 'may_share_memory', 'mean', 'median', 'memmap', 'meshgrid', 'mgrid', 'min', 'min_scalar_type', 'minimum', 'mintypecode', 'mirr', 'mkl', 'mod', 'modf', 'moveaxis', 'msort', 'multiply', 'nan', 'nan_to_num', 'nanargmax', 'nanargmin', 'nancumprod', 'nancumsum', 'nanmax', 'nanmean', 'nanmedian', 'nanmin', 'nanpercentile', 'nanprod', 'nanquantile', 'nanstd', 'nansum', 'nanvar', 'nbytes', 'ndarray', 'ndenumerate', 'ndfromtxt', 'ndim', 'ndindex', 'nditer', 'negative', 'nested_iters', 'newaxis', 'nextafter', 'nonzero', 'not_equal', 'nper', 'npv', 'numarray', 'number', 'obj2sctype', 'object', 'object0', 'object_', 'ogrid', 'oldnumeric', 'ones', 'ones_like', 'outer', 'packbits', 'pad', 'partition', 'percentile', 'pi', 'piecewise', 'place', 'pmt', 'poly', 'poly1d', 'polyadd', 'polyder', 'polydiv', 'polyfit', 'polyint', 'polymul', 'polynomial', 'polysub', 'polyval', 'positive', 'power', 'ppmt', 'print_function', 'printoptions', 'prod', 'product', 'promote_types', 'ptp', 'put', 'put_along_axis', 'putmask', 'pv', 'quantile', 'r_', 'rad2deg', 'radians', 'random', 'rate', 'ravel', 'ravel_multi_index', 'real', 'real_if_close', 'rec', 'recarray', 'recfromcsv', 'recfromtxt', 'reciprocal', 'record', 'remainder', 'repeat', 'require', 'reshape', 'resize', 'result_type', 'right_shift', 'rint', 'roll', 'rollaxis', 'roots', 'rot90', 'round', 'round_', 'row_stack', 's_', 'safe_eval', 'save', 'savetxt', 'savez', 'savez_compressed', 'sctype2char', 'sctypeDict', 'sctypeNA', 'sctypes', 'searchsorted', 'select', 'set_numeric_ops', 'set_printoptions', 'set_string_function', 'setbufsize', 'setdiff1d', 'seterr', 'seterrcall', 'seterrobj', 'setxor1d', 'shape', 'shares_memory', 'short', 'show_config', 'sign', 'signbit', 'signedinteger', 'sin', 'sinc', 'single', 'singlecomplex', 'sinh', 'size', 'sometrue', 'sort', 'sort_complex', 'source', 'spacing', 'split', 'sqrt', 'square', 'squeeze', 'stack', 'std', 'str', 'str0', 'str_', 'string_', 'subtract', 'sum', 'swapaxes', 'sys', 'take', 'take_along_axis', 'tan', 'tanh', 'tensordot', 'test', 'testing', 'tile', 'timedelta64', 'trace', 'tracemalloc_domain', 'transpose', 'trapz', 'tri', 'tril', 'tril_indices', 'tril_indices_from', 'trim_zeros', 'triu', 'triu_indices', 'triu_indices_from', 'true_divide', 'trunc', 'typeDict', 'typeNA', 'typecodes', 'typename', 'ubyte', 'ufunc', 'uint', 'uint0', 'uint16', 'uint32', 'uint64', 'uint8', 'uintc', 'uintp', 'ulonglong', 'unicode', 'unicode_', 'union1d', 'unique', 'unpackbits', 'unravel_index', 'unsignedinteger', 'unwrap', 'ushort', 'vander', 'var', 'vdot', 'vectorize', 'version', 'void', 'void0', 'vsplit', 'vstack', 'warnings', 'where', 'who', 'zeros', 'zeros_like']\n"
     ]
    }
   ],
   "source": [
    "# Numpy를 사용하기 위해서는 Numpy모듈을 import해야 한다.\n",
    "import numpy as np\n",
    "np.__version__\n",
    "print(dir(np))"
   ]
  },
  {
   "cell_type": "markdown",
   "metadata": {},
   "source": [
    "#### 1. 1차원 Array정의 및 사용하기"
   ]
  },
  {
   "cell_type": "code",
   "execution_count": 8,
   "metadata": {},
   "outputs": [
    {
     "name": "stdout",
     "output_type": "stream",
     "text": [
      "<class 'list'>\n",
      "[1 2 3 4 5]\n",
      "[1, 2, 3, 4, 5]\n",
      "<class 'numpy.ndarray'>\n",
      "[1.  2.  3.  4.1]\n"
     ]
    }
   ],
   "source": [
    "# 1. np.array() : 데이터를 numpy배열로 리턴\n",
    "#?np.array\n",
    "data = [1,2,3,4,5]\n",
    "print(type(data))\n",
    "\n",
    "# np.array() : 데이터를 numpy배열 즉, ndarray로 변환해주는 함수\n",
    "arr = np.array(data)\n",
    "print(arr)\n",
    "print(data)\n",
    "print(type(arr))\n",
    "\n",
    "# 강제형변환(upcasting)\n",
    "arr1 = np.array([1,2,3,4.1])\n",
    "print(arr1)"
   ]
  },
  {
   "cell_type": "code",
   "execution_count": 15,
   "metadata": {},
   "outputs": [
    {
     "name": "stdout",
     "output_type": "stream",
     "text": [
      "<class 'int'>\n",
      "<class 'tuple'>\n",
      "<class 'tuple'>\n",
      "(4,)\n",
      "(4,)\n",
      "Help on tuple object:\n",
      "\n",
      "class tuple(object)\n",
      " |  tuple(iterable=(), /)\n",
      " |  \n",
      " |  Built-in immutable sequence.\n",
      " |  \n",
      " |  If no argument is given, the constructor returns an empty tuple.\n",
      " |  If iterable is specified the tuple is initialized from iterable's items.\n",
      " |  \n",
      " |  If the argument is a tuple, the return value is the same object.\n",
      " |  \n",
      " |  Methods defined here:\n",
      " |  \n",
      " |  __add__(self, value, /)\n",
      " |      Return self+value.\n",
      " |  \n",
      " |  __contains__(self, key, /)\n",
      " |      Return key in self.\n",
      " |  \n",
      " |  __eq__(self, value, /)\n",
      " |      Return self==value.\n",
      " |  \n",
      " |  __ge__(self, value, /)\n",
      " |      Return self>=value.\n",
      " |  \n",
      " |  __getattribute__(self, name, /)\n",
      " |      Return getattr(self, name).\n",
      " |  \n",
      " |  __getitem__(self, key, /)\n",
      " |      Return self[key].\n",
      " |  \n",
      " |  __getnewargs__(self, /)\n",
      " |  \n",
      " |  __gt__(self, value, /)\n",
      " |      Return self>value.\n",
      " |  \n",
      " |  __hash__(self, /)\n",
      " |      Return hash(self).\n",
      " |  \n",
      " |  __iter__(self, /)\n",
      " |      Implement iter(self).\n",
      " |  \n",
      " |  __le__(self, value, /)\n",
      " |      Return self<=value.\n",
      " |  \n",
      " |  __len__(self, /)\n",
      " |      Return len(self).\n",
      " |  \n",
      " |  __lt__(self, value, /)\n",
      " |      Return self<value.\n",
      " |  \n",
      " |  __mul__(self, value, /)\n",
      " |      Return self*value.\n",
      " |  \n",
      " |  __ne__(self, value, /)\n",
      " |      Return self!=value.\n",
      " |  \n",
      " |  __repr__(self, /)\n",
      " |      Return repr(self).\n",
      " |  \n",
      " |  __rmul__(self, value, /)\n",
      " |      Return value*self.\n",
      " |  \n",
      " |  count(self, value, /)\n",
      " |      Return number of occurrences of value.\n",
      " |  \n",
      " |  index(self, value, start=0, stop=9223372036854775807, /)\n",
      " |      Return first index of value.\n",
      " |      \n",
      " |      Raises ValueError if the value is not present.\n",
      " |  \n",
      " |  ----------------------------------------------------------------------\n",
      " |  Static methods defined here:\n",
      " |  \n",
      " |  __new__(*args, **kwargs) from builtins.type\n",
      " |      Create and return a new object.  See help(type) for accurate signature.\n",
      "\n"
     ]
    }
   ],
   "source": [
    "# 2. np.shape : numpy배열의 크기를 리턴\n",
    "#?np.shape\n",
    "a = 4\n",
    "print(type(a))\n",
    "\n",
    "b = 4,\n",
    "print(type(b))\n",
    "\n",
    "c = (4,)\n",
    "print(type(c))\n",
    "\n",
    "print(arr1.shape)\n",
    "print(np.shape(arr1))\n",
    "help(arr1.shape)"
   ]
  },
  {
   "cell_type": "markdown",
   "metadata": {},
   "source": [
    "#### 2. 2차원 Array(행렬, Matrix)"
   ]
  },
  {
   "cell_type": "code",
   "execution_count": 24,
   "metadata": {},
   "outputs": [
    {
     "name": "stdout",
     "output_type": "stream",
     "text": [
      "<class 'list'>\n",
      "<class 'numpy.ndarray'>\n",
      "(2, 3)\n",
      "[[1. 2. 3.]\n",
      " [4. 5. 6.]]\n",
      "(3, 3)\n",
      "[[1 2 3]\n",
      " [4 5 6]\n",
      " [7 8 9]]\n"
     ]
    }
   ],
   "source": [
    "# 1. np.array()\n",
    "# 2차원 리스트\n",
    "data = [[1,2,3],[4,5,6.0]]\n",
    "print(type(data))\n",
    "\n",
    "# 2차원리스트를 2차원 ndarray로 변환\n",
    "arr = np.array(data)\n",
    "print(type(arr))\n",
    "print(arr.shape)\n",
    "print(arr)\n",
    "\n",
    "# numpy의 datatype보기\n",
    "arr.dtype\n",
    "\n",
    "arr1 = np.array([[1,2,3],[4,5,6],[7,8,9]])\n",
    "print(arr1.shape)\n",
    "print(arr1)"
   ]
  },
  {
   "cell_type": "markdown",
   "metadata": {},
   "source": [
    "#### 3. Numpy 연산\n",
    "\n",
    "##### 1. numpy shape\n",
    "\n",
    "* numpy에서 해당 array크기를 확인할 수 있는 함수이다. 이 함수는 정수를 리턴한다.\n",
    "* shape(크기)를 확인 함으로써 numpy배열에 몇개의 데이터가 있는지, 몇차원의 데이터인지를 확인한다.\n",
    "* 1차원배열일 경우 `(5,)`형태로 2차원 배열일 경우는 `(3,4)`의 형태로 리턴한다>\n",
    "\n",
    "##### 2. numpy datatype\n",
    "\n",
    "* int(8,16,32,64) : 부호가 있는 정수 \n",
    "* uint(8,16,32,64) : 부호가 없는 정수 \n",
    "* float(16,32,64,126) : 실수\n",
    "* complex(64,129,256) : 복소수\n",
    "* bool : boolean\n",
    "* string : 문자열\n",
    "* object : 파이썬의 오브젝트(객체)\n",
    "* unicode : 유니코드"
   ]
  },
  {
   "cell_type": "code",
   "execution_count": 31,
   "metadata": {},
   "outputs": [
    {
     "name": "stdout",
     "output_type": "stream",
     "text": [
      "numpy 덧셈: [[ 8 10 12]\n",
      " [14 16 18]]\n",
      "numpy 뺄셈: [[-6 -6 -6]\n",
      " [-6 -6 -6]]\n",
      "numpy 곱셈: [[ 7 16 27]\n",
      " [40 55 72]]\n",
      "numpy 나눗셈: [[0.14285714 0.25       0.33333333]\n",
      " [0.4        0.45454545 0.5       ]]\n",
      "numpy 요소전체 2배: [[ 2  4  6]\n",
      " [ 8 10 12]]\n",
      "numpy 제곱슨: [[ 1  4  9]\n",
      " [16 25 36]]\n"
     ]
    }
   ],
   "source": [
    "# 1. Numpy배열의 연산\n",
    "# numpy의 배열은 리스트와 비슷하지만 다듬과 같은 점에서 다르다.\n",
    "# 1) 모든 원소가 같은 자료형이이어야 한다.\n",
    "# 2) 원소의 갯수는 바꿀 수가 없다.\n",
    "arr1 = np.array([[1,2,3],[4,5,6]])\n",
    "arr2 = np.array([[7,8,9], [10,11,12]])\n",
    "\n",
    "print(\"numpy 덧셈:\", arr1 + arr2)\n",
    "print(\"numpy 뺄셈:\", arr1 - arr2)\n",
    "print(\"numpy 곱셈:\", arr1 * arr2)\n",
    "print(\"numpy 나눗셈:\", arr1 / arr2)\n",
    "print(\"numpy 요소전체 2배:\", arr1 * 2)\n",
    "print(\"numpy 제곱근:\", arr1 ** 2)"
   ]
  },
  {
   "cell_type": "code",
   "execution_count": 33,
   "metadata": {},
   "outputs": [
    {
     "name": "stdout",
     "output_type": "stream",
     "text": [
      "numpy 덧셈: [[11 13 15]\n",
      " [14 16 18]]\n",
      "numpy 뺄셈: [[-9 -9 -9]\n",
      " [-6 -6 -6]]\n",
      "numpy 곱셈: [[10 22 36]\n",
      " [40 55 72]]\n",
      "numpy 나눗셈: [[0.1        0.18181818 0.25      ]\n",
      " [0.4        0.45454545 0.5       ]]\n",
      "numpy 요소전체 2배: [[ 2  4  6]\n",
      " [ 8 10 12]]\n",
      "numpy 제곱근: [[ 1  4  9]\n",
      " [16 25 36]]\n"
     ]
    }
   ],
   "source": [
    "# 2. array broadcast\n",
    "# numpy배열에서는 기본적으로 동일 크기를 가져야 연산이 가능하지만 배열의 크기가 틀릴 경우에\n",
    "# 이런점을 보완하기 위해 numpy에서는 broadcast라는 기능을 제공해 준다.\n",
    "# 즉, broadcast는 서로 크기가 다른 numpy배열을 연산이 가능하도록 해주는 기능이다.\n",
    "\n",
    "arr1 = np.array([[1,2,3],[4,5,6]])\n",
    "arr2 = np.array([10,11,12])        # [[10,11,12], [10,11,12]]\n",
    "\n",
    "print(\"numpy 덧셈:\", arr1 + arr2)\n",
    "print(\"numpy 뺄셈:\", arr1 - arr2)\n",
    "print(\"numpy 곱셈:\", arr1 * arr2)\n",
    "print(\"numpy 나눗셈:\", arr1 / arr2)\n",
    "print(\"numpy 요소전체 2배:\", arr1 * 2)\n",
    "print(\"numpy 제곱근:\", arr1 ** 2)"
   ]
  },
  {
   "cell_type": "markdown",
   "metadata": {},
   "source": [
    "#### 4. Numpy Array의 인덱싱과 슬라이싱\n",
    "\n",
    "* numpy에서 사용되는 인덱싱은 python에서의 인덱싱과 기본적으로 동일하다.\n",
    "* numpy의 인덱싱은 0부터 시작한다."
   ]
  },
  {
   "cell_type": "code",
   "execution_count": 53,
   "metadata": {},
   "outputs": [
    {
     "name": "stdout",
     "output_type": "stream",
     "text": [
      "[10. 12. 14. 16. 18.]\n",
      "<class 'numpy.ndarray'>\n",
      "float64\n",
      "\n",
      "[0 1 2 3 4 5 6 7 8 9]\n",
      "9\n",
      "[0 1 2]\n",
      "[0 1 2]\n",
      "[3 4 5 6 7 8 9]\n",
      "[0 1 2 3 4 5 6]\n",
      "[0 1 2 3 4 5 6 7 8 9]\n"
     ]
    }
   ],
   "source": [
    "# np.arange([start,], stop[, step])\n",
    "# ?np.arange\n",
    "arr1 = np.arange(10, 20, 2, dtype='float64')\n",
    "print(arr1)\n",
    "print(type(arr1))\n",
    "print(arr1.dtype)\n",
    "print() \n",
    "\n",
    "# 1차원 array의 인덱싱과 슬라이싱\n",
    "arr1 = np.arange(10)\n",
    "print(arr1)\n",
    "print(arr1[9])\n",
    "print(arr1[0:3])\n",
    "print(arr1[:3])\n",
    "print(arr1[3:])\n",
    "print(arr1[:-3])\n",
    "print(arr1[:])"
   ]
  },
  {
   "cell_type": "code",
   "execution_count": 62,
   "metadata": {},
   "outputs": [
    {
     "name": "stdout",
     "output_type": "stream",
     "text": [
      "[[1 2 3]\n",
      " [4 5 6]\n",
      " [7 8 9]]\n",
      "\n",
      "1\n",
      "2\n",
      "3\n",
      "4\n",
      "5\n",
      "6\n",
      "7\n",
      "8\n",
      "9\n",
      "\n",
      "[[1 2 3]\n",
      " [4 5 6]\n",
      " [7 8 9]]\n",
      "[[7 8 9]]\n",
      "[7 8 9]\n"
     ]
    }
   ],
   "source": [
    "# 2차원 array의 인덱싱과 슬라이싱\n",
    "arr2 = np.array([[1,2,3],[4,5,6],[7,8,9]])\n",
    "print(arr2)\n",
    "print()\n",
    "\n",
    "# 2차원[행, 요소위치]\n",
    "print(arr2[0,0])\n",
    "print(arr2[0,1])\n",
    "print(arr2[0,2])\n",
    "\n",
    "print(arr2[1,0])\n",
    "print(arr2[1,1])\n",
    "print(arr2[1,2])\n",
    "\n",
    "print(arr2[2,0])\n",
    "print(arr2[2,1])\n",
    "print(arr2[2,2])\n",
    "print()\n",
    "\n",
    "# 요소를 꺼내기\n",
    "# 다차원배열의 원소중 복수개를 접근하려면 slicing과 컴마(,)를 함께 사용하면 된다.\n",
    "# a[0, :] -> 첫 번째행 전체\n",
    "# a[:, 1] -> 두 번째열 전체\n",
    "# a[1, 1:] -> 두 번째 행의 두번째 열부터 끝까지\n",
    "# a[:2, :2] -> 첫 번째부터 두번쨰행과 첫번쨰열부터 두번째열까지\n",
    "\n",
    "\n",
    "print(arr2[:])     # 전체요소꺼내기\n",
    "print(arr2[2:])    # 3번째행(2차원)의 모든 요소 꺼내기\n",
    "print(arr2[2,:])   # 3번째행(1차원)의 모든 요소 꺼내기\n",
    "\n",
    "# 9를 꺼내기 : 2행의 3번쨰 요소\n",
    "# 모든 열의 3번째요소 [3,6,9]\n",
    "# [[1,2],[4,5]] 꺼내오기\n",
    "# [[5,6],[8,9]] 꺼내오기"
   ]
  },
  {
   "cell_type": "code",
   "execution_count": 197,
   "metadata": {},
   "outputs": [
    {
     "name": "stdout",
     "output_type": "stream",
     "text": [
      "7\n",
      "14\n",
      "14\n",
      "14\n",
      "[6 7]\n",
      "[[ 7]\n",
      " [12]]\n",
      "[[3 4]\n",
      " [8 9]]\n",
      "[[3 4]\n",
      " [8 9]]\n"
     ]
    }
   ],
   "source": [
    "# 실습문제\n",
    "m = np.array([[ 0,  1,  2,  3,  4],\n",
    "              [ 5,  6,  7,  8,  9],\n",
    "              [10, 11, 12, 13, 14]])\n",
    "\n",
    "# 이 행렬에서 값 7 을 인덱싱한다.\n",
    "print(m[1,2])\n",
    "\n",
    "# 이 행렬에서 값 14 을 인덱싱한다.\n",
    "print(m[2,4])\n",
    "print(m[2,-1])\n",
    "print(m[-1,-1])\n",
    "\n",
    "# 이 행렬에서 배열 [6, 7] 을 슬라이싱한다.\n",
    "print(m[1,1:3])\n",
    "\n",
    "# 이 행렬에서 배열 [7, 12] 을 슬라이싱한다.\n",
    "print(m[1:3, 2:3])\n",
    "\n",
    "# 이 행렬에서 배열 [[3, 4], [8, 9]] 을 슬라이싱한다.\n",
    "print(m[0:2, 3:5])\n",
    "print(m[0:2, 3:])"
   ]
  },
  {
   "cell_type": "code",
   "execution_count": 75,
   "metadata": {},
   "outputs": [
    {
     "name": "stdout",
     "output_type": "stream",
     "text": [
      "[0 1 2 3 4 5 6 7 8 9]\n",
      "[ True False  True False  True False  True False  True False]\n",
      "[0 2 4 6 8]\n",
      "[0 2 4 6 8]\n"
     ]
    }
   ],
   "source": [
    "# 배열인덱싱\n",
    "# numpy배열 객체의 강력한 기능은 팬시 인덱싱(Fancy Indexing)이라고 부르는 배열인덱싱이다. 인덱싱이란 이름이\n",
    "# 붙었지만 사실은 데이터베이스의 질의(QUery)기능을 수행하다.\n",
    "# 배열의 인덱싱은 두가지가 있다. 하나는 정수배열방식과 다른 하나는 블리안배열방식이다.\n",
    "# 블리안 인덱싱 방식은 배열의 원소가 True or False 두 값으로만 구성되며 인덱스 배열의 크기가 원래 ndarray\n",
    "# 객체의 크기와 동일 해야 한다.\n",
    "\n",
    "a = np.array([0,1,2,3,4,5,6,7,8,9])\n",
    "idx = np.array([True, False, True, False, True, False, True, False, True, False])\n",
    "print(a)\n",
    "print(idx)\n",
    "print(a[idx])\n",
    "\n",
    "# 짝수만 나오게 할 경우\n",
    "print(a[a % 2 == 0])"
   ]
  },
  {
   "cell_type": "code",
   "execution_count": 80,
   "metadata": {},
   "outputs": [
    {
     "name": "stdout",
     "output_type": "stream",
     "text": [
      "[[ 1  2  3  4]\n",
      " [ 5  6  7  8]\n",
      " [ 9 10 11 12]]\n"
     ]
    },
    {
     "data": {
      "text/plain": [
       "array([[ 1,  4],\n",
       "       [ 5,  8],\n",
       "       [ 9, 12]])"
      ]
     },
     "execution_count": 80,
     "metadata": {},
     "output_type": "execute_result"
    }
   ],
   "source": [
    "# 2차원 블리안 인덱싱\n",
    "a = np.array([[1,2,3,4],[5,6,7,8],[9,10,11,12]])\n",
    "print(a)\n",
    "\n",
    "a[:,[True, False, False, True]]"
   ]
  },
  {
   "cell_type": "code",
   "execution_count": 83,
   "metadata": {},
   "outputs": [
    {
     "name": "stdout",
     "output_type": "stream",
     "text": [
      "[[1 2 3]\n",
      " [4 5 6]\n",
      " [7 8 9]]\n",
      "[2 4 6 8]\n",
      "[2 4 6 8]\n"
     ]
    }
   ],
   "source": [
    "lst = [\n",
    "    [1,2,3],\n",
    "    [4,5,6],\n",
    "    [7,8,9]\n",
    "]\n",
    "a = np.array(lst)\n",
    "print(a)\n",
    "\n",
    "bool_idx_array = np.array([\n",
    "    [False, True, False],\n",
    "    [True, False, True],\n",
    "    [False, True, False]\n",
    "])\n",
    "print(a[bool_idx_array])\n",
    "print(a[a%2 == 0])"
   ]
  },
  {
   "cell_type": "markdown",
   "metadata": {},
   "source": [
    "#### 5. Numpy 함수\n",
    "\n",
    "##### 1. 한 개의 array적용되는 함수"
   ]
  },
  {
   "cell_type": "code",
   "execution_count": 88,
   "metadata": {},
   "outputs": [
    {
     "name": "stdout",
     "output_type": "stream",
     "text": [
      "[0. 0. 0. 0. 0. 0. 0. 0. 0. 0.]\n",
      "[[0. 0. 0. 0. 0.]\n",
      " [0. 0. 0. 0. 0.]\n",
      " [0. 0. 0. 0. 0.]\n",
      " [0. 0. 0. 0. 0.]\n",
      " [0. 0. 0. 0. 0.]\n",
      " [0. 0. 0. 0. 0.]\n",
      " [0. 0. 0. 0. 0.]\n",
      " [0. 0. 0. 0. 0.]\n",
      " [0. 0. 0. 0. 0.]\n",
      " [0. 0. 0. 0. 0.]]\n"
     ]
    }
   ],
   "source": [
    "# 1. zeros() : array가 생성될되 모든 요소의 값을 0으로 초기화하는 함수\n",
    "?np.zeros\n",
    "z1 = np.zeros(10)\n",
    "print(z1)\n",
    "\n",
    "z2 = np.zeros((10, 5))\n",
    "print(z2)"
   ]
  },
  {
   "cell_type": "code",
   "execution_count": 91,
   "metadata": {},
   "outputs": [
    {
     "name": "stdout",
     "output_type": "stream",
     "text": [
      "[1. 1. 1. 1. 1. 1. 1. 1. 1. 1.]\n",
      "[[1. 1. 1. 1. 1.]\n",
      " [1. 1. 1. 1. 1.]\n",
      " [1. 1. 1. 1. 1.]\n",
      " [1. 1. 1. 1. 1.]\n",
      " [1. 1. 1. 1. 1.]\n",
      " [1. 1. 1. 1. 1.]\n",
      " [1. 1. 1. 1. 1.]\n",
      " [1. 1. 1. 1. 1.]\n",
      " [1. 1. 1. 1. 1.]\n",
      " [1. 1. 1. 1. 1.]]\n"
     ]
    }
   ],
   "source": [
    "# 2. ones() : array가 생성될되 모든 요소의 값을 1로 초기화하는 함수\n",
    "# ?np.ones\n",
    "o1 = np.ones(10)\n",
    "print(o1)\n",
    "\n",
    "o2 = np.ones((10,5))\n",
    "print(o2)"
   ]
  },
  {
   "cell_type": "code",
   "execution_count": 92,
   "metadata": {},
   "outputs": [
    {
     "name": "stdout",
     "output_type": "stream",
     "text": [
      "[10. 12. 14. 16. 18.]\n"
     ]
    }
   ],
   "source": [
    "# 3. arange()\n",
    "print(np.arange(10, 20, 2, dtype='float32'))"
   ]
  },
  {
   "cell_type": "code",
   "execution_count": 142,
   "metadata": {},
   "outputs": [
    {
     "name": "stdout",
     "output_type": "stream",
     "text": [
      "[0.5488135  0.71518937 0.60276338 0.54488318 0.4236548  0.64589411\n",
      " 0.43758721 0.891773   0.96366276 0.38344152]\n",
      "[0.79172504 0.52889492 0.56804456 0.92559664 0.07103606 0.0871293\n",
      " 0.0202184  0.83261985 0.77815675 0.87001215]\n",
      "[[0.97861834 0.79915856 0.46147936 0.78052918 0.11827443]\n",
      " [0.63992102 0.14335329 0.94466892 0.52184832 0.41466194]\n",
      " [0.26455561 0.77423369 0.45615033 0.56843395 0.0187898 ]]\n",
      "\n",
      "[ 1.46274045  1.53502913  0.56644004  0.14926509 -1.078278    1.39547227\n",
      "  1.78748405 -0.56951726  0.17538653 -0.46250554]\n",
      "[[-1.0858006   0.63973599 -0.38586334 -0.77576235  0.99571135]\n",
      " [-1.93320478  0.24853063 -0.03124534 -0.13947396 -0.19065598]\n",
      " [ 0.44863753 -0.99242977 -0.22593966 -1.65457077 -0.63972264]]\n",
      "\n",
      "5\n",
      "[5 0 1 5 9 3 0 5 0 1]\n",
      "[12 14 12 10 13 12 10 17 15 19]\n",
      "[[10 12 17 12 19]\n",
      " [12 13 13 12 13]\n",
      " [14 11 12 19 11]]\n",
      "\n"
     ]
    }
   ],
   "source": [
    "# 4. random()\n",
    "# 1) seed() : seed설정하기\n",
    "# 특정한 시작 숫자를 정의하지 않으면 실행될 때마다 무작위수가 발생이 된다. 하진 특정의\n",
    "# 시작 숫자 정해 주면 랜덤 알고리즘은 마치 난수처럼 보이는 수열을 생성한다. \n",
    "# 이 시작되는 숫자를 \"Seed\"라고 한다. 이를 위해 파이썬에서 random모듈을 seed(인수)함수를 \n",
    "# 제공하는 데 보통 인수는 0 또는 0보다 큰 임의의 수로 설정한다.\n",
    "# ?np.random.seed\n",
    "\n",
    "np.random.seed(0)\n",
    "result = np.random.rand(10)\n",
    "print(result)\n",
    "\n",
    "# 2) 난수를 발생 3가지 메서드\n",
    "# 2-1) rand  : 0~1사이의 균일 분포를 가진 난수 발생\n",
    "print(np.random.rand(10))\n",
    "print(np.random.rand(3,5))\n",
    "print()\n",
    "\n",
    "# 2-2) randn : 표준정규분포(가우시안)\n",
    "print(np.random.randn(10))\n",
    "print(np.random.randn(3,5))\n",
    "print()\n",
    "\n",
    "# 3-3) randint : 균일 분포의 정수 난수\n",
    "# numpy.random.randint(low, high=None, size=None)\n",
    "# high를 입력하지 않으면 0과 low사이의 숫자를 high를 입력하면 low와 high의 숮자를 생성\n",
    "# size는 난수의 숫자이다.\n",
    "print(np.random.randint(10))\n",
    "print(np.random.randint(10, size=10))\n",
    "print(np.random.randint(10, 20, size=10))\n",
    "print(np.random.randint(10, 20, size=(3,5)))\n",
    "print()"
   ]
  },
  {
   "cell_type": "code",
   "execution_count": 144,
   "metadata": {},
   "outputs": [
    {
     "name": "stdout",
     "output_type": "stream",
     "text": [
      "[[-0.57890879  1.42694855  0.27699691]\n",
      " [ 0.78966713  0.32207411  0.70039238]\n",
      " [ 0.38871663 -0.04126386  0.29588432]\n",
      " [-0.42527999  1.72763912 -0.86835257]\n",
      " [-0.82097758 -1.09974201  0.08672983]]\n",
      "[[0.57890879 1.42694855 0.27699691]\n",
      " [0.78966713 0.32207411 0.70039238]\n",
      " [0.38871663 0.04126386 0.29588432]\n",
      " [0.42527999 1.72763912 0.86835257]\n",
      " [0.82097758 1.09974201 0.08672983]]\n"
     ]
    }
   ],
   "source": [
    "# 5. abs()\n",
    "arr1 = np.random.randn(5,3)\n",
    "print(arr1)\n",
    "print(np.abs(arr1))"
   ]
  },
  {
   "cell_type": "code",
   "execution_count": 145,
   "metadata": {},
   "outputs": [
    {
     "name": "stdout",
     "output_type": "stream",
     "text": [
      "[[3.35135383e-01 2.03618217e+00 7.67272854e-02]\n",
      " [6.23574177e-01 1.03731735e-01 4.90549482e-01]\n",
      " [1.51100620e-01 1.70270620e-03 8.75475315e-02]\n",
      " [1.80863068e-01 2.98473693e+00 7.54036191e-01]\n",
      " [6.74004183e-01 1.20943249e+00 7.52206323e-03]]\n"
     ]
    }
   ],
   "source": [
    "# 6. square() : 각 요소에 제곱근을 계산\n",
    "print(np.square(arr1))"
   ]
  },
  {
   "cell_type": "code",
   "execution_count": 146,
   "metadata": {},
   "outputs": [
    {
     "name": "stdout",
     "output_type": "stream",
     "text": [
      "[[0.56050967 4.16596754 1.31916229]\n",
      " [2.2026631  1.37998705 2.01454301]\n",
      " [1.4750865  0.9595759  1.34431464]\n",
      " [0.65358676 5.62735271 0.41964231]\n",
      " [0.44000131 0.33295697 1.09060199]]\n"
     ]
    }
   ],
   "source": [
    "# 7. exp() : 각 요소의 무리수를 e지수로 연산\n",
    "print(np.exp(arr1))"
   ]
  },
  {
   "cell_type": "code",
   "execution_count": 147,
   "metadata": {},
   "outputs": [
    {
     "name": "stdout",
     "output_type": "stream",
     "text": [
      "[[        nan  0.35553828 -1.28374895]\n",
      " [-0.23614378 -1.13297359 -0.35611456]\n",
      " [-0.94490465         nan -1.21778671]\n",
      " [        nan  0.54675581         nan]\n",
      " [        nan         nan -2.44495741]]\n",
      "[[        nan  0.15440831 -0.55752508]\n",
      " [-0.10255594 -0.49204418 -0.15465859]\n",
      " [-0.41036688         nan -0.52887805]\n",
      " [        nan  0.23745303         nan]\n",
      " [        nan         nan -1.06183151]]\n",
      "[[        nan  0.51293332 -1.85205824]\n",
      " [-0.34068345 -1.63453538 -0.51376471]\n",
      " [-1.36320926         nan -1.75689484]\n",
      " [        nan  0.78880189         nan]\n",
      " [        nan         nan -3.52732793]]\n"
     ]
    },
    {
     "name": "stderr",
     "output_type": "stream",
     "text": [
      "C:\\Anaconda3\\lib\\site-packages\\ipykernel_launcher.py:3: RuntimeWarning: invalid value encountered in log\n",
      "  This is separate from the ipykernel package so we can avoid doing imports until\n",
      "C:\\Anaconda3\\lib\\site-packages\\ipykernel_launcher.py:4: RuntimeWarning: invalid value encountered in log10\n",
      "  after removing the cwd from sys.path.\n",
      "C:\\Anaconda3\\lib\\site-packages\\ipykernel_launcher.py:5: RuntimeWarning: invalid value encountered in log2\n",
      "  \"\"\"\n"
     ]
    }
   ],
   "source": [
    "# 8. log(), log10(), log2()\n",
    "# 자연로그, 상용로그, 밑2인 로그\n",
    "print(np.log(arr1))\n",
    "print(np.log10(arr1))\n",
    "print(np.log2(arr1))"
   ]
  },
  {
   "cell_type": "code",
   "execution_count": 148,
   "metadata": {},
   "outputs": [
    {
     "name": "stdout",
     "output_type": "stream",
     "text": [
      "[[-1.  1.  1.]\n",
      " [ 1.  1.  1.]\n",
      " [ 1. -1.  1.]\n",
      " [-1.  1. -1.]\n",
      " [-1. -1.  1.]]\n"
     ]
    }
   ],
   "source": [
    "# 9. sign() # 각 요소의 값이 음수일 때 -1, 0일 때는 0 양수일 때는 1로 리턴\n",
    "print(np.sign(arr1))"
   ]
  },
  {
   "cell_type": "code",
   "execution_count": 149,
   "metadata": {},
   "outputs": [
    {
     "name": "stdout",
     "output_type": "stream",
     "text": [
      "[[-0.  2.  1.]\n",
      " [ 1.  1.  1.]\n",
      " [ 1. -0.  1.]\n",
      " [-0.  2. -0.]\n",
      " [-0. -1.  1.]]\n"
     ]
    }
   ],
   "source": [
    "# 10. ceil()\n",
    "print(np.ceil(arr1))"
   ]
  },
  {
   "cell_type": "code",
   "execution_count": 150,
   "metadata": {},
   "outputs": [
    {
     "name": "stdout",
     "output_type": "stream",
     "text": [
      "[[-1.  1.  0.]\n",
      " [ 0.  0.  0.]\n",
      " [ 0. -1.  0.]\n",
      " [-1.  1. -1.]\n",
      " [-1. -2.  0.]]\n"
     ]
    }
   ],
   "source": [
    "# 11. floor()\n",
    "print(np.floor(arr1))"
   ]
  },
  {
   "cell_type": "code",
   "execution_count": 152,
   "metadata": {},
   "outputs": [
    {
     "name": "stdout",
     "output_type": "stream",
     "text": [
      "[[False False False]\n",
      " [False False False]\n",
      " [False False False]\n",
      " [False False False]\n",
      " [False False False]]\n",
      "[[ True False False]\n",
      " [False False False]\n",
      " [False  True False]\n",
      " [ True False  True]\n",
      " [ True  True False]]\n"
     ]
    },
    {
     "name": "stderr",
     "output_type": "stream",
     "text": [
      "C:\\Anaconda3\\lib\\site-packages\\ipykernel_launcher.py:3: RuntimeWarning: invalid value encountered in log\n",
      "  This is separate from the ipykernel package so we can avoid doing imports until\n"
     ]
    }
   ],
   "source": [
    "# 12. isnan() : NaN일 경우는 True, 아닐 경우 False로 리턴\n",
    "print(np.isnan(arr1))\n",
    "print(np.isnan(np.log(arr1)))"
   ]
  },
  {
   "cell_type": "code",
   "execution_count": 153,
   "metadata": {},
   "outputs": [
    {
     "name": "stdout",
     "output_type": "stream",
     "text": [
      "['ALLOW_THREADS', 'AxisError', 'BUFSIZE', 'CLIP', 'ComplexWarning', 'DataSource', 'ERR_CALL', 'ERR_DEFAULT', 'ERR_IGNORE', 'ERR_LOG', 'ERR_PRINT', 'ERR_RAISE', 'ERR_WARN', 'FLOATING_POINT_SUPPORT', 'FPE_DIVIDEBYZERO', 'FPE_INVALID', 'FPE_OVERFLOW', 'FPE_UNDERFLOW', 'False_', 'Inf', 'Infinity', 'MAXDIMS', 'MAY_SHARE_BOUNDS', 'MAY_SHARE_EXACT', 'MachAr', 'ModuleDeprecationWarning', 'NAN', 'NINF', 'NZERO', 'NaN', 'PINF', 'PZERO', 'RAISE', 'RankWarning', 'SHIFT_DIVIDEBYZERO', 'SHIFT_INVALID', 'SHIFT_OVERFLOW', 'SHIFT_UNDERFLOW', 'ScalarType', 'Tester', 'TooHardError', 'True_', 'UFUNC_BUFSIZE_DEFAULT', 'UFUNC_PYVALS_NAME', 'VisibleDeprecationWarning', 'WRAP', '_NoValue', '_UFUNC_API', '__NUMPY_SETUP__', '__all__', '__builtins__', '__cached__', '__config__', '__dir__', '__doc__', '__file__', '__getattr__', '__git_revision__', '__loader__', '__mkl_version__', '__name__', '__package__', '__path__', '__spec__', '__version__', '_add_newdoc_ufunc', '_distributor_init', '_globals', '_mat', '_pytesttester', 'abs', 'absolute', 'absolute_import', 'add', 'add_docstring', 'add_newdoc', 'add_newdoc_ufunc', 'alen', 'all', 'allclose', 'alltrue', 'amax', 'amin', 'angle', 'any', 'append', 'apply_along_axis', 'apply_over_axes', 'arange', 'arccos', 'arccosh', 'arcsin', 'arcsinh', 'arctan', 'arctan2', 'arctanh', 'argmax', 'argmin', 'argpartition', 'argsort', 'argwhere', 'around', 'array', 'array2string', 'array_equal', 'array_equiv', 'array_repr', 'array_split', 'array_str', 'asanyarray', 'asarray', 'asarray_chkfinite', 'ascontiguousarray', 'asfarray', 'asfortranarray', 'asmatrix', 'asscalar', 'atleast_1d', 'atleast_2d', 'atleast_3d', 'average', 'bartlett', 'base_repr', 'binary_repr', 'bincount', 'bitwise_and', 'bitwise_not', 'bitwise_or', 'bitwise_xor', 'blackman', 'block', 'bmat', 'bool', 'bool8', 'bool_', 'broadcast', 'broadcast_arrays', 'broadcast_to', 'busday_count', 'busday_offset', 'busdaycalendar', 'byte', 'byte_bounds', 'bytes0', 'bytes_', 'c_', 'can_cast', 'cast', 'cbrt', 'cdouble', 'ceil', 'cfloat', 'char', 'character', 'chararray', 'choose', 'clip', 'clongdouble', 'clongfloat', 'column_stack', 'common_type', 'compare_chararrays', 'compat', 'complex', 'complex128', 'complex64', 'complex_', 'complexfloating', 'compress', 'concatenate', 'conj', 'conjugate', 'convolve', 'copy', 'copysign', 'copyto', 'core', 'corrcoef', 'correlate', 'cos', 'cosh', 'count_nonzero', 'cov', 'cross', 'csingle', 'ctypeslib', 'cumprod', 'cumproduct', 'cumsum', 'datetime64', 'datetime_as_string', 'datetime_data', 'deg2rad', 'degrees', 'delete', 'deprecate', 'deprecate_with_doc', 'diag', 'diag_indices', 'diag_indices_from', 'diagflat', 'diagonal', 'diff', 'digitize', 'disp', 'divide', 'division', 'divmod', 'dot', 'double', 'dsplit', 'dstack', 'dtype', 'e', 'ediff1d', 'einsum', 'einsum_path', 'emath', 'empty', 'empty_like', 'equal', 'errstate', 'euler_gamma', 'exp', 'exp2', 'expand_dims', 'expm1', 'extract', 'eye', 'fabs', 'fastCopyAndTranspose', 'fft', 'fill_diagonal', 'find_common_type', 'finfo', 'fix', 'flatiter', 'flatnonzero', 'flexible', 'flip', 'fliplr', 'flipud', 'float', 'float16', 'float32', 'float64', 'float_', 'float_power', 'floating', 'floor', 'floor_divide', 'fmax', 'fmin', 'fmod', 'format_float_positional', 'format_float_scientific', 'format_parser', 'frexp', 'frombuffer', 'fromfile', 'fromfunction', 'fromiter', 'frompyfunc', 'fromregex', 'fromstring', 'full', 'full_like', 'fv', 'gcd', 'generic', 'genfromtxt', 'geomspace', 'get_array_wrap', 'get_include', 'get_printoptions', 'getbufsize', 'geterr', 'geterrcall', 'geterrobj', 'gradient', 'greater', 'greater_equal', 'half', 'hamming', 'hanning', 'heaviside', 'histogram', 'histogram2d', 'histogram_bin_edges', 'histogramdd', 'hsplit', 'hstack', 'hypot', 'i0', 'identity', 'iinfo', 'imag', 'in1d', 'index_exp', 'indices', 'inexact', 'inf', 'info', 'infty', 'inner', 'insert', 'int', 'int0', 'int16', 'int32', 'int64', 'int8', 'int_', 'int_asbuffer', 'intc', 'integer', 'interp', 'intersect1d', 'intp', 'invert', 'ipmt', 'irr', 'is_busday', 'isclose', 'iscomplex', 'iscomplexobj', 'isfinite', 'isfortran', 'isin', 'isinf', 'isnan', 'isnat', 'isneginf', 'isposinf', 'isreal', 'isrealobj', 'isscalar', 'issctype', 'issubclass_', 'issubdtype', 'issubsctype', 'iterable', 'ix_', 'kaiser', 'kron', 'lcm', 'ldexp', 'left_shift', 'less', 'less_equal', 'lexsort', 'lib', 'linalg', 'linspace', 'little_endian', 'load', 'loads', 'loadtxt', 'log', 'log10', 'log1p', 'log2', 'logaddexp', 'logaddexp2', 'logical_and', 'logical_not', 'logical_or', 'logical_xor', 'logspace', 'long', 'longcomplex', 'longdouble', 'longfloat', 'longlong', 'lookfor', 'ma', 'mafromtxt', 'mask_indices', 'mat', 'math', 'matmul', 'matrix', 'matrixlib', 'max', 'maximum', 'maximum_sctype', 'may_share_memory', 'mean', 'median', 'memmap', 'meshgrid', 'mgrid', 'min', 'min_scalar_type', 'minimum', 'mintypecode', 'mirr', 'mkl', 'mod', 'modf', 'moveaxis', 'msort', 'multiply', 'nan', 'nan_to_num', 'nanargmax', 'nanargmin', 'nancumprod', 'nancumsum', 'nanmax', 'nanmean', 'nanmedian', 'nanmin', 'nanpercentile', 'nanprod', 'nanquantile', 'nanstd', 'nansum', 'nanvar', 'nbytes', 'ndarray', 'ndenumerate', 'ndfromtxt', 'ndim', 'ndindex', 'nditer', 'negative', 'nested_iters', 'newaxis', 'nextafter', 'nonzero', 'not_equal', 'nper', 'npv', 'numarray', 'number', 'obj2sctype', 'object', 'object0', 'object_', 'ogrid', 'oldnumeric', 'ones', 'ones_like', 'outer', 'packbits', 'pad', 'partition', 'percentile', 'pi', 'piecewise', 'place', 'pmt', 'poly', 'poly1d', 'polyadd', 'polyder', 'polydiv', 'polyfit', 'polyint', 'polymul', 'polynomial', 'polysub', 'polyval', 'positive', 'power', 'ppmt', 'print_function', 'printoptions', 'prod', 'product', 'promote_types', 'ptp', 'put', 'put_along_axis', 'putmask', 'pv', 'quantile', 'r_', 'rad2deg', 'radians', 'random', 'rate', 'ravel', 'ravel_multi_index', 'real', 'real_if_close', 'rec', 'recarray', 'recfromcsv', 'recfromtxt', 'reciprocal', 'record', 'remainder', 'repeat', 'require', 'reshape', 'resize', 'result_type', 'right_shift', 'rint', 'roll', 'rollaxis', 'roots', 'rot90', 'round', 'round_', 'row_stack', 's_', 'safe_eval', 'save', 'savetxt', 'savez', 'savez_compressed', 'sctype2char', 'sctypeDict', 'sctypeNA', 'sctypes', 'searchsorted', 'select', 'set_numeric_ops', 'set_printoptions', 'set_string_function', 'setbufsize', 'setdiff1d', 'seterr', 'seterrcall', 'seterrobj', 'setxor1d', 'shape', 'shares_memory', 'short', 'show_config', 'sign', 'signbit', 'signedinteger', 'sin', 'sinc', 'single', 'singlecomplex', 'sinh', 'size', 'sometrue', 'sort', 'sort_complex', 'source', 'spacing', 'split', 'sqrt', 'square', 'squeeze', 'stack', 'std', 'str', 'str0', 'str_', 'string_', 'subtract', 'sum', 'swapaxes', 'sys', 'take', 'take_along_axis', 'tan', 'tanh', 'tensordot', 'test', 'testing', 'tile', 'timedelta64', 'trace', 'tracemalloc_domain', 'transpose', 'trapz', 'tri', 'tril', 'tril_indices', 'tril_indices_from', 'trim_zeros', 'triu', 'triu_indices', 'triu_indices_from', 'true_divide', 'trunc', 'typeDict', 'typeNA', 'typecodes', 'typename', 'ubyte', 'ufunc', 'uint', 'uint0', 'uint16', 'uint32', 'uint64', 'uint8', 'uintc', 'uintp', 'ulonglong', 'unicode', 'unicode_', 'union1d', 'unique', 'unpackbits', 'unravel_index', 'unsignedinteger', 'unwrap', 'ushort', 'vander', 'var', 'vdot', 'vectorize', 'version', 'void', 'void0', 'vsplit', 'vstack', 'warnings', 'where', 'who', 'zeros', 'zeros_like']\n"
     ]
    }
   ],
   "source": [
    "# 13. cos(), sin(), tan(), cosh(), sinh(), tanh()\n",
    "print(dir(np))"
   ]
  },
  {
   "cell_type": "markdown",
   "metadata": {},
   "source": [
    "##### 2. 두 개의 array적용되는 함수"
   ]
  },
  {
   "cell_type": "code",
   "execution_count": 154,
   "metadata": {},
   "outputs": [
    {
     "name": "stdout",
     "output_type": "stream",
     "text": [
      "[[ 0.45628701  0.4310333   2.07257353]\n",
      " [-0.53778512 -1.3784301  -0.49240425]\n",
      " [ 2.32773811  1.80440397 -0.24942133]\n",
      " [-0.82086383 -1.49333996  0.52417595]\n",
      " [ 0.34511317  0.72437468 -2.04038084]]\n",
      "[[0.03362509 0.96896177 0.32099724]\n",
      " [0.22126269 0.1412639  0.09725993]\n",
      " [0.98404224 0.26034093 0.53702252]\n",
      " [0.44792617 0.09956909 0.35231166]\n",
      " [0.46924917 0.84114013 0.90464774]]\n"
     ]
    }
   ],
   "source": [
    "arr1 = np.random.randn(5,3)\n",
    "arr2 = np.random.rand(5,3)\n",
    "print(arr1)\n",
    "print(arr2)"
   ]
  },
  {
   "cell_type": "code",
   "execution_count": 156,
   "metadata": {},
   "outputs": [
    {
     "name": "stdout",
     "output_type": "stream",
     "text": [
      "[[ 0.4899121   1.39999507  2.39357078]\n",
      " [-0.31652243 -1.23716619 -0.39514432]\n",
      " [ 3.31178035  2.06474489  0.2876012 ]\n",
      " [-0.37293766 -1.39377087  0.87648761]\n",
      " [ 0.81436234  1.56551481 -1.1357331 ]]\n",
      "[[ 0.42266192 -0.53792846  1.75157629]\n",
      " [-0.7590478  -1.519694   -0.58966418]\n",
      " [ 1.34369587  1.54406304 -0.78644385]\n",
      " [-1.26879    -1.59290905  0.17186428]\n",
      " [-0.124136   -0.11676545 -2.94502859]]\n",
      "[[ 0.01534269  0.41765479  0.66529039]\n",
      " [-0.11899178 -0.19472242 -0.0478912 ]\n",
      " [ 2.29059263  0.4697602  -0.13394487]\n",
      " [-0.36768639 -0.1486905   0.1846733 ]\n",
      " [ 0.16194407  0.60930061 -1.84582593]]\n",
      "[[ 13.56983618   0.44484036   6.45667086]\n",
      " [ -2.43052785  -9.75783656  -5.06276598]\n",
      " [  2.36548596   6.93092701  -0.46445226]\n",
      " [ -1.83258733 -14.99802772   1.48781889]\n",
      " [  0.73545824   0.86118193  -2.25544236]]\n"
     ]
    }
   ],
   "source": [
    "# 1. 사칙연산함수(add, subtract, multiply, divide)\n",
    "print(np.add(arr1, arr2))\n",
    "print(np.subtract(arr1, arr2))\n",
    "print(np.multiply(arr1, arr2))\n",
    "print(np.divide(arr1, arr2))"
   ]
  },
  {
   "cell_type": "code",
   "execution_count": 158,
   "metadata": {},
   "outputs": [
    {
     "name": "stdout",
     "output_type": "stream",
     "text": [
      "[[0.45628701 0.96896177 2.07257353]\n",
      " [0.22126269 0.1412639  0.09725993]\n",
      " [2.32773811 1.80440397 0.53702252]\n",
      " [0.44792617 0.09956909 0.52417595]\n",
      " [0.46924917 0.84114013 0.90464774]]\n",
      "[[ 0.03362509  0.4310333   0.32099724]\n",
      " [-0.53778512 -1.3784301  -0.49240425]\n",
      " [ 0.98404224  0.26034093 -0.24942133]\n",
      " [-0.82086383 -1.49333996  0.35231166]\n",
      " [ 0.34511317  0.72437468 -2.04038084]]\n"
     ]
    }
   ],
   "source": [
    "# 2. 최대값, 최소값(maximum, minimum)\n",
    "print(np.maximum(arr1, arr2))\n",
    "print(np.minimum(arr1, arr2))"
   ]
  },
  {
   "cell_type": "markdown",
   "metadata": {},
   "source": [
    "##### 3. 통계함수\n",
    "\n",
    "* 통계함수를 통해서 numpy배열의 총합 또는 평균등을 구할 때 유용한 함수들\n",
    "* 열의 합 또는 행의 합을 쉽게 구할 수 있다."
   ]
  },
  {
   "cell_type": "code",
   "execution_count": 162,
   "metadata": {},
   "outputs": [
    {
     "name": "stdout",
     "output_type": "stream",
     "text": [
      "1.6730742988145506\n",
      "[ 1.77048934  0.0880419  -0.18545694]\n",
      "[ 2.95989385 -2.40861946  3.88272075 -1.79002784 -0.97089299]\n"
     ]
    }
   ],
   "source": [
    "# 1. sum() : 합계\n",
    "#?np.sum\n",
    "print(np.sum(arr1)) # 요소의 전체합\n",
    "print(np.sum(arr1, axis=0)) # 열의 합\n",
    "print(np.sum(arr1, axis=1)) # 행의 합"
   ]
  },
  {
   "cell_type": "code",
   "execution_count": 165,
   "metadata": {},
   "outputs": [
    {
     "name": "stdout",
     "output_type": "stream",
     "text": [
      "0.1115382865876367\n",
      "[ 0.35409787  0.01760838 -0.03709139]\n",
      "[ 0.98663128 -0.80287315  1.29424025 -0.59667595 -0.323631  ]\n"
     ]
    }
   ],
   "source": [
    "# 2. mean() : 평균\n",
    "# np.mean?\n",
    "print(np.mean(arr1)) # 요소 전체 평균\n",
    "print(np.mean(arr1, axis=0)) # 열의 평균\n",
    "print(np.mean(arr1, axis=1)) # 행의 평균"
   ]
  },
  {
   "cell_type": "code",
   "execution_count": 169,
   "metadata": {},
   "outputs": [
    {
     "name": "stdout",
     "output_type": "stream",
     "text": [
      "1.2558330112559941\n",
      "[1.10288435 1.2723966  1.34396946]\n",
      "[0.76794634 0.40740169 1.11224636 0.83876408 1.22375987]\n",
      "\n",
      "1.577116552160298\n",
      "[1.21635388 1.61899311 1.80625391]\n",
      "[0.58974158 0.16597613 1.23709197 0.70352517 1.49758823]\n",
      "\n",
      "-2.0403808422422274\n",
      "[-0.82086383 -1.49333996 -2.04038084]\n",
      "[ 0.4310333  -1.3784301  -0.24942133 -1.49333996 -2.04038084]\n",
      "\n",
      "2.3277381091718357\n",
      "[2.32773811 1.80440397 2.07257353]\n",
      "[ 2.07257353 -0.49240425  2.32773811  0.52417595  0.72437468]\n",
      "\n"
     ]
    }
   ],
   "source": [
    "# 3. std()표준편차, var()분산, min()최소값, max()최대값\n",
    "print(np.std(arr1)) # 요소 전체 표준편차\n",
    "print(np.std(arr1, axis=0)) # 열의 표준편차\n",
    "print(np.std(arr1, axis=1)) # 행의 표준편차\n",
    "print()\n",
    "\n",
    "print(np.var(arr1)) # 요소 전체 분산\n",
    "print(np.var(arr1, axis=0)) # 열의 분산\n",
    "print(np.var(arr1, axis=1)) # 행의 분산\n",
    "print()\n",
    "\n",
    "print(np.min(arr1)) # 요소 전체 최소값\n",
    "print(np.min(arr1, axis=0)) # 열의 최소값\n",
    "print(np.min(arr1, axis=1)) # 행의 최소값\n",
    "print()\n",
    "\n",
    "print(np.max(arr1)) # 요소 전체 최대값\n",
    "print(np.max(arr1, axis=0)) # 열의 최대값\n",
    "print(np.max(arr1, axis=1)) # 행의 최대값\n",
    "print()"
   ]
  },
  {
   "cell_type": "code",
   "execution_count": 171,
   "metadata": {},
   "outputs": [
    {
     "name": "stdout",
     "output_type": "stream",
     "text": [
      "14\n",
      "6\n"
     ]
    }
   ],
   "source": [
    "# 4. 위치함수 : argmin()최소값위치, argmax()최대값위치(index)\n",
    "print(np.argmin(arr1))\n",
    "print(np.argmax(arr1))"
   ]
  },
  {
   "cell_type": "code",
   "execution_count": 173,
   "metadata": {},
   "outputs": [
    {
     "name": "stdout",
     "output_type": "stream",
     "text": [
      "[0.45628701 0.88732031 2.95989385 2.42210873 1.04367863 0.55127438\n",
      " 2.87901249 4.68341646 4.43399513 3.6131313  2.11979135 2.64396729\n",
      " 2.98908046 3.71345514 1.6730743 ]\n",
      "[ 0.45628701  0.1966749   0.40762319 -0.21921368  0.30217074 -0.14879016\n",
      " -0.34634452 -0.62494542  0.15587472 -0.12795192  0.19107571  0.10015729\n",
      "  0.0345656   0.02503845 -0.05108796]\n"
     ]
    }
   ],
   "source": [
    "# 5. 누적함수 : 각 요소의 누적합cumsum(), 누적곱cumprod()\n",
    "print(np.cumsum(arr1))\n",
    "print(np.cumprod(arr1))"
   ]
  },
  {
   "cell_type": "markdown",
   "metadata": {},
   "source": [
    "##### 4. 기타함수"
   ]
  },
  {
   "cell_type": "code",
   "execution_count": 182,
   "metadata": {},
   "outputs": [
    {
     "name": "stdout",
     "output_type": "stream",
     "text": [
      "[5 4 6 2 3 1]\n",
      "[1 2 3 4 5 6]\n",
      "\n",
      "[[ 0.4310333   0.45628701  2.07257353]\n",
      " [-1.3784301  -0.53778512 -0.49240425]\n",
      " [-0.24942133  1.80440397  2.32773811]\n",
      " [-1.49333996 -0.82086383  0.52417595]\n",
      " [-2.04038084  0.34511317  0.72437468]]\n",
      "\n",
      "[0.4310333  0.45628701 2.07257353]\n",
      "[-1.49333996 -0.82086383  0.52417595]\n",
      "[[0.4310333  0.45628701 2.07257353]]\n",
      "[[ 0.4310333   0.45628701  2.07257353]\n",
      " [-1.3784301  -0.53778512 -0.49240425]\n",
      " [-0.24942133  1.80440397  2.32773811]\n",
      " [-1.49333996 -0.82086383  0.52417595]]\n",
      "\n",
      "[[-0.82086383 -1.49333996 -2.04038084]\n",
      " [-0.53778512 -1.3784301  -0.49240425]\n",
      " [ 0.34511317  0.4310333  -0.24942133]\n",
      " [ 0.45628701  0.72437468  0.52417595]\n",
      " [ 2.32773811  1.80440397  2.07257353]]\n",
      "[[ 0.4310333   0.45628701  2.07257353]\n",
      " [-1.3784301  -0.53778512 -0.49240425]\n",
      " [-0.24942133  1.80440397  2.32773811]\n",
      " [-1.49333996 -0.82086383  0.52417595]\n",
      " [-2.04038084  0.34511317  0.72437468]]\n"
     ]
    }
   ],
   "source": [
    "# 1. sort() : 정렬함수\n",
    "# ?np.sort\n",
    "arr = np.array([5,4,6,2,3,1])\n",
    "print(arr)\n",
    "print(np.sort(arr))\n",
    "print()\n",
    "\n",
    "print(np.sort(arr1))  # 행별정렬\n",
    "print()\n",
    "\n",
    "print(np.sort(arr1)[0]) # 특정행만 정렬\n",
    "print(np.sort(arr1)[-2])\n",
    "print(np.sort(arr1)[:1])\n",
    "print(np.sort(arr1)[:-1])\n",
    "print()\n",
    " \n",
    "print(np.sort(arr1, axis=0)) # 행정렬\n",
    "print(np.sort(arr1, axis=1)) # 열정렬"
   ]
  },
  {
   "cell_type": "code",
   "execution_count": 187,
   "metadata": {},
   "outputs": [
    {
     "name": "stdout",
     "output_type": "stream",
     "text": [
      "['소향' '손흥민' '홍길동']\n",
      "[1 2 3]\n",
      "[list([1, 2]) list([2, 3, 2])]\n"
     ]
    }
   ],
   "source": [
    "# 2. unique() : 중복제거함수\n",
    "# 1) 1차원 중복제거\n",
    "#?np.unique\n",
    "names = np.array(['홍길동', '손흥민', '소향', '홍길동', '손흥민'])\n",
    "print(np.unique(names))\n",
    "\n",
    "# 2) 2차원 중복제거\n",
    "values = np.array([[1,2],[1,2],[2,3]])\n",
    "print(np.unique(values))\n",
    "\n",
    "# 차원에 대한 요소 갯수가 틀릴 경우 주의\n",
    "values = np.array([[1,2],[1,2],[2,3,2]])\n",
    "print(np.unique(values))"
   ]
  },
  {
   "cell_type": "code",
   "execution_count": null,
   "metadata": {},
   "outputs": [],
   "source": []
  },
  {
   "cell_type": "markdown",
   "metadata": {},
   "source": [
    "#### 6. 데이터분석실습 - 영화평점데이터\n",
    "\n",
    "* https://grouplens.org/datasets/movielens\n",
    " - older datasets중에서 ml-1m.zip을 다운로드\n",
    " - 압축해제를 'd:\\yourname\\data\\movielens 해제\n",
    " - 3845라인 : And God Created Woman(...)에서 깨진 문자를 삭제\n",
    " - np.loadtxt()"
   ]
  },
  {
   "cell_type": "code",
   "execution_count": null,
   "metadata": {},
   "outputs": [],
   "source": []
  },
  {
   "cell_type": "code",
   "execution_count": null,
   "metadata": {},
   "outputs": [],
   "source": []
  },
  {
   "cell_type": "code",
   "execution_count": null,
   "metadata": {},
   "outputs": [],
   "source": []
  },
  {
   "cell_type": "code",
   "execution_count": null,
   "metadata": {},
   "outputs": [],
   "source": []
  },
  {
   "cell_type": "markdown",
   "metadata": {},
   "source": [
    "#### 연습문제"
   ]
  },
  {
   "cell_type": "code",
   "execution_count": null,
   "metadata": {},
   "outputs": [],
   "source": []
  },
  {
   "cell_type": "code",
   "execution_count": null,
   "metadata": {},
   "outputs": [],
   "source": []
  },
  {
   "cell_type": "code",
   "execution_count": null,
   "metadata": {},
   "outputs": [],
   "source": []
  },
  {
   "cell_type": "code",
   "execution_count": null,
   "metadata": {},
   "outputs": [],
   "source": []
  },
  {
   "cell_type": "code",
   "execution_count": null,
   "metadata": {},
   "outputs": [],
   "source": []
  }
 ],
 "metadata": {
  "kernelspec": {
   "display_name": "Python 3",
   "language": "python",
   "name": "python3"
  },
  "language_info": {
   "codemirror_mode": {
    "name": "ipython",
    "version": 3
   },
   "file_extension": ".py",
   "mimetype": "text/x-python",
   "name": "python",
   "nbconvert_exporter": "python",
   "pygments_lexer": "ipython3",
   "version": "3.7.6"
  }
 },
 "nbformat": 4,
 "nbformat_minor": 4
}
