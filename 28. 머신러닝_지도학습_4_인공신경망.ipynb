{
 "cells": [
  {
   "cell_type": "markdown",
   "metadata": {},
   "source": [
    "### 인공신경망\n",
    "\n",
    "#### 1. 인공신경망의 개요\n",
    "\n",
    "1. 개요\n",
    "* 인공지능(AI)의 한 분야\n",
    "* 사람의 두뇌의 생물학적 작동형태를 모방하여 컴퓨터로 하여금 지적 능력을 갖추게하는 방법론\n",
    "* 공학부문에서 시작되어서 재무관리등에 도입되기 시작\n",
    "* 인공신경망이 좀 더 확장된 것이 딥러닝(Deep Learning)이다.\n",
    "\n",
    "2. 선형분류와 비선형 분류회귀분석은 선형적인 분류방법이지만 비선형적인 자료를 분석하기 위해서는 선형적인 방법으로는 분석하기 힘들기 때문에 비선형적인 즉, 인공신경망을 통한 분석방법이 필요하게 되었다.\n",
    "\n",
    "3. 인공신경망의 구조 \n",
    "\n",
    "> 3개의 층(Three Layer Network)\n",
    "* 입력층(Input Layer) : 자료가 입력이 되면 \n",
    "* 은닉충(Hidden Layer) : 은닉층에서 가중치등을 주어서 계산하고\n",
    "* 출력충(Output Layer) : 출력층에서 그 결과를 받아서 출력\n",
    "* 딥러닝(Deep Learning)은 은닉층의 갯수를 많이 늘려서 계산을 한다.\n",
    "* H/W가격과 성능이 많이 개선이 되었기 때문에 가능해 졌다.\n",
    "\n",
    "\n",
    "\n",
    "#### 2. 기본개념\n",
    "1. 처리요소(PE)\n",
    "* 각각의 인자(Neuron)을 의미\n",
    "* 노드(Node) 또는 유니트(Unit)라고 한다.\n",
    "\n",
    "2. 층(Layer)\n",
    "\n",
    "* 보통 3개의 층(Three-Layer)\n",
    "* 은닉층(Hidden) : 입력값과 출력값을 연결 시켜주는데 매개변수 값으로 채워지기 되는데 전체 신경망의 성공여부가 바로 이 은닉층에 달려 있다.\n",
    "\n",
    "3. 가중지(Weight)\n",
    "\n",
    "* i번째 PE와 j번째의 PE와의 연결 결합 정도 \n",
    "* Wij : 층과 층사이의 연결이 i에서 j로 갈 때의 연결 강도 \n",
    "\n",
    "#### 3. 다중퍼셉트론\n",
    "\n",
    "1. 입력층과 출력층사이의 중간층 즉, 은닉층이 존재하는 신경망\\n\",\n",
    "    \"1. 다중퍼셉트론에서의 가중치(Weight)\\n\",\n",
    "    \"   * 지속적으로 전체 신경망이 만족할 만한 목표에 도달할 때까지 변함\\n\",\n",
    "    \"     - 목표값이 도달할 때가 지속적으로 계산하기 때문에 계산량이 아주 많음\\n\",\n",
    "    \"   * 계산된 출력값과 목표출력값(Target Output)을 비교하여 그 차이(오차함수)를 최소화 시킬 수 있도록 지속적으로 조정이 된다.\\n\",\n",
    "    \"   * 학습방법 : 역전파 알고리즘(Backpropagation Algorithm)\\n\",\n",
    "    \"     - 입력층의 각 유닛에 입력패턴 입력\\n\",\n",
    "    \"     - 입력신호는 각 유닛에서 변환되어 중간층(은닉층)에 전달되고 최후에는 출력층에서 신호를 출력\\n\",\n",
    "    \"     - 이 출력값과 기대값(목표값)을 비교하여 차이를 줄여나가는 방향으로 연결강도를 조절\\n\",\n",
    "    \"     - 상위층에서 역전파하여 하위층에서는 다시 자기층의 연결강도(가중치)를 조정\n",
    "\n",
    "#### 4.  인공신경망의 추론과정\n",
    "\n",
    "1. 1단계 : 초기 연결가중치를 결정 : 연결가중치를 임의의 아주 작은 값(보통 -1~1)으로 초기화  \\n\",\n",
    "    \"1. 2단계 : 전방향계산\\n\",\n",
    "    \"   * 은닉층 및 출력층에서 입력값에 연결 가중치를 곱하여 각 처리요소(PE)들의 출력값을 계산\\n\",\n",
    "    \"   * 전이함수를 사용하여 출력값을 결정\\n\",\n",
    "    \"1. 3단계 : 역방향 계산\\n\",\n",
    "    \"   * 츨력층의 출력값 목표출력값 사이의 오류치 계산\\n\",\n",
    "    \"   * 출력층과 은닉층 사이의 연결 가중치를 수정\\n\",\n",
    "    \"   * 은닉층과 입력층 사이의 연결 가중치를 수정\\n\",\n",
    "    \"1. 4단계 : Epoch(2,3단계)의 반복\n",
    "#### 5. 인공신경망의 학습절차\n",
    "\n",
    "1. 1단계 : 자료수집 - 정확하고 충분한 자료의 수집이 필요(최소 1000건이상 필요)\\n\",\n",
    "    \"1. 2단계 : 자료준비\\n\",\n",
    "    \"   *  비계량화자료를 계량화\\n\",\n",
    "    \"   * Outlier를 제거\\n\",\n",
    "    \"   * 학습용자료와 검증용자료를 정의(training, test, validateion set)\\n\",\n",
    "    \"   * 데이터전처리과정\\n\",\n",
    "    \"1. 3단계 : 신경망의 구조와 학습모수의 결정\\n\",\n",
    "    \"   * 은닉층의 수와 은닉노드의 수를 결정\\n\",\n",
    "    \"   * 학습틀, 학습중지점등을 결정\\n\",\n",
    "    \"1. 4단계 : 학습과 검증\\n\",\n",
    "    \"   * 검증방법의 결정\\n\",\n",
    "    \"   * 검증결과의 해석\n",
    "\n",
    "#### 6. 퍼셉트론\n",
    "\n",
    "\n",
    "\n",
    "<img src=\"./images/28.머신러닝_지도학습_4_인공신경망_01.png\" width=400 height=300 />\n",
    "<img src=\"./images/28.머신러닝_지도학습_4_인공신경망_02.png\" width=400 height=300 />"
   ]
  },
  {
   "cell_type": "markdown",
   "metadata": {},
   "source": [
    "\n",
    "\n"
   ]
  },
  {
   "cell_type": "code",
   "execution_count": null,
   "metadata": {},
   "outputs": [],
   "source": []
  },
  {
   "cell_type": "code",
   "execution_count": null,
   "metadata": {},
   "outputs": [],
   "source": []
  },
  {
   "cell_type": "code",
   "execution_count": null,
   "metadata": {},
   "outputs": [],
   "source": []
  },
  {
   "cell_type": "code",
   "execution_count": null,
   "metadata": {},
   "outputs": [],
   "source": []
  },
  {
   "cell_type": "code",
   "execution_count": null,
   "metadata": {},
   "outputs": [],
   "source": []
  },
  {
   "cell_type": "code",
   "execution_count": null,
   "metadata": {},
   "outputs": [],
   "source": []
  },
  {
   "cell_type": "code",
   "execution_count": null,
   "metadata": {},
   "outputs": [],
   "source": []
  },
  {
   "cell_type": "code",
   "execution_count": null,
   "metadata": {},
   "outputs": [],
   "source": []
  },
  {
   "cell_type": "code",
   "execution_count": null,
   "metadata": {},
   "outputs": [],
   "source": []
  },
  {
   "cell_type": "code",
   "execution_count": null,
   "metadata": {},
   "outputs": [],
   "source": []
  }
 ],
 "metadata": {
  "kernelspec": {
   "display_name": "Python 3",
   "language": "python",
   "name": "python3"
  },
  "language_info": {
   "codemirror_mode": {
    "name": "ipython",
    "version": 3
   },
   "file_extension": ".py",
   "mimetype": "text/x-python",
   "name": "python",
   "nbconvert_exporter": "python",
   "pygments_lexer": "ipython3",
   "version": "3.7.6"
  }
 },
 "nbformat": 4,
 "nbformat_minor": 4
}
