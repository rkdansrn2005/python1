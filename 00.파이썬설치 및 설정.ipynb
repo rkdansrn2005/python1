{
 "cells": [
  {
   "cell_type": "markdown",
   "metadata": {},
   "source": [
    "### 1 .파이썬 설치\n",
    "### 1 .download :/http://www.ananconda.com/download\n",
    "### https://www.python.org/\n",
    "### https://docs.python.org/3.7.7/ 다운로드\n",
    "### c:\\Anacond3 폴더로 설치\n",
    "      ... 오리지널 python 프로그램은 www.python.org에서 다운로드 받지만 Anaconda3를 설치하면 기본적으로 \n",
    "           python.exe.파일이 포함되어 설치된다.\n",
    "# 2. 환경설정\n",
    "      a. window_key +R : sysdm.cpl -> 고급tab에서 환경변수 설정 \n",
    "      b. 기존 path에 c:\\Anaconda3;c:\\Anaconda3\\Scripts\n",
    "      c. 설치 확인 : cmd 창에서 \"python --version\"\n",
    "         -- 버전이 표시가 되면 정상적으로 설치가 완료\n",
    "### 2) 최신버전 업데이트\n",
    "        a. 관리자보드로 anaconda prompt 창 열기\n",
    "        b. conda update --all : 시간이 많이 소요된다.\n",
    "             또는 conda update conda\n",
    "        c. jupyter notebook을 html이나 pdf로 다운로드 하기 위해서\n",
    "            -->conda install nbconvert\n",
    "### 3) jupyter notebook 홈 폴더 선택하기\n",
    "      a. C:\\ProgramData\\Microsoft\\Windows\\Start Menu\\Programs\\Anaconda3 (64-bit) 폴더와 \n",
    "         바로가기\"jupyter Notebook(Anaconda3)\"을 우클릭해서 속성창을 오픈\n",
    "      b. 주피터 속성창을 오픈 \n",
    "      c. 속성의 대장 : \"%USERPROFILE%\"을 d:\\yourfolder\\python로 변경\n",
    "### 4) 폰트와 css 파일 설정하기\n",
    "     \n",
    "      a. c:\\사용자\\.jupyter\\custom폴더에 custom.csss파일 생성\n",
    "      b. custom.css에 내용을 복사\n",
    "    \n",
    "### 3. 파이썬 패키지 설치 및 목록조회\n",
    "\n",
    "   ### 1) 파이선에 필요한 패키지 설치 (cmd창에서)\n",
    "               a. 간단한 설치명령 : pip install 패키지명(아나콘다3 에서는 conda install 패키지명)\n",
    "               b. 강제 재설치 : pip install --upgrade --force-reinstall 패키지\n",
    "               c. 업그레이드  : pip install --upgrade 패키지명\n",
    "               d. pip프로그램 업그레이드 :python -m pip install --upgrade pip\n",
    "               f. 패키지목록보기  : pip list\n",
    "   ### 2) Anaconda Shell에서 실행할 경우에는 pip명령 앞에 느낌표(!)를 붙여준다.\n",
    "            a. !pip install 패키지명\n",
    "            b. !pip list"
   ]
  },
  {
   "cell_type": "markdown",
   "metadata": {},
   "source": [
    "### B. 파이썬 개요\n",
    "\n",
    "#### 1. 파이썬의 개용\n",
    "\n",
    "##### 1) 1989.12월에 네덜란드 출신의 개발자 귀도 반 로섬이 성탄절을 의미있게 보내기 위해서 취미로 만든 인터프리터 프로그램 언어이다.\n",
    "##### 2) 파이썬이라는 이름은 자신이 좋아하는 코미디쇼인 \"몬티 파이썬의 날아다니는 써커스\"에서 따왔다고 한다.\n",
    "##### 3) 파이썬의 사전적 의미는 고대신화에 나오는 파르나소스산의 동굴에 살던 큰 뱀이라는 뜻이며 아폴로신이 파이썬을 퇴치했다는 \n",
    "       이야기도 있다\n",
    "##### 4) 파이썬이 사용된 대표적 사례\n",
    "          a. 구글 : c++, Java, Python사용, 구글의 내부시스템과 많은 구글 api들이 파이썬으로 작성\n",
    "          b. 유투브\n",
    "          c. 드롭박스\n",
    "          d. 페이스북\n",
    "          e. 인스타그램\n",
    "\n",
    "#### 2. 파이썬의 라이브러리(패키지)\n",
    "\n",
    "      1) Numpy : 수치계산용 라이브러리\n",
    "      2) Pandas: 데이터분석용 라이브러리\n",
    "      3) Matplotlib : 그래프 출력용(시각화) 라이브러리\n",
    "        \n",
    "#### 3. 파이썬의 특징\n",
    "  \n",
    "      1) 파이썬은 인간다운 언어\n",
    "      2) 파이썬은 문법이 쉬워 빠르게 배울 수 있따.\n",
    "      3) 파이썬은 무료이지만 강력한 언어이다.\n",
    "      4) 파이썬은 간결하다.\n",
    "      5) 파이썬은 개발속도가 빠르다.\n",
    "        \n",
    "#### 4. 참고사항\n",
    "\n",
    "      1) 파이썬의 순위 : https://tiobe.com/tiobe-index\n",
    "      2) 파이썬의 추세 :\n",
    "#### 5. 참고\n"
   ]
  },
  {
   "cell_type": "markdown",
   "metadata": {},
   "source": [
    "### C.Jupyter Notebook 기본 사용법\n",
    "#### 1. 새파일 생성\n",
    "\n",
    "<img src=\"./images/00.파이썬설치 및 설정_01_새파일생성.PNG\" width=\"300\" height=\"300\"/>\n",
    "\n",
    "* 홈탭에서 오른쪽 New버튼을 클릭하면 Python3, TextFile, Folder, Termin등의 옵션에서 Python3를 클릭하면 새파일 생성된다.\n",
    "\n",
    "* 생성된 파일의 이름을 변경하려면 \"Untitled\"를 더블클릭한 후 이름을 변결할 수 있다.\n",
    "\n",
    "#### 2. 편집/명령모드\n",
    "\n",
    "* 편집모드에서는 셀의 내용을 편집할 수가 잇고(셀의 테두리가 초록색), 명령모드는 편집중이 아닌 상태 또는 셀 자체에 조작을 사은 상태 (셀의 테두리가 파란색이다.)\n",
    "\n",
    "* 명령모드에서 편집모드로 변경하려면 enter키를 반대로는 esc를 누른다.\n",
    "\n",
    "##### 1) 셀의 타입\n",
    "\n",
    "셀의 타입은 Code타입, Markdown타입이 있다. Code타입은 파이썬의 코드를 실행 할 수 있는 셀이다. 기본적으로 셀을 생성하면 Code타입으로 생성된다. Markdown타입은 주석(Markdown)으로 셀의 내용을 작성할 수 있다. Markdown셀은 수식을 작성할 수 있다.\n",
    "\n",
    "예를 들어 $\\\\sum_{1=0}^ni^2=\\frac{(n^2+n)(2n+1)}{x}$   \n",
    "                             \n",
    "<img src=\"./images/00.파이썬설치 및 설정_02_셀타입.PNG\" width=\"300\" height=\"300\"/>\n",
    "\n",
    "#### 3.셀 실행 \n",
    " 실행하고자 하는 셀에 커서를 위치후에 <code>Shift + Enter</code> or <code>Control + Enter</code>키를 누른다. 다른점은 <code>Shift + Enter</code>는 실행후 다음셀로 이동하지만  <code>Control + Enter</code>는 실행후 현재셀에 머무른다.\n",
    " \n",
    "* 실행한 후에는 셀 아래쪽에 실행결과가 표시되고 셀 옆의 <code>In[ ]</code>과 <code>Out[ ]</code>에 몇번째로 실행되었는지를 나타내는 숫자가 표시가 된다.\n",
    "\n",
    "#### 강제중단 / 재실행\n",
    "<img src=\"./images/00.파이썬설치 및 설정_03_강제중단.PNG\" width=\"300\" height=\"300\"/>\n",
    "\n",
    "* 제목줄 아래에 Kernel 메뉴가 있다. 이 커널은 iPython(Jupyter Notebook)대화창 아래에서 백그라운드와 비슷하게 실행되는 일종의 운영체제와 같은 개념이다.\n",
    "\n",
    "*  Kernel의 모든 메뉴는 코드를 삭제하지 않는다.\n",
    "    * Interrupt : 실행중인 코드를 강제로 중지. 에러메시지가 뜨면서 실행ㅇ이 중지가 된다.\n",
    "    * Restart : 실행중인 코드가 중지가 되며 재시작된다. 코드나 실행결과는 삭제가 되지 않는다.\n",
    "    * Restart & Clear Output : 코드가 중지가 되며, 실행결과는 삭제가 된다.\n",
    "    * Restart & Run All : 재시작후에 모든 셀의 코드를 위에서 부터 순차적으로 실행된다.\n",
    "    * Reconnect : 인터넷 연결이 끊어졌을 때 연결을 재시도 한다.\n",
    "    * Shutdown : 커널을 종료한다. 이 메뉴는 실행결과는 삭제되지 않지만 완전 종료가 되는 상태로 메모리에서 해제가 된다.\n",
    "    \n",
    "    * Shutdown이 되었거나 인터넷 연결이 끊어졌거나 기타 문제가 있다면 탭에 알림 표시가 나타난다.\n",
    "    <img src=\"./images/00.파이썬설치 및 설정_04_Shutdown.PNG\" width=\"300\" height=\"300\"/>\n",
    "* 현재 실행중인 커널이 있는지 여부를 확인하는 방법은 첫 번째는 Home화면에서 <code>.ipynb</code>파일의 아이콘이 초록색이면 실행중 회색이면 중단 또는 시작되지 않은 상태이다. 두번째 방법은 Running탭을 클릭하면 현재 실행중인 iPython과 터미널의 목록을 확인할 수 있다.\n",
    "\n",
    "#### 5. Text file 생성\n",
    "New 버튼에서 text File을 생성하면 <code>.txt</code>나 <code>.py</code>파일등을 만들 수 있다. 이렇게 생성된 파일은 iPython에서 실행되지 않고 Terminal에서 실행시켜야 한다. 읽는 것은 iPython에서 읽을 수 있다.\n",
    "\n",
    "#### 6. Folder 생성\n",
    "\n",
    "디렉토리(폴더)를 생성할 때 사용한다.\n",
    "\n",
    "#### 7. Terminal\n",
    "\n",
    "New 버튼으로 Terminal을 클릭하면 새로운 터미널이 열린다. 이것은 윈도우의 cmd창 과 같다. 여기에서<code>.py</code>파일을 실행 시킬 수 있고 파일의 목록이나 삭제하는 등의 명령을실행 할 수 있다. 이 터미널의 중지는 Running탭에서 중지시킬 수 있다.\n",
    "\n",
    "#### 8. 파일의 이름변경 또는 삭제\n",
    "\n",
    " <img src=\"./images/00.파이썬설치 및 설정_05_파일이름변경 삭제.PNG\" width=\"300\" height=\"300\"/>"
   ]
  },
  {
   "cell_type": "markdown",
   "metadata": {},
   "source": [
    "### D. Jupyter Notebook의 단축키\n",
    "\n",
    "* 단축키 정보는 (menu)Help > Keyboard Shortcuts 또는 명령모드에서 <code>H</code>를 눌러서 표시할 수 있다.\n",
    "\n",
    "* 메뉴에서 keyboard아이콘을 클릭하면 단축키를 볼 수 있다.\n",
    "\n",
    "\n",
    "<img src=\"./images/00.파이썬설치 및 설정_06_단축키(1).PNG\" width=\"600\" height=\"300\"/>\n",
    " <img src=\"./images/00.파이썬설치 및 설정_06_단축키(2).PNG\" width=\"600\" height=\"300\"/>\n",
    " \n",
    " ### E. Jupyter Notebook의 기능\n",
    " \n",
    " #### 1. DocString 표시\n",
    " 선언한 변수 뒤에 <code>?</code>를 붙여서 셀을 실행하는 것으로 해당 변수의 상태를 확인할 수가 있따.\n",
    " 또한 변수를 선언한 후에 <code>Shift + Tab</code>를 누르면 Tool Tip이 표시가 된다. Tool Tip에는 DocString의 일부 내용 표시가 된다.\n",
    " \n",
    " 변수 또는 함수들의 자세한 내용을 보기 위해서는 <code>help()</code>\n",
    " \n",
    " #### 2. Image첨부하기\n",
    " \n",
    " 그림파일 첨부하기 위해서는 <code>img tag</code>를 이용하거나 Drag &drop하면된다.\n",
    " \n",
    " #### 3. shell(명령프롬프트)의 이용\n",
    " \n",
    " cmd 창에서 쓰는 명령을 그대로 사용하는데 맨 앞에 <code>!</code>를 붙여서 사용한다.\n",
    " 예를 들어 <code>!dir</code> 또는 <code>!cd documents</code> 형태로 Dos명령을 사용한다.\n",
    " \n",
    " \n",
    " #### 4. 매직명령어\n",
    " \n",
    " jupyter Notebook에서만 사용되는 명령으로서 <code>%</code>로 시작하는 명령어이다. 보통 %문자로 시작하지만 만약 사용자 변수가 선언되지 않았다면 %문자 없이도 기능을 수행할 수 있다. 예를들어 cls라는 변수가 없다면 %cls라고 입력해야 되지만 cls라는 변수가 없다면 cls 라고 명령을 실행해도 동작한다.\n",
    " \n",
    " * 일반 매직 명령어\n",
    " <img src=\"./images/00.파이썬설치 및 설정_07_매직명령어(1).PNG\" width=\"600\" height=\"300\"/>\n",
    " \n",
    " * 시스템 관련  매직명령어\n",
    " <img src=\"./images/00.파이썬설치 및 설정_07_매직명령어(2).PNG\" width=\"600\" height=\"300\"/>\n"
   ]
  },
  {
   "cell_type": "code",
   "execution_count": 22,
   "metadata": {},
   "outputs": [],
   "source": [
    "class human:\n",
    "    def __init__(self, age,sex):\n",
    "        self.age=age\n",
    "        self.sex=sex\n",
    "    def __\n",
    "    def eat(self, food):\n",
    "        print(self.sex,f\"{food}음식을 먹엇습니다\")\n",
    "        self.age+=1\n",
    "        print(f\"나이가 1 증가하여 {self.age}되었습니다.\")\n",
    "        if self.age==100:\n",
    "            print(\"사람이 죽었습니다.\")\n",
    "            return 100\n",
    "            \n",
    "    def death(self):\n",
    "        a = 100-self.age\n",
    "        print(f\"죽기 까지 {a}만큼 남았습니다\")\n",
    "        "
   ]
  },
  {
   "cell_type": "code",
   "execution_count": 29,
   "metadata": {},
   "outputs": [
    {
     "name": "stdout",
     "output_type": "stream",
     "text": [
      "남 사과음식을 먹엇습니다\n",
      "나이가 1 증가하여 96되었습니다.\n"
     ]
    }
   ],
   "source": [
    "h = human(95,\"남\")\n",
    "h.eat(\"사과\")"
   ]
  },
  {
   "cell_type": "code",
   "execution_count": 28,
   "metadata": {},
   "outputs": [
    {
     "name": "stdout",
     "output_type": "stream",
     "text": [
      "남 사과음식을 먹엇습니다\n",
      "나이가 1 증가하여 101되었습니다.\n"
     ]
    }
   ],
   "source": [
    "for i in range\n",
    "if h.age <100:\n",
    "    h.eat(\"사과\")\n",
    "else:\n",
    "    del h"
   ]
  },
  {
   "cell_type": "code",
   "execution_count": 3,
   "metadata": {},
   "outputs": [
    {
     "name": "stdout",
     "output_type": "stream",
     "text": [
      "{'중국', '일본', '베트남', '한국'}\n",
      "{'중국', '일본', '베트남', '한국'}\n",
      "{'중국', '베트남', '한국'}\n",
      "{'중국', '베트남', '한국', '홍콩', '태국'}\n"
     ]
    }
   ],
   "source": [
    "asia = {'한국', '중국', '일본','일본'} \n",
    "asia.add('베트남')\n",
    "print(asia)\n",
    "asia.add('중국') \n",
    "print(asia)\n",
    "asia.remove('일본') \n",
    "print(asia)\n",
    "asia.update({'한국', '홍콩', '태국'}) \n",
    "print(asia)"
   ]
  }
 ],
 "metadata": {
  "kernelspec": {
   "display_name": "Python 3",
   "language": "python",
   "name": "python3"
  },
  "language_info": {
   "codemirror_mode": {
    "name": "ipython",
    "version": 3
   },
   "file_extension": ".py",
   "mimetype": "text/x-python",
   "name": "python",
   "nbconvert_exporter": "python",
   "pygments_lexer": "ipython3",
   "version": "3.7.7"
  }
 },
 "nbformat": 4,
 "nbformat_minor": 4
}
