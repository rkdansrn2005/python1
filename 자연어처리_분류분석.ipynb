{
 "cells": [
  {
   "cell_type": "code",
   "execution_count": null,
   "metadata": {},
   "outputs": [],
   "source": [
    "!pip install gensim\n",
    "!pip install konlpy\n",
    "!pip install JPype1-1.0.1-cp37-cp37m-win_amd64.whl\n",
    "!pip install pandas_profiling\n",
    "!pip install kss"
   ]
  },
  {
   "cell_type": "code",
   "execution_count": 1,
   "metadata": {},
   "outputs": [],
   "source": [
    "import nltk\n",
    "import sys\n",
    "import pandas as pd\n",
    "import pandas_profiling\n",
    "data = pd.read_csv('spam.csv',encoding='latin1')"
   ]
  },
  {
   "cell_type": "code",
   "execution_count": 2,
   "metadata": {},
   "outputs": [
    {
     "data": {
      "text/html": [
       "<div>\n",
       "<style scoped>\n",
       "    .dataframe tbody tr th:only-of-type {\n",
       "        vertical-align: middle;\n",
       "    }\n",
       "\n",
       "    .dataframe tbody tr th {\n",
       "        vertical-align: top;\n",
       "    }\n",
       "\n",
       "    .dataframe thead th {\n",
       "        text-align: right;\n",
       "    }\n",
       "</style>\n",
       "<table border=\"1\" class=\"dataframe\">\n",
       "  <thead>\n",
       "    <tr style=\"text-align: right;\">\n",
       "      <th></th>\n",
       "      <th>v1</th>\n",
       "      <th>v2</th>\n",
       "      <th>Unnamed: 2</th>\n",
       "      <th>Unnamed: 3</th>\n",
       "      <th>Unnamed: 4</th>\n",
       "    </tr>\n",
       "  </thead>\n",
       "  <tbody>\n",
       "    <tr>\n",
       "      <th>0</th>\n",
       "      <td>ham</td>\n",
       "      <td>Go until jurong point, crazy.. Available only ...</td>\n",
       "      <td>NaN</td>\n",
       "      <td>NaN</td>\n",
       "      <td>NaN</td>\n",
       "    </tr>\n",
       "    <tr>\n",
       "      <th>1</th>\n",
       "      <td>ham</td>\n",
       "      <td>Ok lar... Joking wif u oni...</td>\n",
       "      <td>NaN</td>\n",
       "      <td>NaN</td>\n",
       "      <td>NaN</td>\n",
       "    </tr>\n",
       "    <tr>\n",
       "      <th>2</th>\n",
       "      <td>spam</td>\n",
       "      <td>Free entry in 2 a wkly comp to win FA Cup fina...</td>\n",
       "      <td>NaN</td>\n",
       "      <td>NaN</td>\n",
       "      <td>NaN</td>\n",
       "    </tr>\n",
       "    <tr>\n",
       "      <th>3</th>\n",
       "      <td>ham</td>\n",
       "      <td>U dun say so early hor... U c already then say...</td>\n",
       "      <td>NaN</td>\n",
       "      <td>NaN</td>\n",
       "      <td>NaN</td>\n",
       "    </tr>\n",
       "    <tr>\n",
       "      <th>4</th>\n",
       "      <td>ham</td>\n",
       "      <td>Nah I don't think he goes to usf, he lives aro...</td>\n",
       "      <td>NaN</td>\n",
       "      <td>NaN</td>\n",
       "      <td>NaN</td>\n",
       "    </tr>\n",
       "  </tbody>\n",
       "</table>\n",
       "</div>"
      ],
      "text/plain": [
       "     v1                                                 v2 Unnamed: 2  \\\n",
       "0   ham  Go until jurong point, crazy.. Available only ...        NaN   \n",
       "1   ham                      Ok lar... Joking wif u oni...        NaN   \n",
       "2  spam  Free entry in 2 a wkly comp to win FA Cup fina...        NaN   \n",
       "3   ham  U dun say so early hor... U c already then say...        NaN   \n",
       "4   ham  Nah I don't think he goes to usf, he lives aro...        NaN   \n",
       "\n",
       "  Unnamed: 3 Unnamed: 4  \n",
       "0        NaN        NaN  \n",
       "1        NaN        NaN  \n",
       "2        NaN        NaN  \n",
       "3        NaN        NaN  \n",
       "4        NaN        NaN  "
      ]
     },
     "execution_count": 2,
     "metadata": {},
     "output_type": "execute_result"
    }
   ],
   "source": [
    "data.head(5)"
   ]
  },
  {
   "cell_type": "code",
   "execution_count": 3,
   "metadata": {},
   "outputs": [],
   "source": [
    "pr = data.profile_report()"
   ]
  },
  {
   "cell_type": "code",
   "execution_count": 5,
   "metadata": {},
   "outputs": [
    {
     "data": {
      "application/vnd.jupyter.widget-view+json": {
       "model_id": "280d94da8409400d8c585a772133a3d3",
       "version_major": 2,
       "version_minor": 0
      },
      "text/plain": [
       "HBox(children=(FloatProgress(value=0.0, description='Export report to file', max=1.0, style=ProgressStyle(desc…"
      ]
     },
     "metadata": {},
     "output_type": "display_data"
    },
    {
     "name": "stdout",
     "output_type": "stream",
     "text": [
      "\n"
     ]
    }
   ],
   "source": [
    "pr.to_file('./pr_report.html')"
   ]
  },
  {
   "cell_type": "code",
   "execution_count": 7,
   "metadata": {},
   "outputs": [],
   "source": [
    "from nltk.tokenize import word_tokenize"
   ]
  },
  {
   "cell_type": "code",
   "execution_count": 11,
   "metadata": {},
   "outputs": [
    {
     "name": "stdout",
     "output_type": "stream",
     "text": [
      "['Do', \"n't\", 'be', 'fooled', 'by', 'the', 'dark', 'sounding', 'name', ',', 'Mr.', 'Jone', \"'s\", 'Orphanage', 'is', 'as', 'cheery', 'as', 'cheery', 'goes', 'for', 'a', 'pastry', 'shop', '.']\n"
     ]
    }
   ],
   "source": [
    "print(word_tokenize(\"Don't be fooled by the dark sounding name, Mr. Jone's Orphanage is as cheery as cheery goes for a pastry shop.\"))\n",
    "# word_tokenize는 Don't를 Do와 n't로 분리하였으며, 반면 Jone's는 Jone과 's로 분리한 것을 확인"
   ]
  },
  {
   "cell_type": "code",
   "execution_count": 12,
   "metadata": {},
   "outputs": [
    {
     "name": "stdout",
     "output_type": "stream",
     "text": [
      "['Don', \"'\", 't', 'be', 'fooled', 'by', 'the', 'dark', 'sounding', 'name', ',', 'Mr', '.', 'Jone', \"'\", 's', 'Orphanage', 'is', 'as', 'cheery', 'as', 'cheery', 'goes', 'for', 'a', 'pastry', 'shop', '.']\n"
     ]
    }
   ],
   "source": [
    "# Jone's를 Jone과 '와 s\n",
    "from nltk.tokenize import WordPunctTokenizer  \n",
    "print(WordPunctTokenizer().tokenize(\"Don't be fooled by the dark sounding name, Mr. Jone's Orphanage is as cheery as cheery goes for a pastry shop.\"))"
   ]
  },
  {
   "cell_type": "code",
   "execution_count": 13,
   "metadata": {},
   "outputs": [
    {
     "name": "stdout",
     "output_type": "stream",
     "text": [
      "[\"don't\", 'be', 'fooled', 'by', 'the', 'dark', 'sounding', 'name', 'mr', \"jone's\", 'orphanage', 'is', 'as', 'cheery', 'as', 'cheery', 'goes', 'for', 'a', 'pastry', 'shop']\n"
     ]
    }
   ],
   "source": [
    "# 케라스의 text_to_word_sequence는 기본적으로 모든 알파벳을 소문자로 바꾸면서 온점이나 컴마, 느낌표 등의 구두점을 제거\n",
    "from tensorflow.keras.preprocessing.text import text_to_word_sequence\n",
    "print(text_to_word_sequence(\"Don't be fooled by the dark sounding name, Mr. Jone's Orphanage is as cheery as cheery goes for a pastry shop.\"))"
   ]
  },
  {
   "cell_type": "code",
   "execution_count": 15,
   "metadata": {},
   "outputs": [
    {
     "name": "stdout",
     "output_type": "stream",
     "text": [
      "['Starting', 'a', 'home-based', 'restaurant', 'may', 'be', 'an', 'ideal.', 'it', 'does', \"n't\", 'have', 'a', 'food', 'chain', 'or', 'restaurant', 'of', 'their', 'own', '.']\n"
     ]
    }
   ],
   "source": [
    "# home-based는 하나의 토큰으로 취급하고 있으며, dosen't의 경우 does와 n't는 분리\n",
    "from nltk.tokenize import TreebankWordTokenizer\n",
    "tokenizer=TreebankWordTokenizer()\n",
    "text=\"Starting a home-based restaurant may be an ideal. it doesn't have a food chain or restaurant of their own.\"\n",
    "print(tokenizer.tokenize(text))"
   ]
  },
  {
   "cell_type": "code",
   "execution_count": 17,
   "metadata": {},
   "outputs": [
    {
     "name": "stdout",
     "output_type": "stream",
     "text": [
      "['His barber kept his word.', 'But keeping such a huge secret to himself was driving him crazy.', 'Finally, the barber went up a mountain and almost to the edge of a cliff.', 'He dug a hole in the midst of some reeds.', 'He looked about, to mae sure no one was near.']\n",
      "['I am actively looking for Ph.D. students.', 'and you are a Ph.D student.']\n"
     ]
    }
   ],
   "source": [
    "from nltk.tokenize import sent_tokenize\n",
    "text=\"His barber kept his word. But keeping such a huge secret to himself was driving him crazy. Finally, the barber went up a mountain and almost to the edge of a cliff. He dug a hole in the midst of some reeds. He looked about, to mae sure no one was near.\"\n",
    "print(sent_tokenize(text))\n",
    "text1=\"I am actively looking for Ph.D. students. and you are a Ph.D student.\"\n",
    "print(sent_tokenize(text1))"
   ]
  },
  {
   "cell_type": "code",
   "execution_count": 21,
   "metadata": {},
   "outputs": [
    {
     "name": "stdout",
     "output_type": "stream",
     "text": [
      "['열심히', '코딩', '한', '당신', ',', '연휴', '에는', '여행', '을', '가봐요']\n"
     ]
    }
   ],
   "source": [
    "# morphs : 형태소 추출\n",
    "from konlpy.tag import Okt  \n",
    "okt=Okt()  \n",
    "print(okt.morphs(\"열심히 코딩한 당신, 연휴에는 여행을 가봐요\"))"
   ]
  },
  {
   "cell_type": "code",
   "execution_count": 24,
   "metadata": {},
   "outputs": [
    {
     "name": "stdout",
     "output_type": "stream",
     "text": [
      "[('열심히', 'Adverb'), ('코딩', 'Noun'), ('한', 'Josa'), ('당신', 'Noun'), (',', 'Punctuation'), ('연휴', 'Noun'), ('에는', 'Josa'), ('여행', 'Noun'), ('을', 'Josa'), ('가봐요', 'Verb')]\n",
      "['코딩', '당신', '연휴', '여행']\n"
     ]
    }
   ],
   "source": [
    "# pos : 품사 태깅(Part-of-speech tagging)\n",
    "print(okt.pos(\"열심히 코딩한 당신, 연휴에는 여행을 가봐요\"))  \n",
    "print(okt.nouns(\"열심히 코딩한 당신, 연휴에는 여행을 가봐요\")) "
   ]
  },
  {
   "cell_type": "code",
   "execution_count": 33,
   "metadata": {},
   "outputs": [
    {
     "name": "stdout",
     "output_type": "stream",
     "text": [
      "['열심히', '코딩', '하', 'ㄴ', '당신', ',', '연휴', '에', '는', '여행', '을', '가보', '아요']\n"
     ]
    }
   ],
   "source": [
    "# 꼬꼬마 형태소 분석기\n",
    "from konlpy.tag import Kkma  \n",
    "kkma=Kkma()  \n",
    "print(kkma.morphs(\"열심히 코딩한 당신, 연휴에는 여행을 가봐요\"))"
   ]
  },
  {
   "cell_type": "code",
   "execution_count": 26,
   "metadata": {
    "scrolled": true
   },
   "outputs": [
    {
     "name": "stdout",
     "output_type": "stream",
     "text": [
      "[('열심히', 'MAG'), ('코딩', 'NNG'), ('하', 'XSV'), ('ㄴ', 'ETD'), ('당신', 'NP'), (',', 'SP'), ('연휴', 'NNG'), ('에', 'JKM'), ('는', 'JX'), ('여행', 'NNG'), ('을', 'JKO'), ('가보', 'VV'), ('아요', 'EFN')]\n"
     ]
    }
   ],
   "source": [
    "print(kkma.pos(\"열심히 코딩한 당신, 연휴에는 여행을 가봐요\")) "
   ]
  },
  {
   "cell_type": "code",
   "execution_count": 34,
   "metadata": {},
   "outputs": [
    {
     "name": "stdout",
     "output_type": "stream",
     "text": [
      "['코딩', '당신', '연휴', '여행']\n"
     ]
    }
   ],
   "source": [
    "#명사만 출력\n",
    "print(kkma.nouns(\"열심히 코딩한 당신, 연휴에는 여행을 가봐요\")) "
   ]
  },
  {
   "cell_type": "code",
   "execution_count": 27,
   "metadata": {},
   "outputs": [
    {
     "name": "stdout",
     "output_type": "stream",
     "text": [
      " was wondering anyone out there could enlighten this car.\n"
     ]
    }
   ],
   "source": [
    "# 정규표현식으로 1자리 2자리 글자 제외\n",
    "import re\n",
    "text = \"I was wondering if anyone out there could enlighten me on this car.\"\n",
    "shortword = re.compile(r'\\W*\\b\\w{1,2}\\b')\n",
    "print(shortword.sub('', text))"
   ]
  },
  {
   "cell_type": "code",
   "execution_count": 35,
   "metadata": {},
   "outputs": [
    {
     "name": "stdout",
     "output_type": "stream",
     "text": [
      "['policy', 'doing', 'organization', 'have', 'going', 'love', 'life', 'fly', 'dy', 'watched', 'ha', 'starting']\n"
     ]
    }
   ],
   "source": [
    "# 표제어 원형으로 만든다.\n",
    "from nltk.stem import WordNetLemmatizer\n",
    "n=WordNetLemmatizer()\n",
    "words=['policy', 'doing', 'organization', 'have', 'going', 'love', 'lives', 'fly', 'dies', 'watched', 'has', 'starting']\n",
    "print([n.lemmatize(w) for w in words])# lemmatizer 표제어 추출기"
   ]
  },
  {
   "cell_type": "code",
   "execution_count": 38,
   "metadata": {},
   "outputs": [
    {
     "data": {
      "text/plain": [
       "'have'"
      ]
     },
     "execution_count": 38,
     "metadata": {},
     "output_type": "execute_result"
    }
   ],
   "source": [
    "# 동사란 것을 따로 추출할 수도 있다.\n",
    "n.lemmatize('dies', 'v')\n",
    "n.lemmatize('watched', 'v')\n",
    "n.lemmatize('has', 'v')"
   ]
  },
  {
   "cell_type": "code",
   "execution_count": 39,
   "metadata": {},
   "outputs": [
    {
     "name": "stdout",
     "output_type": "stream",
     "text": [
      "['This', 'was', 'not', 'the', 'map', 'we', 'found', 'in', 'Billy', 'Bones', \"'s\", 'chest', ',', 'but', 'an', 'accurate', 'copy', ',', 'complete', 'in', 'all', 'things', '--', 'names', 'and', 'heights', 'and', 'soundings', '--', 'with', 'the', 'single', 'exception', 'of', 'the', 'red', 'crosses', 'and', 'the', 'written', 'notes', '.']\n"
     ]
    }
   ],
   "source": [
    "# 어간 추출 알고리즘 중 하나인 포터 알고리즘(Porter Algorithm)\n",
    "from nltk.stem import PorterStemmer\n",
    "from nltk.tokenize import word_tokenize\n",
    "s = PorterStemmer()\n",
    "text=\"This was not the map we found in Billy Bones's chest, but an accurate copy, complete in all things--names and heights and soundings--with the single exception of the red crosses and the written notes.\"\n",
    "words=word_tokenize(text)\n",
    "print(words)"
   ]
  },
  {
   "cell_type": "code",
   "execution_count": 40,
   "metadata": {},
   "outputs": [
    {
     "name": "stdout",
     "output_type": "stream",
     "text": [
      "['thi', 'wa', 'not', 'the', 'map', 'we', 'found', 'in', 'billi', 'bone', \"'s\", 'chest', ',', 'but', 'an', 'accur', 'copi', ',', 'complet', 'in', 'all', 'thing', '--', 'name', 'and', 'height', 'and', 'sound', '--', 'with', 'the', 'singl', 'except', 'of', 'the', 'red', 'cross', 'and', 'the', 'written', 'note', '.']\n"
     ]
    }
   ],
   "source": [
    "print([s.stem(w) for w in words])"
   ]
  },
  {
   "cell_type": "code",
   "execution_count": 41,
   "metadata": {},
   "outputs": [
    {
     "name": "stdout",
     "output_type": "stream",
     "text": [
      "['formal', 'allow', 'electric']\n"
     ]
    }
   ],
   "source": [
    "words=['formalize', 'allowance', 'electricical']\n",
    "print([s.stem(w) for w in words])"
   ]
  },
  {
   "cell_type": "code",
   "execution_count": 42,
   "metadata": {},
   "outputs": [
    {
     "name": "stdout",
     "output_type": "stream",
     "text": [
      "['polici', 'do', 'organ', 'have', 'go', 'love', 'live', 'fli', 'die', 'watch', 'ha', 'start']\n"
     ]
    }
   ],
   "source": [
    "from nltk.stem import PorterStemmer\n",
    "s=PorterStemmer()\n",
    "words=['policy', 'doing', 'organization', 'have', 'going', 'love', 'lives', 'fly', 'dies', 'watched', 'has', 'starting']\n",
    "print([s.stem(w) for w in words])"
   ]
  },
  {
   "cell_type": "code",
   "execution_count": 43,
   "metadata": {},
   "outputs": [
    {
     "name": "stdout",
     "output_type": "stream",
     "text": [
      "['policy', 'doing', 'org', 'hav', 'going', 'lov', 'liv', 'fly', 'die', 'watch', 'has', 'start']\n"
     ]
    }
   ],
   "source": [
    "from nltk.stem import LancasterStemmer\n",
    "l=LancasterStemmer()\n",
    "words=['policy', 'doing', 'organization', 'have', 'going', 'love', 'lives', 'fly', 'dies', 'watched', 'has', 'starting']\n",
    "print([l.stem(w) for w in words])"
   ]
  },
  {
   "cell_type": "code",
   "execution_count": 51,
   "metadata": {},
   "outputs": [
    {
     "data": {
      "text/plain": [
       "['i', 'me', 'my', 'myself', 'we']"
      ]
     },
     "execution_count": 51,
     "metadata": {},
     "output_type": "execute_result"
    }
   ],
   "source": [
    "from nltk.corpus import stopwords  \n",
    "stopwords.words('english')[:5]  "
   ]
  },
  {
   "cell_type": "code",
   "execution_count": 48,
   "metadata": {},
   "outputs": [
    {
     "name": "stdout",
     "output_type": "stream",
     "text": [
      "['Family', 'is', 'not', 'an', 'important', 'thing', '.', 'It', \"'s\", 'everything', '.']\n",
      "['Family', 'important', 'thing', '.', 'It', \"'s\", 'everything', '.']\n"
     ]
    }
   ],
   "source": [
    "# 불용어 제거하기\n",
    "from nltk.corpus import stopwords \n",
    "from nltk.tokenize import word_tokenize \n",
    "\n",
    "example = \"Family is not an important thing. It's everything.\"\n",
    "stop_words = set(stopwords.words('english')) \n",
    "\n",
    "word_tokens = word_tokenize(example)\n",
    "\n",
    "result = []\n",
    "for w in word_tokens: \n",
    "    if w not in stop_words: \n",
    "        result.append(w) \n",
    "\n",
    "print(word_tokens) \n",
    "print(result) "
   ]
  },
  {
   "cell_type": "code",
   "execution_count": 52,
   "metadata": {},
   "outputs": [
    {
     "name": "stdout",
     "output_type": "stream",
     "text": [
      "['고기를', '아무렇게나', '구우려고', '하면', '안', '돼', '.', '고기라고', '다', '같은', '게', '아니거든', '.', '예컨대', '삼겹살을', '구울', '때는', '중요한', '게', '있지', '.']\n",
      "['고기를', '구우려고', '안', '돼', '.', '고기라고', '다', '같은', '게', '.', '삼겹살을', '구울', '때는', '중요한', '게', '있지', '.']\n"
     ]
    }
   ],
   "source": [
    "# 한국어에서 불용어 제거하기\n",
    "from nltk.corpus import stopwords \n",
    "from nltk.tokenize import word_tokenize \n",
    "\n",
    "example = \"고기를 아무렇게나 구우려고 하면 안 돼. 고기라고 다 같은 게 아니거든. 예컨대 삼겹살을 구울 때는 중요한 게 있지.\"\n",
    "stop_words = \"아무거나 아무렇게나 어찌하든지 같다 비슷하다 예컨대 이럴정도로 하면 아니거든\"\n",
    "# 위의 불용어는 명사가 아닌 단어 중에서 저자가 임의로 선정한 것으로 실제 의미있는 선정 기준이 아님\n",
    "stop_words=stop_words.split(' ')\n",
    "word_tokens = word_tokenize(example)\n",
    "\n",
    "result = [] \n",
    "for w in word_tokens: \n",
    "    if w not in stop_words: \n",
    "        result.append(w) \n",
    "# 위의 4줄은 아래의 한 줄로 대체 가능\n",
    "# result=[word for word in word_tokens if not word in stop_words]\n",
    "\n",
    "print(word_tokens) \n",
    "print(result)"
   ]
  },
  {
   "cell_type": "code",
   "execution_count": 53,
   "metadata": {},
   "outputs": [],
   "source": [
    "from nltk.tokenize import sent_tokenize\n",
    "from nltk.tokenize import word_tokenize\n",
    "from nltk.corpus import stopwords"
   ]
  },
  {
   "cell_type": "code",
   "execution_count": 58,
   "metadata": {},
   "outputs": [],
   "source": [
    "text = \"A barber is a person. a barber is good person. a barber is huge person. he Knew A Secret! The Secret He Kept is huge secret. Huge secret. His barber kept his word. a barber kept his word. His barber kept his secret. But keeping and keeping such a huge secret to himself was driving the barber crazy. the barber went up a huge mountain.\""
   ]
  },
  {
   "cell_type": "code",
   "execution_count": 60,
   "metadata": {},
   "outputs": [
    {
     "name": "stdout",
     "output_type": "stream",
     "text": [
      "['A barber is a person.', 'a barber is good person.', 'a barber is huge person.', 'he Knew A Secret!', 'The Secret He Kept is huge secret.', 'Huge secret.', 'His barber kept his word.', 'a barber kept his word.', 'His barber kept his secret.', 'But keeping and keeping such a huge secret to himself was driving the barber crazy.', 'the barber went up a huge mountain.']\n"
     ]
    }
   ],
   "source": [
    "text = sent_tokenize(text)\n",
    "print(text)"
   ]
  },
  {
   "cell_type": "code",
   "execution_count": 56,
   "metadata": {},
   "outputs": [
    {
     "name": "stdout",
     "output_type": "stream",
     "text": [
      "[['barber', 'person'], ['barber', 'good', 'person'], ['barber', 'huge', 'person'], ['knew', 'secret'], ['secret', 'kept', 'huge', 'secret'], ['huge', 'secret'], ['barber', 'kept', 'word'], ['barber', 'kept', 'word'], ['barber', 'kept', 'secret'], ['keeping', 'keeping', 'huge', 'secret', 'driving', 'barber', 'crazy'], ['barber', 'went', 'huge', 'mountain']]\n"
     ]
    }
   ],
   "source": [
    "vocab = {} # 파이썬의 dictionary 자료형\n",
    "sentences = []\n",
    "stop_words = set(stopwords.words('english'))\n",
    "\n",
    "for i in text:\n",
    "    sentence = word_tokenize(i) # 단어 토큰화를 수행합니다.\n",
    "    result = []\n",
    "\n",
    "    for word in sentence: \n",
    "        word = word.lower() # 모든 단어를 소문자화하여 단어의 개수를 줄입니다.\n",
    "        if word not in stop_words: # 단어 토큰화 된 결과에 대해서 불용어를 제거합니다.\n",
    "            if len(word) > 2: # 단어 길이가 2이하인 경우에 대하여 추가로 단어를 제거합니다.\n",
    "                result.append(word)\n",
    "                if word not in vocab:\n",
    "                    vocab[word] = 0 \n",
    "                vocab[word] += 1\n",
    "    sentences.append(result) \n",
    "print(sentences)"
   ]
  },
  {
   "cell_type": "code",
   "execution_count": 78,
   "metadata": {},
   "outputs": [
    {
     "name": "stdout",
     "output_type": "stream",
     "text": [
      "{'barber': 8, 'person': 3, 'good': 1, 'huge': 5, 'knew': 1, 'secret': 6, 'kept': 4, 'word': 2, 'keeping': 2, 'driving': 1, 'crazy': 1, 'went': 1, 'mountain': 1}\n"
     ]
    }
   ],
   "source": [
    "print(vocab)"
   ]
  },
  {
   "cell_type": "code",
   "execution_count": 79,
   "metadata": {},
   "outputs": [
    {
     "name": "stdout",
     "output_type": "stream",
     "text": [
      "[('barber', 8), ('secret', 6), ('huge', 5), ('kept', 4), ('person', 3), ('word', 2), ('keeping', 2), ('good', 1), ('knew', 1), ('driving', 1), ('crazy', 1), ('went', 1), ('mountain', 1)]\n"
     ]
    }
   ],
   "source": [
    "vocab_sorted = sorted(vocab.items(), key = lambda x:x[1], reverse = True)\n",
    "print(vocab_sorted)"
   ]
  },
  {
   "cell_type": "code",
   "execution_count": 80,
   "metadata": {},
   "outputs": [
    {
     "name": "stdout",
     "output_type": "stream",
     "text": [
      "{'barber': 1, 'secret': 2, 'huge': 3, 'kept': 4, 'person': 5, 'word': 6, 'keeping': 7}\n"
     ]
    }
   ],
   "source": [
    "word_to_index = {}\n",
    "i=0\n",
    "for (word, frequency) in vocab_sorted :\n",
    "    if frequency > 1 : # 정제(Cleaning) 챕터에서 언급했듯이 빈도수가 적은 단어는 제외한다.\n",
    "        i=i+1\n",
    "        word_to_index[word] = i\n",
    "print(word_to_index)"
   ]
  },
  {
   "cell_type": "code",
   "execution_count": 82,
   "metadata": {},
   "outputs": [
    {
     "name": "stdout",
     "output_type": "stream",
     "text": [
      "{'barber': 1, 'secret': 2, 'huge': 3, 'kept': 4, 'person': 5}\n"
     ]
    }
   ],
   "source": [
    "vocab_size = 5\n",
    "words_frequency = [w for w,c in word_to_index.items() if c >= vocab_size + 1] # 인덱스가 5 초과인 단어 제거\n",
    "for w in words_frequency:\n",
    "    del word_to_index[w] # 해당 단어에 대한 인덱스 정보를 삭제\n",
    "print(word_to_index)"
   ]
  },
  {
   "cell_type": "code",
   "execution_count": 83,
   "metadata": {},
   "outputs": [],
   "source": [
    "word_to_index['OOV'] = len(word_to_index) + 1"
   ]
  },
  {
   "cell_type": "code",
   "execution_count": 87,
   "metadata": {},
   "outputs": [
    {
     "name": "stdout",
     "output_type": "stream",
     "text": [
      "[[1, 5], [1, 6, 5], [1, 3, 5], [6, 2], [2, 4, 3, 2], [3, 2], [1, 4, 6], [1, 4, 6], [1, 4, 2], [6, 6, 3, 2, 6, 1, 6], [1, 6, 3, 6]]\n"
     ]
    }
   ],
   "source": [
    "encoded = []\n",
    "for s in sentences:\n",
    "    temp = []\n",
    "    for w in s:\n",
    "        try:\n",
    "            temp.append(word_to_index[w])\n",
    "        except KeyError:\n",
    "            temp.append(word_to_index['OOV'])\n",
    "    encoded.append(temp)\n",
    "print(encoded)"
   ]
  },
  {
   "cell_type": "code",
   "execution_count": 85,
   "metadata": {},
   "outputs": [
    {
     "data": {
      "text/plain": [
       "[['barber', 'person'],\n",
       " ['barber', 'good', 'person'],\n",
       " ['barber', 'huge', 'person'],\n",
       " ['knew', 'secret'],\n",
       " ['secret', 'kept', 'huge', 'secret'],\n",
       " ['huge', 'secret'],\n",
       " ['barber', 'kept', 'word'],\n",
       " ['barber', 'kept', 'word'],\n",
       " ['barber', 'kept', 'secret'],\n",
       " ['keeping', 'keeping', 'huge', 'secret', 'driving', 'barber', 'crazy'],\n",
       " ['barber', 'went', 'huge', 'mountain']]"
      ]
     },
     "execution_count": 85,
     "metadata": {},
     "output_type": "execute_result"
    }
   ],
   "source": []
  },
  {
   "cell_type": "code",
   "execution_count": 86,
   "metadata": {},
   "outputs": [
    {
     "data": {
      "text/plain": [
       "{'barber': 1, 'secret': 2, 'huge': 3, 'kept': 4, 'person': 5, 'OOV': 6}"
      ]
     },
     "execution_count": 86,
     "metadata": {},
     "output_type": "execute_result"
    }
   ],
   "source": [
    "word_to_index"
   ]
  },
  {
   "cell_type": "code",
   "execution_count": 88,
   "metadata": {},
   "outputs": [],
   "source": [
    "from collections import Counter"
   ]
  },
  {
   "cell_type": "code",
   "execution_count": 89,
   "metadata": {},
   "outputs": [
    {
     "name": "stdout",
     "output_type": "stream",
     "text": [
      "[['barber', 'person'], ['barber', 'good', 'person'], ['barber', 'huge', 'person'], ['knew', 'secret'], ['secret', 'kept', 'huge', 'secret'], ['huge', 'secret'], ['barber', 'kept', 'word'], ['barber', 'kept', 'word'], ['barber', 'kept', 'secret'], ['keeping', 'keeping', 'huge', 'secret', 'driving', 'barber', 'crazy'], ['barber', 'went', 'huge', 'mountain']]\n"
     ]
    }
   ],
   "source": [
    "print(sentences)"
   ]
  },
  {
   "cell_type": "code",
   "execution_count": 98,
   "metadata": {},
   "outputs": [
    {
     "name": "stdout",
     "output_type": "stream",
     "text": [
      "['barber', 'person', 'barber', 'good', 'person', 'barber', 'huge', 'person', 'knew', 'secret', 'secret', 'kept', 'huge', 'secret', 'huge', 'secret', 'barber', 'kept', 'word', 'barber', 'kept', 'word', 'barber', 'kept', 'secret', 'keeping', 'keeping', 'huge', 'secret', 'driving', 'barber', 'crazy', 'barber', 'went', 'huge', 'mountain']\n",
      "Counter({'barber': 8, 'secret': 6, 'huge': 5, 'kept': 4, 'person': 3, 'word': 2, 'keeping': 2, 'good': 1, 'knew': 1, 'driving': 1, 'crazy': 1, 'went': 1, 'mountain': 1})\n"
     ]
    }
   ],
   "source": [
    "words = sum(sentences, [])\n",
    "# 위 작업은 words = np.hstack(sentences)로도 수행 가능.\n",
    "print(words)\n",
    "vocab = Counter(words) # 파이썬의 Counter 모듈을 이용하면 단어의 모든 빈도를 쉽게 계산할 수 있습니다.\n",
    "print(vocab)"
   ]
  },
  {
   "cell_type": "code",
   "execution_count": 99,
   "metadata": {},
   "outputs": [
    {
     "name": "stdout",
     "output_type": "stream",
     "text": [
      "8\n"
     ]
    }
   ],
   "source": [
    "print(vocab[\"barber\"])"
   ]
  },
  {
   "cell_type": "code",
   "execution_count": 100,
   "metadata": {},
   "outputs": [
    {
     "data": {
      "text/plain": [
       "[('barber', 8), ('secret', 6), ('huge', 5), ('kept', 4), ('person', 3)]"
      ]
     },
     "execution_count": 100,
     "metadata": {},
     "output_type": "execute_result"
    }
   ],
   "source": [
    "vocab_size = 5\n",
    "vocab = vocab.most_common(vocab_size) # 등장 빈도수가 높은 상위 5개의 단어만 저장\n",
    "vocab"
   ]
  },
  {
   "cell_type": "code",
   "execution_count": 101,
   "metadata": {},
   "outputs": [
    {
     "name": "stdout",
     "output_type": "stream",
     "text": [
      "{'barber': 1, 'secret': 2, 'huge': 3, 'kept': 4, 'person': 5}\n"
     ]
    }
   ],
   "source": [
    "word_to_index = {}\n",
    "i = 0\n",
    "for (word, frequency) in vocab :\n",
    "    i = i+1\n",
    "    word_to_index[word] = i\n",
    "print(word_to_index)"
   ]
  },
  {
   "cell_type": "code",
   "execution_count": 102,
   "metadata": {},
   "outputs": [],
   "source": [
    "from nltk import FreqDist\n",
    "import numpy as np"
   ]
  },
  {
   "cell_type": "code",
   "execution_count": 103,
   "metadata": {},
   "outputs": [],
   "source": [
    "# np.hstack으로 문장 구분을 제거하여 입력으로 사용 . ex) ['barber', 'person', 'barber', 'good' ... 중략 ...\n",
    "vocab = FreqDist(np.hstack(sentences))"
   ]
  },
  {
   "cell_type": "code",
   "execution_count": 107,
   "metadata": {},
   "outputs": [
    {
     "data": {
      "text/plain": [
       "[('barber', 8), ('secret', 6), ('huge', 5), ('kept', 4), ('person', 3)]"
      ]
     },
     "execution_count": 107,
     "metadata": {},
     "output_type": "execute_result"
    }
   ],
   "source": [
    "vocab_size = 5\n",
    "vocab = vocab.most_common(vocab_size) # 등장 빈도수가 높은 상위 5개의 단어만 저장\n",
    "vocab"
   ]
  },
  {
   "cell_type": "code",
   "execution_count": 109,
   "metadata": {},
   "outputs": [
    {
     "name": "stdout",
     "output_type": "stream",
     "text": [
      "{'barber': 1, 'secret': 2, 'huge': 3, 'kept': 4, 'person': 5}\n"
     ]
    }
   ],
   "source": [
    "word_to_index = {word[0] : index + 1 for index, word in enumerate(vocab)}\n",
    "print(word_to_index)"
   ]
  },
  {
   "cell_type": "code",
   "execution_count": 113,
   "metadata": {},
   "outputs": [],
   "source": [
    "from tensorflow.keras.preprocessing.text import Tokenizer\n",
    "tokenizer = Tokenizer()\n",
    "tokenizer.fit_on_texts(sentences)"
   ]
  },
  {
   "cell_type": "code",
   "execution_count": 114,
   "metadata": {},
   "outputs": [
    {
     "name": "stdout",
     "output_type": "stream",
     "text": [
      "{'barber': 1, 'secret': 2, 'huge': 3, 'kept': 4, 'person': 5, 'word': 6, 'keeping': 7, 'good': 8, 'knew': 9, 'driving': 10, 'crazy': 11, 'went': 12, 'mountain': 13}\n"
     ]
    }
   ],
   "source": [
    "print(tokenizer.word_index)"
   ]
  },
  {
   "cell_type": "code",
   "execution_count": 116,
   "metadata": {},
   "outputs": [
    {
     "name": "stdout",
     "output_type": "stream",
     "text": [
      "OrderedDict([('barber', 8), ('person', 3), ('good', 1), ('huge', 5), ('knew', 1), ('secret', 6), ('kept', 4), ('word', 2), ('keeping', 2), ('driving', 1), ('crazy', 1), ('went', 1), ('mountain', 1)])\n",
      "[[1, 5], [1, 8, 5], [1, 3, 5], [9, 2], [2, 4, 3, 2], [3, 2], [1, 4, 6], [1, 4, 6], [1, 4, 2], [7, 7, 3, 2, 10, 1, 11], [1, 12, 3, 13]]\n"
     ]
    }
   ],
   "source": [
    "print(tokenizer.word_counts)\n",
    "print(tokenizer.texts_to_sequences(sentences))"
   ]
  },
  {
   "cell_type": "code",
   "execution_count": 117,
   "metadata": {},
   "outputs": [],
   "source": [
    "vocab_size = 5\n",
    "tokenizer = Tokenizer(num_words = vocab_size + 1) # 상위 5개 단어만 사용\n",
    "tokenizer.fit_on_texts(sentences)"
   ]
  },
  {
   "cell_type": "code",
   "execution_count": 118,
   "metadata": {
    "scrolled": true
   },
   "outputs": [
    {
     "name": "stdout",
     "output_type": "stream",
     "text": [
      "{'barber': 1, 'secret': 2, 'huge': 3, 'kept': 4, 'person': 5, 'word': 6, 'keeping': 7, 'good': 8, 'knew': 9, 'driving': 10, 'crazy': 11, 'went': 12, 'mountain': 13}\n"
     ]
    }
   ],
   "source": [
    "print(tokenizer.word_index)\n",
    "print(tokenizer.word_counts)"
   ]
  },
  {
   "cell_type": "code",
   "execution_count": 120,
   "metadata": {},
   "outputs": [
    {
     "name": "stdout",
     "output_type": "stream",
     "text": [
      "[[1, 5], [1, 5], [1, 3, 5], [2], [2, 4, 3, 2], [3, 2], [1, 4], [1, 4], [1, 4, 2], [3, 2, 1], [1, 3]]\n"
     ]
    }
   ],
   "source": [
    "# 실제 적용은 tokenizer.texts_to_sequences(sentences)로 적용\n",
    "print(tokenizer.texts_to_sequences(sentences))"
   ]
  },
  {
   "cell_type": "code",
   "execution_count": null,
   "metadata": {},
   "outputs": [],
   "source": []
  },
  {
   "cell_type": "code",
   "execution_count": 121,
   "metadata": {},
   "outputs": [],
   "source": [
    "# 만약 word_index와 word_counts에서도 지정된 num_words만큼의 단어만 남기고 싶다면\n",
    "tokenizer = Tokenizer() # num_words를 여기서는 지정하지 않은 상태\n",
    "tokenizer.fit_on_texts(sentences)"
   ]
  },
  {
   "cell_type": "code",
   "execution_count": 122,
   "metadata": {},
   "outputs": [
    {
     "name": "stdout",
     "output_type": "stream",
     "text": [
      "{'barber': 1, 'secret': 2, 'huge': 3, 'kept': 4, 'person': 5}\n",
      "OrderedDict([('barber', 8), ('person', 3), ('huge', 5), ('secret', 6), ('kept', 4)])\n",
      "[[1, 5], [1, 5], [1, 3, 5], [2], [2, 4, 3, 2], [3, 2], [1, 4], [1, 4], [1, 4, 2], [3, 2, 1], [1, 3]]\n"
     ]
    }
   ],
   "source": [
    "vocab_size = 5\n",
    "words_frequency = [w for w,c in tokenizer.word_index.items() if c >= vocab_size + 1] # 인덱스가 5 초과인 단어 제거\n",
    "for w in words_frequency:\n",
    "    del tokenizer.word_index[w] # 해당 단어에 대한 인덱스 정보를 삭제\n",
    "    del tokenizer.word_counts[w] # 해당 단어에 대한 카운트 정보를 삭제\n",
    "print(tokenizer.word_index)\n",
    "print(tokenizer.word_counts)\n",
    "print(tokenizer.texts_to_sequences(sentences))"
   ]
  },
  {
   "cell_type": "code",
   "execution_count": 124,
   "metadata": {},
   "outputs": [],
   "source": [
    "vocab_size = 5\n",
    "tokenizer = Tokenizer(num_words = vocab_size + 2, oov_token = 'OOV')\n",
    "# 빈도수 상위 5개 단어만 사용. 숫자 0과 OOV를 고려해서 단어 집합의 크기는 +2\n",
    "tokenizer.fit_on_texts(sentences)"
   ]
  },
  {
   "cell_type": "code",
   "execution_count": 127,
   "metadata": {},
   "outputs": [
    {
     "name": "stdout",
     "output_type": "stream",
     "text": [
      "단어 OOV의 인덱스 : 1\n",
      "[[2, 6], [2, 1, 6], [2, 4, 6], [1, 3], [3, 5, 4, 3], [4, 3], [2, 5, 1], [2, 5, 1], [2, 5, 3], [1, 1, 4, 3, 1, 2, 1], [2, 1, 4, 1]]\n"
     ]
    }
   ],
   "source": [
    "print('단어 OOV의 인덱스 : {}'.format(tokenizer.word_index['OOV']))\n",
    "print(tokenizer.texts_to_sequences(sentences))"
   ]
  },
  {
   "cell_type": "code",
   "execution_count": 128,
   "metadata": {},
   "outputs": [],
   "source": [
    "import numpy as np\n",
    "from tensorflow.keras.preprocessing.text import Tokenizer"
   ]
  },
  {
   "cell_type": "code",
   "execution_count": 129,
   "metadata": {},
   "outputs": [],
   "source": [
    "sentences = [['barber', 'person'], ['barber', 'good', 'person'], ['barber', 'huge', 'person'], ['knew', 'secret'], ['secret', 'kept', 'huge', 'secret'], ['huge', 'secret'], ['barber', 'kept', 'word'], ['barber', 'kept', 'word'], ['barber', 'kept', 'secret'], ['keeping', 'keeping', 'huge', 'secret', 'driving', 'barber', 'crazy'], ['barber', 'went', 'huge', 'mountain']]"
   ]
  },
  {
   "cell_type": "code",
   "execution_count": 130,
   "metadata": {},
   "outputs": [],
   "source": [
    "tokenizer = Tokenizer()\n",
    "tokenizer.fit_on_texts(sentences)"
   ]
  },
  {
   "cell_type": "code",
   "execution_count": 131,
   "metadata": {},
   "outputs": [
    {
     "name": "stdout",
     "output_type": "stream",
     "text": [
      "[[1, 5], [1, 8, 5], [1, 3, 5], [9, 2], [2, 4, 3, 2], [3, 2], [1, 4, 6], [1, 4, 6], [1, 4, 2], [7, 7, 3, 2, 10, 1, 11], [1, 12, 3, 13]]\n"
     ]
    }
   ],
   "source": [
    "encoded = tokenizer.texts_to_sequences(sentences)\n",
    "print(encoded)"
   ]
  },
  {
   "cell_type": "code",
   "execution_count": 132,
   "metadata": {},
   "outputs": [
    {
     "name": "stdout",
     "output_type": "stream",
     "text": [
      "7\n"
     ]
    }
   ],
   "source": [
    "max_len = max(len(item) for item in encoded)\n",
    "print(max_len)"
   ]
  },
  {
   "cell_type": "code",
   "execution_count": 133,
   "metadata": {},
   "outputs": [
    {
     "data": {
      "text/plain": [
       "array([[ 1,  5,  0,  0,  0,  0,  0],\n",
       "       [ 1,  8,  5,  0,  0,  0,  0],\n",
       "       [ 1,  3,  5,  0,  0,  0,  0],\n",
       "       [ 9,  2,  0,  0,  0,  0,  0],\n",
       "       [ 2,  4,  3,  2,  0,  0,  0],\n",
       "       [ 3,  2,  0,  0,  0,  0,  0],\n",
       "       [ 1,  4,  6,  0,  0,  0,  0],\n",
       "       [ 1,  4,  6,  0,  0,  0,  0],\n",
       "       [ 1,  4,  2,  0,  0,  0,  0],\n",
       "       [ 7,  7,  3,  2, 10,  1, 11],\n",
       "       [ 1, 12,  3, 13,  0,  0,  0]])"
      ]
     },
     "execution_count": 133,
     "metadata": {},
     "output_type": "execute_result"
    }
   ],
   "source": [
    "for item in encoded: # 각 문장에 대해서\n",
    "    while len(item) < max_len:   # max_len보다 작으면\n",
    "        item.append(0)\n",
    "\n",
    "padded_np = np.array(encoded)\n",
    "padded_np"
   ]
  },
  {
   "cell_type": "code",
   "execution_count": 134,
   "metadata": {},
   "outputs": [],
   "source": [
    "from tensorflow.keras.preprocessing.sequence import pad_sequences"
   ]
  },
  {
   "cell_type": "code",
   "execution_count": 135,
   "metadata": {},
   "outputs": [
    {
     "name": "stdout",
     "output_type": "stream",
     "text": [
      "[[1, 5], [1, 8, 5], [1, 3, 5], [9, 2], [2, 4, 3, 2], [3, 2], [1, 4, 6], [1, 4, 6], [1, 4, 2], [7, 7, 3, 2, 10, 1, 11], [1, 12, 3, 13]]\n"
     ]
    }
   ],
   "source": [
    "encoded = tokenizer.texts_to_sequences(sentences)\n",
    "print(encoded)"
   ]
  },
  {
   "cell_type": "code",
   "execution_count": 136,
   "metadata": {},
   "outputs": [
    {
     "data": {
      "text/plain": [
       "array([[ 0,  0,  0,  0,  0,  1,  5],\n",
       "       [ 0,  0,  0,  0,  1,  8,  5],\n",
       "       [ 0,  0,  0,  0,  1,  3,  5],\n",
       "       [ 0,  0,  0,  0,  0,  9,  2],\n",
       "       [ 0,  0,  0,  2,  4,  3,  2],\n",
       "       [ 0,  0,  0,  0,  0,  3,  2],\n",
       "       [ 0,  0,  0,  0,  1,  4,  6],\n",
       "       [ 0,  0,  0,  0,  1,  4,  6],\n",
       "       [ 0,  0,  0,  0,  1,  4,  2],\n",
       "       [ 7,  7,  3,  2, 10,  1, 11],\n",
       "       [ 0,  0,  0,  1, 12,  3, 13]])"
      ]
     },
     "execution_count": 136,
     "metadata": {},
     "output_type": "execute_result"
    }
   ],
   "source": [
    "padded = pad_sequences(encoded)\n",
    "padded"
   ]
  },
  {
   "cell_type": "code",
   "execution_count": 137,
   "metadata": {},
   "outputs": [
    {
     "data": {
      "text/plain": [
       "array([[ 1,  5,  0,  0,  0,  0,  0],\n",
       "       [ 1,  8,  5,  0,  0,  0,  0],\n",
       "       [ 1,  3,  5,  0,  0,  0,  0],\n",
       "       [ 9,  2,  0,  0,  0,  0,  0],\n",
       "       [ 2,  4,  3,  2,  0,  0,  0],\n",
       "       [ 3,  2,  0,  0,  0,  0,  0],\n",
       "       [ 1,  4,  6,  0,  0,  0,  0],\n",
       "       [ 1,  4,  6,  0,  0,  0,  0],\n",
       "       [ 1,  4,  2,  0,  0,  0,  0],\n",
       "       [ 7,  7,  3,  2, 10,  1, 11],\n",
       "       [ 1, 12,  3, 13,  0,  0,  0]])"
      ]
     },
     "execution_count": 137,
     "metadata": {},
     "output_type": "execute_result"
    }
   ],
   "source": [
    "padded = pad_sequences(encoded, padding = 'post') #  뒤에 0을 채우고 싶다면 인자로 padding='post'\n",
    "padded"
   ]
  },
  {
   "cell_type": "code",
   "execution_count": 139,
   "metadata": {},
   "outputs": [
    {
     "name": "stdout",
     "output_type": "stream",
     "text": [
      "14\n"
     ]
    }
   ],
   "source": [
    "last_value = len(tokenizer.word_index) + 1 # 단어 집합의 크기보다 1 큰 숫자를 사용\n",
    "print(last_value)"
   ]
  },
  {
   "cell_type": "code",
   "execution_count": 140,
   "metadata": {},
   "outputs": [
    {
     "data": {
      "text/plain": [
       "array([[ 1,  5, 14, 14, 14, 14, 14],\n",
       "       [ 1,  8,  5, 14, 14, 14, 14],\n",
       "       [ 1,  3,  5, 14, 14, 14, 14],\n",
       "       [ 9,  2, 14, 14, 14, 14, 14],\n",
       "       [ 2,  4,  3,  2, 14, 14, 14],\n",
       "       [ 3,  2, 14, 14, 14, 14, 14],\n",
       "       [ 1,  4,  6, 14, 14, 14, 14],\n",
       "       [ 1,  4,  6, 14, 14, 14, 14],\n",
       "       [ 1,  4,  2, 14, 14, 14, 14],\n",
       "       [ 7,  7,  3,  2, 10,  1, 11],\n",
       "       [ 1, 12,  3, 13, 14, 14, 14]])"
      ]
     },
     "execution_count": 140,
     "metadata": {},
     "output_type": "execute_result"
    }
   ],
   "source": [
    "padded = pad_sequences(encoded, padding = 'post', value = last_value)\n",
    "padded"
   ]
  },
  {
   "cell_type": "code",
   "execution_count": 141,
   "metadata": {},
   "outputs": [
    {
     "name": "stdout",
     "output_type": "stream",
     "text": [
      "['나', '는', '자연어', '처리', '를', '배운다']\n"
     ]
    }
   ],
   "source": [
    "from konlpy.tag import Okt  \n",
    "okt=Okt()  \n",
    "token=okt.morphs(\"나는 자연어 처리를 배운다\")  \n",
    "print(token)"
   ]
  },
  {
   "cell_type": "code",
   "execution_count": 145,
   "metadata": {},
   "outputs": [
    {
     "name": "stdout",
     "output_type": "stream",
     "text": [
      "{'나': 0}\n",
      "{'나': 0, '는': 1}\n",
      "{'나': 0, '는': 1, '자연어': 2}\n",
      "{'나': 0, '는': 1, '자연어': 2, '처리': 3}\n",
      "{'나': 0, '는': 1, '자연어': 2, '처리': 3, '를': 4}\n",
      "{'나': 0, '는': 1, '자연어': 2, '처리': 3, '를': 4, '배운다': 5}\n",
      "{'나': 0, '는': 1, '자연어': 2, '처리': 3, '를': 4, '배운다': 5}\n"
     ]
    }
   ],
   "source": [
    "word2index={}\n",
    "for voca in token:\n",
    "     if voca not in word2index.keys():\n",
    "        word2index[voca]=len(word2index)\n",
    "        print(word2index)\n",
    "print(word2index)"
   ]
  },
  {
   "cell_type": "code",
   "execution_count": 148,
   "metadata": {},
   "outputs": [
    {
     "data": {
      "text/plain": [
       "[0, 0, 1, 0, 0, 0]"
      ]
     },
     "execution_count": 148,
     "metadata": {},
     "output_type": "execute_result"
    }
   ],
   "source": [
    "def one_hot_encoding(word, word2index):\n",
    "    one_hot_vector = [0]*(len(word2index))\n",
    "    index=word2index[word]\n",
    "    one_hot_vector[index]=1\n",
    "    return one_hot_vector\n",
    "one_hot_encoding('자연어',word2index)"
   ]
  },
  {
   "cell_type": "code",
   "execution_count": 149,
   "metadata": {},
   "outputs": [],
   "source": [
    "text=\"나랑 점심 먹으러 갈래 점심 메뉴는 햄버거 갈래 갈래 햄버거 최고야\""
   ]
  },
  {
   "cell_type": "code",
   "execution_count": 150,
   "metadata": {},
   "outputs": [
    {
     "name": "stdout",
     "output_type": "stream",
     "text": [
      "{'갈래': 1, '점심': 2, '햄버거': 3, '나랑': 4, '먹으러': 5, '메뉴는': 6, '최고야': 7}\n"
     ]
    }
   ],
   "source": [
    "from tensorflow.keras.preprocessing.text import Tokenizer\n",
    "from tensorflow.keras.utils import to_categorical\n",
    "\n",
    "text=\"나랑 점심 먹으러 갈래 점심 메뉴는 햄버거 갈래 갈래 햄버거 최고야\"\n",
    "\n",
    "t = Tokenizer()\n",
    "t.fit_on_texts([text])\n",
    "print(t.word_index)"
   ]
  },
  {
   "cell_type": "code",
   "execution_count": 151,
   "metadata": {},
   "outputs": [
    {
     "name": "stdout",
     "output_type": "stream",
     "text": [
      "[2, 5, 1, 6, 3, 7]\n"
     ]
    }
   ],
   "source": [
    "sub_text=\"점심 먹으러 갈래 메뉴는 햄버거 최고야\"\n",
    "encoded=t.texts_to_sequences([sub_text])[0]\n",
    "print(encoded)"
   ]
  },
  {
   "cell_type": "code",
   "execution_count": 152,
   "metadata": {},
   "outputs": [
    {
     "name": "stdout",
     "output_type": "stream",
     "text": [
      "[[0. 0. 1. 0. 0. 0. 0. 0.]\n",
      " [0. 0. 0. 0. 0. 1. 0. 0.]\n",
      " [0. 1. 0. 0. 0. 0. 0. 0.]\n",
      " [0. 0. 0. 0. 0. 0. 1. 0.]\n",
      " [0. 0. 0. 1. 0. 0. 0. 0.]\n",
      " [0. 0. 0. 0. 0. 0. 0. 1.]]\n"
     ]
    }
   ],
   "source": [
    "one_hot = to_categorical(encoded)\n",
    "print(one_hot)"
   ]
  },
  {
   "cell_type": "code",
   "execution_count": 153,
   "metadata": {},
   "outputs": [
    {
     "data": {
      "text/html": [
       "<div>\n",
       "<style scoped>\n",
       "    .dataframe tbody tr th:only-of-type {\n",
       "        vertical-align: middle;\n",
       "    }\n",
       "\n",
       "    .dataframe tbody tr th {\n",
       "        vertical-align: top;\n",
       "    }\n",
       "\n",
       "    .dataframe thead th {\n",
       "        text-align: right;\n",
       "    }\n",
       "</style>\n",
       "<table border=\"1\" class=\"dataframe\">\n",
       "  <thead>\n",
       "    <tr style=\"text-align: right;\">\n",
       "      <th></th>\n",
       "      <th>메일 본문</th>\n",
       "      <th>스팸 메일 유무</th>\n",
       "    </tr>\n",
       "  </thead>\n",
       "  <tbody>\n",
       "    <tr>\n",
       "      <th>0</th>\n",
       "      <td>당신에게 드리는 마지막 혜택!</td>\n",
       "      <td>1</td>\n",
       "    </tr>\n",
       "    <tr>\n",
       "      <th>1</th>\n",
       "      <td>내일 뵐 수 있을지 확인 부탁드...</td>\n",
       "      <td>0</td>\n",
       "    </tr>\n",
       "    <tr>\n",
       "      <th>2</th>\n",
       "      <td>도연씨. 잘 지내시죠? 오랜만입...</td>\n",
       "      <td>0</td>\n",
       "    </tr>\n",
       "    <tr>\n",
       "      <th>3</th>\n",
       "      <td>(광고) AI로 주가를 예측할 수 있다!</td>\n",
       "      <td>1</td>\n",
       "    </tr>\n",
       "  </tbody>\n",
       "</table>\n",
       "</div>"
      ],
      "text/plain": [
       "                    메일 본문  스팸 메일 유무\n",
       "0        당신에게 드리는 마지막 혜택!         1\n",
       "1    내일 뵐 수 있을지 확인 부탁드...         0\n",
       "2    도연씨. 잘 지내시죠? 오랜만입...         0\n",
       "3  (광고) AI로 주가를 예측할 수 있다!         1"
      ]
     },
     "execution_count": 153,
     "metadata": {},
     "output_type": "execute_result"
    }
   ],
   "source": [
    "import pandas as pd\n",
    "\n",
    "values = [['당신에게 드리는 마지막 혜택!', 1],\n",
    "['내일 뵐 수 있을지 확인 부탁드...', 0],\n",
    "['도연씨. 잘 지내시죠? 오랜만입...', 0],\n",
    "['(광고) AI로 주가를 예측할 수 있다!', 1]]\n",
    "columns = ['메일 본문', '스팸 메일 유무']\n",
    "\n",
    "df = pd.DataFrame(values, columns=columns)\n",
    "df"
   ]
  },
  {
   "cell_type": "code",
   "execution_count": 154,
   "metadata": {},
   "outputs": [],
   "source": [
    "X=df['메일 본문']\n",
    "y=df['스팸 메일 유무']"
   ]
  },
  {
   "cell_type": "code",
   "execution_count": 156,
   "metadata": {},
   "outputs": [
    {
     "name": "stdout",
     "output_type": "stream",
     "text": [
      "[[ 0  1  2  3]\n",
      " [ 4  5  6  7]\n",
      " [ 8  9 10 11]\n",
      " [12 13 14 15]]\n"
     ]
    }
   ],
   "source": [
    "import numpy as np\n",
    "ar = np.arange(0,16).reshape((4,4))\n",
    "print(ar)"
   ]
  },
  {
   "cell_type": "code",
   "execution_count": 157,
   "metadata": {},
   "outputs": [
    {
     "name": "stdout",
     "output_type": "stream",
     "text": [
      "[[ 0  1  2]\n",
      " [ 4  5  6]\n",
      " [ 8  9 10]\n",
      " [12 13 14]]\n"
     ]
    }
   ],
   "source": [
    "X=ar[:, :3]\n",
    "print(X)"
   ]
  },
  {
   "cell_type": "code",
   "execution_count": 158,
   "metadata": {},
   "outputs": [
    {
     "name": "stdout",
     "output_type": "stream",
     "text": [
      "[ 3  7 11 15]\n"
     ]
    }
   ],
   "source": [
    "y=ar[:,3]\n",
    "print(y)"
   ]
  },
  {
   "cell_type": "code",
   "execution_count": 159,
   "metadata": {},
   "outputs": [],
   "source": [
    "from sklearn.model_selection import train_test_split\n",
    "X_train, X_test, y_train, y_test = train_test_split(X, y, test_size= 0.2, random_state=1234)"
   ]
  },
  {
   "cell_type": "code",
   "execution_count": 160,
   "metadata": {},
   "outputs": [
    {
     "data": {
      "text/plain": [
       "['정부', '가', '발표', '하는', '물가상승률', '과', '소비자', '가', '느끼는', '물가상승률', '은', '다르다']"
      ]
     },
     "execution_count": 160,
     "metadata": {},
     "output_type": "execute_result"
    }
   ],
   "source": [
    "from konlpy.tag import Okt\n",
    "import re  \n",
    "okt=Okt()  \n",
    "\n",
    "token=re.sub(\"(\\.)\",\"\",\"정부가 발표하는 물가상승률과 소비자가 느끼는 물가상승률은 다르다.\")  \n",
    "# 정규 표현식을 통해 온점을 제거하는 정제 작업입니다.  \n",
    "token=okt.morphs(token)  \n",
    "token\n",
    "# OKT 형태소 분석기를 통해 토큰화 작업을 수행한 뒤에, token에다가 넣습니다.  "
   ]
  },
  {
   "cell_type": "code",
   "execution_count": 161,
   "metadata": {},
   "outputs": [
    {
     "name": "stdout",
     "output_type": "stream",
     "text": [
      "{'정부': 0, '가': 1, '발표': 2, '하는': 3, '물가상승률': 4, '과': 5, '소비자': 6, '느끼는': 7, '은': 8, '다르다': 9}\n"
     ]
    }
   ],
   "source": [
    "word2index={}  \n",
    "bow=[]  \n",
    "for voca in token:  \n",
    "         if voca not in word2index.keys():  \n",
    "             word2index[voca]=len(word2index)  \n",
    "# token을 읽으면서, word2index에 없는 (not in) 단어는 새로 추가하고, 이미 있는 단어는 넘깁니다.   \n",
    "             bow.insert(len(word2index)-1,1)\n",
    "# BoW 전체에 전부 기본값 1을 넣어줍니다. 단어의 개수는 최소 1개 이상이기 때문입니다.  \n",
    "         else:\n",
    "            index=word2index.get(voca)\n",
    "# 재등장하는 단어의 인덱스를 받아옵니다.\n",
    "            bow[index]=bow[index]+1\n",
    "# 재등장한 단어는 해당하는 인덱스의 위치에 1을 더해줍니다. (단어의 개수를 세는 것입니다.)  \n",
    "print(word2index)  "
   ]
  },
  {
   "cell_type": "code",
   "execution_count": null,
   "metadata": {},
   "outputs": [],
   "source": []
  },
  {
   "cell_type": "code",
   "execution_count": 215,
   "metadata": {},
   "outputs": [],
   "source": []
  },
  {
   "cell_type": "code",
   "execution_count": null,
   "metadata": {},
   "outputs": [],
   "source": [
    "# 영화 분석"
   ]
  },
  {
   "cell_type": "code",
   "execution_count": 326,
   "metadata": {
    "scrolled": true
   },
   "outputs": [
    {
     "data": {
      "text/plain": [
       "<li>\n",
       "<div class=\"star_score\">\n",
       "<span class=\"st_off\"><span class=\"st_on\" style=\"width:100.0%\"></span></span><em>10</em>\n",
       "</div>\n",
       "<div class=\"score_reple\">\n",
       "<p>\n",
       "<span class=\"ico_viewer\">관람객</span>\n",
       "<!-- 스포일러 컨텐츠로 처리되는지 여부 -->\n",
       "<span id=\"_filtered_ment_0\">\n",
       "\t\t\t\t\t\t\t\t\t\t\t\t\t\t\n",
       "\t\t\t\t\t\t\t\t\t\t\t\t\t\t\t\n",
       "\t\t\t\t\t\t\t\t\t\t\t\t\t\t\t\n",
       "\t\t\t\t\t\t\t\t\t\t\t\t\t\t\t\t내 어릴적 베스트 영화의 속편이 너무 잘만들어져서 울컥했습니다. \n",
       "\t\t\t\t\t\t\t\t\t\t\t\t\t\t\t\n",
       "\t\t\t\t\t\t\t\t\t\t\t\t\t\t\n",
       "\t\t\t\t\t\t\t\t\t\t\t\t\t\t\n",
       "\t\t\t\t\t\t\t\t\t\t\t\t\t</span>\n",
       "</p>\n",
       "<dl>\n",
       "<dt>\n",
       "<em>\n",
       "<a href=\"#\" onclick=\"javascript:showPointListByNid(14316715, 'after');parent.clickcr(this, 'ara.uid', '', '', event); return false;\" target=\"_top\">\n",
       "<span>아머두어라두(dkqj****)</span>\n",
       "</a>\n",
       "</em>\n",
       "<em>2018.07.18 18:05</em>\n",
       "</dt>\n",
       "<dd>\n",
       "<a class=\"go_report2\" href=\"#\" onclick=\"parent.clickcr(this, 'ara.report', '', '', event); common.report('false','dkqj****', 'jYF/eBUJpeGFX5C6uvyB6so2V3wrTMYcBaZVx3qSI4Q=', '내 어릴적 베스트 영화의 속편이 너무 잘만들어져서 울컥했습니다. ', '14316715', 'point_after', false);return false;\"><em>신고</em></a>\n",
       "</dd>\n",
       "</dl>\n",
       "</div>\n",
       "<div class=\"btn_area\">\n",
       "<a class=\"_sympathyButton\" href=\"#\" onclick=\"parent.clickcr(this, 'ara.sym', '', '', event);\">\n",
       "<span class=\"ico_up\"></span>\n",
       "<span class=\"blind\">공감</span>\n",
       "<strong class=\"sympathy_14316715\">595</strong>\n",
       "</a>\n",
       "<a class=\"_notSympathyButton\" href=\"#\" onclick=\"parent.clickcr(this, 'ara.opp', '', '', event);\">\n",
       "<span class=\"ico_down\"></span>\n",
       "<span class=\"blind\">비공감</span>\n",
       "<strong class=\"notSympathy_14316715\">27</strong>\n",
       "</a>\n",
       "</div>\n",
       "</li>"
      ]
     },
     "execution_count": 326,
     "metadata": {},
     "output_type": "execute_result"
    }
   ],
   "source": [
    "import requests\n",
    "from bs4 import BeautifulSoup\n",
    "test_url = 'https://movie.naver.com/movie/bi/mi/pointWriteFormList.nhn?code=136990&type=after&onlyActualPointYn=Y&isActualPointWriteExecute=false&isMileageSubscriptionAlready=false&isMileageSubscriptionReject=false&page=1'\n",
    "resp = requests.get(test_url)\n",
    "html = BeautifulSoup(resp.content, 'html.parser')\n",
    "score_result = html.find('div', {'class': 'score_result'})\n",
    "lis = score_result.findAll('li')\n",
    "lis[0]"
   ]
  },
  {
   "cell_type": "code",
   "execution_count": 334,
   "metadata": {},
   "outputs": [
    {
     "data": {
      "text/plain": [
       "'내 어릴적 베스트 영화의 속편이 너무 잘만들어져서 울컥했습니다.'"
      ]
     },
     "execution_count": 334,
     "metadata": {},
     "output_type": "execute_result"
    }
   ],
   "source": [
    "contents = lis[0].select('p > span')[1].getText().strip()\n",
    "contents\n",
    "# score = lis[0].select('div.star_score > em')[0].getText().strip()"
   ]
  },
  {
   "cell_type": "code",
   "execution_count": 320,
   "metadata": {},
   "outputs": [
    {
     "data": {
      "text/plain": [
       "'ray0****'"
      ]
     },
     "execution_count": 320,
     "metadata": {},
     "output_type": "execute_result"
    }
   ],
   "source": [
    "nickname = lis[].select('a')[1].find('span').getText().strip()\n",
    "nickname"
   ]
  },
  {
   "cell_type": "code",
   "execution_count": 348,
   "metadata": {},
   "outputs": [],
   "source": [
    "aa = ['https://movie.naver.com/movie/bi/mi/pointWriteFormList.nhn?code=185917&type=after&isActualPointWriteExecute=false&isMileageSubscriptionAlready=false&isMileageSubscriptionReject=false&page=',\n",
    " 'https://movie.naver.com/movie/bi/mi/pointWriteFormList.nhn?code=185917&type=after&isActualPointWriteExecute=false&isMileageSubscriptionAlready=false&isMileageSubscriptionReject=false&page=',\n",
    " 'https://movie.naver.com/movie/bi/mi/pointWriteFormList.nhn?code=93756&type=after&isActualPointWriteExecute=false&isMileageSubscriptionAlready=false&isMileageSubscriptionReject=false&page=']\n",
    "data = []\n",
    "def movie_score_1():\n",
    "    data = []\n",
    "    for i in range(1,500,1):\n",
    "        test_url = f'https://movie.naver.com/movie/bi/mi/pointWriteFormList.nhn?code=136990&type=after&onlyActualPointYn=Y&isActualPointWriteExecute=false&isMileageSubscriptionAlready=false&isMileageSubscriptionReject=false&page={i}'\n",
    "        resp = requests.get(test_url)\n",
    "        html = BeautifulSoup(resp.content, 'html.parser')\n",
    "        score_result = html.find('div', {'class': 'score_result'})\n",
    "        lis = score_result.findAll('li')\n",
    "        for lists in lis:\n",
    "            try:\n",
    "                try:\n",
    "                    contents = lists.select('p > span')[1].getText().strip()\n",
    "                except:\n",
    "                    contents = lists.select('p > span')[0].getText().strip()\n",
    "                score = lists.select('div.star_score > em')[0].getText().strip()\n",
    "                nickname = lists.select('a')[0].find('span').getText().strip()\n",
    "                data.append([nickname,contents,score])\n",
    "            except:\n",
    "                pass\n",
    "    return data"
   ]
  },
  {
   "cell_type": "code",
   "execution_count": 349,
   "metadata": {},
   "outputs": [],
   "source": [
    "def movie_score_2():\n",
    "    data = []\n",
    "    for i in range(1,1500,1):\n",
    "        test_url = f'https://movie.naver.com/movie/bi/mi/pointWriteFormList.nhn?code=185917&type=after&isActualPointWriteExecute=false&isMileageSubscriptionAlready=false&isMileageSubscriptionReject=false&page={i}'\n",
    "        resp = requests.get(test_url)\n",
    "        html = BeautifulSoup(resp.content, 'html.parser')\n",
    "        score_result = html.find('div', {'class': 'score_result'})\n",
    "        lis = score_result.findAll('li')\n",
    "        for lists in lis:\n",
    "            try:\n",
    "                try:\n",
    "                    contents = lists.select('p > span')[1].getText().strip()\n",
    "                except:\n",
    "                    contents = lists.select('p > span')[0].getText().strip()\n",
    "                score = lists.select('div.star_score > em')[0].getText().strip()\n",
    "                nickname = lists.select('a')[0].find('span').getText().strip()\n",
    "                data.append([nickname,contents,score])\n",
    "            except:\n",
    "                pass\n",
    "    return data"
   ]
  },
  {
   "cell_type": "code",
   "execution_count": 350,
   "metadata": {},
   "outputs": [],
   "source": [
    "def movie_score_3():\n",
    "    data = []\n",
    "    for i in range(1,5000,1):\n",
    "        test_url = f'https://movie.naver.com/movie/bi/mi/pointWriteFormList.nhn?code=93756&type=after&isActualPointWriteExecute=false&isMileageSubscriptionAlready=false&isMileageSubscriptionReject=false&page={i}'\n",
    "        resp = requests.get(test_url)\n",
    "        html = BeautifulSoup(resp.content, 'html.parser')\n",
    "        score_result = html.find('div', {'class': 'score_result'})\n",
    "        lis = score_result.findAll('li')\n",
    "        for lists in lis:\n",
    "            try:\n",
    "                try:\n",
    "                    contents = lists.select('p > span')[1].getText().strip()\n",
    "                except:\n",
    "                    contents = lists.select('p > span')[0].getText().strip()\n",
    "                score = lists.select('div.star_score > em')[0].getText().strip()\n",
    "                nickname = lists.select('a')[0].find('span').getText().strip()\n",
    "                data.append([nickname,contents,score])\n",
    "            except:\n",
    "                pass\n",
    "    return data"
   ]
  },
  {
   "cell_type": "code",
   "execution_count": 351,
   "metadata": {},
   "outputs": [],
   "source": [
    "a= movie_score_1()\n",
    "b= movie_score_2()\n",
    "c= movie_score_3()"
   ]
  },
  {
   "cell_type": "code",
   "execution_count": 355,
   "metadata": {},
   "outputs": [],
   "source": [
    "abc = pd.DataFrame(a, columns=['아이디','내용','점수'])\n",
    "abc1= pd.DataFrame(b, columns=['아이디','내용','점수'])\n",
    "abc2 = pd.DataFrame(c, columns=['아이디','내용','점수'])\n",
    "df_score = pd.concat([abc,abc1,abc2])\n",
    "df_score.to_csv('영화평가.csv')"
   ]
  },
  {
   "cell_type": "code",
   "execution_count": 14,
   "metadata": {},
   "outputs": [],
   "source": [
    "import pandas as pd\n",
    "import numpy as np"
   ]
  },
  {
   "cell_type": "code",
   "execution_count": 44,
   "metadata": {},
   "outputs": [],
   "source": [
    "kk = pd.read_csv('영화평가.csv')\n",
    "kk =kk.iloc[:,1:]\n",
    "kk = kk.dropna()\n",
    "kk['점수']= [1 if i>=7 else 0 for i in kk['점수']]\n",
    "kk['점수']=kk['점수'].astype(str)"
   ]
  },
  {
   "cell_type": "code",
   "execution_count": 46,
   "metadata": {},
   "outputs": [],
   "source": [
    "from sklearn.model_selection import train_test_split\n",
    "X_train, X_test = train_test_split(kk.iloc[:,:3], test_size= 0.2, random_state=1234)"
   ]
  },
  {
   "cell_type": "code",
   "execution_count": 47,
   "metadata": {},
   "outputs": [],
   "source": [
    "X_train.to_csv('mv_train.csv')\n",
    "X_test.to_csv('mv_test.csv')"
   ]
  },
  {
   "cell_type": "code",
   "execution_count": 54,
   "metadata": {},
   "outputs": [
    {
     "data": {
      "text/plain": [
       "[['라일락(bitn****)',\n",
       "  '와눈물흘림.. 이순신장군님 만세!! 영화 정말 올해동안 이런대작 만나기힘들듯해요 모두연기파 배우에 흠잡을게없이 대작이네요 명량 !!!! 1000만돌파하고도 남을 영화 ㅠㅠㅠ한번더보고싶네',\n",
       "  '1'],\n",
       " ['dova****', '재밋다 다음편 한산도 봐야지', '1'],\n",
       " ['김윤정(yoon****)', '기대 안했는데 속편도 재밌었어요!', '1'],\n",
       " ['ehdq****', '너무 재밌던 영화였음 역시 이순신!', '1'],\n",
       " ['시연(kem9****)', '대박대박 진짜어마어마하게 예매하구 자리는구석앉았지만 진짜재미있었ㅈ다!진짜재밌어요 꿀잼 ~~', '1']]"
      ]
     },
     "metadata": {},
     "output_type": "display_data"
    },
    {
     "data": {
      "text/plain": [
       "[['ferk****',\n",
       "  '액션씬이며 배우들의 연기며 스토리며 몰입도며 모두 모두 최고였다~~울트라 한부대로 탱크 30부대를 이긴 장본인',\n",
       "  '1'],\n",
       " ['kors****', '액션신이 돋보이는 영화', '1'],\n",
       " ['SN굿보이(dleh****)', '감명^^ 연기력최고 웰메이드영화네요', '1'],\n",
       " ['김보미(booh****)', '잘봤어요~ 극장에서꼭!!!보세요', '1'],\n",
       " ['IS진우(ijwi****)', '지루해 평점 7점대가 적합해', '0']]"
      ]
     },
     "metadata": {},
     "output_type": "display_data"
    }
   ],
   "source": [
    "# def read_data(filename):\n",
    "#     with open(filename, 'r',encoding='utf8') as f:\n",
    "#         data = [line.split('\\t') for line in f.read().splitlines()]\n",
    "#         data = data[1:]\n",
    "#     return data\n",
    "import pandas as pd\n",
    "import numpy as np\n",
    "def read_data(filename):\n",
    "    data = pd.read_csv(filename,dtype=str)\n",
    "    data = data.iloc[:,1:]\n",
    "    data1 = [[data.iloc[line][0], data.iloc[line][1],data.loc[line][2]] for line in range(data.shape[0])]\n",
    "    return data1\n",
    "\n",
    "    \n",
    "train_data = read_data('mv_train.csv')\n",
    "test_data = read_data('mv_test.csv')\n",
    "display(train_data[:5])\n",
    "display(test_data[:5])\n"
   ]
  },
  {
   "cell_type": "code",
   "execution_count": 49,
   "metadata": {},
   "outputs": [],
   "source": [
    "from konlpy.tag import Okt\n",
    "okt = Okt()\n"
   ]
  },
  {
   "cell_type": "code",
   "execution_count": 50,
   "metadata": {},
   "outputs": [],
   "source": [
    "def tokenize(doc):\n",
    "    # norm은 정규화, stem은 근어로 표시하기를 나타냄\n",
    "    return ['/'.join(t) for t in okt.pos(doc, norm=True, stem=True)]"
   ]
  },
  {
   "cell_type": "code",
   "execution_count": 55,
   "metadata": {},
   "outputs": [],
   "source": [
    "import os \n",
    "import json\n",
    "from pprint import pprint\n",
    "if os.path.isfile('./data/docs_학습용.json'):\n",
    "    with open('./data/docs_학습용.json',encoding='utf-8') as f:\n",
    "        train_docs = json.load(f)\n",
    "    with open('./data/docs_검증용.json',encoding='utf-8') as f:\n",
    "        test_docs = json.load(f)\n",
    "else:\n",
    "    train_docs = [(tokenize(row[1]), row[2]) for row in train_data]\n",
    "    test_docs = [(tokenize(row[1]), row[2]) for row in test_data]\n",
    "    # JSON 파일로 저장\n",
    "    with open('./data/docs_학습용.json', 'w', encoding=\"utf-8\") as make_file:\n",
    "        json.dump(train_docs, make_file, ensure_ascii=False, indent=\"\\t\")\n",
    "    with open('./data/docs_검증용.json', 'w', encoding=\"utf-8\") as make_file:\n",
    "        json.dump(test_docs, make_file, ensure_ascii=False, indent=\"\\t\")"
   ]
  },
  {
   "cell_type": "code",
   "execution_count": 25,
   "metadata": {},
   "outputs": [
    {
     "data": {
      "text/plain": [
       "['54661,YOOM2YA(dolk****),오랜만에 울면서 두손잡고 봤네요~,1']"
      ]
     },
     "execution_count": 25,
     "metadata": {},
     "output_type": "execute_result"
    }
   ],
   "source": [
    "tokens = [t for d in train_docs for t in d[0]]\n",
    "import nltk\n",
    "text = nltk.Text(tokens, name='NMSC')\n",
    "pprint(text.vocab().most_common(10))"
   ]
  },
  {
   "cell_type": "code",
   "execution_count": null,
   "metadata": {},
   "outputs": [],
   "source": [
    "import warnings\n",
    "warnings.filterwarnings('ignore')\n",
    "\n",
    "%matplotlib inline\n",
    "import matplotlib.pyplot as plt\n",
    "import numpy as np\n",
    "import pandas as pd\n",
    "plt.rcParams['font.family']='NanumGothicCoding'\n",
    "plt.rcParams['axes.unicode_minus']=False\n",
    "plt.rcParams['figure.dpi']=200\n",
    "%matplotlib inline"
   ]
  },
  {
   "cell_type": "code",
   "execution_count": null,
   "metadata": {},
   "outputs": [],
   "source": [
    "plt.figure(figsize=(20,10))\n",
    "text.plot(50)"
   ]
  },
  {
   "cell_type": "code",
   "execution_count": null,
   "metadata": {},
   "outputs": [],
   "source": [
    "selected_words = [f[0] for f in text.vocab().most_common(10000)]"
   ]
  },
  {
   "cell_type": "code",
   "execution_count": null,
   "metadata": {},
   "outputs": [],
   "source": [
    "def term_frequency(doc):\n",
    "    return [doc.count(word) for word in selected_words]"
   ]
  },
  {
   "cell_type": "code",
   "execution_count": null,
   "metadata": {},
   "outputs": [],
   "source": [
    "test_x = [term_frequency(d) for d, _ in test_docs]"
   ]
  },
  {
   "cell_type": "code",
   "execution_count": null,
   "metadata": {},
   "outputs": [],
   "source": [
    "train_x = [term_frequency(d) for d, _ in train_docs]\n",
    "test_x = [term_frequency(d) for d, _ in test_docs]\n",
    "train_y = [c for _, c in train_docs]\n",
    "test_y = [c for _, c in test_docs]"
   ]
  },
  {
   "cell_type": "code",
   "execution_count": null,
   "metadata": {},
   "outputs": [],
   "source": []
  },
  {
   "cell_type": "code",
   "execution_count": null,
   "metadata": {},
   "outputs": [],
   "source": []
  },
  {
   "cell_type": "code",
   "execution_count": null,
   "metadata": {},
   "outputs": [],
   "source": []
  },
  {
   "cell_type": "code",
   "execution_count": null,
   "metadata": {},
   "outputs": [],
   "source": []
  },
  {
   "cell_type": "code",
   "execution_count": null,
   "metadata": {},
   "outputs": [],
   "source": [
    "################@@@@@@@@@@@@@@@@@@@@@@@@@@@@@@@@@@@@@@@@@@@@@@@##############"
   ]
  },
  {
   "cell_type": "code",
   "execution_count": 27,
   "metadata": {},
   "outputs": [
    {
     "data": {
      "text/plain": [
       "[['9976970', '아 더빙.. 진짜 짜증나네요 목소리', '0'],\n",
       " ['3819312', '흠...포스터보고 초딩영화줄....오버연기조차 가볍지 않구나', '1'],\n",
       " ['10265843', '너무재밓었다그래서보는것을추천한다', '0'],\n",
       " ['9045019', '교도소 이야기구먼 ..솔직히 재미는 없다..평점 조정', '0'],\n",
       " ['6483659',\n",
       "  '사이몬페그의 익살스런 연기가 돋보였던 영화!스파이더맨에서 늙어보이기만 했던 커스틴 던스트가 너무나도 이뻐보였다',\n",
       "  '1'],\n",
       " ['5403919', '막 걸음마 뗀 3세부터 초등학교 1학년생인 8살용영화.ㅋㅋㅋ...별반개도 아까움.', '0'],\n",
       " ['7797314', '원작의 긴장감을 제대로 살려내지못했다.', '0'],\n",
       " ['9443947',\n",
       "  '별 반개도 아깝다 욕나온다 이응경 길용우 연기생활이몇년인지..정말 발로해도 그것보단 낫겟다 납치.감금만반복반복..이드라마는 가족도없다 연기못하는사람만모엿네',\n",
       "  '0'],\n",
       " ['7156791', '액션이 없는데도 재미 있는 몇안되는 영화', '1'],\n",
       " ['5912145', '왜케 평점이 낮은건데? 꽤 볼만한데.. 헐리우드식 화려함에만 너무 길들여져 있나?', '1'],\n",
       " ['9008700', '걍인피니트가짱이다.진짜짱이다♥', '1'],\n",
       " ['10217543', '볼때마다 눈물나서 죽겠다90년대의 향수자극!!허진호는 감성절제멜로의 달인이다~', '1'],\n",
       " ['5957425', '울면서 손들고 횡단보도 건널때 뛰쳐나올뻔 이범수 연기 드럽게못해', '0'],\n",
       " ['8628627', '담백하고 깔끔해서 좋다. 신문기사로만 보다 보면 자꾸 잊어버린다. 그들도 사람이었다는 것을.', '1'],\n",
       " ['9864035', '취향은 존중한다지만 진짜 내생에 극장에서 본 영화중 가장 노잼 노감동임 스토리도 어거지고 감동도 어거지', '0'],\n",
       " ['6852435', 'ㄱ냥 매번 긴장되고 재밋음ㅠㅠ', '1'],\n",
       " ['9143163',\n",
       "  '참 사람들 웃긴게 바스코가 이기면 락스코라고 까고바비가 이기면 아이돌이라고 깐다.그냥 까고싶어서 안달난것처럼 보인다',\n",
       "  '1'],\n",
       " ['4891476', '굿바이 레닌 표절인것은 이해하는데 왜 뒤로 갈수록 재미없어지냐', '0'],\n",
       " ['7465483', '이건 정말 깨알 캐스팅과 질퍽하지않은 산뜻한 내용구성이 잘 버무러진 깨알일드!!♥', '1'],\n",
       " ['3989148', '약탈자를 위한 변명, 이라. 저놈들은 착한놈들 절대 아닌걸요.', '1'],\n",
       " ['4581211', '나름 심오한 뜻도 있는 듯. 그냥 학생이 선생과 놀아나는 영화는 절대 아님', '1'],\n",
       " ['2718894', '보면서 웃지 않는 건 불가능하다', '1'],\n",
       " ['9705777',\n",
       "  '재미없다 지루하고. 같은 음식 영화인데도 바베트의 만찬하고 넘 차이남....바베트의 만찬은 이야기도 있고 음식 보는재미도 있는데 ; 이건 볼게없다 음식도 별로 안나오고, 핀란드 풍경이라도 구경할랫는데 그것도 별로 안나옴 ㅡㅡ',\n",
       "  '0'],\n",
       " ['471131', '절대 평범한 영화가 아닌 수작이라는걸 말씀드립니다.', '1'],\n",
       " ['8480268', '주제는 좋은데 중반부터 지루하다', '0'],\n",
       " ['4254115', '다 짤랐을꺼야. 그래서 납득할 수 없었던거야.. 그럴꺼야.. 꼭 그랬던걸꺼야..', '0'],\n",
       " ['7295746', 'kl2g 고추를 털어버려야 할텐데', '1'],\n",
       " ['5457633', '카밀라벨 발연기', '0'],\n",
       " ['6091784', '재밋는뎅', '1'],\n",
       " ['8322926', '센스있는 연출력..탁월한 캐스팅..90년대의 향수.. 그래서 9점..', '1'],\n",
       " ['6331922', '엄포스의 위력을 다시 한번 깨닫게 해준 적.남 꽃검사님도 연기 정말 좋았어요! 완전 명품드라마!', '1'],\n",
       " ['9005897', '졸쓰레기 진부하고말도안됌ㅋㅋ 아..시간아까워', '0'],\n",
       " ['164908', '재밌는데 별점이 왜이리 낮은고', '1'],\n",
       " ['9671124', '1%라도 기대했던 내가 죄인입니다 죄인입니다....', '0'],\n",
       " ['5712231', '아직도 이 드라마는 내인생의 최고!', '1'],\n",
       " ['4726746', '패션에 대한 열정! 안나 윈투어!', '1'],\n",
       " ['7203432', '키이라 나이틀리가 연기하고자 했던건 대체 정신장애일까 틱장애일까', '0'],\n",
       " ['112724', '허허...원작가 정신나간 유령이라... 재미있겠네요!', '1'],\n",
       " ['1105872', '포스터는 있어보이는데 관객은 114명이네', '0'],\n",
       " ['4805788', '이 영화가 왜 이렇게 저평가 받는지 모르겠다', '1'],\n",
       " ['9336496', '단순하면서 은은한 매력의 영화', '1'],\n",
       " ['9994900',\n",
       "  \"'다 알바생인가 내용도 없고 무서운거도 없고 웃긴거도 하나도 없음 완전 별싱거운 영화.ㅇ.ㅇ내ㅇ시간 넘 아까움 .. . 완전 낚임\",\n",
       "  '0'],\n",
       " ['6760577', '오게두어라! 서리한이 굶주렸다!', '1'],\n",
       " ['3440864', '정말 맘에 들어요. 그래서 또 보고싶은데 또 보는 방법이 없네? >.. ㅜㅡ', '1'],\n",
       " ['8548510',\n",
       "  '윤제문이라는 멋진 배우를 발견하게 됐어요. 소소한 일탈이 잔잔한 미소를 머금게 합니다. 음악은 조금 아쉽네요ㅠㅠ 8점 주고 싶은데 평점 올리고 싶어 10점 줄게요^^',\n",
       "  '1'],\n",
       " ['7719892', '평점에속지마시길시간낭비 돈낭비임', '0'],\n",
       " ['9440670',\n",
       "  '리얼리티가 뛰어나긴 한데 큰 공감은 안간다. 이민기캐릭터는 정신의학상 분노조절장애 초기 증상일거다. 툭하면 사람패고 욕하고 물건 파손하고.. 조금 오바였음. 극 초반엔 신선했는데 가면 갈수록 이민기 정신상태 공감불가.',\n",
       "  '0'],\n",
       " ['7991636', '마이너스는 왜없냐 ㅋ 뮤비 보고 영화수준 딱 알만하더군 ㅉㅉ 북한에서 이런거 만들라고 돈 대주던?', '0'],\n",
       " ['4679407', '난 우리영화를 사랑합니다....^^;', '0'],\n",
       " ['9837767',\n",
       "  '데너리스 타르 가르엔...나도 용의주인이 되고 싶다...누이랑,근친상간이나 하고 다닐지라도,소설 속에선 제일 멋진 놈이 자이메 라니스터였는데,드라마속에선,드래곤(용)이 제일 멋지네(웃음)감독님 토르-2 다크 월드는 말아 잡수셨을지라도,기본 선방은 했음',\n",
       "  '1'],\n",
       " ['9063648', '영화가 사람의 영혼을 어루만져 줄 수도 있군요 거친 세상사를 잠시 잊고 동화같은 영화에 행복했네요', '1'],\n",
       " ['8272095', '야 세르게이! 작은고추의 매운맛을 보여주마! 포퐁저그 콩진호가 간다', '0'],\n",
       " ['2345905', '이렇게 가슴시리게 본 드라마가 또 있을까? 감동 그 자체!', '1'],\n",
       " ['7865630', '난또 저 꼬마애가 무슨 원한이 깊길래.,. 했더니 OO 그냥 혼자 나대다 OO걸 어쩌라고.', '0'],\n",
       " ['7207064', '재미있어요', '1'],\n",
       " ['5719655', '전 좋아요', '1'],\n",
       " ['1651126', '최고', '0'],\n",
       " ['7246040',\n",
       "  '너무 충격적이엇다. 기분을 완전히 푹 꺼지게 하는 느낌... 활력이라고는 하나도 없는 너무나도 무거운....지독하고 차갑고 무자비하다. 그저 일본인들의 상상력은 정말 대단한거 같다는 생각이 든다.',\n",
       "  '1'],\n",
       " ['717775', '심심한영화.', '0'],\n",
       " ['8317483', '백봉기 언제나오나요?', '1'],\n",
       " ['1031725', '보는내내 그대로 들어맞는 예측 카리스마 없는 악역', '0'],\n",
       " ['3993146', '불알이 나와서 당황...아무튼 영화가 중간에 끝나는 느낌', '0'],\n",
       " ['2196616', '평범함속에 녹아든 평범한 일상. 조금 밋밋한게 흠.', '0'],\n",
       " ['8203798',\n",
       "  '보던거라 계속보고있는데 전개도 느리고 주인공인 은희는 한두컷 나오면서 소극적인모습에 짜증이 ㅜㅜ 맨날 언제끝나나 기대만하고있어요 전개좀 빨리빨리 ㅜㅜ',\n",
       "  '0'],\n",
       " ['2332588', '사랑하고싶게하는,가슴속온감정을헤집어놓는영화예요정말최고.', '1'],\n",
       " ['10084753',\n",
       "  '많은 사람들이 이 다큐를 보고 우리나라 슬픈 현대사의 한 단면에 대해 깊이 생각하고 사죄하고 바로 잡기 위해 노력했으면 합니다. 말로만 듣던 보도연맹, 그 민간인 학살이 이정도 일 줄이야. 이건 명백한 살인입니다. 살인자들은 다 어디있나요?',\n",
       "  '1'],\n",
       " ['8518645',\n",
       "  '예전 작품 캐릭터, 에피소드 재탕 삼탕 사골우려먹듯 우리고 내용은 산으로 가고 시청률은 아예안나오고 이제 70회중반인데 120부작이라니 ...',\n",
       "  '0'],\n",
       " ['7956793', '김남길의 백점짜리 연기력과 초반 몰입도에도 불구하고 지루하고 손예진 ㅈㅈ', '0'],\n",
       " ['3996917', '재밌네 비슷한 영화를 안보신 분들한테는 재미있을 듯', '1'],\n",
       " ['8128006', '노래실력으로뽑는게 맞냐? 박시환이 mama나가면 진짜 망신이다', '0'],\n",
       " ['2192046', '아 일본영화 다이런건가?? 유치하다', '0'],\n",
       " ['7250961',\n",
       "  '이틀만에 다 봤어요 재밌어요 근데 차 안에 물건 넣어 조작하려고 하면 차 안이 열려있다던지 집 안이 활짝 열려서 아무나 들어간다던가 문자를 조작하려고하면 비번이 안 걸려있고 ㅋㅋㅋ 그런 건 억지스러웠는데 그래도 내용 자체는 좋았어요',\n",
       "  '1'],\n",
       " ['5679106', '졸작', '0'],\n",
       " ['9179128', '재밋네요 달팽이가 빨라서 더 재밌었어요', '1'],\n",
       " ['9048450', '어설픈 전개 어이없는 결말', '0'],\n",
       " ['8387244', '부패한 로마노프 왕조를 기리는 뭣같은 영화... 온몸으로 항거했던 러시아 민중들이 그저 폭도냐', '0'],\n",
       " ['9803156', '내용전개는 무난한 편이였구 잘 보았습니다 ^^', '1'],\n",
       " ['2135015', '매우 실망.....', '0'],\n",
       " ['7884025', '한국영화 흥행코드: 갈등-갈등-계~에속 갈등-화해-감동- 평점 10점 남발- 흥행 뻔하지 뭐...', '0'],\n",
       " ['9801316', '아햏햏 아햏햏 아햏햏.', '1'],\n",
       " ['2009382', '뭐냐..시작하고 3분만에 나왔다. 리플릿 사진 보며 불안하더니만..', '0'],\n",
       " ['10112591', '단연 최고라고 할수있지', '1'],\n",
       " ['7280935', '감독이 럼먹고 영화를 만들었나보다.. 관객에게 뭘 말하는지도 모르겠고, 엉망진창 개진창이다.', '0'],\n",
       " ['5971506', '이건 뭐냐? 우뢰매냐? ;;;', '0'],\n",
       " ['9875922', '정말쓰레기영화입니다', '0'],\n",
       " ['9850710', '진정 위대한 영화 최고임', '1'],\n",
       " ['1927486', '별루 였다..', '0'],\n",
       " ['5023820', '내일이 기대되는 `', '1'],\n",
       " ['1859380', '근데 조미가 막문위 좋아한건가요??', '1'],\n",
       " ['1635552', 'ㅋㅋㅋ 진짜 골깜..ㅋㅋ 눈 부라릴때 쓰러짐..ㅋㅋ', '1'],\n",
       " ['7852366', '성룡영화중 최악인듯 ㅋㅋ', '0'],\n",
       " ['9480003', '골때리네ㅋㅋㅋㅋ 걸스데이 이혜리 잘 되라!', '1'],\n",
       " ['1797212', '서기가이뻐서', '1'],\n",
       " ['6374262', '완전 재밌어요ㅋㅋㅋㅋㅋ백인공주귀여움ㅋㅋㅋㅋㅋㅋ', '1'],\n",
       " ['1607129', '인상적인 영화였다', '1'],\n",
       " ['8763660', '어내스트와 셀레스틴 완전 강추에요~ 정말 재밌습니다^^', '1'],\n",
       " ['9361974', '재미있는영화입니다.', '1'],\n",
       " ['7928957', '클라라볼라고화신본거아닌데', '0'],\n",
       " ['10250221', '진짜 보면서 너무 슬펐던 영화다', '1'],\n",
       " ['6122458', '설정이 재밌고 새로운 에피소드 내에서 메인 스토리도 차차 나오는게 재밌음', '1'],\n",
       " ['10044377', '신카이 마코토의 작화와,미유와 하나카나가 연기를 잘해줘서 더대박이였다.', '1'],\n",
       " ['6158844', '재미없음 진심 1이훨나 캐스팅두못한듯', '0'],\n",
       " ['1723799', '잔잔한게 생각보다 볼만한 영화인거 같습니다 ㅋ', '1'],\n",
       " ['10273782', '감독님들 고은님 쓰면 영화안봅니다 .', '0'],\n",
       " ['1666795', '무섭지도 않았고 스토리도 ..ㅡㅡ', '0'],\n",
       " ['4866815', '영화속 억지스럽고 노골적인 술광고를 좀 은은하고 센스있게 했으면 어땠을까?', '0'],\n",
       " ['7747745', '킬링타임', '0'],\n",
       " ['8213218', '크리스마스하면 떠오르는영화', '1'],\n",
       " ['8659712', \"재미있게 봤습니다. 매력적인 행복이네요, '-' ㅎㅎㅎ.\", '1'],\n",
       " ['1204710', '음악에 완전히 빠져서 볼 수 있었던 영화. 쫌 산만하긴 하던데;;', '1'],\n",
       " ['3926204', '태어나서 처음으로 영화보다 중간에 나왔습니다,,,,불륜이 로맨스냐,,', '0'],\n",
       " ['2304429', '왕짜증.....아주 전개를 짬뽕으로 믹스했구나...음향만 무섭게하네..하아', '0'],\n",
       " ['9685228', '솔직히 난 별루더라 시간낭비느낌', '0'],\n",
       " ['7115568', '대박', '1'],\n",
       " ['6205383', '시청률 기준이 되는 패널가구들 머하는거지 명작드라마 다 망치네 ㅡㅡ 내가 다 서운하다...', '1'],\n",
       " ['85848', '내용이 이상해;', '0'],\n",
       " ['8741214', '몬스터 주식회사 3D 재밌게 봤다', '1'],\n",
       " ['7785809', '내용전개가 너무나 느리다........', '0'],\n",
       " ['9757434', '소재는 흥미를 끌지만 이야기 전개가 투박해서 몰입이 안되는군', '0'],\n",
       " ['9753792', '절대 보지마라 쓰레기 영화', '0'],\n",
       " ['7520154',\n",
       "  '중국인 특유의 과장, 허풍... 있어보이려고 안간힘 쓴 노력은 가상하나, 고증과 현실감 떨어지는 설정이 거북스럽다... 도대체 그들은 왜 이렇게까지 스스로를 과대포장하는 것인지...',\n",
       "  '0'],\n",
       " ['8902582',\n",
       "  '그냥 불법체류자 때려잡는 영화면 좋았을텐데...무슨 우상화를 만든다고 미국의 따뜻한 설정...이건 뭥미??',\n",
       "  '0'],\n",
       " ['9578691', '2년의 삶속에 주인공의 생애가 전부 드러난 듯 하다.', '1'],\n",
       " ['7469033', '별점10점가자', '1'],\n",
       " ['3914806', '별로다.', '0'],\n",
       " ['10212945', '본지 꽤 지난 후에 남기지만...재미있었음', '1'],\n",
       " ['9893434', '아니 이게 왜 9점대 일까...;;;', '0'],\n",
       " ['9615602', '10년이 지나 다시 보게된 영화 .. 다시봐도 그 순수한 사랑에 감동 ㅠㅠ 숀펜의 연기또한 甲', '1'],\n",
       " ['10138538',\n",
       "  '올레에 공짜로있길래 봤음 ㅋㅋ 헐 ... 스토리가 문제가아니라 연기자들이 전혀 배역이랑 어울리지않음 그리고 상대배우들하고 다 따로 노는거같음~~ 이건 연기자들도 문제있음 보아는 진심 완전 별로임 라미란하고 아들이 젤 볼만했음',\n",
       "  '0'],\n",
       " ['6139250', '너무 욕심이 많았던 영화. 어느 한 쪽만이라도 제대로 보여줬다면......', '0'],\n",
       " ['6738759', '아 빵점~', '0'],\n",
       " ['10108387', '베댓이 말을 아주 잘써놨네', '1'],\n",
       " ['5678216', '아주 모자라진 않다.', '0'],\n",
       " ['8470143', '영화 도둑들이나 뫼비우스 하고 같은 나라에서 만들어졌다는게 믿어지냐..?', '0'],\n",
       " ['6565615', '온몸이.. 찌릿..짜릿. 나두 용기를 가져야지!!', '1'],\n",
       " ['7838658', '정말재미있고 교훈적인 영화이네요!', '1'],\n",
       " ['3526263', '당시의 상황과 주제를 주입식이 아닌 긴장감있고 재밌게 전하는 작품', '1'],\n",
       " ['625839', '케이블에서 그만 나와줬으면 - -', '0'],\n",
       " ['6153764', '다르덴,이냐리투,차이밍량이 하나도 안섞인채 짬뽕 그릇에 담겨있다.', '0'],\n",
       " ['9179457', '여군 잼없음 뭐하는건지 ...ㅡㅡ잼없음 엠비씨 다잼없음 질린다이제', '0'],\n",
       " ['3685947', '좋구나', '1'],\n",
       " ['8747603', '한석규, 김혜수 연기만 돋보인 영화. 어딘지 모르게 많이 어설픈 영화.', '0'],\n",
       " ['9153275',\n",
       "  '솔직히 에볼라바이러스가 떠들석해서 보게된영화인데 작품성이나 어떤면에서도 20여년전 영화라고보기엔 믿기힘들정도로 정말 잘만들었다고본다 마지막후반부가 살짝 아쉽긴하지만 이정도면 수작이라고본다 시간이 아깝지않은영화',\n",
       "  '1'],\n",
       " ['2850477', '볼만해;', '0'],\n",
       " ['8513072', '재미있다고 허풍 떨지 마세요', '0'],\n",
       " ['8546726', '용가리 진짜짱짱맨이다ㅋ', '0'],\n",
       " ['8674440',\n",
       "  '이 영화를 이제서야 보다니.. 감히 내 인생 최고의 영화중 하나로 꼽을 수 있을만한 작품. 어떻게 살아야할지 나를 위한 고민을 한번 더 하게 되는 시간. 그리고 모건 프리먼은 나이가 들어도 여전히 섹시하다.',\n",
       "  '1'],\n",
       " ['6842532', '작가가별로다 내용이진짜별로임.. 맨날그냥기대하고 재방송하면 혹시나하고봐줘도 답없다진짜..', '0'],\n",
       " ['9106604', '명작도 이런 명작이 있을까 싶다. 보고 또 봐도 여운이 남는 영화.', '1'],\n",
       " ['10261336',\n",
       "  '아~ 진짜 조금만 더 손 좀 보면 왠만한 상업 영화 못지 않게 퀄리티 쩔게 만들어 질 수 있었는데 아쉽네요 그래도 충분히 재미있었습니다 개인적으로 조금만 더 잔인하게 더 자극적으로 노출씬도 화끈하게 했더라면 어땠을까 하는 국산영화라 많이 아낀 듯 보임',\n",
       "  '1'],\n",
       " ['8518274', '그만좀 끌고 이제 끝내라. 지겹다 지겨워.', '0'],\n",
       " ['7348295', '아', '0'],\n",
       " ['5882876', '역시 드니로의 연기는 일품 나도 맥스가 샘을 죽이길 바랬다', '1'],\n",
       " ['8472176', '나름 괜찮은 작품입니다', '1'],\n",
       " ['4446905', '너무 좋은 영화', '1'],\n",
       " ['6252170', '정말 실망 스러웟음..', '0'],\n",
       " ['8777723',\n",
       "  '배우들은 지네들 안뜨니까 이런영화 찍을껀데??? 왜 안뜨는지 진짜 모르는거야? 면상 딱 보면 알겠구만... 왜 지네 자신들은 모를까?',\n",
       "  '0'],\n",
       " ['8670820', '어린이가 좋아할듯...내어릴적 동심은 멀리 떠낫나보다.', '0'],\n",
       " ['3384269', '무술인이 왜 총을드나?', '0'],\n",
       " ['7781028', '10점', '1'],\n",
       " ['9890330', '크리스토퍼왈츠와 타란티노의 조합이란 ㅠㅠ', '1'],\n",
       " ['8660428', '한국에선유명한편은아니지만 외국에선 상상초월한 유명한 영화입니다.', '1'],\n",
       " ['10212029', '오랜만에 재밋는영화봤네요', '1'],\n",
       " ['8575963',\n",
       "  '종방되어 아쉬워요. 오늘막방도 잘봤어요.방송대본이 꽤 완성도있다는 느낌받았고요. 요즘 드라마들의 막장에 지쳐있었는데 수백향은 정말 바른드라마였던듯해요.악역들도 그리 심하게 어이없지도 않았고요..MBC화이팅!!',\n",
       "  '1'],\n",
       " ['7033414',\n",
       "  '평점조절위원회에서 나왔습니다(웃음)김혜선은 @내일이 오면@의 김순정,순정이 역할이 제일이다.팜므파탈로써,그 정도까지 잘해낼 줄은,정말 의외였어...연기20년 한사람에게 요즘 사극에서 벌어지고 있는,그녀에 대한 연기논란은 왠지 코미디의한장면 같음(웃음)',\n",
       "  '0'],\n",
       " ['10122280', '\"\"\"영화 끝나갈때쯤에 멍하다가 다보고나면 한마디 나올거임 \"\"\"\"ㅈ같다.\"\"\"\"\"\"\"', '1'],\n",
       " ['8062501', '공유 존잘!!!ㅎㅎㅎ', '1'],\n",
       " ['2937929', '상쾌발랄한 영화다. 말하기 껄끄런 성이란 소재를 유쾌하게 해설했다.', '1'],\n",
       " ['4777325', '소파에 죽 치고 앉아 지켜 볼 이유가 없는 작품.', '0'],\n",
       " ['7047706', '로큰롤!!!!!!!!!!!!!!', '1'],\n",
       " ['7263316',\n",
       "  '주된 타겟이 어린이니 일반적인 논리가 통하지 않는 건 알겠다. 하지만 게임은 흥미롭지 않고, 요원이라는 주인공이 너무 무능력해서 별로 재미없다. CG 배경도 거슬린다.',\n",
       "  '0'],\n",
       " ['9297500',\n",
       "  '뮤지컬 영화인데 사운드 녹음 엉망, 남주는 춤도 못추고, 내용은 뻔할뻔, 주인공들 목소리도 너무 안어울리고 어제 CGV에서 뛰어 나가려다 참았습니다.진심 말리고 싶습니다. 영국의 저예산 DVD용 영화뮤지컬영화 아닙니다. 맘마미아 1/10도 안됨',\n",
       "  '0'],\n",
       " ['3234156', '어린나이에 봤음에도 꽤나 좋아했던 로맨틱코미디', '1'],\n",
       " ['6245450', '게이물인줄 모르고 봤네...', '0'],\n",
       " ['5249559', '알바는꺼저라', '0'],\n",
       " ['8570013',\n",
       "  '이 영화 머임????내가 왜 받아 봤을까? 그것이 알고싶다....이 영화는 배우들과 스텝들이 감독의 꼭두각시였음.',\n",
       "  '0'],\n",
       " ['8880577', '4대2라니....최악', '0'],\n",
       " ['6197121', '정말 아름다운 영화 입니다', '1'],\n",
       " ['9169160', '자극적인 것에 익숙해진 현대인이 봐도 눈을 떼기 힘든 연출력.', '1'],\n",
       " ['10066840', '뻑~뻑~잘 읽어볼걸 나도 당했음', '1'],\n",
       " ['8681070',\n",
       "  '정말 짜증의 극치를 보여주는영화. 굉장히 언밸러스한 느낌. 뚱뚱하고 못생긴 남자애의 발연기를 시종일관 봐야하는게 고역인듯. 간간히 흘러나오는 잔잔한 클래식풍의 음악조차도 듣기싫어 짜증날정도로 상당히 싫은영화.',\n",
       "  '0'],\n",
       " ['6077668', '감동감동ㅜㅜ, 정말 최고네요!!!!', '1'],\n",
       " ['6555618',\n",
       "  '별점 주기도 아깝네요 얼마나 내용이 진부한지 욕 밖에 안나오네요보고 재밌다고 하는 사람 초딩들인가요 죄송해요 너무 화가나서.아무 것도 볼게 없습니다 보지 마세요 그냥 티비판짜집기 한거 같네요',\n",
       "  '0'],\n",
       " ['4989285', '나 왠만해서 짜증안내는데...-_-', '0'],\n",
       " ['1711932', '돼지피먹고 닭목따는 장면에선 우웩~ 역시 무당은 아무나 하는게 아니다.', '0'],\n",
       " ['1870395', '버려', '0'],\n",
       " ['9829888', '유치하고 지루하고 잠이 왔다', '0'],\n",
       " ['8333987', '3류풍 판타지 3점만 가져가', '0'],\n",
       " ['8126489',\n",
       "  '윤종신 복귀는 좋았지만 이하늘은 도대체 왜 뽑혔는지 알수가없다. 참가자 실력을 따지기 전에 심사위원 인격과 실력부터 쌓고 오시길^^ 어하어허 그만좀 하고요',\n",
       "  '0'],\n",
       " ['81637', '광장한 작품 옛날것도 보고 싶다', '1'],\n",
       " ['23929', '내 생의 최고의 영화', '1'],\n",
       " ['6663588', '어린시절 너무 무섭고 재미있게 봤던 추억의 판타지영화.절대 나쁜짓은 금물.지옥가요..', '1'],\n",
       " ['5503928', '기존 멜로영화 형식을 탈피하려고 하였으나 감정의 절제가 지나쳐 너무 담백한 영화', '0'],\n",
       " ['6344106', '난 사랑비 서준에게 쏙 빠져버렸네. 1.2.3초만에 쏙ㅋㅋ난 절대잊지도않고후회도안할거야', '1'],\n",
       " ['10149152', '이영화를보니까 교훈을 주네요! 나도 남은인생을 화려하게 살아야겟다.. 말밖에 안나오네요..', '1'],\n",
       " ['9295404', '나름 추억에 젖어들고 좋았음ㅋㅋ아무생각없이 가볍게 보고오기 추천요~', '1'],\n",
       " ['9603725', '단순한 싸이코물을 벗어난', '1'],\n",
       " ['9163009', '이게 14년도에 만들어진건가요? 아니면 예전에 만든거 다시개봉한건가요?ㅠ너무 허접해요 ㅠ', '0'],\n",
       " ['9418231', '넘 사랑스러운 영화다 ㅠㅠ 1보고 2 연이어 봤다~!! 넘 귀여워 ㅠㅠ♥♥', '1'],\n",
       " ['9687122',\n",
       "  '청춘 영화만이 줄 수 있는 감성이 넘쳐난다. 이 순간 지나가면 다시 돌아오지 않을테지만, 그 순간만큼은 무한할 젊음이 줄 수 있는 그런 감성.',\n",
       "  '1'],\n",
       " ['4038387', 'TV용 건담 시리즈 중에서 아직까지도 최고봉', '1'],\n",
       " ['8913715', '개콘은 요즘 갈수록 코너들이 다노잼이고 웃음이안난다', '0'],\n",
       " ['7927383', '사다코의 한이 서린 우물펀치ㅜㅜ 감동', '1'],\n",
       " ['8508764',\n",
       "  '후세와 사랑하게된 결정적 계기 그시간이 표현되지 않았으며 시람의 생명을 빼앗아야만하는이유등을 시노가 출현하는 연극으 로 더 알려주었으면 하는 생각이든다. 또한 시노가 얼마나 본능을절제히면서 시랑을 하려고 노력하는지를 더 보여줬다면 좋았을뻔했다',\n",
       "  '0'],\n",
       " ['3403149', '새벽시간에 하는 일본 영화들은 전부 개졸작이다.일본영화원래 다이래??', '0'],\n",
       " ['1119950', '강수연의 나가있어~!그리고 최정원의 신음신~', '0'],\n",
       " ['6976560', '아..정말 김혜성 너무 예쁘네요 이현진도 웃는 거 정말...하....', '1'],\n",
       " ['4817061', '가발 쓰고 싶다', '0'],\n",
       " ['1025241', '화려한여정이인상깊어요ㅋㅋ재밋어요ㅋㅋ배두나연기정말잘해요ㅋ', '1'],\n",
       " ['2922082', '10대들을 위한 성적 호기심 영화?', '0'],\n",
       " ['5444748', '감동적인 영화', '1'],\n",
       " ['9363921', '이건 말이 필요 없다 그냥 닥치고 봐라', '1'],\n",
       " ['2361255', '각기 다른 사람들의 재밌고 멋진 사랑영화', '1'],\n",
       " ['2385954', '역시 미국드라마의 파워. 정말 알수없는 그 미묘함까지 사로잡아버렸다 최고!!', '1'],\n",
       " ['5686473', '너무너무 훈훈하네요^^', '1'],\n",
       " ['7227535', '이거 응답하라에서 은지원원도 스스로 욕하지 않앗나? ㅋㅋㅋㅋ', '0'],\n",
       " ['1508152', '아 너무 웃기고 배꼽 빠질뻔했네^^ 내 컴에 이 영화 있는데^^', '1'],\n",
       " ['3943125', '구성이 상당히 부실한 영화. 역시 네이버 평점은 믿을수 없다.', '0'],\n",
       " ['1922525', '장끌로드의 몰락을 가져온 오우삼 헐리우드 작품중 가장 재미없었던 졸작', '0'],\n",
       " ['9039778', '언제적 영웅본색 연출인지 현실성 제로인 영화', '0'],\n",
       " ['7805059',\n",
       "  '작은거 하나에도 설레어했던 학창시절 그때 그느낌을 다시 느껴볼수있는시간이었다. 장면 하나 하나 대사 하나 하나 배경음악 하나 하나 버릴게 없는 드라마.',\n",
       "  '1'],\n",
       " ['9324383', '진심 재미 없는데 너무 평점 높아서 화남;', '0'],\n",
       " ['9150201', '더럽게 재미없다 어떤 형태로도 와 닿지 않는 허무하고 완벽히 지루한 영화고 영양가 하나도 없는 영화다', '0'],\n",
       " ['7473724', '이승기 정말 연기 잘하는.. 조연들도 연기 정말 잘하고', '1'],\n",
       " ['7573034', '현실은 꿈, 꿈은 현실', '1'],\n",
       " ['4550192', '오늘 현충일특집프로로 보게되었습니다 1963년도의 매우 훌륭한 작품입니다', '1'],\n",
       " ['1347002', '판의미로와 동급 trash of the trash', '0'],\n",
       " ['6590993', '제대하고 보니까 더 재밌네요 ㅋㅋㅋㅋ', '1'],\n",
       " ['6580205',\n",
       "  '영화를 보는것만으로도 마음의 휴가를 다녀온 느낌.소박하지고 잔잔하지만 지루하지않은..그래서 다시 보고싶은 영화.햇살가득한 비이의 부엌과 요리도 인상적',\n",
       "  '1'],\n",
       " ['9666256', '코믹한건 좋았는데 짜임새가 너무 허술하다', '0'],\n",
       " ['9967162',\n",
       "  '1996년 그때 당시에는 우리 나라에 이런 판타지 로맨스가 없었다... 아직도 신현준의 황장군 연기는 음... 괜찮네... ㅎㅎ....한석규의 전성시대가 열린 영화.... 이때 한석규한테 뿅 갔었다~~♥',\n",
       "  '1'],\n",
       " ['5304583', '일단 재생하면 괴물같은 서스펜스 귀신같은 흡입력', '1'],\n",
       " ['8309459',\n",
       "  \"하..진짜 댓글보고 한번쯤볼만한 영화인거같아서봤지만 기가찬다..이게무슨버킷리스트인가! 죽기직전에 소원들어주기? 내가보기엔 죽기직전에 막 살자 인거같다. 감동도없고.. 진짜 '버킷리스트' 란 영화에 발톱에 때만큼도 못따라가는쓰레기영화.. 완존실망..\",\n",
       "  '0'],\n",
       " ['8010423',\n",
       "  '이시간좀...밝고긍정적인드라마보고싶어서..보긴보는데....오버하는연기들이거슬리네요...연기인게너무표나요....홍혜정역이그나마도후련기도하고시원하고.....나머진다들답답하네요...낼월요일인데...해피한것만보고싶네요....',\n",
       "  '0'],\n",
       " ['7712668', '정치인의 모순인가, 정치범의 모순인가....', '0'],\n",
       " ['5923805', '어떻게 이런 상상을 대단하다.', '1'],\n",
       " ['5613442', '좀 어렵기도 하고, 전쟁에 대한 묘사가... 잘 모르겠다.', '0'],\n",
       " ['4193028', '일본에서10주년 극장판만드는데 우리나라에선 10주년으로 재개봉하니이건 좀 ㅄ 아님?', '0'],\n",
       " ['9103654', '한대희가 개그콘서트본다고 내전화끊음개그콘서트 없애주세요 ㅡㅡ', '0'],\n",
       " ['9737474', '한물 간 동서양 두 배우의 싸움판.', '0'],\n",
       " ['8711262', '푸하하하 이거 기대 안했지만.. 역시나 구만..ㅋ', '0'],\n",
       " ['4437265', '세계최초의 반공 애니매이션이라는 역사적 가치가 있다.', '1'],\n",
       " ['36087', '감각적인..시각으로...바라보는..색다른...느낌의...사랑...문학적이', '1'],\n",
       " ['10114923', '엄마는 무고한 지 딸을 감옥살이 시켜시켜? 이해 안돼요', '0'],\n",
       " ['3988502', '이영화는.제발 책을보세여.감독이 미친겁니다.이따위로 만들어놓고.화가 날정도 ㅡㅡ', '0'],\n",
       " ['512688', '신나는 흑인음악과 아이스 큐브 뿐 남는게 없다', '0'],\n",
       " ['10010968', '드럽게 재미없네 시간이 돈이다? 내 시간은 어쩔건데', '0'],\n",
       " ['3265565', \"그저 한마디뿐 '알리시아'\", '1'],\n",
       " ['8890254', '진짜 생생하게 느낄 수 있었다', '1'],\n",
       " ['9119967', '재밌는데 평점이 이상하다 싶을 정도로 낮다.', '1'],\n",
       " ['7435669', '옥소리 프로필 사진에 1점남기고 갑니다 ㅋㅋㅋㅋㅋㅋㅋㅋㅋㅋㅋㅋㅋㅋ완전 대박이다 진짜 아우 짜증나!', '0'],\n",
       " ['7603466', '드라마 너무 재밓당', '1'],\n",
       " ['8055931', '아진짜너무좋아요ㅜㅜ짱짱!!!', '1'],\n",
       " ['2182684', '연기 굿', '1'],\n",
       " ['8154957', '이런 영화 다시는 안나오겠지..그때 시절을 잘나타내주었던거같아요 ㅎㅎ', '1'],\n",
       " ['3545895', '중간정도 부터 봤는데도 꽤나 대단하군요...', '1'],\n",
       " ['9414462', '콩은 까야 제맛 콩은 까야 제맛', '0'],\n",
       " ['6291727', '이적의 소설. 재미없다.', '0'],\n",
       " ['3427286', '액션영화가 아니다.범죄 느와르 영화다. 허나 범죄 느와르 영화로서도 실패작.......', '0'],\n",
       " ['1207277', '뭔가알수없는매력에빠져드는 영화', '1'],\n",
       " ['8670966',\n",
       "  '모녀를 토막살해한 살인자가 부성애라니.... 말이되나... 감동받은 사람들 본인들이 피해자가 되도 감동받았다고 할수있을까... 진심 묻고싶습니다...',\n",
       "  '0'],\n",
       " ['6871120', '재밌는데 평점이 왜 이렇게 구리지', '1'],\n",
       " ['5124760', '아 OOO기.. 이걸 본 내눈이 아깝다 ㅡㅡ 진짜 아놔 진짜 OOO기명작이네요', '0'],\n",
       " ['6931068', '필름값이 아깝다..재미 더럽게없다..2점부터 점수준것들 매미 OO', '0'],\n",
       " ['1618314', '또보고 싶은데 어디서 보죠???', '1'],\n",
       " ['4289323', '영화 재미있드만.. ㅎㅎ', '1'],\n",
       " ['8381652',\n",
       "  '남주인공 연기력 안습이네요... 혀짧은 소리 듣기도 너무 힘들었네요 매니저역활분이 남주인공하는게 훨 좋았겠다는 생각이 들정도... 영화 자체는 적당히 볼 만 합니다 ^^',\n",
       "  '0'],\n",
       " ['8557261', '3점이 딱.... 액션,스릴러인데 액션과 스릴이 없다.', '0'],\n",
       " ['3187395', '완전 스토리도 엉망이구, 완전 비추..ㅜ', '0'],\n",
       " ['10274403', 'OOO영화 뭘전달하려는지모르겠네 오글거리고', '0'],\n",
       " ['2523528', '좋은영화', '1'],\n",
       " ['7041870', '......더빙이 이상해요.....할머니는 월래익숙한 ㄷㅔ.....', '0'],\n",
       " ['9268003', '이게 2편이 나왔어???', '0'],\n",
       " ['917164', '모든게 2%씩 다 부족했다...아니..50%씩...', '0'],\n",
       " ['1595727', \"정말 말 그대로 '쇼'하는 영화..\", '0'],\n",
       " ['10079284', '12년 전에 봐서 기억이 나질 않지만 진개가(천카이거) 감독 이름 세 자는 기억해 두었던.', '1'],\n",
       " ['9077483',\n",
       "  '정은지 언니!! 연기 잘하구..노래도 잘부르시고! 마지막회 웃으면서 즐겁게! 봤습니다! 트로트의 연인!♥',\n",
       "  '1'],\n",
       " ['1724444', '이게 웃겨?', '0'],\n",
       " ['7124022', '망함', '0'],\n",
       " ['6409443', '아이의 시선으로 보는 전쟁.., 보는 내내 가슴이 먹먹했다는...', '1'],\n",
       " ['10243387',\n",
       "  '사람들이 재미없다고 해서 레알 기대 안했는데 생각보다 볼만함. 근데 여자애랑 복순이랑 다투는 장면? 그건 굳이 없어도 됐다고 생각함 몰입도 겁나 없애고, 어색해보였음',\n",
       "  '0'],\n",
       " ['2577310', '설정이 연속극같은 느낌이 든다. 하지만 배우들의 연기가 뛰어나다.', '1'],\n",
       " ['4523923', '여주인공 인터뷰할때 지루해죽는줄알았음 ㅡㅡ 그냥저냥 킬링타임용 스릴러', '0'],\n",
       " ['7862272',\n",
       "  '전미 박스 오피스1위 ㅋㅋ 그냥 몰아주기 하는건가 어떻게 이런영화가 1위를 하지 옛날 80~90년대 우뢰매수준의 물폭탄싸움이네 ㅋㅋ 손에서 빔나가나 손에서 물폭탄 나가나 다를게 뭐지?',\n",
       "  '0'],\n",
       " ['573776', '감독이 여자다보니 기량이 많이 딸리네', '0'],\n",
       " ['9056760', '또 보고 또 울.었.다..', '1'],\n",
       " ['9643549', '이런 영화는 하나의 개연성만 없어도 허무하게 만들어 버린다. 조디포스터의 이쁜 모습만 남을 영화.', '0'],\n",
       " ['6081437', '굳굳', '1'],\n",
       " ['9907350',\n",
       "  '스토리도 말이 안되고 개막장 사랑이야기도 아니예요 이걸보고계신다면 당신의 시간과돈을 아낀거예요^.^휴 그래도 본다면 호구',\n",
       "  '0'],\n",
       " ['4445737', '네놈을 살려두기엔 쌀이 아까워! 세기의 명대사', '1'],\n",
       " ['6969112',\n",
       "  '평점이 너무 높다. 전혀 재미있지 않았다. 쓸데없이 말만 많음. 이런 류의 영화는 조연들의 뒷받침이 중요한데 조연들의 내용자체가 전혀 없음. 또한 여배우도 별로 매력 없었다. 이틀전에 저스트고위드잇의 애니스톤을 보고 이 영화를 봐서 그런가. 실망했음',\n",
       "  '0'],\n",
       " ['5149470', '맛깔 나는 드라마.', '1'],\n",
       " ['7696175', '시베리아인가 거기가서 훈련할때나오는 ost 개작살', '1'],\n",
       " ['9197636',\n",
       "  '이건 시종일관 질~~질왜? 제목이 야경꾼 일지냐고 지금 10회가 넘어가는데 즉 2달이 넘어가는데. 앞에서 누군가가 얘기 하더만 이거 100부작이냐고 그러다 또 한 순간에 모든걸 훅진짜 지루함의 지존',\n",
       "  '0'],\n",
       " ['7303814', '나이들수록 이해가 가는 영화', '1'],\n",
       " ['6256531', 'ㅠㅠ 슬픔', '1'],\n",
       " ['7860179',\n",
       "  '장면 개연성도 없고 아역은 연기도 못하고 무슨 추노에 나오는 민폐언년 외국판인줄....초반만 그럴싸한 저급영화',\n",
       "  '0'],\n",
       " ['4813296', '이 영화 정말 별루예요. 결말이 이상해요....', '0'],\n",
       " ['8153915', '딱히 재미는 없네요 킁;;', '0'],\n",
       " ['9698597', '송강호는 정말 연기를 하기위해 태어났고 그로인해 우리는 즐거움을 느낀다 역시 송강호는 연기파다.', '1'],\n",
       " ['9936129', '일본영화 수입 금지 시절에도 비디오 테이프로 돌려봤던 불후의 명작 아 그립다', '1'],\n",
       " ['7758340',\n",
       "  '살인을 소재로 한 영화가 이토록 재밌을 줄이야. 살인에 대한 감독의 해석이 정말 재치있다. 대 배우님들의 10여년전 모습도 새롭웠고. ㅋ. 정말 유쾌하고 재밌다.',\n",
       "  '1'],\n",
       " ['7983475', '누미 라파스 신봉선 닮아서 안 본다', '0'],\n",
       " ['6986888', '케이블에서 그만 좀 재탕해라.', '0'],\n",
       " ['220218', '멋졌다. 정말이지, 멋지다는 말 이외엔 할 말이 없다.', '1'],\n",
       " ['8730958', '98년에 어떻게 이런영화가 만들어졌는지 의문.. 당대 최고의 영화 지금봐도 퀄에서 결코 떨어지지 않아요', '1'],\n",
       " ['7717145', '지금 이거 티비로 돈내고 보고있는 내가한심하다', '0'],\n",
       " ['7713083', '쓰레기 연예인 재기의 장~~그러나...', '0'],\n",
       " ['5941602', '굿 좋아', '0'],\n",
       " ['472846', '많은 감동을 준 드라마이다.', '1'],\n",
       " ['9796817',\n",
       "  '발로만든영화. 지진나서 주인공 넘어지는데 뒤로 사람들 유유히 걸어다니고 있음. 발CG + 발연기 + 발시나리오.... 내용도 정말 뭐같음 ㅋㅋㅋ',\n",
       "  '0'],\n",
       " ['7049293', '적당히 해야지 언제 끝나는것인가?', '0'],\n",
       " ['214940', '잊을 수 없는 안개낀 워터루 다리와 마스코트.', '1'],\n",
       " ['8520381',\n",
       "  '곤사토시 감독... 2010년 안타깝게 돌아가셔서 가슴이 먹먹합니다.. 정말 천재적인 감독인데 암으로 가시다니.. ㅠㅠ 이제와서 다시봐도 모든 작품이 대작...',\n",
       "  '1'],\n",
       " ['9360766', '많은생각을 하게 됐습니다. 예뼈지고 싶은 맘은 있었지만 과하면 독이겠네요. ^^', '1'],\n",
       " ['8830133', '아 츠무구만 없어지면 별 5개줄게', '0'],\n",
       " ['10043297',\n",
       "  '어릴땐 조폭영화로 알다가 나이가들수록 이게 인생이구나 하고 뭉클해지는 영화.세상을 살아가면 갈수록 와닿는게 많아지네요...세상은 비정하지만 비정함마져도 따뜻해지는게 친구라고...',\n",
       "  '1'],\n",
       " ['3398464', '영상이 너무나도 멋지다.', '1'],\n",
       " ['1576800', '비디오가 있어서 봤는데 1997년도인줄모를정도로 잘만들었습니다 긴장감도있고', '1'],\n",
       " ['4913424', '처ㅝ주', '1'],\n",
       " ['9182989',\n",
       "  '2009년에 만들어진것치곤 재밌음 영화가 길어서 좀 다듬었으면 ..소재도 좋고 몰입감도 기대이상 매끄럽지 못한 부분도 있지만 연기는 둘 다 잘한듯',\n",
       "  '1'],\n",
       " ['8189929',\n",
       "  '철지난 조폭 코미디와 뼈대 있는 가문의 이야기를 섞었지만, 둘 다 지루하다. 박정아를 비롯해 배우들은 보기 민망한 연기를 펼치고, 기억에 남는 건 하나도 없다.',\n",
       "  '0'],\n",
       " ['8823884', '군더더기 없이 잘 진행되는데 재미도 없는게 문제', '0'],\n",
       " ['10052602', '심심해서봤는데 재밌네요 탑연기 못할줄알았는데배우포스나고 잘하군요', '1'],\n",
       " ['7728430', '고다미 괜찮음', '1'],\n",
       " ['1374993', '아 지대짜증 아빠랑 봣는데 민망해 죽는줄', '0'],\n",
       " ['6394494', '0점은 못주냐??', '0'],\n",
       " ['3743025', '빠순이 영화 ㅋㅋㅋㅋㅋㅋㅋ 훈훈하긔 재밋쎠', '1'],\n",
       " ['1699544', '최악의 애니메이션.. 지루하고 재미없고 스토리마저 진부하다', '0'],\n",
       " ['6352418', '좋은 의도와는 다르게 불쾌한 표현법', '0'],\n",
       " ['2211206', '줄리아로버츠 귀여운연인은 이거보다 5년전꺼다 ...', '0'],\n",
       " ['10212408', '신선하네..,,..,,..', '0'],\n",
       " ['9751638', '예술가로써의 한 사람의 인생과당시 시대적 상황을 질 느낄 수 있었던 명작', '1'],\n",
       " ['10225984', '관객수가 너무 아쉬운 영화...베테랑보다도 더 류승완감독의 역작이고 더 강한악역이다', '1'],\n",
       " ['5591006', '한창 핵펭귄이 남북 거짓평화로 전국민을 속이던때 만들어진 영화', '0'],\n",
       " ['9793236', '지금 티비에서 하는데.. 못 보겠다..', '0'],\n",
       " ['9502251', '여자애 한명이잘 못해서몇명이죽는거야ㅋㅋ답도없다ㅋ', '0'],\n",
       " ['8504382', '성룡의 헐리웃작 중 단연 최고지 ㅋㅋㅋ', '1'],\n",
       " ['2092294', '안습', '0'],\n",
       " ['4930770', '감독의 의도를 전혀 알아차리지 못했다.', '0'],\n",
       " ['5402666', '하나님이가정을온전히만든다. 진리이신분이만든영화. 눈으로만보지말고마음으로봐라.', '1'],\n",
       " ['8198021', '2편도 나름 흥미진진한데 핀헤드가 죽은게 좀 아쉬운 점이랄까?', '1'],\n",
       " ['9823215', '국산 코미디영화중에서 난 신라의달밤이 제일좋았음뭔가 푸근하고 따뜻함..', '1'],\n",
       " ['9569992', '최악이다 영화보다가 잠오긴첨임 지루해둑을뻔', '0'],\n",
       " ['7751180', '탄탄한 !~배우들 될고 ~머하는 건지~~~~~~~~~~~', '0'],\n",
       " ['9467674', '영화가 점점 끝을 달려갈수록 몰입도가 더 높아진 영화는 이번이 처음이네요.', '1'],\n",
       " ['9954533',\n",
       "  '결국 감독 자신이 하고 싶은 의견을 지존파 핑계삼아 하려고 한듯. 지존파 살인은 정당화하고 정부탓이 였다는.사회탓이라는.',\n",
       "  '0'],\n",
       " ['8555924',\n",
       "  '사실여부를 떠나,알고왔던 아더와 너무 매칭이 안돼더라.원탁기사중 실제 검술 최고수는 랜슬롯으로 알고 있는데,트리스탄보다 못하고,싸우는 검술은 마치 중국검술 흉내낸거 같은게;; 그리고 란슬롯이 실제는 쌍검였나?너무 매칭이 안대 하튼 ㅋ기네비어역도 미스.',\n",
       "  '0'],\n",
       " ['5277723', '대한민국 영화 수준의 평균치를 하락시키기에 충분한 C급 영상물', '0'],\n",
       " ['7917426', '0점은 없나??', '0'],\n",
       " ['5767948', '재밌는데', '1'],\n",
       " ['6237814', '재미없다... 기대 완전 했는데.... 완전 못함!!! 실망....', '0'],\n",
       " ['2334468', '종착역 없는 인생의 대유. 트레비스는 단지 흘러간다.', '1'],\n",
       " ['9831680', '돈과 시간이 아까운 영화', '0'],\n",
       " ['9751497',\n",
       "  '네러티브는 하나도 없는 예쁜 음악 동영상. 취미로 영화만드는 것은 이걸로 끝나길 . 잘하는 음악에 올인하길.',\n",
       "  '0'],\n",
       " ['8117850', '배우들의 연기는 좋았는데.. 뭘 말 하려는 건지?', '0'],\n",
       " ['6277438', '학위위조성범죄자 문제자들만 모아서 영화찍음 왜그랬으까 제작비 아끼려구 패자부활전 하냐?', '0'],\n",
       " ['5878347', '솔직히', '0'],\n",
       " ['9465707', '완전재미있어요.애들도보기에알맞는듯', '1'],\n",
       " ['9405373', '잔인하기도 하고 무서웠어요ㅠ탑은 멋있더라구요~~', '0'],\n",
       " ['4758250', '무섭지도 않고 기분만 나쁘고 쩝', '0'],\n",
       " ['3644982', '군더더기 없는 깔끔한 그러나 강한 메세지 전달. 뜻밖의 참좋은 영화..!', '1'],\n",
       " ['9724344', '이 영화는 최고다. 그냥 최고야 그런 줄 알아', '1'],\n",
       " ['9040261', '그랜드 부다페스트 호텔과 시리즈 같네.. 캐스팅이 아까워~', '0'],\n",
       " ['6824144', '빨리감기해서 봤음...투자비는 많이 들었을 것 같은데...영화사 망했네~ㅎ', '0'],\n",
       " ['10184469',\n",
       "  '도대체 뭐가 재밌다는건지 모르겠네요 무슨 아이언맨 시리즈의 개그도 뛰어넘는다 하는데 어디서 웃어야할지도 모르겠고 내용도 뭔지 뜬금없는 히어로놀이는 또 뭔지.. 왜이렇게 평점이 높은지 모르겠습니다',\n",
       "  '0'],\n",
       " ['9589406',\n",
       "  '왜 극을 끌어가는 중심있는 캐릭터가 있어야 하는지 알게 된영화 살인마와 대적하는 그리고 사건을 해결하는 인물이 없고 그리고 왜 마지막에 다 탈출 해놓고 나서 잡히고 죽임을 당하는지 이해할수가 없다. 대체 조달환 정유미는 왜 나옴?',\n",
       "  '0'],\n",
       " ['4879638', '진 짜 리얼 개 쓰레기 영화 . 다 보고 나면 정말 찝찝해지는 영화 절대보지마', '0'],\n",
       " ['9915234',\n",
       "  '비록 로봇이지만 점차 인간의 감정을 가지고 자신에 대해 고민하면서 결국 인간이 되어 죽는 앤드류의 모습내가 봤던 영화 중에서도 최고의 감동을 선사한 영화',\n",
       "  '1'],\n",
       " ['3274253', '영구와땡칠이시리즈는 레전드영화다', '1'],\n",
       " ['8652917',\n",
       "  '초딩 때 친척형이 비디오로 빌려와서 봤던 기억이 난다...너무 재미 없었다 근데 나중에 우연히 다시보니 재밌더라 그 땐 왜 그렇게 재미가 없었을까?? 98년이면 내가 초등학교 2학년 때니까...사촌형이 당시 나름 최신 비디오를 빌려온거 같다',\n",
       "  '1'],\n",
       " ['1043813', '지루할만큼 고요하고 서글픈 시선속에 머문 깊은 성찰과 사색.', '1'],\n",
       " ['10221467', '영화 진짜 보고 .. 펑펑울었습니다 , 너무슬픈거같아요 .. ㅜㅜㅜ !', '1'],\n",
       " ['1656447', '누가 더 혀짧은가 내기하면 박빙일것같다', '0'],\n",
       " ['1911721', '애 둘 딸린 심은하의 그 눈부신 미모, 아름다운 영상, 메인 주제가', '1'],\n",
       " ['10080984',\n",
       "  '3기 나오겠죠 ? 아직 안풀린 이야기들이 많은데 극장판은 정말 시간가는줄도 모르고 봤네요 역시 싸패..',\n",
       "  '1'],\n",
       " ['9999070', '개노잼;; 뭔가 스토리도 부족하고 다이상함 진짜;', '0'],\n",
       " ['8063353', '답없네, 뭐하는건지..', '0'],\n",
       " ['7685723', '절망과 슬픔 속에서도 자신을 챙겨야만하는 삶의 잔인함을 거부한 비참함에 대하여', '1'],\n",
       " ['6641262', '페이스 허거 같음ㅋㅋㅋㅋㅋ', '0'],\n",
       " ['9219254', '시간이 흘러도 퇴색되지 않는 맛이 있는 영화', '1'],\n",
       " ['9673595', '진짜 어마어마한 여운을 주는 멜로 영화에요.ㅎ', '1'],\n",
       " ['9855049',\n",
       "  '소피마르소와의 말같지도 않은 불륜이 내용 다 망침. 물론 실제 역사에는 그런 똥같은 이야기는 전혀 없었음.(주인공 죽을때 공주는 10살이었음)한마디.만약 미국인과 맞서 싸우는 아메리칸 원주민의 자유 투쟁기였으면 절대 아카데미상 못 받았음.',\n",
       "  '0'],\n",
       " ['3877797', '훈훈하고 따뜻한 부정을 느낄수잇엇음', '1'],\n",
       " ['7679615', '잼', '1'],\n",
       " ['8888834', '전 정말 재미있게 봤습니다', '1'],\n",
       " ['9298858',\n",
       "  '어딘가에서 일어나고 일일것같은 느낌이 강하다.우베볼이 이런 영화를 만드는 이유는 누군가 실제로 따라 했으면 하고 바라는것 같은데 정장 월가 있는 애들이 보면 웃겠지...',\n",
       "  '1'],\n",
       " ['10232830', '림프비즈킷의 OST만 10점. 개봉 당시 극장에서 봤는데 영화내내 오우삼 쥑이고 싶었던ㅋㅋ', '0'],\n",
       " ['8057595', '견자단 대박!!엽문 시리즈는 계속된다.', '1'],\n",
       " ['6989907',\n",
       "  '정말 오월의 멜로는 정말로 보고보고 또봐도 계속 보고싶은 영화순위 1순위다하,,,늦은 밤이라 그런지 야릇한 느낌이 들었다',\n",
       "  '1'],\n",
       " ['3829341', '흥미롭게 봤어요. 여배우들 이쁘네요. 반했음', '1'],\n",
       " ['8313164', '스토리, 액션, 그래픽 머 하나 건질게 없는 망작. 그냥 게임으로나 즐기셔~', '0'],\n",
       " ['9964594', '그냥 레전드다 레전드!!!', '1'],\n",
       " ['10107265',\n",
       "  '평론가 명치를 겁나 때리고 싶다. 정말 이 영화 재미없을거라 생각했는데 재미도 있고 내 인생에 도움이 가장큰 영화입니다. 본인이 깨달고 싶으면 꼭 보세요. 인생을 바꿔줄겁니다.',\n",
       "  '1'],\n",
       " ['9753915', '키아누 리브스 최고의 액션 영화!!', '1'],\n",
       " ['7778515',\n",
       "  '소재가 아름다운 영화. 다소 아쉬운 부분들이 있는 이유는 이 영화는 영화스러운 극적 로맨스보단, 좀 더 사실적으로 한 남자의 마음과 시선을 말하고 싶었기 때문 아닐까.',\n",
       "  '1'],\n",
       " ['3562504', '영화평론가는 아니지만, 좋았다, 한번보고마는 영화가 아닌, 울림이있는영화', '1'],\n",
       " ['5523522', '역시 효느!!! 역시 재밌다ㅋㅋㅋ 재탕중...', '1'],\n",
       " ['7448331', '4대강', '1'],\n",
       " ['8939261', '간첩색휘들 애쓴다 밥은 먹고 다니냐?', '0'],\n",
       " ['7857671', '좀 검증된 애들좀 출현시켜라이탈리아 특집 장난하냐', '0'],\n",
       " ['142324', '아 정말짜증나네 절때보지말껄욕나옴', '0'],\n",
       " ['5427136', '슬프다 ㅠㅠ', '1'],\n",
       " ['2331482', '.최악의 환경속에서 이런 만화라도 만든사람들에게 경의를 보낸다.', '1'],\n",
       " ['4221289', 'What is this movie for?', '0'],\n",
       " ['8648758', '여운이 엄청~길게 남는영화.. 이이경을 사랑하게하는 영화!', '1'],\n",
       " ['4779812', '이딴게 한국 영화라니', '0'],\n",
       " ['8497657', '짜가인가 이게뭐여..뭔..', '0'],\n",
       " ['9456842', '굿 10자 이상 .가나다라', '1'],\n",
       " ['8665016',\n",
       "  '짱이다ㅎ 혼자자식키우며살아온엄마 그의아들 힘들게살아오면서 서로예민해지고날카로워질때도잇엇지만 결국 ..가족ㅎ 아빠라는 사람도 생각보다최악이아니고..여자는, 확실히 요구하면도와준다는 그말이 왠지짠하게와닿는다ㅎ 나혼자괜히끙끙거리지말자ㅡ이런단순한생각이든다',\n",
       "  '1'],\n",
       " ['8896748', 'CG도 별로고 전개도 별로고 연기도 별로고 한마디로 재미없다', '0'],\n",
       " ['3107684', '번지수 잃고 갈팡질팡', '0'],\n",
       " ['9509970', 'Yesterday when i was young', '1'],\n",
       " ['5549220', '너무 사랑스럽고 감동적인 영화:) 정말 좋앗어요', '1'],\n",
       " ['7538996', '최고의영화', '1'],\n",
       " ['9113253',\n",
       "  '13년전 영활 다시보니 공효진 코평수줄이고 콧대높였네...완전 못생겼어 ㅎㅎ호 권상우는 화산고때 왼쪽 팔자 심하더니 지금 사라지고 더 잘생겨졌고 장혁은 멋지게 늙었네. ㅋㅋㅋ다시보니 웃겨',\n",
       "  '1'],\n",
       " ['5025054', '말랑말랑 ...', '0'],\n",
       " ['7648726', '공부 열심히 합시다 공부 안하면 저런 OO인생 삽니다.', '1'],\n",
       " ['7084152', '그냥. 최고다.', '1'],\n",
       " ['8937659',\n",
       "  '전쟁이후의 아픔을 잘 그린영화마지막 장면이 압권유대인줄 알아 더럽게 여기나 도움이 필요하니동행했던 토마스에게 더러운유태인이라고 말한장면 그러나 유대인인척한 사실 유대인가족사진을 보면서 미묘한 감정들을 사슴인형을 밟아까며 대변한다므찐영화^^',\n",
       "  '1'],\n",
       " ['10147064', '오랜만에 동화다운 동화를 본 기분이다.', '1'],\n",
       " ['10001967', '감사합니다 정말로 감사합니다.', '1'],\n",
       " ['4655750', '걍 둘다 변태', '0'],\n",
       " ['6167275', '샤넬의 인생과 성공,이 아니라 샤넬과 그의 남자들', '0'],\n",
       " ['4877829', '영화가 내용이 없다', '0'],\n",
       " ['9601176', '십수년의 세월을 찰나의 순간처럼, 찰나의 순간을 영원한 기억으로 남기는 시간의 상대성 이론에 관하여.', '1'],\n",
       " ['8216491', '니노의 이중인격연기 두근거리네요♥', '1'],\n",
       " ['10242465', '보다가 울컥핫 영화...재미도 있고...먼가 감동적임', '1'],\n",
       " ['3231034', '열정만으로 돌진하고 싶게 만드는 영화.', '1'],\n",
       " ['9248386', '연기력에서 유혹하지 못한다', '0'],\n",
       " ['5483898', '난감하다. 재미도 없고, 세상을 깜짝 놀라게 하는 센세이션도 없다.', '0'],\n",
       " ['6302401', \"아무리 노력했어도 '차이나타운'을 대놓고 베낀 것은 용서가 안 됨.\", '0'],\n",
       " ['9200443', '신화 화이팅 에릭 화이팅>< 모두 힘내요 !', '1'],\n",
       " ['7654525', '엔딩이 넘 슬퍼요 :(', '1'],\n",
       " ['3960206', '영화관에 가서 보면 더 좋았을걸...어린시절로 돌아간 느낌이들어 만감이...', '1'],\n",
       " ['7561877', '정말 최고였어요 ㅠㅠ 이민정씨와 신하균씨 연기 너무 좋았어요!!', '1'],\n",
       " ['8781402', '몇 안되는 재밌게 본 영화', '1'],\n",
       " ['8825291',\n",
       "  '교양시간에 보고 좀 충격먹은 영화....마지막에 너무 슬펐다 빨갱이라 소리지르던 몬초가 갑자기 다른 단어를 말한건 선생님에대한 그리움 미안함 슬픔이었을까...몬초가 마지막에 좀 울먹인거 같기도 하고...',\n",
       "  '1'],\n",
       " ['1033103', '잘봤습니다', '1'],\n",
       " ['3379092', '안무서워!! 귀신이 애기라 그런건지,,, 그냥 깜놀하기만할뿐이야', '0'],\n",
       " ['5785985', '뭐하자는건쥐... 모든것이 다 어설프고...', '0'],\n",
       " ['5842441', '배우들의 따뜻한 연기도 일상의 힘겨움을 그리는 현실감도 다 좋았어요.', '1'],\n",
       " ['3249844', '남자배우들 정말 미스캐스팅. 연기력 안습... 조은숙, 김유미 연기땜에 참고 봤다', '0'],\n",
       " ['9853892',\n",
       "  '1차 세계대전 中 피고 진 청춘들. 무기와 기술력은 20t세기, 전쟁을 일으킨 정치인들과 전쟁을 지휘하는 고위 장교들의 생각은 19세기.',\n",
       "  '1'],\n",
       " ['5414569', '책과는 분명히 다른시선. 괜찮네요', '1'],\n",
       " ['5059623', '내가 이거 왜 봤지 싶은데 한예슬이랑 김태희 나와서 본 듯. 적월도 개 쌤 ㅋㅋ', '1'],\n",
       " ['9762198', '솔직히 6점때가 뭐냐 약간 더러운 장면만빼면 7.5정도다', '1'],\n",
       " ['9808764', '와 이연서님 신인답지 않은 연기력 잘 봤습니다 다음 작품에서 또 뵙길 바랍니다', '1'],\n",
       " ['10018872', '반전이 전부가 아닌영화..몇 번을 봐도 또 보고 싶은 영화', '1'],\n",
       " ['7871532', '피해자만 있고,피의자는 없는 ..', '1'],\n",
       " ['9488543', '개답답 먼주인공이 지혼자 복수도 못함?주변에서 해주길바라는 민폐녀?아직도 끌려다니고ㅡㅡ', '0'],\n",
       " ['7360385', '신선한 소재. 화끈한 액션. 스피디한 전개', '1'],\n",
       " ['10131631',\n",
       "  '이 영화의 3박자는 디테일이었다. (정말 시가전의 퀄리티는 완벽했고) 남자의 사랑에 대한 묘사... (작중에 한석규는 누군가를 사랑하는 마음은 정말 디테일이 대단했다.) 마지막 얘기의 완급조절이 완벽했다. 이 영화가 정말 멋졌다.',\n",
       "  '1'],\n",
       " ['9342020', '탕웨이찡 그녀 만으로도 10점주기에 충분하다!!', '1'],\n",
       " ['5351337', '감동적인 영화다', '1'],\n",
       " ['5686145', '당시 대박쳤던 영화..괜찮다!!', '1'],\n",
       " ['8392466',\n",
       "  '억지스러운 시나리오..지루한 전개.. 1편 보다 못한 구성등.. 2편은 안나오는게 나았다..망작..배우들이 영화보는 눈이 없어서 안타깝다.',\n",
       "  '0'],\n",
       " ['3398398', 'ㅋㅋㅋㅋㅋㅋㅋㅋ 반도 안되는 영화', '0'],\n",
       " ['2504572', '이 영화가 평점이 높은 이유를 모르겠어..ㅡ.ㅡ::', '0'],\n",
       " ['1747519', '평생 기억할만한 영화,정상적인 소재는 아니지만', '1'],\n",
       " ['9972054', '요즘 상황 보고 이 영화가 생각났다.', '1'],\n",
       " ['10226361', '많을 것을 생각하게 만드는 영화입니다.마지막에 사람들이 짐승으로 보이고 아수라가 사람같아 보였습니다.', '1'],\n",
       " ['6150881', '진짜 재미 없는 영화 공통점....스포츠영화,군대영화,자막 나오는 영화', '0'],\n",
       " ['3800651', '로버트 드니로의 광기의 복수 연기를 만끽할수 있는 수작 서스펜스 스릴러물', '1'],\n",
       " ['8705316', '감동감동감동의 도가니탕', '1'],\n",
       " ['8164006',\n",
       "  '세계 어디서나 정치 경제 문화 사회 전반에 걸쳐 변화가 절실한 상황이지만 변화를 가져올 방법이 없다는게 함정인 것 같다...',\n",
       "  '1'],\n",
       " ['501464', '귀여운벤지.. 똑똑한 벤지 예쁘고 귀여운 친구... 압삘럽 ㅎ', '1'],\n",
       " ['2163194', '당시 개봉날 보고 울면서 나왔다. 돈아까워서..ㅋㅋ', '0'],\n",
       " ['10242398', '정말 최고의 영화...', '1'],\n",
       " ['9733856',\n",
       "  '잔잔하게 숨막히는 영화 . 연출이 대단하다. 곳곳에 숨어있는 복선. 치밀하다 싶을정도로 섬세한 감정표현. 거기에 김영애의 연기까지',\n",
       "  '1'],\n",
       " ['10147571', 'once upon a dream', '1'],\n",
       " ['9990660', '시나리오 연출 연기 어느것 하나 갖추지 못한 시간이 넘 아까운 억지 싸구려 중국 신파 경극...', '0'],\n",
       " ['10055131', '거부하는 몸짓으로 저 하늘을 ~ ^^', '1'],\n",
       " ['7086350',\n",
       "  '그만빙빙돌리고 밝혀지게하면안되나요 ?보려다아직도질질끌어짜증나.안봄 여기서또사고터져 또질질끌면진짜짜증날듯 ?빨리빨리밝혀질건밝혀지면서반전이있든지 ?작가님 이드라마사랑하고잼있는데 넘끌어짜증나요',\n",
       "  '0'],\n",
       " ['9849333', '졸면서 봤다 왜이리 평정이 높은겨 내용도 별거 없고 아오 감수성 영화냐 이거', '0'],\n",
       " ['2626505', '기대하지 않았던 영화의 아름다움이 밀려온다. 꽤 괜찮다았던 영화.', '1'],\n",
       " ['6237908', '진짜 한번만더 이런영화 상영하면 용서하지 않는다지금 영화보면서 카톡하고잇음 아놔 진짜', '0'],\n",
       " ['9484080', '살아는 있지만 생동감을 잃은 박물관', '0'],\n",
       " ['9578706', '노땅들의 한심한 추억미화', '0'],\n",
       " ['4996289', '어릴적에 눈물흘리며 웃던기억에 간신히 찾아 다시 봤네요 ^^', '1'],\n",
       " ['1109987', '인종차별과 유괴라는 두주제의 불협화음', '0'],\n",
       " ['7551529', '고명환이 연기가 쩌냐? 아니면 돈이 없어 쓴거냐..후자라면 볼가치가 없는영화', '0'],\n",
       " ['5080819', '속편에서는주인공이전작처럼앨빈의밴드였으면좋았을것같다.캐릭터추가로더이상해진듯', '0'],\n",
       " ['156982', '혼자 보긴 너무 아깝다. 2004년 올해의 영화.', '1'],\n",
       " ['8082654', '마지막 결투씬 최고! ㅋㅋ 폭풍눈물에~ 팝핀현준 할아버지 ㅋㅋㅋ', '1'],\n",
       " ['9659875', 'ㄵ 5점대asfgsdlgkbjsjvb', '0'],\n",
       " ['9215986', '좋아 상술최고..아니 선거술 최고...', '1'],\n",
       " ['9076407', '쓰레기 함부로 버리지 맙시다.', '1'],\n",
       " ['9265375', '글쎄 나와는 안 맞는 성향의 영화 중 하나. OST는 들을 만함', '0'],\n",
       " ['3978509', '즐~~~~~', '0'],\n",
       " ['9293103',\n",
       "  '막장도 재미가있어야 보지..재미도 없고 짜증만 남남녀주인공이 어울리면 참고보겠는데 진짜 안어울리고웬만하면 다 재밌게 보는데 진짜 내가본것중 제일 최악이였음!!무튼 주인공들부터시작해서 성격 개 이상함!!조기종영이 답이다...',\n",
       "  '0'],\n",
       " ['7931340', '줄리델피는 나이가 들수록 멋지다!', '1'],\n",
       " ['3382430', '내가 본 일드 중 쵝오~!!!!!>0<', '1'],\n",
       " ['9880437', '역시 명작은 명작이다...', '1'],\n",
       " ['10153465', '글쎄요.... 뭐랄까... 영화 제목을 잘못 보고 착각한 내 잘못이랄까...', '0'],\n",
       " ['10049872', '그냥 기독교영화네요. 좀 더 깊이있는 내용을 기대했는데.. 실망입니다. 영화도 뭔가 엉성해요;;', '0'],\n",
       " ['9427493',\n",
       "  '그냥 책으로 읽는게 더 절절하게 다가온다. 영화는 내용을 너무 비약하고 삭제해서 행간을 잃어버렸다. 책에서 꽉 찼었던 느낌과 반대로 모든 것이 엉성하다.',\n",
       "  '0'],\n",
       " ['6629097', '너무나 감동적인 영화', '1'],\n",
       " ['9995177', '스킨헤드성님들이 이 영화를 싫어합니다.', '0'],\n",
       " ['9600841', '자동차 매니아인 나의 평점은 5점 이하~속았다...아오~', '0'],\n",
       " ['9244416', '나 이거 보고 인형 절대안삼', '1'],\n",
       " ['6159178', '정체성은 사치인가?', '0'],\n",
       " ['10059230', '나이먹은아저씨들이 일찐놀이하는영화 개역겹다. 알바풀었냐 현실감 개진짜 개제로', '0'],\n",
       " ['9988541', '남극은 왔는데 그만 길을 잃었다. 오르지 못할 곳은 오르는 것이 아니다.', '0'],\n",
       " ['7790870', '재밌음 귀엽고 신남', '1'],\n",
       " ['8130040', '포스터는 진심 개쩐다~ 엑소시스트를 능가하는 공포물 같지만 실상은 처키보다 못한영화', '0'],\n",
       " ['5398829', '시청률 44%는 개뿔;; 존11나 재미없어;; 이제보니 MBC가 사극너무못만드네;;', '0'],\n",
       " ['7141862', '요즘 재방보는데 넘 재밌는데...왜 시청률은 저조했을까 싶네요...둘다 귀요미', '1'],\n",
       " ['8605792',\n",
       "  '연출 연기 영상이 아름다운 영화입니다. 저예산영화인 관계로 스펙타클은 부족하지만 한국영화계에 새로운 바람, 희망, 다크호스가 될것임을 믿습니다. 많은 응원부탁드리고 벌써부터 일찍 관람해주신분들 진심으로 감사합니다. New hope',\n",
       "  '1'],\n",
       " ['8852339',\n",
       "  '평점이왜이렇게낮지?난 이거 또다운받고있다.3번째...정말잼있던데...끝에 견자단하고 대빵하고싸울땐 정말 가슴이뜨거워졌다.난정말로 잼있게봤다...최근댓글이니 내가 알바아닌줄은 알거다.',\n",
       "  '1'],\n",
       " ['5924043', '이게 어떻게 평점이 낮을수가 있지?', '1'],\n",
       " ['10095254', '블랙코미디 조롱 대상이 우린데 기분 드러워서 점수 주겠냐? 성기 노출 등으로 어그로나 끌고서는 ㅉㅉ', '0'],\n",
       " ['7545407', '촌동네 조폭삼류영화. 가끔씩 툭툭들이미는 유머도 영쌩뚱맞구 촌스럽기까지하다.', '0'],\n",
       " ['1028779', '10점 만들기', '1'],\n",
       " ['5947102', '스타뎀 형님의 얼굴에 먹칠을 한영화..', '0'],\n",
       " ['29672', '헐...남자몸매보면 기분 좋나?', '0'],\n",
       " ['8673629', '안봐도 별점 한개 주고싶은 10류 영화 같다... ㅋㅋ심형래 아저씨와 동급감독인듯 ㅋㅋㅋ', '0'],\n",
       " ['9922565', '정말 완벽했다.최고의 영화중에 꼽히는 영화.', '1'],\n",
       " ['9869002', '조잡하고 유치한 저예산 3류 B급 영화다.. 스토리에 깊이감도 없고 전체적으로 루즈하다.', '0'],\n",
       " ['8622080',\n",
       "  '진짜..뭐냐 민국이나 지아는 더빙 더이상시키면안되겠네 더빙이 얼마나중요한데 이런애들을시켜데뷔도안한애들을 연예인이해도 뭐라고하는판에',\n",
       "  '0'],\n",
       " ['8954713', '그냥 재미가 없어요....ㅠㅠ', '0'],\n",
       " ['1998203', '쇼를해라 쇼', '0'],\n",
       " ['4355661', '중심이 약하니 언저리 가지고 무리한 승부수를 띄운다', '0'],\n",
       " ['247380', '주연배우들의 이름만 기억에 남.', '0'],\n",
       " ['9149689', '그냥 안보는게 이득 ...', '0'],\n",
       " ['8931143', '키기키기키기키기키기', '0'],\n",
       " ['5364316', '박얘쁜 빠수니 죄다 OO 없어져버려', '0'],\n",
       " ['9915858', '진짜 짜증나는 영화..', '0'],\n",
       " ['9985367',\n",
       "  '불은 잘 보이지도 않고 사람 죽어나갈 때는 엄청난 웅장한 음악만 나오고 전혀 마음에 와 닿지 않는 설정들',\n",
       "  '0'],\n",
       " ['6438587', '망작', '0'],\n",
       " ['9678213', '상당히 재밌게 봤습니다', '1'],\n",
       " ['4602811', '내코끼리내놔가 더재밌음ㅋ', '1'],\n",
       " ['586485', '코믹은 코믹으로 봐라 패러디하고 카메오들보는 재미도 있다', '1'],\n",
       " ['10101756', '유치짬뽕이네!!. 딱 초등3학년 영화다. 초등학교 자녀 있는 가족분께 추천함!!', '0'],\n",
       " ['9425646', '후속 지금이라도 나와라 한국애니 좀 살려보자', '1'],\n",
       " ['4376802', 'EBS를 통해 봤는데.. 정말 재밌게 잘 봤어요. 요 근래 본 영화 중 최고인듯!', '1'],\n",
       " ['7806661', '기대않고 봤는데, 찰지게 만든 토종느와르네~! 흥미진진하다..', '1'],\n",
       " ['6238614', '성인영화를 가족영화로 만드려하는 멍청한 자막제작자가 마음에 안들어서 1점', '0'],\n",
       " ['720113', '일본인 특유의 어색한 연기 여주인공 연기 너무 못해', '0'],\n",
       " ['7674213',\n",
       "  '전반적으로 무거운 느낌의 영화네요.가비의향과맛처럼,씁쓸함이 느껴집니다.장윤현감독님께서,커피부분에관해 신경을 쓰시다보니,연출부분에있어서,좀 미흡하지않았나싶고, 배우들연기력은 괜찮았습니다.',\n",
       "  '1'],\n",
       " ['9719704', '전작보다 100 재밌다. 배우, 내용 모두 세련됨', '1'],\n",
       " ['8679307', '진지하고 무거운 소재를 경쾌하고 재미있게 만들었다', '1'],\n",
       " ['6148658', '유럽작품상 탈만한 유럽에 중요한 얘기..또한 픽션', '1'],\n",
       " ['4550608', '풍정정은 어케된거지ㅋㅋㅋ과도한 압축으로 개연성없지만...배우들이 호화로워서...', '1'],\n",
       " ['9353256',\n",
       "  '이영화 구성좋다는분들 ㅋㅋ아마 친구랑 같이영화보고 님들이 영화 좋다고 재밌다하면 같이본 친구들은 이해하지 못할겁니다 ㅋㅋ진짜 최악 최저 스토리 주인공 행동 개연성없음캐릭간의 이해관계 최악 ㅋㅋㅋCIA갘ㅋㅋ이렇게 허접하게 표현된 영화 간만이라능ㅋ',\n",
       "  '0'],\n",
       " ['6082274', '이젠 그만 보고 싶은, 막돼먹은 스토리텔링.', '0'],\n",
       " ['8935552', '말이 필요 없다.로맨스 싫어하는 내가 봤을때 기절할 것 같았어 ㅜㅜㅜㅜ', '1'],\n",
       " ['10257700', '제 취향적 이고 우울한 마음을 완전히 날려버리고 슬픈내용을 본뒤 마음을 정화시켜주네요.', '1'],\n",
       " ['9437693', '영상미가 역시 최고네요', '1'],\n",
       " ['6825866', '끙.....', '0'],\n",
       " ['9326219', '역시 한국영화는 보지말아야돼', '0'],\n",
       " ['455825', '괜찮은 영화...', '1'],\n",
       " ['208558', '요즘 재밌음!', '1'],\n",
       " ['10038451',\n",
       "  '소재는 참 좋아서 삼점준다. 제작된 영화는 공포도, 스릴러도 아닌 본분을 잊은 드라마아닌 드라마같은 느낌이다. 연기, 연출은 괜찮았다. 다만 시작부터 끝까지 지루할 뿐이다. 또 어떤 장면들은 살짝 유치했다.',\n",
       "  '0'],\n",
       " ['8411258', '남자인데 보는내내 울었다 딸 낳으면 잘해줘야지...', '1'],\n",
       " ['9566485', '안타까울뿐. 안타까울뿐.', '0'],\n",
       " ['6027897', '영웅은 사람들이 원하기 때문에 만들어지는 또다른 희생자다..', '1'],\n",
       " ['6361907', '그냥 평작. 욕까진안나오고..', '0'],\n",
       " ['10149061',\n",
       "  '극장가서 안본 내머리를 깨버리고싶네요. 제인생 최고의 영홥니다. 키이라작품 중에서도 최고일듯. 알럽키이라♡♡',\n",
       "  '1'],\n",
       " ['1135339', '중고생들의 마마추어 포르노', '0'],\n",
       " ['9134639', '비디오 물이냐 동시상영물이냐 ~ 넌 정체가 모냐', '0'],\n",
       " ['8759753', '이건 말로 설명할 수 없는 유치함이다. 진짜 필름이 아깝다', '0'],\n",
       " ['5658983', '이승연의 강렬함이 묻어나는 영화. 그러나 홍경인은 너무 불쌍하게 나옴', '1'],\n",
       " ['2955927', \"'드릴브라' 에서 뿜었다\", '0'],\n",
       " ['8821260',\n",
       "  '2% 부족한 영화가아닌 98%부족한 영화감동이 있다길래 참고 끝까지 다봤는데...;;진심으로 이렇게 재미없다고 느끼는건 처음;;',\n",
       "  '0'],\n",
       " ['8384832', '계몽영화의 한계를 고스란이 답습한다', '0'],\n",
       " ['3711748', '우와 정말 오랜만에 통쾌하게 웃었네요 ㅎㅎ 내일이 기대됩니다', '1'],\n",
       " ['8759142', '청춘에는 마침표가 없다.', '1'],\n",
       " ['7459571', '세얼간이 아줌마 나와서 한번 본건데 실망...신선한 반전을 주고싶었나 본데 개연성도 없구 뭐이런...', '0'],\n",
       " ['9618670', '좋은 소재에 만족할 연출.', '1'],\n",
       " ['522869', '심혜진이 나와서 겨우 저정도라니 실망이다', '0'],\n",
       " ['9505968',\n",
       "  '아들놈은 끝까지 아빠한테 미안한 감정 없어..ㅠ 소재가 신선했는데 영화 자체는 메시지도 모호하고 스토리가 짜임새 있지 않은 것 같다.',\n",
       "  '0'],\n",
       " ['8567896',\n",
       "  '창업을 꿈꾸는가! 좋은 아이템이 있어 사업을 하려하는가!! 그렇다면 기를 쓰고 이 영활 보기바란다!! 그 멀고 험한 여정에 스승이 될것이요 지침서가 될것이다... 혹은 단념에 도움이 될지도... 참 오랜만에 박장대소하며 본 독립영활세~~~ ★',\n",
       "  '1'],\n",
       " ['2828148', '슬픈액션영화치고는실망이크다부자간의배신과원망으로끝나는것이너무허무하다', '0'],\n",
       " ['9087701', 'EBS 명화에서 이거보고 움 진짜감동적', '1'],\n",
       " ['8775560',\n",
       "  '낰였다 티 프리미엄ㅡㅡ 인간적인 면이 쫌 맘에 들어서 2점줬다 근데 진짜 이선균 정재영 김상중 연기파배우들 불러노코 이딴 쓰레기 영화 찍냐ㅡㅡ 진짜 영화보는데 계쇠 지루하고 괴로웠다ㅡㅡ',\n",
       "  '0'],\n",
       " ['2956430', '너무나 따뜻하고 감동적인 영화', '1'],\n",
       " ['6984995', 'C급영화도 안되는...일점도 아깝다... 네이버는 마이너스 점수도 만들어 달라', '0'],\n",
       " ['5875641', '스토리의 부진은 액션의 재미까지 반감시킨다', '0'],\n",
       " ['9674250', '누구나 ㅡ낄수ㅣㅆ느덕을 영화화함...굿,,', '1'],\n",
       " ['9698428', '시종일관 오락가락 말하고자하는게 뭔지 모르겠다 감독자기만의 세계에 빠져 만든것같은 영화..', '0'],\n",
       " ['1956819', '왠지모를 색다른 감동을 주는영화이다....', '1'],\n",
       " ['9352399',\n",
       "  '전주영화제에서봤었는데넘늦게개봉한듯... 종교와업에대해한번더생각할수있게만든영화. 저예산으로만들었으나감독의노력이느껴져큰박수를보내고싶다. 화이팅!',\n",
       "  '1'],\n",
       " ['10270814', '보는내내 웃었습니다 재밌네요', '1'],\n",
       " ['7117896', '1', '0'],\n",
       " ['5787812', '사랑에 상처받으면 다시 치유될수 있을까? 하는 생각이 드는 영화!', '1'],\n",
       " ['1353144', '극장가서 본영화중 쓰디쓴아픔을 처음으로 느끼게해준 퍼스트', '0'],\n",
       " ['8422811', '최고! 더 무슨평가가 필요한가 ~~탑!', '1'],\n",
       " ['1268778', '자신의삶에대해 다시한번 생각하게하는영화...', '1'],\n",
       " ['9062386', '알바놈들 양심도 없냐...멀보고 십점주는거냐', '0'],\n",
       " ['9589263', '90년도로 돌아가게 해준다는 ㅡㅡ', '0'],\n",
       " ['9589188', '끼워 맞추기 개쩔던데, 반전 하나 보고 와 하는 인간들 이해 불가', '0'],\n",
       " ['8029041', '우웩. 개랑 무슨짓을 했길래. 후세가 태어나. 일본놈들 진짜 정신상태 이상하네.', '0'],\n",
       " ['6478189', '4', '0'],\n",
       " ['8181452', '이 영활 보고나면 흐뭇해진다.. 영화는 한국이 더 잘만든다는 걸 느끼게 되니까..', '0'],\n",
       " ['1633598', '지들이 뭔데 대우를 까냐?', '0'],\n",
       " ['10095078', '재밌고 짠하고 그게 매력입니다', '1'],\n",
       " ['7622143', '와 ㅠㅠ 내머릿속지우개 이후에 진짜 슬픈영화였어요 ㅠㅠ 마지막에 눈물폭발 ㅜㅜ 오늘이후에도 또보고싶네요', '1'],\n",
       " ['9102887', '월요커플 짱짱!! 덕분에 아주 재미있게 보고 있습니당!!', '1'],\n",
       " ['8206148',\n",
       "  '007 터키특집..액션은 스키추격이 기억에 남고. 소피의,소피에 의한,소피를 위한 시리즈..로저무어 시절보다 재미는 조금 떨어진다',\n",
       "  '1'],\n",
       " ['1509830', '수많은 최루성 멜로는 여기에서...', '1'],\n",
       " ['499334', '내평생 최고의 걸작. 현실 건너편 세계를 잠시 엿본듯한 느낌.', '1'],\n",
       " ['6662535', '내 인생 최고의 영화', '1'],\n",
       " ['4881827', '진짜 추천해요 ^^', '1'],\n",
       " ['9825558',\n",
       "  '포스터가 사기. 너무 현실적이어서 배우들은 심각한데 빵빵 터지는 화성남 금성녀. 아 슈발 지는 혼자 내리면서 본전생각에 담배 피는 남편.',\n",
       "  '1'],\n",
       " ['5043859', '머가마술이라는거야?나죽기전에외계인만나볼수나있을지?', '0'],\n",
       " ['5409088', '참 재밌는 영화 ㅎㅎ', '1'],\n",
       " ['8962807', '빨리좀 끝나라...으이그 처음엔재밌는줄알았는데이게뭐야!이리재미없다.', '0'],\n",
       " ['5943761', '극에 전혀 몰입안되는 장면 이어붙이기식 단순 진행,연출력이 형편없음.', '0'],\n",
       " ['5536004', '자막제작자가 써놨듯이 막장임.', '0'],\n",
       " ['6932147', '그리 무서운 수도승이 물에 쉽게 떠내려가네', '0'],\n",
       " ['6484469',\n",
       "  '이게왜 주온보다 평점이높은지 이해가안간다 이영화 맨처음 여배우가 물대포쏠때부터 웃겻다 포스터가 더무섭다 영화상영시간내내 포스터만보여줘도 충분히지린다',\n",
       "  '0'],\n",
       " ['10004793', '진짜 신기하다...라는 말밖에 안나와', '1'],\n",
       " ['9391681', '좋은 배우들을 데리고....;; 작품의 부족함.', '0'],\n",
       " ['8130315',\n",
       "  '아니 왜 5점대라니, 근래에 본 다크 히어로무비 중에서 최고였어요. 아주 그냥 고스트라이더에게 걸리면 스치면 사망인거에요.',\n",
       "  '1'],\n",
       " ['7392240', '묵직하게 시작해서 우습게 끝남', '0'],\n",
       " ['8772531', '내용 전개가엉성하고지루할정도로 재미가없슴', '0'],\n",
       " ['1367092', '돈뭉치로 싸대기;; 명장면이다ㅋㅋ', '0'],\n",
       " ['8495001', '2.2고고하자 ㅋㅋㅋ', '0'],\n",
       " ['1185788', '쓰레기영화', '0'],\n",
       " ['8824834',\n",
       "  '너무일찍슬픔을알게된제제가안쓰럽다..책으로읽고도눈물이났는데..영화도마찬가지다.어린나이의제제는슬픔을너무일찍알아버렸다',\n",
       "  '1'],\n",
       " ['14513', '정말 비디오마저 돈주고 보고 아깝다..최악...', '0'],\n",
       " ['4357478', '말그대로 뚝방에서 볼영화', '0'],\n",
       " ['6021189', '내 인생 최고의 영화. 10년이 다되가는데, 아직도 아련하고 애틋한 기억.', '1'],\n",
       " ['7287648', '감독ㅡㅡ다신영화찍지마라', '0'],\n",
       " ['10253977', '육감적인 섹시한 여인들의 존재 자체가 이 영화의 전부', '0'],\n",
       " ['9992205', '영화 첫 도입부 부터 카메라 각도라든지 화질이라든지 겁나 구림.. 영화 아닌줄 알았음', '0'],\n",
       " ['8026930',\n",
       "  '진정 좋은 영화란 볼때당시 잼있다... 도 있지만.. 두고두고 기억나고생각나고 또 한번쯤 보고싶은 이런영화가 아닐런지요 ㅋㅋ',\n",
       "  '1'],\n",
       " ['8043001', '박사아들 정시현 정말 멋져요', '1'],\n",
       " ['2168829', '1편이 너무좋아서 2편이 너무묻힌다', '0'],\n",
       " ['6377552', '할 말이 없다', '0'],\n",
       " ['129805', '난 별로던데 -_ -', '0'],\n",
       " ['5661543', '이런 영화가 참 좋다.', '1'],\n",
       " ['542441', '곳곳에 번뜩이는 아이디어. 아기자기한 구성이 돋보이는 수작.', '1'],\n",
       " ['4592004', '우아....새벽에보니까 무섭네 ㅠ_ㅠ 미스터리와에로스와 스릴러를 겸비한 영화!', '1'],\n",
       " ['7963429', '짧지만 정말 재밌게 잘봤어요~. 윤계상 능청연기 좋구 잘됬으면 하는 생각을 계속 했네요~ ㅋㅋ', '1'],\n",
       " ['7175213', '에린이 초반에 타던차 현대자동차 프레스토 네요. 보면서 추억이세록세록', '1'],\n",
       " ['9905070', '남들이 철학적인 영화라고도 하지만 단순 액션용으로 봐도 이 정도 점수는 나와야된다', '1'],\n",
       " ['9364602', '4.444.444.444.444.44', '0'],\n",
       " ['529768', '효과음이 기가막혔던 영화', '1'],\n",
       " ['9040274', '솔직히 평점 8점 이상은 되야되는거같다.', '1'],\n",
       " ['3208499', '난강혜정이 일본가서 찍은건가 했네ㅋㅋ닮은것같다는 생각이 들었을 뿐이고...', '0'],\n",
       " ['6731536', '일본영화 좋아한다면 꼭 봐야할 영화!', '1'],\n",
       " ['6615814',\n",
       "  '진짜 이건 아님ㅋㅋㅋㅋㅋ액션영화좋아해서 액션영화만 다운받아서 꾸준히 본게 벌써 몇년인 사람임 근데 이건 진짴ㅋㅋㅋㅋㅋㅋ아무리 점수 잘 줘도 100점 만점에 10점?ㅡㅡ돈주고봤는데너무아깝다진짜ㅜㅜ그리고대체 왜 13구역 타이틀을 달고나왔는지 모르겠음 실망',\n",
       "  '0'],\n",
       " ['5529456', '가슴이 먹먹하다, 뷰욕을 왜 이제서야 알게됐을까', '1'],\n",
       " ['7393226', '커스틴 때문에 좋겠다', '1'],\n",
       " ['10036253',\n",
       "  '보는내내 찝찝하고 영화가 끝나고 나서도 불쾌했다.. 중년의 남성이 이렇게까지 추잡해보일 수가 있을까..',\n",
       "  '0'],\n",
       " ['5812647', '진짜 퀵이유로 이렇게 어이없고 재미없는영화는 처음입니다 진짜 돈아까운적은 두번째라', '0'],\n",
       " ['9713238', '진짜재미없다..영화관에삼십분정도늦게들어갔는데사람이한명도없고..그이유를왠지알것같네..^^완전비추요', '0'],\n",
       " ['8717232', '2012년에 본영화인대 솜이랑 키작은남자 살아서 나감', '0'],\n",
       " ['8342710', 'ㅋㅋ 조금은 유치했지만 왕조현 주윤발 이것만으로도 충분히 볼만했다.', '1'],\n",
       " ['8920121', '난 솔직히 재미없었어. 코믹요소가 없어서', '0'],\n",
       " ['6148289', '싸구려 왜색 영화, 키작고 교활한 일본원숭이들의 망상, 사무라이 정신..토나온다...', '0'],\n",
       " ['9208964', '재미있게봄 감동적이고', '1'],\n",
       " ['10095017', '아니 찍어놓고 모니터링 한번 안하나 어떻게 염치 업이 이런걸 극장에 걸수가 있지?', '0'],\n",
       " ['10010400',\n",
       "  \"영화'산업'이라고 하잖는가? 이딴식으로 홍보 해놓고 속여서 팔았다는 게 소비자 입장에서는 짜증난다. 그나마 다행은 아주 싸구려를 상급품으로 속여판 게 아니라는 점. 그래서 1점. 차라리 연상호 감독 작품 처럼 홍보가 됐다면, 그 비슷하게 만이라도 하지\",\n",
       "  '0'],\n",
       " ['6486325', '완전 감동이다 ㅠㅠ 박신혜 짱이뻐요 ㅎㅎ', '1'],\n",
       " ['9028463', '절망속에서 결국 빠져나온 눈물겨운 실화', '1'],\n",
       " ['1253368', '국민학교 다닐때 이거 동생이랑 보다가.... 눈물이...ㅋ', '1'],\n",
       " ['297077', '욕망이라는 이름의 전차.', '1'],\n",
       " ['8599155', \"'디 워'랑 같은 부류.. 저예산 + 저렴한 CG + 마구잡이연출\", '0'],\n",
       " ['8740203', '무기여 잘있거라는 보는 내내 손에 땀을 쥐고본 첫번째 애니', '1'],\n",
       " ['8804100', '배우들 연기력이 아깝다. 별 한 개도 아깝다.', '0'],\n",
       " ['5950829', '딱 90년대코미디영화', '0'],\n",
       " ['3895103', '어릴때 진짜 재미있게 봤음ㅋㅋㅋㅋ', '1'],\n",
       " ['9146695',\n",
       "  '정말최고의영화고 마지막 아이들의 노래와 비행기가 정말 잊을수 없는 여운을 남긴다.이런 영화를 이제알게된것자체가 후회될정도로 잔잔하고 깊은 여운이 남는 영화.',\n",
       "  '1'],\n",
       " ['4993640', '보면서 어이없어서 헛웃음만 나던....', '0'],\n",
       " ['5794799', '악역인 금단비가 더 주목받았다는것은 주연여배우들의 미스캐스팅을 의미한다', '0'],\n",
       " ['1600635', 'General', '0'],\n",
       " ['1118508', '보고 나서도 내내 여운이 남는 영화..', '1'],\n",
       " ['3488301', '절대로 보지마라 보면 후회한다!!이걸영화라고 만든거냐!볼사람은 뇌를 놓고보아라!', '0'],\n",
       " ['7749595', '무슨 내용인지 도통 모르겠다... 쓸데없이 특별해 보이려는 시도에만 열중이었던 영화.', '0'],\n",
       " ['9804254',\n",
       "  '기쁨, 슬픔, 생명 그리고 죽음. 인간의 역사속에 거대한 하나님의 우주적 섭리가 느껴지는 영화. 특별히 어머니의 역을 맡은 여배우의 여성미와 자애로움이 인상적이다. 인생을 살면서 그런 존재가 된다면. 영상미 예술이다!',\n",
       "  '1'],\n",
       " ['9109132', '이게뭔가요내용도없고', '0'],\n",
       " ['10136005', '평점 어마어마하게 높네;;;; 빨리 낮춰야 할듯 5점이 적당한 영화.', '0'],\n",
       " ['9272388',\n",
       "  '이야기도보통재미있고. 10점정도는아니라고봐요.5점6점정도인데 고릴라제작한거도 잘했긴했고.하지만 감동은 보통..아쉬운결말',\n",
       "  '0'],\n",
       " ['9832161',\n",
       "  '솔직히 웬만한 공포영화는 다 섭렵할만큼 매니아인데. 주온은 정말 무서웠었다. 아직까지도 샤워하면서 머리감을때 공포를 느낀다. 누가 나를 쳐다보고 있는 느낌이라서... 이 느낌 나말고도 겪어본사람 있을거야. 그만큼 당시에 대단했던 영화다.',\n",
       "  '1'],\n",
       " ['6106079', '아름다운 영화였어요', '1'],\n",
       " ['6760555', '정말 광해와 비슷한가?', '1'],\n",
       " ['8658227', '조쉬 하트넷 특유의 여성들을 자극하는 나약한듯하면서도 남성적인 이미지를 작 부각한듯', '1'],\n",
       " ['3284962', '정말 속은느낌이다', '0'],\n",
       " ['9814376', '몸매,베드신 보기좋다고 한사람은 영화 안본사람', '0'],\n",
       " ['9093996',\n",
       "  \"잘봤어요 외모뿐만이 아니라 여러가지들을 따지며 사랑에 빠지는것이 아니라 '하려고' 하는 요즘 사람들에게 좋은 영화인거 같아요....\",\n",
       "  '1'],\n",
       " ['8891326', '최악의 쓰레기. 어설프려고 정말 노력했다', '0'],\n",
       " ['8016672', '콜린파렐. 123412341234', '1'],\n",
       " ['9884619', '난이게 제일 재밌었는데..', '1'],\n",
       " ['3095788', '난 좋았는데요..... 괜찮았어요', '1'],\n",
       " ['7008459', '영화보다 댓글이 더 재밌어', '0'],\n",
       " ['8365221', '에라이 미친 사이코 드라마야!!!', '0'],\n",
       " ['7326531', '모든 일본문화가 들어가 있다고 할 수 있을까? 최고의 사극!!', '1'],\n",
       " ['8415974', '엄청나게 기대를 하고 본게 아니라 괜찮았던듯?', '1'],\n",
       " ['8488748', '더빙이 똥이야 ....', '0'],\n",
       " ['5235134', '안타깝네. 이해를 못하는사람들 속출. 불교적이고 철학적인 작품.', '1'],\n",
       " ['7441317',\n",
       "  '진짜 이런 개 씨,1바ㄹ OOO 같은 영화 개 시간낭비 의미도없고 무섭지도않고 내가 왠만하면 공포영화는 즐겨보는데 이건 진짜 OOOO같다',\n",
       "  '0'],\n",
       " ['7403099', '색다르고 재밌는 영화였음. 실제로도 이런 일이 있다면 참 재밌을 것 같음. 막장 of 막장.', '1'],\n",
       " ['57586', '어캐봐여? 꼬옥~~~~~~~보고싶내여~~~~~~~~~~~~~~~~~~~~', '0'],\n",
       " ['5141238', '정말 식상하다못해 촌스럽기까지 ~~~~~~~~~~', '0'],\n",
       " ['5575615', '종교적 분위기 물씬 풍기는 최루성 가족영화', '0'],\n",
       " ['765033', '재밌다', '1'],\n",
       " ['286680', '그냥 살지 그랬어.. 이성재만 멋짐', '0'],\n",
       " ['9694445',\n",
       "  '음악영화라 나에겐 취향저격이지만... 비긴어게인처럼 대중적으로 흥행하긴 힘들 영화네요.. 하지만 여주가 너무 매력적이에요 ㅎㅎ',\n",
       "  '1'],\n",
       " ['5256752', '별 0개 선택 왜없어요? 솔직히 별 반개도 아깝다', '0'],\n",
       " ['5316818', '돈에 미친 남편과 .. 아기에 미친 돈 있는 남자 그속에서 갈등 하는 여자 18', '0'],\n",
       " ['4929205', '어린이의 시점에서만 볼만하겠지. 오로지 어린이의 시점.', '0'],\n",
       " ['7764248', '잠을 청할 수 있었다.', '0'],\n",
       " ['5610275', '좋아하는 사람의 뇌가 아니던가?.. 완전 난해함.. 결말 왕실망임', '0'],\n",
       " ['4975754', '전작에 비해서 왠지 허탈하다. 카이사르도 전작이 더 멋있는 듯 하고...', '0'],\n",
       " ['8098297', '김민종 최고! 더 잘되시요', '1'],\n",
       " ['4437772', '공격적인 재미, 유순한 여성성, 일기토, 지략 삼국지의 그것과 맞짱!', '1'],\n",
       " ['8750781', '-점수를 주고 싶다. 2003년에 이정도 밖에 못만들었다는게 충격...', '0'],\n",
       " ['5317808', '비디오테잎으로 좍좍 감아가며 봤던 영화. 가장 슬펐던 영화', '1'],\n",
       " ['7941197',\n",
       "  '도입부를 제외하고는 따분.헬기에서 민간인을 마구 쏴 죽이는 미군, 베트공 여성 스나이퍼 등,현실감 없는 극단적인 설정.라이언 일병에서의 업햄 그리고 이 영화 주인공인 조커, 두 넘 모두 내가 싫어하는 캐릭터, 착한척 하면서 주위에 피해를 주는 넘들.',\n",
       "  '0'],\n",
       " ['8392485',\n",
       "  '재밌는데...나만 그런가? 참고로 우리나라 까거나 하는건 하나도 안나옴 그냥 지들끼리 소설쓰고 지들끼리 자위하고 자위대도 등장하는데 그사람들도 자위나 하고 있음 일본 감정 다 떠나서 과학도로써 과학적으로 볼만한 영화였음 신선함',\n",
       "  '1'],\n",
       " ['9551603', '제 취향은 아니네요~~~~', '0'],\n",
       " ['1128434', '평점 조절...', '0'],\n",
       " ['8098523', '1점도 아까운 쓰레기영화 전작이 아까움', '0'],\n",
       " ['9969680',\n",
       "  '일편에 비해 삽질하는 브리짓이 쪼~끔 짜증날 때도 있었지만 그래도 여전히 사랑스럽다ㅎ 콜린 퍼스와 휴 그랜트를 한자리에 모아놓은 것 만으로도 10점줘야함!',\n",
       "  '1'],\n",
       " ['7467524',\n",
       "  '지금까지본 아이리스 시리즈중 최악이다ㅠㅠ 이거해도 너무하는거아닌가...수치스럽다. 연기고자시고 다 떠나 너무도허접합....',\n",
       "  '0'],\n",
       " ['9375027',\n",
       "  '연기력때문에 할말이 없다. 정우성과 고소영이 왜그토록 흥행작이 없는지 알고싶으면, 비트에서 연기하는거 봐라.',\n",
       "  '0'],\n",
       " ['10079804', '전라도 노예 업주 처벌 안받았나요?? 이슈가안됐네요 그러고보니..', '1'],\n",
       " ['4459001', '배우가 아깝다 ,,', '0'],\n",
       " ['1971330', '볼만 한데', '0'],\n",
       " ['8777093',\n",
       "  '결말의 의미공자가 자연에 숨어사는 노자에게 말했지. 짐승도 끼리끼리 사는데 사람이라고 따로 사냐고 진정 순수함은 더러운것사이에서도 그 빛을 유지하는것 ·',\n",
       "  '1'],\n",
       " ['746383', '크리스 터커 짱이삼! ㅋㅋ', '1'],\n",
       " ['10106046', '믿고보는 덴젤와싱턴. 근데 모레쯔는 왜이렇게 후덕하지...', '1'],\n",
       " ['9456361', '나오코 진짜 집중안된다', '0'],\n",
       " ['2461114', '감독이 밥은 먹고 다니는지 궁금하다. 배틀로얄2 이후로 최고 쓰래기.', '0'],\n",
       " ['4854124', '아 재미 너무 없네요.. 시간 아까워요', '0'],\n",
       " ['3352939', '난 잼있던데..ㅎㅎ', '1'],\n",
       " ['8225461',\n",
       "  '어떻게 상류층의 속물근성을 정당화시키면서미화시킨지 모르겠다. 감독이 국회의원이나 사회적 강자한테 아부하고 싶은 가봐요 그리고 얼굴만 예쁘다고 왕되는것은 맞지만 드라마라도 도덕적으로 표현좀 해야되는게 아닌가요 감독님 정신차리세요',\n",
       "  '0'],\n",
       " ['4728005', '가만히 보고만 있어도 씨익 웃음나는 행복한 가족의 이야기', '1'],\n",
       " ['8761788', '사고 후 잠시 정상인이 되었던 일탈', '0'],\n",
       " ['7094992', '좋은 영화~', '1'],\n",
       " ['7915590', '이거예전에나온거같은데 재미네', '1'],\n",
       " ['8693853', '샬라샬라 나오다즁자쥬아', '0'],\n",
       " ['6714986', '......감독의 옹졸함과 치졸함이 묻어나는 영화', '0'],\n",
       " ['5073654', '팔빠다 ㅋㅋ', '0'],\n",
       " ['1227060', '재미없음 -_-', '0'],\n",
       " ['8331844', '무슨 생각으로 만든걸까.', '0'],\n",
       " ['9594029', '스토리도 흥미롭고 배우들의 연기도 인상적이다. 충분히 볼만하다!!!', '1'],\n",
       " ['5683859', '내 인생 최고의 미드!!', '1'],\n",
       " ['9907691',\n",
       "  \"이 영화를 보고 '사랑하고 싶다' 라는 생각을 했습니다. 청소년 관람불가임에도 선정적인 장면은 나오지 않았습니다. 연인 혹은 솔로이신 분들에게 추천합니다.\",\n",
       "  '1'],\n",
       " ['10103306', '일본공포영화는 링 주온 이후로 망했음', '0'],\n",
       " ['5850503', '지루하다.. 지루해..', '0'],\n",
       " ['10070313',\n",
       "  '625를 직접 겪은 어르신들 얘길 들어보면 그당시 잔인한 학살은 대부분 주민들 서로간에 (주로 하층민들의 복수심에서 비롯된) 또는 군/경이 빨치산 학살한다며 벌인 살인이었지 정작 북한군은 민간인들한테는 잘해줬다고 하던데?',\n",
       "  '1'],\n",
       " ['6475186', '그냥 다큐일뿐 ..', '0'],\n",
       " ['8058599', '10점짜리 영화는아닌데 개인적으로는 평균평점 7점정도의 가치는 한다고 본다 스타일리쉬한 영화 ㅋ', '1'],\n",
       " ['8217932', '정말 질질끌고 작가님제발좀 적당히하시죠은희수역맡은 사람도 그만 나쁘게 만들지아침드라마가 막장이네', '0'],\n",
       " ['3134317', '으이구 괴물 그래픽이나 좀 다듬지 그게 머니 다 티나게 공포영화보다 웃은 건 첨이다', '0'],\n",
       " ['5725614', '대표적인 쓰레기 김치드라마', '0'],\n",
       " ['1251944', '네이버 별점, 꽤 신뢰도가 높네요.5점 이하는 안보는게 좋을듯..', '0'],\n",
       " ['9836293', '남주 헤어스타일 왜 저래...? 가게분신노찌쯔!!!!', '0'],\n",
       " ['3935543', '이런영화는 두번봐야지 안다 작은 일에도 크게 화를만드는 저나라의 국민이 인상깊다', '0'],\n",
       " ['9329701', '김명민이 약 구해서 차 탔을 때 진짜 설마설마 했음', '0'],\n",
       " ['6987687', '보지말아라 재미있든 재미없든 진짜 찝찝하고 기분 드러운 영화공포영화 싸이코 영화...', '0'],\n",
       " ['4268313', '짝퉁쓰래기', '0'],\n",
       " ['8751084', '이거 시청률이 너무낮은대 명작이고만', '1'],\n",
       " ['9579206',\n",
       "  '현실감 제로지만 배우들이 너무 좋았어요. 특히 다니엘헤니를 많이 볼 수 있어 좋았어요. 같은 남자지만 게이는 아닙니당. 다니엘헤니 최고. 설경구 씨두 최고!',\n",
       "  '1'],\n",
       " ['6380732', '프레디가 나에게 모욕감을 줬다 그래도 프레디라서4점준다', '0'],\n",
       " ['6730559', '잼없네요넘', '0'],\n",
       " ['10121905',\n",
       "  '평점이 너무 높군요. 원작으로 보심이 나을듯. 짧은 러닝타임에 감사하다고 해야하나. 주인공이 썰매를 타고 목적지에 가니 모든 사람들의 기억이 돌아온다는 황당한 설정이고 인간의 감정을 통제한다는건 데몰리션맨, 이퀄리브리엄에서 봤기때문에 신선함도 없음',\n",
       "  '0'],\n",
       " ['8822540', '막장 드라마의 원조격인 영화... 근데 이 영화는 확실히 로즈번이 살린듯', '1'],\n",
       " ['9109790', '해군 출신이라 관심있게 본 영화~', '1'],\n",
       " ['9953912', '파란색 슬픔이 영화에..', '0'],\n",
       " ['7298459', '액션 완전 OOO기..차라리 유오성이 나오는 챔프를 보겠다..;;', '0'],\n",
       " ['9355956', '폭풍오열ㅠㅜㅠㅍ퓨ㅠ', '1'],\n",
       " ['4329345', '착한영화... 그리고... 재미없습니다', '0'],\n",
       " ['1504875', '사소한 이야기조차 눈을 뗄수 없게 만들던 거장의 솜씨. 예전 장이모우 그립다', '1'],\n",
       " ['8960254', '내가본영화중 베스트5안에 듬 진짜꼭보세요', '1'],\n",
       " ['7589723', '지금까지 본 페이크다큐영화중 제일 별로...', '0'],\n",
       " ['9797993', '재미도 있고 공감도되는 누구나 즐길수있는 독립영화 !!!', '1'],\n",
       " ['1180080', '\"\"\"시미즈레이코의 만화책\"\"\"\"비밀\"\"\"\".에서 영향받은거 아냐? 똑같애\"\"\"', '0'],\n",
       " ['8293622', '기존 한국 영화에서 느끼지 못한 색다른 느낌상업적이기 보다는 새로움에 도전한듯한 ..', '1'],\n",
       " ['4431197', '장난하나--반전같은거 있을 줄 알고 끝까지 다 봤는데 진짜 아오..시간아까워', '0'],\n",
       " ['8937179',\n",
       "  '예고편을 왜 하는건지 모르겠음.. 예고편에 나오는건 하나도 안나오고.. 예고편은 대판 쌈질 하는것마냥 나오더니 하하호호 하고 끝남.. 예고편이 무슨 뜻인지를 모르는건지.. 시청자들을 호구로 보는건지..낚시질좀 그만하시고 차라리 시청률 걱정되면 폐지해',\n",
       "  '0'],\n",
       " ['8846509', '난 프랑스 영화가 이래서 좋다..', '1'],\n",
       " ['9335640', '쓰레기쓰레기쓰레기쓰레기쓰레기쓰레기쓰레기쓰레기', '0'],\n",
       " ['435623', '참 재밌게 봤는데... 귀여운 지미 +_+', '1'],\n",
       " ['4198269', '시간이 지나서 또 봐도 정말 가슴애린 드라마......ㅠ.ㅠ', '1'],\n",
       " ['5733754', '사촌동생들 때문에 같이 보긴했는데 정말.. 사촌동생들도 재미없다고 하네요', '0'],\n",
       " ['8278608', '설득력없는 꼴통페미니즘. 페미나치적인 마인드.', '0'],\n",
       " ['23653', 'B급을 지향하는 C급 작품.', '0'],\n",
       " ['7813287', '음 잘 모르겠다 뭘 봐야 하는 건지 소녀 가장 이야기인가', '0'],\n",
       " ['5824795', '우리와 틀리다고 생각했던 장애인이 우리와 틀리지않단것을 알려주었다.10403', '1'],\n",
       " ['842944', '재밌고 감각있고 쿨한 영화였는데.마지막 결말이 약간 아쉽지만', '1'],\n",
       " ['7929874',\n",
       "  '그냥 재미없네 보던거니까 마저봐야지 이랬는데 갑자기 원주민생활하는건 진짜 어처구니가 없었음이건 그냥 영화가 아니다',\n",
       "  '0'],\n",
       " ['10155376',\n",
       "  '진짜 언제 90분이 지나갔는지 모를정도로 몰입해서보고 정말 너무 재미있게 봄... 너무 아련해서 영화 평 정말 처음 남겨봄.. 진짜 내가 이 나이에 애니를 보며 이 밤중에 이렇게 울줄이야.. 에몽아ㅠㅠ',\n",
       "  '1'],\n",
       " ['8680215', '사과해요, 나한테!!!', '1'],\n",
       " ['7679026', '골목상권에 들어온 대형슈퍼마켓이 생각난다', '0'],\n",
       " ['9989270', '평점 조절이 필요하다 라는 생각이 든다!', '0'],\n",
       " ['8827685', '무협 멜로의 걸작 ... 말해 모해', '1'],\n",
       " ['5524686', '너무재미있게 보았는데요 다시 볼수없을까요', '1'],\n",
       " ['6158788', '오글거리고 유치하고 완전최악이었음...', '0'],\n",
       " ['307912', '절대비추.....', '0'],\n",
       " ['6082188', '한국껀줄알앗는데 일본꺼엿네 ㅋㅋ', '0'],\n",
       " ['9704763', '꽃 한송이 놓고 갑니다ㅋㅋ', '0'],\n",
       " ['9687594',\n",
       "  '내 삶의 가장 의미있는 일 중 하나라면 바로 이 영화를 봤다는 것이다. 살면서 죽기 전에 한번 꼭 봐야 할 영화.',\n",
       "  '1'],\n",
       " ['9430257', '생각보다 볼만했음ㅋ여주인공이 연기가 좋네여', '1'],\n",
       " ['9073274',\n",
       "  '자꾸 뭘 설득할려하고 설교할려고하는게 보기거북하다. 그리고결혼반지를 위해 범죄가담하다니 무슨 개역지설정이냐.',\n",
       "  '0'],\n",
       " ['7726829', '와...', '0'],\n",
       " ['8213409', '제발 전문성우를 써주세요 ㅠㅠ', '0'],\n",
       " ['8544691',\n",
       "  '살면서 처음 접해본 장르라서 조금 당황스럽다. 솔직히 영화 자체는 100% 자신의 색깔에 충실했고 완성도 역시 뛰어난 편이지만.. 좋아하지도 이해하지도 못하겠다ㅋ',\n",
       "  '0'],\n",
       " ['6269046', '오늘 아이데리고 봤는데...아이는 좋아하데요...ㅎㅎ 미취학, 초등 어린이에게 추천~', '1'],\n",
       " ['5934328', '이것을 끝까지 참고 본 내가 제일 자랑스럽습니다.', '0'],\n",
       " ['7668668', '존내재밋습네다', '1'],\n",
       " ['5655827', '안봐도 되는 영화.', '0'],\n",
       " ['4644401', '원작 망쳤네요', '1'],\n",
       " ['9945284', '그냥 주는거다. 5점은 아닌 듯', '1'],\n",
       " ['705362', '나쁘지 않으나 개인적으로는 지루했다는.', '0'],\n",
       " ['5708802', '어의없는 스토리.. 여자죽을때 웃음나옴.. 로맨스영화냐?', '0'],\n",
       " ['9790871', '순수함이 두근거려 좋았다 감독님은 관객들이 뭘원하는지 잘아는듯..여운이 많이 남는다', '1'],\n",
       " ['3810929', '기방난동사건이후 최악의 영화 .재밌다는 사람들 믿고 봤더니 다 알바생인듯 ... ㅜㅜ', '0'],\n",
       " ['6278900', '로맨스와 스릴러 짬뽕놔서 뭘 말하고 싶은건지.. 스토리도 허황된 느낌', '0'],\n",
       " ['4666521', '이건좀 아니잖아...', '0'],\n",
       " ['8894910', '윤아은 안됨!!원작자님 캐스팅에 참여해주세요작품 망치면 안되잖아요', '1'],\n",
       " ['10067891', '지금생각해도 내가본영화중에 이영화는 내생애 최고의영화였던것같다', '1'],\n",
       " ['4656042', '천녀유혼1,2에 비하면, 뭐라 표현하기 힘든 퀭한 영화', '0'],\n",
       " ['9541420',\n",
       "  '불륜을 미화한 영화 남은사람들은 어쩌라고 또 돈걱정 따위 안하는 사람들의 이야기를 공감하라고 강요하는 영화 음악이랑 영상미로 3점',\n",
       "  '0'],\n",
       " ['6206837', '최고다....... walk like a man 이란 노래는 원곡보다 영화속 노래가 훠~~얼씬 좋아요', '1'],\n",
       " ['8970443', '소재가 굉장히 신선했다', '1'],\n",
       " ['8870035', '내사랑 키아누 ♡.♡ 리브스 ♡.♡', '1'],\n",
       " ['9969587',\n",
       "  '두말할 나위없이 최고의 작품.인생에 대해서 생각해보게 하는 깊이있는 영화.전 출연진과 제작진에게 큰박수를 보낸다.',\n",
       "  '1'],\n",
       " ['7666606', '솔직히 산만 하기만했다', '0'],\n",
       " ['2176436', '말이필요없지.. 성룡영화에선.....무언가를다른것을느낄수있다', '1'],\n",
       " ['10018117', '화학을 해서 그런지 잼잇게 봣습니닼ㅋ 옆에 친구 중간중간 노이해.... 나중에 해석 ㅠㅠ 잼잇엇숩니다', '1'],\n",
       " ['8033328', '아직 준비되지 않는 젊은영화인들여 함부로 장편에 손대지 마라천천히 공부하고 나와라', '0'],\n",
       " ['7088731',\n",
       "  '으엉 간만에 추억돋아서 봤는데사실 원작 자체도 두서없이 전개되는데영화감독은 내용앞뒤도없이 막 잘라서정신없음ㅇ배우들은 책읽고 특히 대사 그대로 살린거 오그리오그링ㅋㅋㅋ간만에 소설로 읽어야지',\n",
       "  '0'],\n",
       " ['4883754', '개 쓰레기같은 것들아 감히 파라노말엑티비티를 팔아먹냐', '0'],\n",
       " ['9942955', '기억은 조작되기 마련.. 그사람이 아니고서는 함부러 말하지 말자', '1'],\n",
       " ['9466607',\n",
       "  '재밌게 봤습니다,, 그저 문헌에 적힌 문란한 사도세자가 아닌, 정조의 아버지로서 그 그릇이 어느 정도였는지 잘 보여준 작품이 아니었나 싶네요 시나리오도 시나리오지만 배우들 연기가 일품이었습니다',\n",
       "  '1'],\n",
       " ['8933491',\n",
       "  '휴일낮에 침대에누워서 티비보다가 영화채널에서 틀어주길래 어쩔수 없이 봤는데 나중에는 벌떡 앉아서 봤던 영화.!완전 몰입되고 나름 스토리도 치밀하고 해리슨 포드다운 액션- 좋습니다. 저는 영화광도 영화 평론가도 아니고 영화 자주보는 일반 남자사람임',\n",
       "  '1'],\n",
       " ['5844083', '절제의 미학이아니라.. 지루함의 극치가 되버린 안타갑다..', '0'],\n",
       " ['3674831', '영화관에서 보기엔 돈아까웠다;;;;;....... 솔직히 재미없었다 ㅜㅜ', '0'],\n",
       " ['1736999', '인간의 솔직함을 보여 주고 싶었는가..이런 방법말고도 다른 방법이 충분이 있을텐데?', '0'],\n",
       " ['9845902', '정말 사랑에 대해 다시생각한거같습니다 감동이에요', '0'],\n",
       " ['7406758', '내용은 교육적이나 정말지루해서요ㅜ', '0'],\n",
       " ['9121447', '꿀잼! 특히 소유랑 서인영ㅋㅋㅋㅋ매력터져', '1'],\n",
       " ['7988084', '태어나서 본 영화중에 제일 재미없었음', '0'],\n",
       " ['6880550', '화면을 흑백으로 바꾸기만 하면 50년대 작', '0'],\n",
       " ['9759719', '쇼핑몰 안에서만 찍어서 너무 재미없고 답답한..내용도 없다.', '0'],\n",
       " ['2288547', '진짜 쓰레기영화.. 돈아까워 죽는줄 알았다.. 여러분 보지 마세요', '0'],\n",
       " ['468899', '와아오 두근두근~ 익스트림자체', '1'],\n",
       " ['9736192', '폭력영화, 자극적이고 실험적이라고 예술인가?', '0'],\n",
       " ['9304503',\n",
       "  '일본영화랑 비슷한건 저만 느끼는건가요??수트입으면 미남으루 변하구 마지막에 평생입으라구 권유받구...창조가 이렇게까지 중복될수 있눈건지...잘 모르겠네여',\n",
       "  '0'],\n",
       " ['9231599',\n",
       "  '진짜 이렇게 재미도 없고 감동도 없는 영화는 처음이네특히나 박사고 나발이고 모든인물들이 컴퓨터 할때 손찍는데키보드 누르지도 않고 ㅋㅋㅋ컴퓨터 화면들은 똑같은 파트만 무한 반복되고허접해도 너무 허접하네... 배우들 연기도 개떡이고 ...',\n",
       "  '0'],\n",
       " ['5657638', '최고의 농촌드라마.', '1'],\n",
       " ['8239718',\n",
       "  \"독립영화 실력자들의 스타 리그, 옴니버스라는 피로감이 극복되는 수준이다. '얼음강'은 단독 장편으로 만들었어도 좋았을 듯. 주인공이 혹여 - 평소라면 1%도 공감 안되는 - 여호와의 증인이라도 납득이 될 정도로 감정을 설득하는 솜씨가 탁월하다.\",\n",
       "  '1'],\n",
       " ['9147374', '좀비좀비 그러는데 좀비아닙니다. 우주의 아름다움에 미쳐버린 인간일뿐 충분히 가능한 일이죠', '1'],\n",
       " ['9788286', '개재미없음 막장스토리 어거지 ㅋㅋ', '0'],\n",
       " ['502971', '뭐하나 흠잡을 것이 없다. 최고!', '1'],\n",
       " ['8837036', 'OST가 좋은 영화!!', '1'],\n",
       " ['3059926', '탁재훈나오믄재밌는데와이라지스토리중반부터너무쳐짐약해약해약해~지겨워뒈지는줄알', '0'],\n",
       " ['4009568', '서스펜스도 없고 스릴도 없다.', '0'],\n",
       " ['3044091', '우리나라 정서하고 안맞다`~', '0'],\n",
       " ['4161935', '어디선가 많이 본 흔한 스토리', '0'],\n",
       " ['8535856', '최고의 드라마....', '1'],\n",
       " ['9848292', '우리 모두는 누군가에게 섬머였다!', '1'],\n",
       " ['1389397', '힘알이 하나 없는 주인공들..맥이 다 빠진다.', '0'],\n",
       " ['8014926', '너무너무귀여운영화', '1'],\n",
       " ['518874', '전형적인 일본식 엽기 괴짜 코메디. 그 특이함에 끌리는건 왜지', '0'],\n",
       " ['6428636', '와 이걸 5점 이상 준 사람들은 뭐지. 나루토 극장판 중에 가장 쓰래기', '0'],\n",
       " ['4008401', '정당한 노력이란 보상받게 마련이다.나름 일정 성취가 있고,좋은 결실을 거둔 작품.', '0'],\n",
       " ['7494798', '아씨 울었다.', '1'],\n",
       " ['5954884', '기적은 이미 일어났다.', '1'],\n",
       " ['9718518', '아이들과 함께 보기 좋았지만, 그냥 그래요.', '0'],\n",
       " ['4492202', '전율을 느꼈다.', '1'],\n",
       " ['6940155',\n",
       "  '여기저기 지저분한내용에 이기적인 사람들의 역겨운 연애사...마지막으로 갈수록 시청률 안나오니까 막 갈겨쓴내용...',\n",
       "  '0'],\n",
       " ['8662240', '별로...완전별로....마지막빼고 넘 유치하고재미없고 ..', '0'],\n",
       " ['9924896', '세월이 지나서 다시 보니 뭔가 먹먹함이 다르더군요. 공감하는 사람이라면 가슴속에 명작으로 남을 듯...', '1'],\n",
       " ['8607739', '아이들이 보기엔 좋을지도?', '0'],\n",
       " ['7081837', '보니까 선정성이 좀 15세 같음:::: 그래도 액션은 좋음', '1'],\n",
       " ['8672382', '카타르시스를 느끼기에 충분한...값진영화였다..', '1'],\n",
       " ['5838594', '여주 린제이 로한 닮았다. 전체적인 분위기나 배경은 좋았지만 내용은 지루했다.', '0'],\n",
       " ['8747250', '당신이 솔로가 아니면 이 영화를 보지마세요.', '0'],\n",
       " ['8893010',\n",
       "  '남이 차안에서 전화통화 하는걸 90분 가까이 구경하고 있으라고? 폰부스는 명작이라 생각하지만 이 영화는 진짜 장난하나',\n",
       "  '0'],\n",
       " ['4063053', '전형적인 저질영화', '0'],\n",
       " ['1964094', '답을 알려고 하지마라.', '1'],\n",
       " ['3748749', '재미잇음매우~~', '1'],\n",
       " ['7236510', '진짜 잘 만든 수작', '1'],\n",
       " ['10110553', '제발 2좀 찍어주세요. 현기증 난단 말이에요', '1'],\n",
       " ['3889299', '너무나도 따뜻한, 마음이 따뜻해지는... 한번쯤 자신을 되돌아보게 만드는 영화', '1'],\n",
       " ['3551150', '뭔가 조금씩 부족한 영화 놀래킬려면 확! 놀래키던지 어정쩡한 -_-;;', '0'],\n",
       " ['9855967',\n",
       "  '이거 참...소재는 참 좋은데 내용전개가 개판...사람수도 많고 총도 있는데 그걸 지들끼리 서로 다 흩어져서 일방적으로 밀리네..거기다 식인종이라면서 표현을 좀비로 해놓으면 어쩌잔거야..식인으로 인해 인성이 말살되고 짐승화 되었다는 표현이라도 있던가',\n",
       "  '0'],\n",
       " ['6607633',\n",
       "  '포스터만 그럴싸하다. 13구역이라는 이름만 가져다 쓴 영화. 완전 졸작이다. 액션 신도 개허술하고, 스토리도 이상하다.',\n",
       "  '0'],\n",
       " ['10263072', '대체 왜 재미없다는거지;;난 존나재밌던데', '1'],\n",
       " ['9135211', '늑대들의 여정이 너무 낭만적이었던 애니 스토리도 좋지만 음악은 일본 애니중에 탑으로 뛰어나다', '1'],\n",
       " ['8676753', '미국 흑인 민권운동사를 완벽하게 요약했다.', '1'],\n",
       " ['9798776', '그가 뛰어내리지 않았다면 어떻게 되었을까', '1'],\n",
       " ['9393658',\n",
       "  '8점대는 나와야지. 그냥 단순한 액션공포물이 아닌데도 긴장감 공포감 연출 쩔고 음악도 좋고.. 몇년이 지나도 기억나는 인상적인 좀비물인데. 평점 너무 짜서 10줌',\n",
       "  '1'],\n",
       " ['6890985', '아역 연기는 좋았으나 내용은 쓰레기', '0'],\n",
       " ['7060802',\n",
       "  '진짜....재미없다 극장에서 볼거없어서 걍 스릴러라길래봤는데ㅋㅋㅋㅋㅋㅋㅋㅋㅋ웃음밖에안나온다 혹시나해서라도 절대보지마라진짜제발',\n",
       "  '0'],\n",
       " ['8914565', '평점은 믿지마셈 재밌음', '1'],\n",
       " ['1318078', '이거 좋다는 놈들은 뭐하는 것들이야 ㅡ.ㅡ', '0'],\n",
       " ['6825739', '이게 21c영화냐? 90년도영화냐? 쓰래기들아', '0'],\n",
       " ['9984617', 'ufo를 믿으려는 자들.', '0'],\n",
       " ['9132252', '너무 구식으로 웃길려고 함. 보는 내내 지겨움', '0'],\n",
       " ['9612977', '이런거 좋아하는 사람들 정신 세계가 궁금하다..', '0'],\n",
       " ['8200058', '연예계의 현실을 알리고자 하는 마음은 알겠지만, 영화의 재미는 없었다. 지루해 죽을뻔 했음.', '0'],\n",
       " ['3527577', '아주 재미있고 책으로봐도 정말재미있다~~', '1'],\n",
       " ['3656988', '..........끝내주게 재밌다.', '1'],\n",
       " ['6584219', '유투브동영상을 돈내고 보는게 낫다는 생각이 들게한 영화', '0'],\n",
       " ['4919409', '아쉬운 점도 있지만, 스토리에 맞는 분위기나 배경, 지하철기관사의 삶 등을 잘 묘사', '1'],\n",
       " ['8466409',\n",
       "  '스타워즈 1편과 맞아떨어지도록 잘 만든영화 최고의 에피소드 다스베이더의 탄생과 루크,레이어의 운명을 알수있는 레전드',\n",
       "  '1'],\n",
       " ['8116113', '소희가 귀엽다 귀엽다 졸귀', '1'],\n",
       " ['3436810', '소문난 잔치(호화 캐스팅)에 먹을 건 없다', '0'],\n",
       " ['2074725', '주성치 영화 최고의 졸작', '0'],\n",
       " ['10181517', '구우우웃~~!!!!', '1'],\n",
       " ['3217546', '딱히 흠잡을 것도 두근거릴 것도 없는 교과서적 플레이.', '0'],\n",
       " ['9841078', '영화의 중심은 역시 스토리인것을. 반전의 반전 너무 재미있다.', '1'],\n",
       " ['9025696', '8.3이 아니라 9.3 이 아닌가?', '1'],\n",
       " ['4276245', '참 재미있었다. 연기를 발로 하는 삼류배우들 얼굴보면서... ㅋㅋㅋ', '0'],\n",
       " ['6020106', '재밌군', '1'],\n",
       " ['8705473', '이것도 재밌는데...ㅋㅋ', '1'],\n",
       " ['9810971', '1점도 아깝다 평쓰는 것도 귀찮다 보는 내내 오글거려서 손발사라지는 줄 알았다', '0'],\n",
       " ['7852536', '기대 안하고 봤는데... 영화 보는 내내 몰입해서 재미있게 봤어요~~', '1'],\n",
       " ['8386647',\n",
       "  '유쾌함과 스릴러적인 요소가 잘 어울려진 명작. 후속작 보다 훨씬 매력있음. 두고 두고 간직해두면서 꺼내보고 싶은 영화.',\n",
       "  '1'],\n",
       " ['39563', '좋네..괜찮고.', '1'],\n",
       " ['7772563', '명작. 너무 좋았던 드라마. 스토리, 캐스팅, 연기, 음악, 연출 모두 완벽했던.', '1'],\n",
       " ['5725103', '괜찮은영화,,영화도괜찮았지만 나영언니완전머싯고예뻤음ㅠㅠ', '1'],\n",
       " ['7462757',\n",
       "  '일단 재미있다 ! 고래 몇마리로 국가적으로 호들갑떠는게 오버스럽겠지만 그런 모습이 우리는 모두가 도와가며 살아야하는 지구의 생명이란 메세지는 참으로 감동적이다.',\n",
       "  '1'],\n",
       " ['8868808', '지금 첨봤는데 1회만 봐볼까하고 봤다가 주말 밤새완주하였다. 여운이 많이 남는 드라마', '1'],\n",
       " ['6933426', '애니메이션 뮬란이 아쉽다. 전쟁씬도 그렇고 연기도 그렇고 이야기도 그렇고그저 그래', '0'],\n",
       " ['10111771', '기대않 하고 봣는데 진짜 내용도 좋고 재미도 있네요!!', '1'],\n",
       " ['493092', '좋았다', '1'],\n",
       " ['1132815', '슬픈 맑음. 파문에 주목하라.', '1'],\n",
       " ['10102549', '김윤진 좋아하니깐...♡', '1'],\n",
       " ['2110412', '재밌따!!', '1'],\n",
       " ['10138191', '무리수가 되어버린 코미디 기획상품.', '0'],\n",
       " ['7457162', '나홀로집에와더불어 나의최고의영화..', '1'],\n",
       " ['9167250', '나는 떠올랐다 그옛날 국산애니 (아마겟돈)의 악몽이', '0'],\n",
       " ['8404879', '완전 역겨운 쓰레기 영화다 기술적 수준을 떠나 각본이 무개념', '0'],\n",
       " ['2422271', 'sunday booldy sunday........., 고결한 신사들께서 무슨 짓을 하셧을까?', '1'],\n",
       " ['7530240', '캬.. 개안음..ㅎㅎㅎㅎ', '1'],\n",
       " ['9991915', '보는내내 너무너무 재미있었음', '1'],\n",
       " ['9988760', '김소현 팬됬습니다....너무 재밌음', '1'],\n",
       " ['2615698', '삐에로와 흑인남자와싸웠을때 재미있었다 ㅋㅋㅋ아웃겨', '1'],\n",
       " ['7684164',\n",
       "  '유럽영화가 이번정부에 많이 들어와 즐겁긴하다만 그 내용들이 왜 이리 진부한걸까,,,,,,,,,,,,,,,,,,,,,,,,,,,유럽영화를 욕되게 하고있단 소리다,,',\n",
       "  '0'],\n",
       " ['10020563', '왠만한 허접영화도 재미있게보는데 이건 도를 넘어섰다', '0'],\n",
       " ['2497690', '어떤 누구도 다른 이의 삶과 죽음에 대해 왈가왈부 할 순 없다.', '1'],\n",
       " ['8906022', '굿굿굿 또해라또해라 제발 ㅠㅠ', '1'],\n",
       " ['4133147', '주님께서 부르셔서 제가 여기 있나이다.', '1'],\n",
       " ['9436392', '미성년자가 돈많은 아저씨에게 순결을 바치고 데인후 결국 정신차리고 공부해거 명문대가는 진부한 결말', '0'],\n",
       " ['9840716', '정말 재밌게 봤고 빈센트도 꼬마도 연기 너무 잘하네요. ㅎ', '1'],\n",
       " ['6170546', '솔직히 원작보다 훨씬낫다 원작 무슨 인간이 말도못하게설정해놨어', '1'],\n",
       " ['5383358', '말이 필요없음,,, 아 진심 개재밌다ㅠㅠ', '1'],\n",
       " ['10208479', '보니까 이양반이 다세포소녀 감독이네', '0'],\n",
       " ['4761480', '굿 잡!!! 친구랑 또 보고 싶네요!', '1'],\n",
       " ['8180877', '재미진짜 흥하네 근데 yang**** 이새끼 관종인가 ㅋㅋㅋ', '1'],\n",
       " ['9320316', '야경꾼보다 엉망지루함', '0'],\n",
       " ['9661317', '예원찡... 그만울어....', '1'],\n",
       " ['9444015', '근 5년동안 본 모든영화 통틀어서 최악의영화..시간이 남아돌때 봐도 시간이 아까운 역대급 쓰레기영화;;', '0'],\n",
       " ['7301394',\n",
       "  '감동이다.. 참고로 이 영화 보신분들 마지막엔딩부분에 자막으로나오는부분잇죠? .. 이게 영화상에서 실화라는거지 진짜 레알 현재 실제로 실화라는말이아니에요.. 전지현이 피디잔아요 다큐찍는거 ...그 다큐에서엔딩장면이지 진짜 실제가아니에여.. 쨋든',\n",
       "  '1'],\n",
       " ['8059949', '달기지...미니어쳐 티 팍팍 나던데...우뢔매 보는줄 알았다...혹시 특수효과 감독이 심형래?', '0'],\n",
       " ['8051141', '재미 드럽게 없다ㅋㅋㅋ', '0'],\n",
       " ['9146376', '야 세르게이!!! 작은 고추의 매운맛을 보여주마', '0'],\n",
       " ['9413155',\n",
       "  '정여립과 정철, 기축옥사까지.. 스토리 탄탄해서 좋습니다. 배우들도 연기 참 잘하고 남녀주인공들 케미도 좋고! 챙겨 볼 수 밖에 없는 드라마ㅠㅠㅠㅠ',\n",
       "  '1'],\n",
       " ['8007833', '개OO영화네요....내용도없고 그냥심심해서만든영화가..', '0'],\n",
       " ['8557767', '두개는 줄려고 했는데 알바가 많아서. 아후 볼거없어서 채널 돌려도 다시 다른데로 돌리게만드는구나', '0'],\n",
       " ['9136302', '왜 0점은 줄 수 없나요?', '0'],\n",
       " ['8657974', '영화사에 남을 작품. 실험영화의 완성본', '1'],\n",
       " ['9111762', '자식을 그렇게 때리냐?', '0'],\n",
       " ['8929395', '이게 대체 무슨 내용이야;;', '0'],\n",
       " ['7339744',\n",
       "  'ㅋㅋㅋㅋㅋㅋㅋㅋㅋㅋㅋㅋㅋ옛다 1점이나 처먹어랔ㅋㅋㅋㅋㅋㅋㅋㅋ이게 7점급?이건 1점짜리. 내용도 결말도. 살다 살다 뭐 이딴...',\n",
       "  '0'],\n",
       " ['9445949', '감동적이였고 좋았습니다', '1'],\n",
       " ['9830821',\n",
       "  '초반에 개재미없었는데 볼수록 점점 재밌어짐! 외계인이 내가 알던 에일리언에 나오던 외계인이 아니야....',\n",
       "  '1'],\n",
       " ['9602598', '쇼핑백 잊혀지지 않는다....', '0'],\n",
       " ['4085435', '의도는 좋지만 너무 몰입이 안되는걸 어떡해', '0'],\n",
       " ['7404128', '유치하지만 가볍게 볼만함', '0'],\n",
       " ['7628876',\n",
       "  '화려한 색채때문에 눈이 아프지만 그 나름대로 화려연예계여자욕망에대해 표현해냈던거같다 보는내내 진짜 리리코심정가진 연옌들도 있을거같고..나를한번도보지못하고알지못하는사람들이날어떻게사랑하냐그런대사 나왔을때 소름돋더라 연예인들은 많은사랑받으면서도 참 허전할듯',\n",
       "  '1'],\n",
       " ['3889736', '본지 수OO이 지나도 아직도 생생함. 고양이 귀신의 복수가 진짜 무서웠지', '1'],\n",
       " ['4070437', '영상이 대학교 졸업작품같아서 그렇지 꽤나 많은걸 담아놓은 영화임에는 분명하다.', '1'],\n",
       " ['9445843', '최강 전차부대 ..,,..', '0'],\n",
       " ['7425748', 'ㅇㅇ', '0'],\n",
       " ['7991350', '진짜 어이없는 소재라고 생각하며 보는데 개 웃겨.... 남자로서는 솔직히 조금은 부러울수도 있는', '1'],\n",
       " ['8825761', 'tv 전기세가 아까웠다!!!', '0'],\n",
       " ['10251900',\n",
       "  '초등학교때 선생님이 보여주신 영화 시간이 흘러서 기억나는건 에이즈에 걸렸던 남자아이와 운동화였고 그때 봤던 영화가 뭐였을까? 궁금했었는데 그 영화가 바로 굿바이마이프렌드였다 12년전이나 12년후나 명작은 시간이 흘러도 명작이다',\n",
       "  '1'],\n",
       " ['4202224', '넘 재밌었어요/ㅅ/ㅎㅎㅎ', '1'],\n",
       " ['4726967', '설리 94년생인데 93년도 영화에 어떻게 나오져?', '1'],\n",
       " ['5466870', '샷의 연결이 아닌 충돌만큼이나 거룩한 제목 또한 인상적이구려', '1'],\n",
       " ['6077451', 'ㅋㅋㅋ 재미없음', '0'],\n",
       " ['9469311', '오오 난 여태까지 맷데이먼의 최고의영화는 본 얼티메이텀,라이언일병구하기 뿐인줄알았음ㅠ 굿윌헌팅도쩐당', '1'],\n",
       " ['9726724', '이야기 자체가 흥미를 끌지 못하는군', '0'],\n",
       " ['7285074', '날 로그인하게 만들다니.....청춘이여 영원하라....', '1'],\n",
       " ['6236997', '현정언니 짱이죠 완전 잼잇어요 ㅎ', '1'],\n",
       " ['7558359',\n",
       "  '영상미 예쁘고 좋지만 러닝타임이 2시간이 넘는데 초반 30분에 줄거리 다 나갔고 엄청 지루한 화보집 보는 기분 일본영화 특유의 그 이해못할 희한함이 있음',\n",
       "  '0'],\n",
       " ['7252691', '스토리 연결 전혀 안되고 편집해서 끼워맞춘 드라마 말아먹은 작품', '0'],\n",
       " ['8789344', '여자 주인공이 예뻐서 끝까지 봤다', '0'],\n",
       " ['247661', '지구를 지켜라...혹 이 작품을 보고 만든 건 아닌지...', '1'],\n",
       " ['10263063', '저렇게 힘들게 영화를 만드는데, 왜 한국영화는 다 쓰레기냐?', '0'],\n",
       " ['6831499',\n",
       "  '케릭터가 살아있었으며, 미장센이 훌륭했다. 이야기는 몰입도 있었고, 불필요한 샷은 존재하지 않았다. 노인을 위한나라는 없다 먼저 봤지만 코엔감독 매력적인영화를 만드는 멋있는 사람',\n",
       "  '1'],\n",
       " ['474835', '마지막이 좀황당했지만 좋은영화', '1'],\n",
       " ['3279841', '우연히 tv를 돌려보다가 사로잡혔다. 최근 10년간 본 코미디 영화 중 최고', '1'],\n",
       " ['8407277', '연 기 굿 화이팅해요누나', '1'],\n",
       " ['9673323',\n",
       "  '마이클베이 최근작을 볼때마다 느낀다. 블록버스터 액션장르라도 탄탄한 시나리오는 영화의 필수라는것을. 그리고 당신이 기대하던 메간폭스는 늙었다.',\n",
       "  '0'],\n",
       " ['8121444', '0점은없나?1점은 너무 후하네', '0'],\n",
       " ['10275296', '미달이는.. 연예계를 바라보는 태도를 고쳐야 한다.', '0'],\n",
       " ['6473973', '파괴된 관객들.', '0'],\n",
       " ['8417568', '알콜중독자들 덕에 평점이 낮은가?', '1'],\n",
       " ['7126211', '중견배우들이 만들어놓은 긴장감이 나름 긴장감있게 싸워보려했던 도술사들에 의해 헛웃음나온다.', '0'],\n",
       " ['8379556',\n",
       "  '남자 주인공 늑대 인간으로 변하고 끝나네유. 평점 보고 안 볼까 하다가 봤는디 재밌네유. CG보다 이런 실물 특수 효과가 더 보는 재미가 있어유. 웃기기까지 하네유. 근디 제목 번역은 어느 바보가 한거여. 그냥 늑대 인간이 아니잖여.',\n",
       "  '1'],\n",
       " ...]"
      ]
     },
     "execution_count": 27,
     "metadata": {},
     "output_type": "execute_result"
    }
   ],
   "source": [
    "def read_data(filename):\n",
    "    with open(filename, 'r',encoding='UTF8') as f:\n",
    "        data = [line.split('\\t') for line in f.read().splitlines()]\n",
    "        # txt 파일의 헤더(id document label)는 제외하기\n",
    "        data = data[1:]\n",
    "    return data\n",
    "\n",
    "train_data = read_data('./data/ratings_train.txt')\n",
    "test_data = read_data('./data/ratings_test.txt')\n",
    "train_data"
   ]
  },
  {
   "cell_type": "code",
   "execution_count": 49,
   "metadata": {},
   "outputs": [
    {
     "name": "stdout",
     "output_type": "stream",
     "text": [
      "150000\n",
      "3\n",
      "50000\n",
      "3\n"
     ]
    }
   ],
   "source": [
    "print(len(train_data))\n",
    "print(len(train_data[0]))\n",
    "print(len(test_data))\n",
    "print(len(test_data[0]))"
   ]
  },
  {
   "cell_type": "code",
   "execution_count": 5,
   "metadata": {},
   "outputs": [
    {
     "name": "stdout",
     "output_type": "stream",
     "text": [
      "[('이', 'Noun'), ('밤', 'Noun'), ('그날', 'Noun'), ('의', 'Josa'), ('반딧불', 'Noun'), ('을', 'Josa'), ('당신', 'Noun'), ('의', 'Josa'), ('창', 'Noun'), ('가까이', 'Noun'), ('보낼게요', 'Verb')]\n"
     ]
    }
   ],
   "source": [
    "from konlpy.tag import Okt\n",
    "\n",
    "okt = Okt()\n",
    "print(okt.pos(u'이 밤 그날의 반딧불을 당신의 창 가까이 보낼게요'))"
   ]
  },
  {
   "cell_type": "code",
   "execution_count": 11,
   "metadata": {},
   "outputs": [
    {
     "name": "stdout",
     "output_type": "stream",
     "text": [
      "[['아/Exclamation',\n",
      "  '더빙/Noun',\n",
      "  '../Punctuation',\n",
      "  '진짜/Noun',\n",
      "  '짜증나다/Adjective',\n",
      "  '목소리/Noun'],\n",
      " '0']\n"
     ]
    }
   ],
   "source": [
    "import json\n",
    "import os\n",
    "from pprint import pprint\n",
    "\n",
    "def tokenize(doc):\n",
    "    # norm은 정규화, stem은 근어로 표시하기를 나타냄\n",
    "    return ['/'.join(t) for t in okt.pos(doc, norm=True, stem=True)]\n",
    "\n",
    "if os.path.isfile('./data/train_docs.json'):\n",
    "    with open('./data/train_docs.json', encoding=\"utf-8\") as f:\n",
    "        train_docs = json.load(f)\n",
    "    with open('./data/test_docs.json', encoding=\"utf-8\") as f:\n",
    "        test_docs = json.load(f)\n",
    "else:\n",
    "    train_docs = [(tokenize(row[1]), row[2]) for row in train_data]\n",
    "    test_docs = [(tokenize(row[1]), row[2]) for row in test_data]\n",
    "    # JSON 파일로 저장\n",
    "    with open('./data/train_docs.json', 'w', encoding=\"utf-8\") as make_file:\n",
    "        json.dump(train_docs, make_file, ensure_ascii=False, indent=\"\\t\")\n",
    "    with open('./data/test_docs.json', 'w', encoding=\"utf-8\") as make_file:\n",
    "        json.dump(test_docs, make_file, ensure_ascii=False, indent=\"\\t\")\n",
    "\n",
    "# 예쁘게(?) 출력하기 위해서 pprint 라이브러리 사용\n",
    "pprint(train_docs[0])"
   ]
  },
  {
   "cell_type": "code",
   "execution_count": 12,
   "metadata": {},
   "outputs": [
    {
     "name": "stdout",
     "output_type": "stream",
     "text": [
      "2159921\n"
     ]
    }
   ],
   "source": [
    "# 총 개수\n",
    "# token=[]\n",
    "# for d in train_docs:\n",
    "#     for t in d[0]:\n",
    "#         token.append(t)\n",
    "tokens = [t for d in train_docs for t in d[0]]\n",
    "print(len(tokens))"
   ]
  },
  {
   "cell_type": "code",
   "execution_count": 13,
   "metadata": {},
   "outputs": [
    {
     "name": "stdout",
     "output_type": "stream",
     "text": [
      "<Text: NMSC>\n"
     ]
    }
   ],
   "source": [
    "# nltk.Text()는 문서 하나를 편리하게 탐색할 수 있는 다양한 기능을 제공한다.\n",
    "import nltk\n",
    "text = nltk.Text(tokens, name='NMSC')\n",
    "print(text)"
   ]
  },
  {
   "cell_type": "code",
   "execution_count": 62,
   "metadata": {},
   "outputs": [
    {
     "name": "stdout",
     "output_type": "stream",
     "text": [
      "2159921\n"
     ]
    }
   ],
   "source": [
    "print(len(text.tokens))"
   ]
  },
  {
   "cell_type": "code",
   "execution_count": 63,
   "metadata": {},
   "outputs": [
    {
     "name": "stdout",
     "output_type": "stream",
     "text": [
      "49895\n"
     ]
    }
   ],
   "source": [
    "print(len(set(text.tokens))) # 종류 "
   ]
  },
  {
   "cell_type": "code",
   "execution_count": 66,
   "metadata": {},
   "outputs": [
    {
     "name": "stdout",
     "output_type": "stream",
     "text": [
      "[('./Punctuation', 67778),\n",
      " ('영화/Noun', 50818),\n",
      " ('하다/Verb', 41209),\n",
      " ('이/Josa', 38540),\n",
      " ('보다/Verb', 38538),\n",
      " ('의/Josa', 30188),\n",
      " ('../Punctuation', 29055),\n",
      " ('가/Josa', 26627),\n",
      " ('에/Josa', 26468),\n",
      " ('을/Josa', 23118)]\n"
     ]
    }
   ],
   "source": [
    "pprint(text.vocab().most_common(10))"
   ]
  },
  {
   "cell_type": "code",
   "execution_count": 1,
   "metadata": {},
   "outputs": [],
   "source": [
    "import warnings\n",
    "warnings.filterwarnings('ignore')\n",
    "\n",
    "%matplotlib inline\n",
    "import matplotlib.pyplot as plt\n",
    "import numpy as np\n",
    "import pandas as pd\n",
    "plt.rcParams['font.family']='NanumGothicCoding'\n",
    "plt.rcParams['axes.unicode_minus']=False\n",
    "plt.rcParams['figure.dpi']=200\n",
    "%matplotlib inline"
   ]
  },
  {
   "cell_type": "code",
   "execution_count": 68,
   "metadata": {},
   "outputs": [
    {
     "data": {
      "image/png": "[encoded data removed]",
      "text/plain": [
       "<Figure size 1440x720 with 1 Axes>"
      ]
     },
     "metadata": {
      "needs_background": "light"
     },
     "output_type": "display_data"
    }
   ],
   "source": [
    "plt.figure(figsize=(20,10))\n",
    "text.plot(50)"
   ]
  },
  {
   "cell_type": "code",
   "execution_count": 14,
   "metadata": {},
   "outputs": [],
   "source": [
    "selected_words = [f[0] for f in text.vocab().most_common(10000)]"
   ]
  },
  {
   "cell_type": "code",
   "execution_count": 70,
   "metadata": {},
   "outputs": [
    {
     "data": {
      "text/plain": [
       "['./Punctuation',\n",
       " '영화/Noun',\n",
       " '하다/Verb',\n",
       " '이/Josa',\n",
       " '보다/Verb',\n",
       " '의/Josa',\n",
       " '../Punctuation',\n",
       " '가/Josa',\n",
       " '에/Josa',\n",
       " '을/Josa',\n",
       " '.../Punctuation',\n",
       " '도/Josa',\n",
       " '은/Josa',\n",
       " '들/Suffix',\n",
       " ',/Punctuation',\n",
       " '는/Josa',\n",
       " '없다/Adjective',\n",
       " '를/Josa',\n",
       " '있다/Adjective',\n",
       " '좋다/Adjective',\n",
       " '너무/Adverb',\n",
       " '?/Punctuation',\n",
       " '이/Determiner',\n",
       " '재밌다/Adjective',\n",
       " '정말/Noun',\n",
       " '것/Noun',\n",
       " '되다/Verb',\n",
       " '!/Punctuation',\n",
       " '진짜/Noun',\n",
       " '같다/Adjective',\n",
       " '적/Suffix',\n",
       " '으로/Josa',\n",
       " '이/Noun',\n",
       " '점/Noun',\n",
       " '아니다/Adjective',\n",
       " '않다/Verb',\n",
       " '로/Josa',\n",
       " '에서/Josa',\n",
       " '만/Josa',\n",
       " '만들다/Verb',\n",
       " '연기/Noun',\n",
       " '나오다/Verb',\n",
       " '평점/Noun',\n",
       " '과/Josa',\n",
       " '최고/Noun',\n",
       " '~/Punctuation',\n",
       " '한/Josa',\n",
       " '이다/Verb',\n",
       " '왜/Noun',\n",
       " '스토리/Noun',\n",
       " '생각/Noun',\n",
       " '..../Punctuation',\n",
       " '인/Josa',\n",
       " '드라마/Noun',\n",
       " '다/Adverb',\n",
       " '다/Josa',\n",
       " '이다/Josa',\n",
       " '감동/Noun',\n",
       " '사람/Noun',\n",
       " '1/Number',\n",
       " 'ㅋㅋㅋ/KoreanParticle',\n",
       " '보고/Noun',\n",
       " '말/Noun',\n",
       " '이렇다/Adjective',\n",
       " '아깝다/Adjective',\n",
       " '더/Noun',\n",
       " '때/Noun',\n",
       " 'ㅋㅋ/KoreanParticle',\n",
       " '내/Noun',\n",
       " '배우/Noun',\n",
       " '거/Noun',\n",
       " '재미있다/Adjective',\n",
       " '와/Josa',\n",
       " '감독/Noun',\n",
       " '뭐/Noun',\n",
       " '재미/Noun',\n",
       " '내용/Noun',\n",
       " '고/Josa',\n",
       " '그냥/Noun',\n",
       " '못/VerbPrefix',\n",
       " '주다/Verb',\n",
       " '!!/Punctuation',\n",
       " '까지/Josa',\n",
       " '그/Noun',\n",
       " '안/VerbPrefix',\n",
       " '재미없다/Adjective',\n",
       " '좀/Noun',\n",
       " '게/Josa',\n",
       " '자다/Verb',\n",
       " '하고/Josa',\n",
       " '지루하다/Adjective',\n",
       " '쓰레기/Noun',\n",
       " '시간/Noun',\n",
       " '한/Determiner',\n",
       " '가다/Verb',\n",
       " '수/Noun',\n",
       " '모르다/Verb',\n",
       " '들다/Verb',\n",
       " '그렇다/Adjective',\n",
       " '나/Noun',\n",
       " '싶다/Verb',\n",
       " '아/Exclamation',\n",
       " '10/Number',\n",
       " '작품/Noun',\n",
       " '사랑/Noun',\n",
       " '알다/Verb',\n",
       " '다시/Noun',\n",
       " '하나/Noun',\n",
       " '볼/Noun',\n",
       " '마지막/Noun',\n",
       " '잘/VerbPrefix',\n",
       " 'ㅋ/KoreanParticle',\n",
       " '보다/Josa',\n",
       " '요/Josa',\n",
       " '오다/Verb',\n",
       " '이다/Adjective',\n",
       " '나/Josa',\n",
       " '이렇게/Adverb',\n",
       " '처음/Noun',\n",
       " '완전/Noun',\n",
       " '정도/Noun',\n",
       " '2/Number',\n",
       " '많다/Adjective',\n",
       " '장면/Noun',\n",
       " '액션/Noun',\n",
       " '주인공/Noun',\n",
       " '차다/Verb',\n",
       " '안되다/Adjective',\n",
       " '인데/Josa',\n",
       " 'ㅠㅠ/KoreanParticle',\n",
       " '최악/Noun',\n",
       " '나다/Verb',\n",
       " '3/Number',\n",
       " \"'/Punctuation\",\n",
       " '돈/Noun',\n",
       " '지금/Noun',\n",
       " '이야기/Noun',\n",
       " '중/Suffix',\n",
       " '걸/Noun',\n",
       " '별로/Noun',\n",
       " '임/Noun',\n",
       " '지/Josa',\n",
       " '느낌/Noun',\n",
       " '넘다/Verb',\n",
       " '개/Noun',\n",
       " '연출/Noun',\n",
       " '라/Josa',\n",
       " '끝/Noun',\n",
       " '명작/Noun',\n",
       " '좋아하다/Adjective',\n",
       " '듯/Noun',\n",
       " '그리고/Conjunction',\n",
       " '역시/Noun',\n",
       " '받다/Verb',\n",
       " '남다/Verb',\n",
       " '그/Determiner',\n",
       " '이해/Noun',\n",
       " '^^/Punctuation',\n",
       " '이런/Modifier',\n",
       " '!!!/Punctuation',\n",
       " 'ㅡㅡ/KoreanParticle',\n",
       " '괜찮다/Adjective',\n",
       " '이영화/Noun',\n",
       " '라고/Josa',\n",
       " '안/Noun',\n",
       " '버리다/Verb',\n",
       " '또/Noun',\n",
       " '많이/Adverb',\n",
       " '느끼다/Verb',\n",
       " '여자/Noun',\n",
       " '때문/Noun',\n",
       " '먹다/Verb',\n",
       " '내/Determiner',\n",
       " '아름답다/Adjective',\n",
       " '난/Noun',\n",
       " '해주다/Verb',\n",
       " '중/Noun',\n",
       " '꼭/Noun',\n",
       " '하/Suffix',\n",
       " '편/Noun',\n",
       " '이고/Josa',\n",
       " '보기/Noun',\n",
       " '에게/Josa',\n",
       " '기억/Noun',\n",
       " '결말/Noun',\n",
       " '엔/Josa',\n",
       " '어떻다/Adjective',\n",
       " '이나/Josa',\n",
       " 'ㅎㅎ/KoreanParticle',\n",
       " '랑/Josa',\n",
       " '마음/Noun',\n",
       " '인생/Noun',\n",
       " '아쉽다/Adjective',\n",
       " '서/Josa',\n",
       " '소재/Noun',\n",
       " '부터/Josa',\n",
       " 'ㅠ/KoreanParticle',\n",
       " '뻔하다/Adjective',\n",
       " '~~/Punctuation',\n",
       " '끄다/Verb',\n",
       " '애/Noun',\n",
       " '면/Josa',\n",
       " '못/Noun',\n",
       " '보여주다/Verb',\n",
       " '없이/Adverb',\n",
       " '수준/Noun',\n",
       " '어리다/Verb',\n",
       " '재다/Verb',\n",
       " '무섭다/Adjective',\n",
       " '현실/Noun',\n",
       " '맞다/Verb',\n",
       " '한번/Noun',\n",
       " '님/Suffix',\n",
       " '가장/Noun',\n",
       " '웃기다/Verb',\n",
       " '반전/Noun',\n",
       " '네/Josa',\n",
       " '매력/Noun',\n",
       " '전개/Noun',\n",
       " '라는/Josa',\n",
       " ';;/Punctuation',\n",
       " '되어다/Verb',\n",
       " '야/Josa',\n",
       " '??/Punctuation',\n",
       " '남자/Noun',\n",
       " '한국/Noun',\n",
       " '끝나다/Verb',\n",
       " '가슴/Noun',\n",
       " '인지/Josa',\n",
       " '본/Modifier',\n",
       " '낮다/Adjective',\n",
       " '말다/Verb',\n",
       " '슬프다/Adjective',\n",
       " '높다/Adjective',\n",
       " '죽다/Verb',\n",
       " '저/Noun',\n",
       " '음악/Noun',\n",
       " '유치하다/Adjective',\n",
       " '알/Noun',\n",
       " '늘다/Verb',\n",
       " '멋지다/Adjective',\n",
       " '아이/Noun',\n",
       " '성/Suffix',\n",
       " '원작/Noun',\n",
       " '아/Josa',\n",
       " '줄/Noun',\n",
       " '인가/Josa',\n",
       " '하지만/Conjunction',\n",
       " '인간/Noun',\n",
       " '기/Modifier',\n",
       " '솔직하다/Adjective',\n",
       " '무슨/Noun',\n",
       " '우리/Noun',\n",
       " '냐/Josa',\n",
       " '쓰다/Verb',\n",
       " '추천/Noun',\n",
       " '크다/Verb',\n",
       " '게/Noun',\n",
       " '함/Noun',\n",
       " '눈물/Noun',\n",
       " '씨/Suffix',\n",
       " '만/Noun',\n",
       " '살다/Verb',\n",
       " '속/Noun',\n",
       " '저/Determiner',\n",
       " '내다/Verb',\n",
       " '네/Suffix',\n",
       " '야하다/Adjective',\n",
       " '자체/Noun',\n",
       " '번/Noun',\n",
       " '도/Noun',\n",
       " '허다/Verb',\n",
       " '눈/Noun',\n",
       " '찍다/Verb',\n",
       " '지만/Josa',\n",
       " '영/Modifier',\n",
       " '짜증나다/Adjective',\n",
       " '코미디/Noun',\n",
       " '캐릭터/Noun',\n",
       " '보이다/Verb',\n",
       " '움/Noun',\n",
       " '대박/Noun',\n",
       " '뭔가/Noun',\n",
       " '돼다/Verb',\n",
       " '대한/Noun',\n",
       " '전혀/Noun',\n",
       " '그래도/Adverb',\n",
       " '이상/Noun',\n",
       " '연기력/Noun',\n",
       " '이쁘다/Adjective',\n",
       " '여운/Noun',\n",
       " '이네/Josa',\n",
       " '미치다/Adjective',\n",
       " '굿/Noun',\n",
       " '기대/Noun',\n",
       " '건지다/Verb',\n",
       " '별/Noun',\n",
       " '모두/Noun',\n",
       " '개봉/Noun',\n",
       " '공감/Noun',\n",
       " '일본/Noun',\n",
       " '지다/Verb',\n",
       " '근데/Adverb',\n",
       " '기대하다/Adjective',\n",
       " '중간/Noun',\n",
       " '영상/Noun',\n",
       " '아주/Noun',\n",
       " ')/Punctuation',\n",
       " '(/Punctuation',\n",
       " '시리즈/Noun',\n",
       " '부분/Noun',\n",
       " '별/Modifier',\n",
       " '모습/Noun',\n",
       " '전/Noun',\n",
       " '귀엽다/Adjective',\n",
       " '계속/Noun',\n",
       " '제목/Noun',\n",
       " '에는/Josa',\n",
       " '이랑/Josa',\n",
       " '-/Punctuation',\n",
       " '일/Modifier',\n",
       " '시키다/Verb',\n",
       " '요/Noun',\n",
       " 'ㅎ/KoreanParticle',\n",
       " '치다/Verb',\n",
       " '가족/Noun',\n",
       " '화/Suffix',\n",
       " ';/Punctuation',\n",
       " '내내/Noun',\n",
       " 'OO/Alpha',\n",
       " '뿐/Noun',\n",
       " '급/Noun',\n",
       " '보지/Noun',\n",
       " '믿다/Verb',\n",
       " '이라/Josa',\n",
       " '진심/Noun',\n",
       " '대/Modifier',\n",
       " '실망/Noun',\n",
       " '다른/Noun',\n",
       " '몰입/Noun',\n",
       " '후/Noun',\n",
       " '두/Determiner',\n",
       " '표현/Noun',\n",
       " '처럼/Josa',\n",
       " '밖에/Josa',\n",
       " '기분/Noun',\n",
       " '무엇/Noun',\n",
       " '대단하다/Adjective',\n",
       " 'ㅜㅜ/KoreanParticle',\n",
       " '작가/Noun',\n",
       " '이/Suffix',\n",
       " '잔잔하다/Adjective',\n",
       " '떨어지다/Verb',\n",
       " '위/Noun',\n",
       " '이제/Noun',\n",
       " '\"\"\"\"/Punctuation',\n",
       " ',,/Punctuation',\n",
       " '웃다/Verb',\n",
       " '요즘/Noun',\n",
       " '공포/Noun',\n",
       " '용/Noun',\n",
       " '스릴러/Noun',\n",
       " '잼/Noun',\n",
       " '빠지다/Verb',\n",
       " '감/Noun',\n",
       " '점도/Noun',\n",
       " '4/Number',\n",
       " '개인/Noun',\n",
       " '긴장감/Noun',\n",
       " 'ㅡ/KoreanParticle',\n",
       " '여/Modifier',\n",
       " '이라는/Josa',\n",
       " '모든/Noun',\n",
       " '조금/Noun',\n",
       " '대사/Noun',\n",
       " '애니/Noun',\n",
       " '이유/Noun',\n",
       " '짜다/Verb',\n",
       " '알바/Noun',\n",
       " '분/Noun',\n",
       " '제대로/Noun',\n",
       " '삶/Noun',\n",
       " '특히/Adverb',\n",
       " '노래/Noun',\n",
       " '건/Noun',\n",
       " '욕/Noun',\n",
       " '울다/Verb',\n",
       " '짱/Noun',\n",
       " '극장/Noun',\n",
       " '한테/Josa',\n",
       " '점수/Noun',\n",
       " '시작/Noun',\n",
       " '0/Number',\n",
       " '막장/Noun',\n",
       " '이상하다/Adjective',\n",
       " '기/Noun',\n",
       " '나름/Noun',\n",
       " '예쁘다/Adjective',\n",
       " '...../Punctuation',\n",
       " '노잼/Noun',\n",
       " '깊다/Adjective',\n",
       " '제일/Noun',\n",
       " '차라리/Noun',\n",
       " '놈/Noun',\n",
       " '친구/Noun',\n",
       " '오랜/Modifier',\n",
       " '느껴지다/Verb',\n",
       " '제/Noun',\n",
       " '해보다/Verb',\n",
       " '에도/Josa',\n",
       " '당시/Noun',\n",
       " '영화로/Noun',\n",
       " '어설프다/Adjective',\n",
       " '류/Noun',\n",
       " '절대/Noun',\n",
       " '의미/Noun',\n",
       " '빼다/Verb',\n",
       " '따뜻하다/Adjective',\n",
       " '잇다/Verb',\n",
       " '세상/Noun',\n",
       " '위해/Noun',\n",
       " '력/Suffix',\n",
       " '미국/Noun',\n",
       " '♥/Foreign',\n",
       " '찾다/Verb',\n",
       " '아직도/Adverb',\n",
       " '훌륭하다/Adjective',\n",
       " '\"\"\"/Punctuation',\n",
       " '도대체/Noun',\n",
       " '이지/Josa',\n",
       " '이라고/Josa',\n",
       " '앞/Noun',\n",
       " '공포영화/Noun',\n",
       " '연/Modifier',\n",
       " '걍/Adverb',\n",
       " '웃음/Noun',\n",
       " '로/Noun',\n",
       " '생각나다/Verb',\n",
       " '설정/Noun',\n",
       " '그리다/Verb',\n",
       " '대다/Verb',\n",
       " '7/Number',\n",
       " '죽이다/Verb',\n",
       " '수작/Noun',\n",
       " '힘들다/Adjective',\n",
       " '물/Noun',\n",
       " '의/Noun',\n",
       " '써다/Verb',\n",
       " '일/Noun',\n",
       " '다르다/Adjective',\n",
       " '뭘/Noun',\n",
       " '우리나라/Noun',\n",
       " '초반/Noun',\n",
       " '싫다/Adjective',\n",
       " '남/Noun',\n",
       " 'OOO/Alpha',\n",
       " '출연/Noun',\n",
       " '명/Noun',\n",
       " '제/Modifier',\n",
       " '추억/Noun',\n",
       " '사실/Noun',\n",
       " '필요없다/Adjective',\n",
       " '답답하다/Adjective',\n",
       " '5/Number',\n",
       " '엄청/Adverb',\n",
       " '따다/Verb',\n",
       " '장난/Noun',\n",
       " '이야/Josa',\n",
       " '딱/Adverb',\n",
       " '해/Noun',\n",
       " '지루함/Noun',\n",
       " '한국영/Noun',\n",
       " '니/Josa',\n",
       " '멋있다/Adjective',\n",
       " '마다/Josa',\n",
       " '놓다/Verb',\n",
       " '가지/Noun',\n",
       " '이란/Josa',\n",
       " '시나리오/Noun',\n",
       " '소리/Noun',\n",
       " '신선하다/Adjective',\n",
       " '분위기/Noun',\n",
       " '아프다/Adjective',\n",
       " '팬/Noun',\n",
       " '관객/Noun',\n",
       " '시대/Noun',\n",
       " '대/Suffix',\n",
       " '뭔/Modifier',\n",
       " '어이없다/Adjective',\n",
       " '졸작/Noun',\n",
       " '살/Noun',\n",
       " '자신/Noun',\n",
       " '잊다/Verb',\n",
       " '이딴/Modifier',\n",
       " '나쁘다/Adjective',\n",
       " '감정/Noun',\n",
       " '최고다/Noun',\n",
       " '더럽다/Adjective',\n",
       " '봄/Noun',\n",
       " '기다/Verb',\n",
       " '접/Noun',\n",
       " '오늘/Noun',\n",
       " '안타깝다/Adjective',\n",
       " '영화관/Noun',\n",
       " '이지만/Josa',\n",
       " '엄마/Noun',\n",
       " '엔딩/Noun',\n",
       " '결국/Adverb',\n",
       " '부족하다/Adjective',\n",
       " '정신/Noun',\n",
       " '스럽다/Adjective',\n",
       " '제발/Noun',\n",
       " '인상/Noun',\n",
       " '배우다/Verb',\n",
       " '문제/Noun',\n",
       " '포스터/Noun',\n",
       " '더빙/Noun',\n",
       " '캐스팅/Noun',\n",
       " '준/Noun',\n",
       " '라면/Noun',\n",
       " '평가/Noun',\n",
       " '코믹/Noun',\n",
       " '~~~/Punctuation',\n",
       " '아무리/Adverb',\n",
       " '엉/Exclamation',\n",
       " '니까/Josa',\n",
       " '얼마나/Noun',\n",
       " '음/Noun',\n",
       " '그저/Adverb',\n",
       " '애니메이션/Noun',\n",
       " '함께/Adverb',\n",
       " '시/Modifier',\n",
       " '어색하다/Adjective',\n",
       " '서다/Verb',\n",
       " '!!!!/Punctuation',\n",
       " 'ㅠㅠㅠ/KoreanParticle',\n",
       " '몰입도/Noun',\n",
       " '전/Modifier',\n",
       " '킬링타임/Noun',\n",
       " '망하다/Adjective',\n",
       " '비다/Verb',\n",
       " '자/Suffix',\n",
       " '강추/Noun',\n",
       " '티비/Noun',\n",
       " '배경/Noun',\n",
       " '적다/Verb',\n",
       " '유쾌하다/Adjective',\n",
       " '8/Number',\n",
       " '대해/Noun',\n",
       " '쓸다/Verb',\n",
       " '살리다/Verb',\n",
       " '두다/Verb',\n",
       " '뒤/Noun',\n",
       " '든/Josa',\n",
       " '맘/Noun',\n",
       " '지/Modifier',\n",
       " '스릴/Noun',\n",
       " '만화/Noun',\n",
       " '충격/Noun',\n",
       " '개연/Noun',\n",
       " '질/Noun',\n",
       " '얘기/Noun',\n",
       " '를/Noun',\n",
       " '진부하다/Adjective',\n",
       " '나가다/Verb',\n",
       " '그렇게/Adverb',\n",
       " '완벽하다/Adjective',\n",
       " '전쟁/Noun',\n",
       " '책/Noun',\n",
       " '즐겁다/Adjective',\n",
       " '머리/Noun',\n",
       " '구성/Noun',\n",
       " '데/Noun',\n",
       " 'ㅜ/KoreanParticle',\n",
       " '예술/Noun',\n",
       " '갈수록/Noun',\n",
       " '어디/Noun',\n",
       " '놀라다/Verb',\n",
       " '얼굴/Noun',\n",
       " '보단/Josa',\n",
       " '매우/Noun',\n",
       " '후회/Noun',\n",
       " '하/Exclamation',\n",
       " '웃기/Noun',\n",
       " '이름/Noun',\n",
       " '여/Josa',\n",
       " '너무나/Adverb',\n",
       " '읽다/Verb',\n",
       " '기도/Noun',\n",
       " '9/Number',\n",
       " '머/Noun',\n",
       " '옛날/Noun',\n",
       " '어울리다/Verb',\n",
       " '같이/Adverb',\n",
       " '적/Noun',\n",
       " '들이다/Verb',\n",
       " '행복하다/Adjective',\n",
       " '대/Foreign',\n",
       " '영화인/Noun',\n",
       " '장르/Noun',\n",
       " '집중/Noun',\n",
       " '꽤/Noun',\n",
       " '이후/Noun',\n",
       " '집/Noun',\n",
       " '은/Noun',\n",
       " '주연/Noun',\n",
       " '새롭다/Adjective',\n",
       " '존나/Noun',\n",
       " '그래서/Adverb',\n",
       " '억지/Noun',\n",
       " '멀다/Adjective',\n",
       " '건가/Noun',\n",
       " '???/Punctuation',\n",
       " '누구/Noun',\n",
       " '다큐/Noun',\n",
       " '상황/Noun',\n",
       " '날/Noun',\n",
       " '진/Noun',\n",
       " '만/Suffix',\n",
       " 'ㅎㅎㅎ/KoreanParticle',\n",
       " '비/Noun',\n",
       " '이리/Adverb',\n",
       " '언제/Noun',\n",
       " '그것/Noun',\n",
       " '+/Punctuation',\n",
       " '작/Modifier',\n",
       " '글/Noun',\n",
       " '짜증/Noun',\n",
       " ',,,/Punctuation',\n",
       " '씬/Noun',\n",
       " '시즌/Noun',\n",
       " '아직/Adverb',\n",
       " '충분하다/Adjective',\n",
       " '예전/Noun',\n",
       " '역사/Noun',\n",
       " '후반/Noun',\n",
       " '다운/Noun',\n",
       " '밉다/Adjective',\n",
       " '생기다/Verb',\n",
       " 'B/Alpha',\n",
       " '극/Modifier',\n",
       " '걸작/Noun',\n",
       " '식/Suffix',\n",
       " '누가/Noun',\n",
       " '여기/Noun',\n",
       " '불쌍하다/Adjective',\n",
       " '궁금하다/Adjective',\n",
       " '두/Noun',\n",
       " '약간/Noun',\n",
       " '급/Suffix',\n",
       " '자기/Noun',\n",
       " '실화/Noun',\n",
       " '니/Noun',\n",
       " '그나마/Adverb',\n",
       " '분들/Suffix',\n",
       " '소름/Noun',\n",
       " '인물/Noun',\n",
       " '발연기/Noun',\n",
       " '아무/Modifier',\n",
       " '해도/Noun',\n",
       " '심하다/Adjective',\n",
       " '등/Noun',\n",
       " '그대로/Noun',\n",
       " '훨씬/Adverb',\n",
       " '드리다/Verb',\n",
       " '잔인하다/Adjective',\n",
       " '방송/Noun',\n",
       " '시절/Noun',\n",
       " '~!/Punctuation',\n",
       " '작/Noun',\n",
       " '부/Noun',\n",
       " '주/Modifier',\n",
       " '네/Determiner',\n",
       " '비디오/Noun',\n",
       " '자/Noun',\n",
       " '순수하다/Adjective',\n",
       " '만점/Noun',\n",
       " '비슷하다/Adjective',\n",
       " '한마디/Noun',\n",
       " '대체/Noun',\n",
       " '아들/Noun',\n",
       " '다음/Noun',\n",
       " '간만/Noun',\n",
       " '소설/Noun',\n",
       " '로맨스/Noun',\n",
       " 'CG/Alpha',\n",
       " '휴/Exclamation',\n",
       " '사회/Noun',\n",
       " '보/Noun',\n",
       " '어렵다/Adjective',\n",
       " '판/Noun',\n",
       " '비교/Noun',\n",
       " '초딩/Noun',\n",
       " '필요하다/Adjective',\n",
       " '6/Number',\n",
       " '쉬다/Verb',\n",
       " '감성/Noun',\n",
       " '네이버/Noun',\n",
       " '꿈/Noun',\n",
       " '남기다/Verb',\n",
       " '몇/Modifier',\n",
       " '따르다/Verb',\n",
       " '오/Modifier',\n",
       " '여배우/Noun',\n",
       " '전체/Noun',\n",
       " '타다/Verb',\n",
       " '만나다/Verb',\n",
       " '떠나다/Verb',\n",
       " '그런/Modifier',\n",
       " '여주/Noun',\n",
       " '상당하다/Adjective',\n",
       " '라도/Josa',\n",
       " '뿐/Suffix',\n",
       " '사랑스럽다/Adjective',\n",
       " '코/Noun',\n",
       " '이르다/Verb',\n",
       " '성룡/Noun',\n",
       " '나이/Noun',\n",
       " '당하다/Adjective',\n",
       " '무슨/Modifier',\n",
       " ';;;/Punctuation',\n",
       " '이라도/Josa',\n",
       " '굉장하다/Adjective',\n",
       " '편이/Noun',\n",
       " '너/Noun',\n",
       " '혼자/Noun',\n",
       " '터지다/Verb',\n",
       " '반/Modifier',\n",
       " '삼류/Noun',\n",
       " '순간/Noun',\n",
       " '죠/Josa',\n",
       " '감사하다/Verb',\n",
       " '년/Noun',\n",
       " '교훈/Noun',\n",
       " '굳다/Adjective',\n",
       " '돌리다/Verb',\n",
       " '보다는/Josa',\n",
       " 'ㅉㅉ/KoreanParticle',\n",
       " '이/Foreign',\n",
       " '빨리/Adverb',\n",
       " '존재/Noun',\n",
       " '힘/Noun',\n",
       " '진정하다/Adjective',\n",
       " '바로/Noun',\n",
       " '주제/Noun',\n",
       " '바라다/Verb',\n",
       " '목소리/Noun',\n",
       " '에요/Josa',\n",
       " '....../Punctuation',\n",
       " '풀다/Verb',\n",
       " '낭비/Noun',\n",
       " '어/Suffix',\n",
       " '잡다/Verb',\n",
       " '망치다/Verb',\n",
       " '돋다/Verb',\n",
       " '화려하다/Adjective',\n",
       " '안보/Noun',\n",
       " '거의/Noun',\n",
       " '죽/Noun',\n",
       " '당신/Noun',\n",
       " '말고/Josa',\n",
       " '몇번/Noun',\n",
       " '가볍다/Adjective',\n",
       " '나라/Noun',\n",
       " '다른/Modifier',\n",
       " '라니/Josa',\n",
       " '질질/Noun',\n",
       " '엄청나다/Adjective',\n",
       " '맞추다/Verb',\n",
       " '줄거리/Noun',\n",
       " '독특하다/Adjective',\n",
       " '지나다/Verb',\n",
       " '판타지/Noun',\n",
       " '딸/Noun',\n",
       " '성하다/Adjective',\n",
       " '신/Noun',\n",
       " '모든/Modifier',\n",
       " '갑자기/Noun',\n",
       " '이번/Noun',\n",
       " '점주/Noun',\n",
       " '아버지/Noun',\n",
       " '좀비/Noun',\n",
       " '담다/Verb',\n",
       " '피/Noun',\n",
       " '그러나/Conjunction',\n",
       " '에선/Josa',\n",
       " '넣다/Verb',\n",
       " '전부/Noun',\n",
       " '의도/Noun',\n",
       " '뜨다/Verb',\n",
       " '어른/Noun',\n",
       " '상영/Noun',\n",
       " '재/Noun',\n",
       " '실제/Noun',\n",
       " '흥미롭다/Adjective',\n",
       " '각본/Noun',\n",
       " '시청률/Noun',\n",
       " '넘치다/Adjective',\n",
       " '제작/Noun',\n",
       " '만하/Noun',\n",
       " '으로도/Josa',\n",
       " '맛/Noun',\n",
       " '평론가/Noun',\n",
       " '곳/Noun',\n",
       " '바/Noun',\n",
       " '한편/Noun',\n",
       " '땜/Noun',\n",
       " '화면/Noun',\n",
       " '영/Noun',\n",
       " '답/Noun',\n",
       " '필요/Noun',\n",
       " '기다리다/Verb',\n",
       " '그녀/Noun',\n",
       " '극장판/Noun',\n",
       " '//Punctuation',\n",
       " '막/Noun',\n",
       " '간다/Noun',\n",
       " '10년/Number',\n",
       " '중국/Noun',\n",
       " '평/Noun',\n",
       " '만들어지다/Verb',\n",
       " '란/Noun',\n",
       " '히/Adverb',\n",
       " '이하/Noun',\n",
       " '볼때/Noun',\n",
       " '세계/Noun',\n",
       " '세/Noun',\n",
       " '짱/Suffix',\n",
       " '상/Suffix',\n",
       " '억지스럽다/Adjective',\n",
       " '에서도/Josa',\n",
       " '이기다/Verb',\n",
       " '밑/Noun',\n",
       " '가치/Noun',\n",
       " '바꾸다/Verb',\n",
       " '선/Noun',\n",
       " '발/Noun',\n",
       " '일단/Noun',\n",
       " '관람/Noun',\n",
       " '오글거리다/Verb',\n",
       " '똥/Noun',\n",
       " '스타일/Noun',\n",
       " '선택/Noun',\n",
       " '원/Modifier',\n",
       " '복수/Noun',\n",
       " '성우/Noun',\n",
       " '뻔/Noun',\n",
       " '요소/Noun',\n",
       " '항상/Noun',\n",
       " 'TV/Alpha',\n",
       " '성/Modifier',\n",
       " '둘/Noun',\n",
       " '어디서/Adverb',\n",
       " '에서는/Josa',\n",
       " '흥행/Noun',\n",
       " '역/Noun',\n",
       " '보내다/Verb',\n",
       " '달다/Verb',\n",
       " '힘드다/Adjective',\n",
       " '너무하다/Adjective',\n",
       " '올리다/Verb',\n",
       " '세/Modifier',\n",
       " '래/Josa',\n",
       " '그때/Noun',\n",
       " '부르다/Verb',\n",
       " '거기/Noun',\n",
       " '갖다/Verb',\n",
       " '참고/Noun',\n",
       " '더욱/Noun',\n",
       " '확실하다/Adjective',\n",
       " '치고/Josa',\n",
       " '진행/Noun',\n",
       " '첨/Adverb',\n",
       " '가보다/Verb',\n",
       " '구/Noun',\n",
       " '면/Noun',\n",
       " '불편하다/Adjective',\n",
       " '걸리다/Verb',\n",
       " '점점/Noun',\n",
       " '물론/Adverb',\n",
       " '조/Modifier',\n",
       " '들어가다/Verb',\n",
       " '아빠/Noun',\n",
       " '수가/Noun',\n",
       " '역대/Noun',\n",
       " '평범하다/Adjective',\n",
       " '잃다/Verb',\n",
       " '편집/Noun',\n",
       " '완성/Noun',\n",
       " '전형/Noun',\n",
       " '거지/Noun',\n",
       " '멜로/Noun',\n",
       " '단순하다/Adjective',\n",
       " '어이/Noun',\n",
       " '듣다/Verb',\n",
       " '화이팅/Noun',\n",
       " '허무하다/Adjective',\n",
       " '끼다/Verb',\n",
       " '흐르다/Verb',\n",
       " '이냐/Josa',\n",
       " '상미/Noun',\n",
       " '이에요/Josa',\n",
       " '술/Noun',\n",
       " '짧다/Adjective',\n",
       " '때리다/Verb',\n",
       " '인거/Josa',\n",
       " '과/Noun',\n",
       " 'tv/Alpha',\n",
       " '초/Noun',\n",
       " '불륜/Noun',\n",
       " '에겐/Josa',\n",
       " '동안/Noun',\n",
       " '탄탄하다/Adjective',\n",
       " '가지다/Verb',\n",
       " '쯤/Suffix',\n",
       " '드/Noun',\n",
       " '돋보이다/Verb',\n",
       " '걸다/Verb',\n",
       " '개그/Noun',\n",
       " '엉망/Noun',\n",
       " '잠/Noun',\n",
       " '예상/Noun',\n",
       " '라서/Josa',\n",
       " '사건/Noun',\n",
       " '즐기다/Verb',\n",
       " '미화/Noun',\n",
       " '중반/Noun',\n",
       " '그만/Adverb',\n",
       " '지겹다/Adjective',\n",
       " '꿀잼/Noun',\n",
       " '낫다/Noun',\n",
       " '병맛/Noun',\n",
       " '~!!/Punctuation',\n",
       " '그게/Noun',\n",
       " '소중하다/Adjective',\n",
       " '키/Noun',\n",
       " '설명/Noun',\n",
       " '똑같다/Adjective',\n",
       " '몇/Noun',\n",
       " '대로/Josa',\n",
       " '과거/Noun',\n",
       " '에/Foreign',\n",
       " '프랑스/Noun',\n",
       " '찾아보다/Verb',\n",
       " '또한/Noun',\n",
       " '적당하다/Adjective',\n",
       " '비추다/Verb',\n",
       " '중요하다/Adjective',\n",
       " '메다/Verb',\n",
       " '손/Noun',\n",
       " '훈훈하다/Adjective',\n",
       " '흥미진진/Noun',\n",
       " '무/Noun',\n",
       " '-_-/Punctuation',\n",
       " '도저히/Noun',\n",
       " '노력/Noun',\n",
       " '원래/Noun',\n",
       " '그냥/Modifier',\n",
       " '댓글/Noun',\n",
       " '그래픽/Noun',\n",
       " '티/Noun',\n",
       " '죽음/Noun',\n",
       " '척/Noun',\n",
       " '흥미/Noun',\n",
       " '무조건/Noun',\n",
       " '마르다/Adjective',\n",
       " '리/Noun',\n",
       " '취향/Noun',\n",
       " '소/Modifier',\n",
       " '갈다/Verb',\n",
       " '싸우다/Verb',\n",
       " '거리/Noun',\n",
       " '몸/Noun',\n",
       " '식상하다/Adjective',\n",
       " '배/Noun',\n",
       " '자극/Noun',\n",
       " '뛰어나다/Adjective',\n",
       " '화가/Noun',\n",
       " '울/Noun',\n",
       " 'good/Alpha',\n",
       " '난/Josa',\n",
       " '화보/Noun',\n",
       " '만으로도/Josa',\n",
       " '역겹다/Adjective',\n",
       " '감상/Noun',\n",
       " '간/Suffix',\n",
       " '새끼/Noun',\n",
       " '한심하다/Adjective',\n",
       " '관/Noun',\n",
       " '학교/Noun',\n",
       " '헐다/Verb',\n",
       " '고/Noun',\n",
       " 'ost/Alpha',\n",
       " '괜히/Adverb',\n",
       " '씩/Suffix',\n",
       " '자꾸/Noun',\n",
       " '닿다/Verb',\n",
       " '길다/Adjective',\n",
       " '뭐라다/Verb',\n",
       " '아저씨/Noun',\n",
       " ...]"
      ]
     },
     "execution_count": 70,
     "metadata": {},
     "output_type": "execute_result"
    }
   ],
   "source": [
    "selected_words"
   ]
  },
  {
   "cell_type": "code",
   "execution_count": 71,
   "metadata": {},
   "outputs": [],
   "source": [
    "def term_frequency(doc):\n",
    "    return [doc.count(word) for word in selected_words]"
   ]
  },
  {
   "cell_type": "code",
   "execution_count": null,
   "metadata": {},
   "outputs": [],
   "source": [
    "selected_words"
   ]
  },
  {
   "cell_type": "code",
   "execution_count": 72,
   "metadata": {},
   "outputs": [],
   "source": [
    "train_x = [term_frequency(d) for d, _ in train_docs]\n",
    "test_x = [term_frequency(d) for d, _ in test_docs]\n",
    "train_y = [c for _, c in train_docs]\n",
    "test_y = [c for _, c in test_docs]"
   ]
  },
  {
   "cell_type": "code",
   "execution_count": 76,
   "metadata": {},
   "outputs": [],
   "source": [
    "np.save('./data/x_학습용.npy', train_x)\n",
    "np.save('./data/x_검증용.npy', test_x)\n",
    "\n",
    "\n",
    "np.save('./data/y_학습용.npy', train_y)\n",
    "np.save('./data/y_검증용.npy', test_y)"
   ]
  },
  {
   "cell_type": "code",
   "execution_count": null,
   "metadata": {},
   "outputs": [],
   "source": [
    "import numpy as np\n",
    "\n",
    "x_train = np.asarray(train_x).astype('float32')\n",
    "x_test = np.asarray(test_x).astype('float32')\n",
    "\n",
    "y_train = np.asarray(train_y).astype('float32')\n",
    "y_test = np.asarray(test_y).astype('float32')"
   ]
  },
  {
   "cell_type": "code",
   "execution_count": 6,
   "metadata": {},
   "outputs": [],
   "source": [
    "np.save('./data/x_학습용.npy', x_train)\n",
    "np.save('./data/x_검증용.npy', x_test)\n",
    "\n",
    "\n",
    "np.save('./data/y_학습용.npy', y_train)\n",
    "np.save('./data/y_검증용.npy', y_test)"
   ]
  },
  {
   "cell_type": "code",
   "execution_count": 1,
   "metadata": {},
   "outputs": [],
   "source": [
    "import warnings\n",
    "warnings.filterwarnings('ignore')\n",
    "\n",
    "%matplotlib inline\n",
    "import matplotlib.pyplot as plt\n",
    "import numpy as np\n",
    "import pandas as pd\n",
    "plt.rcParams['font.family']='NanumGothicCoding'\n",
    "plt.rcParams['axes.unicode_minus']=False\n",
    "plt.rcParams['figure.dpi']=200\n",
    "%matplotlib inline\n",
    "\n",
    "x_train = np.load('./data/x_학습용.npy')\n",
    "x_test = np.load('./data/x_검증용.npy')\n",
    "\n",
    "y_train = np.load('./data/y_학습용.npy')\n",
    "y_test = np.load('./data/y_검증용.npy')"
   ]
  },
  {
   "cell_type": "code",
   "execution_count": null,
   "metadata": {},
   "outputs": [],
   "source": [
    "from tensorflow.keras import models\n",
    "from tensorflow.keras import layers\n",
    "from tensorflow.keras import optimizers\n",
    "from tensorflow.keras import losses\n",
    "from tensorflow.keras import metrics\n",
    "\n",
    "model = models.Sequential()\n",
    "model.add(layers.Dense(64, activation='relu', input_shape=(10000,)))\n",
    "model.add(layers.Dense(64, activation='relu'))\n",
    "model.add(layers.Dense(1, activation='sigmoid'))\n",
    "\n",
    "model.compile(optimizer=optimizers.RMSprop(lr=0.001),\n",
    "             loss=losses.binary_crossentropy,\n",
    "             metrics=[metrics.binary_accuracy])\n",
    "\n",
    "model.fit(x_train, y_train, epochs=10, batch_size=512)\n",
    "model.save('./data/mv_model.h5')"
   ]
  },
  {
   "cell_type": "code",
   "execution_count": 3,
   "metadata": {},
   "outputs": [
    {
     "name": "stdout",
     "output_type": "stream",
     "text": [
      "1563/1563 [==============================] - 2s 1ms/step - loss: 0.4178 - binary_accuracy: 0.8523\n"
     ]
    }
   ],
   "source": [
    "model.save('./data/mv_model.h5')\n",
    "\n",
    "results = model.evaluate(x_test, y_test)"
   ]
  },
  {
   "cell_type": "code",
   "execution_count": null,
   "metadata": {},
   "outputs": [],
   "source": [
    "from konlpy.tag import Okt\n",
    "import nltk\n",
    "import sys\n",
    "import pandas as pd\n",
    "import os\n",
    "import json\n",
    "import numpy as np\n",
    "okt = Okt()\n",
    "def tokenize(doc):\n",
    "    # norm은 정규화, stem은 근어로 표시하기를 나타냄\n",
    "    return ['/'.join(t) for t in okt.pos(doc, norm=True, stem=True)]\n",
    "\n",
    "if os.path.isfile('./data/train_docs.json'):\n",
    "    with open('./data/train_docs.json', encoding=\"utf-8\") as f:\n",
    "        train_docs = json.load(f)\n",
    "    with open('./data/test_docs.json', encoding=\"utf-8\") as f:\n",
    "        test_docs = json.load(f)\n",
    "else:\n",
    "    train_docs = [(tokenize(row[1]), row[2]) for row in train_data]\n",
    "    test_docs = [(tokenize(row[1]), row[2]) for row in test_data]\n",
    "    # JSON 파일로 저장\n",
    "    with open('./data/train_docs.json', 'w', encoding=\"utf-8\") as make_file:\n",
    "        json.dump(train_docs, make_file, ensure_ascii=False, indent=\"\\t\")\n",
    "    with open('./data/test_docs.json', 'w', encoding=\"utf-8\") as make_file:\n",
    "        json.dump(test_docs, make_file, ensure_ascii=False, indent=\"\\t\")\n",
    "tokens = [t for d in train_docs for t in d[0]]\n",
    "text = nltk.Text(tokens, name='NMSC')\n",
    "selected_words = [f[0] for f in text.vocab().most_common(10000)]\n",
    "from keras.models import load_model\n",
    "model = load_model('./data/mv_model.h5')\n",
    "def tokenize(doc):\n",
    "    # norm은 정규화, stem은 근어로 표시하기를 나타냄\n",
    "    return ['/'.join(t) for t in okt.pos(doc, norm=True, stem=True)]\n",
    "def term_frequency(doc):\n",
    "    return [doc.count(word) for word in selected_words]"
   ]
  },
  {
   "cell_type": "code",
   "execution_count": 27,
   "metadata": {},
   "outputs": [],
   "source": [
    "def predict_pos_neg(review):\n",
    "    token = tokenize(review)\n",
    "    tf = term_frequency(token)\n",
    "    data = np.expand_dims(np.asarray(tf).astype('float32'), axis=0)\n",
    "    score = float(model.predict(data))\n",
    "    if(score > 0.5):\n",
    "#         print(\"[{}]는 {:.2f}% 확률로 긍정 리뷰이지 않을까 추측해봅니다.^^\\n\".format(review, score * 100))\n",
    "        return \"[{}]는 {:.2f}% 확률로 긍정 리뷰이지 않을까 추측해봅니다.^^\\n\".format(review, score * 100)\n",
    "    else:\n",
    "        return \"[{}]는 {:.2f}% 확률로 부정 리뷰이지 않을까 추측해봅니다.^^;\\n\".format(review, (1 - score)* 100)\n",
    "#         print(\"[{}]는 {:.2f}% 확률로 부정 리뷰이지 않을까 추측해봅니다.^^;\\n\".format(review, (1 - score) * 100))"
   ]
  },
  {
   "cell_type": "code",
   "execution_count": 28,
   "metadata": {},
   "outputs": [
    {
     "data": {
      "text/plain": [
       "'[주연배우 때문에 봤어요]는 89.24% 확률로 부정 리뷰이지 않을까 추측해봅니다.^^;\\n'"
      ]
     },
     "execution_count": 28,
     "metadata": {},
     "output_type": "execute_result"
    }
   ],
   "source": [
    "predict_pos_neg(\"올해 최고의 영화! 세 번 넘게 봐도 질리지가 않네요.\")\n",
    "predict_pos_neg(\"배경 음악이 영화의 분위기랑 너무 안 맞았습니다. 몰입에 방해가 됩니다.\")\n",
    "predict_pos_neg(\"주연 배우가 신인인데 연기를 진짜 잘 하네요. 몰입감 ㅎㄷㄷ\")\n",
    "predict_pos_neg(\"믿고 보는 감독이지만 이번에는 아니네요\")\n",
    "predict_pos_neg(\"주연배우 때문에 봤어요\")"
   ]
  },
  {
   "cell_type": "code",
   "execution_count": 29,
   "metadata": {},
   "outputs": [
    {
     "data": {
      "text/plain": [
       "str"
      ]
     },
     "execution_count": 29,
     "metadata": {},
     "output_type": "execute_result"
    }
   ],
   "source": [
    "type(predict_pos_neg(\"주연배우 때문에 봤어요\"))"
   ]
  },
  {
   "cell_type": "code",
   "execution_count": 36,
   "metadata": {},
   "outputs": [
    {
     "data": {
      "text/plain": [
       "['흠/Noun',\n",
       " '.../Punctuation',\n",
       " '포스터/Noun',\n",
       " '보고/Noun',\n",
       " '초딩/Noun',\n",
       " '영화/Noun',\n",
       " '줄/Noun',\n",
       " '..../Punctuation',\n",
       " '오버/Noun',\n",
       " '연기/Noun',\n",
       " '조차/Josa',\n",
       " '가볍다/Adjective',\n",
       " '않다/Verb']"
      ]
     },
     "execution_count": 36,
     "metadata": {},
     "output_type": "execute_result"
    }
   ],
   "source": [
    "train_docs[1][0]"
   ]
  },
  {
   "cell_type": "code",
   "execution_count": null,
   "metadata": {},
   "outputs": [],
   "source": []
  }
 ],
 "metadata": {
  "kernelspec": {
   "display_name": "Python 3",
   "language": "python",
   "name": "python3"
  },
  "language_info": {
   "codemirror_mode": {
    "name": "ipython",
    "version": 3
   },
   "file_extension": ".py",
   "mimetype": "text/x-python",
   "name": "python",
   "nbconvert_exporter": "python",
   "pygments_lexer": "ipython3",
   "version": "3.7.7"
  }
 },
 "nbformat": 4,
 "nbformat_minor": 4
}
