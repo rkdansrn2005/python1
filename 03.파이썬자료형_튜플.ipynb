{
 "cells": [
  {
   "cell_type": "markdown",
   "metadata": {},
   "source": [
    "### 튜플(Tuple) 자료형\n",
    "\n",
    "1. 튜플은 불변한 순서가 있는 객체의 집합이다.\n",
    "2. 리스트자료형과 비슷하지만 한 번 생성이 되면 값을 변경할 수 없다. 즉 list는 수정,삭제 추가가 가능하지만 tuple은 수정 삭제가 불가능한 Immutable자료형이다.\n",
    "3. list는 <code>대괄호[]</code>로 정의하지만 tuple은 <code>소괄호()</code>로 정의한다.\n",
    "4. list와 동일하게 다양한 자료형을 포함할 수 있다.\n",
    "5. 순서가 있기 때문에 인덱스로 접근가능하다.\n",
    "6. tuple 도 <code>더하기 +, 곱하기(*)</code>연산을 할 수 있다.\n",
    "7 tuple은 하나의 원소만 존재하는 경우에 tuple이 되지 않지만 한개의 원소뒤에 컴마(,)를 찍어주면 tuple로 선언된다.\n",
    "8. 함수에서 값을 리턴할 때 tuple을 사용하면 변수를 한꺼번에 할당할 수 있다.\n",
    "\n"
   ]
  },
  {
   "cell_type": "code",
   "execution_count": 9,
   "metadata": {},
   "outputs": [
    {
     "name": "stdout",
     "output_type": "stream",
     "text": [
      "<class 'tuple'>\n",
      "<class 'int'>\n",
      "<class 'tuple'>\n",
      "<class 'tuple'>\n",
      "<class 'tuple'>\n",
      "<class 'tuple'>\n",
      "<class 'tuple'>\n",
      "(1, 2, 3, [1, 2, 3], (1, 2, 3), 'a', <built-in function print>)\n"
     ]
    }
   ],
   "source": [
    "# 1.tuple 선언하는 방법\n",
    "t= () # tuple 초기화, 빈 tuple 객체를 선언\n",
    "print(type(t))\n",
    "\n",
    "t = (6) # 원소가 하나만 있을 경우에는 tuple이 아니라 원소의 자료형이 된다. == int\n",
    "print(type(t))\n",
    "\n",
    "t= (6,)    # 원소가 하나만 있을 경우 tuple로 선언하고 싶다면 뒤에 컴마를 추가한다.\n",
    "print(type(t))\n",
    "\n",
    "t = 6,\n",
    "print(type(t))\n",
    "\n",
    "t = (1,2,3,4,5)\n",
    "print(type(t))\n",
    "\n",
    "t = (1,2,3,4,5,)\n",
    "print(type(t))\n",
    "\n",
    "t = 1,2,3,4,5,  # 원소의 값이 소괄호 없이 컴마로 구분이 되었을 경우에 자료형은 tuple이 된다.\n",
    "print(type(t))\n",
    "\n",
    "# t?\n",
    "t = (1,2,3,[1,2,3],(1,2,3),'a', print) \n",
    "print(t)"
   ]
  },
  {
   "cell_type": "code",
   "execution_count": null,
   "metadata": {},
   "outputs": [],
   "source": [
    "# tuple자료형 수정하기\n",
    "# 2-1) 삭제오류\n",
    "t = (1,2,'a','b')\n",
    "del t[0] # 삭제오류가 발생"
   ]
  },
  {
   "cell_type": "code",
   "execution_count": null,
   "metadata": {},
   "outputs": [],
   "source": [
    "# 2-2) 수정오류\n",
    "t[0] = 'x' # 수정오류"
   ]
  },
  {
   "cell_type": "markdown",
   "metadata": {},
   "source": [
    "#### tuple의 indexing과 slicing\n"
   ]
  },
  {
   "cell_type": "code",
   "execution_count": 12,
   "metadata": {},
   "outputs": [
    {
     "name": "stdout",
     "output_type": "stream",
     "text": [
      "2\n",
      "b\n"
     ]
    }
   ],
   "source": [
    "#1. indexing\n",
    "t =(1,2,'a','b')\n",
    "print(t[1])\n",
    "print(t[3])\n"
   ]
  },
  {
   "cell_type": "code",
   "execution_count": 14,
   "metadata": {},
   "outputs": [
    {
     "name": "stdout",
     "output_type": "stream",
     "text": [
      "(1, 2, 'a', 'b')\n",
      "(2, 'a', 'b')\n",
      "(2, 'a')\n"
     ]
    }
   ],
   "source": [
    "# 2. slicing\n",
    "t = (1,2,'a','b')\n",
    "print(t[:])\n",
    "print(t[1:])\n",
    "print(t[1:3])\n"
   ]
  },
  {
   "cell_type": "code",
   "execution_count": 24,
   "metadata": {},
   "outputs": [
    {
     "name": "stdout",
     "output_type": "stream",
     "text": [
      "(1, 2, 'a', 'b', 3, 4, 'x', 'y')\n"
     ]
    }
   ],
   "source": [
    "# 3. tuple의 연산\n",
    "# 3-1 tuple 더하기(+, 합치기)\n",
    "t1 = (1,2,'a','b')\n",
    "t2 = (3,4,'x','y')\n",
    "t =t1+t2\n",
    "print(t)"
   ]
  },
  {
   "cell_type": "code",
   "execution_count": 19,
   "metadata": {},
   "outputs": [
    {
     "name": "stdout",
     "output_type": "stream",
     "text": [
      "(1, 2, 'a', 'b', 1, 2, 'a', 'b', 1, 2, 'a', 'b')\n"
     ]
    }
   ],
   "source": [
    "# 3-2) tuple곱하기(*,반복하기)\n",
    "print(t1*3)"
   ]
  },
  {
   "cell_type": "code",
   "execution_count": 23,
   "metadata": {},
   "outputs": [
    {
     "name": "stdout",
     "output_type": "stream",
     "text": [
      "1 10\n",
      "4 3 2 1\n",
      "고구마 감자\n"
     ]
    }
   ],
   "source": [
    "# 3-3) tuple을 이용한 일괄로 변수에 값을 할당하기 \n",
    "def minmax(t):\n",
    "    return min(t), max(t)\n",
    "\n",
    "# a. 복수의 리턴결과값으로 할당\n",
    "lower, upper = minmax([4,5,1,3,6,8,10,9])\n",
    "print(lower, upper)\n",
    "\n",
    "\n",
    "# b. tuple속에 tuple을 이용한 할당\n",
    "(a, (b,(c,d)))=(4,(3,(2,1)))\n",
    "print(a,b,c,d)\n",
    "\n",
    "# c. 변수의 선언순서를 이용한 할당\n",
    "x='감자'\n",
    "y='고구마'\n",
    "x,y= y,x\n",
    "print(x,y)"
   ]
  },
  {
   "cell_type": "code",
   "execution_count": null,
   "metadata": {},
   "outputs": [],
   "source": []
  },
  {
   "cell_type": "code",
   "execution_count": null,
   "metadata": {},
   "outputs": [],
   "source": []
  },
  {
   "cell_type": "code",
   "execution_count": null,
   "metadata": {},
   "outputs": [],
   "source": []
  },
  {
   "cell_type": "code",
   "execution_count": null,
   "metadata": {},
   "outputs": [],
   "source": []
  },
  {
   "cell_type": "code",
   "execution_count": null,
   "metadata": {},
   "outputs": [],
   "source": []
  },
  {
   "cell_type": "code",
   "execution_count": null,
   "metadata": {},
   "outputs": [],
   "source": []
  },
  {
   "cell_type": "code",
   "execution_count": null,
   "metadata": {},
   "outputs": [],
   "source": []
  },
  {
   "cell_type": "code",
   "execution_count": null,
   "metadata": {},
   "outputs": [],
   "source": []
  },
  {
   "cell_type": "code",
   "execution_count": null,
   "metadata": {},
   "outputs": [],
   "source": []
  },
  {
   "cell_type": "code",
   "execution_count": null,
   "metadata": {},
   "outputs": [],
   "source": []
  },
  {
   "cell_type": "code",
   "execution_count": null,
   "metadata": {},
   "outputs": [],
   "source": []
  },
  {
   "cell_type": "code",
   "execution_count": null,
   "metadata": {},
   "outputs": [],
   "source": []
  },
  {
   "cell_type": "code",
   "execution_count": null,
   "metadata": {},
   "outputs": [],
   "source": []
  },
  {
   "cell_type": "code",
   "execution_count": null,
   "metadata": {},
   "outputs": [],
   "source": []
  }
 ],
 "metadata": {
  "kernelspec": {
   "display_name": "Python 3",
   "language": "python",
   "name": "python3"
  },
  "language_info": {
   "codemirror_mode": {
    "name": "ipython",
    "version": 3
   },
   "file_extension": ".py",
   "mimetype": "text/x-python",
   "name": "python",
   "nbconvert_exporter": "python",
   "pygments_lexer": "ipython3",
   "version": "3.7.6"
  }
 },
 "nbformat": 4,
 "nbformat_minor": 4
}
