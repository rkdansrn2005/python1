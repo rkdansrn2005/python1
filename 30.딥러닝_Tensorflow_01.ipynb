{
 "cells": [
  {
   "cell_type": "markdown",
   "metadata": {},
   "source": [
    "### Tensorflow\n",
    "\n",
    "* 홈페이지 : http://www.tensorflow.org\n",
    "* 구글에서 만든 오픈소스 머신러닝 프레임웍\n",
    "* 다양한 언어를 제공하며 파이썬이 가장 많이 사용됨\n",
    "* 2020년 5월 현재 최신버전은 2.0\n",
    "\n",
    "#### 1. Tensorflow 설치\n",
    "* pip install tensorflow==1.13.1 \n",
    "\n",
    "#### 2. Tensorflow의 기본문법\n",
    "\n",
    " 기본적으로 텐서를 활용한 그래프 수치연산을 하는 도구\n",
    "* 수학적인 의미에서의 그래프 : 노드와 엣지로 구성된 기하모형\n",
    "* `노드(Node)` : 연산 및 데이터를 정의하는 것\n",
    "* `엣지(edge)` : 노드들을 연결하는 것(데이터의 흐름)\n",
    "* `텐서(tensor)` : 다차원 데이터 배열\n",
    "* `텐서플로` : 텐서라 노드에서 연산되고 엣지를 통해 돌아 다니는 것 \n",
    "<img src=\"./images/30.딥러닝_TensorFlow_01.JPG\" width=\"350\" height=\"300\">\n",
    "\n",
    "#### 3. 텐서플로우 용어\n",
    ">* Rank : 차원 수,\n",
    "* Shape : 배열 구조,\n",
    "* Rank와 Shape에 따른 n차원 배열\n",
    " - Scalar : single number (rank 0), shape = ()\n",
    " - Vector : 1-dim array (rank 1), shape = (d0)\n",
    " - Matrix : 2-dim array (rank 2), shape = (d0, d1)\n",
    " - Tensor : n-dim array (rank n), shape = (d0, d1, …, dn-1)\n",
    " \n",
    "#### 4. Tensorflow의 기본문법\n",
    "\n",
    "##### 1) Session\n",
    " * 그래프를 만드는 작업(실행하는 것은 아님) :\n",
    "  - `노드로 연산 및 데이터를 정의하고 코드 흐름으로 엣지를 구성함`\n",
    " * 그래프를 만든 후 Session을 생성하여 실행을 시켜야 그래프의 시작점부터 모즌 연산을 하게되고 동작을 하게 됨\n",
    " * session을 실행시키면 엣지를 통해 데이터들이 출력됨\n",
    " * 그래프를 만들고(모델링) Session을 만들어 실행시켜야 노드가 엣지를 타고 이동하면서 원하는 형태로 코드가 실행된다.\n",
    "\n",
    " > sess = tf.Session()<br>\n",
    " > sess.run(실행할 코드)<br>\n",
    " > with tf.Session as sess:<br>\n",
    "\n",
    "##### 2) Fetch : 코드에서 데이터 값을 미리 정하는 것\n",
    "\n",
    "* `Feed` : `placeholder`등을 통해 데이터값 없이 구조를 만들고 세션을 실행할 경우 `feed_dict`를통해 데이터를 전달\n",
    "* `placeholder` : 노드에 들어갈 데이터의 형식을 미리 정해 놓은 형태\n",
    ">input01 = tf.placeholder(tf.float32)\n",
    "\n",
    "##### 3) 변수와 상수\n",
    "\n",
    "* `variable` : 학습시키면서 최적화하는 변수의 용도로 사용됨 `학습과정에서 지속적으로 바뀔 수 있는 중요한 값`\n",
    "* `constant` : 상수\n",
    "* 변수의 선언\n",
    " >tf.Variable(초기값, 타입)\n",
    "* 변수의 초기화\n",
    " >* tf.global_variables_initializer()를 통해 초기화 할 수 있음\n",
    " * 변수는 반드시 초기화를 해야 함\n",
    " * 초기화는 노드에 값을 입력한다는 의미\n",
    " \n",
    "##### 4) 텐서플로의 자료형\n",
    "\n",
    " - tf.float16 : 표준16비트 부동소수점\n",
    " - tf.float32 : 표준32비트 부동소수점\n",
    " - tf.float64 : 표준64비트 부동소수점\n",
    " - tf.bfloat16 : 텐서플로만의 16비트 truncated 부동소수점\n",
    " - tf.complex64 : 표준 64비트 복소수\n",
    " - tf.complex128 : 표준 128비트 복소수\n",
    " - tf.int8 : 표준 8비트 정수\n",
    " - tf.uint8 : 표준 8비트 무부호정수(양수정수)\n",
    " - tf.uint16 : 표준 16비트 무부호정수(양수정수)\n",
    " - tf.int16 : 표준 16비트 정수\n",
    " - tf.int32 : 표준 32비트 정수\n",
    " - tf.int64 : 표준 64비트 정수\n",
    " - tf.bool : Boolean,\n",
    " - tf.string : 문자열 \n",
    " - tf.qint8 : 텐서플로만의 Quantized 8비트정수\n",
    " - tf.quint8 : 텐서플로만의 Quantized 8비트 무부로정수(양수)\n",
    " - tf.qint16 : 텐서플로만의 Quantized 16비트정수\n",
    " - tf.quint16 : 텐서플로만의 Quantized 16비트 무부로정수(양수),\n",
    " - tf.qint32 : 텐서플로만의 Quantized 32비트정수"
   ]
  },
  {
   "cell_type": "code",
   "execution_count": 1,
   "metadata": {},
   "outputs": [
    {
     "name": "stderr",
     "output_type": "stream",
     "text": [
      "C:\\Anaconda3\\lib\\site-packages\\tensorflow\\python\\framework\\dtypes.py:516: FutureWarning: Passing (type, 1) or '1type' as a synonym of type is deprecated; in a future version of numpy, it will be understood as (type, (1,)) / '(1,)type'.\n",
      "  _np_qint8 = np.dtype([(\"qint8\", np.int8, 1)])\n",
      "C:\\Anaconda3\\lib\\site-packages\\tensorflow\\python\\framework\\dtypes.py:517: FutureWarning: Passing (type, 1) or '1type' as a synonym of type is deprecated; in a future version of numpy, it will be understood as (type, (1,)) / '(1,)type'.\n",
      "  _np_quint8 = np.dtype([(\"quint8\", np.uint8, 1)])\n",
      "C:\\Anaconda3\\lib\\site-packages\\tensorflow\\python\\framework\\dtypes.py:518: FutureWarning: Passing (type, 1) or '1type' as a synonym of type is deprecated; in a future version of numpy, it will be understood as (type, (1,)) / '(1,)type'.\n",
      "  _np_qint16 = np.dtype([(\"qint16\", np.int16, 1)])\n",
      "C:\\Anaconda3\\lib\\site-packages\\tensorflow\\python\\framework\\dtypes.py:519: FutureWarning: Passing (type, 1) or '1type' as a synonym of type is deprecated; in a future version of numpy, it will be understood as (type, (1,)) / '(1,)type'.\n",
      "  _np_quint16 = np.dtype([(\"quint16\", np.uint16, 1)])\n",
      "C:\\Anaconda3\\lib\\site-packages\\tensorflow\\python\\framework\\dtypes.py:520: FutureWarning: Passing (type, 1) or '1type' as a synonym of type is deprecated; in a future version of numpy, it will be understood as (type, (1,)) / '(1,)type'.\n",
      "  _np_qint32 = np.dtype([(\"qint32\", np.int32, 1)])\n",
      "C:\\Anaconda3\\lib\\site-packages\\tensorflow\\python\\framework\\dtypes.py:525: FutureWarning: Passing (type, 1) or '1type' as a synonym of type is deprecated; in a future version of numpy, it will be understood as (type, (1,)) / '(1,)type'.\n",
      "  np_resource = np.dtype([(\"resource\", np.ubyte, 1)])\n"
     ]
    },
    {
     "name": "stdout",
     "output_type": "stream",
     "text": [
      "3.7.6 (default, Jan  8 2020, 20:23:39) [MSC v.1916 64 bit (AMD64)]\n",
      "1.14.0\n"
     ]
    },
    {
     "name": "stderr",
     "output_type": "stream",
     "text": [
      "C:\\Anaconda3\\lib\\site-packages\\tensorboard\\compat\\tensorflow_stub\\dtypes.py:541: FutureWarning: Passing (type, 1) or '1type' as a synonym of type is deprecated; in a future version of numpy, it will be understood as (type, (1,)) / '(1,)type'.\n",
      "  _np_qint8 = np.dtype([(\"qint8\", np.int8, 1)])\n",
      "C:\\Anaconda3\\lib\\site-packages\\tensorboard\\compat\\tensorflow_stub\\dtypes.py:542: FutureWarning: Passing (type, 1) or '1type' as a synonym of type is deprecated; in a future version of numpy, it will be understood as (type, (1,)) / '(1,)type'.\n",
      "  _np_quint8 = np.dtype([(\"quint8\", np.uint8, 1)])\n",
      "C:\\Anaconda3\\lib\\site-packages\\tensorboard\\compat\\tensorflow_stub\\dtypes.py:543: FutureWarning: Passing (type, 1) or '1type' as a synonym of type is deprecated; in a future version of numpy, it will be understood as (type, (1,)) / '(1,)type'.\n",
      "  _np_qint16 = np.dtype([(\"qint16\", np.int16, 1)])\n",
      "C:\\Anaconda3\\lib\\site-packages\\tensorboard\\compat\\tensorflow_stub\\dtypes.py:544: FutureWarning: Passing (type, 1) or '1type' as a synonym of type is deprecated; in a future version of numpy, it will be understood as (type, (1,)) / '(1,)type'.\n",
      "  _np_quint16 = np.dtype([(\"quint16\", np.uint16, 1)])\n",
      "C:\\Anaconda3\\lib\\site-packages\\tensorboard\\compat\\tensorflow_stub\\dtypes.py:545: FutureWarning: Passing (type, 1) or '1type' as a synonym of type is deprecated; in a future version of numpy, it will be understood as (type, (1,)) / '(1,)type'.\n",
      "  _np_qint32 = np.dtype([(\"qint32\", np.int32, 1)])\n",
      "C:\\Anaconda3\\lib\\site-packages\\tensorboard\\compat\\tensorflow_stub\\dtypes.py:550: FutureWarning: Passing (type, 1) or '1type' as a synonym of type is deprecated; in a future version of numpy, it will be understood as (type, (1,)) / '(1,)type'.\n",
      "  np_resource = np.dtype([(\"resource\", np.ubyte, 1)])\n"
     ]
    }
   ],
   "source": [
    "import tensorflow as tf\n",
    "import sys\n",
    "print(sys.version)\n",
    "print(tf.__version__)"
   ]
  },
  {
   "cell_type": "markdown",
   "metadata": {},
   "source": [
    "### 텐서플로우 문법"
   ]
  },
  {
   "cell_type": "code",
   "execution_count": 2,
   "metadata": {},
   "outputs": [
    {
     "name": "stdout",
     "output_type": "stream",
     "text": [
      "Tensor(\"Const:0\", shape=(), dtype=string)\n",
      "Tensor(\"Const_1:0\", shape=(), dtype=int32) Tensor(\"Const_2:0\", shape=(), dtype=int32) Tensor(\"Add:0\", shape=(), dtype=int32)\n",
      "b'Hello Tensorflow'\n",
      "Hello Tensorflow\n",
      "[10, 10, 20]\n"
     ]
    }
   ],
   "source": [
    "# 상수선언\n",
    "hello = tf.constant(\"Hello Tensorflow\")\n",
    "print(hello)\n",
    "# 이 때에는 출력이 되지 않음 (텐서플로우 자료형의 정보만 출력된다. 즉, 그래프 형태만 출력)\n",
    "# Session객체를 만들고 run()메서드를 호출해야 처리가 된다.\n",
    "# 텐서플로우는 모델구성(선언)단계와 실행단계가 구분이 된다.\n",
    "\n",
    "x = tf.constant(10)\n",
    "y = tf.constant(10)\n",
    "z = tf.add(x,y) # x+y -> z\n",
    "print(x,y,z)\n",
    "\n",
    "# 상기에서 정의한 그래프를 실행할 세션을 생성\n",
    "sess =tf.Session()\n",
    "\n",
    "# sess.run() : 텐서그래프(변수,식)를 진행\n",
    "# 문자열 unicode가 기본이기 때문에 str()함수로 encoding을 해야 byte가 아닌 unicode로 변환\n",
    "print(sess.run(hello)) # 텐서플로우는 기본이 byte타입\n",
    "print(str(sess.run(hello),encoding=\"utf-8\"))\n",
    "print(sess.run([x,y,z]))\n",
    "\n",
    "# 세션을 종료\n",
    "sess.close()"
   ]
  },
  {
   "cell_type": "code",
   "execution_count": 3,
   "metadata": {},
   "outputs": [
    {
     "name": "stdout",
     "output_type": "stream",
     "text": [
      "20.0\n"
     ]
    }
   ],
   "source": [
    "# with문을 이용해서 sess을 자동 종료\n",
    "a = tf.constant(10.0)\n",
    "b = tf.constant(10.0)\n",
    "c = tf.add(a,b)\n",
    "with tf.Session() as sess:\n",
    "    print(sess.run(c))"
   ]
  },
  {
   "cell_type": "markdown",
   "metadata": {},
   "source": [
    "##### 2. placeholder(그래프의 입력변수)"
   ]
  },
  {
   "cell_type": "code",
   "execution_count": 4,
   "metadata": {},
   "outputs": [
    {
     "name": "stdout",
     "output_type": "stream",
     "text": [
      "200.0\n",
      "300.0\n",
      "[400.]\n",
      "[ 500. 1200. 2100.]\n"
     ]
    }
   ],
   "source": [
    "# 1. placeholder\n",
    "a = tf.placeholder(dtype=tf.float32)# 저장소만 만들어 놓는 것 \n",
    "b = tf.placeholder(tf.float32)\n",
    "c = tf.multiply(a,b)# multiply : 곱셈행렬이 아니라 하나의 변수기 때문에 multiply사용  # matmul 행렬곱\n",
    "with tf.Session() as sess:\n",
    "#     print(sess.run(c)) # 변수가 초기화 되지 않고 타입만 선언햇기 때문에 에러 발생\n",
    "     # 변수값을 설정하기 위해서는 feed_dic={}옵션을 사용하여 데이터를 입력\n",
    "    print(sess.run(c,feed_dict={a:10,b:20}))\n",
    "    print(sess.run(c,feed_dict={a:10,b:30.0}))\n",
    "    print(sess.run(c,feed_dict={a:[10.0],b:[40.0]}))\n",
    "#     print(sess.run(c,feed_dict={a:10,b:30.0}))\n",
    "    print(sess.run(c, feed_dict={a:[10,20,30],b:[50,60,70]}))\n"
   ]
  },
  {
   "cell_type": "code",
   "execution_count": null,
   "metadata": {},
   "outputs": [
    {
     "name": "stdout",
     "output_type": "stream",
     "text": [
      "[0.3        0.6        0.90000004 1.2       ]\n",
      "<class 'numpy.ndarray'>\n"
     ]
    }
   ],
   "source": [
    "# 2. Variable : 변수선언\n",
    "W = tf.Variable([.3], dtype=tf.float32)\n",
    "b = tf.Variable([-.3], dtype=tf.float32)\n",
    "x = tf.placeholder(tf.float32)\n",
    "y = tf.multiply(W,x) # y = Wx+b\n",
    "\n",
    "# 변수를 초기화\n",
    "\n",
    "init = tf.global_variables_initializer()\n",
    "with tf.Session() as sess:\n",
    "    sess.run(init)\n",
    "    # linear_model : y = wx + b 선형 회귀 분석\n",
    "    result = sess.run(y, feed_dict={x:[1,2,3,4]})\n",
    "    \n",
    "print(result)\n",
    "print(type(result))"
   ]
  },
  {
   "cell_type": "code",
   "execution_count": null,
   "metadata": {},
   "outputs": [],
   "source": [
    "# 3. placeholder와 변수의 개념\n",
    "# tf.placeholder는 계산을 실행할 때 입력값을 전달받는 변수\n",
    "# None이라는 의미는 : 크기가 정해지지 않았음을 의미한다.\n",
    "\n",
    "X = tf.placeholder(tf.float32,[None,3])\n",
    "print(X)\n",
    "\n",
    "# placeholder X에 전달할 값 : 2차원자료 즉 2행,3열의 값\n",
    "x_data = [[1,2,3],[4,5,6]]\n",
    "print(x_data)\n",
    "\n",
    "# tf.Variable(): 그래프를 계산하면서 전달(최적화)할 변수\n",
    "W = tf.Variable(tf.random_normal([3,2])) # 3행 2열\n",
    "b = tf.Variable(tf.random_normal([2,1])) # 2행 1열\n",
    "print(W)\n",
    "print(b)\n",
    "\n",
    "# 입력된 값과 변수들을 계산할 수식(그래프)을 작성\n",
    "# tf.matmul() : 행렬곱셈, mat로 시작하는 함수는 행렬 연산과 관련된 함수이다.\n",
    "y= tf.matmul(X,W)+ b\n",
    "init= tf.global_variables_initializer()\n",
    "\n",
    "with tf.Session() as sess:\n",
    "    sess.run(init)\n",
    "    print(sess.run(W))\n",
    "    print(sess.run(b))\n",
    "    print(sess.run(y, feed_dict={X:x_data}))"
   ]
  },
  {
   "cell_type": "markdown",
   "metadata": {},
   "source": [
    "##### 실습 1. 회귀분석 : 전기 생산량과 소비량\n"
   ]
  },
  {
   "cell_type": "code",
   "execution_count": null,
   "metadata": {},
   "outputs": [],
   "source": [
    "# 월별 전기생산금액(단위 : 억원)\n",
    "x = [3.52,2.58,3.31,4.07,4.62,3.98,4.29,4.83,3.71,4.61,3.90,3.20]\n",
    "# 월별 전기사용량(단위 : 백만kwh)\n",
    "y = [2.48,2.27,2.47,2.77,2.98,3.05,3.18,3.46,3.03,3.25,2.67,2.53]"
   ]
  },
  {
   "cell_type": "code",
   "execution_count": null,
   "metadata": {},
   "outputs": [],
   "source": [
    "# 가중치(weight)와 절편(bias) # 가중치 기울기 , 절편 시작점\n",
    "# tf.random_uniform(변수의 형태,최소값,최대값) : \n",
    "# 최소.-1.0 ~ 최대 1.0사이의 값을 무작위 생성\n",
    "# name : 값의 변화를 추적하거나 살펴보기 쉽게 하기 위해 이름을 부여\n",
    "weight = tf.Variable(tf.random_uniform([1],-1.0,1.0),name=\"weight\")\n",
    "bias = tf.Variable(tf.random_uniform([1],-1.0,1.0),name=\"bias\")\n",
    "\n",
    "# 데이터를 저장할 placeholder 선언\n",
    "X = tf.placeholder(dtype=tf.float32,name='X')\n",
    "Y = tf.placeholder(dtype=tf.float32,name='Y')"
   ]
  },
  {
   "cell_type": "code",
   "execution_count": null,
   "metadata": {},
   "outputs": [],
   "source": [
    "# 파라미터설정\n",
    "learning_rate =0.01 # 학습률\n",
    "epochs = 1000 # 학습단계\n",
    "step_display = 50# 진행상태를 출력할 단계"
   ]
  },
  {
   "cell_type": "markdown",
   "metadata": {},
   "source": [
    "### 손실(비용)함수\n",
    "#### 오차의 합\n",
    ">### $$오차의 합 = \\sum_{i=1}^{n}(p_i-y_i)^2 $$\n",
    "\n",
    "#### 평균제곱오차(MSE, Mean Squared Error)\n",
    ">### $$MSE = \\frac{1}{\\sum_{i=1}^{n}(p_i - y_i)^2$$\n",
    "\n",
    "#### 평균 제곱근오차RMSE,Root Mean Squared Error)\n",
    ">### $$RMSE = \\sqrt{\\frac{1}{n}\\sum_{i=1}^{n}(p_i - y_i)^2}$$"
   ]
  },
  {
   "cell_type": "code",
   "execution_count": null,
   "metadata": {},
   "outputs": [],
   "source": [
    "# X와 Y의 상관관계를 분석하기 위해서 회귀모델을 만듬\n",
    "# y = w*x+b\n",
    "# W와 x가 행열이 아니기 때문에 행렬곱(tf.matmul)이 아니라 기본곱셈연산을 수행\n",
    "h0 = weight*X+b\n",
    "\n",
    "# 예측 : \n",
    "# MSE 평균 제곱 오차\n",
    "# RMSE 평균 제곱근 오차\n",
    "y_pred =tf.add(tf.multiply(weight,X),bias)\n",
    "\n",
    "#손실(비용)함수 : 예측값과 실제값의 거리를 계산하는 함수\n",
    "# 비용을 최소화 시키는 함수 : RMSE(평균제곱근오차)\n",
    "cost = tf.reduce_mean(tf.square(y_pred-y)) # 비용을 최소화 시키는 함수\n",
    "\n",
    "# 학습 : AdamOptimizer : 현재 가장 성능이 뛰어난 알고리즘\n",
    "optimizer = tf.train.AdamOptimizer(learning_rate).minimize(cost)"
   ]
  },
  {
   "cell_type": "code",
   "execution_count": null,
   "metadata": {},
   "outputs": [],
   "source": [
    "# 변수 초기화\n",
    "init = tf.global_variables_initializer()\n",
    "sess = tf.Session()\n",
    "sess.run(init)\n"
   ]
  },
  {
   "cell_type": "code",
   "execution_count": null,
   "metadata": {},
   "outputs": [],
   "source": [
    "# optimizer와 cost를 텐서그래프에 적용\n",
    "# 계산에 필요한 값은 feed_dict를 통해 전달\n",
    "# placeholder인 X,Y에 데이터를 연속적으로 전달할 자료를 작성\n",
    "# cost계산 : 정해진 데이터셋에서 한 샘플씩 불러와서 cost를 계산\n",
    "# optimizer계산 : cost로 부터 error를 계산한 후 모델에 대한 편미분을 자동으로 \n",
    "#   계산해주는 과정을 이용하여 모델 W, b를 수정\n",
    "for epoch in range(epochs):\n",
    "    _, cost_val = sess.run([optimizer,cost],feed_dict={X:x,Y:y})\n",
    "    if(epoch+1)%step_display==0:\n",
    "        print(\"학습단계 : {0}, 손실 : {1}, 가중치 {2}, 절편 {3}\".\n",
    "              format(epoch+1,cost_val,sess.run(weight),sess.run(bias)))"
   ]
  },
  {
   "cell_type": "code",
   "execution_count": null,
   "metadata": {},
   "outputs": [],
   "source": [
    "training_cost =sess.run(cost,feed_dict={X:x,Y:y})\n",
    "print('최종손실 = ', cost_val)\n",
    "print(\"예측정확도 = \",100-cost_val)\n",
    "print(\"최종기울기(가중치)\",sess.run(weight))\n",
    "print(\"최종절편 = \",sess.run(bias))"
   ]
  },
  {
   "cell_type": "code",
   "execution_count": null,
   "metadata": {},
   "outputs": [],
   "source": [
    "# 최적화가 완료된 모델에 테스트값을 넣어서 겨로가를 확인\n",
    "print(\"X() 전기생산 금액), Y(예측전기소비량)\",sess.run(h0,feed_dict={X:5}))\n",
    "print(\"X(전기생산금액), Y(예측전기소비량)\" ,sess.run(h0, feed_dict={X:2.5}))\n"
   ]
  },
  {
   "cell_type": "code",
   "execution_count": null,
   "metadata": {},
   "outputs": [],
   "source": [
    "import matplotlib.pyplot as plt\n",
    "# 시각화\n",
    "plt.plot(x,y,'ro')\n",
    "plt.plot(x, sess.run(weight)*x+sess.run(bias))\n",
    "plt.xlabel(\"전기생산량\")\n",
    "plt.ylabel('전기소비량')\n",
    "plt.show()"
   ]
  },
  {
   "cell_type": "code",
   "execution_count": null,
   "metadata": {},
   "outputs": [],
   "source": [
    "# 세션을 종료\n",
    "sess.close()"
   ]
  },
  {
   "cell_type": "markdown",
   "metadata": {},
   "source": [
    "###### 실습 2. MNIST실습\n",
    "\n",
    "숫자를 손글씨로 쓴 이미지 데이터 셋\n",
    "* 다운로드 : * http://yann.lecun.com/exdb/mnist\n",
    "\n",
    "* 숫자를 손글씨로 쓴 이미지 데이터 셋\n",
    "<img src=\"./images/30.딥러닝_Tensorflow_02_02.JPG\" width=500 height=500>\n",
    ">* 6만개의 학습용 데이터와 1만개의 검증용 데이터로 구성\\n\",\n",
    "* train-images-idx3-ubyte.gz:  training set images (9912422 bytes)\n",
    "* train-labels-idx1-ubyte.gz:  training set labels (28881 bytes)\n",
    "* t10k-images-idx3-ubyte.gz:   test set images (1648877 bytes)\n",
    "* t10k-labels-idx1-ubyte.gz:   test set labels (4542 bytes)\n",
    "<img src=\"./images/30.딥러닝_Tensorflow_02_03.JPG\" width=\"500\" height=\"500\">\n",
    "* mnist.train.images파일은 `[55000, 764]의 형태`를 가진 텐서(n차원배열 임(이미지갯수, 이미지의 픽셀\n",
    "\n",
    "##### 경사하강법(GD,GRADIENT descent)\n",
    "<img src=\"./images/30.딥러닝_Tensorflow_02_04.JPG\" width=\"500\" height=\"500\">\"\n",
    "##### 배치경사하강법(BGD, Batch Gradient Descen)\n",
    "<img src=\"./images/30.딥러닝_Tensorflow_02_05.JPG\" width=\"500\" height=\"500\">\"\n",
    "\n",
    "##### 확률적 경사하강법(SGD,Stochastic Gradient Descent)\n",
    "<img src=\"./images/30.딥러닝_Tensorflow_02_06.JPG\" width=\"500\" height=\"500\">\"\n"
   ]
  },
  {
   "cell_type": "code",
   "execution_count": null,
   "metadata": {},
   "outputs": [],
   "source": [
    "# MNIST(손글씨 이미지 숫자 인식)를 신경망으로 실습\n",
    "from tensorflow.examples.tutorials.mnist import input_data\n",
    "# 텐서플로우에 기본 내장된 Mnist모듈을 이용하여 데이터를 로드\n",
    "# 지정한 폴더에 MNIST데이터가 없을 경우 자동으로 데이터를 다운로드한다.\n",
    "# one_hot옵션은 label 데이터셋을 만들 때, label을 one-hot방식으로 처리할지 여부를 결정\n",
    "# one_hot의 기본값은 False기 때문에 실습에서는 반드시 True로 할 것 \n",
    "# 데이터가 one_hot 형식으로 출력이 되면 별도로 처리하는 시점에서 별도로 변환하지 않아도 되기 때문에 편리하다.\n",
    "\n",
    "mnist = input_data.read_data_sets(\"../data/deeplearning/mnist/\",one_hot=True)"
   ]
  },
  {
   "cell_type": "markdown",
   "metadata": {},
   "source": [
    "### Cross Entropy Error(CEE, 손실함수)\n",
    ">### $$E = -\\\\sum_{i=1}^{n}{p_i}{log(y_i)}$$"
   ]
  },
  {
   "cell_type": "code",
   "execution_count": null,
   "metadata": {},
   "outputs": [],
   "source": [
    "# 변수선언\n",
    "x= tf.placeholder(tf.float32,[None,784]) # 이미지 28 x 28 = 784\n",
    "\n",
    "# [이미지 픽셀, 출력값]\n",
    "W = tf.Variable(tf.zeros([784,10]))\n",
    "b = tf.Variable(tf.zeros([10]))\n",
    "y = tf.nn.softmax(tf.matmul(x,W)+b)\n",
    "\n",
    "# 손실함수 : cross_entropy 모델설정(손실을 최소화 시키는 함수)\n",
    "y_ = tf.placeholder(tf.float32,[None,10])\n",
    "cross_entropy = tf.reduce_mean(-tf.reduce_sum(y_*tf.log(y),reduction_indices=[1]))\n",
    "\n",
    "# 학습비율을 0.5로 설정\n",
    "train_step = tf.train.GradientDescentOptimizer(0.5).minimize(cross_entropy)\n",
    "\n",
    "# 경사하강법으로 모델을 학습\n",
    "# 텐서플로우가 각 각의 변수를 비용을 최소화시키는 방향으로 조금씩 이동 시키는 방법\n",
    "init =tf.global_variables_initializer()\n",
    "sess = tf.Session()\n",
    "sess.run(init)"
   ]
  },
  {
   "cell_type": "code",
   "execution_count": null,
   "metadata": {},
   "outputs": [],
   "source": [
    "# 학습(1000)\n",
    "for i in range(1000):\n",
    "    # 무작위로 100개씩 이미지를 추출해서 학습\n",
    "    batch_xs, batch_ys= mnist.train.next_batch(100)\n",
    "    sess.run(train_step, feed_dict={x:batch_xs,y_:batch_ys})"
   ]
  },
  {
   "cell_type": "code",
   "execution_count": null,
   "metadata": {},
   "outputs": [],
   "source": [
    "# 모델의 정확도 \n",
    "# tf.argmax() : 가장 큰 값이 있는 위치를 리턴\n",
    "# tf.argmax(y,1) : 예측라벨 즉, 가장 증거값이 큰 라벨\n",
    "# tf.argmax(y_,1) : 실제 라벨\n",
    "correct_prediction = tf.equal(tf.argmax(y,1),tf.argmax(y_,1))\n",
    "\n",
    "# boolean리스트를 float로 변환한 후 평균값을 계산 = 예측율\n",
    "accuracy = tf.reduce_mean(tf.cast(correct_prediction,tf.float32))\n",
    "print(sess.run(accuracy,feed_dict={x:mnist.test.images,y_:mnist.test.labels}))"
   ]
  },
  {
   "cell_type": "code",
   "execution_count": null,
   "metadata": {},
   "outputs": [],
   "source": [
    "print('훈련용 이미지 갯수 : ',len(mnist.train.images))#이미지의 총 갯수\n",
    "print('훈련용 이미지 라벨 : ',mnist.train.num_examples)#이미지의 정답\n",
    "print(mnist.train.images[0].shape)"
   ]
  },
  {
   "cell_type": "code",
   "execution_count": null,
   "metadata": {},
   "outputs": [],
   "source": [
    "# 시각화\n",
    "n,m = 28,28\n",
    "def convertlist(img):\n",
    "    a = np.array(mnist.train.images[img]) # 1차원 배열로 만듬\n",
    "    b = a.reshape(n,m)  # 2차원 배열로 28x28로 변환\n",
    "#     plt.imshow(b,cmap='Reds')\n",
    "    plt.imshow(b)\n",
    "    plt.show()\n",
    "# convertlist(3)\n",
    "startImage = 10000\n",
    "\n",
    "for i in range(10000,10003):\n",
    "    convertlist(i)"
   ]
  },
  {
   "cell_type": "markdown",
   "metadata": {},
   "source": [
    "### 인공신경망 실습"
   ]
  },
  {
   "cell_type": "code",
   "execution_count": null,
   "metadata": {},
   "outputs": [],
   "source": [
    "from tensorflow.examples.tutorials.mnist import input_data\n",
    "# one_hot=False로 설정할 것\n",
    "mnist = input_data.read_data_sets(\"../data/deeplearning/mnist/\", one_hot=False)"
   ]
  },
  {
   "cell_type": "code",
   "execution_count": null,
   "metadata": {},
   "outputs": [],
   "source": [
    "# 학습파라미터설정\n",
    "learning_rate =0.1\n",
    "num_steps = 1000\n",
    "batch_size =128\n",
    "display_step = 100\n",
    "\n",
    "# 인공신경망\n",
    "n_hidden_1 = 256 # 첫번째 은닉층의 뉴런 갯수\n",
    "n_hidden_2 = 256 # 두번째 은닉층의 뉴런 갯수\n",
    "num_input = 784 # MNIST input data (img shape 784 = 28x28)\n",
    "num_classes = 10 # MNIST total classes(0~9의 숫자)"
   ]
  },
  {
   "cell_type": "code",
   "execution_count": null,
   "metadata": {},
   "outputs": [],
   "source": [
    "# 인공 신경망 설정함수\n",
    "def neural_net(x_dict):\n",
    "    x = x_dict['images']\n",
    "    # 첫번째 은닉층 \n",
    "    layer_1 = tf.layers.dense(x,n_hidden_1) # 첫번째 은닉층\n",
    "    layer_2 = tf.layers.dense(layer_1,n_hidden_2) # 두번째 은닉층\n",
    "    out_layer= tf.layers.dense(layer_2,num_classes)# 출력층\n",
    "    return out_layer\n",
    "    \n",
    "    \n",
    "# # 인공신경망 모델 생성\n",
    "# def model_fn(feature,labels,mode):\n",
    "#     logits= neural_net(feature) # 인공신경망 생성\n",
    "    \n",
    "#     # 예측\n",
    "#     pred_classes=tf.argmax(logit,axis=1)\n",
    "#     pred_probas =tf.nn.softmax(logits)\n",
    "    \n",
    "#     # 예측모드일 경우 리턴\n",
    "#     if mode == tf.estimator.ModeKeys.PREDICT:\n",
    "#         return tf.estimator.EstimatorSpec(mode,predictions=pred_classes)\n",
    "    \n",
    "#     # 손실(비용)함수 정의\n",
    "#     loss_op = tf.reduce_mean(tf.nn.sparse_softmax_cross_entropy_with_logits(\n",
    "#         logits=logits,labels=tf.cast(labels,dtype=tf.int32)))\n",
    "#     optimiser = tf.train.GradientDescentOptimizer(learning_rate=learning_rate)\n",
    "#     train_op = optimiser.minimize(loss_op,global_step=tf.train.get_global_step)\n",
    "    \n",
    "#     # 모델의 적합도 명가\n",
    "#     acc_op = tf.metrics.accuracy(labels=labels,predictions=pred_classes)\n",
    "    \n",
    "#     estim_specs = tf.estimator.EstimatorSpec(\n",
    "#       mode=mode,\n",
    "#       predictions=pred_classes,\n",
    "#         loss=loss_op,\n",
    "#         train_op=train_op,\n",
    "#         eval_metric_ops={'accuracy':acc_op}\n",
    "#     )\n",
    "#     return estim_specs"
   ]
  },
  {
   "cell_type": "code",
   "execution_count": null,
   "metadata": {},
   "outputs": [],
   "source": [
    "# 인공 신경망 설정함수\n",
    "def neural_net(x_dict):\n",
    "    x = x_dict['images']   \n",
    "    layer_1 = tf.layers.dense(x, n_hidden_1) # 첫번째은닉층\n",
    "    layer_2 = tf.layers.dense(layer_1, n_hidden_2) # 두번째은닉층\n",
    "    out_layer = tf.layers.dense(layer_2, num_classes) # 출력층\n",
    "    return out_layer\n",
    "\n",
    "# 인공신경망모델 생성\n",
    "def model_fn(features, labels, mode):\n",
    "    logits = neural_net(features) # 인공신경망생성\n",
    "\n",
    "    # 예측\n",
    "    pred_classes = tf.argmax(logits, axis=1) \n",
    "    pred_probas = tf.nn.softmax(logits)\n",
    "\n",
    "    # 예측모드일 경우 리턴\n",
    "    if mode == tf.estimator.ModeKeys.PREDICT:\n",
    "        return tf.estimator.EstimatorSpec(mode, predictions=pred_classes)\n",
    "\n",
    "    # 손실(비용)함수 정의\n",
    "    loss_op = tf.reduce_mean(tf.nn.sparse_softmax_cross_entropy_with_logits(\n",
    "     logits=logits, labels=tf.cast(labels, dtype=tf.int32)))\n",
    "    optimizer = tf.train.GradientDescentOptimizer(learning_rate=learning_rate)\n",
    "    train_op = optimizer.minimize(loss_op, global_step=tf.train.get_global_step())\n",
    "\n",
    "    # 모델의 적합도 평가\n",
    "    acc_op = tf.metrics.accuracy(labels=labels, predictions=pred_classes)\n",
    "\n",
    "    estim_specs = tf.estimator.EstimatorSpec(\n",
    "        mode=mode,\n",
    "        predictions=pred_classes,\n",
    "        loss=loss_op,\n",
    "        train_op=train_op,\n",
    "        eval_metric_ops={'accuracy':acc_op}\n",
    "    )\n",
    "    return estim_specs"
   ]
  },
  {
   "cell_type": "code",
   "execution_count": null,
   "metadata": {},
   "outputs": [],
   "source": [
    "# Estimator : \n",
    "# 참고 : https://www.tensorflow.org/guide/estimator\n",
    "#      : http://www.kwangsiklee.com/2018/03/텐서플로우-estimator에-대해-자세히-알아보기/\n",
    "#      : https://www.tensorflow.org/tutorials/estimator/linear?hl=ko\n",
    "# 모델설정하고 모델의 그래프를 그린 다음 모델에 대한 loss함수를 정의하고\n",
    "# Optimizer를 정의하여 loss값의 최소값을 찾고 prediction 값을 계산하는 함수이다.\n",
    "model = tf.estimator.Estimator(model_fn)"
   ]
  },
  {
   "cell_type": "code",
   "execution_count": null,
   "metadata": {},
   "outputs": [],
   "source": [
    "# 데이터학습을 위한 입력함수\n",
    "\n",
    "input_fn = tf.estimator.inputs.numpy_input_fn(\n",
    "    x={'images':mnist.train.images}, y=mnist.train.labels,\n",
    "    batch_size=batch_size, num_epochs=None, shuffle=True\n",
    ")\n",
    "# 모델학습\n",
    "model.train(input_fn, steps=num_steps)\n"
   ]
  },
  {
   "cell_type": "code",
   "execution_count": null,
   "metadata": {},
   "outputs": [],
   "source": [
    "# 모델평가를 위한 입력함수\n",
    "input_fn =tf.estimator.inputs.numpy_input_fn(\n",
    "x={'images':mnist.test.images},y=mnist.test.labels,\n",
    "    batch_size=batch_size, shuffle=False\n",
    ")\n",
    "e = model.evaluate(input_fn)\n",
    "print(\"검증정확도: \",e['accuracy'])"
   ]
  },
  {
   "cell_type": "code",
   "execution_count": 2,
   "metadata": {},
   "outputs": [
    {
     "ename": "NameError",
     "evalue": "name 'mnist' is not defined",
     "output_type": "error",
     "traceback": [
      "\u001b[1;31m---------------------------------------------------------------------------\u001b[0m",
      "\u001b[1;31mNameError\u001b[0m                                 Traceback (most recent call last)",
      "\u001b[1;32m<ipython-input-2-4af3db34171c>\u001b[0m in \u001b[0;36m<module>\u001b[1;34m\u001b[0m\n\u001b[0;32m      3\u001b[0m \u001b[1;33m\u001b[0m\u001b[0m\n\u001b[0;32m      4\u001b[0m \u001b[1;31m# 검증용 데이터셋에서 이미지를 선택\u001b[0m\u001b[1;33m\u001b[0m\u001b[1;33m\u001b[0m\u001b[1;33m\u001b[0m\u001b[0m\n\u001b[1;32m----> 5\u001b[1;33m \u001b[0mtest_images\u001b[0m \u001b[1;33m=\u001b[0m \u001b[0mmnist\u001b[0m\u001b[1;33m.\u001b[0m\u001b[0mtest\u001b[0m\u001b[1;33m.\u001b[0m\u001b[0mimages\u001b[0m\u001b[1;33m[\u001b[0m\u001b[1;33m:\u001b[0m\u001b[0mn_images\u001b[0m\u001b[1;33m]\u001b[0m\u001b[1;33m\u001b[0m\u001b[1;33m\u001b[0m\u001b[0m\n\u001b[0m\u001b[0;32m      6\u001b[0m input_fn = tf.estimator.inputs.numpy_input_fn(\n\u001b[0;32m      7\u001b[0m     \u001b[0mx\u001b[0m\u001b[1;33m=\u001b[0m\u001b[1;33m{\u001b[0m\u001b[1;34m'images'\u001b[0m\u001b[1;33m:\u001b[0m\u001b[0mtest_images\u001b[0m\u001b[1;33m}\u001b[0m\u001b[1;33m,\u001b[0m\u001b[0mshuffle\u001b[0m\u001b[1;33m=\u001b[0m\u001b[1;32mFalse\u001b[0m\u001b[1;33m\u001b[0m\u001b[1;33m\u001b[0m\u001b[0m\n",
      "\u001b[1;31mNameError\u001b[0m: name 'mnist' is not defined"
     ]
    }
   ],
   "source": [
    "# 이미지예측\n",
    "n_images=10\n",
    "\n",
    "# 검증용 데이터셋에서 이미지를 선택\n",
    "test_images = mnist.test.images[:n_images]\n",
    "input_fn = tf.estimator.inputs.numpy_input_fn(\n",
    "    x={'images':test_images},shuffle=False\n",
    ")\n",
    "preds = list(model.predict(input_fn))\n",
    "preds\n",
    "import numpy as np\n",
    "from numpy import argmax\n",
    "# 입력데이터\n",
    "for i in range(n_images):\n",
    "    plt.imshow(np.reshape(test_images[i],[28,28]),cmap='gray')\n",
    "    plt.show()\n",
    "    print(\"모델이 예측한 숫자\",preds[i])"
   ]
  },
  {
   "cell_type": "code",
   "execution_count": 1,
   "metadata": {},
   "outputs": [
    {
     "ename": "NameError",
     "evalue": "name 'X_test' is not defined",
     "output_type": "error",
     "traceback": [
      "\u001b[1;31m---------------------------------------------------------------------------\u001b[0m",
      "\u001b[1;31mNameError\u001b[0m                                 Traceback (most recent call last)",
      "\u001b[1;32m<ipython-input-1-2338a8f8d37b>\u001b[0m in \u001b[0;36m<module>\u001b[1;34m\u001b[0m\n\u001b[1;32m----> 1\u001b[1;33m \u001b[0mtest_data\u001b[0m \u001b[1;33m=\u001b[0m \u001b[0mnext\u001b[0m\u001b[1;33m(\u001b[0m\u001b[0mX_test\u001b[0m\u001b[1;33m)\u001b[0m\u001b[1;33m;\u001b[0m \u001b[0mmodel\u001b[0m\u001b[1;33m.\u001b[0m\u001b[0mpredict\u001b[0m\u001b[1;33m(\u001b[0m\u001b[0mX_test\u001b[0m\u001b[1;33m)\u001b[0m\u001b[1;33m\u001b[0m\u001b[1;33m\u001b[0m\u001b[0m\n\u001b[0m",
      "\u001b[1;31mNameError\u001b[0m: name 'X_test' is not defined"
     ]
    }
   ],
   "source": [
    "test_data = next(X_test); model.predict(X_test)"
   ]
  },
  {
   "cell_type": "code",
   "execution_count": null,
   "metadata": {},
   "outputs": [],
   "source": []
  },
  {
   "cell_type": "code",
   "execution_count": null,
   "metadata": {},
   "outputs": [],
   "source": []
  }
 ],
 "metadata": {
  "kernelspec": {
   "display_name": "Python 3",
   "language": "python",
   "name": "python3"
  },
  "language_info": {
   "codemirror_mode": {
    "name": "ipython",
    "version": 3
   },
   "file_extension": ".py",
   "mimetype": "text/x-python",
   "name": "python",
   "nbconvert_exporter": "python",
   "pygments_lexer": "ipython3",
   "version": "3.7.7"
  }
 },
 "nbformat": 4,
 "nbformat_minor": 4
}
