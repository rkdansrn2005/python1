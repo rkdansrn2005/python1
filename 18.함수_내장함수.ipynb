{
 "cells": [
  {
   "cell_type": "markdown",
   "metadata": {},
   "source": [
    "### 내장함수\n",
    "\n",
    "* https://doc.python.org/3/library/functions.html"
   ]
  },
  {
   "cell_type": "code",
   "execution_count": null,
   "metadata": {},
   "outputs": [],
   "source": [
    "# 1. abs()\n",
    "print(abs(-1))\n",
    "print(abs(1))"
   ]
  },
  {
   "cell_type": "code",
   "execution_count": 1,
   "metadata": {},
   "outputs": [
    {
     "name": "stdout",
     "output_type": "stream",
     "text": [
      "True\n",
      "False\n",
      "True\n",
      "True\n"
     ]
    }
   ],
   "source": [
    "# 2. all(iterable) : 인수로서 iterable 자료를 전ㄴ달받아서 iterable 에 값이 모두 참이면 True,\n",
    "# 거짓이 하나라도 있다면 False를 리턴한다.\n",
    "print(all([1,2,3,4])) # True\n",
    "print(all([1,2,3,0])) # False 0이 있으면 False로 본다.\n",
    "print(all([]))        # True\n",
    "print(all(['a','b','c'])) # True"
   ]
  },
  {
   "cell_type": "code",
   "execution_count": 2,
   "metadata": {},
   "outputs": [
    {
     "name": "stdout",
     "output_type": "stream",
     "text": [
      "True\n",
      "True\n",
      "False\n",
      "True\n"
     ]
    }
   ],
   "source": [
    "# 3 .any(iterable) : 인수로서 iterable 자료를 전ㄴ달받아서 iterable 에 값이 모두 참이면 True,\n",
    "# 거짓이 하나라도 있다면 True를 리턴, 모두 거짓일 때 False를 리턴\n",
    "print(any([1,2,3,4])) # True\n",
    "print(any([1,2,3,0])) # True\n",
    "print(any([]))        # False\n",
    "print(any(['a','b','c'])) # True"
   ]
  },
  {
   "cell_type": "code",
   "execution_count": 10,
   "metadata": {},
   "outputs": [
    {
     "name": "stdout",
     "output_type": "stream",
     "text": [
      "A\n",
      "a\n",
      "0\n",
      "A,B,C,D,E,F,G,H,I,J,K,L,M,N,O,P,Q,R,S,T,U,V,W,X,Y,Z,\n",
      "a,b,c,d,e,f,g,h,i,j,k,l,m,n,o,p,q,r,s,t,u,v,w,x,y,z,\n",
      "0,1,2,3,4,5,6,7,8,9,\n",
      "Ϩ,ϩ,Ϫ,ϫ,Ϭ,ϭ,Ϯ,ϯ,ϰ,ϱ,ϲ,ϳ,ϴ,ϵ,϶,Ϸ,ϸ,Ϲ,Ϻ,ϻ,ϼ,Ͻ,Ͼ,Ͽ,Ѐ,Ё,Ђ,Ѓ,Є,Ѕ,І,Ї,Ј,Љ,Њ,Ћ,Ќ,Ѝ,Ў,Џ,А,Б,В,Г,Д,Е,Ж,З,И,Й,"
     ]
    }
   ],
   "source": [
    "# 4. char(ascii)\n",
    "# ascii코드 값을 전달 받아서 그 코드에 해당하는 문자를 리턴\n",
    "print(chr(65)) # A\n",
    "print(chr(97)) # a\n",
    "print(chr(48)) # 0\n",
    "\n",
    "# 대문자 알파벳\n",
    "for i in range(26):\n",
    "    print(chr(i+65),end=',')\n",
    "    \n",
    "# 소문자 알파벳\n",
    "print()\n",
    "for i in range(26):\n",
    "    print(chr(i+97),end=',')\n",
    "    \n",
    "# 숫자\n",
    "print()\n",
    "for i in range(10):\n",
    "    print(chr(i+48),end=\",\")\n",
    "\n",
    "# 특수문자\n",
    "print()\n",
    "for i in range(50):\n",
    "    print(chr(i+1000),end=',')"
   ]
  },
  {
   "cell_type": "code",
   "execution_count": 12,
   "metadata": {},
   "outputs": [
    {
     "name": "stdout",
     "output_type": "stream",
     "text": [
      "['__add__', '__class__', '__contains__', '__delattr__', '__delitem__', '__dir__', '__doc__', '__eq__', '__format__', '__ge__', '__getattribute__', '__getitem__', '__gt__', '__hash__', '__iadd__', '__imul__', '__init__', '__init_subclass__', '__iter__', '__le__', '__len__', '__lt__', '__mul__', '__ne__', '__new__', '__reduce__', '__reduce_ex__', '__repr__', '__reversed__', '__rmul__', '__setattr__', '__setitem__', '__sizeof__', '__str__', '__subclasshook__', 'append', 'clear', 'copy', 'count', 'extend', 'index', 'insert', 'pop', 'remove', 'reverse', 'sort']\n",
      "\n",
      "['__add__', '__class__', '__contains__', '__delattr__', '__dir__', '__doc__', '__eq__', '__format__', '__ge__', '__getattribute__', '__getitem__', '__getnewargs__', '__gt__', '__hash__', '__init__', '__init_subclass__', '__iter__', '__le__', '__len__', '__lt__', '__mul__', '__ne__', '__new__', '__reduce__', '__reduce_ex__', '__repr__', '__rmul__', '__setattr__', '__sizeof__', '__str__', '__subclasshook__', 'count', 'index']\n",
      "\n",
      "['__class__', '__contains__', '__delattr__', '__delitem__', '__dir__', '__doc__', '__eq__', '__format__', '__ge__', '__getattribute__', '__getitem__', '__gt__', '__hash__', '__init__', '__init_subclass__', '__iter__', '__le__', '__len__', '__lt__', '__ne__', '__new__', '__reduce__', '__reduce_ex__', '__repr__', '__setattr__', '__setitem__', '__sizeof__', '__str__', '__subclasshook__', 'clear', 'copy', 'fromkeys', 'get', 'items', 'keys', 'pop', 'popitem', 'setdefault', 'update', 'values']\n",
      "\n",
      "['__add__', '__class__', '__contains__', '__delattr__', '__dir__', '__doc__', '__eq__', '__format__', '__ge__', '__getattribute__', '__getitem__', '__getnewargs__', '__gt__', '__hash__', '__init__', '__init_subclass__', '__iter__', '__le__', '__len__', '__lt__', '__mod__', '__mul__', '__ne__', '__new__', '__reduce__', '__reduce_ex__', '__repr__', '__rmod__', '__rmul__', '__setattr__', '__sizeof__', '__str__', '__subclasshook__', 'capitalize', 'casefold', 'center', 'count', 'encode', 'endswith', 'expandtabs', 'find', 'format', 'format_map', 'index', 'isalnum', 'isalpha', 'isascii', 'isdecimal', 'isdigit', 'isidentifier', 'islower', 'isnumeric', 'isprintable', 'isspace', 'istitle', 'isupper', 'join', 'ljust', 'lower', 'lstrip', 'maketrans', 'partition', 'replace', 'rfind', 'rindex', 'rjust', 'rpartition', 'rsplit', 'rstrip', 'split', 'splitlines', 'startswith', 'strip', 'swapcase', 'title', 'translate', 'upper', 'zfill']\n",
      "\n"
     ]
    }
   ],
   "source": [
    "# 5. dir()\n",
    "# 객체가 가지고 있는 변수와 함수를 출력\n",
    "print(dir([]))\n",
    "print()\n",
    "print(dir(()))\n",
    "print()\n",
    "print(dir({}))\n",
    "print()\n",
    "print(dir(\"\"))\n",
    "print()\n"
   ]
  },
  {
   "cell_type": "code",
   "execution_count": 14,
   "metadata": {},
   "outputs": [
    {
     "name": "stdout",
     "output_type": "stream",
     "text": [
      "(1, 3)\n",
      "(6.0, 0.09999999999999998)\n"
     ]
    }
   ],
   "source": [
    "# 6. divmod(a,b) \n",
    "# 2개의 인수를 받아서 a/b의 몪과 나머지를 튜플로 리턴\n",
    "print(divmod(7,4))\n",
    "print(divmod(1.3,0.2))# 실수는 정밀도의 문제가 있다."
   ]
  },
  {
   "cell_type": "code",
   "execution_count": 16,
   "metadata": {},
   "outputs": [
    {
     "name": "stdout",
     "output_type": "stream",
     "text": [
      "100 홍길동\n",
      "<class 'int'> <class 'str'>\n",
      "101 소향\n",
      "<class 'int'> <class 'str'>\n",
      "102 홍길녀\n",
      "<class 'int'> <class 'str'>\n"
     ]
    }
   ],
   "source": [
    "# 7. enumerate(iterable)\n",
    "# '열거하다'라는 의미처럼 순서가 있는 자료형을 전달받아서 \n",
    "# index값을 포함하는 enumerate라는 객체로 리턴\n",
    "# enumerate객체는 보통 for문과 함께 사용한다.\n",
    "for i, name in enumerate(['홍길동','소향','홍길녀'],100): # 여기서 100은 100 부터 시작\n",
    "    print(i,name)\n",
    "    print(type(i),type(name))"
   ]
  },
  {
   "cell_type": "code",
   "execution_count": 23,
   "metadata": {},
   "outputs": [
    {
     "name": "stdout",
     "output_type": "stream",
     "text": [
      "2\n",
      "HiPython\n",
      "(2, 1)\n"
     ]
    },
    {
     "ename": "NameError",
     "evalue": "name 'divmodxxx' is not defined",
     "output_type": "error",
     "traceback": [
      "\u001b[1;31m---------------------------------------------------------------------------\u001b[0m",
      "\u001b[1;31mNameError\u001b[0m                                 Traceback (most recent call last)",
      "\u001b[1;32m<ipython-input-23-b322e78ffeba>\u001b[0m in \u001b[0;36m<module>\u001b[1;34m\u001b[0m\n\u001b[0;32m      6\u001b[0m \u001b[0mprint\u001b[0m\u001b[1;33m(\u001b[0m\u001b[0meval\u001b[0m\u001b[1;33m(\u001b[0m\u001b[1;34m'\"Hi\"+\"Python\"'\u001b[0m\u001b[1;33m)\u001b[0m\u001b[1;33m)\u001b[0m\u001b[1;33m\u001b[0m\u001b[1;33m\u001b[0m\u001b[0m\n\u001b[0;32m      7\u001b[0m \u001b[0mprint\u001b[0m\u001b[1;33m(\u001b[0m\u001b[0meval\u001b[0m\u001b[1;33m(\u001b[0m\u001b[1;34m\"divmod(7,3)\"\u001b[0m\u001b[1;33m)\u001b[0m\u001b[1;33m)\u001b[0m\u001b[1;33m\u001b[0m\u001b[1;33m\u001b[0m\u001b[0m\n\u001b[1;32m----> 8\u001b[1;33m \u001b[0mprint\u001b[0m\u001b[1;33m(\u001b[0m\u001b[0meval\u001b[0m\u001b[1;33m(\u001b[0m\u001b[1;34m'divmodxxx(7,3)'\u001b[0m\u001b[1;33m)\u001b[0m\u001b[1;33m)\u001b[0m\u001b[1;33m\u001b[0m\u001b[1;33m\u001b[0m\u001b[0m\n\u001b[0m",
      "\u001b[1;32m<string>\u001b[0m in \u001b[0;36m<module>\u001b[1;34m\u001b[0m\n",
      "\u001b[1;31mNameError\u001b[0m: name 'divmodxxx' is not defined"
     ]
    }
   ],
   "source": [
    "# 8. eval(expression)\n",
    "# 파이썬 표현식을 문자열로 전달 받아서 해당 파이썬의 표현식을 \n",
    "# 실행해주는 함수이다. -java 등과 연결할 때 사용\n",
    "# eval? \n",
    "print(eval('1+1'))\n",
    "print(eval('\"Hi\"+\"Python\"'))\n",
    "print(eval(\"divmod(7,3)\"))\n",
    "print(eval('divmodxxx(7,3)'))"
   ]
  },
  {
   "cell_type": "code",
   "execution_count": 28,
   "metadata": {},
   "outputs": [
    {
     "name": "stdout",
     "output_type": "stream",
     "text": [
      "[1, 2, 5, 6, 7]\n",
      "[1, 2, 5, 6, 7]\n",
      "[1, 2, 5, 6, 7]\n"
     ]
    }
   ],
   "source": [
    "# 9. filter(function명,iterable)\n",
    "# 첫번째 인수로 함수명을, 두번째 인수로 iterable자료를 전달받아서\n",
    "# 그중에 조건에 맞는 값만 리턴해준다.\n",
    "# 1) 함수이용\n",
    "def positive(x):\n",
    "    result = []\n",
    "    for i in x:\n",
    "        if i>0:\n",
    "            result.append(i)\n",
    "    return result\n",
    "print(positive([1,2,-1,-5,-9,5,6,7,-2]))\n",
    "\n",
    "# fileter 함수를 사용\n",
    "def positive1(x):\n",
    "    return x>0\n",
    "# print(positive1([1,2,-1,-5,-9,5,6,7,-2])) # error\n",
    "print(list(filter(positive1,[1,2,-1,-5,-9,5,6,7,-2])))\n",
    "\n",
    "# filter와 lambda 이용\n",
    "print(list(filter(lambda x : x>0,[1,2,-1,-5,-9,5,6,7,-2])))\n"
   ]
  },
  {
   "cell_type": "code",
   "execution_count": 30,
   "metadata": {},
   "outputs": [
    {
     "name": "stdout",
     "output_type": "stream",
     "text": [
      "0x1\n",
      "0xa\n",
      "0x10\n",
      "0xea\n"
     ]
    }
   ],
   "source": [
    "# 10. hex(10진수)\n",
    "# 10진수를 전달받아서 16진수로 리턴\n",
    "print(hex(1))\n",
    "print(hex(10))\n",
    "print(hex(16))\n",
    "print(hex(234))"
   ]
  },
  {
   "cell_type": "code",
   "execution_count": 34,
   "metadata": {},
   "outputs": [
    {
     "name": "stdout",
     "output_type": "stream",
     "text": [
      "2379198636272\n",
      "2379198637040\n",
      "\n",
      "140725870109136\n",
      "140725870109136\n",
      "2379198636272\n",
      "2379198636272\n"
     ]
    }
   ],
   "source": [
    "# 11. id(객체)\n",
    "# 객체(Object)를 전달 받아서 객체의 고유한 주소값(메모리수조, reference)를 리턴\n",
    "name = '소향'\n",
    "print(id(name))\n",
    "print(id('소향'))\n",
    "print()\n",
    "\n",
    "x = 3\n",
    "print(id(x)) # int의 경우에는 주소가 같다.\n",
    "print(id(3))\n",
    "y = name\n",
    "print(id(name))\n",
    "print(id(y))"
   ]
  },
  {
   "cell_type": "code",
   "execution_count": null,
   "metadata": {},
   "outputs": [],
   "source": [
    "# 12. input()\n",
    "# 사용자 입력값을 문자열로 리턴\n",
    "a = input(\"자료를 입력하세요\")\n",
    "print(a)"
   ]
  },
  {
   "cell_type": "code",
   "execution_count": 38,
   "metadata": {},
   "outputs": [
    {
     "name": "stdout",
     "output_type": "stream",
     "text": [
      "3\n",
      "3\n",
      "11\n",
      "3\n",
      "9\n",
      "17\n",
      "26\n"
     ]
    }
   ],
   "source": [
    "# 13. int(), int(string), int(x, radix)\n",
    "# 문자열 형태의 숫자값(정수,실수)를 정수로 리턴\n",
    "print(int(3.4))\n",
    "print(int(\"3\"))\n",
    "\n",
    "# int(x, radix) radix = 진법\n",
    "print(int(\"11\"))\n",
    "print(int(\"11\",2))\n",
    "print(int(\"11\",8))\n",
    "print(int(\"11\",16))\n",
    "print(int(\"1A\",16))"
   ]
  },
  {
   "cell_type": "code",
   "execution_count": 41,
   "metadata": {},
   "outputs": [
    {
     "name": "stdout",
     "output_type": "stream",
     "text": [
      "True\n",
      "False\n",
      "True\n",
      "True\n"
     ]
    }
   ],
   "source": [
    "# 14. isinstance(객체,class)\n",
    "# 첫번째인수로 객체, 두번째 인수로 클래스명을 전달 받아서\n",
    "# 해당하는 객체(인스턴스)가 클래스의 객체인지 여부를 True or False로 리턴\n",
    "class Person: pass\n",
    "class Adam(Person): pass\n",
    "class Calculator(): pass\n",
    "\n",
    "a = Person()\n",
    "b = Adam()\n",
    "c = Calculator()\n",
    "\n",
    "print(isinstance(a,Person)) # True\n",
    "print(isinstance(a,Calculator)) # False\n",
    "print(isinstance(b, Person)) # True(상속)\n",
    "print(isinstance(b, Adam))\n",
    "\n"
   ]
  },
  {
   "cell_type": "code",
   "execution_count": 43,
   "metadata": {},
   "outputs": [
    {
     "name": "stdout",
     "output_type": "stream",
     "text": [
      "['문', '자', '열']\n",
      "[1, 2, 3]\n"
     ]
    }
   ],
   "source": [
    "# 15. list(iterable)\n",
    "# iterable자료형을 list 형으로 변환\n",
    "print(list(\"문자열\"))\n",
    "print(list((1,2,3)))"
   ]
  },
  {
   "cell_type": "code",
   "execution_count": 48,
   "metadata": {},
   "outputs": [
    {
     "name": "stdout",
     "output_type": "stream",
     "text": [
      "[2, 4, 6, 8]\n",
      "[2, 4, 6, 8]\n",
      "[2, 4, 6, 8]\n"
     ]
    }
   ],
   "source": [
    "# 16. map(fucntion, iterable)\n",
    "# 함수와 iterable자료형을 전달 받아서 각 요소가 함수에 수행된 결과를 리턴한다.\n",
    "# 1) 사용자함수이용\n",
    "def two_times(nums):\n",
    "    result =[]\n",
    "    for num in nums:\n",
    "        result.append(num*2)\n",
    "    return result\n",
    "result = two_times([1,2,3,4])\n",
    "print(result)\n",
    "\n",
    "# 2) map 함수 이용\n",
    "def two_times1(x):return x*2\n",
    "print(list(map(two_times1, [1,2,3,4])))\n",
    "\n",
    "# 3)\n",
    "print(list(map(lambda x: x*2,(1,2,3,4))))"
   ]
  },
  {
   "cell_type": "code",
   "execution_count": 50,
   "metadata": {},
   "outputs": [
    {
     "data": {
      "text/plain": [
       "1"
      ]
     },
     "execution_count": 50,
     "metadata": {},
     "output_type": "execute_result"
    }
   ],
   "source": [
    "# 17. min(), max()\n",
    "min([1,2,3])"
   ]
  },
  {
   "cell_type": "code",
   "execution_count": null,
   "metadata": {},
   "outputs": [],
   "source": [
    "# 18. oct(십진수)"
   ]
  },
  {
   "cell_type": "code",
   "execution_count": null,
   "metadata": {},
   "outputs": [],
   "source": [
    "# 19. open(): 13.파일 입출력_fileIO참조"
   ]
  },
  {
   "cell_type": "code",
   "execution_count": 52,
   "metadata": {},
   "outputs": [
    {
     "name": "stdout",
     "output_type": "stream",
     "text": [
      "65\n",
      "97\n",
      "44032\n"
     ]
    }
   ],
   "source": [
    "# 20. ord(문자)\n",
    "print(ord('A'))\n",
    "print(ord('a'))\n",
    "# print(ord(0)) # 반드시 문자 형태로 주어야 한다.\n",
    "print(ord('가'))"
   ]
  },
  {
   "cell_type": "code",
   "execution_count": null,
   "metadata": {},
   "outputs": [],
   "source": [
    "# 21. pow(x,y) x**y"
   ]
  },
  {
   "cell_type": "code",
   "execution_count": 53,
   "metadata": {},
   "outputs": [
    {
     "name": "stdout",
     "output_type": "stream",
     "text": [
      "[0, 1, 2, 3, 4]\n",
      "[5, 6, 7, 8, 9]\n",
      "[5, 3, 1, -1, -3, -5, -7, -9]\n"
     ]
    }
   ],
   "source": [
    "# 22. range([start], stop, [step])\n",
    "print(list(range(5)))\n",
    "print(list(range(5,10)))\n",
    "print(list(range(5,-10,-2)))"
   ]
  },
  {
   "cell_type": "code",
   "execution_count": 55,
   "metadata": {},
   "outputs": [
    {
     "name": "stdout",
     "output_type": "stream",
     "text": [
      "[' ', 'd', '가', '나', '녕', '다', '세', '안', '요', '하']\n"
     ]
    }
   ],
   "source": [
    "# 23. sorted(iterable)\n",
    "# iterable 값을 전달 받아서 정렬한 후 새로운 리스트로 리턴\n",
    "\n",
    "sorted((5,8,6,3,2,1,5,7))\n",
    "print(sorted(\"d안녕하세요 가나다\"))"
   ]
  },
  {
   "cell_type": "code",
   "execution_count": 57,
   "metadata": {},
   "outputs": [
    {
     "name": "stdout",
     "output_type": "stream",
     "text": [
      "3\n",
      "<class 'str'>\n"
     ]
    }
   ],
   "source": [
    "# 24. str(객체)\n",
    "print(str(3))\n",
    "print(type(str(3)))\n"
   ]
  },
  {
   "cell_type": "code",
   "execution_count": 58,
   "metadata": {},
   "outputs": [
    {
     "name": "stdout",
     "output_type": "stream",
     "text": [
      "('s', 'a', 'd', 'f', 'e', 'i', 'i', 'i')\n"
     ]
    }
   ],
   "source": [
    "# 25. tuple()\n",
    "print(tuple('sadfeiii'))"
   ]
  },
  {
   "cell_type": "code",
   "execution_count": 59,
   "metadata": {},
   "outputs": [
    {
     "data": {
      "text/plain": [
       "int"
      ]
     },
     "execution_count": 59,
     "metadata": {},
     "output_type": "execute_result"
    }
   ],
   "source": [
    "# 26. type()\n",
    "# 객체의 자료형을 리턴\n",
    "type(3)"
   ]
  },
  {
   "cell_type": "code",
   "execution_count": 65,
   "metadata": {},
   "outputs": [
    {
     "name": "stdout",
     "output_type": "stream",
     "text": [
      "[(1, 4), (2, 5), (3, 6)]\n",
      "[(1, 4)]\n",
      "[(1, 4)]\n",
      "[(1, 4), (2, 5), (3, 6)]\n",
      "[('a', 4), ('b', 5)]\n",
      "[('a', 1), ('s', 2), ('d', 3)]\n"
     ]
    }
   ],
   "source": [
    "# 27. zip(iterable)\n",
    "# 동일한 갯수의 자료형을 묶어서 tuple로 리턴해주는 함수\n",
    "\n",
    "# 1) 2개의 객체의 수가 동일할 경우\n",
    "a = [1,2,3]\n",
    "b = [4,5,6]\n",
    "print(list(zip(a,b)))\n",
    "\n",
    "# 2) 2개의 객체의 수가 동일하지 않을 경우\n",
    "\n",
    "print(list(zip([1],[4,5,6]))) \n",
    "print(list(zip([1,2,3],[4]))) # 가장 작은 개수에 맞춰서 \n",
    "\n",
    "# 3) 자료형이 틀릴 경우\n",
    "print(list(zip((1,2,3),[4,5,6])))\n",
    "print(list(zip(('a','b'),[4,5,6])))\n",
    "print(list(zip('asdf',(1,2,3))))"
   ]
  },
  {
   "cell_type": "code",
   "execution_count": null,
   "metadata": {},
   "outputs": [],
   "source": []
  },
  {
   "cell_type": "code",
   "execution_count": null,
   "metadata": {},
   "outputs": [],
   "source": []
  },
  {
   "cell_type": "code",
   "execution_count": null,
   "metadata": {},
   "outputs": [],
   "source": []
  },
  {
   "cell_type": "code",
   "execution_count": null,
   "metadata": {},
   "outputs": [],
   "source": []
  },
  {
   "cell_type": "code",
   "execution_count": null,
   "metadata": {},
   "outputs": [],
   "source": []
  },
  {
   "cell_type": "code",
   "execution_count": null,
   "metadata": {},
   "outputs": [],
   "source": []
  },
  {
   "cell_type": "code",
   "execution_count": null,
   "metadata": {},
   "outputs": [],
   "source": []
  },
  {
   "cell_type": "code",
   "execution_count": null,
   "metadata": {},
   "outputs": [],
   "source": []
  },
  {
   "cell_type": "code",
   "execution_count": null,
   "metadata": {},
   "outputs": [],
   "source": []
  },
  {
   "cell_type": "code",
   "execution_count": null,
   "metadata": {},
   "outputs": [],
   "source": []
  }
 ],
 "metadata": {
  "kernelspec": {
   "display_name": "Python 3",
   "language": "python",
   "name": "python3"
  },
  "language_info": {
   "codemirror_mode": {
    "name": "ipython",
    "version": 3
   },
   "file_extension": ".py",
   "mimetype": "text/x-python",
   "name": "python",
   "nbconvert_exporter": "python",
   "pygments_lexer": "ipython3",
   "version": "3.7.6"
  }
 },
 "nbformat": 4,
 "nbformat_minor": 4
}
