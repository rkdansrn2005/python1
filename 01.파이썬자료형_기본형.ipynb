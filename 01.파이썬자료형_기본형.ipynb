{
 "cells": [
  {
   "cell_type": "markdown",
   "metadata": {},
   "source": [
    "### Jupyter NoteBook 단축키\n",
    "\n",
    "1. 셀을 나누기 : ctrl + shift + -\n",
    "2. 셀 실행하기 : ctrl + enter, shift + enter, alt + enter\n",
    "3. "
   ]
  },
  {
   "cell_type": "markdown",
   "metadata": {},
   "source": [
    "# 한줄주석\n",
    "# 여러줄 주석 \"\"\" 주석 \"\"\"\n",
    "# 파이썬에서는 문자열은 작은 따옴표(')나 큰 따옴표(\")는 구분하지 않는다."
   ]
  },
  {
   "cell_type": "markdown",
   "metadata": {},
   "source": [
    "### 1. 숫자형\n",
    "\n",
    "#### 1) int\n",
    "\n",
    "정수형(Integer)으로서 양의 정수, 음의 정수 그리고 0을 정의할 수 있다."
   ]
  },
  {
   "cell_type": "code",
   "execution_count": null,
   "metadata": {},
   "outputs": [],
   "source": [
    "a = 1\n",
    "b = -123\n",
    "c = 3\n",
    "print(a)\n",
    "print(b)\n",
    "print(c)\n",
    "print(a, b, c)\n",
    "a\n",
    "b\n",
    "c\n",
    "print(type(a))\n",
    "\n",
    "# 함수 함수명()\n",
    "print(\"==================================\")\n",
    "print(\"=\"*70)\n",
    "\n",
    "# 아래 명령은 에러는 나지 않지만 내장함수인 print가 int타입인 print 변수로 재정의 되어\n",
    "# 현재 세션동안에는 print는 출력함수로 사용할 수가 없게 된다.\n",
    "# print함수로 복원을 하려면 현재 세션을 닫고 다시 세션을 오픈해야 한다.\n",
    "# print = 1\n",
    "# print"
   ]
  },
  {
   "cell_type": "code",
   "execution_count": 1,
   "metadata": {},
   "outputs": [],
   "source": [
    "print?"
   ]
  },
  {
   "cell_type": "markdown",
   "metadata": {},
   "source": [
    "#### 2) float\n",
    "\n",
    "실수형(floating-point)으로서 소수점을 가지는 숫자를 정의할 수 있다."
   ]
  },
  {
   "cell_type": "code",
   "execution_count": 7,
   "metadata": {},
   "outputs": [
    {
     "name": "stdout",
     "output_type": "stream",
     "text": [
      "1.2 -3.14\n",
      "<class 'float'>\n",
      "127 2303\n"
     ]
    }
   ],
   "source": [
    "d = 1.2\n",
    "e = -3.14\n",
    "print(d,e)\n",
    "#d?\n",
    "print(type(d))\n",
    "\n",
    "# 8진수, 16진수\n",
    "# 8진수는 0o 또는 0O\n",
    "# 16진수는 0x 또는 0X로 시작\n",
    "f =0o177\n",
    "g = 0x8ff\n",
    "print(f, g)\n",
    "a = 3.14\n",
    "type(a)"
   ]
  },
  {
   "cell_type": "markdown",
   "metadata": {},
   "source": [
    "#### 3) complex\n",
    "\n",
    "복소수형으로서 복소수를 정의하는 데 2가지 방법으로 정의할 수 있다.\n",
    "복소수란 a+bi로 나타날 수 있는 숫자로 a는 실수부, b는 허수부를 나타낸다.\n",
    "수학교과서 허수단위를 i로 썻지만 파이썬에서는 소문자 j 또는 대문자 j를 사용한다."
   ]
  },
  {
   "cell_type": "code",
   "execution_count": 11,
   "metadata": {},
   "outputs": [
    {
     "name": "stdout",
     "output_type": "stream",
     "text": [
      "1.0 3.0\n"
     ]
    }
   ],
   "source": [
    "# complex()함수 : 복소수를 정의하는 함수\n",
    "# complex?\n",
    "a = complex(1,3)\n",
    "a\n",
    "type(a)\n",
    "\n",
    "# 복소수.real은 복소수의 실수 부분을 반환, 복소수.imag는 허수부를 반환\n",
    "print(a.real, a.imag)"
   ]
  },
  {
   "cell_type": "markdown",
   "metadata": {},
   "source": [
    "#### 4) 숫자형을 활용하기 위한 연산자\n",
    "\n",
    "<code>+,-,*,/,**,%,//</code>연산자를 활용하여 숫자형자료의 연산을 수행한다\n",
    "1. 사칙연산자 :+,-,*,/\n",
    "2. 제곱연산자 :**\n",
    "3. 나머지 연산자 : %\n",
    "4. 나눗셈결과 나머지를 버리는 연산자 :// (주의할 점은 정수형과 실수형의 결과가 상이하다.)"
   ]
  },
  {
   "cell_type": "code",
   "execution_count": 19,
   "metadata": {},
   "outputs": [
    {
     "name": "stdout",
     "output_type": "stream",
     "text": [
      "더하기 = 2\n",
      "빼기 =  0\n",
      "곱하기 = 2\n",
      "나누기 = 5.0\n",
      "나머지연산 =  3\n",
      "몫만 반환하는 연산 =  1.0\n",
      "증감 연산자 =  -1\n",
      "제곱연산자 = 8\n"
     ]
    }
   ],
   "source": [
    "print('더하기 =',1+1)\n",
    "print('빼기 = ',1-1)\n",
    "print('곱하기 =',1*2)\n",
    "print('나누기 =', 10/2)\n",
    "\n",
    "print(\"나머지연산 = \", 7%4)\n",
    "print('몫만 반환하는 연산 = ',7.0//4)\n",
    "\n",
    "x = 1\n",
    "print('증감 연산자 = ',-x)\n",
    "print('제곱연산자 =',2**3)"
   ]
  },
  {
   "cell_type": "markdown",
   "metadata": {},
   "source": [
    "#### 5) 숫자형관련함수\n",
    "\n",
    "* abs() : 절대값\n",
    "* int() : 실수  정수로 형변환\n",
    "* float() : 정수를 실수로 변환\n",
    "* divmod(x,y) : x//y와  x%y를 한 쌍으로 반환\n",
    "* pow(x,y) :x**y값을 반환"
   ]
  },
  {
   "cell_type": "code",
   "execution_count": 32,
   "metadata": {},
   "outputs": [
    {
     "name": "stdout",
     "output_type": "stream",
     "text": [
      "절대값 = 1\n",
      "정수변환 = 3\n",
      "실수변환 = 10.0\n",
      "몫과 나머지 = (1, 3)\n",
      "제곱근 =  27\n"
     ]
    }
   ],
   "source": [
    "print('절대값 =',abs(-1))\n",
    "print('정수변환 =',int(3.14))\n",
    "print('실수변환 =',float(10))\n",
    "print('몫과 나머지 =',divmod(7,4))\n",
    "print('제곱근 = ',pow(3,3))"
   ]
  },
  {
   "cell_type": "markdown",
   "metadata": {},
   "source": [
    "### 2. 문자열\n",
    "\n",
    "문자열(String)이란 문자의 집합을 의미한다.\n",
    "파이썬에서 문자열을 작은 따음표 또는 큰 따옴표로 정의한다. 또한 큰 따옴표 3개로 연속해서 감싸서 정의하는 방법이 있다."
   ]
  },
  {
   "cell_type": "code",
   "execution_count": 33,
   "metadata": {},
   "outputs": [],
   "source": [
    "a = '문자열 정의 방법 (1) - 작은 따옴표'"
   ]
  },
  {
   "cell_type": "code",
   "execution_count": 34,
   "metadata": {},
   "outputs": [],
   "source": [
    "b = \"문자열 정의 방법 (2) - 큰따옴표\""
   ]
  },
  {
   "cell_type": "code",
   "execution_count": 35,
   "metadata": {},
   "outputs": [
    {
     "name": "stdout",
     "output_type": "stream",
     "text": [
      "문자열 정의 방법 (1) - 작은 따옴표\n",
      "문자열 정의 방법 (2) - 큰따옴표\n",
      "문자열 정의 방법(3) - 연속으로 3개의 큰 따옴표\n",
      "<class 'str'> <class 'str'> <class 'str'>\n"
     ]
    }
   ],
   "source": [
    "c = \"\"\"문자열 정의 방법(3) - 연속으로 3개의 큰 따옴표\"\"\"\n",
    "print(a)\n",
    "print(b)\n",
    "print(c)\n",
    "print(type(a),type(b),type(c))"
   ]
  },
  {
   "cell_type": "code",
   "execution_count": 38,
   "metadata": {},
   "outputs": [
    {
     "name": "stdout",
     "output_type": "stream",
     "text": [
      "Python's a simple program language\n",
      " Python\"s a simple program language\n",
      " Python's a simple program language\n",
      " Python\"s a simple program language\n"
     ]
    }
   ],
   "source": [
    "# 2. 문자열에 작은/큰 따옴표가 혼합해서 정의하는 방법\n",
    "a = \"Python's a simple program language\"\n",
    "b = 'Python\"s a simple program language'\n",
    "c = 'Python\\'s a simple program language'\n",
    "d = \"Python\\\"s a simple program language\"\n",
    "print(a+\"\\n\",b+\"\\n\",c+\"\\n\",d)"
   ]
  },
  {
   "cell_type": "code",
   "execution_count": 44,
   "metadata": {},
   "outputs": [
    {
     "name": "stdout",
     "output_type": "stream",
     "text": [
      "a1\n",
      "Python is  a simple program language\n",
      "PythonPythonPythonPythonPythonPythonPythonPythonPythonPython\n",
      "------------------------------------------------------------\n"
     ]
    }
   ],
   "source": [
    "#문자열 연산하기\n",
    "# 파이썬에서 문자열을 연산할 때 자료형이 틀리면 에러 발생\n",
    "\n",
    "# 1) 문자열 연산하기\n",
    "# a = 'a'+1 #java에서는 a1으로 가능하지만 파이썬에서는 자료형이 틀리기 때문에 에러발생\n",
    "a = 'a'+'1'\n",
    "print(a)\n",
    "head = 'Python'\n",
    "tail = ' is  a simple program language'\n",
    "print(head+tail)\n",
    "\n",
    "# 2) 문자열 곱하기\n",
    "print(head*10)\n",
    "print('-'*60)\n"
   ]
  },
  {
   "cell_type": "code",
   "execution_count": 49,
   "metadata": {},
   "outputs": [
    {
     "name": "stdout",
     "output_type": "stream",
     "text": [
      "안녕하세요 파이썬?\n",
      "안\n",
      "?\n",
      "?\n",
      " \n",
      "녕\n"
     ]
    }
   ],
   "source": [
    "# 4. 문자열 인덱싱과 슬라이싱\n",
    "# 인덱싱이랑? 문자열의 특정위치의 문자를 가리키는 것이고\n",
    "# 슬라이싱이란? 문자열을 특정위치 문자를 자르는 것이다.\n",
    "\n",
    "# 4-1) 문자열의 인덱싱\n",
    "# 인덱스가 양수인 경우는 처음부터 시작되고 음수인 경우는 끝에서 시작된다.\n",
    "a= \"안녕하세요 파이썬?\"\n",
    "print(a)\n",
    "print(a[0])\n",
    "print(a[9])\n",
    "print(a[-1]) # print(a[9]) 동일 \n",
    "print(a[-5])\n",
    "print(\"안녕하세요\"[1])\n"
   ]
  },
  {
   "cell_type": "code",
   "execution_count": 60,
   "metadata": {},
   "outputs": [
    {
     "name": "stdout",
     "output_type": "stream",
     "text": [
      "200\n",
      "20200317파이썬\n",
      "파이썬\n",
      "파이썬\n",
      "11\n",
      "파이썬\n",
      "20200317파이썬\n"
     ]
    }
   ],
   "source": [
    "# 4-2) 문자열의 슬라이싱\n",
    "# 문자열에서 특정 문자열을 잘라내는 것을 의미한다. 즉, 문자(또는 문자열)을 추출하는 행위\n",
    "a = '20200317파이썬'\n",
    "\n",
    "print(a[0] + a[1] + a[3]) ### 슬라이싱이 아니라 인덱싱\n",
    "\n",
    "# 슬라이싱은 문자열[start:end-1]의 형태로 수행한다.\n",
    "start = 8\n",
    "end = 11\n",
    "print(a[:])\n",
    "print(a[start:end])\n",
    "print(a[8:])\n",
    "\n",
    "# 문자열의 길이를 리턴하는 함수 len()\n",
    "print(len(a))\n",
    "print(a[8:len(a)])\n",
    "print(a[:len(a)])"
   ]
  },
  {
   "cell_type": "code",
   "execution_count": 62,
   "metadata": {},
   "outputs": [
    {
     "name": "stdout",
     "output_type": "stream",
     "text": [
      "20200317 파이썬 2020 0317\n"
     ]
    }
   ],
   "source": [
    "# 실습 \n",
    "a = '20200317파이썬'\n",
    "\n",
    "date = a[0:8] #년 월일\n",
    "p = a[8:len(a)] # 파이썬만 가져오기\n",
    "\n",
    "year = a[0:4]\n",
    "day = a[4:8] # 0317\n",
    "print(date,p,year,day)"
   ]
  },
  {
   "cell_type": "code",
   "execution_count": 93,
   "metadata": {},
   "outputs": [],
   "source": [
    "class Book:\n",
    "    \n",
    "    def setData(self, title, price, author):\n",
    "        self.title = title\n",
    "        self.price = price\n",
    "        self.author = author\n",
    "        \n",
    "    def printData(self):\n",
    "        print('제목 : ', self.title)\n",
    "        print('가격 : ', self.price)\n",
    "        print('저자 : ', self.author)\n",
    "        \n",
    "    def __init__(self):\n",
    "        print ('책 객체를 새로 만들었어요~')"
   ]
  },
  {
   "cell_type": "code",
   "execution_count": null,
   "metadata": {},
   "outputs": [],
   "source": []
  },
  {
   "cell_type": "code",
   "execution_count": 94,
   "metadata": {},
   "outputs": [
    {
     "name": "stdout",
     "output_type": "stream",
     "text": [
      "책 객체를 새로 만들었어요~\n"
     ]
    }
   ],
   "source": [
    "b = Book()"
   ]
  },
  {
   "cell_type": "code",
   "execution_count": 95,
   "metadata": {},
   "outputs": [
    {
     "name": "stdout",
     "output_type": "stream",
     "text": [
      "제목 :  누가\n",
      "가격 :  200\n",
      "저자 :  미키\n"
     ]
    }
   ],
   "source": [
    "b.setData('누가','200','미키')\n",
    "b.printData()"
   ]
  },
  {
   "cell_type": "code",
   "execution_count": 99,
   "metadata": {},
   "outputs": [],
   "source": [
    "def hap(a,b):\n",
    "    print(a+b)\n"
   ]
  },
  {
   "cell_type": "code",
   "execution_count": 101,
   "metadata": {},
   "outputs": [],
   "source": [
    "def gop(a,b):\n",
    "    print(a*b)"
   ]
  },
  {
   "cell_type": "code",
   "execution_count": 102,
   "metadata": {},
   "outputs": [],
   "source": [
    "def hap_gop(a,b):\n",
    "    hap(a,b)\n",
    "    gop(a,b)"
   ]
  },
  {
   "cell_type": "code",
   "execution_count": 104,
   "metadata": {},
   "outputs": [],
   "source": [
    "def countdown(n):\n",
    "    if n == 0:\n",
    "        print(\"bang\")\n",
    "    else:\n",
    "        print(n)\n",
    "        countdown(n-1)"
   ]
  },
  {
   "cell_type": "code",
   "execution_count": 105,
   "metadata": {},
   "outputs": [
    {
     "name": "stdout",
     "output_type": "stream",
     "text": [
      "10\n",
      "9\n",
      "8\n",
      "7\n",
      "6\n",
      "5\n",
      "4\n",
      "3\n",
      "2\n",
      "1\n",
      "bang\n"
     ]
    }
   ],
   "source": [
    "countdown(10)"
   ]
  },
  {
   "cell_type": "code",
   "execution_count": 106,
   "metadata": {},
   "outputs": [],
   "source": [
    " from functools import reduce"
   ]
  },
  {
   "cell_type": "code",
   "execution_count": 107,
   "metadata": {},
   "outputs": [
    {
     "data": {
      "text/plain": [
       "10"
      ]
     },
     "execution_count": 107,
     "metadata": {},
     "output_type": "execute_result"
    }
   ],
   "source": [
    " reduce(lambda x, y: x + y, [0, 1, 2, 3, 4])"
   ]
  },
  {
   "cell_type": "code",
   "execution_count": 7,
   "metadata": {},
   "outputs": [
    {
     "name": "stdout",
     "output_type": "stream",
     "text": [
      "P y thon\n",
      "Python\n"
     ]
    }
   ],
   "source": [
    "# 5. 문자열바꾸기\n",
    "# 파이썬에서는 문자열과 튜플은 변경할 수 없는 자료형이다.\n",
    "# 이런 자료형을 immutable자료형이라고 한다.\n",
    "a = 'Pithon'\n",
    "# a[1] = 'y' / 문자열은 변경할 수 가 없기 때문에 에러가 발생한다.\n",
    "\n",
    "# 문자열을 수정\n",
    "\n",
    "print(a[:1],'y',a[2:])\n",
    "a = a[:1]+'y'+a[2:]\n",
    "print(a)"
   ]
  },
  {
   "cell_type": "code",
   "execution_count": 5,
   "metadata": {},
   "outputs": [
    {
     "name": "stdout",
     "output_type": "stream",
     "text": [
      "오늘의 날씨는 -5도입니다.\n",
      "오늘의 날씨는 5도입니다.\n",
      "오늘날씨는 -5 도 입니다.\n",
      "오늘날씨는 5 도 입니다.\n",
      "오늘날씨는 5 도 입니다.\n",
      "오늘 날씨는 5도 입니다.\n",
      "오늘 날씨는 10도 입니다.\n",
      "오늘 날씨는 10도 입니다.\n",
      "제 나이는 10살입니다. 공부를 오 일동안 했습니다!\n"
     ]
    }
   ],
   "source": [
    "# 6. 문자열 포매팅\n",
    "# '오늘의 날씨는 -5도입니다.'\n",
    "\n",
    "print(\"오늘의 날씨는 -5도입니다.\")\n",
    "print(\"오늘의 날씨는 5도입니다.\")\n",
    "\n",
    "degree = -5\n",
    "\n",
    "# %d : 숫자형 포매팅\n",
    "# %s : 문자열 포메팅\n",
    "a = \"오늘날씨는 %d 도 입니다.\" % degree\n",
    "print(a)\n",
    "\n",
    "degree = 5\n",
    "a = \"오늘날씨는 %d 도 입니다.\" % degree\n",
    "print(a)\n",
    "\n",
    "print(\"오늘날씨는 %d 도 입니다.\" % 5)\n",
    "# print(\"오늘날씨는 %d 도 입니다.\" % '5')  // 문자열으 ㄹ숫자형포매팅에 대입하면 type에러 발생\n",
    "\n",
    "# %s 문자열 포매팅\n",
    "\n",
    "print(\"오늘 날씨는 %s도 입니다.\" % degree)\n",
    "print(\"오늘 날씨는 %s도 입니다.\" % \"10\")\n",
    "print(\"오늘 날씨는 %s도 입니다.\" % 10)\n",
    "\n",
    "# 두개 이상의 값을 포매팅\n",
    "age =10\n",
    "day = \"오\"\n",
    "print(\"제 나이는 %d살입니다. 공부를 %s 일동안 했습니다!\" % (age, day))\n",
    "\n",
    "# 문자열 포멧코드\n",
    "# 코드 설명\n",
    "# ==== ==============================================\n",
    "# %s    문자열 string\n",
    "# %c    1개의 문자 character\n",
    "# %d    정수 Integer\n",
    "# %f    실수 float\n",
    "# %o    8진수\n",
    "# %x    16진수\n",
    "# %%    퍼센트(%)문자"
   ]
  },
  {
   "cell_type": "code",
   "execution_count": 4,
   "metadata": {},
   "outputs": [
    {
     "name": "stdout",
     "output_type": "stream",
     "text": [
      "        hi 10\n",
      "hi         10\n",
      "3.1416 6\n",
      "오늘의 현재온도는 18도 입니다.\n",
      "오늘의 현재온도는 dde도 입니다.\n",
      "제 나이는 10살입니다. 오늘 공부를 오시간동안 했습니다.\n",
      "제 나이는 10살입니다. 오늘 공부를 오시간동안 했습니다.\n",
      "제 나이는 10살입니다. 오늘 공부를 오시간동안 했습니다.\n",
      "제 나이는 1살입니다. 오늘 공부를 10시간동안 했습니다.\n",
      "\n",
      "hi         10\n",
      "hi         10\n",
      "        hi 10\n",
      "    hi     10\n",
      "\n",
      "hi******** 10\n",
      "--------hi 10\n",
      "++++hi++++ 10\n",
      "  3.141592\n",
      "    3.1416\n",
      "{ 그리고 }\n"
     ]
    }
   ],
   "source": [
    "# 7. 포멧코드와 숫자를 함께 사용하기\n",
    "\n",
    "# 7-1) 정렬과 공백\n",
    "# %10s로 정의된 경우 정의된 문자열의 크기가 10보다 작을 경우에 앞에 나머지는 공백으로 \n",
    "# 채워지고 오른쪽으로 정렬된다.\n",
    "a = '%10s' % 'hi'\n",
    "print(a, len(a))\n",
    "\n",
    "# %-10s는 왼쪽으로 정렬\n",
    "a = '%-10s' % 'hi'\n",
    "print(a, len(a))\n",
    "\n",
    "# 7-2) 소수점표현하기\n",
    "a = '%0.4f' % 3.141592\n",
    "print(a, len(a)) # 소수점 4자리까지 출력\n",
    "\n",
    "# 7-3) format() 함수 사용\n",
    "print(\"오늘의 현재온도는 {}도 입니다.\".format(18))\n",
    "print(\"오늘의 현재온도는 {}도 입니다.\".format('dde'))\n",
    "\n",
    "# 7-4) 2개이상 format() 함수 사용하기\n",
    "age = 10\n",
    "day = \"오\"\n",
    "print(\"제 나이는 {0}살입니다. 오늘 공부를 {1}시간동안 했습니다.\".format(age,day))\n",
    "\n",
    "# 7-5) 이름으로 format()함수 사용하기\n",
    "\n",
    "print(\"제 나이는 {a}살입니다. 오늘 공부를 {b}시간동안 했습니다.\".format(a=age,b=day))\n",
    "print(\"제 나이는 {a}살입니다. 오늘 공부를 {b}시간동안 했습니다.\".format(b=day,a=age))\n",
    "print(\"제 나이는 {age}살입니다. 오늘 공부를 {day}시간동안 했습니다.\".format(age=1,day=10))\n",
    "print()\n",
    "\n",
    "# 7-6) format()함수와 정렬하기\n",
    "# a. 왼쪽정렬\n",
    "b ='{0:10}'.format('hi')\n",
    "print(b,len(b))\n",
    "b ='{0:<10}'.format('hi')\n",
    "print(b,len(b))\n",
    "\n",
    "# b.오른쪽 정렬\n",
    "b ='{0:>10}'.format('hi')\n",
    "print(b,len(b))\n",
    "\n",
    "# c. 가운데정렬\n",
    "b ='{0:^10}'.format('hi')\n",
    "print(b,len(b))\n",
    "print()\n",
    "\n",
    "# 7-7) 공백채우기\n",
    "b ='{0:*<10}'.format('hi')\n",
    "print(b,len(b))\n",
    "b ='{0:->10}'.format('hi')\n",
    "print(b,len(b))\n",
    "b ='{0:+^10}'.format('hi')\n",
    "print(b,len(b))\n",
    "\n",
    "# 7-8) format()함수로 소수점 표현하기\n",
    "pi = 3.141592\n",
    "print('{0:10}'.format(pi))\n",
    "print('{0:10.4f}'.format(pi))\n",
    "# 7-9) 중괄호 표현하기 : \"{ 그리고 }\" 을 표현하려면 연속해서 중괄호({{}})를 연속해서 사용해야 한다.\n",
    "f = '{{ 그리고 }}'.format()\n",
    "print(f)"
   ]
  },
  {
   "cell_type": "code",
   "execution_count": 15,
   "metadata": {},
   "outputs": [
    {
     "name": "stdout",
     "output_type": "stream",
     "text": [
      "내이름은 소향입니다. 나이는 40입니다\n",
      "내이름은 소향입니다. 나이는 40입니다\n",
      "내이름은 소향입니다. 나이는 30입니다\n",
      "\n",
      "hi********\n",
      "00000000hi\n",
      "\\\\\\\\hi\\\\\\\\\n",
      "3.1416\n",
      "{그리고}\n",
      "내이름은 소향입니다. 나이는 40입니다\n",
      "내이름은 소향입니다. 나이는 41입니다\n"
     ]
    }
   ],
   "source": [
    "# 8. F문자열 포메팅\n",
    "# 파이썬2.x, 파이썬3.6버전 미만에서는 사용할 수 없는 기능이다.\n",
    "# 사용하는 방법은 문자열 앞에 f접두사를 붙이면 사용할 수 있다.\n",
    "name =\"소향\"\n",
    "age = 40\n",
    "a = \"내이름은 {name}입니다. 나이는 {age}입니다\".format(name=name,age=age)\n",
    "b = f\"내이름은 {name}입니다. 나이는 {age}입니다\"\n",
    "c = f\"내이름은 {name}입니다. 나이는 {age-10}입니다\"\n",
    "print(a)\n",
    "print(b)\n",
    "print(c)\n",
    "print()\n",
    "\n",
    "# 정렬\n",
    "print(f'{\"hi\":*<10}')\n",
    "print(f'{\"hi\":0>10}')\n",
    "print(f'{\"hi\":\\^10}')\n",
    "\n",
    "# 소수점\n",
    "print(f'{pi:0.4f}')\n",
    "\n",
    "# 그리고\n",
    "print(f'{{그리고}}')\n",
    "\n",
    "# f문자열과 dictionary와 사용하기\n",
    "d = {\"name\":\"소향\",\"age\":41} # dictionary자료형 , key와 값이 한쌍으로 이루어진 자료형\n",
    "print(f\"내이름은 {name}입니다. 나이는 {age}입니다\")\n",
    "print(f\"내이름은 {d['name']}입니다. 나이는 {d['age']}입니다\")"
   ]
  },
  {
   "cell_type": "markdown",
   "metadata": {},
   "source": [
    "### 3.문자열 관련함수\n",
    "\n",
    "* count() : 문자열의 문자갯수를 리턴\n",
    "* find()  : 특정문자의 위치를 리턴하는 함수(찾는 문자가 없을 경우 -1을 리턴)\n",
    "* index() : 특정문자의 위치를 리턴하는 함수(찾는 문자가 없을 경우 에러가 발생)\n",
    "* join()  : 정의된 문자로 문자열(반복자)를 연결\n",
    "* upper() : 대문자로 변환\n",
    "* lower() : 소문자로 변환\n",
    "* lstrip(): 왼쪽 공백제거\n",
    "* rstrip(): 오른쪽 공백제거\n",
    "* strip() : 양쪽 공백제거(가운데 x)\n",
    "* replace():문자열을 변경 \n",
    "* split() : 문자열 자르기"
   ]
  },
  {
   "cell_type": "code",
   "execution_count": 23,
   "metadata": {},
   "outputs": [
    {
     "name": "stdout",
     "output_type": "stream",
     "text": [
      "o문자의 갯수 = 3\n",
      "문자 o의 갯수 = 3\n",
      "문자 i 의 갯수 = 2\n",
      "문자 Lite 의 갯수 = 1\n",
      "17\n",
      "문자 Lite 의 갯수 = 1\n",
      "문자 Lite 의 갯수 = 1\n"
     ]
    }
   ],
   "source": [
    "# 1. count() : 문자 갯수 리턴 , 매개값으로 특정 문자를 전달해야 한다. 전달 문자가 없으면 에러 발생\n",
    "a = 'Life is too short'\n",
    "print('o문자의 갯수 =', a.count('o'))\n",
    "print('문자 o의 갯수 =', 'Life is too short'.count('o'))\n",
    "print('문자 i 의 갯수 =', a.count('i'))\n",
    "print('문자 Lite 의 갯수 =', a.count('Life'))\n",
    "print(len(a))\n",
    "print('문자 Lite 의 갯수 =', a[:].count('Life'))\n",
    "print('문자 Lite 의 갯수 =', a[:10].count('Life'))"
   ]
  },
  {
   "cell_type": "code",
   "execution_count": 25,
   "metadata": {},
   "outputs": [
    {
     "name": "stdout",
     "output_type": "stream",
     "text": [
      "문자 a의 위치는 10\n",
      "문자 a의 취리는 16\n",
      "문자 .의 취리는 35\n",
      "문자 x의 위치는 -1\n"
     ]
    }
   ],
   "source": [
    "# 2. find(): 특정 문자의 위치를 리턴\n",
    "a = 'Python is a simple program languege.'\n",
    "print('문자 a의 위치는', a.find('a')) # 문자열에서 특정문자의 맨 처음에 위치하는 값을 리턴\n",
    "print('문자 a의 취리는', a.find('l'))\n",
    "print('문자 .의 취리는', a.find('.'))\n",
    "print('문자 x의 위치는', a.find('x')) # 찾는 문자가 없을 경우 -1 을 리턴\n"
   ]
  },
  {
   "cell_type": "code",
   "execution_count": 27,
   "metadata": {},
   "outputs": [
    {
     "name": "stdout",
     "output_type": "stream",
     "text": [
      "문자 a의 위치는 10\n",
      "문자 a의 위치는 16\n",
      "문자 .의 위치는 35\n"
     ]
    },
    {
     "ename": "ValueError",
     "evalue": "substring not found",
     "output_type": "error",
     "traceback": [
      "\u001b[1;31m---------------------------------------------------------------------------\u001b[0m",
      "\u001b[1;31mValueError\u001b[0m                                Traceback (most recent call last)",
      "\u001b[1;32m<ipython-input-27-24dda1878541>\u001b[0m in \u001b[0;36m<module>\u001b[1;34m\u001b[0m\n\u001b[0;32m      4\u001b[0m \u001b[0mprint\u001b[0m\u001b[1;33m(\u001b[0m\u001b[1;34m'문자 a의 위치는'\u001b[0m\u001b[1;33m,\u001b[0m \u001b[0ma\u001b[0m\u001b[1;33m.\u001b[0m\u001b[0mindex\u001b[0m\u001b[1;33m(\u001b[0m\u001b[1;34m'l'\u001b[0m\u001b[1;33m)\u001b[0m\u001b[1;33m)\u001b[0m\u001b[1;33m\u001b[0m\u001b[1;33m\u001b[0m\u001b[0m\n\u001b[0;32m      5\u001b[0m \u001b[0mprint\u001b[0m\u001b[1;33m(\u001b[0m\u001b[1;34m'문자 .의 위치는'\u001b[0m\u001b[1;33m,\u001b[0m \u001b[0ma\u001b[0m\u001b[1;33m.\u001b[0m\u001b[0mindex\u001b[0m\u001b[1;33m(\u001b[0m\u001b[1;34m'.'\u001b[0m\u001b[1;33m)\u001b[0m\u001b[1;33m)\u001b[0m\u001b[1;33m\u001b[0m\u001b[1;33m\u001b[0m\u001b[0m\n\u001b[1;32m----> 6\u001b[1;33m \u001b[0mprint\u001b[0m\u001b[1;33m(\u001b[0m\u001b[1;34m'문자 x의 위치는'\u001b[0m\u001b[1;33m,\u001b[0m \u001b[0ma\u001b[0m\u001b[1;33m.\u001b[0m\u001b[0mindex\u001b[0m\u001b[1;33m(\u001b[0m\u001b[1;34m'x'\u001b[0m\u001b[1;33m)\u001b[0m\u001b[1;33m)\u001b[0m \u001b[1;31m# 찾는 문자가 없을 경우 -1 을 리턴\u001b[0m\u001b[1;33m\u001b[0m\u001b[1;33m\u001b[0m\u001b[0m\n\u001b[0m",
      "\u001b[1;31mValueError\u001b[0m: substring not found"
     ]
    }
   ],
   "source": [
    "# 3. index() : 특정문자의 위치를 리턴\n",
    "a = 'Python is a simple program languege.'\n",
    "print('문자 a의 위치는', a.index('a')) # 문자열에서 특정문자의 맨 처음에 위치하는 값을 리턴\n",
    "print('문자 a의 위치는', a.index('l'))\n",
    "print('문자 .의 위치는', a.index('.'))\n",
    "# print('문자 x의 위치는', a.index('x')) # 찾는 문자가 없을 경우 오류"
   ]
  },
  {
   "cell_type": "code",
   "execution_count": 52,
   "metadata": {},
   "outputs": [
    {
     "name": "stdout",
     "output_type": "stream",
     "text": [
      "a,b,c,d\n",
      "abcd\n",
      "a,b,c,d\n",
      "a,b,c,d\n",
      "h#~#e#~#l#~#l#~#o\n",
      "hello ^,^ my name^,^ is \n"
     ]
    }
   ],
   "source": [
    "# 4. join() : \n",
    "print('a,b,c,d')\n",
    "print('abcd')\n",
    "a = ','\n",
    "print(a.join('abcd'))\n",
    "print(\",\".join('abcd'))\n",
    "print(\"#~#\".join('hello'))\n",
    "print(\"^,^\".join(['hello ',' my name',' is ']))"
   ]
  },
  {
   "cell_type": "code",
   "execution_count": 61,
   "metadata": {},
   "outputs": [],
   "source": [
    "a.join?"
   ]
  },
  {
   "cell_type": "code",
   "execution_count": 31,
   "metadata": {},
   "outputs": [
    {
     "name": "stdout",
     "output_type": "stream",
     "text": [
      "HI\n"
     ]
    }
   ],
   "source": [
    "# 5. upper(), lower()\n",
    "a = 'hi'\n",
    "print(a.upper())"
   ]
  },
  {
   "cell_type": "code",
   "execution_count": 47,
   "metadata": {},
   "outputs": [
    {
     "name": "stdout",
     "output_type": "stream",
     "text": [
      "HI \n",
      "hi\n",
      "hi\n",
      "hi\n"
     ]
    }
   ],
   "source": [
    "# 6. lstrip(), rstrip(), strip()\n",
    "a = '        HI '\n",
    "print(a.lstrip())\n",
    "b = 'hi               '\n",
    "print(b.rstrip())\n",
    "c = '         hi          '\n",
    "print(c.lstrip().rstrip())\n",
    "print(c.strip())"
   ]
  },
  {
   "cell_type": "code",
   "execution_count": 62,
   "metadata": {},
   "outputs": [
    {
     "name": "stdout",
     "output_type": "stream",
     "text": [
      "Python is a simple program language.\n",
      "Python #s a s#mple program language.\n",
      "Python is a s#mple program language.\n",
      "Python is @ s#mple progr@m language.\n",
      "Java is @ s#mple progr@m language.\n"
     ]
    }
   ],
   "source": [
    "# 7. replace() : 문자열 바꾸기\n",
    "a = 'pithon is a simple program language.'\n",
    "# pithon->Python 으로 변경\n",
    "a = a.replace('pithon','Python')\n",
    "print(a)\n",
    "\n",
    "a = a.replace('i','#',-1) # count =-1은 전부를 변경하는 옵션\n",
    "print(a)\n",
    "a = a.replace('#','i',1) # count =-1은 한개를 변경하는 옵션\n",
    "print(a)\n",
    "a = a.replace('a','@',2) # count =-1은 한개를 변경하는 옵션\n",
    "print(a)\n",
    "\n",
    "a = a.replace('Python','Java')\n",
    "print(a)"
   ]
  },
  {
   "cell_type": "code",
   "execution_count": 67,
   "metadata": {},
   "outputs": [
    {
     "name": "stdout",
     "output_type": "stream",
     "text": [
      "['pithon', 'is', 'a', 'simple', 'program', 'language.']\n",
      "['pithon', 'is', 'a', 'simple', 'program', 'language.']\n",
      "['pithon', 'is', 'a simple program language.']\n",
      "['a', 'b', 'c', 'd']\n",
      "['a', 'b', 'c', 'd']\n"
     ]
    }
   ],
   "source": [
    "# 8. split : 문자열 나누기\n",
    "# a.split?\n",
    "a = 'pithon is a simple program language.'\n",
    "# 공백기준(whitespace) 기준으로 나누기\n",
    "print(a.split())\n",
    "print(a.split(None))\n",
    "print(a.split(None,2)) # 2개만 분리하기\n",
    "\n",
    "# 컴마(,) 기준으로 분리\n",
    "a ='a,b,c,d'\n",
    "print(a.split(','))\n",
    "# 콜론(:)기준으로 ㄹ분리\n",
    "a ='a:b:c:d'\n",
    "print(a.split(':'))"
   ]
  },
  {
   "cell_type": "code",
   "execution_count": 76,
   "metadata": {},
   "outputs": [
    {
     "name": "stdout",
     "output_type": "stream",
     "text": [
      "2\n"
     ]
    }
   ],
   "source": [
    "# 1. 주민등록번호에서 성별을 나타내는 숫자 출력하기\n",
    "a ='881120-2234567'\n",
    "a = a[8:9]\n",
    "print(a)"
   ]
  },
  {
   "cell_type": "code",
   "execution_count": 74,
   "metadata": {},
   "outputs": [
    {
     "name": "stdout",
     "output_type": "stream",
     "text": [
      "12\n"
     ]
    }
   ],
   "source": [
    "# 2 문자열 찾기\n",
    "# 변수 a에서 short가 시작된 위치를 출력하기\n",
    "a = 'Life is too short, you need python'\n",
    "a=a.find(\"short\")\n",
    "print(a)"
   ]
  },
  {
   "cell_type": "code",
   "execution_count": 6,
   "metadata": {},
   "outputs": [
    {
     "name": "stdout",
     "output_type": "stream",
     "text": [
      "a:b:c:d\n",
      "['a', 'b', 'c', 'd']\n",
      "a#b#c#d\n",
      "a#b#c#d\n"
     ]
    }
   ],
   "source": [
    "# 3. 문자열 바꾸기 \n",
    "# a:b:c:d -> a#b#c#d로 변경\n",
    "a = \"a:b:c:d\"\n",
    "print(a)\n",
    "\n",
    "print(a.split(':'))\n",
    "print(\"#\".join(a.split(':')))\n",
    "a = a.replace(\":\",\"#\",-1)\n",
    "print(a)"
   ]
  },
  {
   "cell_type": "code",
   "execution_count": 88,
   "metadata": {},
   "outputs": [
    {
     "name": "stdout",
     "output_type": "stream",
     "text": [
      "104020000\n"
     ]
    }
   ],
   "source": [
    "# 4. 삼성 주가 89,000이고 LG주가가 751,000원일 경우\n",
    "# 특정 사람이 삼성주식 1000주와 LG주식 20주를 가지고 있을 경우\n",
    "# 주식의 총액을 계산하기\n",
    "# 변수명은 samsung, lg, total로 하기\n",
    "samsung = 89000\n",
    "lg = 751000\n",
    "total = (samsung*1000)+(lg*20)\n",
    "print(total)\n",
    "\n"
   ]
  },
  {
   "cell_type": "code",
   "execution_count": 87,
   "metadata": {},
   "outputs": [
    {
     "name": "stdout",
     "output_type": "stream",
     "text": [
      "5952000.0\n"
     ]
    }
   ],
   "source": [
    "# 5. 4번문제에서 삼성과 LG의 주가각 각각 5%, 10%하락한 경우에 손실액 구하기\n",
    "loss = total-((samsung*1000*0.95)+(lg*20*0.9))\n",
    "print(loss)"
   ]
  },
  {
   "cell_type": "code",
   "execution_count": 81,
   "metadata": {},
   "outputs": [
    {
     "name": "stdout",
     "output_type": "stream",
     "text": [
      "python\n",
      "python\n",
      "python\n",
      "python\n",
      "python\n",
      "python\n",
      "python\n",
      "python\n",
      "python\n",
      "python\n",
      "\n"
     ]
    }
   ],
   "source": [
    "# 6. Python이란 문자를 10번 출력하기, 단 ,각 줄을 바꿔서 출력(10줄)\n",
    "p = \"python\"+\"\\n\"\n",
    "print(p*10)\n"
   ]
  },
  {
   "cell_type": "code",
   "execution_count": 68,
   "metadata": {},
   "outputs": [
    {
     "name": "stdout",
     "output_type": "stream",
     "text": [
      "hi python\n"
     ]
    }
   ],
   "source": [
    "# 7. a라는 변수에 'hello python'일 경우 a값을 'hi python'으로 변경하기\n",
    "a = 'hello python'\n",
    "a =a.replace(\"hello\",\"hi\")\n",
    "print(a)"
   ]
  },
  {
   "cell_type": "code",
   "execution_count": 91,
   "metadata": {},
   "outputs": [
    {
     "name": "stdout",
     "output_type": "stream",
     "text": [
      "bcdefa\n",
      "Bcdefa\n"
     ]
    }
   ],
   "source": [
    "# 8. x라는 변수에 'abcdef'일 경우 x의 값을 'bcdefa'로 변경하기\n",
    "x = 'abcdef'\n",
    "x = x[1:]+x[:1]\n",
    "print(x)\n",
    "print(x.capitalize())"
   ]
  },
  {
   "cell_type": "code",
   "execution_count": 90,
   "metadata": {},
   "outputs": [],
   "source": [
    "a.capitalize?"
   ]
  }
 ],
 "metadata": {
  "kernelspec": {
   "display_name": "Python 3",
   "language": "python",
   "name": "python3"
  },
  "language_info": {
   "codemirror_mode": {
    "name": "ipython",
    "version": 3
   },
   "file_extension": ".py",
   "mimetype": "text/x-python",
   "name": "python",
   "nbconvert_exporter": "python",
   "pygments_lexer": "ipython3",
   "version": "3.7.6"
  }
 },
 "nbformat": 4,
 "nbformat_minor": 4
}
