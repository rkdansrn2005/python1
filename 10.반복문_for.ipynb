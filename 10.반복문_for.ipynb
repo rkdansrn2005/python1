{
 "cells": [
  {
   "cell_type": "markdown",
   "metadata": {},
   "source": [
    "### for문\n",
    "\n",
    "1. 기본구조\n",
    "\n",
    ">for 변수 in [list/tuple/string]:<br>\n",
    "    수행할 문장1......<br>\n",
    "    수행할 문장2......\n",
    "<img src='./images/09.반복문_for_01.png' width = 300 height =200/>\n",
    "<img src='./images/09.반복문_for_02.png' width = 300 height =200/>"
   ]
  },
  {
   "cell_type": "markdown",
   "metadata": {},
   "source": [
    "#### for문과 range()함수\n",
    "\n",
    "<code>range()함수</code>는 숫자 리스트를 자동으로 만들어주는 함수\n",
    "\n",
    "* range(stop) : 0~stop-1까지의 숫자를 자동으로 생성(1씩증가)\n",
    "* range(start, stop) : start~stop-1까지의 숫자를 자동으로 생성(1씩증가)\n",
    "* range(start,stop, step) : start~stop-1까지의 숫자를 자동으로 생성(step씩 증가)"
   ]
  },
  {
   "cell_type": "code",
   "execution_count": 1,
   "metadata": {},
   "outputs": [
    {
     "name": "stdout",
     "output_type": "stream",
     "text": [
      "range(0, 10)\n",
      "<class 'range'>\n",
      "range(5, 10)\n",
      "range(1, 100, 5)\n",
      "0, 1, 2, 3, 4, 5, 6, 7, 8, 9, \n",
      "5, 6, 7, 8, 9, \n",
      "1, 6, 11, 16, 21, 26, 31, 36, 41, 46, 51, 56, 61, 66, 71, 76, 81, 86, 91, 96, \n",
      "1부터 1000까지 3의 배수의 합은 166833 입니다\n"
     ]
    }
   ],
   "source": [
    "# 1. for(1)\n",
    "# 1~10까지의 합\n",
    "sum =1+2+3+4+5+6+7+8+9+10\n",
    "print(sum)\n",
    "\n",
    "# range() 함수\n",
    "a = range(10)\n",
    "print(a)\n",
    "print(type(a))\n",
    "\n",
    "b = range(5,10)\n",
    "print(b)\n",
    "\n",
    "c = range(1,100,5)\n",
    "print(c)\n",
    "\n",
    "for i in a:\n",
    "    print(i,end=\", \")\n",
    "print()    \n",
    "for i in b:\n",
    "    print(i,end=\", \")\n",
    "print()\n",
    "for i in c:\n",
    "    print(i,end=\", \")\n",
    "print()\n",
    "sum = 0\n",
    "for i in range(0,1001,3):\n",
    "    sum += i\n",
    "print(f\"1부터 1000까지 3의 배수의 합은 {sum} 입니다\")"
   ]
  },
  {
   "cell_type": "code",
   "execution_count": 15,
   "metadata": {},
   "outputs": [
    {
     "name": "stdout",
     "output_type": "stream",
     "text": [
      "숫자를 입력하세요 ==>1000\n",
      "1~1000까지 5의 배수의 합은 99500입니다.\n"
     ]
    }
   ],
   "source": [
    "# input()함수 : 외부(키포드에서 값을 입력한 후 입력값을 리턴하는 함수)\n",
    "# input()함수는 오직 문자열만 리턴해준다. 숫자로 입력해도 문자열로 간주한다.\n",
    "# 리턴된 값을 숫자로 사용하려면 숫자로 변환해주어야 하는 int('String 변수')를 해주어야 한다.\n",
    "value = input(\"숫자를 입력하세요 ==>\")\n",
    "value = int(value)\n",
    "sum = 0\n",
    "for i in range(0,value+1,5):\n",
    "    sum+=i\n",
    "print(f\"1~{value}까지 5의 배수의 합은 {sum}입니다.\")    "
   ]
  },
  {
   "cell_type": "code",
   "execution_count": 37,
   "metadata": {},
   "outputs": [
    {
     "name": "stdout",
     "output_type": "stream",
     "text": [
      "java의 길이는 4자 입니다\n",
      "javascript의 길이는 10자 입니다\n",
      "r의 길이는 1자 입니다\n",
      "window의 길이는 6자 입니다\n",
      "python의 길이는 6자 입니다\n",
      "\n",
      "javascript의 길이는 10자 입니다\n",
      "window의 길이는 6자 입니다\n",
      "python의 길이는 6자 입니다\n",
      "['javascript', 'window', 'python']\n"
     ]
    }
   ],
   "source": [
    "# for문과 인덱싱, 슬라이싱\n",
    "\n",
    "words =['java','javascript','r','window','python']\n",
    "\n",
    "for word in words:\n",
    "    print(word+f'의 길이는 {len(word)}자 입니다')\n",
    "print()\n",
    "\n",
    "# 단어의 길이가 6자리 이상인 단어만 출력하세요\n",
    "for word in words[:]:\n",
    "    if len(word)>=6:\n",
    "        print(word+f'의 길이는 {len(word)}자 입니다')\n",
    "\n",
    "sixmorewords =[]\n",
    "for word in words[:]:\n",
    "    \n",
    "    if len(word)>=6:\n",
    "        sixmorewords.append(word)\n",
    "print(sixmorewords)"
   ]
  },
  {
   "cell_type": "code",
   "execution_count": 51,
   "metadata": {},
   "outputs": [
    {
     "name": "stdout",
     "output_type": "stream",
     "text": [
      "0 java\n",
      "1 javascript\n",
      "2 r\n",
      "3 window\n",
      "4 python\n",
      "0 안 1 녕 2 하 3 세 4 요 8   9 파 10 이 11 썬 \n",
      "[5, 6, 7, 8, 9]\n",
      "[0, 3, 6, 9]\n",
      "[-10, -40, -70]\n"
     ]
    }
   ],
   "source": [
    "# len()와 range()를 동시에 사용하기 \n",
    "words =['java','javascript','r','window','python']\n",
    "for i in range(len(words)):\n",
    "    print(i, words[i])\n",
    "    \n",
    "x = \"안녕하세요!!! 파이썬!!!!\"\n",
    "\n",
    "for i in range(len(x)):\n",
    "    if i<5:\n",
    "        print(i,x[i], end=\" \")\n",
    "    elif 7<i<12:\n",
    "        print(i, x[i], end=\" \")\n",
    "print()        \n",
    "# for i in range(len(x)):\n",
    "#     if x[i] != '!':\n",
    "#         print(x[i])\n",
    "        \n",
    "# range()함수는 임시 list자료를 생성할 때 종종 사용된다.\n",
    "print(list(range(5,10)))\n",
    "print(list(range(0,10,3)))\n",
    "print(list(range(-10,-100,-30)))"
   ]
  },
  {
   "cell_type": "code",
   "execution_count": 59,
   "metadata": {},
   "outputs": [
    {
     "name": "stdout",
     "output_type": "stream",
     "text": [
      "단을 입력하기 ==>5\n",
      "5 X 1 = 5\n",
      "5 X 2 = 10\n",
      "5 X 3 = 15\n",
      "5 X 4 = 20\n",
      "5 X 5 = 25\n",
      "5 X 6 = 30\n",
      "5 X 7 = 35\n",
      "5 X 8 = 40\n",
      "5 X 9 = 45\n"
     ]
    }
   ],
   "source": [
    "# 실습\n",
    "# for 문을 이용한 구구단 만들기\n",
    "# 사용자가 특정 구구단중 특정의 단을 입력 받아서 해당되는 단을 출력하기\n",
    "\n",
    "gugudan = input(\"단을 입력하기 ==>\")\n",
    "gugudan = int(gugudan)\n",
    "for i in range(1,10):\n",
    "    print(f\"{gugudan} X {i} = {gugudan*i}\")\n"
   ]
  },
  {
   "cell_type": "code",
   "execution_count": 61,
   "metadata": {},
   "outputs": [
    {
     "name": "stdout",
     "output_type": "stream",
     "text": [
      "중첩 for문 (0, 0) 번째 실행  ,중첩 for문 (0, 1) 번째 실행  ,중첩 for문 (0, 2) 번째 실행  ,중첩 for문 (0, 3) 번째 실행  ,중첩 for문 (0, 4) 번째 실행  ,중첩 for문 (0, 5) 번째 실행  ,중첩 for문 (0, 6) 번째 실행  ,중첩 for문 (0, 7) 번째 실행  ,중첩 for문 (0, 8) 번째 실행  ,중첩 for문 (0, 9) 번째 실행  ,중첩 for문 (1, 0) 번째 실행  ,중첩 for문 (1, 1) 번째 실행  ,중첩 for문 (1, 2) 번째 실행  ,중첩 for문 (1, 3) 번째 실행  ,중첩 for문 (1, 4) 번째 실행  ,중첩 for문 (1, 5) 번째 실행  ,중첩 for문 (1, 6) 번째 실행  ,중첩 for문 (1, 7) 번째 실행  ,중첩 for문 (1, 8) 번째 실행  ,중첩 for문 (1, 9) 번째 실행  ,"
     ]
    }
   ],
   "source": [
    "# 중첩 for문 : for문안에 for문이 있는 문장\n",
    "for i in range(2):\n",
    "    for j in range(10):\n",
    "        print('중첩 for문 (%d, %d) 번째 실행 ' % (i,j), end =\" ,\")"
   ]
  },
  {
   "cell_type": "code",
   "execution_count": 64,
   "metadata": {},
   "outputs": [
    {
     "name": "stdout",
     "output_type": "stream",
     "text": [
      "___________ 2 단__________\n",
      "2 X 2 = 4\n",
      "2 X 3 = 6\n",
      "2 X 4 = 8\n",
      "2 X 5 = 10\n",
      "2 X 6 = 12\n",
      "2 X 7 = 14\n",
      "2 X 8 = 16\n",
      "2 X 9 = 18\n",
      "___________ 3 단__________\n",
      "3 X 2 = 6\n",
      "3 X 3 = 9\n",
      "3 X 4 = 12\n",
      "3 X 5 = 15\n",
      "3 X 6 = 18\n",
      "3 X 7 = 21\n",
      "3 X 8 = 24\n",
      "3 X 9 = 27\n",
      "___________ 4 단__________\n",
      "4 X 2 = 8\n",
      "4 X 3 = 12\n",
      "4 X 4 = 16\n",
      "4 X 5 = 20\n",
      "4 X 6 = 24\n",
      "4 X 7 = 28\n",
      "4 X 8 = 32\n",
      "4 X 9 = 36\n",
      "___________ 5 단__________\n",
      "5 X 2 = 10\n",
      "5 X 3 = 15\n",
      "5 X 4 = 20\n",
      "5 X 5 = 25\n",
      "5 X 6 = 30\n",
      "5 X 7 = 35\n",
      "5 X 8 = 40\n",
      "5 X 9 = 45\n",
      "___________ 6 단__________\n",
      "6 X 2 = 12\n",
      "6 X 3 = 18\n",
      "6 X 4 = 24\n",
      "6 X 5 = 30\n",
      "6 X 6 = 36\n",
      "6 X 7 = 42\n",
      "6 X 8 = 48\n",
      "6 X 9 = 54\n",
      "___________ 7 단__________\n",
      "7 X 2 = 14\n",
      "7 X 3 = 21\n",
      "7 X 4 = 28\n",
      "7 X 5 = 35\n",
      "7 X 6 = 42\n",
      "7 X 7 = 49\n",
      "7 X 8 = 56\n",
      "7 X 9 = 63\n",
      "___________ 8 단__________\n",
      "8 X 2 = 16\n",
      "8 X 3 = 24\n",
      "8 X 4 = 32\n",
      "8 X 5 = 40\n",
      "8 X 6 = 48\n",
      "8 X 7 = 56\n",
      "8 X 8 = 64\n",
      "8 X 9 = 72\n",
      "___________ 9 단__________\n",
      "9 X 2 = 18\n",
      "9 X 3 = 27\n",
      "9 X 4 = 36\n",
      "9 X 5 = 45\n",
      "9 X 6 = 54\n",
      "9 X 7 = 63\n",
      "9 X 8 = 72\n",
      "9 X 9 = 81\n"
     ]
    }
   ],
   "source": [
    "# 중첩 for 문을 이용한 구구단 출력\n",
    "\n",
    "for dan in range(2,10):\n",
    "    print(\"___________ %d 단__________\" % dan)\n",
    "    for i in range(2,10):\n",
    "         print(f\"{dan} X {i} = {dan*i}\")"
   ]
  },
  {
   "cell_type": "markdown",
   "metadata": {},
   "source": [
    "<img src =\"./images/09.반복문_for_ex01_구구단.PNG\"/>\n",
    "<img src =\"./images/09.반복문_for_ex02_마름모별.PNG\"/>"
   ]
  },
  {
   "cell_type": "code",
   "execution_count": 95,
   "metadata": {},
   "outputs": [
    {
     "name": "stdout",
     "output_type": "stream",
     "text": [
      "  #  2단   #  3단   #  4단   #  5단   #  6단   #  7단   #  8단   #  9단 \n",
      "2 X 1 = 2  3 X 1 = 3  4 X 1 = 4  5 X 1 = 5  6 X 1 = 6  7 X 1 = 7  8 X 1 = 8  9 X 1 = 9  \n",
      "2 X 2 = 4 3 X 2 = 6 4 X 2 = 8 5 X 2 = 10 6 X 2 = 12 7 X 2 = 14 8 X 2 = 16 9 X 2 = 18 \n",
      "2 X 3 = 6 3 X 3 = 9 4 X 3 = 12 5 X 3 = 15 6 X 3 = 18 7 X 3 = 21 8 X 3 = 24 9 X 3 = 27 \n",
      "2 X 4 = 8 3 X 4 = 12 4 X 4 = 16 5 X 4 = 20 6 X 4 = 24 7 X 4 = 28 8 X 4 = 32 9 X 4 = 36 \n",
      "2 X 5 = 10 3 X 5 = 15 4 X 5 = 20 5 X 5 = 25 6 X 5 = 30 7 X 5 = 35 8 X 5 = 40 9 X 5 = 45 \n",
      "2 X 6 = 12 3 X 6 = 18 4 X 6 = 24 5 X 6 = 30 6 X 6 = 36 7 X 6 = 42 8 X 6 = 48 9 X 6 = 54 \n",
      "2 X 7 = 14 3 X 7 = 21 4 X 7 = 28 5 X 7 = 35 6 X 7 = 42 7 X 7 = 49 8 X 7 = 56 9 X 7 = 63 \n",
      "2 X 8 = 16 3 X 8 = 24 4 X 8 = 32 5 X 8 = 40 6 X 8 = 48 7 X 8 = 56 8 X 8 = 64 9 X 8 = 72 \n",
      "2 X 9 = 18 3 X 9 = 27 4 X 9 = 36 5 X 9 = 45 6 X 9 = 54 7 X 9 = 63 8 X 9 = 72 9 X 9 = 81 "
     ]
    }
   ],
   "source": [
    "for i in range(2,10):\n",
    "    print(f\"  #  {i}단\", end =\" \")    \n",
    "for a in range(1,10):\n",
    "    print()\n",
    "    for dan in range(2,10):\n",
    "        if a ==1:\n",
    "            print(f\"{dan} X {a} = {dan*a}\", end = \"  \")\n",
    "        else:\n",
    "            print(f\"{dan} X {a} = {dan*a}\", end = \" \")\n",
    "\n"
   ]
  },
  {
   "cell_type": "markdown",
   "metadata": {},
   "source": [
    "### list안에 for문 사용\n",
    "\n",
    "1. list안에 1개의 for문\n",
    ">[표션식 for 항목 in 리스트/튜플/문자열]\n",
    "\n",
    "2. list 안에 여러개의 for문\n",
    "> [표현식 for 항목 in 리스트/튜플/문자열 if 조건1<br>\n",
    "          for 변수 in 리스트/튜플/문자열 if 조건2<br>\n",
    "          ..... for 변수 in 리스트/튜플/문자열 if 조건n]"
   ]
  },
  {
   "cell_type": "code",
   "execution_count": 101,
   "metadata": {},
   "outputs": [
    {
     "name": "stdout",
     "output_type": "stream",
     "text": [
      "[1, 2, 3, 4, 5, 1, 2, 3, 4, 5, 1, 2, 3, 4, 5]\n",
      "[3, 6, 9, 12, 15]\n",
      "[3, 6, 9, 12, 15]\n",
      "[6, 12]\n"
     ]
    }
   ],
   "source": [
    "# 1. list안에 1개의 for문\n",
    "\n",
    "nums = [1,2,3,4,5] # 3,6,9,12,15로 바꾸고 싶다. 3의 배수 만들기\n",
    "print(nums*3)\n",
    "result =[]\n",
    "for num in nums:\n",
    "    result.append(num*3)\n",
    "print(result) \n",
    "\n",
    "# 1-1. list안에 조건문이 없는 for문\n",
    "result = [num*3 for num in nums] \n",
    "print(result)\n",
    "\n",
    "# 1-2. list안에 조건문이 있는 for문 : 짝수만 생성\n",
    "result=[]\n",
    "for num in nums:\n",
    "    if(num%2==0):\n",
    "        result.append(num*3)\n",
    "\n",
    "\n",
    "result = [num*3 for num in nums if num%2==0] \n",
    "print(result)"
   ]
  },
  {
   "cell_type": "code",
   "execution_count": 107,
   "metadata": {},
   "outputs": [
    {
     "name": "stdout",
     "output_type": "stream",
     "text": [
      "[2, 4, 6, 8, 10, 12, 14, 16, 18, 3, 6, 9, 12, 15, 18, 21, 24, 27, 4, 8, 12, 16, 20, 24, 28, 32, 36, 5, 10, 15, 20, 25, 30, 35, 40, 45, 6, 12, 18, 24, 30, 36, 42, 48, 54, 7, 14, 21, 28, 35, 42, 49, 56, 63, 8, 16, 24, 32, 40, 48, 56, 64, 72, 9, 18, 27, 36, 45, 54, 63, 72, 81]\n",
      "[4, 8, 12, 16, 8, 16, 24, 32, 12, 24, 36, 48, 16, 32, 48, 64]\n"
     ]
    }
   ],
   "source": [
    "# 2. list 안에 여러개의 for문(중첩for문)\n",
    "# 구구단의 결과를 한개의 list에 저장하기\n",
    "\n",
    "# 1)리스트 안에 조건문이 없는 for문\n",
    "result= [\n",
    "    i*j for i in range(2,10)\n",
    "        for j in range(1,10)\n",
    "    \n",
    "]\n",
    "print(result)\n",
    "\n",
    "# 2) list 안에 조건문이 잇는 for문\n",
    "result= [\n",
    "    i*j for i in range(2,10) if i %2==0\n",
    "        for j in range(1,10) if j %2==0\n",
    "        \n",
    "]\n",
    "print(result)"
   ]
  },
  {
   "cell_type": "markdown",
   "metadata": {},
   "source": [
    "### 연습문제"
   ]
  },
  {
   "cell_type": "code",
   "execution_count": 159,
   "metadata": {},
   "outputs": [
    {
     "name": "stdout",
     "output_type": "stream",
     "text": [
      "1 2 3 4 5 6 7 8 9 10 11 12 13 14 15 16 17 18 19 20 21 22 23 24 25 26 27 28 29 30 31 32 33 34 35 36 37 38 39 40 41 42 43 44 45 46 47 48 49 50 51 52 53 54 55 56 57 58 59 60 61 62 63 64 65 66 67 68 69 70 71 72 73 74 75 76 77 78 79 80 81 82 83 84 85 86 87 88 89 90 91 92 93 94 95 96 97 98 99 \n",
      "[1, 2, 3, 4, 5, 6, 7, 8, 9, 10, 11, 12, 13, 14, 15, 16, 17, 18, 19, 20, 21, 22, 23, 24, 25, 26, 27, 28, 29, 30, 31, 32, 33, 34, 35, 36, 37, 38, 39, 40, 41, 42, 43, 44, 45, 46, 47, 48, 49, 50, 51, 52, 53, 54, 55, 56, 57, 58, 59, 60, 61, 62, 63, 64, 65, 66, 67, 68, 69, 70, 71, 72, 73, 74, 75, 76, 77, 78, 79, 80, 81, 82, 83, 84, 85, 86, 87, 88, 89, 90, 91, 92, 93, 94, 95, 96, 97, 98, 99, 100]\n"
     ]
    }
   ],
   "source": [
    "# 문제1. 1~100까지 숫자를 for문을 이용하여 출력\n",
    "# print(i, end=\" \")\n",
    "for i in range(1,100): print(i,end=\" \")\n",
    "print()\n",
    "#list안의 for문을 이용하여 같게\n",
    "result = [\n",
    "    i for i in range(1,101)    \n",
    "]\n",
    "print(result)"
   ]
  },
  {
   "cell_type": "code",
   "execution_count": null,
   "metadata": {},
   "outputs": [],
   "source": [
    "# 문제 2 , 1~1000까지의 5의 배수를"
   ]
  },
  {
   "cell_type": "code",
   "execution_count": 118,
   "metadata": {},
   "outputs": [
    {
     "name": "stdout",
     "output_type": "stream",
     "text": [
      "학급의 평균 = 79.0\n"
     ]
    }
   ],
   "source": [
    "# 문제3 학급의 평균점수 구하기\n",
    "# 결과 79.0\n",
    "\n",
    "a= [70,60,55,75,95,90,80,80,85,100]\n",
    "avg = 0\n",
    "for a1 in a:\n",
    "    avg += a1\n",
    "    \n",
    "avg = avg/len(a)\n",
    "\n",
    "\n",
    "print(\"학급의 평균 =\",avg)\n"
   ]
  },
  {
   "cell_type": "code",
   "execution_count": 158,
   "metadata": {},
   "outputs": [
    {
     "name": "stdout",
     "output_type": "stream",
     "text": [
      "{'A': 3, 'B': 3, 'O': 3, 'AB': 3}\n"
     ]
    }
   ],
   "source": [
    "# 문제4, 혈액형별 학생수의 합계\n",
    "# ['A', 'B', 'A', 'O', 'AB', 'AB', 'O', 'A', 'B', 'O', 'B', 'AB']\n",
    "# 결과 {'A':3, 'B':3,'O':3, 'AB':3 }\n",
    "# kk[key] = fsdfsd\n",
    "kk ={}\n",
    "bb = ['A', 'B', 'A', 'O', 'AB', 'AB', 'O', 'A', 'B', 'O', 'B', 'AB']\n",
    "cc = ['A','B','O','AB']\n",
    "for c in cc:\n",
    "    kk[c] = bb.count(c)\n",
    "\n",
    "# for b in bb:\n",
    "#     if b in kk:\n",
    "#         kk[b]+=1\n",
    "#     else:\n",
    "#         kk[b] =1\n",
    "    \n",
    "print(kk) "
   ]
  },
  {
   "cell_type": "code",
   "execution_count": 121,
   "metadata": {},
   "outputs": [
    {
     "name": "stdout",
     "output_type": "stream",
     "text": [
      "[2, 6, 10]\n",
      "[2, 6, 10]\n"
     ]
    }
   ],
   "source": [
    "# 문제5. 주어진 코드를 리스트내포for문으로 변환하기\n",
    "numbers = [1, 2, 3, 4, 5]\n",
    "result = []\n",
    "for n in numbers:\n",
    "    if n % 2 == 1:\n",
    "        result.append(n*2)\n",
    "print(result)\n",
    "\n",
    "result = []\n",
    "result =[\n",
    "    n*2 for n in numbers if n%2==1\n",
    "]\n",
    "print(result)"
   ]
  },
  {
   "cell_type": "code",
   "execution_count": 166,
   "metadata": {},
   "outputs": [
    {
     "name": "stdout",
     "output_type": "stream",
     "text": [
      "['a', 'e', 'i', 'o', 'h']\n",
      "Lf s t shrt, y nd pythn\n"
     ]
    },
    {
     "data": {
      "text/plain": [
       "'Lf s t srt, y nd pytn'"
      ]
     },
     "execution_count": 166,
     "metadata": {},
     "output_type": "execute_result"
    }
   ],
   "source": [
    "# 문제6. 아래문장에서 모음('aeioh')을 제거\n",
    "# Life is too short, you need python\n",
    "# 결과 : \"Lf s t shrt, y nd pythn\"\n",
    "ss = 'aeioh'\n",
    "rm = ['a','e','i','o','u']\n",
    "kkk = [kk for kk in ss ]\n",
    "print(kkk)\n",
    "content = \"Life is too short, you need python\"\n",
    "for r in rm:\n",
    "    content = content.replace(r,\"\", content.count(r))\n",
    "print(content)\n",
    "\n",
    "\"\".join([a for a in content if a not in ss])"
   ]
  },
  {
   "cell_type": "code",
   "execution_count": null,
   "metadata": {},
   "outputs": [],
   "source": []
  },
  {
   "cell_type": "code",
   "execution_count": null,
   "metadata": {},
   "outputs": [],
   "source": []
  }
 ],
 "metadata": {
  "kernelspec": {
   "display_name": "Python 3",
   "language": "python",
   "name": "python3"
  },
  "language_info": {
   "codemirror_mode": {
    "name": "ipython",
    "version": 3
   },
   "file_extension": ".py",
   "mimetype": "text/x-python",
   "name": "python",
   "nbconvert_exporter": "python",
   "pygments_lexer": "ipython3",
   "version": "3.7.6"
  }
 },
 "nbformat": 4,
 "nbformat_minor": 4
}
